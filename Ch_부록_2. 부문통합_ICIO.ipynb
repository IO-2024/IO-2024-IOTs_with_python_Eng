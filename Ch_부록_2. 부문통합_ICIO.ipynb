{
  "nbformat": 4,
  "nbformat_minor": 0,
  "metadata": {
    "colab": {
      "provenance": [],
      "include_colab_link": true
    },
    "kernelspec": {
      "name": "python3",
      "display_name": "Python 3"
    },
    "language_info": {
      "name": "python"
    }
  },
  "cells": [
    {
      "cell_type": "markdown",
      "metadata": {
        "id": "view-in-github",
        "colab_type": "text"
      },
      "source": [
        "<a href=\"https://colab.research.google.com/github/Muraka64/IOTs_with_python/blob/main/Ch_%EB%B6%80%EB%A1%9D_2.%20%EB%B6%80%EB%AC%B8%ED%86%B5%ED%95%A9_ICIO.ipynb\" target=\"_parent\"><img src=\"https://colab.research.google.com/assets/colab-badge.svg\" alt=\"Open In Colab\"/></a>"
      ]
    },
    {
      "cell_type": "code",
      "source": [
        "import numpy as np   # Numpy import\n",
        "import pandas as pd  # Pandas import"
      ],
      "metadata": {
        "id": "TR7JvW8CxBFT"
      },
      "execution_count": 119,
      "outputs": []
    },
    {
      "cell_type": "code",
      "source": [
        "np.set_printoptions(precision=3,suppress=True) # 결과를 소수 3자리까지만 보여주는 옵션"
      ],
      "metadata": {
        "id": "2l9tk4XA4Nkc"
      },
      "execution_count": 120,
      "outputs": []
    },
    {
      "cell_type": "code",
      "source": [
        "# from google.colab import drive\n",
        "# drive.mount('/content/drive')"
      ],
      "metadata": {
        "id": "UUugbbcO-CMK"
      },
      "execution_count": 121,
      "outputs": []
    },
    {
      "cell_type": "code",
      "source": [
        "# icio =pd.read_csv('/content/drive/MyDrive/ICIO/ICIO2021_2018.csv')"
      ],
      "metadata": {
        "id": "dH4scTnJ9Wll"
      },
      "execution_count": 122,
      "outputs": []
    },
    {
      "cell_type": "markdown",
      "source": [
        "[ICIO_다운로드 사이트](https://www.oecd.org/sti/ind/inter-country-input-output-tables.htm)"
      ],
      "metadata": {
        "id": "OG0KVZvxdtqZ"
      }
    },
    {
      "cell_type": "code",
      "source": [
        "Icio = pd.read_csv('/content/2020.csv', low_memory = False)  # ICIO 불러오기"
      ],
      "metadata": {
        "id": "1tuN2LradEW4"
      },
      "execution_count": 123,
      "outputs": []
    },
    {
      "cell_type": "code",
      "source": [
        "Icio_1 = Icio.to_numpy()\n",
        "Icio_2=Icio_1[:,1:]\n",
        "Icio_2.shape"
      ],
      "metadata": {
        "id": "DhBtrP5M9vRR",
        "outputId": "b23ac1a3-8777-4016-df8e-cd548907fe69",
        "colab": {
          "base_uri": "https://localhost:8080/"
        }
      },
      "execution_count": 124,
      "outputs": [
        {
          "output_type": "execute_result",
          "data": {
            "text/plain": [
              "(3648, 4108)"
            ]
          },
          "metadata": {},
          "execution_count": 124
        }
      ]
    },
    {
      "cell_type": "markdown",
      "source": [
        "### 한국 1, 중국2, 미국3, ROW4"
      ],
      "metadata": {
        "id": "AvyOqU89gls6"
      }
    },
    {
      "cell_type": "code",
      "source": [
        "url_cdd = \"https://raw.githubusercontent.com/Muraka64/IOTs_with_python/main/data/cd_icio_f_new.csv\"  #코드매치 파일 불러오기\n",
        "Cd = pd.read_csv(url_cdd)\n",
        "Cd.head()"
      ],
      "metadata": {
        "id": "yXmH7e7troAC",
        "outputId": "14c0ab94-495c-4632-c4f2-5b45452d3960",
        "colab": {
          "base_uri": "https://localhost:8080/",
          "height": 206
        }
      },
      "execution_count": 125,
      "outputs": [
        {
          "output_type": "execute_result",
          "data": {
            "text/plain": [
              "         cons  old  new\n",
              "0  ARG_A01_02    1   10\n",
              "1     ARG_A03    2   10\n",
              "2  ARG_B05_06    3   11\n",
              "3  ARG_B07_08    4   11\n",
              "4     ARG_B09    5   11"
            ],
            "text/html": [
              "\n",
              "  <div id=\"df-81166808-d941-46c7-ab33-9579ec2f68db\" class=\"colab-df-container\">\n",
              "    <div>\n",
              "<style scoped>\n",
              "    .dataframe tbody tr th:only-of-type {\n",
              "        vertical-align: middle;\n",
              "    }\n",
              "\n",
              "    .dataframe tbody tr th {\n",
              "        vertical-align: top;\n",
              "    }\n",
              "\n",
              "    .dataframe thead th {\n",
              "        text-align: right;\n",
              "    }\n",
              "</style>\n",
              "<table border=\"1\" class=\"dataframe\">\n",
              "  <thead>\n",
              "    <tr style=\"text-align: right;\">\n",
              "      <th></th>\n",
              "      <th>cons</th>\n",
              "      <th>old</th>\n",
              "      <th>new</th>\n",
              "    </tr>\n",
              "  </thead>\n",
              "  <tbody>\n",
              "    <tr>\n",
              "      <th>0</th>\n",
              "      <td>ARG_A01_02</td>\n",
              "      <td>1</td>\n",
              "      <td>10</td>\n",
              "    </tr>\n",
              "    <tr>\n",
              "      <th>1</th>\n",
              "      <td>ARG_A03</td>\n",
              "      <td>2</td>\n",
              "      <td>10</td>\n",
              "    </tr>\n",
              "    <tr>\n",
              "      <th>2</th>\n",
              "      <td>ARG_B05_06</td>\n",
              "      <td>3</td>\n",
              "      <td>11</td>\n",
              "    </tr>\n",
              "    <tr>\n",
              "      <th>3</th>\n",
              "      <td>ARG_B07_08</td>\n",
              "      <td>4</td>\n",
              "      <td>11</td>\n",
              "    </tr>\n",
              "    <tr>\n",
              "      <th>4</th>\n",
              "      <td>ARG_B09</td>\n",
              "      <td>5</td>\n",
              "      <td>11</td>\n",
              "    </tr>\n",
              "  </tbody>\n",
              "</table>\n",
              "</div>\n",
              "    <div class=\"colab-df-buttons\">\n",
              "\n",
              "  <div class=\"colab-df-container\">\n",
              "    <button class=\"colab-df-convert\" onclick=\"convertToInteractive('df-81166808-d941-46c7-ab33-9579ec2f68db')\"\n",
              "            title=\"Convert this dataframe to an interactive table.\"\n",
              "            style=\"display:none;\">\n",
              "\n",
              "  <svg xmlns=\"http://www.w3.org/2000/svg\" height=\"24px\" viewBox=\"0 -960 960 960\">\n",
              "    <path d=\"M120-120v-720h720v720H120Zm60-500h600v-160H180v160Zm220 220h160v-160H400v160Zm0 220h160v-160H400v160ZM180-400h160v-160H180v160Zm440 0h160v-160H620v160ZM180-180h160v-160H180v160Zm440 0h160v-160H620v160Z\"/>\n",
              "  </svg>\n",
              "    </button>\n",
              "\n",
              "  <style>\n",
              "    .colab-df-container {\n",
              "      display:flex;\n",
              "      gap: 12px;\n",
              "    }\n",
              "\n",
              "    .colab-df-convert {\n",
              "      background-color: #E8F0FE;\n",
              "      border: none;\n",
              "      border-radius: 50%;\n",
              "      cursor: pointer;\n",
              "      display: none;\n",
              "      fill: #1967D2;\n",
              "      height: 32px;\n",
              "      padding: 0 0 0 0;\n",
              "      width: 32px;\n",
              "    }\n",
              "\n",
              "    .colab-df-convert:hover {\n",
              "      background-color: #E2EBFA;\n",
              "      box-shadow: 0px 1px 2px rgba(60, 64, 67, 0.3), 0px 1px 3px 1px rgba(60, 64, 67, 0.15);\n",
              "      fill: #174EA6;\n",
              "    }\n",
              "\n",
              "    .colab-df-buttons div {\n",
              "      margin-bottom: 4px;\n",
              "    }\n",
              "\n",
              "    [theme=dark] .colab-df-convert {\n",
              "      background-color: #3B4455;\n",
              "      fill: #D2E3FC;\n",
              "    }\n",
              "\n",
              "    [theme=dark] .colab-df-convert:hover {\n",
              "      background-color: #434B5C;\n",
              "      box-shadow: 0px 1px 3px 1px rgba(0, 0, 0, 0.15);\n",
              "      filter: drop-shadow(0px 1px 2px rgba(0, 0, 0, 0.3));\n",
              "      fill: #FFFFFF;\n",
              "    }\n",
              "  </style>\n",
              "\n",
              "    <script>\n",
              "      const buttonEl =\n",
              "        document.querySelector('#df-81166808-d941-46c7-ab33-9579ec2f68db button.colab-df-convert');\n",
              "      buttonEl.style.display =\n",
              "        google.colab.kernel.accessAllowed ? 'block' : 'none';\n",
              "\n",
              "      async function convertToInteractive(key) {\n",
              "        const element = document.querySelector('#df-81166808-d941-46c7-ab33-9579ec2f68db');\n",
              "        const dataTable =\n",
              "          await google.colab.kernel.invokeFunction('convertToInteractive',\n",
              "                                                    [key], {});\n",
              "        if (!dataTable) return;\n",
              "\n",
              "        const docLinkHtml = 'Like what you see? Visit the ' +\n",
              "          '<a target=\"_blank\" href=https://colab.research.google.com/notebooks/data_table.ipynb>data table notebook</a>'\n",
              "          + ' to learn more about interactive tables.';\n",
              "        element.innerHTML = '';\n",
              "        dataTable['output_type'] = 'display_data';\n",
              "        await google.colab.output.renderOutput(dataTable, element);\n",
              "        const docLink = document.createElement('div');\n",
              "        docLink.innerHTML = docLinkHtml;\n",
              "        element.appendChild(docLink);\n",
              "      }\n",
              "    </script>\n",
              "  </div>\n",
              "\n",
              "\n",
              "<div id=\"df-e253f975-4c27-4597-ad98-0c16f0617bf7\">\n",
              "  <button class=\"colab-df-quickchart\" onclick=\"quickchart('df-e253f975-4c27-4597-ad98-0c16f0617bf7')\"\n",
              "            title=\"Suggest charts\"\n",
              "            style=\"display:none;\">\n",
              "\n",
              "<svg xmlns=\"http://www.w3.org/2000/svg\" height=\"24px\"viewBox=\"0 0 24 24\"\n",
              "     width=\"24px\">\n",
              "    <g>\n",
              "        <path d=\"M19 3H5c-1.1 0-2 .9-2 2v14c0 1.1.9 2 2 2h14c1.1 0 2-.9 2-2V5c0-1.1-.9-2-2-2zM9 17H7v-7h2v7zm4 0h-2V7h2v10zm4 0h-2v-4h2v4z\"/>\n",
              "    </g>\n",
              "</svg>\n",
              "  </button>\n",
              "\n",
              "<style>\n",
              "  .colab-df-quickchart {\n",
              "      --bg-color: #E8F0FE;\n",
              "      --fill-color: #1967D2;\n",
              "      --hover-bg-color: #E2EBFA;\n",
              "      --hover-fill-color: #174EA6;\n",
              "      --disabled-fill-color: #AAA;\n",
              "      --disabled-bg-color: #DDD;\n",
              "  }\n",
              "\n",
              "  [theme=dark] .colab-df-quickchart {\n",
              "      --bg-color: #3B4455;\n",
              "      --fill-color: #D2E3FC;\n",
              "      --hover-bg-color: #434B5C;\n",
              "      --hover-fill-color: #FFFFFF;\n",
              "      --disabled-bg-color: #3B4455;\n",
              "      --disabled-fill-color: #666;\n",
              "  }\n",
              "\n",
              "  .colab-df-quickchart {\n",
              "    background-color: var(--bg-color);\n",
              "    border: none;\n",
              "    border-radius: 50%;\n",
              "    cursor: pointer;\n",
              "    display: none;\n",
              "    fill: var(--fill-color);\n",
              "    height: 32px;\n",
              "    padding: 0;\n",
              "    width: 32px;\n",
              "  }\n",
              "\n",
              "  .colab-df-quickchart:hover {\n",
              "    background-color: var(--hover-bg-color);\n",
              "    box-shadow: 0 1px 2px rgba(60, 64, 67, 0.3), 0 1px 3px 1px rgba(60, 64, 67, 0.15);\n",
              "    fill: var(--button-hover-fill-color);\n",
              "  }\n",
              "\n",
              "  .colab-df-quickchart-complete:disabled,\n",
              "  .colab-df-quickchart-complete:disabled:hover {\n",
              "    background-color: var(--disabled-bg-color);\n",
              "    fill: var(--disabled-fill-color);\n",
              "    box-shadow: none;\n",
              "  }\n",
              "\n",
              "  .colab-df-spinner {\n",
              "    border: 2px solid var(--fill-color);\n",
              "    border-color: transparent;\n",
              "    border-bottom-color: var(--fill-color);\n",
              "    animation:\n",
              "      spin 1s steps(1) infinite;\n",
              "  }\n",
              "\n",
              "  @keyframes spin {\n",
              "    0% {\n",
              "      border-color: transparent;\n",
              "      border-bottom-color: var(--fill-color);\n",
              "      border-left-color: var(--fill-color);\n",
              "    }\n",
              "    20% {\n",
              "      border-color: transparent;\n",
              "      border-left-color: var(--fill-color);\n",
              "      border-top-color: var(--fill-color);\n",
              "    }\n",
              "    30% {\n",
              "      border-color: transparent;\n",
              "      border-left-color: var(--fill-color);\n",
              "      border-top-color: var(--fill-color);\n",
              "      border-right-color: var(--fill-color);\n",
              "    }\n",
              "    40% {\n",
              "      border-color: transparent;\n",
              "      border-right-color: var(--fill-color);\n",
              "      border-top-color: var(--fill-color);\n",
              "    }\n",
              "    60% {\n",
              "      border-color: transparent;\n",
              "      border-right-color: var(--fill-color);\n",
              "    }\n",
              "    80% {\n",
              "      border-color: transparent;\n",
              "      border-right-color: var(--fill-color);\n",
              "      border-bottom-color: var(--fill-color);\n",
              "    }\n",
              "    90% {\n",
              "      border-color: transparent;\n",
              "      border-bottom-color: var(--fill-color);\n",
              "    }\n",
              "  }\n",
              "</style>\n",
              "\n",
              "  <script>\n",
              "    async function quickchart(key) {\n",
              "      const quickchartButtonEl =\n",
              "        document.querySelector('#' + key + ' button');\n",
              "      quickchartButtonEl.disabled = true;  // To prevent multiple clicks.\n",
              "      quickchartButtonEl.classList.add('colab-df-spinner');\n",
              "      try {\n",
              "        const charts = await google.colab.kernel.invokeFunction(\n",
              "            'suggestCharts', [key], {});\n",
              "      } catch (error) {\n",
              "        console.error('Error during call to suggestCharts:', error);\n",
              "      }\n",
              "      quickchartButtonEl.classList.remove('colab-df-spinner');\n",
              "      quickchartButtonEl.classList.add('colab-df-quickchart-complete');\n",
              "    }\n",
              "    (() => {\n",
              "      let quickchartButtonEl =\n",
              "        document.querySelector('#df-e253f975-4c27-4597-ad98-0c16f0617bf7 button');\n",
              "      quickchartButtonEl.style.display =\n",
              "        google.colab.kernel.accessAllowed ? 'block' : 'none';\n",
              "    })();\n",
              "  </script>\n",
              "</div>\n",
              "\n",
              "    </div>\n",
              "  </div>\n"
            ]
          },
          "metadata": {},
          "execution_count": 125
        }
      ]
    },
    {
      "cell_type": "code",
      "source": [
        "Ccdd = Cd.to_numpy()\n",
        "Cd_for_itr = Ccdd[:,1:]\n",
        "Cd_for_itr"
      ],
      "metadata": {
        "id": "M2e69LcT_59t",
        "outputId": "221c180e-ba61-467c-d43a-b7f33497e037",
        "colab": {
          "base_uri": "https://localhost:8080/"
        }
      },
      "execution_count": 126,
      "outputs": [
        {
          "output_type": "execute_result",
          "data": {
            "text/plain": [
              "array([[1, 10],\n",
              "       [2, 10],\n",
              "       [3, 11],\n",
              "       ...,\n",
              "       [3643, 6],\n",
              "       [3644, 6],\n",
              "       [3645, 6]], dtype=object)"
            ]
          },
          "metadata": {},
          "execution_count": 126
        }
      ]
    },
    {
      "cell_type": "code",
      "source": [
        "Mtx = np.zeros((12,3645)) # 부문통합을 위한 코드가 많을 경우 상기의 코드를 수작업으로 미리 하는 것이 쉽자 않으므로 반복문을 통해 3x33 임시코드 만들기\n",
        "Cd_3 = Cd_for_itr[:,1]\n",
        "Cd_33 = Cd_for_itr[:,0]\n",
        "row=Cd_3\n",
        "col=Cd_33\n",
        "for i, j in zip(row,col):\n",
        "  Mtx[i-1,j-1] = 1\n",
        "print(Mtx)"
      ],
      "metadata": {
        "id": "GdSKaueLdDOn",
        "outputId": "5245e974-d052-4eb2-dc33-307b5e306972",
        "colab": {
          "base_uri": "https://localhost:8080/"
        }
      },
      "execution_count": 127,
      "outputs": [
        {
          "output_type": "stream",
          "name": "stdout",
          "text": [
            "[[0. 0. 0. ... 0. 0. 0.]\n",
            " [0. 0. 0. ... 0. 0. 0.]\n",
            " [0. 0. 0. ... 0. 0. 0.]\n",
            " ...\n",
            " [1. 1. 0. ... 0. 0. 0.]\n",
            " [0. 0. 1. ... 0. 0. 0.]\n",
            " [0. 0. 0. ... 0. 0. 0.]]\n"
          ]
        }
      ]
    },
    {
      "cell_type": "code",
      "source": [
        "Code=Mtx.reshape([12,3645])\n",
        "Code.shape"
      ],
      "metadata": {
        "id": "1gXI65U3K2hG",
        "outputId": "5efd8cb1-4900-4796-9d5f-89aa0ed21f50",
        "colab": {
          "base_uri": "https://localhost:8080/"
        }
      },
      "execution_count": 128,
      "outputs": [
        {
          "output_type": "execute_result",
          "data": {
            "text/plain": [
              "(12, 3645)"
            ]
          },
          "metadata": {},
          "execution_count": 128
        }
      ]
    },
    {
      "cell_type": "code",
      "source": [
        "Nae_tot = (Code@Icio_2[0:3645,0:3645])@Code.T # 중간투입(수요) 12x12 만들기\n",
        "Nae_tot.shape"
      ],
      "metadata": {
        "id": "hwAN1N7qGAtx",
        "outputId": "6924ad96-2aa7-4e9d-ae6b-56f153068556",
        "colab": {
          "base_uri": "https://localhost:8080/"
        }
      },
      "execution_count": 129,
      "outputs": [
        {
          "output_type": "execute_result",
          "data": {
            "text/plain": [
              "(12, 12)"
            ]
          },
          "metadata": {},
          "execution_count": 129
        }
      ]
    },
    {
      "cell_type": "code",
      "source": [
        "url_cdtx = \"https://raw.githubusercontent.com/Muraka64/IOTs_with_python/main/data/cd_tax_new.csv\"  # 세금 코드매치 파일 불러오기\n",
        "Cd_tx = pd.read_csv(url_cdtx)\n",
        "Cd_tx.shape"
      ],
      "metadata": {
        "id": "U2KVZnyLGAyV",
        "outputId": "a9b66531-b27c-4e7c-9057-657a969ca2ea",
        "colab": {
          "base_uri": "https://localhost:8080/"
        }
      },
      "execution_count": 130,
      "outputs": [
        {
          "output_type": "execute_result",
          "data": {
            "text/plain": [
              "(77, 3)"
            ]
          },
          "metadata": {},
          "execution_count": 130
        }
      ]
    },
    {
      "cell_type": "code",
      "source": [
        "url_cns = \"https://raw.githubusercontent.com/Muraka64/IOTs_with_python/main/data/cd_cons_new.csv\"  # 국가 코드매치 파일 불러오기\n",
        "Cd_cns = pd.read_csv(url_cns)\n",
        "Cd_cns.shape"
      ],
      "metadata": {
        "id": "JQxUsF6DiW7A",
        "outputId": "47605317-1da6-46f7-9e1e-96477f96c6d5",
        "colab": {
          "base_uri": "https://localhost:8080/"
        }
      },
      "execution_count": 131,
      "outputs": [
        {
          "output_type": "execute_result",
          "data": {
            "text/plain": [
              "(77, 3)"
            ]
          },
          "metadata": {},
          "execution_count": 131
        }
      ]
    },
    {
      "cell_type": "code",
      "source": [
        "Ccdd_cns = Cd_cns.to_numpy()\n",
        "Cd_for_itr_cns = Ccdd_cns[:,1:]\n",
        "# cd_for_itr_tx"
      ],
      "metadata": {
        "id": "GqX0Pk4vprXZ"
      },
      "execution_count": 132,
      "outputs": []
    },
    {
      "cell_type": "code",
      "source": [
        "Mtx_cns= np.zeros((4,77)) # 부문통합을 위한 코드가 많을 경우 상기의 코드를 수작업으로 미리 하는 것이 쉽자 않으므로 반복문을 통해 3x33 임시코드 만들기\n",
        "Cd_3 = Cd_for_itr_cns[:,1]\n",
        "Cd_33 = Cd_for_itr_cns[:,0]\n",
        "Row=Cd_3\n",
        "Col=Cd_33\n",
        "for i, j in zip(Row,Col):\n",
        "  Mtx_cns[i-1,j-1] = 1\n",
        "print(Mtx_cns)"
      ],
      "metadata": {
        "id": "J3tdCNxcprdM",
        "outputId": "46b3b7d3-02d9-4297-dfa5-ee3354e69864",
        "colab": {
          "base_uri": "https://localhost:8080/"
        }
      },
      "execution_count": 133,
      "outputs": [
        {
          "output_type": "stream",
          "name": "stdout",
          "text": [
            "[[0. 0. 0. 0. 0. 0. 0. 0. 0. 0. 0. 0. 0. 0. 0. 0. 0. 0. 0. 0. 0. 0. 0. 0.\n",
            "  0. 0. 0. 0. 0. 0. 0. 0. 0. 0. 0. 0. 0. 0. 0. 0. 0. 1. 0. 0. 0. 0. 0. 0.\n",
            "  0. 0. 0. 0. 0. 0. 0. 0. 0. 0. 0. 0. 0. 0. 0. 0. 0. 0. 0. 0. 0. 0. 0. 0.\n",
            "  0. 0. 0. 0. 0.]\n",
            " [0. 0. 0. 0. 0. 0. 0. 0. 0. 0. 0. 0. 1. 0. 0. 0. 0. 0. 0. 0. 0. 0. 0. 0.\n",
            "  0. 0. 0. 0. 0. 0. 0. 0. 0. 0. 0. 0. 0. 0. 0. 0. 0. 0. 0. 0. 0. 0. 0. 0.\n",
            "  0. 0. 0. 0. 0. 0. 0. 0. 0. 0. 0. 0. 0. 0. 0. 0. 0. 0. 0. 0. 0. 0. 0. 0.\n",
            "  0. 0. 0. 0. 0.]\n",
            " [1. 1. 1. 1. 1. 1. 1. 1. 1. 1. 1. 1. 0. 1. 1. 1. 1. 1. 1. 1. 1. 1. 1. 1.\n",
            "  1. 1. 1. 1. 1. 1. 1. 1. 1. 1. 1. 1. 1. 1. 1. 1. 1. 0. 1. 1. 1. 1. 1. 1.\n",
            "  1. 1. 1. 1. 1. 1. 1. 1. 1. 1. 1. 1. 1. 1. 1. 1. 1. 1. 1. 1. 1. 1. 1. 1.\n",
            "  1. 1. 1. 1. 1.]\n",
            " [0. 0. 0. 0. 0. 0. 0. 0. 0. 0. 0. 0. 0. 0. 0. 0. 0. 0. 0. 0. 0. 0. 0. 0.\n",
            "  0. 0. 0. 0. 0. 0. 0. 0. 0. 0. 0. 0. 0. 0. 0. 0. 0. 0. 0. 0. 0. 0. 0. 0.\n",
            "  0. 0. 0. 0. 0. 0. 0. 0. 0. 0. 0. 0. 0. 0. 0. 0. 0. 0. 0. 0. 0. 0. 0. 0.\n",
            "  0. 0. 0. 0. 0.]]\n"
          ]
        }
      ]
    },
    {
      "cell_type": "code",
      "source": [
        "# code_tx = Mtx_tx\n",
        "Code_cns = Mtx_cns\n",
        "Code_cns"
      ],
      "metadata": {
        "id": "PraMpI0AKZL1",
        "colab": {
          "base_uri": "https://localhost:8080/"
        },
        "outputId": "a40946fe-0209-42e2-8564-6479a0195056"
      },
      "execution_count": 134,
      "outputs": [
        {
          "output_type": "execute_result",
          "data": {
            "text/plain": [
              "array([[0., 0., 0., 0., 0., 0., 0., 0., 0., 0., 0., 0., 0., 0., 0., 0.,\n",
              "        0., 0., 0., 0., 0., 0., 0., 0., 0., 0., 0., 0., 0., 0., 0., 0.,\n",
              "        0., 0., 0., 0., 0., 0., 0., 0., 0., 1., 0., 0., 0., 0., 0., 0.,\n",
              "        0., 0., 0., 0., 0., 0., 0., 0., 0., 0., 0., 0., 0., 0., 0., 0.,\n",
              "        0., 0., 0., 0., 0., 0., 0., 0., 0., 0., 0., 0., 0.],\n",
              "       [0., 0., 0., 0., 0., 0., 0., 0., 0., 0., 0., 0., 1., 0., 0., 0.,\n",
              "        0., 0., 0., 0., 0., 0., 0., 0., 0., 0., 0., 0., 0., 0., 0., 0.,\n",
              "        0., 0., 0., 0., 0., 0., 0., 0., 0., 0., 0., 0., 0., 0., 0., 0.,\n",
              "        0., 0., 0., 0., 0., 0., 0., 0., 0., 0., 0., 0., 0., 0., 0., 0.,\n",
              "        0., 0., 0., 0., 0., 0., 0., 0., 0., 0., 0., 0., 0.],\n",
              "       [1., 1., 1., 1., 1., 1., 1., 1., 1., 1., 1., 1., 0., 1., 1., 1.,\n",
              "        1., 1., 1., 1., 1., 1., 1., 1., 1., 1., 1., 1., 1., 1., 1., 1.,\n",
              "        1., 1., 1., 1., 1., 1., 1., 1., 1., 0., 1., 1., 1., 1., 1., 1.,\n",
              "        1., 1., 1., 1., 1., 1., 1., 1., 1., 1., 1., 1., 1., 1., 1., 1.,\n",
              "        1., 1., 1., 1., 1., 1., 1., 1., 1., 1., 1., 1., 1.],\n",
              "       [0., 0., 0., 0., 0., 0., 0., 0., 0., 0., 0., 0., 0., 0., 0., 0.,\n",
              "        0., 0., 0., 0., 0., 0., 0., 0., 0., 0., 0., 0., 0., 0., 0., 0.,\n",
              "        0., 0., 0., 0., 0., 0., 0., 0., 0., 0., 0., 0., 0., 0., 0., 0.,\n",
              "        0., 0., 0., 0., 0., 0., 0., 0., 0., 0., 0., 0., 0., 0., 0., 0.,\n",
              "        0., 0., 0., 0., 0., 0., 0., 0., 0., 0., 0., 0., 0.]])"
            ]
          },
          "metadata": {},
          "execution_count": 134
        }
      ]
    },
    {
      "cell_type": "code",
      "source": [
        "Nae_tx = Icio_2[3645,0:3645]@Code.T # 세금 행을 12부문으로 만들기\n"
      ],
      "metadata": {
        "id": "5c-zt7MIK-xv"
      },
      "execution_count": 135,
      "outputs": []
    },
    {
      "cell_type": "code",
      "source": [
        "Vact_row = Icio_2[-2:,0:3645]@Code.T # 부가가치 및 산출액\n",
        "Vact_row.shape"
      ],
      "metadata": {
        "id": "qztNjQCtK-0Y",
        "outputId": "d240a753-fa7e-4920-ba32-04eb667132d9",
        "colab": {
          "base_uri": "https://localhost:8080/"
        }
      },
      "execution_count": 136,
      "outputs": [
        {
          "output_type": "execute_result",
          "data": {
            "text/plain": [
              "(2, 12)"
            ]
          },
          "metadata": {},
          "execution_count": 136
        }
      ]
    },
    {
      "cell_type": "code",
      "source": [
        "url_cdfd = \"https://raw.githubusercontent.com/Muraka64/IOTs_with_python/main/data/cd_fd_4cons_new.csv\"  #최종수요 코드매치 파일 불러오기\n",
        "Cd_fd = pd.read_csv(url_cdfd)\n",
        "Cd_fd.shape"
      ],
      "metadata": {
        "id": "TveEEi60VWLR",
        "outputId": "58fc6064-276b-4b9f-80b3-35d547a2e8cb",
        "colab": {
          "base_uri": "https://localhost:8080/"
        }
      },
      "execution_count": 137,
      "outputs": [
        {
          "output_type": "execute_result",
          "data": {
            "text/plain": [
              "(462, 3)"
            ]
          },
          "metadata": {},
          "execution_count": 137
        }
      ]
    },
    {
      "cell_type": "code",
      "source": [
        "Ccdd_fd = Cd_fd.to_numpy()\n",
        "Cd_for_itr_fd = Ccdd_fd[:,1:3]\n",
        "Cd_for_itr_fd.shape"
      ],
      "metadata": {
        "id": "lyL9UFZoVmBn",
        "outputId": "e431be1f-0acc-4669-a20e-c928c82ba958",
        "colab": {
          "base_uri": "https://localhost:8080/"
        }
      },
      "execution_count": 138,
      "outputs": [
        {
          "output_type": "execute_result",
          "data": {
            "text/plain": [
              "(462, 2)"
            ]
          },
          "metadata": {},
          "execution_count": 138
        }
      ]
    },
    {
      "cell_type": "code",
      "source": [
        "Cd_33.shape"
      ],
      "metadata": {
        "id": "mhC2lcpBW6Us",
        "outputId": "66ddb532-bf96-4528-cfb6-926ba3c4b809",
        "colab": {
          "base_uri": "https://localhost:8080/"
        }
      },
      "execution_count": 139,
      "outputs": [
        {
          "output_type": "execute_result",
          "data": {
            "text/plain": [
              "(77,)"
            ]
          },
          "metadata": {},
          "execution_count": 139
        }
      ]
    },
    {
      "cell_type": "code",
      "source": [
        "Mtx_fd= np.zeros((4,462)) # 부문통합을 위한 코드가 많을 경우 상기의 코드를 수작업으로 미리 하는 것이 쉽자 않으므로 반복문을 통해 3x33 임시코드 만들기\n",
        "Cd_3 = Cd_for_itr_fd[:,1]\n",
        "Cd_33 = Cd_for_itr_fd[:,0]\n",
        "Row=Cd_3\n",
        "Col=Cd_33\n",
        "for i, j in zip(Row,Col):\n",
        "  Mtx_fd[i-1,j-1] = 1\n",
        "print(Mtx_fd)"
      ],
      "metadata": {
        "id": "-DfyrxNAVmEF",
        "outputId": "a14f5cba-3f3d-40a8-8e6b-5d22b69da7e8",
        "colab": {
          "base_uri": "https://localhost:8080/"
        }
      },
      "execution_count": 140,
      "outputs": [
        {
          "output_type": "stream",
          "name": "stdout",
          "text": [
            "[[0. 0. 0. ... 0. 0. 0.]\n",
            " [0. 0. 0. ... 0. 0. 0.]\n",
            " [0. 0. 0. ... 0. 0. 0.]\n",
            " [1. 1. 1. ... 1. 1. 1.]]\n"
          ]
        }
      ]
    },
    {
      "cell_type": "code",
      "source": [
        "Code_fd = Mtx_fd\n",
        "Code_fd.shape"
      ],
      "metadata": {
        "id": "DCfHIGyDVmGS",
        "outputId": "656e7ae2-d202-426e-e29c-c0175a345b45",
        "colab": {
          "base_uri": "https://localhost:8080/"
        }
      },
      "execution_count": 141,
      "outputs": [
        {
          "output_type": "execute_result",
          "data": {
            "text/plain": [
              "(4, 462)"
            ]
          },
          "metadata": {},
          "execution_count": 141
        }
      ]
    },
    {
      "cell_type": "code",
      "source": [
        "Fd = Code@Icio_2[0:3645,3645:4107]@Code_fd.T # 최종수요를 12부문으로 만들기\n",
        "Code_fd.shape"
      ],
      "metadata": {
        "id": "Q0YhpDKhVmIY",
        "outputId": "00e8d4a7-9863-4f22-efa1-226eeae98e8c",
        "colab": {
          "base_uri": "https://localhost:8080/"
        }
      },
      "execution_count": 142,
      "outputs": [
        {
          "output_type": "execute_result",
          "data": {
            "text/plain": [
              "(4, 462)"
            ]
          },
          "metadata": {},
          "execution_count": 142
        }
      ]
    },
    {
      "cell_type": "code",
      "source": [
        "Icio_2[0:3645,3645:4107].sum()"
      ],
      "metadata": {
        "id": "61cIN1Lk-EU8",
        "outputId": "ccf5d6fb-dcab-4865-b859-92d36f2f0c6c",
        "colab": {
          "base_uri": "https://localhost:8080/"
        }
      },
      "execution_count": 143,
      "outputs": [
        {
          "output_type": "execute_result",
          "data": {
            "text/plain": [
              "81796440.98814319"
            ]
          },
          "metadata": {},
          "execution_count": 143
        }
      ]
    },
    {
      "cell_type": "code",
      "source": [
        "Fd_tx = Icio_2[3645,3645:4107]@Code_fd.T\n",
        "Fd_tx"
      ],
      "metadata": {
        "id": "NJdAdoVPtVq4",
        "outputId": "6f3edf32-47b0-4d7e-9472-61862f8c35e6",
        "colab": {
          "base_uri": "https://localhost:8080/"
        }
      },
      "execution_count": 144,
      "outputs": [
        {
          "output_type": "execute_result",
          "data": {
            "text/plain": [
              "array([73671.86296299999, 487852.95911000005, 522672.210866,\n",
              "       2476992.3649929976], dtype=object)"
            ]
          },
          "metadata": {},
          "execution_count": 144
        }
      ]
    },
    {
      "cell_type": "code",
      "source": [
        "Fd.shape"
      ],
      "metadata": {
        "id": "T7n1ckRpYhVh",
        "outputId": "ab5dd70f-4484-4a13-ebc7-d6105c14a148",
        "colab": {
          "base_uri": "https://localhost:8080/"
        }
      },
      "execution_count": 145,
      "outputs": [
        {
          "output_type": "execute_result",
          "data": {
            "text/plain": [
              "(12, 4)"
            ]
          },
          "metadata": {},
          "execution_count": 145
        }
      ]
    },
    {
      "cell_type": "code",
      "source": [
        "Fd_row=np.concatenate((Fd,Fd_tx.reshape([1,4]),np.zeros((2,4))))\n",
        "Fd_row.sum()"
      ],
      "metadata": {
        "colab": {
          "base_uri": "https://localhost:8080/"
        },
        "id": "LWL1uNCO_A95",
        "outputId": "a9c46efd-00e3-435f-ede3-4255e62da373"
      },
      "execution_count": 146,
      "outputs": [
        {
          "output_type": "execute_result",
          "data": {
            "text/plain": [
              "85357630.38611801"
            ]
          },
          "metadata": {},
          "execution_count": 146
        }
      ]
    },
    {
      "cell_type": "code",
      "source": [
        "Icio_row = np.concatenate((Nae_tot,Nae_tx.reshape([1,12]), Vact_row))\n",
        "Icio_row.shape"
      ],
      "metadata": {
        "id": "ydBppFx_VmKX",
        "colab": {
          "base_uri": "https://localhost:8080/"
        },
        "outputId": "aecc0199-f2af-4d50-bfc8-d5673cf00b2d"
      },
      "execution_count": 147,
      "outputs": [
        {
          "output_type": "execute_result",
          "data": {
            "text/plain": [
              "(15, 12)"
            ]
          },
          "metadata": {},
          "execution_count": 147
        }
      ]
    },
    {
      "cell_type": "code",
      "source": [
        "Icio_col = np.concatenate((Icio_row, Fd_row), axis=1)"
      ],
      "metadata": {
        "id": "9AmJvsmzVmMM"
      },
      "execution_count": 148,
      "outputs": []
    },
    {
      "cell_type": "code",
      "source": [
        "Icio_col_sm = Icio_col.sum(axis=1).reshape([15,1]) # 충수요계(산출액과 동일)\n",
        "Icio_col_sm[-2:,:] = 0     # 총수요 열에서 부가가치,산출액 0으로 만들기"
      ],
      "metadata": {
        "id": "8e_Mqf7KVmOa"
      },
      "execution_count": 149,
      "outputs": []
    },
    {
      "cell_type": "code",
      "source": [
        "Icio_f = np.concatenate((Icio_col, Icio_col_sm), axis=1).astype(float)\n",
        "Icio_f.shape"
      ],
      "metadata": {
        "id": "Ic43tRaAVmQd",
        "colab": {
          "base_uri": "https://localhost:8080/"
        },
        "outputId": "b7f2a526-778d-4257-d38d-eab54aa1ea3d"
      },
      "execution_count": 150,
      "outputs": [
        {
          "output_type": "execute_result",
          "data": {
            "text/plain": [
              "(15, 17)"
            ]
          },
          "metadata": {},
          "execution_count": 150
        }
      ]
    },
    {
      "cell_type": "code",
      "source": [
        "ICIO_trl = (Icio_f/100).round(0) # 억달러\n",
        "print('3부문_4개국_ICIO', '\\n', ICIO_trl)"
      ],
      "metadata": {
        "id": "qKnF5r4EYE-_",
        "outputId": "0753d9d0-1515-430b-b8bd-05d1042be47c",
        "colab": {
          "base_uri": "https://localhost:8080/"
        }
      },
      "execution_count": 151,
      "outputs": [
        {
          "output_type": "stream",
          "name": "stdout",
          "text": [
            "3부문_4개국_ICIO \n",
            " [[    25.    247.     91.      0.      0.      0.      0.      3.      1.\n",
            "       1.      3.      1.    143.      0.      1.      2.    518.]\n",
            " [   111.   5200.   2638.     59.   1097.    340.     10.    194.    177.\n",
            "      67.   1120.    536.   1623.    278.    349.    890.  14690.]\n",
            " [    62.   2314.   5377.     19.    198.    147.      2.     29.     82.\n",
            "      14.    203.    345.  11605.    105.     81.    263.  20846.]\n",
            " [     1.      6.      2.   4912.  10317.   1336.      6.     19.      4.\n",
            "      33.    106.     21.      2.   5712.      6.     79.  22559.]\n",
            " [    10.    585.    235.   4625.  84294.  37897.     42.    882.   1179.\n",
            "     270.   5551.   3633.    253.  28453.   1978.   6876. 176763.]\n",
            " [     2.     79.    116.   1885.  23537.  36089.      5.    112.    283.\n",
            "      47.    780.   1494.     83. 101032.    351.   1507. 167403.]\n",
            " [     2.     15.      5.     59.    152.     17.    780.   1964.    151.\n",
            "     100.    309.     49.      5.     40.    997.    192.   4836.]\n",
            " [     5.    166.     90.     36.    458.    172.    728.  13286.  12736.\n",
            "     174.   2690.   1463.     81.    179.  24792.   2537.  59593.]\n",
            " [     4.    115.    144.     50.    368.    272.    770.  11902.  93573.\n",
            "     186.   2134.   4374.     90.    419. 175868.   3751. 294019.]\n",
            " [     3.     31.     14.    198.    518.     58.    142.    473.     94.\n",
            "    6903.  13976.   3827.     13.    135.    147.  14937.  41470.]\n",
            " [    21.   1384.    577.    391.   9590.   2504.    214.   4385.   3307.\n",
            "    5434.  94038.  56690.    393.   1836.   6106.  78861. 265732.]\n",
            " [    10.    346.    444.    225.   2225.   1686.    113.   1374.   3809.\n",
            "    4520.  52110. 185443.    296.   1867.   3605. 339144. 597219.]\n",
            " [     5.    226.    352.    120.   2861.   2493.     25.    680.   1478.\n",
            "     437.   4178.   8404.    737.   4879.   5227.  24770.  56872.]\n",
            " [   256.   3975.  10762.   9980.  41148.  84394.   1998.  24291. 177144.\n",
            "   23285.  88535. 330938.      0.      0.      0.      0.      0.]\n",
            " [   518.  14690.  20846.  22559. 176763. 167403.   4836.  59593. 294019.\n",
            "   41470. 265732. 597219.      0.      0.      0.      0.      0.]]\n"
          ]
        }
      ]
    },
    {
      "cell_type": "code",
      "source": [
        "ICIO_df = pd.DataFrame(ICIO_trl, columns = [['한국', '한국', '한국', '중국', '중국', '중국', '미국', '미국', '미국', 'ROW', 'ROW', 'ROW','한국', '중국', '미국', 'ROW','총계'],\n",
        "\n",
        "                                          ['농산품', '공산품', '서비스', '농산품', '공산품', '서비스', '농산품', '공산품', '서비스', '농산품', '공산품', '서비스', '최종수요','최종수요','최종수요','최종수요', '총수요']],\n",
        "\n",
        "                                    index=[['한국', '한국', '한국', '중국', '중국', '중국', '미국', '미국', '미국', 'ROW', 'ROW', 'ROW','세금','부가가치','총투입계'],\n",
        "                                           ['농산품', '공산품', '서비스', '농산품', '공산품', '서비스', '농산품', '공산품', '서비스', '농산품', '공산품', '서비스','세금','부가가치','총투입계']])\n",
        "ICIO_df.index.names=['국가', '산업']"
      ],
      "metadata": {
        "id": "PbW7JbEtWqs_"
      },
      "execution_count": 152,
      "outputs": []
    },
    {
      "cell_type": "code",
      "source": [
        "ICIO_df"
      ],
      "metadata": {
        "id": "ZOzmfVcnbtyA",
        "outputId": "31d835ad-159f-42cb-d6fe-60dec6dd1254",
        "colab": {
          "base_uri": "https://localhost:8080/",
          "height": 582
        }
      },
      "execution_count": 153,
      "outputs": [
        {
          "output_type": "execute_result",
          "data": {
            "text/plain": [
              "              한국                         중국                          미국  \\\n",
              "             농산품      공산품      서비스      농산품       공산품       서비스     농산품   \n",
              "국가   산업                                                                   \n",
              "한국   농산품    25.0    247.0     91.0      0.0       0.0       0.0     0.0   \n",
              "     공산품   111.0   5200.0   2638.0     59.0    1097.0     340.0    10.0   \n",
              "     서비스    62.0   2314.0   5377.0     19.0     198.0     147.0     2.0   \n",
              "중국   농산품     1.0      6.0      2.0   4912.0   10317.0    1336.0     6.0   \n",
              "     공산품    10.0    585.0    235.0   4625.0   84294.0   37897.0    42.0   \n",
              "     서비스     2.0     79.0    116.0   1885.0   23537.0   36089.0     5.0   \n",
              "미국   농산품     2.0     15.0      5.0     59.0     152.0      17.0   780.0   \n",
              "     공산품     5.0    166.0     90.0     36.0     458.0     172.0   728.0   \n",
              "     서비스     4.0    115.0    144.0     50.0     368.0     272.0   770.0   \n",
              "ROW  농산품     3.0     31.0     14.0    198.0     518.0      58.0   142.0   \n",
              "     공산품    21.0   1384.0    577.0    391.0    9590.0    2504.0   214.0   \n",
              "     서비스    10.0    346.0    444.0    225.0    2225.0    1686.0   113.0   \n",
              "세금   세금      5.0    226.0    352.0    120.0    2861.0    2493.0    25.0   \n",
              "부가가치 부가가치  256.0   3975.0  10762.0   9980.0   41148.0   84394.0  1998.0   \n",
              "총투입계 총투입계  518.0  14690.0  20846.0  22559.0  176763.0  167403.0  4836.0   \n",
              "\n",
              "                                  ROW                           한국        중국  \\\n",
              "               공산품       서비스      농산품       공산품       서비스     최종수요      최종수요   \n",
              "국가   산업                                                                        \n",
              "한국   농산품       3.0       1.0      1.0       3.0       1.0    143.0       0.0   \n",
              "     공산품     194.0     177.0     67.0    1120.0     536.0   1623.0     278.0   \n",
              "     서비스      29.0      82.0     14.0     203.0     345.0  11605.0     105.0   \n",
              "중국   농산품      19.0       4.0     33.0     106.0      21.0      2.0    5712.0   \n",
              "     공산품     882.0    1179.0    270.0    5551.0    3633.0    253.0   28453.0   \n",
              "     서비스     112.0     283.0     47.0     780.0    1494.0     83.0  101032.0   \n",
              "미국   농산품    1964.0     151.0    100.0     309.0      49.0      5.0      40.0   \n",
              "     공산품   13286.0   12736.0    174.0    2690.0    1463.0     81.0     179.0   \n",
              "     서비스   11902.0   93573.0    186.0    2134.0    4374.0     90.0     419.0   \n",
              "ROW  농산품     473.0      94.0   6903.0   13976.0    3827.0     13.0     135.0   \n",
              "     공산품    4385.0    3307.0   5434.0   94038.0   56690.0    393.0    1836.0   \n",
              "     서비스    1374.0    3809.0   4520.0   52110.0  185443.0    296.0    1867.0   \n",
              "세금   세금      680.0    1478.0    437.0    4178.0    8404.0    737.0    4879.0   \n",
              "부가가치 부가가치  24291.0  177144.0  23285.0   88535.0  330938.0      0.0       0.0   \n",
              "총투입계 총투입계  59593.0  294019.0  41470.0  265732.0  597219.0      0.0       0.0   \n",
              "\n",
              "                 미국       ROW        총계  \n",
              "               최종수요      최종수요       총수요  \n",
              "국가   산업                                  \n",
              "한국   농산품        1.0       2.0     518.0  \n",
              "     공산품      349.0     890.0   14690.0  \n",
              "     서비스       81.0     263.0   20846.0  \n",
              "중국   농산품        6.0      79.0   22559.0  \n",
              "     공산품     1978.0    6876.0  176763.0  \n",
              "     서비스      351.0    1507.0  167403.0  \n",
              "미국   농산품      997.0     192.0    4836.0  \n",
              "     공산품    24792.0    2537.0   59593.0  \n",
              "     서비스   175868.0    3751.0  294019.0  \n",
              "ROW  농산품      147.0   14937.0   41470.0  \n",
              "     공산품     6106.0   78861.0  265732.0  \n",
              "     서비스     3605.0  339144.0  597219.0  \n",
              "세금   세금      5227.0   24770.0   56872.0  \n",
              "부가가치 부가가치       0.0       0.0       0.0  \n",
              "총투입계 총투입계       0.0       0.0       0.0  "
            ],
            "text/html": [
              "\n",
              "  <div id=\"df-7310c5b2-0a28-403d-bdb0-1b1f6d177c76\" class=\"colab-df-container\">\n",
              "    <div>\n",
              "<style scoped>\n",
              "    .dataframe tbody tr th:only-of-type {\n",
              "        vertical-align: middle;\n",
              "    }\n",
              "\n",
              "    .dataframe tbody tr th {\n",
              "        vertical-align: top;\n",
              "    }\n",
              "\n",
              "    .dataframe thead tr th {\n",
              "        text-align: left;\n",
              "    }\n",
              "\n",
              "    .dataframe thead tr:last-of-type th {\n",
              "        text-align: right;\n",
              "    }\n",
              "</style>\n",
              "<table border=\"1\" class=\"dataframe\">\n",
              "  <thead>\n",
              "    <tr>\n",
              "      <th></th>\n",
              "      <th></th>\n",
              "      <th colspan=\"3\" halign=\"left\">한국</th>\n",
              "      <th colspan=\"3\" halign=\"left\">중국</th>\n",
              "      <th colspan=\"3\" halign=\"left\">미국</th>\n",
              "      <th colspan=\"3\" halign=\"left\">ROW</th>\n",
              "      <th>한국</th>\n",
              "      <th>중국</th>\n",
              "      <th>미국</th>\n",
              "      <th>ROW</th>\n",
              "      <th>총계</th>\n",
              "    </tr>\n",
              "    <tr>\n",
              "      <th></th>\n",
              "      <th></th>\n",
              "      <th>농산품</th>\n",
              "      <th>공산품</th>\n",
              "      <th>서비스</th>\n",
              "      <th>농산품</th>\n",
              "      <th>공산품</th>\n",
              "      <th>서비스</th>\n",
              "      <th>농산품</th>\n",
              "      <th>공산품</th>\n",
              "      <th>서비스</th>\n",
              "      <th>농산품</th>\n",
              "      <th>공산품</th>\n",
              "      <th>서비스</th>\n",
              "      <th>최종수요</th>\n",
              "      <th>최종수요</th>\n",
              "      <th>최종수요</th>\n",
              "      <th>최종수요</th>\n",
              "      <th>총수요</th>\n",
              "    </tr>\n",
              "    <tr>\n",
              "      <th>국가</th>\n",
              "      <th>산업</th>\n",
              "      <th></th>\n",
              "      <th></th>\n",
              "      <th></th>\n",
              "      <th></th>\n",
              "      <th></th>\n",
              "      <th></th>\n",
              "      <th></th>\n",
              "      <th></th>\n",
              "      <th></th>\n",
              "      <th></th>\n",
              "      <th></th>\n",
              "      <th></th>\n",
              "      <th></th>\n",
              "      <th></th>\n",
              "      <th></th>\n",
              "      <th></th>\n",
              "      <th></th>\n",
              "    </tr>\n",
              "  </thead>\n",
              "  <tbody>\n",
              "    <tr>\n",
              "      <th rowspan=\"3\" valign=\"top\">한국</th>\n",
              "      <th>농산품</th>\n",
              "      <td>25.0</td>\n",
              "      <td>247.0</td>\n",
              "      <td>91.0</td>\n",
              "      <td>0.0</td>\n",
              "      <td>0.0</td>\n",
              "      <td>0.0</td>\n",
              "      <td>0.0</td>\n",
              "      <td>3.0</td>\n",
              "      <td>1.0</td>\n",
              "      <td>1.0</td>\n",
              "      <td>3.0</td>\n",
              "      <td>1.0</td>\n",
              "      <td>143.0</td>\n",
              "      <td>0.0</td>\n",
              "      <td>1.0</td>\n",
              "      <td>2.0</td>\n",
              "      <td>518.0</td>\n",
              "    </tr>\n",
              "    <tr>\n",
              "      <th>공산품</th>\n",
              "      <td>111.0</td>\n",
              "      <td>5200.0</td>\n",
              "      <td>2638.0</td>\n",
              "      <td>59.0</td>\n",
              "      <td>1097.0</td>\n",
              "      <td>340.0</td>\n",
              "      <td>10.0</td>\n",
              "      <td>194.0</td>\n",
              "      <td>177.0</td>\n",
              "      <td>67.0</td>\n",
              "      <td>1120.0</td>\n",
              "      <td>536.0</td>\n",
              "      <td>1623.0</td>\n",
              "      <td>278.0</td>\n",
              "      <td>349.0</td>\n",
              "      <td>890.0</td>\n",
              "      <td>14690.0</td>\n",
              "    </tr>\n",
              "    <tr>\n",
              "      <th>서비스</th>\n",
              "      <td>62.0</td>\n",
              "      <td>2314.0</td>\n",
              "      <td>5377.0</td>\n",
              "      <td>19.0</td>\n",
              "      <td>198.0</td>\n",
              "      <td>147.0</td>\n",
              "      <td>2.0</td>\n",
              "      <td>29.0</td>\n",
              "      <td>82.0</td>\n",
              "      <td>14.0</td>\n",
              "      <td>203.0</td>\n",
              "      <td>345.0</td>\n",
              "      <td>11605.0</td>\n",
              "      <td>105.0</td>\n",
              "      <td>81.0</td>\n",
              "      <td>263.0</td>\n",
              "      <td>20846.0</td>\n",
              "    </tr>\n",
              "    <tr>\n",
              "      <th rowspan=\"3\" valign=\"top\">중국</th>\n",
              "      <th>농산품</th>\n",
              "      <td>1.0</td>\n",
              "      <td>6.0</td>\n",
              "      <td>2.0</td>\n",
              "      <td>4912.0</td>\n",
              "      <td>10317.0</td>\n",
              "      <td>1336.0</td>\n",
              "      <td>6.0</td>\n",
              "      <td>19.0</td>\n",
              "      <td>4.0</td>\n",
              "      <td>33.0</td>\n",
              "      <td>106.0</td>\n",
              "      <td>21.0</td>\n",
              "      <td>2.0</td>\n",
              "      <td>5712.0</td>\n",
              "      <td>6.0</td>\n",
              "      <td>79.0</td>\n",
              "      <td>22559.0</td>\n",
              "    </tr>\n",
              "    <tr>\n",
              "      <th>공산품</th>\n",
              "      <td>10.0</td>\n",
              "      <td>585.0</td>\n",
              "      <td>235.0</td>\n",
              "      <td>4625.0</td>\n",
              "      <td>84294.0</td>\n",
              "      <td>37897.0</td>\n",
              "      <td>42.0</td>\n",
              "      <td>882.0</td>\n",
              "      <td>1179.0</td>\n",
              "      <td>270.0</td>\n",
              "      <td>5551.0</td>\n",
              "      <td>3633.0</td>\n",
              "      <td>253.0</td>\n",
              "      <td>28453.0</td>\n",
              "      <td>1978.0</td>\n",
              "      <td>6876.0</td>\n",
              "      <td>176763.0</td>\n",
              "    </tr>\n",
              "    <tr>\n",
              "      <th>서비스</th>\n",
              "      <td>2.0</td>\n",
              "      <td>79.0</td>\n",
              "      <td>116.0</td>\n",
              "      <td>1885.0</td>\n",
              "      <td>23537.0</td>\n",
              "      <td>36089.0</td>\n",
              "      <td>5.0</td>\n",
              "      <td>112.0</td>\n",
              "      <td>283.0</td>\n",
              "      <td>47.0</td>\n",
              "      <td>780.0</td>\n",
              "      <td>1494.0</td>\n",
              "      <td>83.0</td>\n",
              "      <td>101032.0</td>\n",
              "      <td>351.0</td>\n",
              "      <td>1507.0</td>\n",
              "      <td>167403.0</td>\n",
              "    </tr>\n",
              "    <tr>\n",
              "      <th rowspan=\"3\" valign=\"top\">미국</th>\n",
              "      <th>농산품</th>\n",
              "      <td>2.0</td>\n",
              "      <td>15.0</td>\n",
              "      <td>5.0</td>\n",
              "      <td>59.0</td>\n",
              "      <td>152.0</td>\n",
              "      <td>17.0</td>\n",
              "      <td>780.0</td>\n",
              "      <td>1964.0</td>\n",
              "      <td>151.0</td>\n",
              "      <td>100.0</td>\n",
              "      <td>309.0</td>\n",
              "      <td>49.0</td>\n",
              "      <td>5.0</td>\n",
              "      <td>40.0</td>\n",
              "      <td>997.0</td>\n",
              "      <td>192.0</td>\n",
              "      <td>4836.0</td>\n",
              "    </tr>\n",
              "    <tr>\n",
              "      <th>공산품</th>\n",
              "      <td>5.0</td>\n",
              "      <td>166.0</td>\n",
              "      <td>90.0</td>\n",
              "      <td>36.0</td>\n",
              "      <td>458.0</td>\n",
              "      <td>172.0</td>\n",
              "      <td>728.0</td>\n",
              "      <td>13286.0</td>\n",
              "      <td>12736.0</td>\n",
              "      <td>174.0</td>\n",
              "      <td>2690.0</td>\n",
              "      <td>1463.0</td>\n",
              "      <td>81.0</td>\n",
              "      <td>179.0</td>\n",
              "      <td>24792.0</td>\n",
              "      <td>2537.0</td>\n",
              "      <td>59593.0</td>\n",
              "    </tr>\n",
              "    <tr>\n",
              "      <th>서비스</th>\n",
              "      <td>4.0</td>\n",
              "      <td>115.0</td>\n",
              "      <td>144.0</td>\n",
              "      <td>50.0</td>\n",
              "      <td>368.0</td>\n",
              "      <td>272.0</td>\n",
              "      <td>770.0</td>\n",
              "      <td>11902.0</td>\n",
              "      <td>93573.0</td>\n",
              "      <td>186.0</td>\n",
              "      <td>2134.0</td>\n",
              "      <td>4374.0</td>\n",
              "      <td>90.0</td>\n",
              "      <td>419.0</td>\n",
              "      <td>175868.0</td>\n",
              "      <td>3751.0</td>\n",
              "      <td>294019.0</td>\n",
              "    </tr>\n",
              "    <tr>\n",
              "      <th rowspan=\"3\" valign=\"top\">ROW</th>\n",
              "      <th>농산품</th>\n",
              "      <td>3.0</td>\n",
              "      <td>31.0</td>\n",
              "      <td>14.0</td>\n",
              "      <td>198.0</td>\n",
              "      <td>518.0</td>\n",
              "      <td>58.0</td>\n",
              "      <td>142.0</td>\n",
              "      <td>473.0</td>\n",
              "      <td>94.0</td>\n",
              "      <td>6903.0</td>\n",
              "      <td>13976.0</td>\n",
              "      <td>3827.0</td>\n",
              "      <td>13.0</td>\n",
              "      <td>135.0</td>\n",
              "      <td>147.0</td>\n",
              "      <td>14937.0</td>\n",
              "      <td>41470.0</td>\n",
              "    </tr>\n",
              "    <tr>\n",
              "      <th>공산품</th>\n",
              "      <td>21.0</td>\n",
              "      <td>1384.0</td>\n",
              "      <td>577.0</td>\n",
              "      <td>391.0</td>\n",
              "      <td>9590.0</td>\n",
              "      <td>2504.0</td>\n",
              "      <td>214.0</td>\n",
              "      <td>4385.0</td>\n",
              "      <td>3307.0</td>\n",
              "      <td>5434.0</td>\n",
              "      <td>94038.0</td>\n",
              "      <td>56690.0</td>\n",
              "      <td>393.0</td>\n",
              "      <td>1836.0</td>\n",
              "      <td>6106.0</td>\n",
              "      <td>78861.0</td>\n",
              "      <td>265732.0</td>\n",
              "    </tr>\n",
              "    <tr>\n",
              "      <th>서비스</th>\n",
              "      <td>10.0</td>\n",
              "      <td>346.0</td>\n",
              "      <td>444.0</td>\n",
              "      <td>225.0</td>\n",
              "      <td>2225.0</td>\n",
              "      <td>1686.0</td>\n",
              "      <td>113.0</td>\n",
              "      <td>1374.0</td>\n",
              "      <td>3809.0</td>\n",
              "      <td>4520.0</td>\n",
              "      <td>52110.0</td>\n",
              "      <td>185443.0</td>\n",
              "      <td>296.0</td>\n",
              "      <td>1867.0</td>\n",
              "      <td>3605.0</td>\n",
              "      <td>339144.0</td>\n",
              "      <td>597219.0</td>\n",
              "    </tr>\n",
              "    <tr>\n",
              "      <th>세금</th>\n",
              "      <th>세금</th>\n",
              "      <td>5.0</td>\n",
              "      <td>226.0</td>\n",
              "      <td>352.0</td>\n",
              "      <td>120.0</td>\n",
              "      <td>2861.0</td>\n",
              "      <td>2493.0</td>\n",
              "      <td>25.0</td>\n",
              "      <td>680.0</td>\n",
              "      <td>1478.0</td>\n",
              "      <td>437.0</td>\n",
              "      <td>4178.0</td>\n",
              "      <td>8404.0</td>\n",
              "      <td>737.0</td>\n",
              "      <td>4879.0</td>\n",
              "      <td>5227.0</td>\n",
              "      <td>24770.0</td>\n",
              "      <td>56872.0</td>\n",
              "    </tr>\n",
              "    <tr>\n",
              "      <th>부가가치</th>\n",
              "      <th>부가가치</th>\n",
              "      <td>256.0</td>\n",
              "      <td>3975.0</td>\n",
              "      <td>10762.0</td>\n",
              "      <td>9980.0</td>\n",
              "      <td>41148.0</td>\n",
              "      <td>84394.0</td>\n",
              "      <td>1998.0</td>\n",
              "      <td>24291.0</td>\n",
              "      <td>177144.0</td>\n",
              "      <td>23285.0</td>\n",
              "      <td>88535.0</td>\n",
              "      <td>330938.0</td>\n",
              "      <td>0.0</td>\n",
              "      <td>0.0</td>\n",
              "      <td>0.0</td>\n",
              "      <td>0.0</td>\n",
              "      <td>0.0</td>\n",
              "    </tr>\n",
              "    <tr>\n",
              "      <th>총투입계</th>\n",
              "      <th>총투입계</th>\n",
              "      <td>518.0</td>\n",
              "      <td>14690.0</td>\n",
              "      <td>20846.0</td>\n",
              "      <td>22559.0</td>\n",
              "      <td>176763.0</td>\n",
              "      <td>167403.0</td>\n",
              "      <td>4836.0</td>\n",
              "      <td>59593.0</td>\n",
              "      <td>294019.0</td>\n",
              "      <td>41470.0</td>\n",
              "      <td>265732.0</td>\n",
              "      <td>597219.0</td>\n",
              "      <td>0.0</td>\n",
              "      <td>0.0</td>\n",
              "      <td>0.0</td>\n",
              "      <td>0.0</td>\n",
              "      <td>0.0</td>\n",
              "    </tr>\n",
              "  </tbody>\n",
              "</table>\n",
              "</div>\n",
              "    <div class=\"colab-df-buttons\">\n",
              "\n",
              "  <div class=\"colab-df-container\">\n",
              "    <button class=\"colab-df-convert\" onclick=\"convertToInteractive('df-7310c5b2-0a28-403d-bdb0-1b1f6d177c76')\"\n",
              "            title=\"Convert this dataframe to an interactive table.\"\n",
              "            style=\"display:none;\">\n",
              "\n",
              "  <svg xmlns=\"http://www.w3.org/2000/svg\" height=\"24px\" viewBox=\"0 -960 960 960\">\n",
              "    <path d=\"M120-120v-720h720v720H120Zm60-500h600v-160H180v160Zm220 220h160v-160H400v160Zm0 220h160v-160H400v160ZM180-400h160v-160H180v160Zm440 0h160v-160H620v160ZM180-180h160v-160H180v160Zm440 0h160v-160H620v160Z\"/>\n",
              "  </svg>\n",
              "    </button>\n",
              "\n",
              "  <style>\n",
              "    .colab-df-container {\n",
              "      display:flex;\n",
              "      gap: 12px;\n",
              "    }\n",
              "\n",
              "    .colab-df-convert {\n",
              "      background-color: #E8F0FE;\n",
              "      border: none;\n",
              "      border-radius: 50%;\n",
              "      cursor: pointer;\n",
              "      display: none;\n",
              "      fill: #1967D2;\n",
              "      height: 32px;\n",
              "      padding: 0 0 0 0;\n",
              "      width: 32px;\n",
              "    }\n",
              "\n",
              "    .colab-df-convert:hover {\n",
              "      background-color: #E2EBFA;\n",
              "      box-shadow: 0px 1px 2px rgba(60, 64, 67, 0.3), 0px 1px 3px 1px rgba(60, 64, 67, 0.15);\n",
              "      fill: #174EA6;\n",
              "    }\n",
              "\n",
              "    .colab-df-buttons div {\n",
              "      margin-bottom: 4px;\n",
              "    }\n",
              "\n",
              "    [theme=dark] .colab-df-convert {\n",
              "      background-color: #3B4455;\n",
              "      fill: #D2E3FC;\n",
              "    }\n",
              "\n",
              "    [theme=dark] .colab-df-convert:hover {\n",
              "      background-color: #434B5C;\n",
              "      box-shadow: 0px 1px 3px 1px rgba(0, 0, 0, 0.15);\n",
              "      filter: drop-shadow(0px 1px 2px rgba(0, 0, 0, 0.3));\n",
              "      fill: #FFFFFF;\n",
              "    }\n",
              "  </style>\n",
              "\n",
              "    <script>\n",
              "      const buttonEl =\n",
              "        document.querySelector('#df-7310c5b2-0a28-403d-bdb0-1b1f6d177c76 button.colab-df-convert');\n",
              "      buttonEl.style.display =\n",
              "        google.colab.kernel.accessAllowed ? 'block' : 'none';\n",
              "\n",
              "      async function convertToInteractive(key) {\n",
              "        const element = document.querySelector('#df-7310c5b2-0a28-403d-bdb0-1b1f6d177c76');\n",
              "        const dataTable =\n",
              "          await google.colab.kernel.invokeFunction('convertToInteractive',\n",
              "                                                    [key], {});\n",
              "        if (!dataTable) return;\n",
              "\n",
              "        const docLinkHtml = 'Like what you see? Visit the ' +\n",
              "          '<a target=\"_blank\" href=https://colab.research.google.com/notebooks/data_table.ipynb>data table notebook</a>'\n",
              "          + ' to learn more about interactive tables.';\n",
              "        element.innerHTML = '';\n",
              "        dataTable['output_type'] = 'display_data';\n",
              "        await google.colab.output.renderOutput(dataTable, element);\n",
              "        const docLink = document.createElement('div');\n",
              "        docLink.innerHTML = docLinkHtml;\n",
              "        element.appendChild(docLink);\n",
              "      }\n",
              "    </script>\n",
              "  </div>\n",
              "\n",
              "\n",
              "<div id=\"df-fae7db54-0e59-4354-85f3-19561c438492\">\n",
              "  <button class=\"colab-df-quickchart\" onclick=\"quickchart('df-fae7db54-0e59-4354-85f3-19561c438492')\"\n",
              "            title=\"Suggest charts\"\n",
              "            style=\"display:none;\">\n",
              "\n",
              "<svg xmlns=\"http://www.w3.org/2000/svg\" height=\"24px\"viewBox=\"0 0 24 24\"\n",
              "     width=\"24px\">\n",
              "    <g>\n",
              "        <path d=\"M19 3H5c-1.1 0-2 .9-2 2v14c0 1.1.9 2 2 2h14c1.1 0 2-.9 2-2V5c0-1.1-.9-2-2-2zM9 17H7v-7h2v7zm4 0h-2V7h2v10zm4 0h-2v-4h2v4z\"/>\n",
              "    </g>\n",
              "</svg>\n",
              "  </button>\n",
              "\n",
              "<style>\n",
              "  .colab-df-quickchart {\n",
              "      --bg-color: #E8F0FE;\n",
              "      --fill-color: #1967D2;\n",
              "      --hover-bg-color: #E2EBFA;\n",
              "      --hover-fill-color: #174EA6;\n",
              "      --disabled-fill-color: #AAA;\n",
              "      --disabled-bg-color: #DDD;\n",
              "  }\n",
              "\n",
              "  [theme=dark] .colab-df-quickchart {\n",
              "      --bg-color: #3B4455;\n",
              "      --fill-color: #D2E3FC;\n",
              "      --hover-bg-color: #434B5C;\n",
              "      --hover-fill-color: #FFFFFF;\n",
              "      --disabled-bg-color: #3B4455;\n",
              "      --disabled-fill-color: #666;\n",
              "  }\n",
              "\n",
              "  .colab-df-quickchart {\n",
              "    background-color: var(--bg-color);\n",
              "    border: none;\n",
              "    border-radius: 50%;\n",
              "    cursor: pointer;\n",
              "    display: none;\n",
              "    fill: var(--fill-color);\n",
              "    height: 32px;\n",
              "    padding: 0;\n",
              "    width: 32px;\n",
              "  }\n",
              "\n",
              "  .colab-df-quickchart:hover {\n",
              "    background-color: var(--hover-bg-color);\n",
              "    box-shadow: 0 1px 2px rgba(60, 64, 67, 0.3), 0 1px 3px 1px rgba(60, 64, 67, 0.15);\n",
              "    fill: var(--button-hover-fill-color);\n",
              "  }\n",
              "\n",
              "  .colab-df-quickchart-complete:disabled,\n",
              "  .colab-df-quickchart-complete:disabled:hover {\n",
              "    background-color: var(--disabled-bg-color);\n",
              "    fill: var(--disabled-fill-color);\n",
              "    box-shadow: none;\n",
              "  }\n",
              "\n",
              "  .colab-df-spinner {\n",
              "    border: 2px solid var(--fill-color);\n",
              "    border-color: transparent;\n",
              "    border-bottom-color: var(--fill-color);\n",
              "    animation:\n",
              "      spin 1s steps(1) infinite;\n",
              "  }\n",
              "\n",
              "  @keyframes spin {\n",
              "    0% {\n",
              "      border-color: transparent;\n",
              "      border-bottom-color: var(--fill-color);\n",
              "      border-left-color: var(--fill-color);\n",
              "    }\n",
              "    20% {\n",
              "      border-color: transparent;\n",
              "      border-left-color: var(--fill-color);\n",
              "      border-top-color: var(--fill-color);\n",
              "    }\n",
              "    30% {\n",
              "      border-color: transparent;\n",
              "      border-left-color: var(--fill-color);\n",
              "      border-top-color: var(--fill-color);\n",
              "      border-right-color: var(--fill-color);\n",
              "    }\n",
              "    40% {\n",
              "      border-color: transparent;\n",
              "      border-right-color: var(--fill-color);\n",
              "      border-top-color: var(--fill-color);\n",
              "    }\n",
              "    60% {\n",
              "      border-color: transparent;\n",
              "      border-right-color: var(--fill-color);\n",
              "    }\n",
              "    80% {\n",
              "      border-color: transparent;\n",
              "      border-right-color: var(--fill-color);\n",
              "      border-bottom-color: var(--fill-color);\n",
              "    }\n",
              "    90% {\n",
              "      border-color: transparent;\n",
              "      border-bottom-color: var(--fill-color);\n",
              "    }\n",
              "  }\n",
              "</style>\n",
              "\n",
              "  <script>\n",
              "    async function quickchart(key) {\n",
              "      const quickchartButtonEl =\n",
              "        document.querySelector('#' + key + ' button');\n",
              "      quickchartButtonEl.disabled = true;  // To prevent multiple clicks.\n",
              "      quickchartButtonEl.classList.add('colab-df-spinner');\n",
              "      try {\n",
              "        const charts = await google.colab.kernel.invokeFunction(\n",
              "            'suggestCharts', [key], {});\n",
              "      } catch (error) {\n",
              "        console.error('Error during call to suggestCharts:', error);\n",
              "      }\n",
              "      quickchartButtonEl.classList.remove('colab-df-spinner');\n",
              "      quickchartButtonEl.classList.add('colab-df-quickchart-complete');\n",
              "    }\n",
              "    (() => {\n",
              "      let quickchartButtonEl =\n",
              "        document.querySelector('#df-fae7db54-0e59-4354-85f3-19561c438492 button');\n",
              "      quickchartButtonEl.style.display =\n",
              "        google.colab.kernel.accessAllowed ? 'block' : 'none';\n",
              "    })();\n",
              "  </script>\n",
              "</div>\n",
              "\n",
              "  <div id=\"id_f7048649-b322-4a29-b59d-f25e2540e72e\">\n",
              "    <style>\n",
              "      .colab-df-generate {\n",
              "        background-color: #E8F0FE;\n",
              "        border: none;\n",
              "        border-radius: 50%;\n",
              "        cursor: pointer;\n",
              "        display: none;\n",
              "        fill: #1967D2;\n",
              "        height: 32px;\n",
              "        padding: 0 0 0 0;\n",
              "        width: 32px;\n",
              "      }\n",
              "\n",
              "      .colab-df-generate:hover {\n",
              "        background-color: #E2EBFA;\n",
              "        box-shadow: 0px 1px 2px rgba(60, 64, 67, 0.3), 0px 1px 3px 1px rgba(60, 64, 67, 0.15);\n",
              "        fill: #174EA6;\n",
              "      }\n",
              "\n",
              "      [theme=dark] .colab-df-generate {\n",
              "        background-color: #3B4455;\n",
              "        fill: #D2E3FC;\n",
              "      }\n",
              "\n",
              "      [theme=dark] .colab-df-generate:hover {\n",
              "        background-color: #434B5C;\n",
              "        box-shadow: 0px 1px 3px 1px rgba(0, 0, 0, 0.15);\n",
              "        filter: drop-shadow(0px 1px 2px rgba(0, 0, 0, 0.3));\n",
              "        fill: #FFFFFF;\n",
              "      }\n",
              "    </style>\n",
              "    <button class=\"colab-df-generate\" onclick=\"generateWithVariable('ICIO_df')\"\n",
              "            title=\"Generate code using this dataframe.\"\n",
              "            style=\"display:none;\">\n",
              "\n",
              "  <svg xmlns=\"http://www.w3.org/2000/svg\" height=\"24px\"viewBox=\"0 0 24 24\"\n",
              "       width=\"24px\">\n",
              "    <path d=\"M7,19H8.4L18.45,9,17,7.55,7,17.6ZM5,21V16.75L18.45,3.32a2,2,0,0,1,2.83,0l1.4,1.43a1.91,1.91,0,0,1,.58,1.4,1.91,1.91,0,0,1-.58,1.4L9.25,21ZM18.45,9,17,7.55Zm-12,3A5.31,5.31,0,0,0,4.9,8.1,5.31,5.31,0,0,0,1,6.5,5.31,5.31,0,0,0,4.9,4.9,5.31,5.31,0,0,0,6.5,1,5.31,5.31,0,0,0,8.1,4.9,5.31,5.31,0,0,0,12,6.5,5.46,5.46,0,0,0,6.5,12Z\"/>\n",
              "  </svg>\n",
              "    </button>\n",
              "    <script>\n",
              "      (() => {\n",
              "      const buttonEl =\n",
              "        document.querySelector('#id_f7048649-b322-4a29-b59d-f25e2540e72e button.colab-df-generate');\n",
              "      buttonEl.style.display =\n",
              "        google.colab.kernel.accessAllowed ? 'block' : 'none';\n",
              "\n",
              "      buttonEl.onclick = () => {\n",
              "        google.colab.notebook.generateWithVariable('ICIO_df');\n",
              "      }\n",
              "      })();\n",
              "    </script>\n",
              "  </div>\n",
              "\n",
              "    </div>\n",
              "  </div>\n"
            ]
          },
          "metadata": {},
          "execution_count": 153
        }
      ]
    },
    {
      "cell_type": "code",
      "source": [
        "ICIO_df.to_csv('ICIO_4cons_3secs_1Fd_2020.csv',encoding=\"utf-8-sig\")"
      ],
      "metadata": {
        "id": "BnRT1-4nJC-m"
      },
      "execution_count": 154,
      "outputs": []
    },
    {
      "cell_type": "code",
      "source": [],
      "metadata": {
        "id": "mQRzmjOn2mLg"
      },
      "execution_count": 154,
      "outputs": []
    }
  ]
}