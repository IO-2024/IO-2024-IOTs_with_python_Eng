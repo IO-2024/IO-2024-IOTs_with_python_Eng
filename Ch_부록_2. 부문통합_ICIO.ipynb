{
  "nbformat": 4,
  "nbformat_minor": 0,
  "metadata": {
    "colab": {
      "provenance": [],
      "include_colab_link": true
    },
    "kernelspec": {
      "name": "python3",
      "display_name": "Python 3"
    },
    "language_info": {
      "name": "python"
    }
  },
  "cells": [
    {
      "cell_type": "markdown",
      "metadata": {
        "id": "view-in-github",
        "colab_type": "text"
      },
      "source": [
        "<a href=\"https://colab.research.google.com/github/IO-2024/IOTs_with_python/blob/main/Ch_%EB%B6%80%EB%A1%9D_2.%20%EB%B6%80%EB%AC%B8%ED%86%B5%ED%95%A9_ICIO.ipynb\" target=\"_parent\"><img src=\"https://colab.research.google.com/assets/colab-badge.svg\" alt=\"Open In Colab\"/></a>"
      ]
    },
    {
      "cell_type": "code",
      "source": [
        "import numpy as np   # Numpy import\n",
        "import pandas as pd  # Pandas import"
      ],
      "metadata": {
        "id": "TR7JvW8CxBFT"
      },
      "execution_count": 99,
      "outputs": []
    },
    {
      "cell_type": "code",
      "source": [
        "np.set_printoptions(precision=3,suppress=True) # 결과를 소수 3자리까지만 보여주는 옵션"
      ],
      "metadata": {
        "id": "2l9tk4XA4Nkc"
      },
      "execution_count": 100,
      "outputs": []
    },
    {
      "cell_type": "code",
      "source": [
        "# from google.colab import drive\n",
        "# drive.mount('/content/drive')"
      ],
      "metadata": {
        "id": "UUugbbcO-CMK"
      },
      "execution_count": 101,
      "outputs": []
    },
    {
      "cell_type": "code",
      "source": [
        "# icio =pd.read_csv('/content/drive/MyDrive/ICIO/ICIO2021_2018.csv')"
      ],
      "metadata": {
        "id": "dH4scTnJ9Wll"
      },
      "execution_count": 102,
      "outputs": []
    },
    {
      "cell_type": "markdown",
      "source": [
        "[ICIO_다운로드 사이트](https://www.oecd.org/sti/ind/inter-country-input-output-tables.htm)"
      ],
      "metadata": {
        "id": "OG0KVZvxdtqZ"
      }
    },
    {
      "cell_type": "code",
      "source": [
        "Icio = pd.read_csv('/content/2020.csv', low_memory = False)  # ICIO 불러오기"
      ],
      "metadata": {
        "id": "1tuN2LradEW4"
      },
      "execution_count": 103,
      "outputs": []
    },
    {
      "cell_type": "code",
      "source": [
        "Icio_1 = Icio.to_numpy()\n",
        "Icio_2=Icio_1[:,1:]\n",
        "Icio_2.shape"
      ],
      "metadata": {
        "id": "DhBtrP5M9vRR",
        "outputId": "846f1f5c-349f-4605-ea79-c4d8f5bed8de",
        "colab": {
          "base_uri": "https://localhost:8080/"
        }
      },
      "execution_count": 104,
      "outputs": [
        {
          "output_type": "execute_result",
          "data": {
            "text/plain": [
              "(3648, 4108)"
            ]
          },
          "metadata": {},
          "execution_count": 104
        }
      ]
    },
    {
      "cell_type": "markdown",
      "source": [
        "### 한국 1, 중국 2, 미국 3, ROW 4"
      ],
      "metadata": {
        "id": "AvyOqU89gls6"
      }
    },
    {
      "cell_type": "code",
      "source": [
        "url_cdd = \"https://raw.githubusercontent.com/IO-2024/IOTs_with_python/main/data/cd_icio_f_new.csv\"  #코드매치 파일 불러오기\n",
        "Cd = pd.read_csv(url_cdd)\n",
        "Cd.head()"
      ],
      "metadata": {
        "id": "yXmH7e7troAC",
        "outputId": "ebb5e83d-6b03-443c-f60d-5299e11a3c45",
        "colab": {
          "base_uri": "https://localhost:8080/",
          "height": 206
        }
      },
      "execution_count": 105,
      "outputs": [
        {
          "output_type": "execute_result",
          "data": {
            "text/plain": [
              "         cons  old  new\n",
              "0  ARG_A01_02    1   10\n",
              "1     ARG_A03    2   10\n",
              "2  ARG_B05_06    3   11\n",
              "3  ARG_B07_08    4   11\n",
              "4     ARG_B09    5   11"
            ],
            "text/html": [
              "\n",
              "  <div id=\"df-0f6ac513-b54e-49f4-bc8e-a0eaba85a60c\" class=\"colab-df-container\">\n",
              "    <div>\n",
              "<style scoped>\n",
              "    .dataframe tbody tr th:only-of-type {\n",
              "        vertical-align: middle;\n",
              "    }\n",
              "\n",
              "    .dataframe tbody tr th {\n",
              "        vertical-align: top;\n",
              "    }\n",
              "\n",
              "    .dataframe thead th {\n",
              "        text-align: right;\n",
              "    }\n",
              "</style>\n",
              "<table border=\"1\" class=\"dataframe\">\n",
              "  <thead>\n",
              "    <tr style=\"text-align: right;\">\n",
              "      <th></th>\n",
              "      <th>cons</th>\n",
              "      <th>old</th>\n",
              "      <th>new</th>\n",
              "    </tr>\n",
              "  </thead>\n",
              "  <tbody>\n",
              "    <tr>\n",
              "      <th>0</th>\n",
              "      <td>ARG_A01_02</td>\n",
              "      <td>1</td>\n",
              "      <td>10</td>\n",
              "    </tr>\n",
              "    <tr>\n",
              "      <th>1</th>\n",
              "      <td>ARG_A03</td>\n",
              "      <td>2</td>\n",
              "      <td>10</td>\n",
              "    </tr>\n",
              "    <tr>\n",
              "      <th>2</th>\n",
              "      <td>ARG_B05_06</td>\n",
              "      <td>3</td>\n",
              "      <td>11</td>\n",
              "    </tr>\n",
              "    <tr>\n",
              "      <th>3</th>\n",
              "      <td>ARG_B07_08</td>\n",
              "      <td>4</td>\n",
              "      <td>11</td>\n",
              "    </tr>\n",
              "    <tr>\n",
              "      <th>4</th>\n",
              "      <td>ARG_B09</td>\n",
              "      <td>5</td>\n",
              "      <td>11</td>\n",
              "    </tr>\n",
              "  </tbody>\n",
              "</table>\n",
              "</div>\n",
              "    <div class=\"colab-df-buttons\">\n",
              "\n",
              "  <div class=\"colab-df-container\">\n",
              "    <button class=\"colab-df-convert\" onclick=\"convertToInteractive('df-0f6ac513-b54e-49f4-bc8e-a0eaba85a60c')\"\n",
              "            title=\"Convert this dataframe to an interactive table.\"\n",
              "            style=\"display:none;\">\n",
              "\n",
              "  <svg xmlns=\"http://www.w3.org/2000/svg\" height=\"24px\" viewBox=\"0 -960 960 960\">\n",
              "    <path d=\"M120-120v-720h720v720H120Zm60-500h600v-160H180v160Zm220 220h160v-160H400v160Zm0 220h160v-160H400v160ZM180-400h160v-160H180v160Zm440 0h160v-160H620v160ZM180-180h160v-160H180v160Zm440 0h160v-160H620v160Z\"/>\n",
              "  </svg>\n",
              "    </button>\n",
              "\n",
              "  <style>\n",
              "    .colab-df-container {\n",
              "      display:flex;\n",
              "      gap: 12px;\n",
              "    }\n",
              "\n",
              "    .colab-df-convert {\n",
              "      background-color: #E8F0FE;\n",
              "      border: none;\n",
              "      border-radius: 50%;\n",
              "      cursor: pointer;\n",
              "      display: none;\n",
              "      fill: #1967D2;\n",
              "      height: 32px;\n",
              "      padding: 0 0 0 0;\n",
              "      width: 32px;\n",
              "    }\n",
              "\n",
              "    .colab-df-convert:hover {\n",
              "      background-color: #E2EBFA;\n",
              "      box-shadow: 0px 1px 2px rgba(60, 64, 67, 0.3), 0px 1px 3px 1px rgba(60, 64, 67, 0.15);\n",
              "      fill: #174EA6;\n",
              "    }\n",
              "\n",
              "    .colab-df-buttons div {\n",
              "      margin-bottom: 4px;\n",
              "    }\n",
              "\n",
              "    [theme=dark] .colab-df-convert {\n",
              "      background-color: #3B4455;\n",
              "      fill: #D2E3FC;\n",
              "    }\n",
              "\n",
              "    [theme=dark] .colab-df-convert:hover {\n",
              "      background-color: #434B5C;\n",
              "      box-shadow: 0px 1px 3px 1px rgba(0, 0, 0, 0.15);\n",
              "      filter: drop-shadow(0px 1px 2px rgba(0, 0, 0, 0.3));\n",
              "      fill: #FFFFFF;\n",
              "    }\n",
              "  </style>\n",
              "\n",
              "    <script>\n",
              "      const buttonEl =\n",
              "        document.querySelector('#df-0f6ac513-b54e-49f4-bc8e-a0eaba85a60c button.colab-df-convert');\n",
              "      buttonEl.style.display =\n",
              "        google.colab.kernel.accessAllowed ? 'block' : 'none';\n",
              "\n",
              "      async function convertToInteractive(key) {\n",
              "        const element = document.querySelector('#df-0f6ac513-b54e-49f4-bc8e-a0eaba85a60c');\n",
              "        const dataTable =\n",
              "          await google.colab.kernel.invokeFunction('convertToInteractive',\n",
              "                                                    [key], {});\n",
              "        if (!dataTable) return;\n",
              "\n",
              "        const docLinkHtml = 'Like what you see? Visit the ' +\n",
              "          '<a target=\"_blank\" href=https://colab.research.google.com/notebooks/data_table.ipynb>data table notebook</a>'\n",
              "          + ' to learn more about interactive tables.';\n",
              "        element.innerHTML = '';\n",
              "        dataTable['output_type'] = 'display_data';\n",
              "        await google.colab.output.renderOutput(dataTable, element);\n",
              "        const docLink = document.createElement('div');\n",
              "        docLink.innerHTML = docLinkHtml;\n",
              "        element.appendChild(docLink);\n",
              "      }\n",
              "    </script>\n",
              "  </div>\n",
              "\n",
              "\n",
              "<div id=\"df-4104e38b-9807-42fb-b9d6-234346ab2989\">\n",
              "  <button class=\"colab-df-quickchart\" onclick=\"quickchart('df-4104e38b-9807-42fb-b9d6-234346ab2989')\"\n",
              "            title=\"Suggest charts\"\n",
              "            style=\"display:none;\">\n",
              "\n",
              "<svg xmlns=\"http://www.w3.org/2000/svg\" height=\"24px\"viewBox=\"0 0 24 24\"\n",
              "     width=\"24px\">\n",
              "    <g>\n",
              "        <path d=\"M19 3H5c-1.1 0-2 .9-2 2v14c0 1.1.9 2 2 2h14c1.1 0 2-.9 2-2V5c0-1.1-.9-2-2-2zM9 17H7v-7h2v7zm4 0h-2V7h2v10zm4 0h-2v-4h2v4z\"/>\n",
              "    </g>\n",
              "</svg>\n",
              "  </button>\n",
              "\n",
              "<style>\n",
              "  .colab-df-quickchart {\n",
              "      --bg-color: #E8F0FE;\n",
              "      --fill-color: #1967D2;\n",
              "      --hover-bg-color: #E2EBFA;\n",
              "      --hover-fill-color: #174EA6;\n",
              "      --disabled-fill-color: #AAA;\n",
              "      --disabled-bg-color: #DDD;\n",
              "  }\n",
              "\n",
              "  [theme=dark] .colab-df-quickchart {\n",
              "      --bg-color: #3B4455;\n",
              "      --fill-color: #D2E3FC;\n",
              "      --hover-bg-color: #434B5C;\n",
              "      --hover-fill-color: #FFFFFF;\n",
              "      --disabled-bg-color: #3B4455;\n",
              "      --disabled-fill-color: #666;\n",
              "  }\n",
              "\n",
              "  .colab-df-quickchart {\n",
              "    background-color: var(--bg-color);\n",
              "    border: none;\n",
              "    border-radius: 50%;\n",
              "    cursor: pointer;\n",
              "    display: none;\n",
              "    fill: var(--fill-color);\n",
              "    height: 32px;\n",
              "    padding: 0;\n",
              "    width: 32px;\n",
              "  }\n",
              "\n",
              "  .colab-df-quickchart:hover {\n",
              "    background-color: var(--hover-bg-color);\n",
              "    box-shadow: 0 1px 2px rgba(60, 64, 67, 0.3), 0 1px 3px 1px rgba(60, 64, 67, 0.15);\n",
              "    fill: var(--button-hover-fill-color);\n",
              "  }\n",
              "\n",
              "  .colab-df-quickchart-complete:disabled,\n",
              "  .colab-df-quickchart-complete:disabled:hover {\n",
              "    background-color: var(--disabled-bg-color);\n",
              "    fill: var(--disabled-fill-color);\n",
              "    box-shadow: none;\n",
              "  }\n",
              "\n",
              "  .colab-df-spinner {\n",
              "    border: 2px solid var(--fill-color);\n",
              "    border-color: transparent;\n",
              "    border-bottom-color: var(--fill-color);\n",
              "    animation:\n",
              "      spin 1s steps(1) infinite;\n",
              "  }\n",
              "\n",
              "  @keyframes spin {\n",
              "    0% {\n",
              "      border-color: transparent;\n",
              "      border-bottom-color: var(--fill-color);\n",
              "      border-left-color: var(--fill-color);\n",
              "    }\n",
              "    20% {\n",
              "      border-color: transparent;\n",
              "      border-left-color: var(--fill-color);\n",
              "      border-top-color: var(--fill-color);\n",
              "    }\n",
              "    30% {\n",
              "      border-color: transparent;\n",
              "      border-left-color: var(--fill-color);\n",
              "      border-top-color: var(--fill-color);\n",
              "      border-right-color: var(--fill-color);\n",
              "    }\n",
              "    40% {\n",
              "      border-color: transparent;\n",
              "      border-right-color: var(--fill-color);\n",
              "      border-top-color: var(--fill-color);\n",
              "    }\n",
              "    60% {\n",
              "      border-color: transparent;\n",
              "      border-right-color: var(--fill-color);\n",
              "    }\n",
              "    80% {\n",
              "      border-color: transparent;\n",
              "      border-right-color: var(--fill-color);\n",
              "      border-bottom-color: var(--fill-color);\n",
              "    }\n",
              "    90% {\n",
              "      border-color: transparent;\n",
              "      border-bottom-color: var(--fill-color);\n",
              "    }\n",
              "  }\n",
              "</style>\n",
              "\n",
              "  <script>\n",
              "    async function quickchart(key) {\n",
              "      const quickchartButtonEl =\n",
              "        document.querySelector('#' + key + ' button');\n",
              "      quickchartButtonEl.disabled = true;  // To prevent multiple clicks.\n",
              "      quickchartButtonEl.classList.add('colab-df-spinner');\n",
              "      try {\n",
              "        const charts = await google.colab.kernel.invokeFunction(\n",
              "            'suggestCharts', [key], {});\n",
              "      } catch (error) {\n",
              "        console.error('Error during call to suggestCharts:', error);\n",
              "      }\n",
              "      quickchartButtonEl.classList.remove('colab-df-spinner');\n",
              "      quickchartButtonEl.classList.add('colab-df-quickchart-complete');\n",
              "    }\n",
              "    (() => {\n",
              "      let quickchartButtonEl =\n",
              "        document.querySelector('#df-4104e38b-9807-42fb-b9d6-234346ab2989 button');\n",
              "      quickchartButtonEl.style.display =\n",
              "        google.colab.kernel.accessAllowed ? 'block' : 'none';\n",
              "    })();\n",
              "  </script>\n",
              "</div>\n",
              "\n",
              "    </div>\n",
              "  </div>\n"
            ],
            "application/vnd.google.colaboratory.intrinsic+json": {
              "type": "dataframe",
              "variable_name": "Cd",
              "summary": "{\n  \"name\": \"Cd\",\n  \"rows\": 3645,\n  \"fields\": [\n    {\n      \"column\": \"cons\",\n      \"properties\": {\n        \"dtype\": \"string\",\n        \"num_unique_values\": 3645,\n        \"samples\": [\n          \"CAN_C20\",\n          \"SVK_B05_06\",\n          \"TUR_T\"\n        ],\n        \"semantic_type\": \"\",\n        \"description\": \"\"\n      }\n    },\n    {\n      \"column\": \"old\",\n      \"properties\": {\n        \"dtype\": \"number\",\n        \"std\": 1052,\n        \"min\": 1,\n        \"max\": 3645,\n        \"num_unique_values\": 3645,\n        \"samples\": [\n          416,\n          2928,\n          3195\n        ],\n        \"semantic_type\": \"\",\n        \"description\": \"\"\n      }\n    },\n    {\n      \"column\": \"new\",\n      \"properties\": {\n        \"dtype\": \"number\",\n        \"std\": 1,\n        \"min\": 1,\n        \"max\": 12,\n        \"num_unique_values\": 12,\n        \"samples\": [\n          8,\n          7,\n          10\n        ],\n        \"semantic_type\": \"\",\n        \"description\": \"\"\n      }\n    }\n  ]\n}"
            }
          },
          "metadata": {},
          "execution_count": 105
        }
      ]
    },
    {
      "cell_type": "code",
      "source": [
        "Ccdd = Cd.to_numpy()\n",
        "Cd_for_itr = Ccdd[:,1:]\n",
        "Cd_for_itr"
      ],
      "metadata": {
        "id": "M2e69LcT_59t",
        "outputId": "86248122-159d-49e2-86c3-a8322997c059",
        "colab": {
          "base_uri": "https://localhost:8080/"
        }
      },
      "execution_count": 106,
      "outputs": [
        {
          "output_type": "execute_result",
          "data": {
            "text/plain": [
              "array([[1, 10],\n",
              "       [2, 10],\n",
              "       [3, 11],\n",
              "       ...,\n",
              "       [3643, 6],\n",
              "       [3644, 6],\n",
              "       [3645, 6]], dtype=object)"
            ]
          },
          "metadata": {},
          "execution_count": 106
        }
      ]
    },
    {
      "cell_type": "code",
      "source": [
        "Mtx = np.zeros((12,3645)) # 부문통합을 위한 코드가 많을 경우 상기의 코드를 수작업으로 미리 하는 것이 쉽자 않으므로 반복문을 통해 3x33 임시코드 만들기\n",
        "Cd_3 = Cd_for_itr[:,1]\n",
        "Cd_33 = Cd_for_itr[:,0]\n",
        "row=Cd_3\n",
        "col=Cd_33\n",
        "for i, j in zip(row,col):\n",
        "  Mtx[i-1,j-1] = 1\n",
        "print(Mtx)"
      ],
      "metadata": {
        "id": "GdSKaueLdDOn",
        "outputId": "29d4cc2c-c55c-46b6-f216-e7b1f8ce26c0",
        "colab": {
          "base_uri": "https://localhost:8080/"
        }
      },
      "execution_count": 107,
      "outputs": [
        {
          "output_type": "stream",
          "name": "stdout",
          "text": [
            "[[0. 0. 0. ... 0. 0. 0.]\n",
            " [0. 0. 0. ... 0. 0. 0.]\n",
            " [0. 0. 0. ... 0. 0. 0.]\n",
            " ...\n",
            " [1. 1. 0. ... 0. 0. 0.]\n",
            " [0. 0. 1. ... 0. 0. 0.]\n",
            " [0. 0. 0. ... 0. 0. 0.]]\n"
          ]
        }
      ]
    },
    {
      "cell_type": "code",
      "source": [
        "Code=Mtx.reshape([12,3645])\n",
        "Code.shape"
      ],
      "metadata": {
        "id": "1gXI65U3K2hG",
        "outputId": "96a98da1-e67e-44cc-a352-be144e58f52b",
        "colab": {
          "base_uri": "https://localhost:8080/"
        }
      },
      "execution_count": 108,
      "outputs": [
        {
          "output_type": "execute_result",
          "data": {
            "text/plain": [
              "(12, 3645)"
            ]
          },
          "metadata": {},
          "execution_count": 108
        }
      ]
    },
    {
      "cell_type": "code",
      "source": [
        "Nae_tot = (Code@Icio_2[0:3645,0:3645])@Code.T # 중간투입(수요) 12x12 만들기\n",
        "Nae_tot.shape"
      ],
      "metadata": {
        "id": "hwAN1N7qGAtx",
        "outputId": "3add3da7-101f-454e-f159-4d278aacd87b",
        "colab": {
          "base_uri": "https://localhost:8080/"
        }
      },
      "execution_count": 109,
      "outputs": [
        {
          "output_type": "execute_result",
          "data": {
            "text/plain": [
              "(12, 12)"
            ]
          },
          "metadata": {},
          "execution_count": 109
        }
      ]
    },
    {
      "cell_type": "code",
      "source": [
        "# url_cdtx = \"https://raw.githubusercontent.com/Muraka64/IOTs_with_python/main/data/cd_tax_new.csv\"  # 세금 코드매치 파일 불러오기\n",
        "# Cd_tx = pd.read_csv(url_cdtx)\n",
        "# Cd_tx.shape"
      ],
      "metadata": {
        "id": "U2KVZnyLGAyV"
      },
      "execution_count": 110,
      "outputs": []
    },
    {
      "cell_type": "code",
      "source": [
        "url_cns = \"https://raw.githubusercontent.com/IO-2024/IOTs_with_python/main/data/cd_cons_new.csv\"  # 국가 코드매치 파일 불러오기\n",
        "Cd_cns = pd.read_csv(url_cns)\n",
        "Cd_cns.shape"
      ],
      "metadata": {
        "id": "JQxUsF6DiW7A",
        "outputId": "cc7d04e9-2ec4-48fc-ebee-e8065190e7dd",
        "colab": {
          "base_uri": "https://localhost:8080/"
        }
      },
      "execution_count": 111,
      "outputs": [
        {
          "output_type": "execute_result",
          "data": {
            "text/plain": [
              "(77, 3)"
            ]
          },
          "metadata": {},
          "execution_count": 111
        }
      ]
    },
    {
      "cell_type": "code",
      "source": [
        "Ccdd_cns = Cd_cns.to_numpy()\n",
        "Cd_for_itr_cns = Ccdd_cns[:,1:]\n",
        "# cd_for_itr_tx"
      ],
      "metadata": {
        "id": "GqX0Pk4vprXZ"
      },
      "execution_count": 112,
      "outputs": []
    },
    {
      "cell_type": "code",
      "source": [
        "Mtx_cns= np.zeros((4,77)) # 부문통합을 위한 코드가 많을 경우 상기의 코드를 수작업으로 미리 하는 것이 쉽자 않으므로 반복문을 통해 3x33 임시코드 만들기\n",
        "Cd_3 = Cd_for_itr_cns[:,1]\n",
        "Cd_33 = Cd_for_itr_cns[:,0]\n",
        "Row=Cd_3\n",
        "Col=Cd_33\n",
        "for i, j in zip(Row,Col):\n",
        "  Mtx_cns[i-1,j-1] = 1\n",
        "print(Mtx_cns)"
      ],
      "metadata": {
        "id": "J3tdCNxcprdM",
        "outputId": "5638402c-7536-48e7-e89f-4f61b6b5fb4f",
        "colab": {
          "base_uri": "https://localhost:8080/"
        }
      },
      "execution_count": 113,
      "outputs": [
        {
          "output_type": "stream",
          "name": "stdout",
          "text": [
            "[[0. 0. 0. 0. 0. 0. 0. 0. 0. 0. 0. 0. 0. 0. 0. 0. 0. 0. 0. 0. 0. 0. 0. 0.\n",
            "  0. 0. 0. 0. 0. 0. 0. 0. 0. 0. 0. 0. 0. 0. 0. 0. 0. 1. 0. 0. 0. 0. 0. 0.\n",
            "  0. 0. 0. 0. 0. 0. 0. 0. 0. 0. 0. 0. 0. 0. 0. 0. 0. 0. 0. 0. 0. 0. 0. 0.\n",
            "  0. 0. 0. 0. 0.]\n",
            " [0. 0. 0. 0. 0. 0. 0. 0. 0. 0. 0. 0. 1. 0. 0. 0. 0. 0. 0. 0. 0. 0. 0. 0.\n",
            "  0. 0. 0. 0. 0. 0. 0. 0. 0. 0. 0. 0. 0. 0. 0. 0. 0. 0. 0. 0. 0. 0. 0. 0.\n",
            "  0. 0. 0. 0. 0. 0. 0. 0. 0. 0. 0. 0. 0. 0. 0. 0. 0. 0. 0. 0. 0. 0. 0. 0.\n",
            "  0. 0. 0. 0. 0.]\n",
            " [1. 1. 1. 1. 1. 1. 1. 1. 1. 1. 1. 1. 0. 1. 1. 1. 1. 1. 1. 1. 1. 1. 1. 1.\n",
            "  1. 1. 1. 1. 1. 1. 1. 1. 1. 1. 1. 1. 1. 1. 1. 1. 1. 0. 1. 1. 1. 1. 1. 1.\n",
            "  1. 1. 1. 1. 1. 1. 1. 1. 1. 1. 1. 1. 1. 1. 1. 1. 1. 1. 1. 1. 1. 1. 1. 1.\n",
            "  1. 1. 1. 1. 1.]\n",
            " [0. 0. 0. 0. 0. 0. 0. 0. 0. 0. 0. 0. 0. 0. 0. 0. 0. 0. 0. 0. 0. 0. 0. 0.\n",
            "  0. 0. 0. 0. 0. 0. 0. 0. 0. 0. 0. 0. 0. 0. 0. 0. 0. 0. 0. 0. 0. 0. 0. 0.\n",
            "  0. 0. 0. 0. 0. 0. 0. 0. 0. 0. 0. 0. 0. 0. 0. 0. 0. 0. 0. 0. 0. 0. 0. 0.\n",
            "  0. 0. 0. 0. 0.]]\n"
          ]
        }
      ]
    },
    {
      "cell_type": "code",
      "source": [
        "# code_tx = Mtx_tx\n",
        "Code_cns = Mtx_cns\n",
        "Code_cns"
      ],
      "metadata": {
        "id": "PraMpI0AKZL1",
        "colab": {
          "base_uri": "https://localhost:8080/"
        },
        "outputId": "ab2d9c2d-fdaf-4903-fcc1-751a3aa268f6"
      },
      "execution_count": 114,
      "outputs": [
        {
          "output_type": "execute_result",
          "data": {
            "text/plain": [
              "array([[0., 0., 0., 0., 0., 0., 0., 0., 0., 0., 0., 0., 0., 0., 0., 0.,\n",
              "        0., 0., 0., 0., 0., 0., 0., 0., 0., 0., 0., 0., 0., 0., 0., 0.,\n",
              "        0., 0., 0., 0., 0., 0., 0., 0., 0., 1., 0., 0., 0., 0., 0., 0.,\n",
              "        0., 0., 0., 0., 0., 0., 0., 0., 0., 0., 0., 0., 0., 0., 0., 0.,\n",
              "        0., 0., 0., 0., 0., 0., 0., 0., 0., 0., 0., 0., 0.],\n",
              "       [0., 0., 0., 0., 0., 0., 0., 0., 0., 0., 0., 0., 1., 0., 0., 0.,\n",
              "        0., 0., 0., 0., 0., 0., 0., 0., 0., 0., 0., 0., 0., 0., 0., 0.,\n",
              "        0., 0., 0., 0., 0., 0., 0., 0., 0., 0., 0., 0., 0., 0., 0., 0.,\n",
              "        0., 0., 0., 0., 0., 0., 0., 0., 0., 0., 0., 0., 0., 0., 0., 0.,\n",
              "        0., 0., 0., 0., 0., 0., 0., 0., 0., 0., 0., 0., 0.],\n",
              "       [1., 1., 1., 1., 1., 1., 1., 1., 1., 1., 1., 1., 0., 1., 1., 1.,\n",
              "        1., 1., 1., 1., 1., 1., 1., 1., 1., 1., 1., 1., 1., 1., 1., 1.,\n",
              "        1., 1., 1., 1., 1., 1., 1., 1., 1., 0., 1., 1., 1., 1., 1., 1.,\n",
              "        1., 1., 1., 1., 1., 1., 1., 1., 1., 1., 1., 1., 1., 1., 1., 1.,\n",
              "        1., 1., 1., 1., 1., 1., 1., 1., 1., 1., 1., 1., 1.],\n",
              "       [0., 0., 0., 0., 0., 0., 0., 0., 0., 0., 0., 0., 0., 0., 0., 0.,\n",
              "        0., 0., 0., 0., 0., 0., 0., 0., 0., 0., 0., 0., 0., 0., 0., 0.,\n",
              "        0., 0., 0., 0., 0., 0., 0., 0., 0., 0., 0., 0., 0., 0., 0., 0.,\n",
              "        0., 0., 0., 0., 0., 0., 0., 0., 0., 0., 0., 0., 0., 0., 0., 0.,\n",
              "        0., 0., 0., 0., 0., 0., 0., 0., 0., 0., 0., 0., 0.]])"
            ]
          },
          "metadata": {},
          "execution_count": 114
        }
      ]
    },
    {
      "cell_type": "code",
      "source": [
        "Nae_tx = Icio_2[3645,0:3645]@Code.T # 세금 행을 12부문으로 만들기\n"
      ],
      "metadata": {
        "id": "5c-zt7MIK-xv"
      },
      "execution_count": 115,
      "outputs": []
    },
    {
      "cell_type": "code",
      "source": [
        "Vact_row = Icio_2[-2:,0:3645]@Code.T # 부가가치 및 산출액\n",
        "Vact_row.shape"
      ],
      "metadata": {
        "id": "qztNjQCtK-0Y",
        "outputId": "e63a75dd-3e2e-4eb3-ef54-ba06fc936a02",
        "colab": {
          "base_uri": "https://localhost:8080/"
        }
      },
      "execution_count": 116,
      "outputs": [
        {
          "output_type": "execute_result",
          "data": {
            "text/plain": [
              "(2, 12)"
            ]
          },
          "metadata": {},
          "execution_count": 116
        }
      ]
    },
    {
      "cell_type": "code",
      "source": [
        "url_cdfd = \"https://raw.githubusercontent.com/IO-2024/IOTs_with_python/main/data/cd_fd_4cons_new.csv\"  #최종수요 코드매치 파일 불러오기\n",
        "Cd_fd = pd.read_csv(url_cdfd)\n",
        "Cd_fd.shape"
      ],
      "metadata": {
        "id": "TveEEi60VWLR",
        "outputId": "38104d79-f91d-484d-aa48-39d040305191",
        "colab": {
          "base_uri": "https://localhost:8080/"
        }
      },
      "execution_count": 117,
      "outputs": [
        {
          "output_type": "execute_result",
          "data": {
            "text/plain": [
              "(462, 3)"
            ]
          },
          "metadata": {},
          "execution_count": 117
        }
      ]
    },
    {
      "cell_type": "code",
      "source": [
        "Ccdd_fd = Cd_fd.to_numpy()\n",
        "Cd_for_itr_fd = Ccdd_fd[:,1:3]\n",
        "Cd_for_itr_fd.shape"
      ],
      "metadata": {
        "id": "lyL9UFZoVmBn",
        "outputId": "d4b1c060-726f-47a6-f46d-97899a727a7a",
        "colab": {
          "base_uri": "https://localhost:8080/"
        }
      },
      "execution_count": 118,
      "outputs": [
        {
          "output_type": "execute_result",
          "data": {
            "text/plain": [
              "(462, 2)"
            ]
          },
          "metadata": {},
          "execution_count": 118
        }
      ]
    },
    {
      "cell_type": "code",
      "source": [
        "Cd_33.shape"
      ],
      "metadata": {
        "id": "mhC2lcpBW6Us",
        "outputId": "7cfe9614-aac0-414d-a6a0-4cba14bbce92",
        "colab": {
          "base_uri": "https://localhost:8080/"
        }
      },
      "execution_count": 119,
      "outputs": [
        {
          "output_type": "execute_result",
          "data": {
            "text/plain": [
              "(77,)"
            ]
          },
          "metadata": {},
          "execution_count": 119
        }
      ]
    },
    {
      "cell_type": "code",
      "source": [
        "Mtx_fd= np.zeros((4,462)) # 부문통합을 위한 코드가 많을 경우 상기의 코드를 수작업으로 미리 하는 것이 쉽자 않으므로 반복문을 통해 3x33 임시코드 만들기\n",
        "Cd_3 = Cd_for_itr_fd[:,1]\n",
        "Cd_33 = Cd_for_itr_fd[:,0]\n",
        "Row=Cd_3\n",
        "Col=Cd_33\n",
        "for i, j in zip(Row,Col):\n",
        "  Mtx_fd[i-1,j-1] = 1\n",
        "print(Mtx_fd)"
      ],
      "metadata": {
        "id": "-DfyrxNAVmEF",
        "outputId": "41b89422-9572-4f6d-b2af-a24737358eb5",
        "colab": {
          "base_uri": "https://localhost:8080/"
        }
      },
      "execution_count": 120,
      "outputs": [
        {
          "output_type": "stream",
          "name": "stdout",
          "text": [
            "[[0. 0. 0. ... 0. 0. 0.]\n",
            " [0. 0. 0. ... 0. 0. 0.]\n",
            " [0. 0. 0. ... 0. 0. 0.]\n",
            " [1. 1. 1. ... 1. 1. 1.]]\n"
          ]
        }
      ]
    },
    {
      "cell_type": "code",
      "source": [
        "Code_fd = Mtx_fd\n",
        "Code_fd.shape"
      ],
      "metadata": {
        "id": "DCfHIGyDVmGS",
        "outputId": "66c1ed28-0608-4989-e5bc-3357f7367696",
        "colab": {
          "base_uri": "https://localhost:8080/"
        }
      },
      "execution_count": 121,
      "outputs": [
        {
          "output_type": "execute_result",
          "data": {
            "text/plain": [
              "(4, 462)"
            ]
          },
          "metadata": {},
          "execution_count": 121
        }
      ]
    },
    {
      "cell_type": "code",
      "source": [
        "Fd = Code@Icio_2[0:3645,3645:4107]@Code_fd.T # 최종수요를 12부문으로 만들기\n",
        "Code_fd.shape"
      ],
      "metadata": {
        "id": "Q0YhpDKhVmIY",
        "outputId": "25bd9e40-b491-4c9c-dea7-0ec29fbf8b54",
        "colab": {
          "base_uri": "https://localhost:8080/"
        }
      },
      "execution_count": 122,
      "outputs": [
        {
          "output_type": "execute_result",
          "data": {
            "text/plain": [
              "(4, 462)"
            ]
          },
          "metadata": {},
          "execution_count": 122
        }
      ]
    },
    {
      "cell_type": "code",
      "source": [
        "Icio_2[0:3645,3645:4107].sum()"
      ],
      "metadata": {
        "id": "61cIN1Lk-EU8",
        "outputId": "2d2c9b00-b7ca-4cc0-cbea-ec5a965556ea",
        "colab": {
          "base_uri": "https://localhost:8080/"
        }
      },
      "execution_count": 123,
      "outputs": [
        {
          "output_type": "execute_result",
          "data": {
            "text/plain": [
              "81796440.98814319"
            ]
          },
          "metadata": {},
          "execution_count": 123
        }
      ]
    },
    {
      "cell_type": "code",
      "source": [
        "Fd_tx = Icio_2[3645,3645:4107]@Code_fd.T\n",
        "Fd_tx"
      ],
      "metadata": {
        "id": "NJdAdoVPtVq4",
        "outputId": "74ed7e59-5767-4cae-fcca-dbd935f51170",
        "colab": {
          "base_uri": "https://localhost:8080/"
        }
      },
      "execution_count": 124,
      "outputs": [
        {
          "output_type": "execute_result",
          "data": {
            "text/plain": [
              "array([73671.86296299999, 487852.95911000005, 522672.210866,\n",
              "       2476992.3649929976], dtype=object)"
            ]
          },
          "metadata": {},
          "execution_count": 124
        }
      ]
    },
    {
      "cell_type": "code",
      "source": [
        "Fd.shape"
      ],
      "metadata": {
        "id": "T7n1ckRpYhVh",
        "outputId": "aaeaf0e1-6649-4622-f6ab-474e933a0b79",
        "colab": {
          "base_uri": "https://localhost:8080/"
        }
      },
      "execution_count": 125,
      "outputs": [
        {
          "output_type": "execute_result",
          "data": {
            "text/plain": [
              "(12, 4)"
            ]
          },
          "metadata": {},
          "execution_count": 125
        }
      ]
    },
    {
      "cell_type": "code",
      "source": [
        "Fd_row=np.concatenate((Fd,Fd_tx.reshape([1,4]),np.zeros((2,4))))\n",
        "Fd_row.sum()"
      ],
      "metadata": {
        "colab": {
          "base_uri": "https://localhost:8080/"
        },
        "id": "LWL1uNCO_A95",
        "outputId": "b182a8b5-2be2-4d98-8734-337617e148cd"
      },
      "execution_count": 126,
      "outputs": [
        {
          "output_type": "execute_result",
          "data": {
            "text/plain": [
              "85357630.38611801"
            ]
          },
          "metadata": {},
          "execution_count": 126
        }
      ]
    },
    {
      "cell_type": "code",
      "source": [
        "Icio_row = np.concatenate((Nae_tot,Nae_tx.reshape([1,12]), Vact_row))\n",
        "Icio_row.shape"
      ],
      "metadata": {
        "id": "ydBppFx_VmKX",
        "colab": {
          "base_uri": "https://localhost:8080/"
        },
        "outputId": "e3bab291-6bc6-424c-b3a0-b7f267f63492"
      },
      "execution_count": 127,
      "outputs": [
        {
          "output_type": "execute_result",
          "data": {
            "text/plain": [
              "(15, 12)"
            ]
          },
          "metadata": {},
          "execution_count": 127
        }
      ]
    },
    {
      "cell_type": "code",
      "source": [
        "Icio_col = np.concatenate((Icio_row, Fd_row), axis=1)"
      ],
      "metadata": {
        "id": "9AmJvsmzVmMM"
      },
      "execution_count": 128,
      "outputs": []
    },
    {
      "cell_type": "code",
      "source": [
        "Icio_col_sm = Icio_col.sum(axis=1).reshape([15,1]) # 충수요계(산출액과 동일)\n",
        "Icio_col_sm[-2:,:] = 0     # 총수요 열에서 부가가치,산출액 0으로 만들기"
      ],
      "metadata": {
        "id": "8e_Mqf7KVmOa"
      },
      "execution_count": 129,
      "outputs": []
    },
    {
      "cell_type": "code",
      "source": [
        "Icio_f = np.concatenate((Icio_col, Icio_col_sm), axis=1).astype(float)\n",
        "Icio_f.shape"
      ],
      "metadata": {
        "id": "Ic43tRaAVmQd",
        "colab": {
          "base_uri": "https://localhost:8080/"
        },
        "outputId": "e849aa7f-d8f9-4ea5-f537-787f512c096c"
      },
      "execution_count": 130,
      "outputs": [
        {
          "output_type": "execute_result",
          "data": {
            "text/plain": [
              "(15, 17)"
            ]
          },
          "metadata": {},
          "execution_count": 130
        }
      ]
    },
    {
      "cell_type": "code",
      "source": [
        "ICIO_trl = (Icio_f/100).round(0) # 억달러\n",
        "print('3부문_4개국_ICIO', '\\n', ICIO_trl)"
      ],
      "metadata": {
        "id": "qKnF5r4EYE-_",
        "outputId": "71741392-e31f-4c34-9860-e69a71ad8e2f",
        "colab": {
          "base_uri": "https://localhost:8080/"
        }
      },
      "execution_count": 131,
      "outputs": [
        {
          "output_type": "stream",
          "name": "stdout",
          "text": [
            "3부문_4개국_ICIO \n",
            " [[    25.    247.     91.      0.      0.      0.      0.      3.      1.\n",
            "       1.      3.      1.    143.      0.      1.      2.    518.]\n",
            " [   111.   5200.   2638.     59.   1097.    340.     10.    194.    177.\n",
            "      67.   1120.    536.   1623.    278.    349.    890.  14690.]\n",
            " [    62.   2314.   5377.     19.    198.    147.      2.     29.     82.\n",
            "      14.    203.    345.  11605.    105.     81.    263.  20846.]\n",
            " [     1.      6.      2.   4912.  10317.   1336.      6.     19.      4.\n",
            "      33.    106.     21.      2.   5712.      6.     79.  22559.]\n",
            " [    10.    585.    235.   4625.  84294.  37897.     42.    882.   1179.\n",
            "     270.   5551.   3633.    253.  28453.   1978.   6876. 176763.]\n",
            " [     2.     79.    116.   1885.  23537.  36089.      5.    112.    283.\n",
            "      47.    780.   1494.     83. 101032.    351.   1507. 167403.]\n",
            " [     2.     15.      5.     59.    152.     17.    780.   1964.    151.\n",
            "     100.    309.     49.      5.     40.    997.    192.   4836.]\n",
            " [     5.    166.     90.     36.    458.    172.    728.  13286.  12736.\n",
            "     174.   2690.   1463.     81.    179.  24792.   2537.  59593.]\n",
            " [     4.    115.    144.     50.    368.    272.    770.  11902.  93573.\n",
            "     186.   2134.   4374.     90.    419. 175868.   3751. 294019.]\n",
            " [     3.     31.     14.    198.    518.     58.    142.    473.     94.\n",
            "    6903.  13976.   3827.     13.    135.    147.  14937.  41470.]\n",
            " [    21.   1384.    577.    391.   9590.   2504.    214.   4385.   3307.\n",
            "    5434.  94038.  56690.    393.   1836.   6106.  78861. 265732.]\n",
            " [    10.    346.    444.    225.   2225.   1686.    113.   1374.   3809.\n",
            "    4520.  52110. 185443.    296.   1867.   3605. 339144. 597219.]\n",
            " [     5.    226.    352.    120.   2861.   2493.     25.    680.   1478.\n",
            "     437.   4178.   8404.    737.   4879.   5227.  24770.  56872.]\n",
            " [   256.   3975.  10762.   9980.  41148.  84394.   1998.  24291. 177144.\n",
            "   23285.  88535. 330938.      0.      0.      0.      0.      0.]\n",
            " [   518.  14690.  20846.  22559. 176763. 167403.   4836.  59593. 294019.\n",
            "   41470. 265732. 597219.      0.      0.      0.      0.      0.]]\n"
          ]
        }
      ]
    },
    {
      "cell_type": "code",
      "source": [
        "ICIO_df = pd.DataFrame(ICIO_trl, columns = [['한국', '한국', '한국', '중국', '중국', '중국', '미국', '미국', '미국', 'ROW', 'ROW', 'ROW','한국', '중국', '미국', 'ROW','총계'],\n",
        "\n",
        "                                          ['농산품', '공산품', '서비스', '농산품', '공산품', '서비스', '농산품', '공산품', '서비스', '농산품', '공산품', '서비스', '최종수요','최종수요','최종수요','최종수요', '총수요']],\n",
        "\n",
        "                                    index=[['한국', '한국', '한국', '중국', '중국', '중국', '미국', '미국', '미국', 'ROW', 'ROW', 'ROW','세금','부가가치','총투입계'],\n",
        "                                           ['농산품', '공산품', '서비스', '농산품', '공산품', '서비스', '농산품', '공산품', '서비스', '농산품', '공산품', '서비스','세금','부가가치','총투입계']])\n",
        "ICIO_df.index.names=['국가', '산업']"
      ],
      "metadata": {
        "id": "PbW7JbEtWqs_"
      },
      "execution_count": 132,
      "outputs": []
    },
    {
      "cell_type": "code",
      "source": [
        "ICIO_df"
      ],
      "metadata": {
        "id": "ZOzmfVcnbtyA",
        "outputId": "2872e3f2-635b-47d4-945d-27b95ca1c063",
        "colab": {
          "base_uri": "https://localhost:8080/",
          "height": 634
        }
      },
      "execution_count": 133,
      "outputs": [
        {
          "output_type": "execute_result",
          "data": {
            "text/plain": [
              "              한국                         중국                          미국  \\\n",
              "             농산품      공산품      서비스      농산품       공산품       서비스     농산품   \n",
              "국가   산업                                                                   \n",
              "한국   농산품    25.0    247.0     91.0      0.0       0.0       0.0     0.0   \n",
              "     공산품   111.0   5200.0   2638.0     59.0    1097.0     340.0    10.0   \n",
              "     서비스    62.0   2314.0   5377.0     19.0     198.0     147.0     2.0   \n",
              "중국   농산품     1.0      6.0      2.0   4912.0   10317.0    1336.0     6.0   \n",
              "     공산품    10.0    585.0    235.0   4625.0   84294.0   37897.0    42.0   \n",
              "     서비스     2.0     79.0    116.0   1885.0   23537.0   36089.0     5.0   \n",
              "미국   농산품     2.0     15.0      5.0     59.0     152.0      17.0   780.0   \n",
              "     공산품     5.0    166.0     90.0     36.0     458.0     172.0   728.0   \n",
              "     서비스     4.0    115.0    144.0     50.0     368.0     272.0   770.0   \n",
              "ROW  농산품     3.0     31.0     14.0    198.0     518.0      58.0   142.0   \n",
              "     공산품    21.0   1384.0    577.0    391.0    9590.0    2504.0   214.0   \n",
              "     서비스    10.0    346.0    444.0    225.0    2225.0    1686.0   113.0   \n",
              "세금   세금      5.0    226.0    352.0    120.0    2861.0    2493.0    25.0   \n",
              "부가가치 부가가치  256.0   3975.0  10762.0   9980.0   41148.0   84394.0  1998.0   \n",
              "총투입계 총투입계  518.0  14690.0  20846.0  22559.0  176763.0  167403.0  4836.0   \n",
              "\n",
              "                                  ROW                           한국        중국  \\\n",
              "               공산품       서비스      농산품       공산품       서비스     최종수요      최종수요   \n",
              "국가   산업                                                                        \n",
              "한국   농산품       3.0       1.0      1.0       3.0       1.0    143.0       0.0   \n",
              "     공산품     194.0     177.0     67.0    1120.0     536.0   1623.0     278.0   \n",
              "     서비스      29.0      82.0     14.0     203.0     345.0  11605.0     105.0   \n",
              "중국   농산품      19.0       4.0     33.0     106.0      21.0      2.0    5712.0   \n",
              "     공산품     882.0    1179.0    270.0    5551.0    3633.0    253.0   28453.0   \n",
              "     서비스     112.0     283.0     47.0     780.0    1494.0     83.0  101032.0   \n",
              "미국   농산품    1964.0     151.0    100.0     309.0      49.0      5.0      40.0   \n",
              "     공산품   13286.0   12736.0    174.0    2690.0    1463.0     81.0     179.0   \n",
              "     서비스   11902.0   93573.0    186.0    2134.0    4374.0     90.0     419.0   \n",
              "ROW  농산품     473.0      94.0   6903.0   13976.0    3827.0     13.0     135.0   \n",
              "     공산품    4385.0    3307.0   5434.0   94038.0   56690.0    393.0    1836.0   \n",
              "     서비스    1374.0    3809.0   4520.0   52110.0  185443.0    296.0    1867.0   \n",
              "세금   세금      680.0    1478.0    437.0    4178.0    8404.0    737.0    4879.0   \n",
              "부가가치 부가가치  24291.0  177144.0  23285.0   88535.0  330938.0      0.0       0.0   \n",
              "총투입계 총투입계  59593.0  294019.0  41470.0  265732.0  597219.0      0.0       0.0   \n",
              "\n",
              "                 미국       ROW        총계  \n",
              "               최종수요      최종수요       총수요  \n",
              "국가   산업                                  \n",
              "한국   농산품        1.0       2.0     518.0  \n",
              "     공산품      349.0     890.0   14690.0  \n",
              "     서비스       81.0     263.0   20846.0  \n",
              "중국   농산품        6.0      79.0   22559.0  \n",
              "     공산품     1978.0    6876.0  176763.0  \n",
              "     서비스      351.0    1507.0  167403.0  \n",
              "미국   농산품      997.0     192.0    4836.0  \n",
              "     공산품    24792.0    2537.0   59593.0  \n",
              "     서비스   175868.0    3751.0  294019.0  \n",
              "ROW  농산품      147.0   14937.0   41470.0  \n",
              "     공산품     6106.0   78861.0  265732.0  \n",
              "     서비스     3605.0  339144.0  597219.0  \n",
              "세금   세금      5227.0   24770.0   56872.0  \n",
              "부가가치 부가가치       0.0       0.0       0.0  \n",
              "총투입계 총투입계       0.0       0.0       0.0  "
            ],
            "text/html": [
              "\n",
              "  <div id=\"df-73f3a220-e599-4870-81af-8c9b3819fa39\" class=\"colab-df-container\">\n",
              "    <div>\n",
              "<style scoped>\n",
              "    .dataframe tbody tr th:only-of-type {\n",
              "        vertical-align: middle;\n",
              "    }\n",
              "\n",
              "    .dataframe tbody tr th {\n",
              "        vertical-align: top;\n",
              "    }\n",
              "\n",
              "    .dataframe thead tr th {\n",
              "        text-align: left;\n",
              "    }\n",
              "\n",
              "    .dataframe thead tr:last-of-type th {\n",
              "        text-align: right;\n",
              "    }\n",
              "</style>\n",
              "<table border=\"1\" class=\"dataframe\">\n",
              "  <thead>\n",
              "    <tr>\n",
              "      <th></th>\n",
              "      <th></th>\n",
              "      <th colspan=\"3\" halign=\"left\">한국</th>\n",
              "      <th colspan=\"3\" halign=\"left\">중국</th>\n",
              "      <th colspan=\"3\" halign=\"left\">미국</th>\n",
              "      <th colspan=\"3\" halign=\"left\">ROW</th>\n",
              "      <th>한국</th>\n",
              "      <th>중국</th>\n",
              "      <th>미국</th>\n",
              "      <th>ROW</th>\n",
              "      <th>총계</th>\n",
              "    </tr>\n",
              "    <tr>\n",
              "      <th></th>\n",
              "      <th></th>\n",
              "      <th>농산품</th>\n",
              "      <th>공산품</th>\n",
              "      <th>서비스</th>\n",
              "      <th>농산품</th>\n",
              "      <th>공산품</th>\n",
              "      <th>서비스</th>\n",
              "      <th>농산품</th>\n",
              "      <th>공산품</th>\n",
              "      <th>서비스</th>\n",
              "      <th>농산품</th>\n",
              "      <th>공산품</th>\n",
              "      <th>서비스</th>\n",
              "      <th>최종수요</th>\n",
              "      <th>최종수요</th>\n",
              "      <th>최종수요</th>\n",
              "      <th>최종수요</th>\n",
              "      <th>총수요</th>\n",
              "    </tr>\n",
              "    <tr>\n",
              "      <th>국가</th>\n",
              "      <th>산업</th>\n",
              "      <th></th>\n",
              "      <th></th>\n",
              "      <th></th>\n",
              "      <th></th>\n",
              "      <th></th>\n",
              "      <th></th>\n",
              "      <th></th>\n",
              "      <th></th>\n",
              "      <th></th>\n",
              "      <th></th>\n",
              "      <th></th>\n",
              "      <th></th>\n",
              "      <th></th>\n",
              "      <th></th>\n",
              "      <th></th>\n",
              "      <th></th>\n",
              "      <th></th>\n",
              "    </tr>\n",
              "  </thead>\n",
              "  <tbody>\n",
              "    <tr>\n",
              "      <th rowspan=\"3\" valign=\"top\">한국</th>\n",
              "      <th>농산품</th>\n",
              "      <td>25.0</td>\n",
              "      <td>247.0</td>\n",
              "      <td>91.0</td>\n",
              "      <td>0.0</td>\n",
              "      <td>0.0</td>\n",
              "      <td>0.0</td>\n",
              "      <td>0.0</td>\n",
              "      <td>3.0</td>\n",
              "      <td>1.0</td>\n",
              "      <td>1.0</td>\n",
              "      <td>3.0</td>\n",
              "      <td>1.0</td>\n",
              "      <td>143.0</td>\n",
              "      <td>0.0</td>\n",
              "      <td>1.0</td>\n",
              "      <td>2.0</td>\n",
              "      <td>518.0</td>\n",
              "    </tr>\n",
              "    <tr>\n",
              "      <th>공산품</th>\n",
              "      <td>111.0</td>\n",
              "      <td>5200.0</td>\n",
              "      <td>2638.0</td>\n",
              "      <td>59.0</td>\n",
              "      <td>1097.0</td>\n",
              "      <td>340.0</td>\n",
              "      <td>10.0</td>\n",
              "      <td>194.0</td>\n",
              "      <td>177.0</td>\n",
              "      <td>67.0</td>\n",
              "      <td>1120.0</td>\n",
              "      <td>536.0</td>\n",
              "      <td>1623.0</td>\n",
              "      <td>278.0</td>\n",
              "      <td>349.0</td>\n",
              "      <td>890.0</td>\n",
              "      <td>14690.0</td>\n",
              "    </tr>\n",
              "    <tr>\n",
              "      <th>서비스</th>\n",
              "      <td>62.0</td>\n",
              "      <td>2314.0</td>\n",
              "      <td>5377.0</td>\n",
              "      <td>19.0</td>\n",
              "      <td>198.0</td>\n",
              "      <td>147.0</td>\n",
              "      <td>2.0</td>\n",
              "      <td>29.0</td>\n",
              "      <td>82.0</td>\n",
              "      <td>14.0</td>\n",
              "      <td>203.0</td>\n",
              "      <td>345.0</td>\n",
              "      <td>11605.0</td>\n",
              "      <td>105.0</td>\n",
              "      <td>81.0</td>\n",
              "      <td>263.0</td>\n",
              "      <td>20846.0</td>\n",
              "    </tr>\n",
              "    <tr>\n",
              "      <th rowspan=\"3\" valign=\"top\">중국</th>\n",
              "      <th>농산품</th>\n",
              "      <td>1.0</td>\n",
              "      <td>6.0</td>\n",
              "      <td>2.0</td>\n",
              "      <td>4912.0</td>\n",
              "      <td>10317.0</td>\n",
              "      <td>1336.0</td>\n",
              "      <td>6.0</td>\n",
              "      <td>19.0</td>\n",
              "      <td>4.0</td>\n",
              "      <td>33.0</td>\n",
              "      <td>106.0</td>\n",
              "      <td>21.0</td>\n",
              "      <td>2.0</td>\n",
              "      <td>5712.0</td>\n",
              "      <td>6.0</td>\n",
              "      <td>79.0</td>\n",
              "      <td>22559.0</td>\n",
              "    </tr>\n",
              "    <tr>\n",
              "      <th>공산품</th>\n",
              "      <td>10.0</td>\n",
              "      <td>585.0</td>\n",
              "      <td>235.0</td>\n",
              "      <td>4625.0</td>\n",
              "      <td>84294.0</td>\n",
              "      <td>37897.0</td>\n",
              "      <td>42.0</td>\n",
              "      <td>882.0</td>\n",
              "      <td>1179.0</td>\n",
              "      <td>270.0</td>\n",
              "      <td>5551.0</td>\n",
              "      <td>3633.0</td>\n",
              "      <td>253.0</td>\n",
              "      <td>28453.0</td>\n",
              "      <td>1978.0</td>\n",
              "      <td>6876.0</td>\n",
              "      <td>176763.0</td>\n",
              "    </tr>\n",
              "    <tr>\n",
              "      <th>서비스</th>\n",
              "      <td>2.0</td>\n",
              "      <td>79.0</td>\n",
              "      <td>116.0</td>\n",
              "      <td>1885.0</td>\n",
              "      <td>23537.0</td>\n",
              "      <td>36089.0</td>\n",
              "      <td>5.0</td>\n",
              "      <td>112.0</td>\n",
              "      <td>283.0</td>\n",
              "      <td>47.0</td>\n",
              "      <td>780.0</td>\n",
              "      <td>1494.0</td>\n",
              "      <td>83.0</td>\n",
              "      <td>101032.0</td>\n",
              "      <td>351.0</td>\n",
              "      <td>1507.0</td>\n",
              "      <td>167403.0</td>\n",
              "    </tr>\n",
              "    <tr>\n",
              "      <th rowspan=\"3\" valign=\"top\">미국</th>\n",
              "      <th>농산품</th>\n",
              "      <td>2.0</td>\n",
              "      <td>15.0</td>\n",
              "      <td>5.0</td>\n",
              "      <td>59.0</td>\n",
              "      <td>152.0</td>\n",
              "      <td>17.0</td>\n",
              "      <td>780.0</td>\n",
              "      <td>1964.0</td>\n",
              "      <td>151.0</td>\n",
              "      <td>100.0</td>\n",
              "      <td>309.0</td>\n",
              "      <td>49.0</td>\n",
              "      <td>5.0</td>\n",
              "      <td>40.0</td>\n",
              "      <td>997.0</td>\n",
              "      <td>192.0</td>\n",
              "      <td>4836.0</td>\n",
              "    </tr>\n",
              "    <tr>\n",
              "      <th>공산품</th>\n",
              "      <td>5.0</td>\n",
              "      <td>166.0</td>\n",
              "      <td>90.0</td>\n",
              "      <td>36.0</td>\n",
              "      <td>458.0</td>\n",
              "      <td>172.0</td>\n",
              "      <td>728.0</td>\n",
              "      <td>13286.0</td>\n",
              "      <td>12736.0</td>\n",
              "      <td>174.0</td>\n",
              "      <td>2690.0</td>\n",
              "      <td>1463.0</td>\n",
              "      <td>81.0</td>\n",
              "      <td>179.0</td>\n",
              "      <td>24792.0</td>\n",
              "      <td>2537.0</td>\n",
              "      <td>59593.0</td>\n",
              "    </tr>\n",
              "    <tr>\n",
              "      <th>서비스</th>\n",
              "      <td>4.0</td>\n",
              "      <td>115.0</td>\n",
              "      <td>144.0</td>\n",
              "      <td>50.0</td>\n",
              "      <td>368.0</td>\n",
              "      <td>272.0</td>\n",
              "      <td>770.0</td>\n",
              "      <td>11902.0</td>\n",
              "      <td>93573.0</td>\n",
              "      <td>186.0</td>\n",
              "      <td>2134.0</td>\n",
              "      <td>4374.0</td>\n",
              "      <td>90.0</td>\n",
              "      <td>419.0</td>\n",
              "      <td>175868.0</td>\n",
              "      <td>3751.0</td>\n",
              "      <td>294019.0</td>\n",
              "    </tr>\n",
              "    <tr>\n",
              "      <th rowspan=\"3\" valign=\"top\">ROW</th>\n",
              "      <th>농산품</th>\n",
              "      <td>3.0</td>\n",
              "      <td>31.0</td>\n",
              "      <td>14.0</td>\n",
              "      <td>198.0</td>\n",
              "      <td>518.0</td>\n",
              "      <td>58.0</td>\n",
              "      <td>142.0</td>\n",
              "      <td>473.0</td>\n",
              "      <td>94.0</td>\n",
              "      <td>6903.0</td>\n",
              "      <td>13976.0</td>\n",
              "      <td>3827.0</td>\n",
              "      <td>13.0</td>\n",
              "      <td>135.0</td>\n",
              "      <td>147.0</td>\n",
              "      <td>14937.0</td>\n",
              "      <td>41470.0</td>\n",
              "    </tr>\n",
              "    <tr>\n",
              "      <th>공산품</th>\n",
              "      <td>21.0</td>\n",
              "      <td>1384.0</td>\n",
              "      <td>577.0</td>\n",
              "      <td>391.0</td>\n",
              "      <td>9590.0</td>\n",
              "      <td>2504.0</td>\n",
              "      <td>214.0</td>\n",
              "      <td>4385.0</td>\n",
              "      <td>3307.0</td>\n",
              "      <td>5434.0</td>\n",
              "      <td>94038.0</td>\n",
              "      <td>56690.0</td>\n",
              "      <td>393.0</td>\n",
              "      <td>1836.0</td>\n",
              "      <td>6106.0</td>\n",
              "      <td>78861.0</td>\n",
              "      <td>265732.0</td>\n",
              "    </tr>\n",
              "    <tr>\n",
              "      <th>서비스</th>\n",
              "      <td>10.0</td>\n",
              "      <td>346.0</td>\n",
              "      <td>444.0</td>\n",
              "      <td>225.0</td>\n",
              "      <td>2225.0</td>\n",
              "      <td>1686.0</td>\n",
              "      <td>113.0</td>\n",
              "      <td>1374.0</td>\n",
              "      <td>3809.0</td>\n",
              "      <td>4520.0</td>\n",
              "      <td>52110.0</td>\n",
              "      <td>185443.0</td>\n",
              "      <td>296.0</td>\n",
              "      <td>1867.0</td>\n",
              "      <td>3605.0</td>\n",
              "      <td>339144.0</td>\n",
              "      <td>597219.0</td>\n",
              "    </tr>\n",
              "    <tr>\n",
              "      <th>세금</th>\n",
              "      <th>세금</th>\n",
              "      <td>5.0</td>\n",
              "      <td>226.0</td>\n",
              "      <td>352.0</td>\n",
              "      <td>120.0</td>\n",
              "      <td>2861.0</td>\n",
              "      <td>2493.0</td>\n",
              "      <td>25.0</td>\n",
              "      <td>680.0</td>\n",
              "      <td>1478.0</td>\n",
              "      <td>437.0</td>\n",
              "      <td>4178.0</td>\n",
              "      <td>8404.0</td>\n",
              "      <td>737.0</td>\n",
              "      <td>4879.0</td>\n",
              "      <td>5227.0</td>\n",
              "      <td>24770.0</td>\n",
              "      <td>56872.0</td>\n",
              "    </tr>\n",
              "    <tr>\n",
              "      <th>부가가치</th>\n",
              "      <th>부가가치</th>\n",
              "      <td>256.0</td>\n",
              "      <td>3975.0</td>\n",
              "      <td>10762.0</td>\n",
              "      <td>9980.0</td>\n",
              "      <td>41148.0</td>\n",
              "      <td>84394.0</td>\n",
              "      <td>1998.0</td>\n",
              "      <td>24291.0</td>\n",
              "      <td>177144.0</td>\n",
              "      <td>23285.0</td>\n",
              "      <td>88535.0</td>\n",
              "      <td>330938.0</td>\n",
              "      <td>0.0</td>\n",
              "      <td>0.0</td>\n",
              "      <td>0.0</td>\n",
              "      <td>0.0</td>\n",
              "      <td>0.0</td>\n",
              "    </tr>\n",
              "    <tr>\n",
              "      <th>총투입계</th>\n",
              "      <th>총투입계</th>\n",
              "      <td>518.0</td>\n",
              "      <td>14690.0</td>\n",
              "      <td>20846.0</td>\n",
              "      <td>22559.0</td>\n",
              "      <td>176763.0</td>\n",
              "      <td>167403.0</td>\n",
              "      <td>4836.0</td>\n",
              "      <td>59593.0</td>\n",
              "      <td>294019.0</td>\n",
              "      <td>41470.0</td>\n",
              "      <td>265732.0</td>\n",
              "      <td>597219.0</td>\n",
              "      <td>0.0</td>\n",
              "      <td>0.0</td>\n",
              "      <td>0.0</td>\n",
              "      <td>0.0</td>\n",
              "      <td>0.0</td>\n",
              "    </tr>\n",
              "  </tbody>\n",
              "</table>\n",
              "</div>\n",
              "    <div class=\"colab-df-buttons\">\n",
              "\n",
              "  <div class=\"colab-df-container\">\n",
              "    <button class=\"colab-df-convert\" onclick=\"convertToInteractive('df-73f3a220-e599-4870-81af-8c9b3819fa39')\"\n",
              "            title=\"Convert this dataframe to an interactive table.\"\n",
              "            style=\"display:none;\">\n",
              "\n",
              "  <svg xmlns=\"http://www.w3.org/2000/svg\" height=\"24px\" viewBox=\"0 -960 960 960\">\n",
              "    <path d=\"M120-120v-720h720v720H120Zm60-500h600v-160H180v160Zm220 220h160v-160H400v160Zm0 220h160v-160H400v160ZM180-400h160v-160H180v160Zm440 0h160v-160H620v160ZM180-180h160v-160H180v160Zm440 0h160v-160H620v160Z\"/>\n",
              "  </svg>\n",
              "    </button>\n",
              "\n",
              "  <style>\n",
              "    .colab-df-container {\n",
              "      display:flex;\n",
              "      gap: 12px;\n",
              "    }\n",
              "\n",
              "    .colab-df-convert {\n",
              "      background-color: #E8F0FE;\n",
              "      border: none;\n",
              "      border-radius: 50%;\n",
              "      cursor: pointer;\n",
              "      display: none;\n",
              "      fill: #1967D2;\n",
              "      height: 32px;\n",
              "      padding: 0 0 0 0;\n",
              "      width: 32px;\n",
              "    }\n",
              "\n",
              "    .colab-df-convert:hover {\n",
              "      background-color: #E2EBFA;\n",
              "      box-shadow: 0px 1px 2px rgba(60, 64, 67, 0.3), 0px 1px 3px 1px rgba(60, 64, 67, 0.15);\n",
              "      fill: #174EA6;\n",
              "    }\n",
              "\n",
              "    .colab-df-buttons div {\n",
              "      margin-bottom: 4px;\n",
              "    }\n",
              "\n",
              "    [theme=dark] .colab-df-convert {\n",
              "      background-color: #3B4455;\n",
              "      fill: #D2E3FC;\n",
              "    }\n",
              "\n",
              "    [theme=dark] .colab-df-convert:hover {\n",
              "      background-color: #434B5C;\n",
              "      box-shadow: 0px 1px 3px 1px rgba(0, 0, 0, 0.15);\n",
              "      filter: drop-shadow(0px 1px 2px rgba(0, 0, 0, 0.3));\n",
              "      fill: #FFFFFF;\n",
              "    }\n",
              "  </style>\n",
              "\n",
              "    <script>\n",
              "      const buttonEl =\n",
              "        document.querySelector('#df-73f3a220-e599-4870-81af-8c9b3819fa39 button.colab-df-convert');\n",
              "      buttonEl.style.display =\n",
              "        google.colab.kernel.accessAllowed ? 'block' : 'none';\n",
              "\n",
              "      async function convertToInteractive(key) {\n",
              "        const element = document.querySelector('#df-73f3a220-e599-4870-81af-8c9b3819fa39');\n",
              "        const dataTable =\n",
              "          await google.colab.kernel.invokeFunction('convertToInteractive',\n",
              "                                                    [key], {});\n",
              "        if (!dataTable) return;\n",
              "\n",
              "        const docLinkHtml = 'Like what you see? Visit the ' +\n",
              "          '<a target=\"_blank\" href=https://colab.research.google.com/notebooks/data_table.ipynb>data table notebook</a>'\n",
              "          + ' to learn more about interactive tables.';\n",
              "        element.innerHTML = '';\n",
              "        dataTable['output_type'] = 'display_data';\n",
              "        await google.colab.output.renderOutput(dataTable, element);\n",
              "        const docLink = document.createElement('div');\n",
              "        docLink.innerHTML = docLinkHtml;\n",
              "        element.appendChild(docLink);\n",
              "      }\n",
              "    </script>\n",
              "  </div>\n",
              "\n",
              "\n",
              "<div id=\"df-105f8120-e286-4eb3-93d7-4b6834f35840\">\n",
              "  <button class=\"colab-df-quickchart\" onclick=\"quickchart('df-105f8120-e286-4eb3-93d7-4b6834f35840')\"\n",
              "            title=\"Suggest charts\"\n",
              "            style=\"display:none;\">\n",
              "\n",
              "<svg xmlns=\"http://www.w3.org/2000/svg\" height=\"24px\"viewBox=\"0 0 24 24\"\n",
              "     width=\"24px\">\n",
              "    <g>\n",
              "        <path d=\"M19 3H5c-1.1 0-2 .9-2 2v14c0 1.1.9 2 2 2h14c1.1 0 2-.9 2-2V5c0-1.1-.9-2-2-2zM9 17H7v-7h2v7zm4 0h-2V7h2v10zm4 0h-2v-4h2v4z\"/>\n",
              "    </g>\n",
              "</svg>\n",
              "  </button>\n",
              "\n",
              "<style>\n",
              "  .colab-df-quickchart {\n",
              "      --bg-color: #E8F0FE;\n",
              "      --fill-color: #1967D2;\n",
              "      --hover-bg-color: #E2EBFA;\n",
              "      --hover-fill-color: #174EA6;\n",
              "      --disabled-fill-color: #AAA;\n",
              "      --disabled-bg-color: #DDD;\n",
              "  }\n",
              "\n",
              "  [theme=dark] .colab-df-quickchart {\n",
              "      --bg-color: #3B4455;\n",
              "      --fill-color: #D2E3FC;\n",
              "      --hover-bg-color: #434B5C;\n",
              "      --hover-fill-color: #FFFFFF;\n",
              "      --disabled-bg-color: #3B4455;\n",
              "      --disabled-fill-color: #666;\n",
              "  }\n",
              "\n",
              "  .colab-df-quickchart {\n",
              "    background-color: var(--bg-color);\n",
              "    border: none;\n",
              "    border-radius: 50%;\n",
              "    cursor: pointer;\n",
              "    display: none;\n",
              "    fill: var(--fill-color);\n",
              "    height: 32px;\n",
              "    padding: 0;\n",
              "    width: 32px;\n",
              "  }\n",
              "\n",
              "  .colab-df-quickchart:hover {\n",
              "    background-color: var(--hover-bg-color);\n",
              "    box-shadow: 0 1px 2px rgba(60, 64, 67, 0.3), 0 1px 3px 1px rgba(60, 64, 67, 0.15);\n",
              "    fill: var(--button-hover-fill-color);\n",
              "  }\n",
              "\n",
              "  .colab-df-quickchart-complete:disabled,\n",
              "  .colab-df-quickchart-complete:disabled:hover {\n",
              "    background-color: var(--disabled-bg-color);\n",
              "    fill: var(--disabled-fill-color);\n",
              "    box-shadow: none;\n",
              "  }\n",
              "\n",
              "  .colab-df-spinner {\n",
              "    border: 2px solid var(--fill-color);\n",
              "    border-color: transparent;\n",
              "    border-bottom-color: var(--fill-color);\n",
              "    animation:\n",
              "      spin 1s steps(1) infinite;\n",
              "  }\n",
              "\n",
              "  @keyframes spin {\n",
              "    0% {\n",
              "      border-color: transparent;\n",
              "      border-bottom-color: var(--fill-color);\n",
              "      border-left-color: var(--fill-color);\n",
              "    }\n",
              "    20% {\n",
              "      border-color: transparent;\n",
              "      border-left-color: var(--fill-color);\n",
              "      border-top-color: var(--fill-color);\n",
              "    }\n",
              "    30% {\n",
              "      border-color: transparent;\n",
              "      border-left-color: var(--fill-color);\n",
              "      border-top-color: var(--fill-color);\n",
              "      border-right-color: var(--fill-color);\n",
              "    }\n",
              "    40% {\n",
              "      border-color: transparent;\n",
              "      border-right-color: var(--fill-color);\n",
              "      border-top-color: var(--fill-color);\n",
              "    }\n",
              "    60% {\n",
              "      border-color: transparent;\n",
              "      border-right-color: var(--fill-color);\n",
              "    }\n",
              "    80% {\n",
              "      border-color: transparent;\n",
              "      border-right-color: var(--fill-color);\n",
              "      border-bottom-color: var(--fill-color);\n",
              "    }\n",
              "    90% {\n",
              "      border-color: transparent;\n",
              "      border-bottom-color: var(--fill-color);\n",
              "    }\n",
              "  }\n",
              "</style>\n",
              "\n",
              "  <script>\n",
              "    async function quickchart(key) {\n",
              "      const quickchartButtonEl =\n",
              "        document.querySelector('#' + key + ' button');\n",
              "      quickchartButtonEl.disabled = true;  // To prevent multiple clicks.\n",
              "      quickchartButtonEl.classList.add('colab-df-spinner');\n",
              "      try {\n",
              "        const charts = await google.colab.kernel.invokeFunction(\n",
              "            'suggestCharts', [key], {});\n",
              "      } catch (error) {\n",
              "        console.error('Error during call to suggestCharts:', error);\n",
              "      }\n",
              "      quickchartButtonEl.classList.remove('colab-df-spinner');\n",
              "      quickchartButtonEl.classList.add('colab-df-quickchart-complete');\n",
              "    }\n",
              "    (() => {\n",
              "      let quickchartButtonEl =\n",
              "        document.querySelector('#df-105f8120-e286-4eb3-93d7-4b6834f35840 button');\n",
              "      quickchartButtonEl.style.display =\n",
              "        google.colab.kernel.accessAllowed ? 'block' : 'none';\n",
              "    })();\n",
              "  </script>\n",
              "</div>\n",
              "\n",
              "  <div id=\"id_c041485e-ffab-41e9-aa03-c04a711c9b51\">\n",
              "    <style>\n",
              "      .colab-df-generate {\n",
              "        background-color: #E8F0FE;\n",
              "        border: none;\n",
              "        border-radius: 50%;\n",
              "        cursor: pointer;\n",
              "        display: none;\n",
              "        fill: #1967D2;\n",
              "        height: 32px;\n",
              "        padding: 0 0 0 0;\n",
              "        width: 32px;\n",
              "      }\n",
              "\n",
              "      .colab-df-generate:hover {\n",
              "        background-color: #E2EBFA;\n",
              "        box-shadow: 0px 1px 2px rgba(60, 64, 67, 0.3), 0px 1px 3px 1px rgba(60, 64, 67, 0.15);\n",
              "        fill: #174EA6;\n",
              "      }\n",
              "\n",
              "      [theme=dark] .colab-df-generate {\n",
              "        background-color: #3B4455;\n",
              "        fill: #D2E3FC;\n",
              "      }\n",
              "\n",
              "      [theme=dark] .colab-df-generate:hover {\n",
              "        background-color: #434B5C;\n",
              "        box-shadow: 0px 1px 3px 1px rgba(0, 0, 0, 0.15);\n",
              "        filter: drop-shadow(0px 1px 2px rgba(0, 0, 0, 0.3));\n",
              "        fill: #FFFFFF;\n",
              "      }\n",
              "    </style>\n",
              "    <button class=\"colab-df-generate\" onclick=\"generateWithVariable('ICIO_df')\"\n",
              "            title=\"Generate code using this dataframe.\"\n",
              "            style=\"display:none;\">\n",
              "\n",
              "  <svg xmlns=\"http://www.w3.org/2000/svg\" height=\"24px\"viewBox=\"0 0 24 24\"\n",
              "       width=\"24px\">\n",
              "    <path d=\"M7,19H8.4L18.45,9,17,7.55,7,17.6ZM5,21V16.75L18.45,3.32a2,2,0,0,1,2.83,0l1.4,1.43a1.91,1.91,0,0,1,.58,1.4,1.91,1.91,0,0,1-.58,1.4L9.25,21ZM18.45,9,17,7.55Zm-12,3A5.31,5.31,0,0,0,4.9,8.1,5.31,5.31,0,0,0,1,6.5,5.31,5.31,0,0,0,4.9,4.9,5.31,5.31,0,0,0,6.5,1,5.31,5.31,0,0,0,8.1,4.9,5.31,5.31,0,0,0,12,6.5,5.46,5.46,0,0,0,6.5,12Z\"/>\n",
              "  </svg>\n",
              "    </button>\n",
              "    <script>\n",
              "      (() => {\n",
              "      const buttonEl =\n",
              "        document.querySelector('#id_c041485e-ffab-41e9-aa03-c04a711c9b51 button.colab-df-generate');\n",
              "      buttonEl.style.display =\n",
              "        google.colab.kernel.accessAllowed ? 'block' : 'none';\n",
              "\n",
              "      buttonEl.onclick = () => {\n",
              "        google.colab.notebook.generateWithVariable('ICIO_df');\n",
              "      }\n",
              "      })();\n",
              "    </script>\n",
              "  </div>\n",
              "\n",
              "    </div>\n",
              "  </div>\n"
            ],
            "application/vnd.google.colaboratory.intrinsic+json": {
              "type": "dataframe",
              "variable_name": "ICIO_df",
              "summary": "{\n  \"name\": \"ICIO_df\",\n  \"rows\": 15,\n  \"fields\": [\n    {\n      \"column\": [\n        \"\\ud55c\\uad6d\",\n        \"\\ub18d\\uc0b0\\ud488\"\n      ],\n      \"properties\": {\n        \"dtype\": \"number\",\n        \"std\": 141.41125435106946,\n        \"min\": 1.0,\n        \"max\": 518.0,\n        \"num_unique_values\": 12,\n        \"samples\": [\n          256.0,\n          21.0,\n          25.0\n        ],\n        \"semantic_type\": \"\",\n        \"description\": \"\"\n      }\n    },\n    {\n      \"column\": [\n        \"\\ud55c\\uad6d\",\n        \"\\uacf5\\uc0b0\\ud488\"\n      ],\n      \"properties\": {\n        \"dtype\": \"number\",\n        \"std\": 3863.6339075316864,\n        \"min\": 6.0,\n        \"max\": 14690.0,\n        \"num_unique_values\": 15,\n        \"samples\": [\n          31.0,\n          346.0,\n          247.0\n        ],\n        \"semantic_type\": \"\",\n        \"description\": \"\"\n      }\n    },\n    {\n      \"column\": [\n        \"\\ud55c\\uad6d\",\n        \"\\uc11c\\ube44\\uc2a4\"\n      ],\n      \"properties\": {\n        \"dtype\": \"number\",\n        \"std\": 5800.987857581631,\n        \"min\": 2.0,\n        \"max\": 20846.0,\n        \"num_unique_values\": 15,\n        \"samples\": [\n          14.0,\n          444.0,\n          91.0\n        ],\n        \"semantic_type\": \"\",\n        \"description\": \"\"\n      }\n    },\n    {\n      \"column\": [\n        \"\\uc911\\uad6d\",\n        \"\\ub18d\\uc0b0\\ud488\"\n      ],\n      \"properties\": {\n        \"dtype\": \"number\",\n        \"std\": 6107.020408240557,\n        \"min\": 0.0,\n        \"max\": 22559.0,\n        \"num_unique_values\": 14,\n        \"samples\": [\n          391.0,\n          120.0,\n          0.0\n        ],\n        \"semantic_type\": \"\",\n        \"description\": \"\"\n      }\n    },\n    {\n      \"column\": [\n        \"\\uc911\\uad6d\",\n        \"\\uacf5\\uc0b0\\ud488\"\n      ],\n      \"properties\": {\n        \"dtype\": \"number\",\n        \"std\": 48165.76026271894,\n        \"min\": 0.0,\n        \"max\": 176763.0,\n        \"num_unique_values\": 15,\n        \"samples\": [\n          518.0,\n          2225.0,\n          0.0\n        ],\n        \"semantic_type\": \"\",\n        \"description\": \"\"\n      }\n    },\n    {\n      \"column\": [\n        \"\\uc911\\uad6d\",\n        \"\\uc11c\\ube44\\uc2a4\"\n      ],\n      \"properties\": {\n        \"dtype\": \"number\",\n        \"std\": 46620.79091513121,\n        \"min\": 0.0,\n        \"max\": 167403.0,\n        \"num_unique_values\": 15,\n        \"samples\": [\n          58.0,\n          1686.0,\n          0.0\n        ],\n        \"semantic_type\": \"\",\n        \"description\": \"\"\n      }\n    },\n    {\n      \"column\": [\n        \"\\ubbf8\\uad6d\",\n        \"\\ub18d\\uc0b0\\ud488\"\n      ],\n      \"properties\": {\n        \"dtype\": \"number\",\n        \"std\": 1280.5202886029606,\n        \"min\": 0.0,\n        \"max\": 4836.0,\n        \"num_unique_values\": 15,\n        \"samples\": [\n          142.0,\n          113.0,\n          0.0\n        ],\n        \"semantic_type\": \"\",\n        \"description\": \"\"\n      }\n    },\n    {\n      \"column\": [\n        \"\\ubbf8\\uad6d\",\n        \"\\uacf5\\uc0b0\\ud488\"\n      ],\n      \"properties\": {\n        \"dtype\": \"number\",\n        \"std\": 15899.25089520168,\n        \"min\": 3.0,\n        \"max\": 59593.0,\n        \"num_unique_values\": 15,\n        \"samples\": [\n          473.0,\n          1374.0,\n          3.0\n        ],\n        \"semantic_type\": \"\",\n        \"description\": \"\"\n      }\n    },\n    {\n      \"column\": [\n        \"\\ubbf8\\uad6d\",\n        \"\\uc11c\\ube44\\uc2a4\"\n      ],\n      \"properties\": {\n        \"dtype\": \"number\",\n        \"std\": 86073.86748009498,\n        \"min\": 1.0,\n        \"max\": 294019.0,\n        \"num_unique_values\": 15,\n        \"samples\": [\n          94.0,\n          3809.0,\n          1.0\n        ],\n        \"semantic_type\": \"\",\n        \"description\": \"\"\n      }\n    },\n    {\n      \"column\": [\n        \"ROW\",\n        \"\\ub18d\\uc0b0\\ud488\"\n      ],\n      \"properties\": {\n        \"dtype\": \"number\",\n        \"std\": 11653.617003194451,\n        \"min\": 1.0,\n        \"max\": 41470.0,\n        \"num_unique_values\": 15,\n        \"samples\": [\n          6903.0,\n          4520.0,\n          1.0\n        ],\n        \"semantic_type\": \"\",\n        \"description\": \"\"\n      }\n    },\n    {\n      \"column\": [\n        \"ROW\",\n        \"\\uacf5\\uc0b0\\ud488\"\n      ],\n      \"properties\": {\n        \"dtype\": \"number\",\n        \"std\": 71433.08648658547,\n        \"min\": 3.0,\n        \"max\": 265732.0,\n        \"num_unique_values\": 15,\n        \"samples\": [\n          13976.0,\n          52110.0,\n          3.0\n        ],\n        \"semantic_type\": \"\",\n        \"description\": \"\"\n      }\n    },\n    {\n      \"column\": [\n        \"ROW\",\n        \"\\uc11c\\ube44\\uc2a4\"\n      ],\n      \"properties\": {\n        \"dtype\": \"number\",\n        \"std\": 170880.86039730668,\n        \"min\": 1.0,\n        \"max\": 597219.0,\n        \"num_unique_values\": 15,\n        \"samples\": [\n          3827.0,\n          185443.0,\n          1.0\n        ],\n        \"semantic_type\": \"\",\n        \"description\": \"\"\n      }\n    },\n    {\n      \"column\": [\n        \"\\ud55c\\uad6d\",\n        \"\\ucd5c\\uc885\\uc218\\uc694\"\n      ],\n      \"properties\": {\n        \"dtype\": \"number\",\n        \"std\": 2958.6024161997257,\n        \"min\": 0.0,\n        \"max\": 11605.0,\n        \"num_unique_values\": 14,\n        \"samples\": [\n          13.0,\n          296.0,\n          143.0\n        ],\n        \"semantic_type\": \"\",\n        \"description\": \"\"\n      }\n    },\n    {\n      \"column\": [\n        \"\\uc911\\uad6d\",\n        \"\\ucd5c\\uc885\\uc218\\uc694\"\n      ],\n      \"properties\": {\n        \"dtype\": \"number\",\n        \"std\": 26295.344315423346,\n        \"min\": 0.0,\n        \"max\": 101032.0,\n        \"num_unique_values\": 13,\n        \"samples\": [\n          1867.0,\n          135.0,\n          0.0\n        ],\n        \"semantic_type\": \"\",\n        \"description\": \"\"\n      }\n    },\n    {\n      \"column\": [\n        \"\\ubbf8\\uad6d\",\n        \"\\ucd5c\\uc885\\uc218\\uc694\"\n      ],\n      \"properties\": {\n        \"dtype\": \"number\",\n        \"std\": 45051.340851881214,\n        \"min\": 0.0,\n        \"max\": 175868.0,\n        \"num_unique_values\": 14,\n        \"samples\": [\n          147.0,\n          3605.0,\n          1.0\n        ],\n        \"semantic_type\": \"\",\n        \"description\": \"\"\n      }\n    },\n    {\n      \"column\": [\n        \"ROW\",\n        \"\\ucd5c\\uc885\\uc218\\uc694\"\n      ],\n      \"properties\": {\n        \"dtype\": \"number\",\n        \"std\": 87496.53334640234,\n        \"min\": 0.0,\n        \"max\": 339144.0,\n        \"num_unique_values\": 14,\n        \"samples\": [\n          14937.0,\n          339144.0,\n          2.0\n        ],\n        \"semantic_type\": \"\",\n        \"description\": \"\"\n      }\n    },\n    {\n      \"column\": [\n        \"\\ucd1d\\uacc4\",\n        \"\\ucd1d\\uc218\\uc694\"\n      ],\n      \"properties\": {\n        \"dtype\": \"number\",\n        \"std\": 165806.1564313093,\n        \"min\": 0.0,\n        \"max\": 597219.0,\n        \"num_unique_values\": 14,\n        \"samples\": [\n          41470.0,\n          597219.0,\n          518.0\n        ],\n        \"semantic_type\": \"\",\n        \"description\": \"\"\n      }\n    }\n  ]\n}"
            }
          },
          "metadata": {},
          "execution_count": 133
        }
      ]
    },
    {
      "cell_type": "code",
      "source": [
        "ICIO_df.to_csv('ICIO_4cons_3secs_1Fd_2020.csv',encoding=\"utf-8-sig\")"
      ],
      "metadata": {
        "id": "BnRT1-4nJC-m"
      },
      "execution_count": 134,
      "outputs": []
    },
    {
      "cell_type": "code",
      "source": [],
      "metadata": {
        "id": "mQRzmjOn2mLg"
      },
      "execution_count": 134,
      "outputs": []
    }
  ]
}