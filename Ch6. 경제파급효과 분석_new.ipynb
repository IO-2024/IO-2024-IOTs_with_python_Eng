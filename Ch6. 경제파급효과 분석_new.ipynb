{
  "nbformat": 4,
  "nbformat_minor": 0,
  "metadata": {
    "colab": {
      "provenance": [],
      "include_colab_link": true
    },
    "kernelspec": {
      "name": "python3",
      "display_name": "Python 3"
    },
    "language_info": {
      "name": "python"
    }
  },
  "cells": [
    {
      "cell_type": "markdown",
      "metadata": {
        "id": "view-in-github",
        "colab_type": "text"
      },
      "source": [
        "<a href=\"https://colab.research.google.com/github/Muraka64/IOTs_with_python/blob/main/Ch6.%20%EA%B2%BD%EC%A0%9C%ED%8C%8C%EA%B8%89%ED%9A%A8%EA%B3%BC%20%EB%B6%84%EC%84%9D_new.ipynb\" target=\"_parent\"><img src=\"https://colab.research.google.com/assets/colab-badge.svg\" alt=\"Open In Colab\"/></a>"
      ]
    },
    {
      "cell_type": "code",
      "source": [
        "import numpy as np   # Numpy import\n",
        "import pandas as pd  # Pandas import"
      ],
      "metadata": {
        "id": "TR7JvW8CxBFT"
      },
      "execution_count": 309,
      "outputs": []
    },
    {
      "cell_type": "markdown",
      "source": [
        "\n",
        "3부문 총, 국산, 수입거래표 불러오기"
      ],
      "metadata": {
        "id": "joFt2eQ514T6"
      }
    },
    {
      "cell_type": "code",
      "source": [
        "url_Tt_3 = \"https://raw.githubusercontent.com/Muraka64/IOTs_with_python/main/data/Total_matrix_3sectors.csv\"  # 3부문의 총거래표 불러오기\n",
        "Tt_3 = pd.read_csv(url_Tt_3)\n",
        "\n",
        "url_Dt_3 = \"https://raw.githubusercontent.com/Muraka64/IOTs_with_python/main/data/Domestic_matrix_3sectors.csv\"  # 3부문의 국산거래표 불러오기\n",
        "Dt_3 = pd.read_csv(url_Dt_3)\n",
        "\n",
        "url_It_3 = \"https://raw.githubusercontent.com/Muraka64/IOTs_with_python/main/data/Imported_matrix_3sectors.csv\"  # 3부문의 수입거래표 불러오기\n",
        "It_3 = pd.read_csv(url_It_3)\n",
        "\n",
        "url_emp_3 = \"https://raw.githubusercontent.com/Muraka64/IOTs_with_python/main/data/Emp_3_secs.csv\"  # 3부문의 고용표 불러오기\n",
        "Emp_3 = pd.read_csv(url_emp_3)"
      ],
      "metadata": {
        "id": "6GuMjUk213iK"
      },
      "execution_count": 310,
      "outputs": []
    },
    {
      "cell_type": "code",
      "source": [
        "Tt = Tt_3.to_numpy()  # numpy로 불러오기\n",
        "Dt = Dt_3.to_numpy()\n",
        "It = It_3.to_numpy()\n",
        "Em = Emp_3.to_numpy()"
      ],
      "metadata": {
        "id": "Baz2eLo8LavC"
      },
      "execution_count": 311,
      "outputs": []
    },
    {
      "cell_type": "code",
      "source": [
        "# Tt_1 = Tt[0:6,1:13].astype(float).round(-1)\n",
        "# Dm_1 = Dt[0:4,1:10].astype(float)\n",
        "# Im_1 = It[0:4,1:10].astype(float)\n",
        "# Ep_1 = Em[:,1:3]"
      ],
      "metadata": {
        "id": "pXrwfo8u86pr"
      },
      "execution_count": 312,
      "outputs": []
    },
    {
      "cell_type": "markdown",
      "source": [],
      "metadata": {
        "id": "kElLc50RAJxU"
      }
    },
    {
      "cell_type": "code",
      "source": [
        "# Tt_1 = Tt[0:10,1:13].astype(float)\n",
        "# Dm_1 = Dt[0:4,1:10].astype(float)\n",
        "# Im_1 = It[0:4,1:10].astype(float)\n",
        "print('총거래표 : \\n', Tt_1)    # 총거래표 확인\n",
        "print('국산거래표 : \\n', Dm_1)  # 국산거래표 확인\n",
        "print('수입거래표 : \\n', Im_1)  # 수입거래표 확인"
      ],
      "metadata": {
        "colab": {
          "base_uri": "https://localhost:8080/"
        },
        "id": "q4Q2rSR1QiUI",
        "outputId": "07109861-69bb-44a1-e492-8aacbefbf344"
      },
      "execution_count": 313,
      "outputs": [
        {
          "output_type": "stream",
          "name": "stdout",
          "text": [
            "총거래표 : \n",
            " [[4.000e+00 3.800e+01 1.100e+01 5.300e+01 1.800e+01 0.000e+00 1.000e+00\n",
            "  1.900e+01 7.200e+01 6.000e+01 1.200e+01 7.200e+01]\n",
            " [1.600e+01 9.440e+02 4.010e+02 1.361e+03 2.130e+02 1.670e+02 6.280e+02\n",
            "  1.008e+03 2.369e+03 1.792e+03 5.770e+02 2.369e+03]\n",
            " [7.000e+00 2.570e+02 6.930e+02 9.570e+02 1.032e+03 4.320e+02 1.310e+02\n",
            "  1.595e+03 2.552e+03 2.447e+03 1.050e+02 2.552e+03]\n",
            " [2.700e+01 1.239e+03 1.105e+03 2.371e+03 1.263e+03 5.990e+02 7.600e+02\n",
            "  2.622e+03 4.993e+03 4.299e+03 6.940e+02 4.993e+03]\n",
            " [3.300e+01 5.530e+02 1.342e+03 1.928e+03 0.000e+00 0.000e+00 0.000e+00\n",
            "  0.000e+00 0.000e+00 0.000e+00 0.000e+00 0.000e+00]\n",
            " [6.000e+01 1.792e+03 2.447e+03 4.299e+03 0.000e+00 0.000e+00 0.000e+00\n",
            "  0.000e+00 0.000e+00 0.000e+00 0.000e+00 0.000e+00]]\n",
            "국산거래표 : \n",
            " [[ 4.000e+00  3.100e+01  1.000e+01  4.500e+01  1.500e+01 -1.000e+00\n",
            "   1.000e+00  1.500e+01  6.000e+01]\n",
            " [ 1.500e+01  5.880e+02  3.220e+02  9.250e+02  1.380e+02  1.060e+02\n",
            "   6.230e+02  8.670e+02  1.792e+03]\n",
            " [ 7.000e+00  2.430e+02  6.440e+02  8.940e+02  9.970e+02  4.250e+02\n",
            "   1.310e+02  1.553e+03  2.447e+03]\n",
            " [ 2.600e+01  8.620e+02  9.760e+02  1.864e+03  1.150e+03  5.300e+02\n",
            "   7.550e+02  2.435e+03  4.299e+03]]\n",
            "수입거래표 : \n",
            " [[  0.   7.   1.   8.   3.   1.   0.   4.  12.]\n",
            " [  1. 356.  79. 436.  75.  61.   5. 141. 577.]\n",
            " [  0.  14.  49.  63.  35.   7.   0.  42. 105.]\n",
            " [  1. 377. 129. 507. 113.  69.   5. 187. 694.]]\n"
          ]
        }
      ]
    },
    {
      "cell_type": "code",
      "source": [
        "Ct = Tt_1[-1,0:3]  # 총산출액 벡터\n",
        "Ct"
      ],
      "metadata": {
        "colab": {
          "base_uri": "https://localhost:8080/"
        },
        "id": "sLoitK1lQigz",
        "outputId": "b594aa4f-0a7d-4b5a-dfcd-938fd3a6fe01"
      },
      "execution_count": 314,
      "outputs": [
        {
          "output_type": "execute_result",
          "data": {
            "text/plain": [
              "array([  60., 1792., 2447.])"
            ]
          },
          "metadata": {},
          "execution_count": 314
        }
      ]
    },
    {
      "cell_type": "code",
      "source": [
        "Ct_m = np.tile(Ct, reps=[3,1]) # 총산출액 벡터를 을 3번 행반복\n",
        "Ct_m"
      ],
      "metadata": {
        "colab": {
          "base_uri": "https://localhost:8080/"
        },
        "id": "s0wcbJY1Qipl",
        "outputId": "4fdba6f5-560d-441e-adce-5f939d744416"
      },
      "execution_count": 315,
      "outputs": [
        {
          "output_type": "execute_result",
          "data": {
            "text/plain": [
              "array([[  60., 1792., 2447.],\n",
              "       [  60., 1792., 2447.],\n",
              "       [  60., 1792., 2447.]])"
            ]
          },
          "metadata": {},
          "execution_count": 315
        }
      ]
    },
    {
      "cell_type": "code",
      "source": [
        "At = Tt_1[0:3,0:3]/Ct_m   # 총투입계수\n",
        "Ad = Dm_1[0:3,0:3]/Ct_m  # 국산투입계수\n",
        "Ai = Im_1[0:3,0:3]/Ct_m  # 수입투입계수\n",
        "\n",
        "print('총투입계수표 : \\n', At)\n",
        "print('국산투입계수표 : \\n', Ad)\n",
        "print('수입투입계수표 : \\n', Ai)\n",
        "\n",
        "df_At = pd.DataFrame(At.round(3),columns = ['농산품', '공산품', '서비스'], index=['농산품', '공산품', '서비스'])  #pandas로 내보내기\n",
        "df_Ad = pd.DataFrame(Ad.round(3),columns = ['농산품', '공산품', '서비스'], index=['농산품', '공산품', '서비스'])  #pandas로 내보내기\n",
        "df_Ai = pd.DataFrame(Ai.round(3),columns = ['농산품', '공산품', '서비스'], index=['농산품', '공산품', '서비스'])  #pandas로 내보내기"
      ],
      "metadata": {
        "colab": {
          "base_uri": "https://localhost:8080/"
        },
        "id": "5uLIE7vfQiwM",
        "outputId": "4f31c267-b68f-4804-93a2-df930fdd275d"
      },
      "execution_count": 316,
      "outputs": [
        {
          "output_type": "stream",
          "name": "stdout",
          "text": [
            "총투입계수표 : \n",
            " [[0.06666667 0.02120536 0.0044953 ]\n",
            " [0.26666667 0.52678571 0.16387413]\n",
            " [0.11666667 0.14341518 0.28320392]]\n",
            "국산투입계수표 : \n",
            " [[0.06666667 0.01729911 0.00408664]\n",
            " [0.25       0.328125   0.1315897 ]\n",
            " [0.11666667 0.13560268 0.2631794 ]]\n",
            "수입투입계수표 : \n",
            " [[0.         0.00390625 0.00040866]\n",
            " [0.01666667 0.19866071 0.03228443]\n",
            " [0.         0.0078125  0.02002452]]\n"
          ]
        }
      ]
    },
    {
      "cell_type": "markdown",
      "source": [
        "### 물가파급효과 분석\n",
        "\n",
        "\n",
        "##### - 투입계수의 전치행렬을 이용하여 생산유발계수(Lf)을 이용하여 각종 물가파급효과 분석 가능"
      ],
      "metadata": {
        "id": "LrSLa3VTD5Nd"
      }
    },
    {
      "cell_type": "code",
      "source": [
        "At_trans = At.T  # 총투입계수의 전치행렬\n",
        "Ad_trans = Ad.T  # 국산투입계수의 전치행렬\n",
        "Ai_trans = Ai.T  # 수입투입계수의 전치행렬\n",
        "\n",
        "print('총투입계수의 전치행렬 : \\n', At_trans, '\\n')\n",
        "print('국산투입계수의 전치행렬 : \\n', Ad_trans, '\\n')\n",
        "print('수입투입계수의 전치행렬 : \\n', Ai_trans, '\\n')\n",
        "\n",
        "Lf_trans = np.linalg.inv(np.identity(3)-Ad_trans)  # (I-Ad_trans)의 역행렬\n",
        "\n",
        "print('국산투입계수 전치행렬의 역행렬 : \\n', Lf_trans)"
      ],
      "metadata": {
        "id": "QlwdX5oMD71E",
        "outputId": "0facc2c6-3399-483d-eaec-9581f299c0b3",
        "colab": {
          "base_uri": "https://localhost:8080/"
        }
      },
      "execution_count": 317,
      "outputs": [
        {
          "output_type": "stream",
          "name": "stdout",
          "text": [
            "총투입계수의 전치행렬 : \n",
            " [[0.06666667 0.26666667 0.11666667]\n",
            " [0.02120536 0.52678571 0.14341518]\n",
            " [0.0044953  0.16387413 0.28320392]] \n",
            "\n",
            "국산투입계수의 전치행렬 : \n",
            " [[0.06666667 0.25       0.11666667]\n",
            " [0.01729911 0.328125   0.13560268]\n",
            " [0.00408664 0.1315897  0.2631794 ]] \n",
            "\n",
            "수입투입계수의 전치행렬 : \n",
            " [[0.         0.01666667 0.        ]\n",
            " [0.00390625 0.19866071 0.0078125 ]\n",
            " [0.00040866 0.03228443 0.02002452]] \n",
            "\n",
            "국산투입계수 전치행렬의 역행렬 : \n",
            " [[1.08092021 0.45201623 0.25433867]\n",
            " [0.03012689 1.55662423 0.29124759]\n",
            " [0.01137552 0.28050647 1.41060738]]\n"
          ]
        }
      ]
    },
    {
      "cell_type": "code",
      "source": [
        "Lf = np.linalg.inv(np.identity(3)-Ad)  # 생산유발계수\n",
        "Lf"
      ],
      "metadata": {
        "id": "ZBm_HdNJlXK0",
        "outputId": "94fdb51b-bc0e-40d7-e6ed-53ea8fb72271",
        "colab": {
          "base_uri": "https://localhost:8080/"
        }
      },
      "execution_count": 318,
      "outputs": [
        {
          "output_type": "execute_result",
          "data": {
            "text/plain": [
              "array([[1.08092021, 0.03012689, 0.01137552],\n",
              "       [0.45201623, 1.55662423, 0.28050647],\n",
              "       [0.25433867, 0.29124759, 1.41060738]])"
            ]
          },
          "metadata": {},
          "execution_count": 318
        }
      ]
    },
    {
      "cell_type": "code",
      "source": [
        "Va_r = Tt_1[-2,0:3]/Ct  # 부가가치율 벡터\n",
        "Va_m = np.diag(Va_r)    # 부가가치율의 대각행렬\n",
        "\n",
        "Lv = Va_m@Lf   #부가가치유발계수\n",
        "Li = Ai@Lf  #수입유발계수\n",
        "\n",
        "Aw_r = Tt_1[-6,0:3]/Ct # 피용자보수율\n",
        "Aw_m = np.diag(Aw_r)   # 피용자보수율의 대각행렬\n",
        "print('피용자보수율의 대각행렬 : \\n', Aw_m,'\\n')"
      ],
      "metadata": {
        "id": "g3iFXmzj8jsS",
        "outputId": "bc8e196e-a4b6-47ea-fd3a-171a88f7e67a",
        "colab": {
          "base_uri": "https://localhost:8080/"
        }
      },
      "execution_count": 319,
      "outputs": [
        {
          "output_type": "stream",
          "name": "stdout",
          "text": [
            "피용자보수율의 대각행렬 : \n",
            " [[0.06666667 0.         0.        ]\n",
            " [0.         0.02120536 0.        ]\n",
            " [0.         0.         0.0044953 ]] \n",
            "\n"
          ]
        }
      ]
    },
    {
      "cell_type": "markdown",
      "source": [
        "#### 임금인상의 물가파급효과"
      ],
      "metadata": {
        "id": "VmIala71I_1M"
      }
    },
    {
      "cell_type": "code",
      "source": [
        "delta_all_w = np.array([10,10,10]).reshape([3,1]) # 전부문 10% 임금 인상의 물가파급효과\n",
        "delta_all_Pw = ((Lf_trans@Aw_m)@delta_all_w).round(3)\n",
        "\n",
        "delta_par_w = np.array([0,10,0]).reshape([3,1]) # 공산품 부문 10% 임금 인상의 물가파급효과\n",
        "delta_par_Pw = ((Lf_trans@Aw_m)@delta_par_w).round(3)\n",
        "\n",
        "print('전부문 10% 임금 인상의 물가파급효과 : \\n', delta_all_Pw, '\\n')\n",
        "print('공산품 부문 10% 임금 인상의 물가파급효과 : \\n', delta_par_Pw, '\\n')\n"
      ],
      "metadata": {
        "id": "hT30koHOD8WG",
        "outputId": "978f6610-6e6f-4d26-fb25-682f84f97d12",
        "colab": {
          "base_uri": "https://localhost:8080/"
        }
      },
      "execution_count": 320,
      "outputs": [
        {
          "output_type": "stream",
          "name": "stdout",
          "text": [
            "전부문 10% 임금 인상의 물가파급효과 : \n",
            " [[0.828]\n",
            " [0.363]\n",
            " [0.13 ]] \n",
            "\n",
            "공산품 부문 10% 임금 인상의 물가파급효과 : \n",
            " [[0.096]\n",
            " [0.33 ]\n",
            " [0.059]] \n",
            "\n"
          ]
        }
      ]
    },
    {
      "cell_type": "markdown",
      "source": [
        "#### 내생부분(중간투입품) 가격변동의 물가파급효과"
      ],
      "metadata": {
        "id": "lz8QJDXeZA_n"
      }
    },
    {
      "cell_type": "code",
      "source": [
        "#### 중간투입되는 서비스의 물가변동의 파급효과 분석\n",
        "\n",
        "Ad_exd_row = np.delete(Ad_trans,2,0).reshape([2,3])  # 서비스(sectors3) 행 삭제\n",
        "Ad_exd_serv = np.delete(Ad_exd_row,2,1).reshape([2,2])  # 서비스(sectors3) 열 삭제\n",
        "print('서비스 부문을 제외한 여타 부문 국산투입계수의 전치행렬 : \\n', Ad_exd_serv.round(3))\n",
        "\n",
        "Lf_Ad = np.linalg.inv(np.identity(2)-Ad_exd_serv)\n",
        "print('서비스 부문을 제외한 여타 부문 국산투입계수 전치행렬의 역행렬 : \\n', Lf_Ad.round(3))\n",
        "\n",
        "A_Pr_sec2 = np.concatenate((Ad_trans[0,2].reshape([1,1]),Ad_trans[1,2].reshape([1,1])),axis=0).reshape([2,1])  # 물가가 변동하는 부문의 국산 투입계수(a31, a32)\n",
        "print('서비스 부문의 여타부문으로의 국산투입계수 벡터의 전치행렬 : \\n', A_Pr_sec2.round(3))\n",
        "\n",
        "# 서비스 부문 10%  가격 인상의 타부문 물가파급효과\n",
        "\n",
        "delta_serv_Pw = Lf_Ad@A_Pr_sec2*10\n",
        "print('서비스 부문 10%  가격 인상의 타부문 물가파급효과 : \\n', delta_serv_Pw.round(3))"
      ],
      "metadata": {
        "id": "MH8Zx-JXD8ZG",
        "colab": {
          "base_uri": "https://localhost:8080/"
        },
        "outputId": "18f8decf-99ed-427d-cabf-f6c3c0a0eb19"
      },
      "execution_count": 321,
      "outputs": [
        {
          "output_type": "stream",
          "name": "stdout",
          "text": [
            "서비스 부문을 제외한 여타 부문 국산투입계수의 전치행렬 : \n",
            " [[0.067 0.25 ]\n",
            " [0.017 0.328]]\n",
            "서비스 부문을 제외한 여타 부문 국산투입계수 전치행렬의 역행렬 : \n",
            " [[1.079 0.401]\n",
            " [0.028 1.499]]\n",
            "서비스 부문의 여타부문으로의 국산투입계수 벡터의 전치행렬 : \n",
            " [[0.117]\n",
            " [0.136]]\n",
            "서비스 부문 10%  가격 인상의 타부문 물가파급효과 : \n",
            " [[1.803]\n",
            " [2.065]]\n"
          ]
        }
      ]
    },
    {
      "cell_type": "markdown",
      "source": [
        "#### 수입농산품 가격변동의 물가파급효과\n"
      ],
      "metadata": {
        "id": "KGihX7EPGGt3"
      }
    },
    {
      "cell_type": "code",
      "source": [
        "Imp_Pw = np.array([10,0,0]).reshape([3,1]) # 수입농산품 10% 가격 인상의 물가파급효과\n",
        "delta_imp_Pw =  ((Lf_trans @Ai_trans)@Imp_Pw).reshape([3,1])\n",
        "\n",
        "print('수입농산품 10% 가격 인상의 물가파급효과 : \\n', delta_imp_Pw)"
      ],
      "metadata": {
        "colab": {
          "base_uri": "https://localhost:8080/"
        },
        "id": "5p1nygTxZI38",
        "outputId": "3988bfb0-6828-4d84-815c-a25107a1af57"
      },
      "execution_count": 322,
      "outputs": [
        {
          "output_type": "stream",
          "name": "stdout",
          "text": [
            "수입농산품 10% 가격 인상의 물가파급효과 : \n",
            " [[0.01869627]\n",
            " [0.06199586]\n",
            " [0.01672192]]\n"
          ]
        }
      ]
    },
    {
      "cell_type": "markdown",
      "source": [
        "### 환율변동 효과"
      ],
      "metadata": {
        "id": "5AEFkiKAwD23"
      }
    },
    {
      "cell_type": "code",
      "source": [
        "Ex_rate = np.array([10,10,10]).reshape([3,1]) # 대미 환율 10% 상승의 물가파급효과\n",
        "delta_Ex_rate =  ((Lf_trans @Ai_trans)@Ex_rate).reshape([3,1])\n",
        "\n",
        "print('대미 환율 10% 상승의 물가파급효과 : \\n', delta_Ex_rate)"
      ],
      "metadata": {
        "id": "CCXNMfyywHOe",
        "outputId": "81b3c251-2c7f-4591-a4da-c03f029f1b09",
        "colab": {
          "base_uri": "https://localhost:8080/"
        }
      },
      "execution_count": 323,
      "outputs": [
        {
          "output_type": "stream",
          "name": "stdout",
          "text": [
            "대미 환율 10% 상승의 물가파급효과 : \n",
            " [[1.26518396]\n",
            " [3.43337764]\n",
            " [1.33566247]]\n"
          ]
        }
      ]
    },
    {
      "cell_type": "markdown",
      "source": [
        "### 환율변동과 수입농산품 효과"
      ],
      "metadata": {
        "id": "0WkcHZexaNNy"
      }
    },
    {
      "cell_type": "code",
      "source": [
        "Ex_arg = np.array([21,10,10]).reshape([3,1]) # 수입 농산품 및 대미 환율 각각 10% 상승의 물가파급효과\n",
        "delta_Ex_arg =  ((Lf_trans @Ai_trans)@Ex_arg).reshape([3,1])\n",
        "\n",
        "print('수입 농산품 및 대미 환율 각각 10% 상승의 물가파급효과 : \\n', delta_Ex_arg )"
      ],
      "metadata": {
        "id": "7vAsci-laUKC",
        "outputId": "c3e6cecc-d469-440d-8e74-984eb348eec8",
        "colab": {
          "base_uri": "https://localhost:8080/"
        }
      },
      "execution_count": 324,
      "outputs": [
        {
          "output_type": "stream",
          "name": "stdout",
          "text": [
            "수입 농산품 및 대미 환율 각각 10% 상승의 물가파급효과 : \n",
            " [[1.28574987]\n",
            " [3.50157309]\n",
            " [1.35405659]]\n"
          ]
        }
      ]
    },
    {
      "cell_type": "code",
      "source": [
        "#pandas로 내보내기\n",
        "\n",
        "df_delta_all_Pw = pd.DataFrame(delta_all_Pw.round(3),columns = ['물가상승률'], index=['농산품', '공산품', '서비스'])  # 모든 부문의 임금 10% 상승\n",
        "df_delta_par_Pw = pd.DataFrame(delta_par_Pw.round(3),columns = ['물가상승률'], index=['농산품', '공산품', '서비스'])  # 공산품 부문의 임금 10% 상승\n",
        "df_delta_serv_Pw = pd.DataFrame(delta_serv_Pw.round(3),columns = ['물가상승률'], index=['농산품', '서비스'])        # 서비스 물가 10% 상승\n",
        "df_delta_imp_Pw = pd.DataFrame(delta_imp_Pw.round(3),columns = ['물가상승률'], index=['농산품', '공산품', '서비스'])   # 수입 농산품 물가 10% 상승\n",
        "df_delta_Ex_rate = pd.DataFrame(delta_Ex_rate.round(3),columns = ['물가상승률'], index=['농산품', '공산품', '서비스'])   # 환율 10% 상승\n",
        "df_delta_Ex_arg = pd.DataFrame(delta_Ex_arg.round(3),columns = ['물가상승률'], index=['농산품', '공산품', '서비스'])   # 환율 및 수입농산품 10% 상승"
      ],
      "metadata": {
        "id": "Njxfr_mbHtnA"
      },
      "execution_count": 325,
      "outputs": []
    },
    {
      "cell_type": "code",
      "source": [
        "df_delta_all_Pw.to_csv('모든 부문 임금 10% 상승.csv')\n",
        "df_delta_par_Pw.to_csv('공산품 부문 임금 10% 상승.csv')\n",
        "df_delta_serv_Pw.to_csv('서비스 물가 10% 상승.csv')\n",
        "df_delta_imp_Pw.to_csv('수입 농산품 물가 10% 상승.csv')\n",
        "df_delta_Ex_rate.to_csv('환율 10% 상승.csv')\n",
        "df_delta_Ex_arg.to_csv('환율 및 수입농산품 10% 상승.csv')"
      ],
      "metadata": {
        "id": "Q0fXvrqKKjRH"
      },
      "execution_count": 326,
      "outputs": []
    },
    {
      "cell_type": "markdown",
      "source": [
        "### 산출 변동요인분해"
      ],
      "metadata": {
        "id": "1X310a-D0eWz"
      }
    },
    {
      "cell_type": "code",
      "source": [
        "# 2015년 총거래표\n",
        "\n",
        "url_total = \"https://raw.githubusercontent.com/Muraka64/IOTs_with_python/main/data/2015_tot_cst_3secs.csv\"  # 2015년 총거래표(3부문)\n",
        "Tot_cst_15 = pd.read_csv(url_total)\n",
        "\n",
        "url_imp = \"https://raw.githubusercontent.com/Muraka64/IOTs_with_python/main/data/2015_imp_cst_3secs.csv\"  # 2015년 수입거래표(3부문)\n",
        "Imp_cst_15 = pd.read_csv(url_imp)\n",
        "\n",
        "url_dom = \"https://raw.githubusercontent.com/Muraka64/IOTs_with_python/main/data/2015_dom_cst_3secs.csv\"  # 2015년 국산거래표(3부문)\n",
        "Dom_cst_15 = pd.read_csv(url_dom)"
      ],
      "metadata": {
        "id": "WO3Rtqyq0Whr"
      },
      "execution_count": 327,
      "outputs": []
    },
    {
      "cell_type": "code",
      "source": [
        "# 2010년 거래표 다운로드\n",
        "\n",
        "url_total = \"https://raw.githubusercontent.com/Muraka64/IOTs_with_python/main/data/2010_tot_cst_3secs.csv\"  # 2010년 불변 가격기준 총거래표(3부문)\n",
        "Tot_cst_10 = pd.read_csv(url_total)\n",
        "\n",
        "url_imp = \"https://raw.githubusercontent.com/Muraka64/IOTs_with_python/main/data/2010_imp_cst_3secs.csv\"  # 2010년 불변 가격기준 수입거래표(3부문)\n",
        "Imp_cst_10 = pd.read_csv(url_imp)\n",
        "\n",
        "url_dom = \"https://raw.githubusercontent.com/Muraka64/IOTs_with_python/main/data/2010_dom_cst_3secs.csv\"  # 2010년 불변 가격기준 국산거래표(3부문)\n",
        "Dom_cst_10 = pd.read_csv(url_dom)"
      ],
      "metadata": {
        "id": "h3tIgubJ0kmW"
      },
      "execution_count": 328,
      "outputs": []
    },
    {
      "cell_type": "code",
      "source": [
        "S1= Tot_cst_15.iloc[:,1:].to_numpy().astype(float)\n",
        "I1 = Imp_cst_15.iloc[:,1:].to_numpy().astype(float)\n",
        "S0 = Tot_cst_10.iloc[:,1:].to_numpy().astype(float)\n",
        "I0 = Imp_cst_10.iloc[:,1:].to_numpy().astype(float)"
      ],
      "metadata": {
        "id": "hIeYk2IY0nJl"
      },
      "execution_count": 329,
      "outputs": []
    },
    {
      "cell_type": "code",
      "source": [
        "SS0 = S0[0:3,0:3]  # 총거래표의 내생부문\n",
        "SS1 = S1[0:3,0:3]\n",
        "SS1.shape"
      ],
      "metadata": {
        "id": "ddXX4Grl0s5_",
        "outputId": "43da03cf-905a-451c-f76c-3efb0778365a",
        "colab": {
          "base_uri": "https://localhost:8080/"
        }
      },
      "execution_count": 330,
      "outputs": [
        {
          "output_type": "execute_result",
          "data": {
            "text/plain": [
              "(3, 3)"
            ]
          },
          "metadata": {},
          "execution_count": 330
        }
      ]
    },
    {
      "cell_type": "code",
      "source": [
        "II0 = I0[0:3,0:3]  # 수입거래표의 내생부문\n",
        "II1 = I1[0:3,0:3]"
      ],
      "metadata": {
        "id": "LT2jtD910u9U"
      },
      "execution_count": 331,
      "outputs": []
    },
    {
      "cell_type": "code",
      "source": [
        "DD0 =SS0 - II0  # 국산거래표의 내생부문\n",
        "DD1 =SS1 - II1\n",
        "DD0"
      ],
      "metadata": {
        "id": "kHDC7W_D0wnT",
        "outputId": "f2bbce2c-90dc-4131-af26-d5a82d3f31dd",
        "colab": {
          "base_uri": "https://localhost:8080/"
        }
      },
      "execution_count": 332,
      "outputs": [
        {
          "output_type": "execute_result",
          "data": {
            "text/plain": [
              "array([[  4.,  29.,   9.],\n",
              "       [ 17., 510., 235.],\n",
              "       [  5., 209., 427.]])"
            ]
          },
          "metadata": {},
          "execution_count": 332
        }
      ]
    },
    {
      "cell_type": "code",
      "source": [
        "TM0 = I0[0:3,8]  # 수입거래표의 총수요계(총수입) 벡터\n",
        "TM1 = I1[0:3,8]\n",
        "TM0"
      ],
      "metadata": {
        "id": "lZQF-kam0yA0",
        "outputId": "a683b1af-f5c1-42d9-919a-de4b52af60f6",
        "colab": {
          "base_uri": "https://localhost:8080/"
        }
      },
      "execution_count": 333,
      "outputs": [
        {
          "output_type": "execute_result",
          "data": {
            "text/plain": [
              "array([ 10., 417.,  72.])"
            ]
          },
          "metadata": {},
          "execution_count": 333
        }
      ]
    },
    {
      "cell_type": "code",
      "source": [
        "IM0 = I0[0:3,3]  # 수입거래표의 중간수요계(중간재수입) 벡터\n",
        "IM1 = I1[0:3,3]\n",
        "IM0"
      ],
      "metadata": {
        "id": "K9TsH3W-0z3q",
        "outputId": "ea77f671-6ce6-4229-bca2-4df7e1086bd2",
        "colab": {
          "base_uri": "https://localhost:8080/"
        }
      },
      "execution_count": 334,
      "outputs": [
        {
          "output_type": "execute_result",
          "data": {
            "text/plain": [
              "array([  8., 325.,  48.])"
            ]
          },
          "metadata": {},
          "execution_count": 334
        }
      ]
    },
    {
      "cell_type": "code",
      "source": [
        "IF0 = I0[0:3,7]  # 수입거래표의 최종수요계(최종재수입) 벡터\n",
        "IF1 = I1[0:3,7]\n",
        "IF0"
      ],
      "metadata": {
        "id": "gsK5qIsm000r",
        "outputId": "a2e5e15a-6507-4d82-b97d-6dc621961df2",
        "colab": {
          "base_uri": "https://localhost:8080/"
        }
      },
      "execution_count": 335,
      "outputs": [
        {
          "output_type": "execute_result",
          "data": {
            "text/plain": [
              "array([ 2., 92., 24.])"
            ]
          },
          "metadata": {},
          "execution_count": 335
        }
      ]
    },
    {
      "cell_type": "code",
      "source": [
        "SFC0 = S0[0:3,4]  # 총거래표의 소비 벡터\n",
        "SFC1 = S1[0:3,4]\n",
        "SFC0"
      ],
      "metadata": {
        "id": "D47Za_n0003W",
        "outputId": "8fc8889e-1468-44a5-ad67-571ef5ef0847",
        "colab": {
          "base_uri": "https://localhost:8080/"
        }
      },
      "execution_count": 336,
      "outputs": [
        {
          "output_type": "execute_result",
          "data": {
            "text/plain": [
              "array([ 16., 166., 740.])"
            ]
          },
          "metadata": {},
          "execution_count": 336
        }
      ]
    },
    {
      "cell_type": "code",
      "source": [
        "SFI0 = S0[0:3,5] # 총거래표의 투자 벡터\n",
        "SFI1 = S1[0:3,5]\n",
        "SFI0"
      ],
      "metadata": {
        "id": "EuRJyN9e06je",
        "outputId": "17a00f96-798a-4e58-cce9-40c65cce3c26",
        "colab": {
          "base_uri": "https://localhost:8080/"
        }
      },
      "execution_count": 337,
      "outputs": [
        {
          "output_type": "execute_result",
          "data": {
            "text/plain": [
              "array([  3., 138., 310.])"
            ]
          },
          "metadata": {},
          "execution_count": 337
        }
      ]
    },
    {
      "cell_type": "code",
      "source": [
        "SF0 = S0[0:3,7] # 총거래표의 최종수요계\n",
        "SF1 = S1[0:3,7]\n",
        "SF0"
      ],
      "metadata": {
        "id": "WVOr2EAb076S",
        "outputId": "194706ce-0a44-4d59-de13-5cdb9874a3b9",
        "colab": {
          "base_uri": "https://localhost:8080/"
        }
      },
      "execution_count": 338,
      "outputs": [
        {
          "output_type": "execute_result",
          "data": {
            "text/plain": [
              "array([  20.,  761., 1129.])"
            ]
          },
          "metadata": {},
          "execution_count": 338
        }
      ]
    },
    {
      "cell_type": "code",
      "source": [
        "EX0 = S0[0:3,6] # 총거래표의 수출 벡터\n",
        "EX1 = S1[0:3,6]\n",
        "EX0"
      ],
      "metadata": {
        "id": "fWkR6KkJ09iC",
        "outputId": "5487433c-3cc2-458f-aef4-49be07f2418f",
        "colab": {
          "base_uri": "https://localhost:8080/"
        }
      },
      "execution_count": 339,
      "outputs": [
        {
          "output_type": "execute_result",
          "data": {
            "text/plain": [
              "array([  1., 457.,  79.])"
            ]
          },
          "metadata": {},
          "execution_count": 339
        }
      ]
    },
    {
      "cell_type": "code",
      "source": [
        "DF0 = SF0 - EX0 # 총거래표의 내수(최종수요계 - 수출) 벡터\n",
        "DF1 = SF1 - EX1\n",
        "DF0"
      ],
      "metadata": {
        "id": "XD7qXyvw0_ke",
        "outputId": "da2523d3-87df-421e-ce3a-a7c2b3238c6d",
        "colab": {
          "base_uri": "https://localhost:8080/"
        }
      },
      "execution_count": 340,
      "outputs": [
        {
          "output_type": "execute_result",
          "data": {
            "text/plain": [
              "array([  19.,  304., 1050.])"
            ]
          },
          "metadata": {},
          "execution_count": 340
        }
      ]
    },
    {
      "cell_type": "code",
      "source": [
        "C0 = S0[-1,0:3].T.reshape([3,1])  # 부문별 총산출액 벡터\n",
        "C1 = S1[-1,0:3].T.reshape([3,1])\n",
        "C0"
      ],
      "metadata": {
        "id": "aB4Xm-AX1IHC",
        "outputId": "cde8e600-7b7b-4393-af87-d9e531a000db",
        "colab": {
          "base_uri": "https://localhost:8080/"
        }
      },
      "execution_count": 344,
      "outputs": [
        {
          "output_type": "execute_result",
          "data": {
            "text/plain": [
              "array([[  60.],\n",
              "       [1431.],\n",
              "       [1746.]])"
            ]
          },
          "metadata": {},
          "execution_count": 344
        }
      ]
    },
    {
      "cell_type": "code",
      "source": [
        "TC0 = C0.sum(axis=0)  # 전부문 총산출액 계\n",
        "TC1 = C1.sum(axis=0)\n",
        "TC0"
      ],
      "metadata": {
        "id": "8klyp15F1KGH",
        "outputId": "0f0c3a8f-f1bb-43bd-cee5-1cc4f560e7a2",
        "colab": {
          "base_uri": "https://localhost:8080/"
        }
      },
      "execution_count": 345,
      "outputs": [
        {
          "output_type": "execute_result",
          "data": {
            "text/plain": [
              "array([3237.])"
            ]
          },
          "metadata": {},
          "execution_count": 345
        }
      ]
    },
    {
      "cell_type": "code",
      "source": [
        "# V0 = S0[-1,0:3].T - S0[3,0:3].T # 부가가치계벡터 = 총투입액 - 중간투입계\n",
        "# V1 = S1[-1,0:3].T - S1[3,0:3].T\n",
        "V1"
      ],
      "metadata": {
        "id": "QQHzmuDP1MMd",
        "outputId": "53d36f52-dafe-4ae4-fe1d-6dd7f7562fa2",
        "colab": {
          "base_uri": "https://localhost:8080/"
        }
      },
      "execution_count": 346,
      "outputs": [
        {
          "output_type": "execute_result",
          "data": {
            "text/plain": [
              "array([  34.,  486., 1120.])"
            ]
          },
          "metadata": {},
          "execution_count": 346
        }
      ]
    },
    {
      "cell_type": "code",
      "source": [
        "# AV0 = V0/C0 # 부가가치계수\n",
        "# AV1 = V1/C1\n",
        "# AV1"
      ],
      "metadata": {
        "id": "7gYWaDmP1N0F",
        "outputId": "a29cbcc1-528e-4bab-d623-7308230c5e61",
        "colab": {
          "base_uri": "https://localhost:8080/"
        }
      },
      "execution_count": 347,
      "outputs": [
        {
          "output_type": "execute_result",
          "data": {
            "text/plain": [
              "array([[5.48387097e-01, 7.83870968e+00, 1.80645161e+01],\n",
              "       [1.98482195e-02, 2.83712785e-01, 6.53823701e-01],\n",
              "       [1.65208941e-02, 2.36151603e-01, 5.44217687e-01]])"
            ]
          },
          "metadata": {},
          "execution_count": 347
        }
      ]
    },
    {
      "cell_type": "code",
      "source": [
        "CT0 = np.tile(C0, reps=[1,3])   # Ct벡터를 반복해여 행렬(3x3)로 만듬\n",
        "CT1 = np.tile(C1, reps=[1,3])\n",
        "CT1"
      ],
      "metadata": {
        "id": "xl-TqC1L1PpI",
        "outputId": "b870e7df-d76c-4605-a9f9-7d44ae1ad842",
        "colab": {
          "base_uri": "https://localhost:8080/"
        }
      },
      "execution_count": 348,
      "outputs": [
        {
          "output_type": "execute_result",
          "data": {
            "text/plain": [
              "array([[  62.,   62.,   62.],\n",
              "       [1713., 1713., 1713.],\n",
              "       [2058., 2058., 2058.]])"
            ]
          },
          "metadata": {},
          "execution_count": 348
        }
      ]
    },
    {
      "cell_type": "code",
      "source": [
        "AS0 = SS0/CT0.T # 총투입계수표\n",
        "AS1 = SS1/CT1.T\n",
        "# np.isnan(AS_t)"
      ],
      "metadata": {
        "id": "OVcML11X1R7m"
      },
      "execution_count": 349,
      "outputs": []
    },
    {
      "cell_type": "code",
      "source": [
        "AD0 = DD0/CT0.T # 국산투입계수표\n",
        "AD1 = DD1/CT1.T"
      ],
      "metadata": {
        "id": "OqDyf3K-1UDc"
      },
      "execution_count": 350,
      "outputs": []
    },
    {
      "cell_type": "code",
      "source": [
        "II0 = AS0-AD0 # 수입투입계수표\n",
        "II1 = AS1-AD1"
      ],
      "metadata": {
        "id": "98zvFVH51VwC"
      },
      "execution_count": 351,
      "outputs": []
    },
    {
      "cell_type": "code",
      "source": [
        "M0 = IF0/DF0 # 수입최종수요/(소비+투자)\n",
        "M0 = np.diag(M0)\n",
        "\n",
        "M1 = IF1/DF1\n",
        "M1 = np.diag(M1)"
      ],
      "metadata": {
        "id": "9aTIOYXT1Yuw"
      },
      "execution_count": 352,
      "outputs": []
    },
    {
      "cell_type": "code",
      "source": [
        "RD0 = np.linalg.inv(np.eye(3) - AD0) # 생산유발계수\n",
        "RD1 = np.linalg.inv(np.eye(3) - AD1)"
      ],
      "metadata": {
        "id": "fogw4rRd1aRK"
      },
      "execution_count": 353,
      "outputs": []
    },
    {
      "cell_type": "code",
      "source": [
        "AM0 = II0/AS0 #조정항목\n",
        "AM0 = AM0*AS1\n",
        "\n",
        "AM1 = II1/AS1\n",
        "AM1 = AM1*AS0"
      ],
      "metadata": {
        "id": "nToA-AXA11Sn"
      },
      "execution_count": 354,
      "outputs": []
    },
    {
      "cell_type": "code",
      "source": [
        "AA = AS1 - AS0 #투입계수변화\n",
        "AS1_f = pd.DataFrame(AS1)\n",
        "AS1_f.to_csv('AS1_f.csv')"
      ],
      "metadata": {
        "id": "SbgZU3581205"
      },
      "execution_count": 355,
      "outputs": []
    },
    {
      "cell_type": "markdown",
      "source": [
        "#### 산출액성장요인분해\n",
        "-  파쉐 및 라스파이레스 방식으로 산출액 변동을 분해하여 평균으로 성장요인을 분해\n",
        "- 파쉐 방식"
      ],
      "metadata": {
        "id": "7B9feesi16bM"
      }
    },
    {
      "cell_type": "code",
      "source": [
        "TQS=(RD1@(np.eye(3)-M1))@(DF1-DF0).reshape([3,1]) # 국내최종수요증감효과\n",
        "TQS"
      ],
      "metadata": {
        "id": "dMi2-Rx215z9",
        "outputId": "aeea1619-665d-4b3c-cfbd-d81e7f2671fe",
        "colab": {
          "base_uri": "https://localhost:8080/"
        }
      },
      "execution_count": 356,
      "outputs": [
        {
          "output_type": "execute_result",
          "data": {
            "text/plain": [
              "array([[  2.38510022],\n",
              "       [ 61.62837687],\n",
              "       [215.97946683]])"
            ]
          },
          "metadata": {},
          "execution_count": 356
        }
      ]
    },
    {
      "cell_type": "code",
      "source": [
        "TTE= RD1@(EX1-EX0).reshape([3,1]) # 수출효과\n",
        "TTE"
      ],
      "metadata": {
        "id": "ILRlemFF1_Dq",
        "outputId": "5384a7e3-3ea7-4998-902f-1770b846771b",
        "colab": {
          "base_uri": "https://localhost:8080/"
        }
      },
      "execution_count": 357,
      "outputs": [
        {
          "output_type": "execute_result",
          "data": {
            "text/plain": [
              "array([[  5.36844407],\n",
              "       [256.66813339],\n",
              "       [ 86.76931313]])"
            ]
          },
          "metadata": {},
          "execution_count": 357
        }
      ]
    },
    {
      "cell_type": "code",
      "source": [
        "T3 = ((RD1@(M1 - M0))@DF0).reshape([3,1]) # 최종재수입대체효과\n",
        "T3 = T3*-1\n",
        "T4 = ((RD1@(AM1 - II0)))@C0[0:3,] # 중간재수입대체효과\n",
        "T4 = T4*-1\n",
        "T34 = T3 + T4\n",
        "TI = np.concatenate((T34, T3, T4), axis=1)\n",
        "T34"
      ],
      "metadata": {
        "id": "5TjwZTB52ArA",
        "outputId": "afa83a09-b719-4f81-c610-793d16964e90",
        "colab": {
          "base_uri": "https://localhost:8080/"
        }
      },
      "execution_count": 358,
      "outputs": [
        {
          "output_type": "execute_result",
          "data": {
            "text/plain": [
              "array([[ -2.2227443 ],\n",
              "       [-43.08542286],\n",
              "       [-21.98890467]])"
            ]
          },
          "metadata": {},
          "execution_count": 358
        }
      ]
    },
    {
      "cell_type": "code",
      "source": [
        "T5 = (RD1@(AA-(II1-AM1)))@C0 # 기술변화효과\n",
        "T5.shape\n",
        "T5"
      ],
      "metadata": {
        "id": "TduotUTM2CP4",
        "outputId": "de2da3e4-139d-43ed-a27e-6a6e02bbba90",
        "colab": {
          "base_uri": "https://localhost:8080/"
        }
      },
      "execution_count": 359,
      "outputs": [
        {
          "output_type": "execute_result",
          "data": {
            "text/plain": [
              "array([[-3.53079999],\n",
              "       [ 6.78891261],\n",
              "       [31.2401247 ]])"
            ]
          },
          "metadata": {},
          "execution_count": 359
        }
      ]
    },
    {
      "cell_type": "code",
      "source": [
        "DCT0 = C1-C0  #산출액 실질변동액\n",
        "DCT1 = TQS + TTE + T3 + T4 + T5 # 총변동요인\n",
        "DCT = DCT0-DCT1\n",
        "DCT0"
      ],
      "metadata": {
        "id": "D3dZzx7s2D1C",
        "outputId": "2d8e2733-534a-4d5d-f726-aea33fa24303",
        "colab": {
          "base_uri": "https://localhost:8080/"
        }
      },
      "execution_count": 360,
      "outputs": [
        {
          "output_type": "execute_result",
          "data": {
            "text/plain": [
              "array([[  2.],\n",
              "       [282.],\n",
              "       [312.]])"
            ]
          },
          "metadata": {},
          "execution_count": 360
        }
      ]
    },
    {
      "cell_type": "code",
      "source": [
        "SUM = np.concatenate((DCT0, DCT1, DCT, TQS, TTE, T3, T4, T5), axis=1)\n",
        "SUM.shape\n",
        "SUM1 = np.sum(SUM, axis=0).reshape([1,8])\n",
        "PGD1015_f = (np.concatenate((SUM, SUM1), axis=0))\n",
        "print(PGD1015_f.round(3))"
      ],
      "metadata": {
        "id": "L6HeTBQP2FR6",
        "outputId": "730f4981-fa4f-4c97-8d8f-bcfe158c55d0",
        "colab": {
          "base_uri": "https://localhost:8080/"
        }
      },
      "execution_count": 361,
      "outputs": [
        {
          "output_type": "stream",
          "name": "stdout",
          "text": [
            "[[  2.      2.     -0.      2.385   5.368  -1.505  -0.717  -3.531]\n",
            " [282.    282.     -0.     61.628 256.668 -19.78  -23.305   6.789]\n",
            " [312.    312.     -0.    215.979  86.769 -13.936  -8.053  31.24 ]\n",
            " [596.    596.     -0.    279.993 348.806 -35.221 -32.076  34.498]]\n"
          ]
        }
      ]
    },
    {
      "cell_type": "code",
      "source": [
        "PGD1015_ff = pd.DataFrame(PGD1015_f.round(3),columns = ['15-10산출액(A)', '요인별합계(B)', 'B-A', '국내최종수요증감액', '수출', '최종재수입','중간재수입', '기술변화'],\n",
        "\n",
        "                         index=['농산품', '공산품', '서비스', '계'])  # pandas로 내보내기"
      ],
      "metadata": {
        "id": "E-sAxgPT2IZt"
      },
      "execution_count": 362,
      "outputs": []
    },
    {
      "cell_type": "code",
      "source": [
        "PGD1015_ff"
      ],
      "metadata": {
        "id": "yRhJiFiH2KQE",
        "outputId": "6510fc5f-bbeb-4c5b-e711-97e4ed39d823",
        "colab": {
          "base_uri": "https://localhost:8080/",
          "height": 175
        }
      },
      "execution_count": 363,
      "outputs": [
        {
          "output_type": "execute_result",
          "data": {
            "text/plain": [
              "     15-10산출액(A)  요인별합계(B)  B-A  국내최종수요증감액       수출   최종재수입   중간재수입    기술변화\n",
              "농산품          2.0       2.0 -0.0      2.385    5.368  -1.505  -0.717  -3.531\n",
              "공산품        282.0     282.0 -0.0     61.628  256.668 -19.780 -23.305   6.789\n",
              "서비스        312.0     312.0 -0.0    215.979   86.769 -13.936  -8.053  31.240\n",
              "계          596.0     596.0 -0.0    279.993  348.806 -35.221 -32.076  34.498"
            ],
            "text/html": [
              "\n",
              "  <div id=\"df-ccd567d1-9321-4af9-9a3a-2db80db1cefc\" class=\"colab-df-container\">\n",
              "    <div>\n",
              "<style scoped>\n",
              "    .dataframe tbody tr th:only-of-type {\n",
              "        vertical-align: middle;\n",
              "    }\n",
              "\n",
              "    .dataframe tbody tr th {\n",
              "        vertical-align: top;\n",
              "    }\n",
              "\n",
              "    .dataframe thead th {\n",
              "        text-align: right;\n",
              "    }\n",
              "</style>\n",
              "<table border=\"1\" class=\"dataframe\">\n",
              "  <thead>\n",
              "    <tr style=\"text-align: right;\">\n",
              "      <th></th>\n",
              "      <th>15-10산출액(A)</th>\n",
              "      <th>요인별합계(B)</th>\n",
              "      <th>B-A</th>\n",
              "      <th>국내최종수요증감액</th>\n",
              "      <th>수출</th>\n",
              "      <th>최종재수입</th>\n",
              "      <th>중간재수입</th>\n",
              "      <th>기술변화</th>\n",
              "    </tr>\n",
              "  </thead>\n",
              "  <tbody>\n",
              "    <tr>\n",
              "      <th>농산품</th>\n",
              "      <td>2.0</td>\n",
              "      <td>2.0</td>\n",
              "      <td>-0.0</td>\n",
              "      <td>2.385</td>\n",
              "      <td>5.368</td>\n",
              "      <td>-1.505</td>\n",
              "      <td>-0.717</td>\n",
              "      <td>-3.531</td>\n",
              "    </tr>\n",
              "    <tr>\n",
              "      <th>공산품</th>\n",
              "      <td>282.0</td>\n",
              "      <td>282.0</td>\n",
              "      <td>-0.0</td>\n",
              "      <td>61.628</td>\n",
              "      <td>256.668</td>\n",
              "      <td>-19.780</td>\n",
              "      <td>-23.305</td>\n",
              "      <td>6.789</td>\n",
              "    </tr>\n",
              "    <tr>\n",
              "      <th>서비스</th>\n",
              "      <td>312.0</td>\n",
              "      <td>312.0</td>\n",
              "      <td>-0.0</td>\n",
              "      <td>215.979</td>\n",
              "      <td>86.769</td>\n",
              "      <td>-13.936</td>\n",
              "      <td>-8.053</td>\n",
              "      <td>31.240</td>\n",
              "    </tr>\n",
              "    <tr>\n",
              "      <th>계</th>\n",
              "      <td>596.0</td>\n",
              "      <td>596.0</td>\n",
              "      <td>-0.0</td>\n",
              "      <td>279.993</td>\n",
              "      <td>348.806</td>\n",
              "      <td>-35.221</td>\n",
              "      <td>-32.076</td>\n",
              "      <td>34.498</td>\n",
              "    </tr>\n",
              "  </tbody>\n",
              "</table>\n",
              "</div>\n",
              "    <div class=\"colab-df-buttons\">\n",
              "\n",
              "  <div class=\"colab-df-container\">\n",
              "    <button class=\"colab-df-convert\" onclick=\"convertToInteractive('df-ccd567d1-9321-4af9-9a3a-2db80db1cefc')\"\n",
              "            title=\"Convert this dataframe to an interactive table.\"\n",
              "            style=\"display:none;\">\n",
              "\n",
              "  <svg xmlns=\"http://www.w3.org/2000/svg\" height=\"24px\" viewBox=\"0 -960 960 960\">\n",
              "    <path d=\"M120-120v-720h720v720H120Zm60-500h600v-160H180v160Zm220 220h160v-160H400v160Zm0 220h160v-160H400v160ZM180-400h160v-160H180v160Zm440 0h160v-160H620v160ZM180-180h160v-160H180v160Zm440 0h160v-160H620v160Z\"/>\n",
              "  </svg>\n",
              "    </button>\n",
              "\n",
              "  <style>\n",
              "    .colab-df-container {\n",
              "      display:flex;\n",
              "      gap: 12px;\n",
              "    }\n",
              "\n",
              "    .colab-df-convert {\n",
              "      background-color: #E8F0FE;\n",
              "      border: none;\n",
              "      border-radius: 50%;\n",
              "      cursor: pointer;\n",
              "      display: none;\n",
              "      fill: #1967D2;\n",
              "      height: 32px;\n",
              "      padding: 0 0 0 0;\n",
              "      width: 32px;\n",
              "    }\n",
              "\n",
              "    .colab-df-convert:hover {\n",
              "      background-color: #E2EBFA;\n",
              "      box-shadow: 0px 1px 2px rgba(60, 64, 67, 0.3), 0px 1px 3px 1px rgba(60, 64, 67, 0.15);\n",
              "      fill: #174EA6;\n",
              "    }\n",
              "\n",
              "    .colab-df-buttons div {\n",
              "      margin-bottom: 4px;\n",
              "    }\n",
              "\n",
              "    [theme=dark] .colab-df-convert {\n",
              "      background-color: #3B4455;\n",
              "      fill: #D2E3FC;\n",
              "    }\n",
              "\n",
              "    [theme=dark] .colab-df-convert:hover {\n",
              "      background-color: #434B5C;\n",
              "      box-shadow: 0px 1px 3px 1px rgba(0, 0, 0, 0.15);\n",
              "      filter: drop-shadow(0px 1px 2px rgba(0, 0, 0, 0.3));\n",
              "      fill: #FFFFFF;\n",
              "    }\n",
              "  </style>\n",
              "\n",
              "    <script>\n",
              "      const buttonEl =\n",
              "        document.querySelector('#df-ccd567d1-9321-4af9-9a3a-2db80db1cefc button.colab-df-convert');\n",
              "      buttonEl.style.display =\n",
              "        google.colab.kernel.accessAllowed ? 'block' : 'none';\n",
              "\n",
              "      async function convertToInteractive(key) {\n",
              "        const element = document.querySelector('#df-ccd567d1-9321-4af9-9a3a-2db80db1cefc');\n",
              "        const dataTable =\n",
              "          await google.colab.kernel.invokeFunction('convertToInteractive',\n",
              "                                                    [key], {});\n",
              "        if (!dataTable) return;\n",
              "\n",
              "        const docLinkHtml = 'Like what you see? Visit the ' +\n",
              "          '<a target=\"_blank\" href=https://colab.research.google.com/notebooks/data_table.ipynb>data table notebook</a>'\n",
              "          + ' to learn more about interactive tables.';\n",
              "        element.innerHTML = '';\n",
              "        dataTable['output_type'] = 'display_data';\n",
              "        await google.colab.output.renderOutput(dataTable, element);\n",
              "        const docLink = document.createElement('div');\n",
              "        docLink.innerHTML = docLinkHtml;\n",
              "        element.appendChild(docLink);\n",
              "      }\n",
              "    </script>\n",
              "  </div>\n",
              "\n",
              "\n",
              "<div id=\"df-a91a4047-970c-4ac0-846b-b996f64b089e\">\n",
              "  <button class=\"colab-df-quickchart\" onclick=\"quickchart('df-a91a4047-970c-4ac0-846b-b996f64b089e')\"\n",
              "            title=\"Suggest charts\"\n",
              "            style=\"display:none;\">\n",
              "\n",
              "<svg xmlns=\"http://www.w3.org/2000/svg\" height=\"24px\"viewBox=\"0 0 24 24\"\n",
              "     width=\"24px\">\n",
              "    <g>\n",
              "        <path d=\"M19 3H5c-1.1 0-2 .9-2 2v14c0 1.1.9 2 2 2h14c1.1 0 2-.9 2-2V5c0-1.1-.9-2-2-2zM9 17H7v-7h2v7zm4 0h-2V7h2v10zm4 0h-2v-4h2v4z\"/>\n",
              "    </g>\n",
              "</svg>\n",
              "  </button>\n",
              "\n",
              "<style>\n",
              "  .colab-df-quickchart {\n",
              "      --bg-color: #E8F0FE;\n",
              "      --fill-color: #1967D2;\n",
              "      --hover-bg-color: #E2EBFA;\n",
              "      --hover-fill-color: #174EA6;\n",
              "      --disabled-fill-color: #AAA;\n",
              "      --disabled-bg-color: #DDD;\n",
              "  }\n",
              "\n",
              "  [theme=dark] .colab-df-quickchart {\n",
              "      --bg-color: #3B4455;\n",
              "      --fill-color: #D2E3FC;\n",
              "      --hover-bg-color: #434B5C;\n",
              "      --hover-fill-color: #FFFFFF;\n",
              "      --disabled-bg-color: #3B4455;\n",
              "      --disabled-fill-color: #666;\n",
              "  }\n",
              "\n",
              "  .colab-df-quickchart {\n",
              "    background-color: var(--bg-color);\n",
              "    border: none;\n",
              "    border-radius: 50%;\n",
              "    cursor: pointer;\n",
              "    display: none;\n",
              "    fill: var(--fill-color);\n",
              "    height: 32px;\n",
              "    padding: 0;\n",
              "    width: 32px;\n",
              "  }\n",
              "\n",
              "  .colab-df-quickchart:hover {\n",
              "    background-color: var(--hover-bg-color);\n",
              "    box-shadow: 0 1px 2px rgba(60, 64, 67, 0.3), 0 1px 3px 1px rgba(60, 64, 67, 0.15);\n",
              "    fill: var(--button-hover-fill-color);\n",
              "  }\n",
              "\n",
              "  .colab-df-quickchart-complete:disabled,\n",
              "  .colab-df-quickchart-complete:disabled:hover {\n",
              "    background-color: var(--disabled-bg-color);\n",
              "    fill: var(--disabled-fill-color);\n",
              "    box-shadow: none;\n",
              "  }\n",
              "\n",
              "  .colab-df-spinner {\n",
              "    border: 2px solid var(--fill-color);\n",
              "    border-color: transparent;\n",
              "    border-bottom-color: var(--fill-color);\n",
              "    animation:\n",
              "      spin 1s steps(1) infinite;\n",
              "  }\n",
              "\n",
              "  @keyframes spin {\n",
              "    0% {\n",
              "      border-color: transparent;\n",
              "      border-bottom-color: var(--fill-color);\n",
              "      border-left-color: var(--fill-color);\n",
              "    }\n",
              "    20% {\n",
              "      border-color: transparent;\n",
              "      border-left-color: var(--fill-color);\n",
              "      border-top-color: var(--fill-color);\n",
              "    }\n",
              "    30% {\n",
              "      border-color: transparent;\n",
              "      border-left-color: var(--fill-color);\n",
              "      border-top-color: var(--fill-color);\n",
              "      border-right-color: var(--fill-color);\n",
              "    }\n",
              "    40% {\n",
              "      border-color: transparent;\n",
              "      border-right-color: var(--fill-color);\n",
              "      border-top-color: var(--fill-color);\n",
              "    }\n",
              "    60% {\n",
              "      border-color: transparent;\n",
              "      border-right-color: var(--fill-color);\n",
              "    }\n",
              "    80% {\n",
              "      border-color: transparent;\n",
              "      border-right-color: var(--fill-color);\n",
              "      border-bottom-color: var(--fill-color);\n",
              "    }\n",
              "    90% {\n",
              "      border-color: transparent;\n",
              "      border-bottom-color: var(--fill-color);\n",
              "    }\n",
              "  }\n",
              "</style>\n",
              "\n",
              "  <script>\n",
              "    async function quickchart(key) {\n",
              "      const quickchartButtonEl =\n",
              "        document.querySelector('#' + key + ' button');\n",
              "      quickchartButtonEl.disabled = true;  // To prevent multiple clicks.\n",
              "      quickchartButtonEl.classList.add('colab-df-spinner');\n",
              "      try {\n",
              "        const charts = await google.colab.kernel.invokeFunction(\n",
              "            'suggestCharts', [key], {});\n",
              "      } catch (error) {\n",
              "        console.error('Error during call to suggestCharts:', error);\n",
              "      }\n",
              "      quickchartButtonEl.classList.remove('colab-df-spinner');\n",
              "      quickchartButtonEl.classList.add('colab-df-quickchart-complete');\n",
              "    }\n",
              "    (() => {\n",
              "      let quickchartButtonEl =\n",
              "        document.querySelector('#df-a91a4047-970c-4ac0-846b-b996f64b089e button');\n",
              "      quickchartButtonEl.style.display =\n",
              "        google.colab.kernel.accessAllowed ? 'block' : 'none';\n",
              "    })();\n",
              "  </script>\n",
              "</div>\n",
              "\n",
              "  <div id=\"id_8c536320-a5fb-4935-888d-13ce7863ff99\">\n",
              "    <style>\n",
              "      .colab-df-generate {\n",
              "        background-color: #E8F0FE;\n",
              "        border: none;\n",
              "        border-radius: 50%;\n",
              "        cursor: pointer;\n",
              "        display: none;\n",
              "        fill: #1967D2;\n",
              "        height: 32px;\n",
              "        padding: 0 0 0 0;\n",
              "        width: 32px;\n",
              "      }\n",
              "\n",
              "      .colab-df-generate:hover {\n",
              "        background-color: #E2EBFA;\n",
              "        box-shadow: 0px 1px 2px rgba(60, 64, 67, 0.3), 0px 1px 3px 1px rgba(60, 64, 67, 0.15);\n",
              "        fill: #174EA6;\n",
              "      }\n",
              "\n",
              "      [theme=dark] .colab-df-generate {\n",
              "        background-color: #3B4455;\n",
              "        fill: #D2E3FC;\n",
              "      }\n",
              "\n",
              "      [theme=dark] .colab-df-generate:hover {\n",
              "        background-color: #434B5C;\n",
              "        box-shadow: 0px 1px 3px 1px rgba(0, 0, 0, 0.15);\n",
              "        filter: drop-shadow(0px 1px 2px rgba(0, 0, 0, 0.3));\n",
              "        fill: #FFFFFF;\n",
              "      }\n",
              "    </style>\n",
              "    <button class=\"colab-df-generate\" onclick=\"generateWithVariable('PGD1015_ff')\"\n",
              "            title=\"Generate code using this dataframe.\"\n",
              "            style=\"display:none;\">\n",
              "\n",
              "  <svg xmlns=\"http://www.w3.org/2000/svg\" height=\"24px\"viewBox=\"0 0 24 24\"\n",
              "       width=\"24px\">\n",
              "    <path d=\"M7,19H8.4L18.45,9,17,7.55,7,17.6ZM5,21V16.75L18.45,3.32a2,2,0,0,1,2.83,0l1.4,1.43a1.91,1.91,0,0,1,.58,1.4,1.91,1.91,0,0,1-.58,1.4L9.25,21ZM18.45,9,17,7.55Zm-12,3A5.31,5.31,0,0,0,4.9,8.1,5.31,5.31,0,0,0,1,6.5,5.31,5.31,0,0,0,4.9,4.9,5.31,5.31,0,0,0,6.5,1,5.31,5.31,0,0,0,8.1,4.9,5.31,5.31,0,0,0,12,6.5,5.46,5.46,0,0,0,6.5,12Z\"/>\n",
              "  </svg>\n",
              "    </button>\n",
              "    <script>\n",
              "      (() => {\n",
              "      const buttonEl =\n",
              "        document.querySelector('#id_8c536320-a5fb-4935-888d-13ce7863ff99 button.colab-df-generate');\n",
              "      buttonEl.style.display =\n",
              "        google.colab.kernel.accessAllowed ? 'block' : 'none';\n",
              "\n",
              "      buttonEl.onclick = () => {\n",
              "        google.colab.notebook.generateWithVariable('PGD1015_ff');\n",
              "      }\n",
              "      })();\n",
              "    </script>\n",
              "  </div>\n",
              "\n",
              "    </div>\n",
              "  </div>\n"
            ],
            "application/vnd.google.colaboratory.intrinsic+json": {
              "type": "dataframe",
              "variable_name": "PGD1015_ff",
              "summary": "{\n  \"name\": \"PGD1015_ff\",\n  \"rows\": 4,\n  \"fields\": [\n    {\n      \"column\": \"15-10\\uc0b0\\ucd9c\\uc561(A)\",\n      \"properties\": {\n        \"dtype\": \"number\",\n        \"std\": 242.81131220215696,\n        \"min\": 2.0,\n        \"max\": 596.0,\n        \"num_unique_values\": 4,\n        \"samples\": [\n          282.0,\n          596.0,\n          2.0\n        ],\n        \"semantic_type\": \"\",\n        \"description\": \"\"\n      }\n    },\n    {\n      \"column\": \"\\uc694\\uc778\\ubcc4\\ud569\\uacc4(B)\",\n      \"properties\": {\n        \"dtype\": \"number\",\n        \"std\": 242.81131220215696,\n        \"min\": 2.0,\n        \"max\": 596.0,\n        \"num_unique_values\": 4,\n        \"samples\": [\n          282.0,\n          596.0,\n          2.0\n        ],\n        \"semantic_type\": \"\",\n        \"description\": \"\"\n      }\n    },\n    {\n      \"column\": \"B-A\",\n      \"properties\": {\n        \"dtype\": \"number\",\n        \"std\": 0.0,\n        \"min\": -0.0,\n        \"max\": -0.0,\n        \"num_unique_values\": 1,\n        \"samples\": [\n          -0.0\n        ],\n        \"semantic_type\": \"\",\n        \"description\": \"\"\n      }\n    },\n    {\n      \"column\": \"\\uad6d\\ub0b4\\ucd5c\\uc885\\uc218\\uc694\\uc99d\\uac10\\uc561\",\n      \"properties\": {\n        \"dtype\": \"number\",\n        \"std\": 129.6802568406232,\n        \"min\": 2.385,\n        \"max\": 279.993,\n        \"num_unique_values\": 4,\n        \"samples\": [\n          61.628\n        ],\n        \"semantic_type\": \"\",\n        \"description\": \"\"\n      }\n    },\n    {\n      \"column\": \"\\uc218\\ucd9c\",\n      \"properties\": {\n        \"dtype\": \"number\",\n        \"std\": 156.45711426750995,\n        \"min\": 5.368,\n        \"max\": 348.806,\n        \"num_unique_values\": 4,\n        \"samples\": [\n          256.668\n        ],\n        \"semantic_type\": \"\",\n        \"description\": \"\"\n      }\n    },\n    {\n      \"column\": \"\\ucd5c\\uc885\\uc7ac\\uc218\\uc785\",\n      \"properties\": {\n        \"dtype\": \"number\",\n        \"std\": 13.996732011437526,\n        \"min\": -35.221,\n        \"max\": -1.505,\n        \"num_unique_values\": 4,\n        \"samples\": [\n          -19.78\n        ],\n        \"semantic_type\": \"\",\n        \"description\": \"\"\n      }\n    },\n    {\n      \"column\": \"\\uc911\\uac04\\uc7ac\\uc218\\uc785\",\n      \"properties\": {\n        \"dtype\": \"number\",\n        \"std\": 14.242190828076042,\n        \"min\": -32.076,\n        \"max\": -0.717,\n        \"num_unique_values\": 4,\n        \"samples\": [\n          -23.305\n        ],\n        \"semantic_type\": \"\",\n        \"description\": \"\"\n      }\n    },\n    {\n      \"column\": \"\\uae30\\uc220\\ubcc0\\ud654\",\n      \"properties\": {\n        \"dtype\": \"number\",\n        \"std\": 18.569653398309118,\n        \"min\": -3.531,\n        \"max\": 34.498,\n        \"num_unique_values\": 4,\n        \"samples\": [\n          6.789\n        ],\n        \"semantic_type\": \"\",\n        \"description\": \"\"\n      }\n    }\n  ]\n}"
            }
          },
          "metadata": {},
          "execution_count": 363
        }
      ]
    },
    {
      "cell_type": "markdown",
      "source": [
        "- 라스파이레스식"
      ],
      "metadata": {
        "id": "EtdkK77N2Nu8"
      }
    },
    {
      "cell_type": "code",
      "source": [
        "TQS=(RD0@(np.eye(3)-M0))@(DF1-DF0).reshape([3,1])\n",
        "TQS"
      ],
      "metadata": {
        "id": "1-aKK3Tt2Lqs",
        "outputId": "633a8ce8-db35-47cc-ed2c-534601155c6f",
        "colab": {
          "base_uri": "https://localhost:8080/"
        }
      },
      "execution_count": 364,
      "outputs": [
        {
          "output_type": "execute_result",
          "data": {
            "text/plain": [
              "array([[  2.5574703 ],\n",
              "       [ 63.27713436],\n",
              "       [214.29752996]])"
            ]
          },
          "metadata": {},
          "execution_count": 364
        }
      ]
    },
    {
      "cell_type": "code",
      "source": [
        "TTE= RD0@(EX1-EX0).reshape([3,1]) # 수출효과\n",
        "TTE"
      ],
      "metadata": {
        "id": "yYeAoshR2WHN",
        "outputId": "c7e4ed95-acc7-47fb-c489-71bb038b0055",
        "colab": {
          "base_uri": "https://localhost:8080/"
        }
      },
      "execution_count": 365,
      "outputs": [
        {
          "output_type": "execute_result",
          "data": {
            "text/plain": [
              "array([[  6.12654761],\n",
              "       [260.10573822],\n",
              "       [ 86.70357226]])"
            ]
          },
          "metadata": {},
          "execution_count": 365
        }
      ]
    },
    {
      "cell_type": "code",
      "source": [
        "T3 = ((RD0@(M1 - M0))@DF1).reshape([3,1]) # 최종재수입대체효과\n",
        "T3 = T3*-1\n",
        "T4 = ((RD0@(II1 - AM0)))@C1[0:3,] # 중간재수입대체효과\n",
        "T4 = T4*-1\n",
        "T34 = T3 + T4\n",
        "TI = np.concatenate((T34, T3, T4), axis=1)\n",
        "T34"
      ],
      "metadata": {
        "id": "W_fWyoMn2XrP",
        "outputId": "dc63db0d-314e-44bd-df24-fadd1e1f34d7",
        "colab": {
          "base_uri": "https://localhost:8080/"
        }
      },
      "execution_count": 366,
      "outputs": [
        {
          "output_type": "execute_result",
          "data": {
            "text/plain": [
              "array([[ -2.51646901],\n",
              "       [-49.48964707],\n",
              "       [-25.04596103]])"
            ]
          },
          "metadata": {},
          "execution_count": 366
        }
      ]
    },
    {
      "cell_type": "code",
      "source": [
        "T5 = (RD0@(AA-(AM0-II0)))@C1 # 기술변화효과\n",
        "T5"
      ],
      "metadata": {
        "id": "6bejwSBw2fJJ",
        "outputId": "94b0a73a-aa55-45ea-f1b4-783d7a74338d",
        "colab": {
          "base_uri": "https://localhost:8080/"
        }
      },
      "execution_count": 367,
      "outputs": [
        {
          "output_type": "execute_result",
          "data": {
            "text/plain": [
              "array([[-4.16754891],\n",
              "       [ 8.10677449],\n",
              "       [36.04485881]])"
            ]
          },
          "metadata": {},
          "execution_count": 367
        }
      ]
    },
    {
      "cell_type": "code",
      "source": [
        "SUM = np.concatenate((DCT0, DCT1, DCT, TQS, TTE, T3, T4, T5), axis=1)\n",
        "SUM.shape\n",
        "SUM1 = np.sum(SUM, axis=0).reshape([1,8])\n",
        "LGD1015_f = (np.concatenate((SUM, SUM1), axis=0))\n",
        "print(LGD1015_f.round(3))"
      ],
      "metadata": {
        "id": "1SaQaVGX2gxM",
        "outputId": "1cba8e1e-4cba-4bda-8796-21a0e81e9dc0",
        "colab": {
          "base_uri": "https://localhost:8080/"
        }
      },
      "execution_count": 368,
      "outputs": [
        {
          "output_type": "stream",
          "name": "stdout",
          "text": [
            "[[  2.      2.     -0.      2.557   6.127  -1.619  -0.898  -4.168]\n",
            " [282.    282.     -0.     63.277 260.106 -21.282 -28.208   8.107]\n",
            " [312.    312.     -0.    214.298  86.704 -15.458  -9.588  36.045]\n",
            " [596.    596.     -0.    280.132 352.936 -38.358 -38.694  39.984]]\n"
          ]
        }
      ]
    },
    {
      "cell_type": "code",
      "source": [
        "LGD1015_ff = pd.DataFrame((LGD1015_f).round(3),columns = ['15-10산출액(A)', '요인별합계(B)', 'B-A', '국내최종수요증감액', '수출', '최종재수입','중간재수입', '기술변화'],\n",
        "\n",
        "                         index=['농산품', '공산품', '서비스', '계'])  # pandas로 내보내기"
      ],
      "metadata": {
        "id": "3O0VsE4L2kPh"
      },
      "execution_count": 369,
      "outputs": []
    },
    {
      "cell_type": "code",
      "source": [
        "LGD1015_ff"
      ],
      "metadata": {
        "id": "558Nvhgv2mSN",
        "outputId": "5a0d7ffb-4b78-471d-eb59-11c42b754ee9",
        "colab": {
          "base_uri": "https://localhost:8080/",
          "height": 175
        }
      },
      "execution_count": 370,
      "outputs": [
        {
          "output_type": "execute_result",
          "data": {
            "text/plain": [
              "     15-10산출액(A)  요인별합계(B)  B-A  국내최종수요증감액       수출   최종재수입   중간재수입    기술변화\n",
              "농산품          2.0       2.0 -0.0      2.557    6.127  -1.619  -0.898  -4.168\n",
              "공산품        282.0     282.0 -0.0     63.277  260.106 -21.282 -28.208   8.107\n",
              "서비스        312.0     312.0 -0.0    214.298   86.704 -15.458  -9.588  36.045\n",
              "계          596.0     596.0 -0.0    280.132  352.936 -38.358 -38.694  39.984"
            ],
            "text/html": [
              "\n",
              "  <div id=\"df-6b407893-3d36-4b22-b997-4aaf64875e0b\" class=\"colab-df-container\">\n",
              "    <div>\n",
              "<style scoped>\n",
              "    .dataframe tbody tr th:only-of-type {\n",
              "        vertical-align: middle;\n",
              "    }\n",
              "\n",
              "    .dataframe tbody tr th {\n",
              "        vertical-align: top;\n",
              "    }\n",
              "\n",
              "    .dataframe thead th {\n",
              "        text-align: right;\n",
              "    }\n",
              "</style>\n",
              "<table border=\"1\" class=\"dataframe\">\n",
              "  <thead>\n",
              "    <tr style=\"text-align: right;\">\n",
              "      <th></th>\n",
              "      <th>15-10산출액(A)</th>\n",
              "      <th>요인별합계(B)</th>\n",
              "      <th>B-A</th>\n",
              "      <th>국내최종수요증감액</th>\n",
              "      <th>수출</th>\n",
              "      <th>최종재수입</th>\n",
              "      <th>중간재수입</th>\n",
              "      <th>기술변화</th>\n",
              "    </tr>\n",
              "  </thead>\n",
              "  <tbody>\n",
              "    <tr>\n",
              "      <th>농산품</th>\n",
              "      <td>2.0</td>\n",
              "      <td>2.0</td>\n",
              "      <td>-0.0</td>\n",
              "      <td>2.557</td>\n",
              "      <td>6.127</td>\n",
              "      <td>-1.619</td>\n",
              "      <td>-0.898</td>\n",
              "      <td>-4.168</td>\n",
              "    </tr>\n",
              "    <tr>\n",
              "      <th>공산품</th>\n",
              "      <td>282.0</td>\n",
              "      <td>282.0</td>\n",
              "      <td>-0.0</td>\n",
              "      <td>63.277</td>\n",
              "      <td>260.106</td>\n",
              "      <td>-21.282</td>\n",
              "      <td>-28.208</td>\n",
              "      <td>8.107</td>\n",
              "    </tr>\n",
              "    <tr>\n",
              "      <th>서비스</th>\n",
              "      <td>312.0</td>\n",
              "      <td>312.0</td>\n",
              "      <td>-0.0</td>\n",
              "      <td>214.298</td>\n",
              "      <td>86.704</td>\n",
              "      <td>-15.458</td>\n",
              "      <td>-9.588</td>\n",
              "      <td>36.045</td>\n",
              "    </tr>\n",
              "    <tr>\n",
              "      <th>계</th>\n",
              "      <td>596.0</td>\n",
              "      <td>596.0</td>\n",
              "      <td>-0.0</td>\n",
              "      <td>280.132</td>\n",
              "      <td>352.936</td>\n",
              "      <td>-38.358</td>\n",
              "      <td>-38.694</td>\n",
              "      <td>39.984</td>\n",
              "    </tr>\n",
              "  </tbody>\n",
              "</table>\n",
              "</div>\n",
              "    <div class=\"colab-df-buttons\">\n",
              "\n",
              "  <div class=\"colab-df-container\">\n",
              "    <button class=\"colab-df-convert\" onclick=\"convertToInteractive('df-6b407893-3d36-4b22-b997-4aaf64875e0b')\"\n",
              "            title=\"Convert this dataframe to an interactive table.\"\n",
              "            style=\"display:none;\">\n",
              "\n",
              "  <svg xmlns=\"http://www.w3.org/2000/svg\" height=\"24px\" viewBox=\"0 -960 960 960\">\n",
              "    <path d=\"M120-120v-720h720v720H120Zm60-500h600v-160H180v160Zm220 220h160v-160H400v160Zm0 220h160v-160H400v160ZM180-400h160v-160H180v160Zm440 0h160v-160H620v160ZM180-180h160v-160H180v160Zm440 0h160v-160H620v160Z\"/>\n",
              "  </svg>\n",
              "    </button>\n",
              "\n",
              "  <style>\n",
              "    .colab-df-container {\n",
              "      display:flex;\n",
              "      gap: 12px;\n",
              "    }\n",
              "\n",
              "    .colab-df-convert {\n",
              "      background-color: #E8F0FE;\n",
              "      border: none;\n",
              "      border-radius: 50%;\n",
              "      cursor: pointer;\n",
              "      display: none;\n",
              "      fill: #1967D2;\n",
              "      height: 32px;\n",
              "      padding: 0 0 0 0;\n",
              "      width: 32px;\n",
              "    }\n",
              "\n",
              "    .colab-df-convert:hover {\n",
              "      background-color: #E2EBFA;\n",
              "      box-shadow: 0px 1px 2px rgba(60, 64, 67, 0.3), 0px 1px 3px 1px rgba(60, 64, 67, 0.15);\n",
              "      fill: #174EA6;\n",
              "    }\n",
              "\n",
              "    .colab-df-buttons div {\n",
              "      margin-bottom: 4px;\n",
              "    }\n",
              "\n",
              "    [theme=dark] .colab-df-convert {\n",
              "      background-color: #3B4455;\n",
              "      fill: #D2E3FC;\n",
              "    }\n",
              "\n",
              "    [theme=dark] .colab-df-convert:hover {\n",
              "      background-color: #434B5C;\n",
              "      box-shadow: 0px 1px 3px 1px rgba(0, 0, 0, 0.15);\n",
              "      filter: drop-shadow(0px 1px 2px rgba(0, 0, 0, 0.3));\n",
              "      fill: #FFFFFF;\n",
              "    }\n",
              "  </style>\n",
              "\n",
              "    <script>\n",
              "      const buttonEl =\n",
              "        document.querySelector('#df-6b407893-3d36-4b22-b997-4aaf64875e0b button.colab-df-convert');\n",
              "      buttonEl.style.display =\n",
              "        google.colab.kernel.accessAllowed ? 'block' : 'none';\n",
              "\n",
              "      async function convertToInteractive(key) {\n",
              "        const element = document.querySelector('#df-6b407893-3d36-4b22-b997-4aaf64875e0b');\n",
              "        const dataTable =\n",
              "          await google.colab.kernel.invokeFunction('convertToInteractive',\n",
              "                                                    [key], {});\n",
              "        if (!dataTable) return;\n",
              "\n",
              "        const docLinkHtml = 'Like what you see? Visit the ' +\n",
              "          '<a target=\"_blank\" href=https://colab.research.google.com/notebooks/data_table.ipynb>data table notebook</a>'\n",
              "          + ' to learn more about interactive tables.';\n",
              "        element.innerHTML = '';\n",
              "        dataTable['output_type'] = 'display_data';\n",
              "        await google.colab.output.renderOutput(dataTable, element);\n",
              "        const docLink = document.createElement('div');\n",
              "        docLink.innerHTML = docLinkHtml;\n",
              "        element.appendChild(docLink);\n",
              "      }\n",
              "    </script>\n",
              "  </div>\n",
              "\n",
              "\n",
              "<div id=\"df-8f339b3b-0095-43db-b61f-9443e272ca83\">\n",
              "  <button class=\"colab-df-quickchart\" onclick=\"quickchart('df-8f339b3b-0095-43db-b61f-9443e272ca83')\"\n",
              "            title=\"Suggest charts\"\n",
              "            style=\"display:none;\">\n",
              "\n",
              "<svg xmlns=\"http://www.w3.org/2000/svg\" height=\"24px\"viewBox=\"0 0 24 24\"\n",
              "     width=\"24px\">\n",
              "    <g>\n",
              "        <path d=\"M19 3H5c-1.1 0-2 .9-2 2v14c0 1.1.9 2 2 2h14c1.1 0 2-.9 2-2V5c0-1.1-.9-2-2-2zM9 17H7v-7h2v7zm4 0h-2V7h2v10zm4 0h-2v-4h2v4z\"/>\n",
              "    </g>\n",
              "</svg>\n",
              "  </button>\n",
              "\n",
              "<style>\n",
              "  .colab-df-quickchart {\n",
              "      --bg-color: #E8F0FE;\n",
              "      --fill-color: #1967D2;\n",
              "      --hover-bg-color: #E2EBFA;\n",
              "      --hover-fill-color: #174EA6;\n",
              "      --disabled-fill-color: #AAA;\n",
              "      --disabled-bg-color: #DDD;\n",
              "  }\n",
              "\n",
              "  [theme=dark] .colab-df-quickchart {\n",
              "      --bg-color: #3B4455;\n",
              "      --fill-color: #D2E3FC;\n",
              "      --hover-bg-color: #434B5C;\n",
              "      --hover-fill-color: #FFFFFF;\n",
              "      --disabled-bg-color: #3B4455;\n",
              "      --disabled-fill-color: #666;\n",
              "  }\n",
              "\n",
              "  .colab-df-quickchart {\n",
              "    background-color: var(--bg-color);\n",
              "    border: none;\n",
              "    border-radius: 50%;\n",
              "    cursor: pointer;\n",
              "    display: none;\n",
              "    fill: var(--fill-color);\n",
              "    height: 32px;\n",
              "    padding: 0;\n",
              "    width: 32px;\n",
              "  }\n",
              "\n",
              "  .colab-df-quickchart:hover {\n",
              "    background-color: var(--hover-bg-color);\n",
              "    box-shadow: 0 1px 2px rgba(60, 64, 67, 0.3), 0 1px 3px 1px rgba(60, 64, 67, 0.15);\n",
              "    fill: var(--button-hover-fill-color);\n",
              "  }\n",
              "\n",
              "  .colab-df-quickchart-complete:disabled,\n",
              "  .colab-df-quickchart-complete:disabled:hover {\n",
              "    background-color: var(--disabled-bg-color);\n",
              "    fill: var(--disabled-fill-color);\n",
              "    box-shadow: none;\n",
              "  }\n",
              "\n",
              "  .colab-df-spinner {\n",
              "    border: 2px solid var(--fill-color);\n",
              "    border-color: transparent;\n",
              "    border-bottom-color: var(--fill-color);\n",
              "    animation:\n",
              "      spin 1s steps(1) infinite;\n",
              "  }\n",
              "\n",
              "  @keyframes spin {\n",
              "    0% {\n",
              "      border-color: transparent;\n",
              "      border-bottom-color: var(--fill-color);\n",
              "      border-left-color: var(--fill-color);\n",
              "    }\n",
              "    20% {\n",
              "      border-color: transparent;\n",
              "      border-left-color: var(--fill-color);\n",
              "      border-top-color: var(--fill-color);\n",
              "    }\n",
              "    30% {\n",
              "      border-color: transparent;\n",
              "      border-left-color: var(--fill-color);\n",
              "      border-top-color: var(--fill-color);\n",
              "      border-right-color: var(--fill-color);\n",
              "    }\n",
              "    40% {\n",
              "      border-color: transparent;\n",
              "      border-right-color: var(--fill-color);\n",
              "      border-top-color: var(--fill-color);\n",
              "    }\n",
              "    60% {\n",
              "      border-color: transparent;\n",
              "      border-right-color: var(--fill-color);\n",
              "    }\n",
              "    80% {\n",
              "      border-color: transparent;\n",
              "      border-right-color: var(--fill-color);\n",
              "      border-bottom-color: var(--fill-color);\n",
              "    }\n",
              "    90% {\n",
              "      border-color: transparent;\n",
              "      border-bottom-color: var(--fill-color);\n",
              "    }\n",
              "  }\n",
              "</style>\n",
              "\n",
              "  <script>\n",
              "    async function quickchart(key) {\n",
              "      const quickchartButtonEl =\n",
              "        document.querySelector('#' + key + ' button');\n",
              "      quickchartButtonEl.disabled = true;  // To prevent multiple clicks.\n",
              "      quickchartButtonEl.classList.add('colab-df-spinner');\n",
              "      try {\n",
              "        const charts = await google.colab.kernel.invokeFunction(\n",
              "            'suggestCharts', [key], {});\n",
              "      } catch (error) {\n",
              "        console.error('Error during call to suggestCharts:', error);\n",
              "      }\n",
              "      quickchartButtonEl.classList.remove('colab-df-spinner');\n",
              "      quickchartButtonEl.classList.add('colab-df-quickchart-complete');\n",
              "    }\n",
              "    (() => {\n",
              "      let quickchartButtonEl =\n",
              "        document.querySelector('#df-8f339b3b-0095-43db-b61f-9443e272ca83 button');\n",
              "      quickchartButtonEl.style.display =\n",
              "        google.colab.kernel.accessAllowed ? 'block' : 'none';\n",
              "    })();\n",
              "  </script>\n",
              "</div>\n",
              "\n",
              "  <div id=\"id_6cfcc470-6665-44a9-bb7b-a95c689f3a86\">\n",
              "    <style>\n",
              "      .colab-df-generate {\n",
              "        background-color: #E8F0FE;\n",
              "        border: none;\n",
              "        border-radius: 50%;\n",
              "        cursor: pointer;\n",
              "        display: none;\n",
              "        fill: #1967D2;\n",
              "        height: 32px;\n",
              "        padding: 0 0 0 0;\n",
              "        width: 32px;\n",
              "      }\n",
              "\n",
              "      .colab-df-generate:hover {\n",
              "        background-color: #E2EBFA;\n",
              "        box-shadow: 0px 1px 2px rgba(60, 64, 67, 0.3), 0px 1px 3px 1px rgba(60, 64, 67, 0.15);\n",
              "        fill: #174EA6;\n",
              "      }\n",
              "\n",
              "      [theme=dark] .colab-df-generate {\n",
              "        background-color: #3B4455;\n",
              "        fill: #D2E3FC;\n",
              "      }\n",
              "\n",
              "      [theme=dark] .colab-df-generate:hover {\n",
              "        background-color: #434B5C;\n",
              "        box-shadow: 0px 1px 3px 1px rgba(0, 0, 0, 0.15);\n",
              "        filter: drop-shadow(0px 1px 2px rgba(0, 0, 0, 0.3));\n",
              "        fill: #FFFFFF;\n",
              "      }\n",
              "    </style>\n",
              "    <button class=\"colab-df-generate\" onclick=\"generateWithVariable('LGD1015_ff')\"\n",
              "            title=\"Generate code using this dataframe.\"\n",
              "            style=\"display:none;\">\n",
              "\n",
              "  <svg xmlns=\"http://www.w3.org/2000/svg\" height=\"24px\"viewBox=\"0 0 24 24\"\n",
              "       width=\"24px\">\n",
              "    <path d=\"M7,19H8.4L18.45,9,17,7.55,7,17.6ZM5,21V16.75L18.45,3.32a2,2,0,0,1,2.83,0l1.4,1.43a1.91,1.91,0,0,1,.58,1.4,1.91,1.91,0,0,1-.58,1.4L9.25,21ZM18.45,9,17,7.55Zm-12,3A5.31,5.31,0,0,0,4.9,8.1,5.31,5.31,0,0,0,1,6.5,5.31,5.31,0,0,0,4.9,4.9,5.31,5.31,0,0,0,6.5,1,5.31,5.31,0,0,0,8.1,4.9,5.31,5.31,0,0,0,12,6.5,5.46,5.46,0,0,0,6.5,12Z\"/>\n",
              "  </svg>\n",
              "    </button>\n",
              "    <script>\n",
              "      (() => {\n",
              "      const buttonEl =\n",
              "        document.querySelector('#id_6cfcc470-6665-44a9-bb7b-a95c689f3a86 button.colab-df-generate');\n",
              "      buttonEl.style.display =\n",
              "        google.colab.kernel.accessAllowed ? 'block' : 'none';\n",
              "\n",
              "      buttonEl.onclick = () => {\n",
              "        google.colab.notebook.generateWithVariable('LGD1015_ff');\n",
              "      }\n",
              "      })();\n",
              "    </script>\n",
              "  </div>\n",
              "\n",
              "    </div>\n",
              "  </div>\n"
            ],
            "application/vnd.google.colaboratory.intrinsic+json": {
              "type": "dataframe",
              "variable_name": "LGD1015_ff",
              "summary": "{\n  \"name\": \"LGD1015_ff\",\n  \"rows\": 4,\n  \"fields\": [\n    {\n      \"column\": \"15-10\\uc0b0\\ucd9c\\uc561(A)\",\n      \"properties\": {\n        \"dtype\": \"number\",\n        \"std\": 242.81131220215696,\n        \"min\": 2.0,\n        \"max\": 596.0,\n        \"num_unique_values\": 4,\n        \"samples\": [\n          282.0,\n          596.0,\n          2.0\n        ],\n        \"semantic_type\": \"\",\n        \"description\": \"\"\n      }\n    },\n    {\n      \"column\": \"\\uc694\\uc778\\ubcc4\\ud569\\uacc4(B)\",\n      \"properties\": {\n        \"dtype\": \"number\",\n        \"std\": 242.81131220215696,\n        \"min\": 2.0,\n        \"max\": 596.0,\n        \"num_unique_values\": 4,\n        \"samples\": [\n          282.0,\n          596.0,\n          2.0\n        ],\n        \"semantic_type\": \"\",\n        \"description\": \"\"\n      }\n    },\n    {\n      \"column\": \"B-A\",\n      \"properties\": {\n        \"dtype\": \"number\",\n        \"std\": 0.0,\n        \"min\": -0.0,\n        \"max\": -0.0,\n        \"num_unique_values\": 1,\n        \"samples\": [\n          -0.0\n        ],\n        \"semantic_type\": \"\",\n        \"description\": \"\"\n      }\n    },\n    {\n      \"column\": \"\\uad6d\\ub0b4\\ucd5c\\uc885\\uc218\\uc694\\uc99d\\uac10\\uc561\",\n      \"properties\": {\n        \"dtype\": \"number\",\n        \"std\": 129.0144045988664,\n        \"min\": 2.557,\n        \"max\": 280.132,\n        \"num_unique_values\": 4,\n        \"samples\": [\n          63.277\n        ],\n        \"semantic_type\": \"\",\n        \"description\": \"\"\n      }\n    },\n    {\n      \"column\": \"\\uc218\\ucd9c\",\n      \"properties\": {\n        \"dtype\": \"number\",\n        \"std\": 158.33498459989818,\n        \"min\": 6.127,\n        \"max\": 352.936,\n        \"num_unique_values\": 4,\n        \"samples\": [\n          260.106\n        ],\n        \"semantic_type\": \"\",\n        \"description\": \"\"\n      }\n    },\n    {\n      \"column\": \"\\ucd5c\\uc885\\uc7ac\\uc218\\uc785\",\n      \"properties\": {\n        \"dtype\": \"number\",\n        \"std\": 15.21464306460501,\n        \"min\": -38.358,\n        \"max\": -1.619,\n        \"num_unique_values\": 4,\n        \"samples\": [\n          -21.282\n        ],\n        \"semantic_type\": \"\",\n        \"description\": \"\"\n      }\n    },\n    {\n      \"column\": \"\\uc911\\uac04\\uc7ac\\uc218\\uc785\",\n      \"properties\": {\n        \"dtype\": \"number\",\n        \"std\": 17.20879050563016,\n        \"min\": -38.694,\n        \"max\": -0.898,\n        \"num_unique_values\": 4,\n        \"samples\": [\n          -28.208\n        ],\n        \"semantic_type\": \"\",\n        \"description\": \"\"\n      }\n    },\n    {\n      \"column\": \"\\uae30\\uc220\\ubcc0\\ud654\",\n      \"properties\": {\n        \"dtype\": \"number\",\n        \"std\": 21.4657688580369,\n        \"min\": -4.168,\n        \"max\": 39.984,\n        \"num_unique_values\": 4,\n        \"samples\": [\n          8.107\n        ],\n        \"semantic_type\": \"\",\n        \"description\": \"\"\n      }\n    }\n  ]\n}"
            }
          },
          "metadata": {},
          "execution_count": 370
        }
      ]
    },
    {
      "cell_type": "code",
      "source": [
        "PGD1015_ff.to_csv('산출액변동요인_파쉐.csv', encoding=\"utf-8-sig\")\n",
        "LGD1015_ff.to_csv('산출액변동요인_라스파이레스.csv', encoding=\"utf-8-sig\")"
      ],
      "metadata": {
        "id": "QRRT-rJn2nul"
      },
      "execution_count": 371,
      "outputs": []
    },
    {
      "cell_type": "code",
      "source": [
        "Ctbr_Pa =  PGD1015_f[:,3:]\n",
        "Ctbr_La =  LGD1015_f[:,3:]\n",
        "Ctbr_La"
      ],
      "metadata": {
        "id": "5PIRWNMI2qhk",
        "outputId": "1995d7e7-4267-45df-f0b8-4c66cf03c15a",
        "colab": {
          "base_uri": "https://localhost:8080/"
        }
      },
      "execution_count": 372,
      "outputs": [
        {
          "output_type": "execute_result",
          "data": {
            "text/plain": [
              "array([[  2.5574703 ,   6.12654761,  -1.61889291,  -0.89757609,\n",
              "         -4.16754891],\n",
              "       [ 63.27713436, 260.10573822, -21.28180553, -28.20784154,\n",
              "          8.10677449],\n",
              "       [214.29752996,  86.70357226, -15.45777561,  -9.58818542,\n",
              "         36.04485881],\n",
              "       [280.13213463, 352.93585808, -38.35847405, -38.69360305,\n",
              "         39.98408439]])"
            ]
          },
          "metadata": {},
          "execution_count": 372
        }
      ]
    },
    {
      "cell_type": "code",
      "source": [
        "sm_gap_Pa = PGD1015_f[:,1].reshape([4,1])  # 요인별 합계\n",
        "sm_gap_La = LGD1015_f[:,1].reshape([4,1])  # 요인별 합계\n",
        "sm_gap_La"
      ],
      "metadata": {
        "id": "P6Cup2z32tjC",
        "outputId": "d0f4c877-53f8-4c1f-c288-87d4a4f47949",
        "colab": {
          "base_uri": "https://localhost:8080/"
        }
      },
      "execution_count": 373,
      "outputs": [
        {
          "output_type": "execute_result",
          "data": {
            "text/plain": [
              "array([[  2.],\n",
              "       [282.],\n",
              "       [312.],\n",
              "       [596.]])"
            ]
          },
          "metadata": {},
          "execution_count": 373
        }
      ]
    },
    {
      "cell_type": "code",
      "source": [
        "sm_gap1_Pa = np.tile(sm_gap_Pa, reps=[1,5]) # 요인별 합계를 4x5으로 반복\n",
        "sm_gap1_La = np.tile(sm_gap_La, reps=[1,5]) # 요인별 합계를 4x5으로 반복\n",
        "sm_gap1_La"
      ],
      "metadata": {
        "id": "YBuwrJM32vUa",
        "outputId": "17da5b3b-086c-49ce-e347-57d98b063d30",
        "colab": {
          "base_uri": "https://localhost:8080/"
        }
      },
      "execution_count": 374,
      "outputs": [
        {
          "output_type": "execute_result",
          "data": {
            "text/plain": [
              "array([[  2.,   2.,   2.,   2.,   2.],\n",
              "       [282., 282., 282., 282., 282.],\n",
              "       [312., 312., 312., 312., 312.],\n",
              "       [596., 596., 596., 596., 596.]])"
            ]
          },
          "metadata": {},
          "execution_count": 374
        }
      ]
    },
    {
      "cell_type": "code",
      "source": [
        "Ctrb_f_Pa = ((Ctbr_Pa/sm_gap1_Pa).round(3))*100  # 각 항목별 기여율\n",
        "Ctrb_f_La = ((Ctbr_La/sm_gap1_La).round(3))*100  # 각 항목별 기여율\n",
        "\n",
        "print('파쉐식 기여율 : \\n', Ctrb_f_Pa, '\\n')\n",
        "print('라스파이레스식 기여율 : \\n', Ctrb_f_La, '\\n')"
      ],
      "metadata": {
        "id": "gJjc1yt52wv-",
        "outputId": "b2aa7f5a-91a7-4463-e8a9-da02796c9345",
        "colab": {
          "base_uri": "https://localhost:8080/"
        }
      },
      "execution_count": 375,
      "outputs": [
        {
          "output_type": "stream",
          "name": "stdout",
          "text": [
            "파쉐식 기여율 : \n",
            " [[ 119.3  268.4  -75.3  -35.9 -176.5]\n",
            " [  21.9   91.    -7.    -8.3    2.4]\n",
            " [  69.2   27.8   -4.5   -2.6   10. ]\n",
            " [  47.    58.5   -5.9   -5.4    5.8]] \n",
            "\n",
            "라스파이레스식 기여율 : \n",
            " [[ 127.9  306.3  -80.9  -44.9 -208.4]\n",
            " [  22.4   92.2   -7.5  -10.     2.9]\n",
            " [  68.7   27.8   -5.    -3.1   11.6]\n",
            " [  47.    59.2   -6.4   -6.5    6.7]] \n",
            "\n"
          ]
        }
      ]
    },
    {
      "cell_type": "code",
      "source": [
        "Ctrb_ff_Pa = pd.DataFrame(Ctrb_f_Pa.round(1),columns = ['국내최종수요증감액', '수출', '최종재수입','중간재수입', '기술변화'],\n",
        "\n",
        "                         index=['농산품', '공산품', '서비스', '계'])  # pandas로 내보내기\n",
        "Ctrb_ff_Pa"
      ],
      "metadata": {
        "id": "tyTWoMU626Bw",
        "outputId": "8370055d-c853-497e-a789-b41a20c864c3",
        "colab": {
          "base_uri": "https://localhost:8080/",
          "height": 175
        }
      },
      "execution_count": 376,
      "outputs": [
        {
          "output_type": "execute_result",
          "data": {
            "text/plain": [
              "     국내최종수요증감액     수출  최종재수입  중간재수입   기술변화\n",
              "농산품      119.3  268.4  -75.3  -35.9 -176.5\n",
              "공산품       21.9   91.0   -7.0   -8.3    2.4\n",
              "서비스       69.2   27.8   -4.5   -2.6   10.0\n",
              "계         47.0   58.5   -5.9   -5.4    5.8"
            ],
            "text/html": [
              "\n",
              "  <div id=\"df-6fd3e2ca-fbe8-4816-b308-daa3f3cfc6b8\" class=\"colab-df-container\">\n",
              "    <div>\n",
              "<style scoped>\n",
              "    .dataframe tbody tr th:only-of-type {\n",
              "        vertical-align: middle;\n",
              "    }\n",
              "\n",
              "    .dataframe tbody tr th {\n",
              "        vertical-align: top;\n",
              "    }\n",
              "\n",
              "    .dataframe thead th {\n",
              "        text-align: right;\n",
              "    }\n",
              "</style>\n",
              "<table border=\"1\" class=\"dataframe\">\n",
              "  <thead>\n",
              "    <tr style=\"text-align: right;\">\n",
              "      <th></th>\n",
              "      <th>국내최종수요증감액</th>\n",
              "      <th>수출</th>\n",
              "      <th>최종재수입</th>\n",
              "      <th>중간재수입</th>\n",
              "      <th>기술변화</th>\n",
              "    </tr>\n",
              "  </thead>\n",
              "  <tbody>\n",
              "    <tr>\n",
              "      <th>농산품</th>\n",
              "      <td>119.3</td>\n",
              "      <td>268.4</td>\n",
              "      <td>-75.3</td>\n",
              "      <td>-35.9</td>\n",
              "      <td>-176.5</td>\n",
              "    </tr>\n",
              "    <tr>\n",
              "      <th>공산품</th>\n",
              "      <td>21.9</td>\n",
              "      <td>91.0</td>\n",
              "      <td>-7.0</td>\n",
              "      <td>-8.3</td>\n",
              "      <td>2.4</td>\n",
              "    </tr>\n",
              "    <tr>\n",
              "      <th>서비스</th>\n",
              "      <td>69.2</td>\n",
              "      <td>27.8</td>\n",
              "      <td>-4.5</td>\n",
              "      <td>-2.6</td>\n",
              "      <td>10.0</td>\n",
              "    </tr>\n",
              "    <tr>\n",
              "      <th>계</th>\n",
              "      <td>47.0</td>\n",
              "      <td>58.5</td>\n",
              "      <td>-5.9</td>\n",
              "      <td>-5.4</td>\n",
              "      <td>5.8</td>\n",
              "    </tr>\n",
              "  </tbody>\n",
              "</table>\n",
              "</div>\n",
              "    <div class=\"colab-df-buttons\">\n",
              "\n",
              "  <div class=\"colab-df-container\">\n",
              "    <button class=\"colab-df-convert\" onclick=\"convertToInteractive('df-6fd3e2ca-fbe8-4816-b308-daa3f3cfc6b8')\"\n",
              "            title=\"Convert this dataframe to an interactive table.\"\n",
              "            style=\"display:none;\">\n",
              "\n",
              "  <svg xmlns=\"http://www.w3.org/2000/svg\" height=\"24px\" viewBox=\"0 -960 960 960\">\n",
              "    <path d=\"M120-120v-720h720v720H120Zm60-500h600v-160H180v160Zm220 220h160v-160H400v160Zm0 220h160v-160H400v160ZM180-400h160v-160H180v160Zm440 0h160v-160H620v160ZM180-180h160v-160H180v160Zm440 0h160v-160H620v160Z\"/>\n",
              "  </svg>\n",
              "    </button>\n",
              "\n",
              "  <style>\n",
              "    .colab-df-container {\n",
              "      display:flex;\n",
              "      gap: 12px;\n",
              "    }\n",
              "\n",
              "    .colab-df-convert {\n",
              "      background-color: #E8F0FE;\n",
              "      border: none;\n",
              "      border-radius: 50%;\n",
              "      cursor: pointer;\n",
              "      display: none;\n",
              "      fill: #1967D2;\n",
              "      height: 32px;\n",
              "      padding: 0 0 0 0;\n",
              "      width: 32px;\n",
              "    }\n",
              "\n",
              "    .colab-df-convert:hover {\n",
              "      background-color: #E2EBFA;\n",
              "      box-shadow: 0px 1px 2px rgba(60, 64, 67, 0.3), 0px 1px 3px 1px rgba(60, 64, 67, 0.15);\n",
              "      fill: #174EA6;\n",
              "    }\n",
              "\n",
              "    .colab-df-buttons div {\n",
              "      margin-bottom: 4px;\n",
              "    }\n",
              "\n",
              "    [theme=dark] .colab-df-convert {\n",
              "      background-color: #3B4455;\n",
              "      fill: #D2E3FC;\n",
              "    }\n",
              "\n",
              "    [theme=dark] .colab-df-convert:hover {\n",
              "      background-color: #434B5C;\n",
              "      box-shadow: 0px 1px 3px 1px rgba(0, 0, 0, 0.15);\n",
              "      filter: drop-shadow(0px 1px 2px rgba(0, 0, 0, 0.3));\n",
              "      fill: #FFFFFF;\n",
              "    }\n",
              "  </style>\n",
              "\n",
              "    <script>\n",
              "      const buttonEl =\n",
              "        document.querySelector('#df-6fd3e2ca-fbe8-4816-b308-daa3f3cfc6b8 button.colab-df-convert');\n",
              "      buttonEl.style.display =\n",
              "        google.colab.kernel.accessAllowed ? 'block' : 'none';\n",
              "\n",
              "      async function convertToInteractive(key) {\n",
              "        const element = document.querySelector('#df-6fd3e2ca-fbe8-4816-b308-daa3f3cfc6b8');\n",
              "        const dataTable =\n",
              "          await google.colab.kernel.invokeFunction('convertToInteractive',\n",
              "                                                    [key], {});\n",
              "        if (!dataTable) return;\n",
              "\n",
              "        const docLinkHtml = 'Like what you see? Visit the ' +\n",
              "          '<a target=\"_blank\" href=https://colab.research.google.com/notebooks/data_table.ipynb>data table notebook</a>'\n",
              "          + ' to learn more about interactive tables.';\n",
              "        element.innerHTML = '';\n",
              "        dataTable['output_type'] = 'display_data';\n",
              "        await google.colab.output.renderOutput(dataTable, element);\n",
              "        const docLink = document.createElement('div');\n",
              "        docLink.innerHTML = docLinkHtml;\n",
              "        element.appendChild(docLink);\n",
              "      }\n",
              "    </script>\n",
              "  </div>\n",
              "\n",
              "\n",
              "<div id=\"df-f8599d0c-8b81-4db7-afc6-a6138dcf2fbb\">\n",
              "  <button class=\"colab-df-quickchart\" onclick=\"quickchart('df-f8599d0c-8b81-4db7-afc6-a6138dcf2fbb')\"\n",
              "            title=\"Suggest charts\"\n",
              "            style=\"display:none;\">\n",
              "\n",
              "<svg xmlns=\"http://www.w3.org/2000/svg\" height=\"24px\"viewBox=\"0 0 24 24\"\n",
              "     width=\"24px\">\n",
              "    <g>\n",
              "        <path d=\"M19 3H5c-1.1 0-2 .9-2 2v14c0 1.1.9 2 2 2h14c1.1 0 2-.9 2-2V5c0-1.1-.9-2-2-2zM9 17H7v-7h2v7zm4 0h-2V7h2v10zm4 0h-2v-4h2v4z\"/>\n",
              "    </g>\n",
              "</svg>\n",
              "  </button>\n",
              "\n",
              "<style>\n",
              "  .colab-df-quickchart {\n",
              "      --bg-color: #E8F0FE;\n",
              "      --fill-color: #1967D2;\n",
              "      --hover-bg-color: #E2EBFA;\n",
              "      --hover-fill-color: #174EA6;\n",
              "      --disabled-fill-color: #AAA;\n",
              "      --disabled-bg-color: #DDD;\n",
              "  }\n",
              "\n",
              "  [theme=dark] .colab-df-quickchart {\n",
              "      --bg-color: #3B4455;\n",
              "      --fill-color: #D2E3FC;\n",
              "      --hover-bg-color: #434B5C;\n",
              "      --hover-fill-color: #FFFFFF;\n",
              "      --disabled-bg-color: #3B4455;\n",
              "      --disabled-fill-color: #666;\n",
              "  }\n",
              "\n",
              "  .colab-df-quickchart {\n",
              "    background-color: var(--bg-color);\n",
              "    border: none;\n",
              "    border-radius: 50%;\n",
              "    cursor: pointer;\n",
              "    display: none;\n",
              "    fill: var(--fill-color);\n",
              "    height: 32px;\n",
              "    padding: 0;\n",
              "    width: 32px;\n",
              "  }\n",
              "\n",
              "  .colab-df-quickchart:hover {\n",
              "    background-color: var(--hover-bg-color);\n",
              "    box-shadow: 0 1px 2px rgba(60, 64, 67, 0.3), 0 1px 3px 1px rgba(60, 64, 67, 0.15);\n",
              "    fill: var(--button-hover-fill-color);\n",
              "  }\n",
              "\n",
              "  .colab-df-quickchart-complete:disabled,\n",
              "  .colab-df-quickchart-complete:disabled:hover {\n",
              "    background-color: var(--disabled-bg-color);\n",
              "    fill: var(--disabled-fill-color);\n",
              "    box-shadow: none;\n",
              "  }\n",
              "\n",
              "  .colab-df-spinner {\n",
              "    border: 2px solid var(--fill-color);\n",
              "    border-color: transparent;\n",
              "    border-bottom-color: var(--fill-color);\n",
              "    animation:\n",
              "      spin 1s steps(1) infinite;\n",
              "  }\n",
              "\n",
              "  @keyframes spin {\n",
              "    0% {\n",
              "      border-color: transparent;\n",
              "      border-bottom-color: var(--fill-color);\n",
              "      border-left-color: var(--fill-color);\n",
              "    }\n",
              "    20% {\n",
              "      border-color: transparent;\n",
              "      border-left-color: var(--fill-color);\n",
              "      border-top-color: var(--fill-color);\n",
              "    }\n",
              "    30% {\n",
              "      border-color: transparent;\n",
              "      border-left-color: var(--fill-color);\n",
              "      border-top-color: var(--fill-color);\n",
              "      border-right-color: var(--fill-color);\n",
              "    }\n",
              "    40% {\n",
              "      border-color: transparent;\n",
              "      border-right-color: var(--fill-color);\n",
              "      border-top-color: var(--fill-color);\n",
              "    }\n",
              "    60% {\n",
              "      border-color: transparent;\n",
              "      border-right-color: var(--fill-color);\n",
              "    }\n",
              "    80% {\n",
              "      border-color: transparent;\n",
              "      border-right-color: var(--fill-color);\n",
              "      border-bottom-color: var(--fill-color);\n",
              "    }\n",
              "    90% {\n",
              "      border-color: transparent;\n",
              "      border-bottom-color: var(--fill-color);\n",
              "    }\n",
              "  }\n",
              "</style>\n",
              "\n",
              "  <script>\n",
              "    async function quickchart(key) {\n",
              "      const quickchartButtonEl =\n",
              "        document.querySelector('#' + key + ' button');\n",
              "      quickchartButtonEl.disabled = true;  // To prevent multiple clicks.\n",
              "      quickchartButtonEl.classList.add('colab-df-spinner');\n",
              "      try {\n",
              "        const charts = await google.colab.kernel.invokeFunction(\n",
              "            'suggestCharts', [key], {});\n",
              "      } catch (error) {\n",
              "        console.error('Error during call to suggestCharts:', error);\n",
              "      }\n",
              "      quickchartButtonEl.classList.remove('colab-df-spinner');\n",
              "      quickchartButtonEl.classList.add('colab-df-quickchart-complete');\n",
              "    }\n",
              "    (() => {\n",
              "      let quickchartButtonEl =\n",
              "        document.querySelector('#df-f8599d0c-8b81-4db7-afc6-a6138dcf2fbb button');\n",
              "      quickchartButtonEl.style.display =\n",
              "        google.colab.kernel.accessAllowed ? 'block' : 'none';\n",
              "    })();\n",
              "  </script>\n",
              "</div>\n",
              "\n",
              "  <div id=\"id_b5657bbe-564a-402a-a1e1-d2e1d0d11564\">\n",
              "    <style>\n",
              "      .colab-df-generate {\n",
              "        background-color: #E8F0FE;\n",
              "        border: none;\n",
              "        border-radius: 50%;\n",
              "        cursor: pointer;\n",
              "        display: none;\n",
              "        fill: #1967D2;\n",
              "        height: 32px;\n",
              "        padding: 0 0 0 0;\n",
              "        width: 32px;\n",
              "      }\n",
              "\n",
              "      .colab-df-generate:hover {\n",
              "        background-color: #E2EBFA;\n",
              "        box-shadow: 0px 1px 2px rgba(60, 64, 67, 0.3), 0px 1px 3px 1px rgba(60, 64, 67, 0.15);\n",
              "        fill: #174EA6;\n",
              "      }\n",
              "\n",
              "      [theme=dark] .colab-df-generate {\n",
              "        background-color: #3B4455;\n",
              "        fill: #D2E3FC;\n",
              "      }\n",
              "\n",
              "      [theme=dark] .colab-df-generate:hover {\n",
              "        background-color: #434B5C;\n",
              "        box-shadow: 0px 1px 3px 1px rgba(0, 0, 0, 0.15);\n",
              "        filter: drop-shadow(0px 1px 2px rgba(0, 0, 0, 0.3));\n",
              "        fill: #FFFFFF;\n",
              "      }\n",
              "    </style>\n",
              "    <button class=\"colab-df-generate\" onclick=\"generateWithVariable('Ctrb_ff_Pa')\"\n",
              "            title=\"Generate code using this dataframe.\"\n",
              "            style=\"display:none;\">\n",
              "\n",
              "  <svg xmlns=\"http://www.w3.org/2000/svg\" height=\"24px\"viewBox=\"0 0 24 24\"\n",
              "       width=\"24px\">\n",
              "    <path d=\"M7,19H8.4L18.45,9,17,7.55,7,17.6ZM5,21V16.75L18.45,3.32a2,2,0,0,1,2.83,0l1.4,1.43a1.91,1.91,0,0,1,.58,1.4,1.91,1.91,0,0,1-.58,1.4L9.25,21ZM18.45,9,17,7.55Zm-12,3A5.31,5.31,0,0,0,4.9,8.1,5.31,5.31,0,0,0,1,6.5,5.31,5.31,0,0,0,4.9,4.9,5.31,5.31,0,0,0,6.5,1,5.31,5.31,0,0,0,8.1,4.9,5.31,5.31,0,0,0,12,6.5,5.46,5.46,0,0,0,6.5,12Z\"/>\n",
              "  </svg>\n",
              "    </button>\n",
              "    <script>\n",
              "      (() => {\n",
              "      const buttonEl =\n",
              "        document.querySelector('#id_b5657bbe-564a-402a-a1e1-d2e1d0d11564 button.colab-df-generate');\n",
              "      buttonEl.style.display =\n",
              "        google.colab.kernel.accessAllowed ? 'block' : 'none';\n",
              "\n",
              "      buttonEl.onclick = () => {\n",
              "        google.colab.notebook.generateWithVariable('Ctrb_ff_Pa');\n",
              "      }\n",
              "      })();\n",
              "    </script>\n",
              "  </div>\n",
              "\n",
              "    </div>\n",
              "  </div>\n"
            ],
            "application/vnd.google.colaboratory.intrinsic+json": {
              "type": "dataframe",
              "variable_name": "Ctrb_ff_Pa",
              "summary": "{\n  \"name\": \"Ctrb_ff_Pa\",\n  \"rows\": 4,\n  \"fields\": [\n    {\n      \"column\": \"\\uad6d\\ub0b4\\ucd5c\\uc885\\uc218\\uc694\\uc99d\\uac10\\uc561\",\n      \"properties\": {\n        \"dtype\": \"number\",\n        \"std\": 41.416784037392375,\n        \"min\": 21.9,\n        \"max\": 119.3,\n        \"num_unique_values\": 4,\n        \"samples\": [\n          21.9,\n          47.0,\n          119.3\n        ],\n        \"semantic_type\": \"\",\n        \"description\": \"\"\n      }\n    },\n    {\n      \"column\": \"\\uc218\\ucd9c\",\n      \"properties\": {\n        \"dtype\": \"number\",\n        \"std\": 107.7845497586118,\n        \"min\": 27.8,\n        \"max\": 268.4,\n        \"num_unique_values\": 4,\n        \"samples\": [\n          91.0,\n          58.5,\n          268.4\n        ],\n        \"semantic_type\": \"\",\n        \"description\": \"\"\n      }\n    },\n    {\n      \"column\": \"\\ucd5c\\uc885\\uc7ac\\uc218\\uc785\",\n      \"properties\": {\n        \"dtype\": \"number\",\n        \"std\": 34.7650566901115,\n        \"min\": -75.3,\n        \"max\": -4.5,\n        \"num_unique_values\": 4,\n        \"samples\": [\n          -7.0,\n          -5.9,\n          -75.3\n        ],\n        \"semantic_type\": \"\",\n        \"description\": \"\"\n      }\n    },\n    {\n      \"column\": \"\\uc911\\uac04\\uc7ac\\uc218\\uc785\",\n      \"properties\": {\n        \"dtype\": \"number\",\n        \"std\": 15.410061648157026,\n        \"min\": -35.9,\n        \"max\": -2.6,\n        \"num_unique_values\": 4,\n        \"samples\": [\n          -8.3,\n          -5.4,\n          -35.9\n        ],\n        \"semantic_type\": \"\",\n        \"description\": \"\"\n      }\n    },\n    {\n      \"column\": \"\\uae30\\uc220\\ubcc0\\ud654\",\n      \"properties\": {\n        \"dtype\": \"number\",\n        \"std\": 91.33624235026679,\n        \"min\": -176.5,\n        \"max\": 10.0,\n        \"num_unique_values\": 4,\n        \"samples\": [\n          2.4,\n          5.8,\n          -176.5\n        ],\n        \"semantic_type\": \"\",\n        \"description\": \"\"\n      }\n    }\n  ]\n}"
            }
          },
          "metadata": {},
          "execution_count": 376
        }
      ]
    },
    {
      "cell_type": "code",
      "source": [
        "Ctrb_ff_La = pd.DataFrame(Ctrb_f_La.round(1),columns = ['국내최종수요증감액', '수출', '최종재수입','중간재수입', '기술변화'],\n",
        "\n",
        "                         index=['농산품', '공산품', '서비스', '계'])  # pandas로 내보내기\n",
        "Ctrb_ff_La"
      ],
      "metadata": {
        "id": "B4Q-kHGU28gW",
        "outputId": "dc14f9c4-6931-47c5-8669-848eb8fab0b9",
        "colab": {
          "base_uri": "https://localhost:8080/",
          "height": 175
        }
      },
      "execution_count": 377,
      "outputs": [
        {
          "output_type": "execute_result",
          "data": {
            "text/plain": [
              "     국내최종수요증감액     수출  최종재수입  중간재수입   기술변화\n",
              "농산품      127.9  306.3  -80.9  -44.9 -208.4\n",
              "공산품       22.4   92.2   -7.5  -10.0    2.9\n",
              "서비스       68.7   27.8   -5.0   -3.1   11.6\n",
              "계         47.0   59.2   -6.4   -6.5    6.7"
            ],
            "text/html": [
              "\n",
              "  <div id=\"df-bbc76000-7062-4cfb-8f09-6babebc79606\" class=\"colab-df-container\">\n",
              "    <div>\n",
              "<style scoped>\n",
              "    .dataframe tbody tr th:only-of-type {\n",
              "        vertical-align: middle;\n",
              "    }\n",
              "\n",
              "    .dataframe tbody tr th {\n",
              "        vertical-align: top;\n",
              "    }\n",
              "\n",
              "    .dataframe thead th {\n",
              "        text-align: right;\n",
              "    }\n",
              "</style>\n",
              "<table border=\"1\" class=\"dataframe\">\n",
              "  <thead>\n",
              "    <tr style=\"text-align: right;\">\n",
              "      <th></th>\n",
              "      <th>국내최종수요증감액</th>\n",
              "      <th>수출</th>\n",
              "      <th>최종재수입</th>\n",
              "      <th>중간재수입</th>\n",
              "      <th>기술변화</th>\n",
              "    </tr>\n",
              "  </thead>\n",
              "  <tbody>\n",
              "    <tr>\n",
              "      <th>농산품</th>\n",
              "      <td>127.9</td>\n",
              "      <td>306.3</td>\n",
              "      <td>-80.9</td>\n",
              "      <td>-44.9</td>\n",
              "      <td>-208.4</td>\n",
              "    </tr>\n",
              "    <tr>\n",
              "      <th>공산품</th>\n",
              "      <td>22.4</td>\n",
              "      <td>92.2</td>\n",
              "      <td>-7.5</td>\n",
              "      <td>-10.0</td>\n",
              "      <td>2.9</td>\n",
              "    </tr>\n",
              "    <tr>\n",
              "      <th>서비스</th>\n",
              "      <td>68.7</td>\n",
              "      <td>27.8</td>\n",
              "      <td>-5.0</td>\n",
              "      <td>-3.1</td>\n",
              "      <td>11.6</td>\n",
              "    </tr>\n",
              "    <tr>\n",
              "      <th>계</th>\n",
              "      <td>47.0</td>\n",
              "      <td>59.2</td>\n",
              "      <td>-6.4</td>\n",
              "      <td>-6.5</td>\n",
              "      <td>6.7</td>\n",
              "    </tr>\n",
              "  </tbody>\n",
              "</table>\n",
              "</div>\n",
              "    <div class=\"colab-df-buttons\">\n",
              "\n",
              "  <div class=\"colab-df-container\">\n",
              "    <button class=\"colab-df-convert\" onclick=\"convertToInteractive('df-bbc76000-7062-4cfb-8f09-6babebc79606')\"\n",
              "            title=\"Convert this dataframe to an interactive table.\"\n",
              "            style=\"display:none;\">\n",
              "\n",
              "  <svg xmlns=\"http://www.w3.org/2000/svg\" height=\"24px\" viewBox=\"0 -960 960 960\">\n",
              "    <path d=\"M120-120v-720h720v720H120Zm60-500h600v-160H180v160Zm220 220h160v-160H400v160Zm0 220h160v-160H400v160ZM180-400h160v-160H180v160Zm440 0h160v-160H620v160ZM180-180h160v-160H180v160Zm440 0h160v-160H620v160Z\"/>\n",
              "  </svg>\n",
              "    </button>\n",
              "\n",
              "  <style>\n",
              "    .colab-df-container {\n",
              "      display:flex;\n",
              "      gap: 12px;\n",
              "    }\n",
              "\n",
              "    .colab-df-convert {\n",
              "      background-color: #E8F0FE;\n",
              "      border: none;\n",
              "      border-radius: 50%;\n",
              "      cursor: pointer;\n",
              "      display: none;\n",
              "      fill: #1967D2;\n",
              "      height: 32px;\n",
              "      padding: 0 0 0 0;\n",
              "      width: 32px;\n",
              "    }\n",
              "\n",
              "    .colab-df-convert:hover {\n",
              "      background-color: #E2EBFA;\n",
              "      box-shadow: 0px 1px 2px rgba(60, 64, 67, 0.3), 0px 1px 3px 1px rgba(60, 64, 67, 0.15);\n",
              "      fill: #174EA6;\n",
              "    }\n",
              "\n",
              "    .colab-df-buttons div {\n",
              "      margin-bottom: 4px;\n",
              "    }\n",
              "\n",
              "    [theme=dark] .colab-df-convert {\n",
              "      background-color: #3B4455;\n",
              "      fill: #D2E3FC;\n",
              "    }\n",
              "\n",
              "    [theme=dark] .colab-df-convert:hover {\n",
              "      background-color: #434B5C;\n",
              "      box-shadow: 0px 1px 3px 1px rgba(0, 0, 0, 0.15);\n",
              "      filter: drop-shadow(0px 1px 2px rgba(0, 0, 0, 0.3));\n",
              "      fill: #FFFFFF;\n",
              "    }\n",
              "  </style>\n",
              "\n",
              "    <script>\n",
              "      const buttonEl =\n",
              "        document.querySelector('#df-bbc76000-7062-4cfb-8f09-6babebc79606 button.colab-df-convert');\n",
              "      buttonEl.style.display =\n",
              "        google.colab.kernel.accessAllowed ? 'block' : 'none';\n",
              "\n",
              "      async function convertToInteractive(key) {\n",
              "        const element = document.querySelector('#df-bbc76000-7062-4cfb-8f09-6babebc79606');\n",
              "        const dataTable =\n",
              "          await google.colab.kernel.invokeFunction('convertToInteractive',\n",
              "                                                    [key], {});\n",
              "        if (!dataTable) return;\n",
              "\n",
              "        const docLinkHtml = 'Like what you see? Visit the ' +\n",
              "          '<a target=\"_blank\" href=https://colab.research.google.com/notebooks/data_table.ipynb>data table notebook</a>'\n",
              "          + ' to learn more about interactive tables.';\n",
              "        element.innerHTML = '';\n",
              "        dataTable['output_type'] = 'display_data';\n",
              "        await google.colab.output.renderOutput(dataTable, element);\n",
              "        const docLink = document.createElement('div');\n",
              "        docLink.innerHTML = docLinkHtml;\n",
              "        element.appendChild(docLink);\n",
              "      }\n",
              "    </script>\n",
              "  </div>\n",
              "\n",
              "\n",
              "<div id=\"df-2f14e77a-9ed4-4d9f-8b11-39116546739b\">\n",
              "  <button class=\"colab-df-quickchart\" onclick=\"quickchart('df-2f14e77a-9ed4-4d9f-8b11-39116546739b')\"\n",
              "            title=\"Suggest charts\"\n",
              "            style=\"display:none;\">\n",
              "\n",
              "<svg xmlns=\"http://www.w3.org/2000/svg\" height=\"24px\"viewBox=\"0 0 24 24\"\n",
              "     width=\"24px\">\n",
              "    <g>\n",
              "        <path d=\"M19 3H5c-1.1 0-2 .9-2 2v14c0 1.1.9 2 2 2h14c1.1 0 2-.9 2-2V5c0-1.1-.9-2-2-2zM9 17H7v-7h2v7zm4 0h-2V7h2v10zm4 0h-2v-4h2v4z\"/>\n",
              "    </g>\n",
              "</svg>\n",
              "  </button>\n",
              "\n",
              "<style>\n",
              "  .colab-df-quickchart {\n",
              "      --bg-color: #E8F0FE;\n",
              "      --fill-color: #1967D2;\n",
              "      --hover-bg-color: #E2EBFA;\n",
              "      --hover-fill-color: #174EA6;\n",
              "      --disabled-fill-color: #AAA;\n",
              "      --disabled-bg-color: #DDD;\n",
              "  }\n",
              "\n",
              "  [theme=dark] .colab-df-quickchart {\n",
              "      --bg-color: #3B4455;\n",
              "      --fill-color: #D2E3FC;\n",
              "      --hover-bg-color: #434B5C;\n",
              "      --hover-fill-color: #FFFFFF;\n",
              "      --disabled-bg-color: #3B4455;\n",
              "      --disabled-fill-color: #666;\n",
              "  }\n",
              "\n",
              "  .colab-df-quickchart {\n",
              "    background-color: var(--bg-color);\n",
              "    border: none;\n",
              "    border-radius: 50%;\n",
              "    cursor: pointer;\n",
              "    display: none;\n",
              "    fill: var(--fill-color);\n",
              "    height: 32px;\n",
              "    padding: 0;\n",
              "    width: 32px;\n",
              "  }\n",
              "\n",
              "  .colab-df-quickchart:hover {\n",
              "    background-color: var(--hover-bg-color);\n",
              "    box-shadow: 0 1px 2px rgba(60, 64, 67, 0.3), 0 1px 3px 1px rgba(60, 64, 67, 0.15);\n",
              "    fill: var(--button-hover-fill-color);\n",
              "  }\n",
              "\n",
              "  .colab-df-quickchart-complete:disabled,\n",
              "  .colab-df-quickchart-complete:disabled:hover {\n",
              "    background-color: var(--disabled-bg-color);\n",
              "    fill: var(--disabled-fill-color);\n",
              "    box-shadow: none;\n",
              "  }\n",
              "\n",
              "  .colab-df-spinner {\n",
              "    border: 2px solid var(--fill-color);\n",
              "    border-color: transparent;\n",
              "    border-bottom-color: var(--fill-color);\n",
              "    animation:\n",
              "      spin 1s steps(1) infinite;\n",
              "  }\n",
              "\n",
              "  @keyframes spin {\n",
              "    0% {\n",
              "      border-color: transparent;\n",
              "      border-bottom-color: var(--fill-color);\n",
              "      border-left-color: var(--fill-color);\n",
              "    }\n",
              "    20% {\n",
              "      border-color: transparent;\n",
              "      border-left-color: var(--fill-color);\n",
              "      border-top-color: var(--fill-color);\n",
              "    }\n",
              "    30% {\n",
              "      border-color: transparent;\n",
              "      border-left-color: var(--fill-color);\n",
              "      border-top-color: var(--fill-color);\n",
              "      border-right-color: var(--fill-color);\n",
              "    }\n",
              "    40% {\n",
              "      border-color: transparent;\n",
              "      border-right-color: var(--fill-color);\n",
              "      border-top-color: var(--fill-color);\n",
              "    }\n",
              "    60% {\n",
              "      border-color: transparent;\n",
              "      border-right-color: var(--fill-color);\n",
              "    }\n",
              "    80% {\n",
              "      border-color: transparent;\n",
              "      border-right-color: var(--fill-color);\n",
              "      border-bottom-color: var(--fill-color);\n",
              "    }\n",
              "    90% {\n",
              "      border-color: transparent;\n",
              "      border-bottom-color: var(--fill-color);\n",
              "    }\n",
              "  }\n",
              "</style>\n",
              "\n",
              "  <script>\n",
              "    async function quickchart(key) {\n",
              "      const quickchartButtonEl =\n",
              "        document.querySelector('#' + key + ' button');\n",
              "      quickchartButtonEl.disabled = true;  // To prevent multiple clicks.\n",
              "      quickchartButtonEl.classList.add('colab-df-spinner');\n",
              "      try {\n",
              "        const charts = await google.colab.kernel.invokeFunction(\n",
              "            'suggestCharts', [key], {});\n",
              "      } catch (error) {\n",
              "        console.error('Error during call to suggestCharts:', error);\n",
              "      }\n",
              "      quickchartButtonEl.classList.remove('colab-df-spinner');\n",
              "      quickchartButtonEl.classList.add('colab-df-quickchart-complete');\n",
              "    }\n",
              "    (() => {\n",
              "      let quickchartButtonEl =\n",
              "        document.querySelector('#df-2f14e77a-9ed4-4d9f-8b11-39116546739b button');\n",
              "      quickchartButtonEl.style.display =\n",
              "        google.colab.kernel.accessAllowed ? 'block' : 'none';\n",
              "    })();\n",
              "  </script>\n",
              "</div>\n",
              "\n",
              "  <div id=\"id_b5225b70-bee7-48cd-8ce4-eeb0dc1c334e\">\n",
              "    <style>\n",
              "      .colab-df-generate {\n",
              "        background-color: #E8F0FE;\n",
              "        border: none;\n",
              "        border-radius: 50%;\n",
              "        cursor: pointer;\n",
              "        display: none;\n",
              "        fill: #1967D2;\n",
              "        height: 32px;\n",
              "        padding: 0 0 0 0;\n",
              "        width: 32px;\n",
              "      }\n",
              "\n",
              "      .colab-df-generate:hover {\n",
              "        background-color: #E2EBFA;\n",
              "        box-shadow: 0px 1px 2px rgba(60, 64, 67, 0.3), 0px 1px 3px 1px rgba(60, 64, 67, 0.15);\n",
              "        fill: #174EA6;\n",
              "      }\n",
              "\n",
              "      [theme=dark] .colab-df-generate {\n",
              "        background-color: #3B4455;\n",
              "        fill: #D2E3FC;\n",
              "      }\n",
              "\n",
              "      [theme=dark] .colab-df-generate:hover {\n",
              "        background-color: #434B5C;\n",
              "        box-shadow: 0px 1px 3px 1px rgba(0, 0, 0, 0.15);\n",
              "        filter: drop-shadow(0px 1px 2px rgba(0, 0, 0, 0.3));\n",
              "        fill: #FFFFFF;\n",
              "      }\n",
              "    </style>\n",
              "    <button class=\"colab-df-generate\" onclick=\"generateWithVariable('Ctrb_ff_La')\"\n",
              "            title=\"Generate code using this dataframe.\"\n",
              "            style=\"display:none;\">\n",
              "\n",
              "  <svg xmlns=\"http://www.w3.org/2000/svg\" height=\"24px\"viewBox=\"0 0 24 24\"\n",
              "       width=\"24px\">\n",
              "    <path d=\"M7,19H8.4L18.45,9,17,7.55,7,17.6ZM5,21V16.75L18.45,3.32a2,2,0,0,1,2.83,0l1.4,1.43a1.91,1.91,0,0,1,.58,1.4,1.91,1.91,0,0,1-.58,1.4L9.25,21ZM18.45,9,17,7.55Zm-12,3A5.31,5.31,0,0,0,4.9,8.1,5.31,5.31,0,0,0,1,6.5,5.31,5.31,0,0,0,4.9,4.9,5.31,5.31,0,0,0,6.5,1,5.31,5.31,0,0,0,8.1,4.9,5.31,5.31,0,0,0,12,6.5,5.46,5.46,0,0,0,6.5,12Z\"/>\n",
              "  </svg>\n",
              "    </button>\n",
              "    <script>\n",
              "      (() => {\n",
              "      const buttonEl =\n",
              "        document.querySelector('#id_b5225b70-bee7-48cd-8ce4-eeb0dc1c334e button.colab-df-generate');\n",
              "      buttonEl.style.display =\n",
              "        google.colab.kernel.accessAllowed ? 'block' : 'none';\n",
              "\n",
              "      buttonEl.onclick = () => {\n",
              "        google.colab.notebook.generateWithVariable('Ctrb_ff_La');\n",
              "      }\n",
              "      })();\n",
              "    </script>\n",
              "  </div>\n",
              "\n",
              "    </div>\n",
              "  </div>\n"
            ],
            "application/vnd.google.colaboratory.intrinsic+json": {
              "type": "dataframe",
              "variable_name": "Ctrb_ff_La",
              "summary": "{\n  \"name\": \"Ctrb_ff_La\",\n  \"rows\": 4,\n  \"fields\": [\n    {\n      \"column\": \"\\uad6d\\ub0b4\\ucd5c\\uc885\\uc218\\uc694\\uc99d\\uac10\\uc561\",\n      \"properties\": {\n        \"dtype\": \"number\",\n        \"std\": 45.09198007037024,\n        \"min\": 22.4,\n        \"max\": 127.9,\n        \"num_unique_values\": 4,\n        \"samples\": [\n          22.4,\n          47.0,\n          127.9\n        ],\n        \"semantic_type\": \"\",\n        \"description\": \"\"\n      }\n    },\n    {\n      \"column\": \"\\uc218\\ucd9c\",\n      \"properties\": {\n        \"dtype\": \"number\",\n        \"std\": 126.05613498226363,\n        \"min\": 27.8,\n        \"max\": 306.3,\n        \"num_unique_values\": 4,\n        \"samples\": [\n          92.2,\n          59.2,\n          306.3\n        ],\n        \"semantic_type\": \"\",\n        \"description\": \"\"\n      }\n    },\n    {\n      \"column\": \"\\ucd5c\\uc885\\uc7ac\\uc218\\uc785\",\n      \"properties\": {\n        \"dtype\": \"number\",\n        \"std\": 37.314027746501274,\n        \"min\": -80.9,\n        \"max\": -5.0,\n        \"num_unique_values\": 4,\n        \"samples\": [\n          -7.5,\n          -6.4,\n          -80.9\n        ],\n        \"semantic_type\": \"\",\n        \"description\": \"\"\n      }\n    },\n    {\n      \"column\": \"\\uc911\\uac04\\uc7ac\\uc218\\uc785\",\n      \"properties\": {\n        \"dtype\": \"number\",\n        \"std\": 19.389064787486095,\n        \"min\": -44.9,\n        \"max\": -3.1,\n        \"num_unique_values\": 4,\n        \"samples\": [\n          -10.0,\n          -6.5,\n          -44.9\n        ],\n        \"semantic_type\": \"\",\n        \"description\": \"\"\n      }\n    },\n    {\n      \"column\": \"\\uae30\\uc220\\ubcc0\\ud654\",\n      \"properties\": {\n        \"dtype\": \"number\",\n        \"std\": 107.79217658686244,\n        \"min\": -208.4,\n        \"max\": 11.6,\n        \"num_unique_values\": 4,\n        \"samples\": [\n          2.9,\n          6.7,\n          -208.4\n        ],\n        \"semantic_type\": \"\",\n        \"description\": \"\"\n      }\n    }\n  ]\n}"
            }
          },
          "metadata": {},
          "execution_count": 377
        }
      ]
    },
    {
      "cell_type": "code",
      "source": [
        "Ctrb_ff_Pa.to_csv('항목별 기여율_파쉐.csv', encoding=\"utf-8-sig\")\n",
        "Ctrb_ff_La.to_csv('항목별 기여율_라스파이레스.csv', encoding=\"utf-8-sig\")"
      ],
      "metadata": {
        "id": "ZUG9Ttio2_ZO"
      },
      "execution_count": 378,
      "outputs": []
    },
    {
      "cell_type": "code",
      "source": [],
      "metadata": {
        "id": "lgx3lVJT_ped"
      },
      "execution_count": 378,
      "outputs": []
    }
  ]
}