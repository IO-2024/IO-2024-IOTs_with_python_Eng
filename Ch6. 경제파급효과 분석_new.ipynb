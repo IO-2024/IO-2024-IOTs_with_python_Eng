{
  "nbformat": 4,
  "nbformat_minor": 0,
  "metadata": {
    "colab": {
      "provenance": [],
      "mount_file_id": "https://github.com/Tom-Jung/legendary-funicular/blob/main/IO_tables.ipynb",
      "authorship_tag": "ABX9TyMZuLSJnanlObjq679QNpPP",
      "include_colab_link": true
    },
    "kernelspec": {
      "name": "python3",
      "display_name": "Python 3"
    },
    "language_info": {
      "name": "python"
    }
  },
  "cells": [
    {
      "cell_type": "markdown",
      "metadata": {
        "id": "view-in-github",
        "colab_type": "text"
      },
      "source": [
        "<a href=\"https://colab.research.google.com/github/Tom-Jung/IO_with_python/blob/main/Ch6.%20%EA%B2%BD%EC%A0%9C%ED%8C%8C%EA%B8%89%ED%9A%A8%EA%B3%BC%20%EB%B6%84%EC%84%9D_new.ipynb\" target=\"_parent\"><img src=\"https://colab.research.google.com/assets/colab-badge.svg\" alt=\"Open In Colab\"/></a>"
      ]
    },
    {
      "cell_type": "code",
      "source": [
        "import numpy as np   # Numpy import\n",
        "import pandas as pd  # Pandas import"
      ],
      "metadata": {
        "id": "TR7JvW8CxBFT"
      },
      "execution_count": 13,
      "outputs": []
    },
    {
      "cell_type": "markdown",
      "source": [
        "\n",
        "3부문 총, 국산, 수입거래표 불러오기"
      ],
      "metadata": {
        "id": "joFt2eQ514T6"
      }
    },
    {
      "cell_type": "code",
      "source": [
        "url_Tt_3 = \"https://raw.githubusercontent.com/Tom-Jung/legendary-funicular/main/Total_Matrix_3_secs.csv\"  # 3부문의 총거래표 불러오기\n",
        "Tt_3 = pd.read_csv(url_Tt_3)\n",
        "\n",
        "url_Dt_3 = \"https://raw.githubusercontent.com/Tom-Jung/legendary-funicular/main/Domestic_Matrix_3_secs.csv\"  # 3부문의 국산거래표 불러오기\n",
        "Dt_3 = pd.read_csv(url_Dt_3)\n",
        "\n",
        "url_It_3 = \"https://raw.githubusercontent.com/Tom-Jung/legendary-funicular/main/Imported_Matrix_3_secs.csv\"  # 3부문의 수입거래표 불러오기\n",
        "It_3 = pd.read_csv(url_It_3)\n"
      ],
      "metadata": {
        "id": "6GuMjUk213iK"
      },
      "execution_count": 14,
      "outputs": []
    },
    {
      "cell_type": "code",
      "source": [
        "Tt = Tt_3.to_numpy()\n",
        "Dt = Dt_3.to_numpy()\n",
        "It = It_3.to_numpy()"
      ],
      "metadata": {
        "id": "pXrwfo8u86pr"
      },
      "execution_count": 15,
      "outputs": []
    },
    {
      "cell_type": "code",
      "source": [
        "Tt_1 = Tt[0:10,1:13].astype(float)\n",
        "Dm_1 = Dt[0:4,1:10].astype(float)\n",
        "Im_1 = It[0:4,1:10].astype(float)\n",
        "print('총거래표 : \\n', Tt_1)    # 총거래표 확인\n",
        "print('국산거래표 : \\n', Dm_1)  # 국산거래표 확인\n",
        "print('수입거래표 : \\n', Im_1)  # 수입거래표 확인"
      ],
      "metadata": {
        "colab": {
          "base_uri": "https://localhost:8080/"
        },
        "id": "q4Q2rSR1QiUI",
        "outputId": "97e7099d-3304-480b-eb7c-2904b290651b"
      },
      "execution_count": 16,
      "outputs": [
        {
          "output_type": "stream",
          "name": "stdout",
          "text": [
            "총거래표 : \n",
            " [[4.000e+00 3.800e+01 1.100e+01 5.300e+01 1.800e+01 0.000e+00 1.000e+00\n",
            "  1.900e+01 7.200e+01]\n",
            " [1.600e+01 9.440e+02 4.010e+02 1.361e+03 2.130e+02 1.670e+02 6.280e+02\n",
            "  1.008e+03 2.369e+03]\n",
            " [7.000e+00 2.570e+02 6.930e+02 9.570e+02 1.032e+03 4.320e+02 1.310e+02\n",
            "  1.595e+03 2.552e+03]\n",
            " [2.700e+01 1.239e+03 1.105e+03 2.371e+03 1.263e+03 5.990e+02 7.600e+02\n",
            "  2.622e+03 4.993e+03]\n",
            " [7.000e+00 1.970e+02 7.140e+02 9.180e+02 0.000e+00 0.000e+00 0.000e+00\n",
            "  0.000e+00 0.000e+00]\n",
            " [2.000e+01 1.520e+02 2.980e+02 4.700e+02 0.000e+00 0.000e+00 0.000e+00\n",
            "  0.000e+00 0.000e+00]\n",
            " [5.000e+00 1.440e+02 2.300e+02 3.790e+02 0.000e+00 0.000e+00 0.000e+00\n",
            "  0.000e+00 0.000e+00]\n",
            " [1.000e+00 6.000e+01 1.000e+02 1.610e+02 0.000e+00 0.000e+00 0.000e+00\n",
            "  0.000e+00 0.000e+00]\n",
            " [3.300e+01 5.530e+02 1.342e+03 1.928e+03 0.000e+00 0.000e+00 0.000e+00\n",
            "  0.000e+00 0.000e+00]\n",
            " [6.000e+01 1.792e+03 2.447e+03 4.299e+03 0.000e+00 0.000e+00 0.000e+00\n",
            "  0.000e+00 0.000e+00]]\n",
            "국산거래표 : \n",
            " [[ 4.000e+00  3.100e+01  1.000e+01  4.500e+01  1.500e+01 -1.000e+00\n",
            "   1.000e+00  1.500e+01  6.000e+01]\n",
            " [ 1.500e+01  5.880e+02  3.220e+02  9.250e+02  1.380e+02  1.060e+02\n",
            "   6.230e+02  8.670e+02  1.792e+03]\n",
            " [ 7.000e+00  2.430e+02  6.440e+02  8.940e+02  9.970e+02  4.250e+02\n",
            "   1.310e+02  1.553e+03  2.447e+03]\n",
            " [ 2.600e+01  8.620e+02  9.760e+02  1.864e+03  1.150e+03  5.300e+02\n",
            "   7.550e+02  2.435e+03  4.299e+03]]\n",
            "수입거래표 : \n",
            " [[  0.   7.   1.   8.   3.   1.   0.   4.  12.]\n",
            " [  1. 356.  79. 436.  75.  61.   5. 141. 577.]\n",
            " [  0.  14.  49.  63.  35.   7.   0.  42. 105.]\n",
            " [  1. 377. 129. 507. 113.  69.   5. 187. 694.]]\n"
          ]
        }
      ]
    },
    {
      "cell_type": "code",
      "source": [
        "Ct = Tt_1[-1,0:3]  # 산출액\n",
        "Ct"
      ],
      "metadata": {
        "colab": {
          "base_uri": "https://localhost:8080/"
        },
        "id": "sLoitK1lQigz",
        "outputId": "79a7a345-1d77-4908-ab6d-a422751748dc"
      },
      "execution_count": 17,
      "outputs": [
        {
          "output_type": "execute_result",
          "data": {
            "text/plain": [
              "array([  60., 1792., 2447.])"
            ]
          },
          "metadata": {},
          "execution_count": 17
        }
      ]
    },
    {
      "cell_type": "code",
      "source": [
        "Ct_m = np.tile(Ct, reps=[3,1]) # 산출액을 3번 행반복\n",
        "Ct_m"
      ],
      "metadata": {
        "colab": {
          "base_uri": "https://localhost:8080/"
        },
        "id": "s0wcbJY1Qipl",
        "outputId": "014d9d1b-57c1-4281-8e0d-c6be3f534699"
      },
      "execution_count": 18,
      "outputs": [
        {
          "output_type": "execute_result",
          "data": {
            "text/plain": [
              "array([[  60., 1792., 2447.],\n",
              "       [  60., 1792., 2447.],\n",
              "       [  60., 1792., 2447.]])"
            ]
          },
          "metadata": {},
          "execution_count": 18
        }
      ]
    },
    {
      "cell_type": "code",
      "source": [
        "At = Tt_1[0:3,0:3]/Ct_m   # 총투입계수\n",
        "Ad = Dm_1[0:3,0:3]/Ct_m  # 국산 투입계수\n",
        "Ai = Im_1[0:3,0:3]/Ct_m  # 수입 투입계수\n",
        "\n",
        "print('총투입계수표 : \\n', At)\n",
        "print('국산투입계수표 : \\n', Ad)\n",
        "print('수입투입계수표 : \\n', Ai)\n",
        "\n",
        "df_At = pd.DataFrame(At.round(3),columns = ['농산품', '공산품', '서비스'], index=['농산품', '공산품', '서비스'])  #pandas로 내보내기\n",
        "df_Ad = pd.DataFrame(Ad.round(3),columns = ['농산품', '공산품', '서비스'], index=['농산품', '공산품', '서비스'])  #pandas로 내보내기\n",
        "df_Ai = pd.DataFrame(Ai.round(3),columns = ['농산품', '공산품', '서비스'], index=['농산품', '공산품', '서비스'])  #pandas로 내보내기"
      ],
      "metadata": {
        "colab": {
          "base_uri": "https://localhost:8080/"
        },
        "id": "5uLIE7vfQiwM",
        "outputId": "13f9b653-99a0-4e14-8368-490bf0548dbc"
      },
      "execution_count": 19,
      "outputs": [
        {
          "output_type": "stream",
          "name": "stdout",
          "text": [
            "총투입계수표 : \n",
            " [[0.06666667 0.02120536 0.0044953 ]\n",
            " [0.26666667 0.52678571 0.16387413]\n",
            " [0.11666667 0.14341518 0.28320392]]\n",
            "국산투입계수표 : \n",
            " [[0.06666667 0.01729911 0.00408664]\n",
            " [0.25       0.328125   0.1315897 ]\n",
            " [0.11666667 0.13560268 0.2631794 ]]\n",
            "수입투입계수표 : \n",
            " [[0.         0.00390625 0.00040866]\n",
            " [0.01666667 0.19866071 0.03228443]\n",
            " [0.         0.0078125  0.02002452]]\n"
          ]
        }
      ]
    },
    {
      "cell_type": "markdown",
      "source": [
        "### 물가파급효과 분석\n",
        "\n",
        "\n",
        "##### - 투입계수의 전치행렬을 이용하여 생산유발계수(Lf)을 이용하여 각종 물가파급효과 분석 가능"
      ],
      "metadata": {
        "id": "LrSLa3VTD5Nd"
      }
    },
    {
      "cell_type": "code",
      "source": [
        "At_trans = At.T  # 총투입계수의 전치행렬\n",
        "Ad_trans = Ad.T  # 국산투입계수의 전치행렬\n",
        "Ai_trans = Ai.T  # 국산투입계수의 전치행렬\n",
        "\n",
        "print('총투입계수의 전치행렬 : \\n', At_trans, '\\n')\n",
        "print('국산투입계수의 전치행렬: \\n', Ad_trans, '\\n')\n",
        "print('수입투입계수의 전치행렬: \\n', Ai_trans, '\\n')\n",
        "\n",
        "Lf_trans = np.linalg.inv(np.identity(3)-Ad_trans)  # (I-Ad_trans)의 역행렬\n",
        "\n",
        "print('국산투입계수 전치행렬의 역행렬: \\n', Lf_trans)"
      ],
      "metadata": {
        "id": "QlwdX5oMD71E",
        "outputId": "2c81f6cc-e42a-4652-b162-58b44966a102",
        "colab": {
          "base_uri": "https://localhost:8080/"
        }
      },
      "execution_count": 20,
      "outputs": [
        {
          "output_type": "stream",
          "name": "stdout",
          "text": [
            "총투입계수의 전치행렬 : \n",
            " [[0.06666667 0.26666667 0.11666667]\n",
            " [0.02120536 0.52678571 0.14341518]\n",
            " [0.0044953  0.16387413 0.28320392]] \n",
            "\n",
            "국산투입계수의 전치행렬: \n",
            " [[0.06666667 0.25       0.11666667]\n",
            " [0.01729911 0.328125   0.13560268]\n",
            " [0.00408664 0.1315897  0.2631794 ]] \n",
            "\n",
            "수입투입계수의 전치행렬: \n",
            " [[0.         0.01666667 0.        ]\n",
            " [0.00390625 0.19866071 0.0078125 ]\n",
            " [0.00040866 0.03228443 0.02002452]] \n",
            "\n",
            "국산투입계수 전치행렬의 역행렬: \n",
            " [[1.08092021 0.45201623 0.25433867]\n",
            " [0.03012689 1.55662423 0.29124759]\n",
            " [0.01137552 0.28050647 1.41060738]]\n"
          ]
        }
      ]
    },
    {
      "cell_type": "code",
      "source": [
        "Lf = np.linalg.inv(np.identity(3)-Ad)  # 생산유발계수\n",
        "Lf"
      ],
      "metadata": {
        "id": "ZBm_HdNJlXK0",
        "outputId": "fea880e3-a697-4641-d887-80517979a427",
        "colab": {
          "base_uri": "https://localhost:8080/"
        }
      },
      "execution_count": 21,
      "outputs": [
        {
          "output_type": "execute_result",
          "data": {
            "text/plain": [
              "array([[1.08092021, 0.03012689, 0.01137552],\n",
              "       [0.45201623, 1.55662423, 0.28050647],\n",
              "       [0.25433867, 0.29124759, 1.41060738]])"
            ]
          },
          "metadata": {},
          "execution_count": 21
        }
      ]
    },
    {
      "cell_type": "code",
      "source": [
        "Va_r = Tt_1[-2,0:3]/Ct  # 부가가치율\n",
        "Va_m = np.diag(Va_r)    # 부가가치율 대각행렬\n",
        "\n",
        "Lv = Va_m@Lf   #부가가치유발계수\n",
        "Li = Ai@Lf  #수입유발계수\n",
        "\n",
        "Aw_r = Tt_1[-6,0:3]/Ct #  피용자보수율\n",
        "Aw_m = np.diag(Aw_r)\n",
        "print('피용자보수율: \\n', Aw_m,'\\n')"
      ],
      "metadata": {
        "id": "g3iFXmzj8jsS",
        "outputId": "89df1068-5338-4bbd-f348-f89834fd1f0c",
        "colab": {
          "base_uri": "https://localhost:8080/"
        }
      },
      "execution_count": 22,
      "outputs": [
        {
          "output_type": "stream",
          "name": "stdout",
          "text": [
            "피용자보수율: \n",
            " [[0.11666667 0.         0.        ]\n",
            " [0.         0.10993304 0.        ]\n",
            " [0.         0.         0.29178586]] \n",
            "\n"
          ]
        }
      ]
    },
    {
      "cell_type": "markdown",
      "source": [
        "#### 임금인상의 물가파급효과"
      ],
      "metadata": {
        "id": "VmIala71I_1M"
      }
    },
    {
      "cell_type": "code",
      "source": [
        "delta_all_w = np.array([10,10,10]).reshape([3,1]) # 모든 상품의 임금이 10% 상승\n",
        "delta_all_Pw = ((Lf_trans@Aw_m)@delta_all_w).round(3)\n",
        "\n",
        "delta_par_w = np.array([0,10,0]).reshape([3,1]) # 공산품의 임금이 10% 상승\n",
        "delta_par_Pw = ((Lf_trans@Aw_m)@delta_par_w).round(3)\n",
        "\n",
        "print('모든 상품의 임금이 10% 상승시: \\n', delta_all_Pw, '\\n')\n",
        "print('공산품의 임금이 10% 상승시: \\n', delta_par_Pw, '\\n')\n"
      ],
      "metadata": {
        "id": "hT30koHOD8WG",
        "outputId": "0304f449-33de-43f3-85c5-803c0efe5c4e",
        "colab": {
          "base_uri": "https://localhost:8080/"
        }
      },
      "execution_count": 23,
      "outputs": [
        {
          "output_type": "stream",
          "name": "stdout",
          "text": [
            "모든 상품의 임금이 10% 상승시: \n",
            " [[2.5  ]\n",
            " [2.596]\n",
            " [4.438]] \n",
            "\n",
            "공산품의 임금이 10% 상승시: \n",
            " [[0.497]\n",
            " [1.711]\n",
            " [0.308]] \n",
            "\n"
          ]
        }
      ]
    },
    {
      "cell_type": "markdown",
      "source": [
        "#### 내생부분(중간투입품) 가격변동의 물가파급효과"
      ],
      "metadata": {
        "id": "lz8QJDXeZA_n"
      }
    },
    {
      "cell_type": "code",
      "source": [
        "#### 중간투입되는 서비스의 물가변동의 파급효과 분석\n",
        "\n",
        "Ad_exd_row = np.delete(Ad_trans,2,0).reshape([2,3])  # 서비스(sectors3) 행 삭제\n",
        "Ad_exd_serv = np.delete(Ad_exd_row,2,1).reshape([2,2])  # 서비스(sectors3) 열 삭제,,최종적으로 2x2 행렬\n",
        "print('물가변동이 발생한 부문을 제거한 국산투입계수 : \\n', Ad_exd_serv.round(3))\n",
        "\n",
        "Lf_Ad = np.linalg.inv(np.identity(2)-Ad_exd_serv)\n",
        "print('물가변동이 발생한 부문을 제거한 유발계수 : \\n', Lf_Ad.round(3))\n",
        "\n",
        "A_Pr_sec2 = np.concatenate((Ad_trans[0,2].reshape([1,1]),Ad_trans[1,2].reshape([1,1])),axis=0).reshape([2,1])  # 물가가 변동하는 부문의 국산 투입계수(a31, a32)\n",
        "print('물가변동이 발생한 부문의 국산투입계수 : \\n', A_Pr_sec2.round(3))\n",
        "\n",
        "#서비스 물가 10% 상승시 파급효과\n",
        "\n",
        "delta_serv_Pw = Lf_Ad@A_Pr_sec2*10\n",
        "print('서비스 10% 상승시 다른 부문의 물가변동 : \\n', delta_serv_Pw.round(3))"
      ],
      "metadata": {
        "id": "MH8Zx-JXD8ZG",
        "colab": {
          "base_uri": "https://localhost:8080/"
        },
        "outputId": "424b197e-e8ec-4863-f932-42c971c53496"
      },
      "execution_count": 24,
      "outputs": [
        {
          "output_type": "stream",
          "name": "stdout",
          "text": [
            "물가변동이 발생한 부문을 제거한 국산투입계수 : \n",
            " [[0.067 0.25 ]\n",
            " [0.017 0.328]]\n",
            "물가변동이 발생한 부문을 제거한 유발계수 : \n",
            " [[1.079 0.401]\n",
            " [0.028 1.499]]\n",
            "물가변동이 발생한 부문의 국산투입계수 : \n",
            " [[0.117]\n",
            " [0.136]]\n",
            "서비스 10% 상승시 다른 부문의 물가변동 : \n",
            " [[1.803]\n",
            " [2.065]]\n"
          ]
        }
      ]
    },
    {
      "cell_type": "markdown",
      "source": [
        "#### 수입농산품 가격변동의 물가파급효과\n"
      ],
      "metadata": {
        "id": "KGihX7EPGGt3"
      }
    },
    {
      "cell_type": "code",
      "source": [
        "Imp_Pw = np.array([10,0,0]).reshape([3,1]) # 수입농산물 10% 상승\n",
        "delta_imp_Pw =  ((Lf_trans @Ai_trans)@Imp_Pw).reshape([3,1])\n",
        "\n",
        "print('수입농산품 가격 10% 상승시 다른 부문의 물가변동 : \\n', delta_imp_Pw)"
      ],
      "metadata": {
        "colab": {
          "base_uri": "https://localhost:8080/"
        },
        "id": "5p1nygTxZI38",
        "outputId": "b9a9fc8d-8464-4a92-8752-79bf5997ab27"
      },
      "execution_count": 25,
      "outputs": [
        {
          "output_type": "stream",
          "name": "stdout",
          "text": [
            "수입농산품 가격 10% 상승시 다른 부문의 물가변동 : \n",
            " [[0.01869627]\n",
            " [0.06199586]\n",
            " [0.01672192]]\n"
          ]
        }
      ]
    },
    {
      "cell_type": "markdown",
      "source": [
        "### 환율변동 효과"
      ],
      "metadata": {
        "id": "5AEFkiKAwD23"
      }
    },
    {
      "cell_type": "code",
      "source": [
        "Ex_rate = np.array([10,10,10]).reshape([3,1]) # 환율 10% 상승\n",
        "delta_Ex_rate =  ((Lf_trans @Ai_trans)@Ex_rate).reshape([3,1])\n",
        "\n",
        "print('환율 10% 상승시 물가변동 : \\n', delta_Ex_rate)"
      ],
      "metadata": {
        "id": "CCXNMfyywHOe",
        "outputId": "32febaad-71b1-4761-aa25-0a35c85d5faa",
        "colab": {
          "base_uri": "https://localhost:8080/"
        }
      },
      "execution_count": 26,
      "outputs": [
        {
          "output_type": "stream",
          "name": "stdout",
          "text": [
            "환율 10% 상승시 물가변동 : \n",
            " [[1.26518396]\n",
            " [3.43337764]\n",
            " [1.33566247]]\n"
          ]
        }
      ]
    },
    {
      "cell_type": "markdown",
      "source": [
        "### 환율변동과 수입농산품 효과"
      ],
      "metadata": {
        "id": "0WkcHZexaNNy"
      }
    },
    {
      "cell_type": "code",
      "source": [
        "Ex_arg = np.array([21,10,10]).reshape([3,1]) # 환율 10% 및 수입농산품 10% 상승\n",
        "delta_Ex_arg =  ((Lf_trans @Ai_trans)@Ex_arg).reshape([3,1])\n",
        "\n",
        "print('환율 및 수입농 10% 상승시 물가변동 : \\n', delta_Ex_arg )"
      ],
      "metadata": {
        "id": "7vAsci-laUKC",
        "outputId": "3a857df4-b5c1-47b2-b39e-adba27ade302",
        "colab": {
          "base_uri": "https://localhost:8080/"
        }
      },
      "execution_count": 27,
      "outputs": [
        {
          "output_type": "stream",
          "name": "stdout",
          "text": [
            "환율 및 수입농 10% 상승시 물가변동 : \n",
            " [[1.28574987]\n",
            " [3.50157309]\n",
            " [1.35405659]]\n"
          ]
        }
      ]
    },
    {
      "cell_type": "code",
      "source": [
        "#pandas로 내보내기\n",
        "\n",
        "df_delta_all_Pw = pd.DataFrame(delta_all_Pw.round(3),columns = ['물가상승률'], index=['농산품', '공산품', '서비스'])  # 모든 부문의 임금 10% 상승\n",
        "df_delta_par_Pw = pd.DataFrame(delta_par_Pw.round(3),columns = ['물가상승률'], index=['농산품', '공산품', '서비스'])  # 공산품 부문의 임금 10% 상승\n",
        "df_delta_serv_Pw = pd.DataFrame(delta_serv_Pw.round(3),columns = ['물가상승률'], index=['농산품', '서비스'])        # 서비스 물가 10% 상승\n",
        "df_delta_imp_Pw = pd.DataFrame(delta_imp_Pw.round(3),columns = ['물가상승률'], index=['농산품', '공산품', '서비스'])   # 수입 농산품 물가 10% 상승\n",
        "df_delta_Ex_rate = pd.DataFrame(delta_Ex_rate.round(3),columns = ['물가상승률'], index=['농산품', '공산품', '서비스'])   # 환율 10% 상승\n",
        "df_delta_Ex_arg = pd.DataFrame(delta_Ex_arg.round(3),columns = ['물가상승률'], index=['농산품', '공산품', '서비스'])   # 환율 및 수입농산품 10% 상승"
      ],
      "metadata": {
        "id": "Njxfr_mbHtnA"
      },
      "execution_count": 28,
      "outputs": []
    },
    {
      "cell_type": "code",
      "source": [
        "df_delta_all_Pw.to_csv('모든 부문 임금 10% 상승.csv')\n",
        "df_delta_par_Pw.to_csv('공산품 부문 임금 10% 상승.csv')\n",
        "df_delta_serv_Pw.to_csv('서비스 물가 10% 상승.csv')\n",
        "df_delta_imp_Pw.to_csv('수입 농산품 물가 10% 상승.csv')\n",
        "df_delta_Ex_rate.to_csv('환율 10% 상승.csv')\n",
        "df_delta_Ex_arg.to_csv('환율 및 수입농산품 10% 상승.csv')"
      ],
      "metadata": {
        "id": "Q0fXvrqKKjRH"
      },
      "execution_count": 29,
      "outputs": []
    },
    {
      "cell_type": "markdown",
      "source": [
        "### 산출 변동요인분해"
      ],
      "metadata": {
        "id": "1X310a-D0eWz"
      }
    },
    {
      "cell_type": "code",
      "source": [
        "# 2015년 거래표 다운로드\n",
        "\n",
        "url_total = \"https://raw.githubusercontent.com/Tom-Jung/IO_with_python/main/data/2015_tot_cst_3secs.csv\"  # 불변 2015년 총거래표(3부문)\n",
        "Tot_cst_15 = pd.read_csv(url_total)\n",
        "\n",
        "url_imp = \"https://raw.githubusercontent.com/Tom-Jung/IO_with_python/main/data/2015_imp_cst_3secs.csv\"  # 불변 2015년 수입거래표(3부문)\n",
        "Imp_cst_15 = pd.read_csv(url_imp)\n",
        "\n",
        "url_dom = \"https://raw.githubusercontent.com/Tom-Jung/IO_with_python/main/data/2015_dom_cst_3secs.csv\"  # 불변 2015년 국산거래표(3부문)\n",
        "Dom_cst_15 = pd.read_csv(url_dom)"
      ],
      "metadata": {
        "id": "WO3Rtqyq0Whr"
      },
      "execution_count": 30,
      "outputs": []
    },
    {
      "cell_type": "code",
      "source": [
        "# 2010년 거래표 다운로드\n",
        "\n",
        "url_total = \"https://raw.githubusercontent.com/Tom-Jung/IO_with_python/main/data/2010_tot_cst_3secs.csv\"  # 불변 2010년 총거래표(3부문)\n",
        "Tot_cst_10 = pd.read_csv(url_total)\n",
        "\n",
        "url_imp = \"https://raw.githubusercontent.com/Tom-Jung/IO_with_python/main/data/2010_imp_cst_3secs.csv\"  # 불변 2010년 수입거래표(3부문)\n",
        "Imp_cst_10 = pd.read_csv(url_imp)\n",
        "\n",
        "url_dom = \"https://raw.githubusercontent.com/Tom-Jung/IO_with_python/main/data/2010_dom_cst_3secs.csv\"  # 불변 2010년 국산거래표(3부문)\n",
        "Dom_cst_10 = pd.read_csv(url_dom)"
      ],
      "metadata": {
        "id": "h3tIgubJ0kmW"
      },
      "execution_count": 31,
      "outputs": []
    },
    {
      "cell_type": "code",
      "source": [
        "S1= Tot_cst_15.iloc[:,1:].to_numpy().astype(float)\n",
        "I1 = Imp_cst_15.iloc[:,1:].to_numpy().astype(float)\n",
        "S0 = Tot_cst_10.iloc[:,1:].to_numpy().astype(float)\n",
        "I0 = Imp_cst_10.iloc[:,1:].to_numpy().astype(float)"
      ],
      "metadata": {
        "id": "hIeYk2IY0nJl"
      },
      "execution_count": 32,
      "outputs": []
    },
    {
      "cell_type": "code",
      "source": [
        "SS1 = np.concatenate((S1[:8,],np.zeros((1,9)), S1[8:10,] ), axis=0)  # 2015년 부가가치 조정항을 0으로 삽입(2010년과 동일한 포맷을 유지"
      ],
      "metadata": {
        "id": "gidEU3nG0pqX"
      },
      "execution_count": 33,
      "outputs": []
    },
    {
      "cell_type": "code",
      "source": [
        "SS0 = S0[0:3,0:3].astype(float)  # 내생항목 3x3\n",
        "SS1 = S1[0:3,0:3].astype(float)\n",
        "SS1.shape"
      ],
      "metadata": {
        "id": "ddXX4Grl0s5_",
        "outputId": "759597df-eeca-4573-dd50-24f314921692",
        "colab": {
          "base_uri": "https://localhost:8080/"
        }
      },
      "execution_count": 34,
      "outputs": [
        {
          "output_type": "execute_result",
          "data": {
            "text/plain": [
              "(3, 3)"
            ]
          },
          "metadata": {},
          "execution_count": 34
        }
      ]
    },
    {
      "cell_type": "code",
      "source": [
        "II0 = I0[0:3,0:3]  # 수입 내생항목 3x3\n",
        "II1 = I1[0:3,0:3]"
      ],
      "metadata": {
        "id": "LT2jtD910u9U"
      },
      "execution_count": 35,
      "outputs": []
    },
    {
      "cell_type": "code",
      "source": [
        "DD0 =SS0 - II0  # 국산 내생항목 3x3\n",
        "DD1 =SS1 - II1\n",
        "DD0"
      ],
      "metadata": {
        "id": "kHDC7W_D0wnT",
        "outputId": "f95efdc9-00c3-4763-9fc8-cfd787dec646",
        "colab": {
          "base_uri": "https://localhost:8080/"
        }
      },
      "execution_count": 36,
      "outputs": [
        {
          "output_type": "execute_result",
          "data": {
            "text/plain": [
              "array([[  4.,  29.,   9.],\n",
              "       [ 17., 510., 235.],\n",
              "       [  5., 209., 427.]])"
            ]
          },
          "metadata": {},
          "execution_count": 36
        }
      ]
    },
    {
      "cell_type": "code",
      "source": [
        "TM0 = I0[0:3,8]  # 총수입벡터\n",
        "TM1 = I1[0:3,8]\n",
        "TM0"
      ],
      "metadata": {
        "id": "lZQF-kam0yA0",
        "outputId": "29cdaa13-a5c3-4cfe-f3c0-f07199b3b685",
        "colab": {
          "base_uri": "https://localhost:8080/"
        }
      },
      "execution_count": 37,
      "outputs": [
        {
          "output_type": "execute_result",
          "data": {
            "text/plain": [
              "array([ 10., 417.,  72.])"
            ]
          },
          "metadata": {},
          "execution_count": 37
        }
      ]
    },
    {
      "cell_type": "code",
      "source": [
        "IM0 = I0[0:3,3]  # 중간재수입벡터\n",
        "IM1 = I1[0:3,3]\n",
        "IM0"
      ],
      "metadata": {
        "id": "K9TsH3W-0z3q",
        "outputId": "6d89e86d-90fb-4c25-9b04-3a1ccd2fa966",
        "colab": {
          "base_uri": "https://localhost:8080/"
        }
      },
      "execution_count": 38,
      "outputs": [
        {
          "output_type": "execute_result",
          "data": {
            "text/plain": [
              "array([  8., 325.,  48.])"
            ]
          },
          "metadata": {},
          "execution_count": 38
        }
      ]
    },
    {
      "cell_type": "code",
      "source": [
        "IF0 = I0[0:3,7]  # 최종재수입벡터\n",
        "IF1 = I1[0:3,7]\n",
        "IF0"
      ],
      "metadata": {
        "id": "gsK5qIsm000r",
        "outputId": "6d6cb12d-b284-4376-e35a-459915b71e7b",
        "colab": {
          "base_uri": "https://localhost:8080/"
        }
      },
      "execution_count": 39,
      "outputs": [
        {
          "output_type": "execute_result",
          "data": {
            "text/plain": [
              "array([ 2., 92., 24.])"
            ]
          },
          "metadata": {},
          "execution_count": 39
        }
      ]
    },
    {
      "cell_type": "code",
      "source": [
        "SFC0 = S0[0:3,4]  # 최종수요-소비\n",
        "SFC1 = S1[0:3,4]\n",
        "SFC0"
      ],
      "metadata": {
        "id": "D47Za_n0003W",
        "outputId": "8e40857d-c06e-468a-a9a0-cf7311cf69c2",
        "colab": {
          "base_uri": "https://localhost:8080/"
        }
      },
      "execution_count": 40,
      "outputs": [
        {
          "output_type": "execute_result",
          "data": {
            "text/plain": [
              "array([ 16., 166., 740.])"
            ]
          },
          "metadata": {},
          "execution_count": 40
        }
      ]
    },
    {
      "cell_type": "code",
      "source": [
        "SFI0 = S0[0:3,5] # 최종수요-투자\n",
        "SFI1 = S1[0:3,5]\n",
        "SFI0"
      ],
      "metadata": {
        "id": "EuRJyN9e06je",
        "outputId": "28a8bf3e-dca5-475d-f349-85b823b5cbe3",
        "colab": {
          "base_uri": "https://localhost:8080/"
        }
      },
      "execution_count": 41,
      "outputs": [
        {
          "output_type": "execute_result",
          "data": {
            "text/plain": [
              "array([  3., 138., 310.])"
            ]
          },
          "metadata": {},
          "execution_count": 41
        }
      ]
    },
    {
      "cell_type": "code",
      "source": [
        "SF0 = S0[0:3,7] # 최종수요합계\n",
        "SF1 = S1[0:3,7]\n",
        "SF0"
      ],
      "metadata": {
        "id": "WVOr2EAb076S",
        "outputId": "df06d7ed-498e-42ec-c71e-691474ea0a3e",
        "colab": {
          "base_uri": "https://localhost:8080/"
        }
      },
      "execution_count": 42,
      "outputs": [
        {
          "output_type": "execute_result",
          "data": {
            "text/plain": [
              "array([  20.,  761., 1129.])"
            ]
          },
          "metadata": {},
          "execution_count": 42
        }
      ]
    },
    {
      "cell_type": "code",
      "source": [
        "EX0 = S0[0:3,6] # 수출\n",
        "EX1 = S1[0:3,6]\n",
        "EX0"
      ],
      "metadata": {
        "id": "fWkR6KkJ09iC",
        "outputId": "11b0d60f-0c09-430c-bae7-a97724188a89",
        "colab": {
          "base_uri": "https://localhost:8080/"
        }
      },
      "execution_count": 43,
      "outputs": [
        {
          "output_type": "execute_result",
          "data": {
            "text/plain": [
              "array([  1., 457.,  79.])"
            ]
          },
          "metadata": {},
          "execution_count": 43
        }
      ]
    },
    {
      "cell_type": "code",
      "source": [
        "DF0 = SF0 - EX0 #소비+투자\n",
        "DF1 = SF1 - EX1\n",
        "DF0"
      ],
      "metadata": {
        "id": "XD7qXyvw0_ke",
        "outputId": "b17c5eaa-48d0-4d1e-ccfe-e9fb6798dc8b",
        "colab": {
          "base_uri": "https://localhost:8080/"
        }
      },
      "execution_count": 44,
      "outputs": [
        {
          "output_type": "execute_result",
          "data": {
            "text/plain": [
              "array([  19.,  304., 1050.])"
            ]
          },
          "metadata": {},
          "execution_count": 44
        }
      ]
    },
    {
      "cell_type": "code",
      "source": [
        "SFC00 = SFC0.sum(axis=0) # 소비합계\n",
        "SFC11 = SFC1.sum(axis=0)\n",
        "\n",
        "SFI00 = SFI0.sum(axis=0) # 투자합계\n",
        "SFI11 = SFI1.sum(axis=0)\n",
        "\n",
        "EX00 = EX0.sum(axis=0) # 수출합계\n",
        "EX11 = EX1.sum(axis=0)\n",
        "\n",
        "print('2010년 소비합계 : ', SFC00)\n",
        "print('2015년 소비합계 : ', SFC11)\n",
        "\n",
        "print('2010년 투자합계 : ', SFI00)\n",
        "print('2015년 투자합계 : ', SFI11)\n",
        "\n",
        "print('2010년 수출합계 : ', EX00)\n",
        "print('2015년 수출합계 : ', EX11)\n"
      ],
      "metadata": {
        "id": "DednaCRg1A7u",
        "outputId": "848246f6-cce0-406f-a6ef-879e7c852c56",
        "colab": {
          "base_uri": "https://localhost:8080/"
        }
      },
      "execution_count": 45,
      "outputs": [
        {
          "output_type": "stream",
          "name": "stdout",
          "text": [
            "2010년 소비합계 :  922.0\n",
            "2015년 소비합계 :  1055.0\n",
            "2010년 투자합계 :  451.0\n",
            "2015년 투자합계 :  490.0\n",
            "2010년 수출합계 :  537.0\n",
            "2015년 수출합계 :  718.0\n"
          ]
        }
      ]
    },
    {
      "cell_type": "code",
      "source": [
        "GDC1 = ((SFC11 - SFC00)/ SFC00) # 소비증가율\n",
        "GDC2 = GDC1*SFC0  # 규모효과\n",
        "GDC3 = (SFC1-SFC0) - GDC2 # 구조효과"
      ],
      "metadata": {
        "id": "fhNv7VgQ1C-P"
      },
      "execution_count": 46,
      "outputs": []
    },
    {
      "cell_type": "code",
      "source": [
        "GDI1 = ((SFI11 - SFI00)/ SFI00) # 투자증가율\n",
        "GDI2 = GDI1*SFI0 # 규모효과\n",
        "GDI3 = (SFI1-SFI0) - GDI2 # 구조효과"
      ],
      "metadata": {
        "id": "5cop9gcJ1Es8"
      },
      "execution_count": 47,
      "outputs": []
    },
    {
      "cell_type": "code",
      "source": [
        "ED1 = ((EX11 - EX00)/EX00) # 수출증가율\n",
        "ED2 = ED1*EX0 # 규모효과\n",
        "ED3 = (EX1-EX0) - ED2 # 구조효과"
      ],
      "metadata": {
        "id": "Hk0mRtL51GQJ"
      },
      "execution_count": 48,
      "outputs": []
    },
    {
      "cell_type": "code",
      "source": [
        "C0 = S0[-1,0:3].T.reshape([3,1])  # 총산출액\n",
        "C1 = S1[-1,0:3].T.reshape([3,1])\n",
        "C0"
      ],
      "metadata": {
        "id": "aB4Xm-AX1IHC",
        "outputId": "c83149eb-3f8f-4bf7-826f-24af557e10d2",
        "colab": {
          "base_uri": "https://localhost:8080/"
        }
      },
      "execution_count": 49,
      "outputs": [
        {
          "output_type": "execute_result",
          "data": {
            "text/plain": [
              "array([[  60.],\n",
              "       [1431.],\n",
              "       [1746.]])"
            ]
          },
          "metadata": {},
          "execution_count": 49
        }
      ]
    },
    {
      "cell_type": "code",
      "source": [
        "TC0 = C0.sum(axis=0)  #총산출계\n",
        "TC1 = C1.sum(axis=0)\n",
        "TC0"
      ],
      "metadata": {
        "id": "8klyp15F1KGH",
        "outputId": "78f42862-255f-4bae-9b86-de756a13a808",
        "colab": {
          "base_uri": "https://localhost:8080/"
        }
      },
      "execution_count": 50,
      "outputs": [
        {
          "output_type": "execute_result",
          "data": {
            "text/plain": [
              "array([3237.])"
            ]
          },
          "metadata": {},
          "execution_count": 50
        }
      ]
    },
    {
      "cell_type": "code",
      "source": [
        "V0 = S0[-1,0:3].T - S0[3,0:3].T # 부가가치계벡터 = 총투입액 - 중간투입계\n",
        "V1 = S1[-1,0:3].T - S1[3,0:3].T\n",
        "V1"
      ],
      "metadata": {
        "id": "QQHzmuDP1MMd",
        "outputId": "dd9b094b-cb8a-463f-814b-478ae7042c2c",
        "colab": {
          "base_uri": "https://localhost:8080/"
        }
      },
      "execution_count": 51,
      "outputs": [
        {
          "output_type": "execute_result",
          "data": {
            "text/plain": [
              "array([  34.,  486., 1120.])"
            ]
          },
          "metadata": {},
          "execution_count": 51
        }
      ]
    },
    {
      "cell_type": "code",
      "source": [
        "AV0 = V0/C0 # 부가가치계수\n",
        "AV1 = V1/C1\n",
        "AV1"
      ],
      "metadata": {
        "id": "7gYWaDmP1N0F",
        "outputId": "1b03ba09-29df-43b7-eb21-efab131337bd",
        "colab": {
          "base_uri": "https://localhost:8080/"
        }
      },
      "execution_count": 52,
      "outputs": [
        {
          "output_type": "execute_result",
          "data": {
            "text/plain": [
              "array([[5.48387097e-01, 7.83870968e+00, 1.80645161e+01],\n",
              "       [1.98482195e-02, 2.83712785e-01, 6.53823701e-01],\n",
              "       [1.65208941e-02, 2.36151603e-01, 5.44217687e-01]])"
            ]
          },
          "metadata": {},
          "execution_count": 52
        }
      ]
    },
    {
      "cell_type": "code",
      "source": [
        "CT0 = np.tile(C0, reps=[1,3])   # Ct벡터를 반복해여 행렬(3x3)로 만듬\n",
        "CT1 = np.tile(C1, reps=[1,3])\n",
        "CT1"
      ],
      "metadata": {
        "id": "xl-TqC1L1PpI",
        "outputId": "bcd137e2-8812-47a9-c41f-33df84d1500e",
        "colab": {
          "base_uri": "https://localhost:8080/"
        }
      },
      "execution_count": 53,
      "outputs": [
        {
          "output_type": "execute_result",
          "data": {
            "text/plain": [
              "array([[  62.,   62.,   62.],\n",
              "       [1713., 1713., 1713.],\n",
              "       [2058., 2058., 2058.]])"
            ]
          },
          "metadata": {},
          "execution_count": 53
        }
      ]
    },
    {
      "cell_type": "code",
      "source": [
        "AS0 = SS0/CT0.T # 총투입계수표\n",
        "AS1 = SS1/CT1.T\n",
        "# np.isnan(AS_t)"
      ],
      "metadata": {
        "id": "OVcML11X1R7m"
      },
      "execution_count": 54,
      "outputs": []
    },
    {
      "cell_type": "code",
      "source": [
        "AD0 = DD0/CT0.T # 국산투입계수표\n",
        "AD1 = DD1/CT1.T"
      ],
      "metadata": {
        "id": "OqDyf3K-1UDc"
      },
      "execution_count": 55,
      "outputs": []
    },
    {
      "cell_type": "code",
      "source": [
        "II0 = AS0-AD0 # 수입투입계수표\n",
        "II1 = AS1-AD1"
      ],
      "metadata": {
        "id": "98zvFVH51VwC"
      },
      "execution_count": 56,
      "outputs": []
    },
    {
      "cell_type": "code",
      "source": [
        "M0 = IF0/DF0 # 수입최종수요/(소비+투자)\n",
        "M0 = np.diag(M0)\n",
        "\n",
        "M1 = IF1/DF1\n",
        "M1 = np.diag(M1)"
      ],
      "metadata": {
        "id": "9aTIOYXT1Yuw"
      },
      "execution_count": 60,
      "outputs": []
    },
    {
      "cell_type": "code",
      "source": [
        "RD0 = np.linalg.inv(np.eye(3) - AD0) # 생산유발계수\n",
        "RD1 = np.linalg.inv(np.eye(3) - AD1)"
      ],
      "metadata": {
        "id": "fogw4rRd1aRK"
      },
      "execution_count": 61,
      "outputs": []
    },
    {
      "cell_type": "code",
      "source": [
        "AM0 = II0/AS0 #조정항목\n",
        "AM0 = AM0*AS1\n",
        "\n",
        "AM1 = II1/AS1\n",
        "AM1 = AM1*AS0"
      ],
      "metadata": {
        "id": "nToA-AXA11Sn"
      },
      "execution_count": 62,
      "outputs": []
    },
    {
      "cell_type": "code",
      "source": [
        "AA = AS1 - AS0 #투입계수변화\n",
        "AS1_f = pd.DataFrame(AS1)\n",
        "AS1_f.to_csv('AS1_f.csv')"
      ],
      "metadata": {
        "id": "SbgZU3581205"
      },
      "execution_count": 63,
      "outputs": []
    },
    {
      "cell_type": "markdown",
      "source": [
        "#### 산출액성장요인분해\n",
        "-  파쉐 및 라스파이레스 방식으로 산출액 변동을 분해하여 평균으로 성장요인을 분해\n",
        "- 파쉐 방식"
      ],
      "metadata": {
        "id": "7B9feesi16bM"
      }
    },
    {
      "cell_type": "code",
      "source": [
        "TQS=(RD1@(np.eye(3)-M1))@(DF1-DF0).reshape([3,1]) # 국내최종수요증감효과\n",
        "TQS"
      ],
      "metadata": {
        "id": "dMi2-Rx215z9",
        "outputId": "f210844f-b56c-4af4-d2b5-e3118fb17608",
        "colab": {
          "base_uri": "https://localhost:8080/"
        }
      },
      "execution_count": 64,
      "outputs": [
        {
          "output_type": "execute_result",
          "data": {
            "text/plain": [
              "array([[  2.38510022],\n",
              "       [ 61.62837687],\n",
              "       [215.97946683]])"
            ]
          },
          "metadata": {},
          "execution_count": 64
        }
      ]
    },
    {
      "cell_type": "code",
      "source": [
        "TTE= RD1@(EX1-EX0).reshape([3,1]) # 수출효과\n",
        "TTE"
      ],
      "metadata": {
        "id": "ILRlemFF1_Dq",
        "outputId": "9b92f2f9-edc6-443b-9b49-9b1dd1f19eb9",
        "colab": {
          "base_uri": "https://localhost:8080/"
        }
      },
      "execution_count": 75,
      "outputs": [
        {
          "output_type": "execute_result",
          "data": {
            "text/plain": [
              "array([[  5.36844407],\n",
              "       [256.66813339],\n",
              "       [ 86.76931313]])"
            ]
          },
          "metadata": {},
          "execution_count": 75
        }
      ]
    },
    {
      "cell_type": "code",
      "source": [
        "T3 = ((RD1@(M1 - M0))@DF0).reshape([3,1]) # 최종재수입대체효과\n",
        "T3 = T3*-1\n",
        "T4 = ((RD1@(AM1 - II0)))@C0[0:3,] # 중간재수입대체효과\n",
        "T4 = T4*-1\n",
        "T34 = T3 + T4\n",
        "TI = np.concatenate((T34, T3, T4), axis=1)\n",
        "T34"
      ],
      "metadata": {
        "id": "5TjwZTB52ArA",
        "outputId": "fd8a5dcc-a40a-4dfa-ed97-be5547a7ceff",
        "colab": {
          "base_uri": "https://localhost:8080/"
        }
      },
      "execution_count": 66,
      "outputs": [
        {
          "output_type": "execute_result",
          "data": {
            "text/plain": [
              "array([[ -2.2227443 ],\n",
              "       [-43.08542286],\n",
              "       [-21.98890467]])"
            ]
          },
          "metadata": {},
          "execution_count": 66
        }
      ]
    },
    {
      "cell_type": "code",
      "source": [
        "T5 = (RD1@(AA-(II1-AM1)))@C0 # 기술변화효과\n",
        "T5.shape\n",
        "T5"
      ],
      "metadata": {
        "id": "TduotUTM2CP4",
        "outputId": "9ddfa1d3-6562-496a-d4e4-cb953ec51fc6",
        "colab": {
          "base_uri": "https://localhost:8080/"
        }
      },
      "execution_count": 67,
      "outputs": [
        {
          "output_type": "execute_result",
          "data": {
            "text/plain": [
              "array([[-3.53079999],\n",
              "       [ 6.78891261],\n",
              "       [31.2401247 ]])"
            ]
          },
          "metadata": {},
          "execution_count": 67
        }
      ]
    },
    {
      "cell_type": "code",
      "source": [
        "DCT0 = C1-C0  #산출액 실질변동액\n",
        "DCT1 = TQS + TTE + T3 + T4 + T5 # 총변동요인\n",
        "DCT = DCT0-DCT1\n",
        "DCT0"
      ],
      "metadata": {
        "id": "D3dZzx7s2D1C",
        "outputId": "426fcdc4-61c6-4d11-8789-8a5ebd6ece81",
        "colab": {
          "base_uri": "https://localhost:8080/"
        }
      },
      "execution_count": 68,
      "outputs": [
        {
          "output_type": "execute_result",
          "data": {
            "text/plain": [
              "array([[  2.],\n",
              "       [282.],\n",
              "       [312.]])"
            ]
          },
          "metadata": {},
          "execution_count": 68
        }
      ]
    },
    {
      "cell_type": "code",
      "source": [
        "SUM = np.concatenate((DCT0, DCT1, DCT, TQS, TTE, T3, T4, T5), axis=1)\n",
        "SUM.shape\n",
        "SUM1 = np.sum(SUM, axis=0).reshape([1,8])\n",
        "PGD1015_f = (np.concatenate((SUM, SUM1), axis=0))\n",
        "print(PGD1015_f.round(3))"
      ],
      "metadata": {
        "id": "L6HeTBQP2FR6",
        "outputId": "77df58e9-0970-43d2-adaf-524f252082c9",
        "colab": {
          "base_uri": "https://localhost:8080/"
        }
      },
      "execution_count": 69,
      "outputs": [
        {
          "output_type": "stream",
          "name": "stdout",
          "text": [
            "[[  2.      2.     -0.      2.385   5.368  -1.505  -0.717  -3.531]\n",
            " [282.    282.     -0.     61.628 256.668 -19.78  -23.305   6.789]\n",
            " [312.    312.     -0.    215.979  86.769 -13.936  -8.053  31.24 ]\n",
            " [596.    596.     -0.    279.993 348.806 -35.221 -32.076  34.498]]\n"
          ]
        }
      ]
    },
    {
      "cell_type": "code",
      "source": [
        "PGD1015_ff = pd.DataFrame(PGD1015_f.round(3),columns = ['15-10산출액(A)', '요인별합계(B)', 'B-A', '국내최종수요증감액', '수출', '최종재수입','중간재수입', '기술변화'],\n",
        "\n",
        "                         index=['농산품', '공산품', '서비스', '계'])  # pandas로 내보내기"
      ],
      "metadata": {
        "id": "E-sAxgPT2IZt"
      },
      "execution_count": 70,
      "outputs": []
    },
    {
      "cell_type": "code",
      "source": [
        "PGD1015_ff"
      ],
      "metadata": {
        "id": "yRhJiFiH2KQE",
        "outputId": "f5f8f000-4092-43c4-83d2-da003fc77d04",
        "colab": {
          "base_uri": "https://localhost:8080/",
          "height": 175
        }
      },
      "execution_count": 71,
      "outputs": [
        {
          "output_type": "execute_result",
          "data": {
            "text/plain": [
              "     15-10산출액(A)  요인별합계(B)  B-A  국내최종수요증감액       수출   최종재수입   중간재수입    기술변화\n",
              "농산품          2.0       2.0 -0.0      2.385    5.368  -1.505  -0.717  -3.531\n",
              "공산품        282.0     282.0 -0.0     61.628  256.668 -19.780 -23.305   6.789\n",
              "서비스        312.0     312.0 -0.0    215.979   86.769 -13.936  -8.053  31.240\n",
              "계          596.0     596.0 -0.0    279.993  348.806 -35.221 -32.076  34.498"
            ],
            "text/html": [
              "\n",
              "  <div id=\"df-ef382fe7-6548-4568-a242-f42ec330cf24\" class=\"colab-df-container\">\n",
              "    <div>\n",
              "<style scoped>\n",
              "    .dataframe tbody tr th:only-of-type {\n",
              "        vertical-align: middle;\n",
              "    }\n",
              "\n",
              "    .dataframe tbody tr th {\n",
              "        vertical-align: top;\n",
              "    }\n",
              "\n",
              "    .dataframe thead th {\n",
              "        text-align: right;\n",
              "    }\n",
              "</style>\n",
              "<table border=\"1\" class=\"dataframe\">\n",
              "  <thead>\n",
              "    <tr style=\"text-align: right;\">\n",
              "      <th></th>\n",
              "      <th>15-10산출액(A)</th>\n",
              "      <th>요인별합계(B)</th>\n",
              "      <th>B-A</th>\n",
              "      <th>국내최종수요증감액</th>\n",
              "      <th>수출</th>\n",
              "      <th>최종재수입</th>\n",
              "      <th>중간재수입</th>\n",
              "      <th>기술변화</th>\n",
              "    </tr>\n",
              "  </thead>\n",
              "  <tbody>\n",
              "    <tr>\n",
              "      <th>농산품</th>\n",
              "      <td>2.0</td>\n",
              "      <td>2.0</td>\n",
              "      <td>-0.0</td>\n",
              "      <td>2.385</td>\n",
              "      <td>5.368</td>\n",
              "      <td>-1.505</td>\n",
              "      <td>-0.717</td>\n",
              "      <td>-3.531</td>\n",
              "    </tr>\n",
              "    <tr>\n",
              "      <th>공산품</th>\n",
              "      <td>282.0</td>\n",
              "      <td>282.0</td>\n",
              "      <td>-0.0</td>\n",
              "      <td>61.628</td>\n",
              "      <td>256.668</td>\n",
              "      <td>-19.780</td>\n",
              "      <td>-23.305</td>\n",
              "      <td>6.789</td>\n",
              "    </tr>\n",
              "    <tr>\n",
              "      <th>서비스</th>\n",
              "      <td>312.0</td>\n",
              "      <td>312.0</td>\n",
              "      <td>-0.0</td>\n",
              "      <td>215.979</td>\n",
              "      <td>86.769</td>\n",
              "      <td>-13.936</td>\n",
              "      <td>-8.053</td>\n",
              "      <td>31.240</td>\n",
              "    </tr>\n",
              "    <tr>\n",
              "      <th>계</th>\n",
              "      <td>596.0</td>\n",
              "      <td>596.0</td>\n",
              "      <td>-0.0</td>\n",
              "      <td>279.993</td>\n",
              "      <td>348.806</td>\n",
              "      <td>-35.221</td>\n",
              "      <td>-32.076</td>\n",
              "      <td>34.498</td>\n",
              "    </tr>\n",
              "  </tbody>\n",
              "</table>\n",
              "</div>\n",
              "    <div class=\"colab-df-buttons\">\n",
              "\n",
              "  <div class=\"colab-df-container\">\n",
              "    <button class=\"colab-df-convert\" onclick=\"convertToInteractive('df-ef382fe7-6548-4568-a242-f42ec330cf24')\"\n",
              "            title=\"Convert this dataframe to an interactive table.\"\n",
              "            style=\"display:none;\">\n",
              "\n",
              "  <svg xmlns=\"http://www.w3.org/2000/svg\" height=\"24px\" viewBox=\"0 -960 960 960\">\n",
              "    <path d=\"M120-120v-720h720v720H120Zm60-500h600v-160H180v160Zm220 220h160v-160H400v160Zm0 220h160v-160H400v160ZM180-400h160v-160H180v160Zm440 0h160v-160H620v160ZM180-180h160v-160H180v160Zm440 0h160v-160H620v160Z\"/>\n",
              "  </svg>\n",
              "    </button>\n",
              "\n",
              "  <style>\n",
              "    .colab-df-container {\n",
              "      display:flex;\n",
              "      gap: 12px;\n",
              "    }\n",
              "\n",
              "    .colab-df-convert {\n",
              "      background-color: #E8F0FE;\n",
              "      border: none;\n",
              "      border-radius: 50%;\n",
              "      cursor: pointer;\n",
              "      display: none;\n",
              "      fill: #1967D2;\n",
              "      height: 32px;\n",
              "      padding: 0 0 0 0;\n",
              "      width: 32px;\n",
              "    }\n",
              "\n",
              "    .colab-df-convert:hover {\n",
              "      background-color: #E2EBFA;\n",
              "      box-shadow: 0px 1px 2px rgba(60, 64, 67, 0.3), 0px 1px 3px 1px rgba(60, 64, 67, 0.15);\n",
              "      fill: #174EA6;\n",
              "    }\n",
              "\n",
              "    .colab-df-buttons div {\n",
              "      margin-bottom: 4px;\n",
              "    }\n",
              "\n",
              "    [theme=dark] .colab-df-convert {\n",
              "      background-color: #3B4455;\n",
              "      fill: #D2E3FC;\n",
              "    }\n",
              "\n",
              "    [theme=dark] .colab-df-convert:hover {\n",
              "      background-color: #434B5C;\n",
              "      box-shadow: 0px 1px 3px 1px rgba(0, 0, 0, 0.15);\n",
              "      filter: drop-shadow(0px 1px 2px rgba(0, 0, 0, 0.3));\n",
              "      fill: #FFFFFF;\n",
              "    }\n",
              "  </style>\n",
              "\n",
              "    <script>\n",
              "      const buttonEl =\n",
              "        document.querySelector('#df-ef382fe7-6548-4568-a242-f42ec330cf24 button.colab-df-convert');\n",
              "      buttonEl.style.display =\n",
              "        google.colab.kernel.accessAllowed ? 'block' : 'none';\n",
              "\n",
              "      async function convertToInteractive(key) {\n",
              "        const element = document.querySelector('#df-ef382fe7-6548-4568-a242-f42ec330cf24');\n",
              "        const dataTable =\n",
              "          await google.colab.kernel.invokeFunction('convertToInteractive',\n",
              "                                                    [key], {});\n",
              "        if (!dataTable) return;\n",
              "\n",
              "        const docLinkHtml = 'Like what you see? Visit the ' +\n",
              "          '<a target=\"_blank\" href=https://colab.research.google.com/notebooks/data_table.ipynb>data table notebook</a>'\n",
              "          + ' to learn more about interactive tables.';\n",
              "        element.innerHTML = '';\n",
              "        dataTable['output_type'] = 'display_data';\n",
              "        await google.colab.output.renderOutput(dataTable, element);\n",
              "        const docLink = document.createElement('div');\n",
              "        docLink.innerHTML = docLinkHtml;\n",
              "        element.appendChild(docLink);\n",
              "      }\n",
              "    </script>\n",
              "  </div>\n",
              "\n",
              "\n",
              "<div id=\"df-dba19c7c-2b9a-406d-aa44-edf7b3cac12e\">\n",
              "  <button class=\"colab-df-quickchart\" onclick=\"quickchart('df-dba19c7c-2b9a-406d-aa44-edf7b3cac12e')\"\n",
              "            title=\"Suggest charts\"\n",
              "            style=\"display:none;\">\n",
              "\n",
              "<svg xmlns=\"http://www.w3.org/2000/svg\" height=\"24px\"viewBox=\"0 0 24 24\"\n",
              "     width=\"24px\">\n",
              "    <g>\n",
              "        <path d=\"M19 3H5c-1.1 0-2 .9-2 2v14c0 1.1.9 2 2 2h14c1.1 0 2-.9 2-2V5c0-1.1-.9-2-2-2zM9 17H7v-7h2v7zm4 0h-2V7h2v10zm4 0h-2v-4h2v4z\"/>\n",
              "    </g>\n",
              "</svg>\n",
              "  </button>\n",
              "\n",
              "<style>\n",
              "  .colab-df-quickchart {\n",
              "      --bg-color: #E8F0FE;\n",
              "      --fill-color: #1967D2;\n",
              "      --hover-bg-color: #E2EBFA;\n",
              "      --hover-fill-color: #174EA6;\n",
              "      --disabled-fill-color: #AAA;\n",
              "      --disabled-bg-color: #DDD;\n",
              "  }\n",
              "\n",
              "  [theme=dark] .colab-df-quickchart {\n",
              "      --bg-color: #3B4455;\n",
              "      --fill-color: #D2E3FC;\n",
              "      --hover-bg-color: #434B5C;\n",
              "      --hover-fill-color: #FFFFFF;\n",
              "      --disabled-bg-color: #3B4455;\n",
              "      --disabled-fill-color: #666;\n",
              "  }\n",
              "\n",
              "  .colab-df-quickchart {\n",
              "    background-color: var(--bg-color);\n",
              "    border: none;\n",
              "    border-radius: 50%;\n",
              "    cursor: pointer;\n",
              "    display: none;\n",
              "    fill: var(--fill-color);\n",
              "    height: 32px;\n",
              "    padding: 0;\n",
              "    width: 32px;\n",
              "  }\n",
              "\n",
              "  .colab-df-quickchart:hover {\n",
              "    background-color: var(--hover-bg-color);\n",
              "    box-shadow: 0 1px 2px rgba(60, 64, 67, 0.3), 0 1px 3px 1px rgba(60, 64, 67, 0.15);\n",
              "    fill: var(--button-hover-fill-color);\n",
              "  }\n",
              "\n",
              "  .colab-df-quickchart-complete:disabled,\n",
              "  .colab-df-quickchart-complete:disabled:hover {\n",
              "    background-color: var(--disabled-bg-color);\n",
              "    fill: var(--disabled-fill-color);\n",
              "    box-shadow: none;\n",
              "  }\n",
              "\n",
              "  .colab-df-spinner {\n",
              "    border: 2px solid var(--fill-color);\n",
              "    border-color: transparent;\n",
              "    border-bottom-color: var(--fill-color);\n",
              "    animation:\n",
              "      spin 1s steps(1) infinite;\n",
              "  }\n",
              "\n",
              "  @keyframes spin {\n",
              "    0% {\n",
              "      border-color: transparent;\n",
              "      border-bottom-color: var(--fill-color);\n",
              "      border-left-color: var(--fill-color);\n",
              "    }\n",
              "    20% {\n",
              "      border-color: transparent;\n",
              "      border-left-color: var(--fill-color);\n",
              "      border-top-color: var(--fill-color);\n",
              "    }\n",
              "    30% {\n",
              "      border-color: transparent;\n",
              "      border-left-color: var(--fill-color);\n",
              "      border-top-color: var(--fill-color);\n",
              "      border-right-color: var(--fill-color);\n",
              "    }\n",
              "    40% {\n",
              "      border-color: transparent;\n",
              "      border-right-color: var(--fill-color);\n",
              "      border-top-color: var(--fill-color);\n",
              "    }\n",
              "    60% {\n",
              "      border-color: transparent;\n",
              "      border-right-color: var(--fill-color);\n",
              "    }\n",
              "    80% {\n",
              "      border-color: transparent;\n",
              "      border-right-color: var(--fill-color);\n",
              "      border-bottom-color: var(--fill-color);\n",
              "    }\n",
              "    90% {\n",
              "      border-color: transparent;\n",
              "      border-bottom-color: var(--fill-color);\n",
              "    }\n",
              "  }\n",
              "</style>\n",
              "\n",
              "  <script>\n",
              "    async function quickchart(key) {\n",
              "      const quickchartButtonEl =\n",
              "        document.querySelector('#' + key + ' button');\n",
              "      quickchartButtonEl.disabled = true;  // To prevent multiple clicks.\n",
              "      quickchartButtonEl.classList.add('colab-df-spinner');\n",
              "      try {\n",
              "        const charts = await google.colab.kernel.invokeFunction(\n",
              "            'suggestCharts', [key], {});\n",
              "      } catch (error) {\n",
              "        console.error('Error during call to suggestCharts:', error);\n",
              "      }\n",
              "      quickchartButtonEl.classList.remove('colab-df-spinner');\n",
              "      quickchartButtonEl.classList.add('colab-df-quickchart-complete');\n",
              "    }\n",
              "    (() => {\n",
              "      let quickchartButtonEl =\n",
              "        document.querySelector('#df-dba19c7c-2b9a-406d-aa44-edf7b3cac12e button');\n",
              "      quickchartButtonEl.style.display =\n",
              "        google.colab.kernel.accessAllowed ? 'block' : 'none';\n",
              "    })();\n",
              "  </script>\n",
              "</div>\n",
              "\n",
              "  <div id=\"id_7fc3ab8b-1ba8-4756-9121-93a0ecc58529\">\n",
              "    <style>\n",
              "      .colab-df-generate {\n",
              "        background-color: #E8F0FE;\n",
              "        border: none;\n",
              "        border-radius: 50%;\n",
              "        cursor: pointer;\n",
              "        display: none;\n",
              "        fill: #1967D2;\n",
              "        height: 32px;\n",
              "        padding: 0 0 0 0;\n",
              "        width: 32px;\n",
              "      }\n",
              "\n",
              "      .colab-df-generate:hover {\n",
              "        background-color: #E2EBFA;\n",
              "        box-shadow: 0px 1px 2px rgba(60, 64, 67, 0.3), 0px 1px 3px 1px rgba(60, 64, 67, 0.15);\n",
              "        fill: #174EA6;\n",
              "      }\n",
              "\n",
              "      [theme=dark] .colab-df-generate {\n",
              "        background-color: #3B4455;\n",
              "        fill: #D2E3FC;\n",
              "      }\n",
              "\n",
              "      [theme=dark] .colab-df-generate:hover {\n",
              "        background-color: #434B5C;\n",
              "        box-shadow: 0px 1px 3px 1px rgba(0, 0, 0, 0.15);\n",
              "        filter: drop-shadow(0px 1px 2px rgba(0, 0, 0, 0.3));\n",
              "        fill: #FFFFFF;\n",
              "      }\n",
              "    </style>\n",
              "    <button class=\"colab-df-generate\" onclick=\"generateWithVariable('PGD1015_ff')\"\n",
              "            title=\"Generate code using this dataframe.\"\n",
              "            style=\"display:none;\">\n",
              "\n",
              "  <svg xmlns=\"http://www.w3.org/2000/svg\" height=\"24px\"viewBox=\"0 0 24 24\"\n",
              "       width=\"24px\">\n",
              "    <path d=\"M7,19H8.4L18.45,9,17,7.55,7,17.6ZM5,21V16.75L18.45,3.32a2,2,0,0,1,2.83,0l1.4,1.43a1.91,1.91,0,0,1,.58,1.4,1.91,1.91,0,0,1-.58,1.4L9.25,21ZM18.45,9,17,7.55Zm-12,3A5.31,5.31,0,0,0,4.9,8.1,5.31,5.31,0,0,0,1,6.5,5.31,5.31,0,0,0,4.9,4.9,5.31,5.31,0,0,0,6.5,1,5.31,5.31,0,0,0,8.1,4.9,5.31,5.31,0,0,0,12,6.5,5.46,5.46,0,0,0,6.5,12Z\"/>\n",
              "  </svg>\n",
              "    </button>\n",
              "    <script>\n",
              "      (() => {\n",
              "      const buttonEl =\n",
              "        document.querySelector('#id_7fc3ab8b-1ba8-4756-9121-93a0ecc58529 button.colab-df-generate');\n",
              "      buttonEl.style.display =\n",
              "        google.colab.kernel.accessAllowed ? 'block' : 'none';\n",
              "\n",
              "      buttonEl.onclick = () => {\n",
              "        google.colab.notebook.generateWithVariable('PGD1015_ff');\n",
              "      }\n",
              "      })();\n",
              "    </script>\n",
              "  </div>\n",
              "\n",
              "    </div>\n",
              "  </div>\n"
            ]
          },
          "metadata": {},
          "execution_count": 71
        }
      ]
    },
    {
      "cell_type": "markdown",
      "source": [
        "- 라스파이레스식"
      ],
      "metadata": {
        "id": "EtdkK77N2Nu8"
      }
    },
    {
      "cell_type": "code",
      "source": [
        "TQS=(RD0@(np.eye(3)-M0))@(DF1-DF0).reshape([3,1])\n",
        "TQS"
      ],
      "metadata": {
        "id": "1-aKK3Tt2Lqs",
        "outputId": "1814c1ec-3f9c-4a84-8836-80b0f368ceae",
        "colab": {
          "base_uri": "https://localhost:8080/"
        }
      },
      "execution_count": 76,
      "outputs": [
        {
          "output_type": "execute_result",
          "data": {
            "text/plain": [
              "array([[  2.5574703 ],\n",
              "       [ 63.27713436],\n",
              "       [214.29752996]])"
            ]
          },
          "metadata": {},
          "execution_count": 76
        }
      ]
    },
    {
      "cell_type": "code",
      "source": [
        "TTE= RD0@(EX1-EX0).reshape([3,1]) # 수출효과\n",
        "TTE"
      ],
      "metadata": {
        "id": "yYeAoshR2WHN",
        "outputId": "7e909f18-b38b-45aa-b8c5-1f0dbdbbdd51",
        "colab": {
          "base_uri": "https://localhost:8080/"
        }
      },
      "execution_count": 77,
      "outputs": [
        {
          "output_type": "execute_result",
          "data": {
            "text/plain": [
              "array([[  6.12654761],\n",
              "       [260.10573822],\n",
              "       [ 86.70357226]])"
            ]
          },
          "metadata": {},
          "execution_count": 77
        }
      ]
    },
    {
      "cell_type": "code",
      "source": [
        "T3 = ((RD0@(M1 - M0))@DF1).reshape([3,1]) # 최종재수입대체효과\n",
        "T3 = T3*-1\n",
        "T4 = ((RD0@(II1 - AM0)))@C1[0:3,] # 중간재수입대체효과\n",
        "T4 = T4*-1\n",
        "T34 = T3 + T4\n",
        "TI = np.concatenate((T34, T3, T4), axis=1)\n",
        "T34"
      ],
      "metadata": {
        "id": "W_fWyoMn2XrP",
        "outputId": "3f130239-7404-418d-b024-45bf201e6da7",
        "colab": {
          "base_uri": "https://localhost:8080/"
        }
      },
      "execution_count": 78,
      "outputs": [
        {
          "output_type": "execute_result",
          "data": {
            "text/plain": [
              "array([[ -2.51646901],\n",
              "       [-49.48964707],\n",
              "       [-25.04596103]])"
            ]
          },
          "metadata": {},
          "execution_count": 78
        }
      ]
    },
    {
      "cell_type": "code",
      "source": [
        "T5 = (RD0@(AA-(AM0-II0)))@C1 # 기술변화효과\n",
        "T5"
      ],
      "metadata": {
        "id": "6bejwSBw2fJJ",
        "outputId": "9cd8467e-8233-40d6-cb89-98b6573673f3",
        "colab": {
          "base_uri": "https://localhost:8080/"
        }
      },
      "execution_count": 80,
      "outputs": [
        {
          "output_type": "execute_result",
          "data": {
            "text/plain": [
              "array([[-4.16754891],\n",
              "       [ 8.10677449],\n",
              "       [36.04485881]])"
            ]
          },
          "metadata": {},
          "execution_count": 80
        }
      ]
    },
    {
      "cell_type": "code",
      "source": [
        "SUM = np.concatenate((DCT0, DCT1, DCT, TQS, TTE, T3, T4, T5), axis=1)\n",
        "SUM.shape\n",
        "SUM1 = np.sum(SUM, axis=0).reshape([1,8])\n",
        "LGD1015_f = (np.concatenate((SUM, SUM1), axis=0))\n",
        "print(LGD1015_f.round(3))"
      ],
      "metadata": {
        "id": "1SaQaVGX2gxM",
        "outputId": "8eb6c862-9229-407c-ed55-b4b36fafc4e3",
        "colab": {
          "base_uri": "https://localhost:8080/"
        }
      },
      "execution_count": 81,
      "outputs": [
        {
          "output_type": "stream",
          "name": "stdout",
          "text": [
            "[[  2.      2.     -0.      2.557   6.127  -1.619  -0.898  -4.168]\n",
            " [282.    282.     -0.     63.277 260.106 -21.282 -28.208   8.107]\n",
            " [312.    312.     -0.    214.298  86.704 -15.458  -9.588  36.045]\n",
            " [596.    596.     -0.    280.132 352.936 -38.358 -38.694  39.984]]\n"
          ]
        }
      ]
    },
    {
      "cell_type": "code",
      "source": [
        "LGD1015_ff = pd.DataFrame((LGD1015_f).round(3),columns = ['15-10산출액(A)', '요인별합계(B)', 'B-A', '국내최종수요증감액', '수출', '최종재수입','중간재수입', '기술변화'],\n",
        "\n",
        "                         index=['농산품', '공산품', '서비스', '계'])  # pandas로 내보내기"
      ],
      "metadata": {
        "id": "3O0VsE4L2kPh"
      },
      "execution_count": 82,
      "outputs": []
    },
    {
      "cell_type": "code",
      "source": [
        "LGD1015_ff"
      ],
      "metadata": {
        "id": "558Nvhgv2mSN",
        "outputId": "bdd50444-18c2-4636-8dc7-379ef05267d7",
        "colab": {
          "base_uri": "https://localhost:8080/",
          "height": 175
        }
      },
      "execution_count": 83,
      "outputs": [
        {
          "output_type": "execute_result",
          "data": {
            "text/plain": [
              "     15-10산출액(A)  요인별합계(B)  B-A  국내최종수요증감액       수출   최종재수입   중간재수입    기술변화\n",
              "농산품          2.0       2.0 -0.0      2.557    6.127  -1.619  -0.898  -4.168\n",
              "공산품        282.0     282.0 -0.0     63.277  260.106 -21.282 -28.208   8.107\n",
              "서비스        312.0     312.0 -0.0    214.298   86.704 -15.458  -9.588  36.045\n",
              "계          596.0     596.0 -0.0    280.132  352.936 -38.358 -38.694  39.984"
            ],
            "text/html": [
              "\n",
              "  <div id=\"df-c423f1c5-4956-41b8-91c9-ce72e7184fa4\" class=\"colab-df-container\">\n",
              "    <div>\n",
              "<style scoped>\n",
              "    .dataframe tbody tr th:only-of-type {\n",
              "        vertical-align: middle;\n",
              "    }\n",
              "\n",
              "    .dataframe tbody tr th {\n",
              "        vertical-align: top;\n",
              "    }\n",
              "\n",
              "    .dataframe thead th {\n",
              "        text-align: right;\n",
              "    }\n",
              "</style>\n",
              "<table border=\"1\" class=\"dataframe\">\n",
              "  <thead>\n",
              "    <tr style=\"text-align: right;\">\n",
              "      <th></th>\n",
              "      <th>15-10산출액(A)</th>\n",
              "      <th>요인별합계(B)</th>\n",
              "      <th>B-A</th>\n",
              "      <th>국내최종수요증감액</th>\n",
              "      <th>수출</th>\n",
              "      <th>최종재수입</th>\n",
              "      <th>중간재수입</th>\n",
              "      <th>기술변화</th>\n",
              "    </tr>\n",
              "  </thead>\n",
              "  <tbody>\n",
              "    <tr>\n",
              "      <th>농산품</th>\n",
              "      <td>2.0</td>\n",
              "      <td>2.0</td>\n",
              "      <td>-0.0</td>\n",
              "      <td>2.557</td>\n",
              "      <td>6.127</td>\n",
              "      <td>-1.619</td>\n",
              "      <td>-0.898</td>\n",
              "      <td>-4.168</td>\n",
              "    </tr>\n",
              "    <tr>\n",
              "      <th>공산품</th>\n",
              "      <td>282.0</td>\n",
              "      <td>282.0</td>\n",
              "      <td>-0.0</td>\n",
              "      <td>63.277</td>\n",
              "      <td>260.106</td>\n",
              "      <td>-21.282</td>\n",
              "      <td>-28.208</td>\n",
              "      <td>8.107</td>\n",
              "    </tr>\n",
              "    <tr>\n",
              "      <th>서비스</th>\n",
              "      <td>312.0</td>\n",
              "      <td>312.0</td>\n",
              "      <td>-0.0</td>\n",
              "      <td>214.298</td>\n",
              "      <td>86.704</td>\n",
              "      <td>-15.458</td>\n",
              "      <td>-9.588</td>\n",
              "      <td>36.045</td>\n",
              "    </tr>\n",
              "    <tr>\n",
              "      <th>계</th>\n",
              "      <td>596.0</td>\n",
              "      <td>596.0</td>\n",
              "      <td>-0.0</td>\n",
              "      <td>280.132</td>\n",
              "      <td>352.936</td>\n",
              "      <td>-38.358</td>\n",
              "      <td>-38.694</td>\n",
              "      <td>39.984</td>\n",
              "    </tr>\n",
              "  </tbody>\n",
              "</table>\n",
              "</div>\n",
              "    <div class=\"colab-df-buttons\">\n",
              "\n",
              "  <div class=\"colab-df-container\">\n",
              "    <button class=\"colab-df-convert\" onclick=\"convertToInteractive('df-c423f1c5-4956-41b8-91c9-ce72e7184fa4')\"\n",
              "            title=\"Convert this dataframe to an interactive table.\"\n",
              "            style=\"display:none;\">\n",
              "\n",
              "  <svg xmlns=\"http://www.w3.org/2000/svg\" height=\"24px\" viewBox=\"0 -960 960 960\">\n",
              "    <path d=\"M120-120v-720h720v720H120Zm60-500h600v-160H180v160Zm220 220h160v-160H400v160Zm0 220h160v-160H400v160ZM180-400h160v-160H180v160Zm440 0h160v-160H620v160ZM180-180h160v-160H180v160Zm440 0h160v-160H620v160Z\"/>\n",
              "  </svg>\n",
              "    </button>\n",
              "\n",
              "  <style>\n",
              "    .colab-df-container {\n",
              "      display:flex;\n",
              "      gap: 12px;\n",
              "    }\n",
              "\n",
              "    .colab-df-convert {\n",
              "      background-color: #E8F0FE;\n",
              "      border: none;\n",
              "      border-radius: 50%;\n",
              "      cursor: pointer;\n",
              "      display: none;\n",
              "      fill: #1967D2;\n",
              "      height: 32px;\n",
              "      padding: 0 0 0 0;\n",
              "      width: 32px;\n",
              "    }\n",
              "\n",
              "    .colab-df-convert:hover {\n",
              "      background-color: #E2EBFA;\n",
              "      box-shadow: 0px 1px 2px rgba(60, 64, 67, 0.3), 0px 1px 3px 1px rgba(60, 64, 67, 0.15);\n",
              "      fill: #174EA6;\n",
              "    }\n",
              "\n",
              "    .colab-df-buttons div {\n",
              "      margin-bottom: 4px;\n",
              "    }\n",
              "\n",
              "    [theme=dark] .colab-df-convert {\n",
              "      background-color: #3B4455;\n",
              "      fill: #D2E3FC;\n",
              "    }\n",
              "\n",
              "    [theme=dark] .colab-df-convert:hover {\n",
              "      background-color: #434B5C;\n",
              "      box-shadow: 0px 1px 3px 1px rgba(0, 0, 0, 0.15);\n",
              "      filter: drop-shadow(0px 1px 2px rgba(0, 0, 0, 0.3));\n",
              "      fill: #FFFFFF;\n",
              "    }\n",
              "  </style>\n",
              "\n",
              "    <script>\n",
              "      const buttonEl =\n",
              "        document.querySelector('#df-c423f1c5-4956-41b8-91c9-ce72e7184fa4 button.colab-df-convert');\n",
              "      buttonEl.style.display =\n",
              "        google.colab.kernel.accessAllowed ? 'block' : 'none';\n",
              "\n",
              "      async function convertToInteractive(key) {\n",
              "        const element = document.querySelector('#df-c423f1c5-4956-41b8-91c9-ce72e7184fa4');\n",
              "        const dataTable =\n",
              "          await google.colab.kernel.invokeFunction('convertToInteractive',\n",
              "                                                    [key], {});\n",
              "        if (!dataTable) return;\n",
              "\n",
              "        const docLinkHtml = 'Like what you see? Visit the ' +\n",
              "          '<a target=\"_blank\" href=https://colab.research.google.com/notebooks/data_table.ipynb>data table notebook</a>'\n",
              "          + ' to learn more about interactive tables.';\n",
              "        element.innerHTML = '';\n",
              "        dataTable['output_type'] = 'display_data';\n",
              "        await google.colab.output.renderOutput(dataTable, element);\n",
              "        const docLink = document.createElement('div');\n",
              "        docLink.innerHTML = docLinkHtml;\n",
              "        element.appendChild(docLink);\n",
              "      }\n",
              "    </script>\n",
              "  </div>\n",
              "\n",
              "\n",
              "<div id=\"df-86c39f89-697e-4752-8b79-3f9c15db0566\">\n",
              "  <button class=\"colab-df-quickchart\" onclick=\"quickchart('df-86c39f89-697e-4752-8b79-3f9c15db0566')\"\n",
              "            title=\"Suggest charts\"\n",
              "            style=\"display:none;\">\n",
              "\n",
              "<svg xmlns=\"http://www.w3.org/2000/svg\" height=\"24px\"viewBox=\"0 0 24 24\"\n",
              "     width=\"24px\">\n",
              "    <g>\n",
              "        <path d=\"M19 3H5c-1.1 0-2 .9-2 2v14c0 1.1.9 2 2 2h14c1.1 0 2-.9 2-2V5c0-1.1-.9-2-2-2zM9 17H7v-7h2v7zm4 0h-2V7h2v10zm4 0h-2v-4h2v4z\"/>\n",
              "    </g>\n",
              "</svg>\n",
              "  </button>\n",
              "\n",
              "<style>\n",
              "  .colab-df-quickchart {\n",
              "      --bg-color: #E8F0FE;\n",
              "      --fill-color: #1967D2;\n",
              "      --hover-bg-color: #E2EBFA;\n",
              "      --hover-fill-color: #174EA6;\n",
              "      --disabled-fill-color: #AAA;\n",
              "      --disabled-bg-color: #DDD;\n",
              "  }\n",
              "\n",
              "  [theme=dark] .colab-df-quickchart {\n",
              "      --bg-color: #3B4455;\n",
              "      --fill-color: #D2E3FC;\n",
              "      --hover-bg-color: #434B5C;\n",
              "      --hover-fill-color: #FFFFFF;\n",
              "      --disabled-bg-color: #3B4455;\n",
              "      --disabled-fill-color: #666;\n",
              "  }\n",
              "\n",
              "  .colab-df-quickchart {\n",
              "    background-color: var(--bg-color);\n",
              "    border: none;\n",
              "    border-radius: 50%;\n",
              "    cursor: pointer;\n",
              "    display: none;\n",
              "    fill: var(--fill-color);\n",
              "    height: 32px;\n",
              "    padding: 0;\n",
              "    width: 32px;\n",
              "  }\n",
              "\n",
              "  .colab-df-quickchart:hover {\n",
              "    background-color: var(--hover-bg-color);\n",
              "    box-shadow: 0 1px 2px rgba(60, 64, 67, 0.3), 0 1px 3px 1px rgba(60, 64, 67, 0.15);\n",
              "    fill: var(--button-hover-fill-color);\n",
              "  }\n",
              "\n",
              "  .colab-df-quickchart-complete:disabled,\n",
              "  .colab-df-quickchart-complete:disabled:hover {\n",
              "    background-color: var(--disabled-bg-color);\n",
              "    fill: var(--disabled-fill-color);\n",
              "    box-shadow: none;\n",
              "  }\n",
              "\n",
              "  .colab-df-spinner {\n",
              "    border: 2px solid var(--fill-color);\n",
              "    border-color: transparent;\n",
              "    border-bottom-color: var(--fill-color);\n",
              "    animation:\n",
              "      spin 1s steps(1) infinite;\n",
              "  }\n",
              "\n",
              "  @keyframes spin {\n",
              "    0% {\n",
              "      border-color: transparent;\n",
              "      border-bottom-color: var(--fill-color);\n",
              "      border-left-color: var(--fill-color);\n",
              "    }\n",
              "    20% {\n",
              "      border-color: transparent;\n",
              "      border-left-color: var(--fill-color);\n",
              "      border-top-color: var(--fill-color);\n",
              "    }\n",
              "    30% {\n",
              "      border-color: transparent;\n",
              "      border-left-color: var(--fill-color);\n",
              "      border-top-color: var(--fill-color);\n",
              "      border-right-color: var(--fill-color);\n",
              "    }\n",
              "    40% {\n",
              "      border-color: transparent;\n",
              "      border-right-color: var(--fill-color);\n",
              "      border-top-color: var(--fill-color);\n",
              "    }\n",
              "    60% {\n",
              "      border-color: transparent;\n",
              "      border-right-color: var(--fill-color);\n",
              "    }\n",
              "    80% {\n",
              "      border-color: transparent;\n",
              "      border-right-color: var(--fill-color);\n",
              "      border-bottom-color: var(--fill-color);\n",
              "    }\n",
              "    90% {\n",
              "      border-color: transparent;\n",
              "      border-bottom-color: var(--fill-color);\n",
              "    }\n",
              "  }\n",
              "</style>\n",
              "\n",
              "  <script>\n",
              "    async function quickchart(key) {\n",
              "      const quickchartButtonEl =\n",
              "        document.querySelector('#' + key + ' button');\n",
              "      quickchartButtonEl.disabled = true;  // To prevent multiple clicks.\n",
              "      quickchartButtonEl.classList.add('colab-df-spinner');\n",
              "      try {\n",
              "        const charts = await google.colab.kernel.invokeFunction(\n",
              "            'suggestCharts', [key], {});\n",
              "      } catch (error) {\n",
              "        console.error('Error during call to suggestCharts:', error);\n",
              "      }\n",
              "      quickchartButtonEl.classList.remove('colab-df-spinner');\n",
              "      quickchartButtonEl.classList.add('colab-df-quickchart-complete');\n",
              "    }\n",
              "    (() => {\n",
              "      let quickchartButtonEl =\n",
              "        document.querySelector('#df-86c39f89-697e-4752-8b79-3f9c15db0566 button');\n",
              "      quickchartButtonEl.style.display =\n",
              "        google.colab.kernel.accessAllowed ? 'block' : 'none';\n",
              "    })();\n",
              "  </script>\n",
              "</div>\n",
              "\n",
              "  <div id=\"id_7470a38f-de2f-4f81-ba78-f1fcfc1eb4a7\">\n",
              "    <style>\n",
              "      .colab-df-generate {\n",
              "        background-color: #E8F0FE;\n",
              "        border: none;\n",
              "        border-radius: 50%;\n",
              "        cursor: pointer;\n",
              "        display: none;\n",
              "        fill: #1967D2;\n",
              "        height: 32px;\n",
              "        padding: 0 0 0 0;\n",
              "        width: 32px;\n",
              "      }\n",
              "\n",
              "      .colab-df-generate:hover {\n",
              "        background-color: #E2EBFA;\n",
              "        box-shadow: 0px 1px 2px rgba(60, 64, 67, 0.3), 0px 1px 3px 1px rgba(60, 64, 67, 0.15);\n",
              "        fill: #174EA6;\n",
              "      }\n",
              "\n",
              "      [theme=dark] .colab-df-generate {\n",
              "        background-color: #3B4455;\n",
              "        fill: #D2E3FC;\n",
              "      }\n",
              "\n",
              "      [theme=dark] .colab-df-generate:hover {\n",
              "        background-color: #434B5C;\n",
              "        box-shadow: 0px 1px 3px 1px rgba(0, 0, 0, 0.15);\n",
              "        filter: drop-shadow(0px 1px 2px rgba(0, 0, 0, 0.3));\n",
              "        fill: #FFFFFF;\n",
              "      }\n",
              "    </style>\n",
              "    <button class=\"colab-df-generate\" onclick=\"generateWithVariable('LGD1015_ff')\"\n",
              "            title=\"Generate code using this dataframe.\"\n",
              "            style=\"display:none;\">\n",
              "\n",
              "  <svg xmlns=\"http://www.w3.org/2000/svg\" height=\"24px\"viewBox=\"0 0 24 24\"\n",
              "       width=\"24px\">\n",
              "    <path d=\"M7,19H8.4L18.45,9,17,7.55,7,17.6ZM5,21V16.75L18.45,3.32a2,2,0,0,1,2.83,0l1.4,1.43a1.91,1.91,0,0,1,.58,1.4,1.91,1.91,0,0,1-.58,1.4L9.25,21ZM18.45,9,17,7.55Zm-12,3A5.31,5.31,0,0,0,4.9,8.1,5.31,5.31,0,0,0,1,6.5,5.31,5.31,0,0,0,4.9,4.9,5.31,5.31,0,0,0,6.5,1,5.31,5.31,0,0,0,8.1,4.9,5.31,5.31,0,0,0,12,6.5,5.46,5.46,0,0,0,6.5,12Z\"/>\n",
              "  </svg>\n",
              "    </button>\n",
              "    <script>\n",
              "      (() => {\n",
              "      const buttonEl =\n",
              "        document.querySelector('#id_7470a38f-de2f-4f81-ba78-f1fcfc1eb4a7 button.colab-df-generate');\n",
              "      buttonEl.style.display =\n",
              "        google.colab.kernel.accessAllowed ? 'block' : 'none';\n",
              "\n",
              "      buttonEl.onclick = () => {\n",
              "        google.colab.notebook.generateWithVariable('LGD1015_ff');\n",
              "      }\n",
              "      })();\n",
              "    </script>\n",
              "  </div>\n",
              "\n",
              "    </div>\n",
              "  </div>\n"
            ]
          },
          "metadata": {},
          "execution_count": 83
        }
      ]
    },
    {
      "cell_type": "code",
      "source": [
        "PGD1015_ff.to_csv('산출액변동요인_파쉐.csv', encoding=\"utf-8-sig\")\n",
        "LGD1015_ff.to_csv('산출액변동요인_라스파이레스.csv', encoding=\"utf-8-sig\")"
      ],
      "metadata": {
        "id": "QRRT-rJn2nul"
      },
      "execution_count": 84,
      "outputs": []
    },
    {
      "cell_type": "code",
      "source": [
        "Ctbr_Pa =  PGD1015_f[:,3:]\n",
        "Ctbr_La =  LGD1015_f[:,3:]\n",
        "Ctbr_La"
      ],
      "metadata": {
        "id": "5PIRWNMI2qhk",
        "outputId": "54476ba1-14ba-4129-dddc-36a229995fef",
        "colab": {
          "base_uri": "https://localhost:8080/"
        }
      },
      "execution_count": 85,
      "outputs": [
        {
          "output_type": "execute_result",
          "data": {
            "text/plain": [
              "array([[  2.5574703 ,   6.12654761,  -1.61889291,  -0.89757609,\n",
              "         -4.16754891],\n",
              "       [ 63.27713436, 260.10573822, -21.28180553, -28.20784154,\n",
              "          8.10677449],\n",
              "       [214.29752996,  86.70357226, -15.45777561,  -9.58818542,\n",
              "         36.04485881],\n",
              "       [280.13213463, 352.93585808, -38.35847405, -38.69360305,\n",
              "         39.98408439]])"
            ]
          },
          "metadata": {},
          "execution_count": 85
        }
      ]
    },
    {
      "cell_type": "code",
      "source": [
        "sm_gap_Pa = PGD1015_f[:,1].reshape([4,1])  # 요인별 합계\n",
        "sm_gap_La = LGD1015_f[:,1].reshape([4,1])  # 요인별 합계\n",
        "sm_gap_La"
      ],
      "metadata": {
        "id": "P6Cup2z32tjC",
        "outputId": "5f946d1a-a0e3-49d7-c8bf-a56644cc70d1",
        "colab": {
          "base_uri": "https://localhost:8080/"
        }
      },
      "execution_count": 86,
      "outputs": [
        {
          "output_type": "execute_result",
          "data": {
            "text/plain": [
              "array([[  2.],\n",
              "       [282.],\n",
              "       [312.],\n",
              "       [596.]])"
            ]
          },
          "metadata": {},
          "execution_count": 86
        }
      ]
    },
    {
      "cell_type": "code",
      "source": [
        "sm_gap1_Pa = np.tile(sm_gap_Pa, reps=[1,5]) # 요인별 합계를 4x5으로 반복\n",
        "sm_gap1_La = np.tile(sm_gap_La, reps=[1,5]) # 요인별 합계를 4x5으로 반복\n",
        "sm_gap1_La"
      ],
      "metadata": {
        "id": "YBuwrJM32vUa",
        "outputId": "e12b0fd5-a907-4aa3-b954-988c80fdc039",
        "colab": {
          "base_uri": "https://localhost:8080/"
        }
      },
      "execution_count": 87,
      "outputs": [
        {
          "output_type": "execute_result",
          "data": {
            "text/plain": [
              "array([[  2.,   2.,   2.,   2.,   2.],\n",
              "       [282., 282., 282., 282., 282.],\n",
              "       [312., 312., 312., 312., 312.],\n",
              "       [596., 596., 596., 596., 596.]])"
            ]
          },
          "metadata": {},
          "execution_count": 87
        }
      ]
    },
    {
      "cell_type": "code",
      "source": [
        "Ctrb_f_Pa = ((Ctbr_Pa/sm_gap1_Pa).round(3))*100  # 각 항목별 기여율\n",
        "Ctrb_f_La = ((Ctbr_La/sm_gap1_La).round(3))*100  # 각 항목별 기여율\n",
        "\n",
        "print('파쉐식 기여율 : \\n', Ctrb_f_Pa, '\\n')\n",
        "print('라스파이레스식 기여율 : \\n', Ctrb_f_La, '\\n')"
      ],
      "metadata": {
        "id": "gJjc1yt52wv-",
        "outputId": "2e2523b1-7bfb-48f2-8fe5-a39cf4230f25",
        "colab": {
          "base_uri": "https://localhost:8080/"
        }
      },
      "execution_count": 88,
      "outputs": [
        {
          "output_type": "stream",
          "name": "stdout",
          "text": [
            "파쉐식 기여율 : \n",
            " [[ 119.3  268.4  -75.3  -35.9 -176.5]\n",
            " [  21.9   91.    -7.    -8.3    2.4]\n",
            " [  69.2   27.8   -4.5   -2.6   10. ]\n",
            " [  47.    58.5   -5.9   -5.4    5.8]] \n",
            "\n",
            "라스파이레스식 기여율 : \n",
            " [[ 127.9  306.3  -80.9  -44.9 -208.4]\n",
            " [  22.4   92.2   -7.5  -10.     2.9]\n",
            " [  68.7   27.8   -5.    -3.1   11.6]\n",
            " [  47.    59.2   -6.4   -6.5    6.7]] \n",
            "\n"
          ]
        }
      ]
    },
    {
      "cell_type": "code",
      "source": [
        "Ctrb_ff_Pa = pd.DataFrame(Ctrb_f_Pa.round(1),columns = ['국내최종수요증감액', '수출', '최종재수입','중간재수입', '기술변화'],\n",
        "\n",
        "                         index=['농산품', '공산품', '서비스', '계'])  # pandas로 내보내기\n",
        "Ctrb_ff_Pa"
      ],
      "metadata": {
        "id": "tyTWoMU626Bw",
        "outputId": "95584fc9-1e8a-409e-b7dd-cd370d64e5ac",
        "colab": {
          "base_uri": "https://localhost:8080/",
          "height": 175
        }
      },
      "execution_count": 89,
      "outputs": [
        {
          "output_type": "execute_result",
          "data": {
            "text/plain": [
              "     국내최종수요증감액     수출  최종재수입  중간재수입   기술변화\n",
              "농산품      119.3  268.4  -75.3  -35.9 -176.5\n",
              "공산품       21.9   91.0   -7.0   -8.3    2.4\n",
              "서비스       69.2   27.8   -4.5   -2.6   10.0\n",
              "계         47.0   58.5   -5.9   -5.4    5.8"
            ],
            "text/html": [
              "\n",
              "  <div id=\"df-52d31608-5205-425b-9494-af1ff09800c6\" class=\"colab-df-container\">\n",
              "    <div>\n",
              "<style scoped>\n",
              "    .dataframe tbody tr th:only-of-type {\n",
              "        vertical-align: middle;\n",
              "    }\n",
              "\n",
              "    .dataframe tbody tr th {\n",
              "        vertical-align: top;\n",
              "    }\n",
              "\n",
              "    .dataframe thead th {\n",
              "        text-align: right;\n",
              "    }\n",
              "</style>\n",
              "<table border=\"1\" class=\"dataframe\">\n",
              "  <thead>\n",
              "    <tr style=\"text-align: right;\">\n",
              "      <th></th>\n",
              "      <th>국내최종수요증감액</th>\n",
              "      <th>수출</th>\n",
              "      <th>최종재수입</th>\n",
              "      <th>중간재수입</th>\n",
              "      <th>기술변화</th>\n",
              "    </tr>\n",
              "  </thead>\n",
              "  <tbody>\n",
              "    <tr>\n",
              "      <th>농산품</th>\n",
              "      <td>119.3</td>\n",
              "      <td>268.4</td>\n",
              "      <td>-75.3</td>\n",
              "      <td>-35.9</td>\n",
              "      <td>-176.5</td>\n",
              "    </tr>\n",
              "    <tr>\n",
              "      <th>공산품</th>\n",
              "      <td>21.9</td>\n",
              "      <td>91.0</td>\n",
              "      <td>-7.0</td>\n",
              "      <td>-8.3</td>\n",
              "      <td>2.4</td>\n",
              "    </tr>\n",
              "    <tr>\n",
              "      <th>서비스</th>\n",
              "      <td>69.2</td>\n",
              "      <td>27.8</td>\n",
              "      <td>-4.5</td>\n",
              "      <td>-2.6</td>\n",
              "      <td>10.0</td>\n",
              "    </tr>\n",
              "    <tr>\n",
              "      <th>계</th>\n",
              "      <td>47.0</td>\n",
              "      <td>58.5</td>\n",
              "      <td>-5.9</td>\n",
              "      <td>-5.4</td>\n",
              "      <td>5.8</td>\n",
              "    </tr>\n",
              "  </tbody>\n",
              "</table>\n",
              "</div>\n",
              "    <div class=\"colab-df-buttons\">\n",
              "\n",
              "  <div class=\"colab-df-container\">\n",
              "    <button class=\"colab-df-convert\" onclick=\"convertToInteractive('df-52d31608-5205-425b-9494-af1ff09800c6')\"\n",
              "            title=\"Convert this dataframe to an interactive table.\"\n",
              "            style=\"display:none;\">\n",
              "\n",
              "  <svg xmlns=\"http://www.w3.org/2000/svg\" height=\"24px\" viewBox=\"0 -960 960 960\">\n",
              "    <path d=\"M120-120v-720h720v720H120Zm60-500h600v-160H180v160Zm220 220h160v-160H400v160Zm0 220h160v-160H400v160ZM180-400h160v-160H180v160Zm440 0h160v-160H620v160ZM180-180h160v-160H180v160Zm440 0h160v-160H620v160Z\"/>\n",
              "  </svg>\n",
              "    </button>\n",
              "\n",
              "  <style>\n",
              "    .colab-df-container {\n",
              "      display:flex;\n",
              "      gap: 12px;\n",
              "    }\n",
              "\n",
              "    .colab-df-convert {\n",
              "      background-color: #E8F0FE;\n",
              "      border: none;\n",
              "      border-radius: 50%;\n",
              "      cursor: pointer;\n",
              "      display: none;\n",
              "      fill: #1967D2;\n",
              "      height: 32px;\n",
              "      padding: 0 0 0 0;\n",
              "      width: 32px;\n",
              "    }\n",
              "\n",
              "    .colab-df-convert:hover {\n",
              "      background-color: #E2EBFA;\n",
              "      box-shadow: 0px 1px 2px rgba(60, 64, 67, 0.3), 0px 1px 3px 1px rgba(60, 64, 67, 0.15);\n",
              "      fill: #174EA6;\n",
              "    }\n",
              "\n",
              "    .colab-df-buttons div {\n",
              "      margin-bottom: 4px;\n",
              "    }\n",
              "\n",
              "    [theme=dark] .colab-df-convert {\n",
              "      background-color: #3B4455;\n",
              "      fill: #D2E3FC;\n",
              "    }\n",
              "\n",
              "    [theme=dark] .colab-df-convert:hover {\n",
              "      background-color: #434B5C;\n",
              "      box-shadow: 0px 1px 3px 1px rgba(0, 0, 0, 0.15);\n",
              "      filter: drop-shadow(0px 1px 2px rgba(0, 0, 0, 0.3));\n",
              "      fill: #FFFFFF;\n",
              "    }\n",
              "  </style>\n",
              "\n",
              "    <script>\n",
              "      const buttonEl =\n",
              "        document.querySelector('#df-52d31608-5205-425b-9494-af1ff09800c6 button.colab-df-convert');\n",
              "      buttonEl.style.display =\n",
              "        google.colab.kernel.accessAllowed ? 'block' : 'none';\n",
              "\n",
              "      async function convertToInteractive(key) {\n",
              "        const element = document.querySelector('#df-52d31608-5205-425b-9494-af1ff09800c6');\n",
              "        const dataTable =\n",
              "          await google.colab.kernel.invokeFunction('convertToInteractive',\n",
              "                                                    [key], {});\n",
              "        if (!dataTable) return;\n",
              "\n",
              "        const docLinkHtml = 'Like what you see? Visit the ' +\n",
              "          '<a target=\"_blank\" href=https://colab.research.google.com/notebooks/data_table.ipynb>data table notebook</a>'\n",
              "          + ' to learn more about interactive tables.';\n",
              "        element.innerHTML = '';\n",
              "        dataTable['output_type'] = 'display_data';\n",
              "        await google.colab.output.renderOutput(dataTable, element);\n",
              "        const docLink = document.createElement('div');\n",
              "        docLink.innerHTML = docLinkHtml;\n",
              "        element.appendChild(docLink);\n",
              "      }\n",
              "    </script>\n",
              "  </div>\n",
              "\n",
              "\n",
              "<div id=\"df-fc95ff42-d883-4d2f-a21e-ff35bf6565d2\">\n",
              "  <button class=\"colab-df-quickchart\" onclick=\"quickchart('df-fc95ff42-d883-4d2f-a21e-ff35bf6565d2')\"\n",
              "            title=\"Suggest charts\"\n",
              "            style=\"display:none;\">\n",
              "\n",
              "<svg xmlns=\"http://www.w3.org/2000/svg\" height=\"24px\"viewBox=\"0 0 24 24\"\n",
              "     width=\"24px\">\n",
              "    <g>\n",
              "        <path d=\"M19 3H5c-1.1 0-2 .9-2 2v14c0 1.1.9 2 2 2h14c1.1 0 2-.9 2-2V5c0-1.1-.9-2-2-2zM9 17H7v-7h2v7zm4 0h-2V7h2v10zm4 0h-2v-4h2v4z\"/>\n",
              "    </g>\n",
              "</svg>\n",
              "  </button>\n",
              "\n",
              "<style>\n",
              "  .colab-df-quickchart {\n",
              "      --bg-color: #E8F0FE;\n",
              "      --fill-color: #1967D2;\n",
              "      --hover-bg-color: #E2EBFA;\n",
              "      --hover-fill-color: #174EA6;\n",
              "      --disabled-fill-color: #AAA;\n",
              "      --disabled-bg-color: #DDD;\n",
              "  }\n",
              "\n",
              "  [theme=dark] .colab-df-quickchart {\n",
              "      --bg-color: #3B4455;\n",
              "      --fill-color: #D2E3FC;\n",
              "      --hover-bg-color: #434B5C;\n",
              "      --hover-fill-color: #FFFFFF;\n",
              "      --disabled-bg-color: #3B4455;\n",
              "      --disabled-fill-color: #666;\n",
              "  }\n",
              "\n",
              "  .colab-df-quickchart {\n",
              "    background-color: var(--bg-color);\n",
              "    border: none;\n",
              "    border-radius: 50%;\n",
              "    cursor: pointer;\n",
              "    display: none;\n",
              "    fill: var(--fill-color);\n",
              "    height: 32px;\n",
              "    padding: 0;\n",
              "    width: 32px;\n",
              "  }\n",
              "\n",
              "  .colab-df-quickchart:hover {\n",
              "    background-color: var(--hover-bg-color);\n",
              "    box-shadow: 0 1px 2px rgba(60, 64, 67, 0.3), 0 1px 3px 1px rgba(60, 64, 67, 0.15);\n",
              "    fill: var(--button-hover-fill-color);\n",
              "  }\n",
              "\n",
              "  .colab-df-quickchart-complete:disabled,\n",
              "  .colab-df-quickchart-complete:disabled:hover {\n",
              "    background-color: var(--disabled-bg-color);\n",
              "    fill: var(--disabled-fill-color);\n",
              "    box-shadow: none;\n",
              "  }\n",
              "\n",
              "  .colab-df-spinner {\n",
              "    border: 2px solid var(--fill-color);\n",
              "    border-color: transparent;\n",
              "    border-bottom-color: var(--fill-color);\n",
              "    animation:\n",
              "      spin 1s steps(1) infinite;\n",
              "  }\n",
              "\n",
              "  @keyframes spin {\n",
              "    0% {\n",
              "      border-color: transparent;\n",
              "      border-bottom-color: var(--fill-color);\n",
              "      border-left-color: var(--fill-color);\n",
              "    }\n",
              "    20% {\n",
              "      border-color: transparent;\n",
              "      border-left-color: var(--fill-color);\n",
              "      border-top-color: var(--fill-color);\n",
              "    }\n",
              "    30% {\n",
              "      border-color: transparent;\n",
              "      border-left-color: var(--fill-color);\n",
              "      border-top-color: var(--fill-color);\n",
              "      border-right-color: var(--fill-color);\n",
              "    }\n",
              "    40% {\n",
              "      border-color: transparent;\n",
              "      border-right-color: var(--fill-color);\n",
              "      border-top-color: var(--fill-color);\n",
              "    }\n",
              "    60% {\n",
              "      border-color: transparent;\n",
              "      border-right-color: var(--fill-color);\n",
              "    }\n",
              "    80% {\n",
              "      border-color: transparent;\n",
              "      border-right-color: var(--fill-color);\n",
              "      border-bottom-color: var(--fill-color);\n",
              "    }\n",
              "    90% {\n",
              "      border-color: transparent;\n",
              "      border-bottom-color: var(--fill-color);\n",
              "    }\n",
              "  }\n",
              "</style>\n",
              "\n",
              "  <script>\n",
              "    async function quickchart(key) {\n",
              "      const quickchartButtonEl =\n",
              "        document.querySelector('#' + key + ' button');\n",
              "      quickchartButtonEl.disabled = true;  // To prevent multiple clicks.\n",
              "      quickchartButtonEl.classList.add('colab-df-spinner');\n",
              "      try {\n",
              "        const charts = await google.colab.kernel.invokeFunction(\n",
              "            'suggestCharts', [key], {});\n",
              "      } catch (error) {\n",
              "        console.error('Error during call to suggestCharts:', error);\n",
              "      }\n",
              "      quickchartButtonEl.classList.remove('colab-df-spinner');\n",
              "      quickchartButtonEl.classList.add('colab-df-quickchart-complete');\n",
              "    }\n",
              "    (() => {\n",
              "      let quickchartButtonEl =\n",
              "        document.querySelector('#df-fc95ff42-d883-4d2f-a21e-ff35bf6565d2 button');\n",
              "      quickchartButtonEl.style.display =\n",
              "        google.colab.kernel.accessAllowed ? 'block' : 'none';\n",
              "    })();\n",
              "  </script>\n",
              "</div>\n",
              "\n",
              "  <div id=\"id_a9dc3f3e-2ddc-4ff4-9434-ac4fd1c14cb6\">\n",
              "    <style>\n",
              "      .colab-df-generate {\n",
              "        background-color: #E8F0FE;\n",
              "        border: none;\n",
              "        border-radius: 50%;\n",
              "        cursor: pointer;\n",
              "        display: none;\n",
              "        fill: #1967D2;\n",
              "        height: 32px;\n",
              "        padding: 0 0 0 0;\n",
              "        width: 32px;\n",
              "      }\n",
              "\n",
              "      .colab-df-generate:hover {\n",
              "        background-color: #E2EBFA;\n",
              "        box-shadow: 0px 1px 2px rgba(60, 64, 67, 0.3), 0px 1px 3px 1px rgba(60, 64, 67, 0.15);\n",
              "        fill: #174EA6;\n",
              "      }\n",
              "\n",
              "      [theme=dark] .colab-df-generate {\n",
              "        background-color: #3B4455;\n",
              "        fill: #D2E3FC;\n",
              "      }\n",
              "\n",
              "      [theme=dark] .colab-df-generate:hover {\n",
              "        background-color: #434B5C;\n",
              "        box-shadow: 0px 1px 3px 1px rgba(0, 0, 0, 0.15);\n",
              "        filter: drop-shadow(0px 1px 2px rgba(0, 0, 0, 0.3));\n",
              "        fill: #FFFFFF;\n",
              "      }\n",
              "    </style>\n",
              "    <button class=\"colab-df-generate\" onclick=\"generateWithVariable('Ctrb_ff_Pa')\"\n",
              "            title=\"Generate code using this dataframe.\"\n",
              "            style=\"display:none;\">\n",
              "\n",
              "  <svg xmlns=\"http://www.w3.org/2000/svg\" height=\"24px\"viewBox=\"0 0 24 24\"\n",
              "       width=\"24px\">\n",
              "    <path d=\"M7,19H8.4L18.45,9,17,7.55,7,17.6ZM5,21V16.75L18.45,3.32a2,2,0,0,1,2.83,0l1.4,1.43a1.91,1.91,0,0,1,.58,1.4,1.91,1.91,0,0,1-.58,1.4L9.25,21ZM18.45,9,17,7.55Zm-12,3A5.31,5.31,0,0,0,4.9,8.1,5.31,5.31,0,0,0,1,6.5,5.31,5.31,0,0,0,4.9,4.9,5.31,5.31,0,0,0,6.5,1,5.31,5.31,0,0,0,8.1,4.9,5.31,5.31,0,0,0,12,6.5,5.46,5.46,0,0,0,6.5,12Z\"/>\n",
              "  </svg>\n",
              "    </button>\n",
              "    <script>\n",
              "      (() => {\n",
              "      const buttonEl =\n",
              "        document.querySelector('#id_a9dc3f3e-2ddc-4ff4-9434-ac4fd1c14cb6 button.colab-df-generate');\n",
              "      buttonEl.style.display =\n",
              "        google.colab.kernel.accessAllowed ? 'block' : 'none';\n",
              "\n",
              "      buttonEl.onclick = () => {\n",
              "        google.colab.notebook.generateWithVariable('Ctrb_ff_Pa');\n",
              "      }\n",
              "      })();\n",
              "    </script>\n",
              "  </div>\n",
              "\n",
              "    </div>\n",
              "  </div>\n"
            ]
          },
          "metadata": {},
          "execution_count": 89
        }
      ]
    },
    {
      "cell_type": "code",
      "source": [
        "Ctrb_ff_La = pd.DataFrame(Ctrb_f_La.round(1),columns = ['국내최종수요증감액', '수출', '최종재수입','중간재수입', '기술변화'],\n",
        "\n",
        "                         index=['농산품', '공산품', '서비스', '계'])  # pandas로 내보내기\n",
        "Ctrb_ff_La"
      ],
      "metadata": {
        "id": "B4Q-kHGU28gW",
        "outputId": "5cd9e315-2ed2-4589-9002-102bdfa0e394",
        "colab": {
          "base_uri": "https://localhost:8080/",
          "height": 175
        }
      },
      "execution_count": 90,
      "outputs": [
        {
          "output_type": "execute_result",
          "data": {
            "text/plain": [
              "     국내최종수요증감액     수출  최종재수입  중간재수입   기술변화\n",
              "농산품      127.9  306.3  -80.9  -44.9 -208.4\n",
              "공산품       22.4   92.2   -7.5  -10.0    2.9\n",
              "서비스       68.7   27.8   -5.0   -3.1   11.6\n",
              "계         47.0   59.2   -6.4   -6.5    6.7"
            ],
            "text/html": [
              "\n",
              "  <div id=\"df-eece6c19-8ddd-4459-80dd-f27a374c3480\" class=\"colab-df-container\">\n",
              "    <div>\n",
              "<style scoped>\n",
              "    .dataframe tbody tr th:only-of-type {\n",
              "        vertical-align: middle;\n",
              "    }\n",
              "\n",
              "    .dataframe tbody tr th {\n",
              "        vertical-align: top;\n",
              "    }\n",
              "\n",
              "    .dataframe thead th {\n",
              "        text-align: right;\n",
              "    }\n",
              "</style>\n",
              "<table border=\"1\" class=\"dataframe\">\n",
              "  <thead>\n",
              "    <tr style=\"text-align: right;\">\n",
              "      <th></th>\n",
              "      <th>국내최종수요증감액</th>\n",
              "      <th>수출</th>\n",
              "      <th>최종재수입</th>\n",
              "      <th>중간재수입</th>\n",
              "      <th>기술변화</th>\n",
              "    </tr>\n",
              "  </thead>\n",
              "  <tbody>\n",
              "    <tr>\n",
              "      <th>농산품</th>\n",
              "      <td>127.9</td>\n",
              "      <td>306.3</td>\n",
              "      <td>-80.9</td>\n",
              "      <td>-44.9</td>\n",
              "      <td>-208.4</td>\n",
              "    </tr>\n",
              "    <tr>\n",
              "      <th>공산품</th>\n",
              "      <td>22.4</td>\n",
              "      <td>92.2</td>\n",
              "      <td>-7.5</td>\n",
              "      <td>-10.0</td>\n",
              "      <td>2.9</td>\n",
              "    </tr>\n",
              "    <tr>\n",
              "      <th>서비스</th>\n",
              "      <td>68.7</td>\n",
              "      <td>27.8</td>\n",
              "      <td>-5.0</td>\n",
              "      <td>-3.1</td>\n",
              "      <td>11.6</td>\n",
              "    </tr>\n",
              "    <tr>\n",
              "      <th>계</th>\n",
              "      <td>47.0</td>\n",
              "      <td>59.2</td>\n",
              "      <td>-6.4</td>\n",
              "      <td>-6.5</td>\n",
              "      <td>6.7</td>\n",
              "    </tr>\n",
              "  </tbody>\n",
              "</table>\n",
              "</div>\n",
              "    <div class=\"colab-df-buttons\">\n",
              "\n",
              "  <div class=\"colab-df-container\">\n",
              "    <button class=\"colab-df-convert\" onclick=\"convertToInteractive('df-eece6c19-8ddd-4459-80dd-f27a374c3480')\"\n",
              "            title=\"Convert this dataframe to an interactive table.\"\n",
              "            style=\"display:none;\">\n",
              "\n",
              "  <svg xmlns=\"http://www.w3.org/2000/svg\" height=\"24px\" viewBox=\"0 -960 960 960\">\n",
              "    <path d=\"M120-120v-720h720v720H120Zm60-500h600v-160H180v160Zm220 220h160v-160H400v160Zm0 220h160v-160H400v160ZM180-400h160v-160H180v160Zm440 0h160v-160H620v160ZM180-180h160v-160H180v160Zm440 0h160v-160H620v160Z\"/>\n",
              "  </svg>\n",
              "    </button>\n",
              "\n",
              "  <style>\n",
              "    .colab-df-container {\n",
              "      display:flex;\n",
              "      gap: 12px;\n",
              "    }\n",
              "\n",
              "    .colab-df-convert {\n",
              "      background-color: #E8F0FE;\n",
              "      border: none;\n",
              "      border-radius: 50%;\n",
              "      cursor: pointer;\n",
              "      display: none;\n",
              "      fill: #1967D2;\n",
              "      height: 32px;\n",
              "      padding: 0 0 0 0;\n",
              "      width: 32px;\n",
              "    }\n",
              "\n",
              "    .colab-df-convert:hover {\n",
              "      background-color: #E2EBFA;\n",
              "      box-shadow: 0px 1px 2px rgba(60, 64, 67, 0.3), 0px 1px 3px 1px rgba(60, 64, 67, 0.15);\n",
              "      fill: #174EA6;\n",
              "    }\n",
              "\n",
              "    .colab-df-buttons div {\n",
              "      margin-bottom: 4px;\n",
              "    }\n",
              "\n",
              "    [theme=dark] .colab-df-convert {\n",
              "      background-color: #3B4455;\n",
              "      fill: #D2E3FC;\n",
              "    }\n",
              "\n",
              "    [theme=dark] .colab-df-convert:hover {\n",
              "      background-color: #434B5C;\n",
              "      box-shadow: 0px 1px 3px 1px rgba(0, 0, 0, 0.15);\n",
              "      filter: drop-shadow(0px 1px 2px rgba(0, 0, 0, 0.3));\n",
              "      fill: #FFFFFF;\n",
              "    }\n",
              "  </style>\n",
              "\n",
              "    <script>\n",
              "      const buttonEl =\n",
              "        document.querySelector('#df-eece6c19-8ddd-4459-80dd-f27a374c3480 button.colab-df-convert');\n",
              "      buttonEl.style.display =\n",
              "        google.colab.kernel.accessAllowed ? 'block' : 'none';\n",
              "\n",
              "      async function convertToInteractive(key) {\n",
              "        const element = document.querySelector('#df-eece6c19-8ddd-4459-80dd-f27a374c3480');\n",
              "        const dataTable =\n",
              "          await google.colab.kernel.invokeFunction('convertToInteractive',\n",
              "                                                    [key], {});\n",
              "        if (!dataTable) return;\n",
              "\n",
              "        const docLinkHtml = 'Like what you see? Visit the ' +\n",
              "          '<a target=\"_blank\" href=https://colab.research.google.com/notebooks/data_table.ipynb>data table notebook</a>'\n",
              "          + ' to learn more about interactive tables.';\n",
              "        element.innerHTML = '';\n",
              "        dataTable['output_type'] = 'display_data';\n",
              "        await google.colab.output.renderOutput(dataTable, element);\n",
              "        const docLink = document.createElement('div');\n",
              "        docLink.innerHTML = docLinkHtml;\n",
              "        element.appendChild(docLink);\n",
              "      }\n",
              "    </script>\n",
              "  </div>\n",
              "\n",
              "\n",
              "<div id=\"df-90bbf574-e25d-4a33-aadf-af8de1b3ed18\">\n",
              "  <button class=\"colab-df-quickchart\" onclick=\"quickchart('df-90bbf574-e25d-4a33-aadf-af8de1b3ed18')\"\n",
              "            title=\"Suggest charts\"\n",
              "            style=\"display:none;\">\n",
              "\n",
              "<svg xmlns=\"http://www.w3.org/2000/svg\" height=\"24px\"viewBox=\"0 0 24 24\"\n",
              "     width=\"24px\">\n",
              "    <g>\n",
              "        <path d=\"M19 3H5c-1.1 0-2 .9-2 2v14c0 1.1.9 2 2 2h14c1.1 0 2-.9 2-2V5c0-1.1-.9-2-2-2zM9 17H7v-7h2v7zm4 0h-2V7h2v10zm4 0h-2v-4h2v4z\"/>\n",
              "    </g>\n",
              "</svg>\n",
              "  </button>\n",
              "\n",
              "<style>\n",
              "  .colab-df-quickchart {\n",
              "      --bg-color: #E8F0FE;\n",
              "      --fill-color: #1967D2;\n",
              "      --hover-bg-color: #E2EBFA;\n",
              "      --hover-fill-color: #174EA6;\n",
              "      --disabled-fill-color: #AAA;\n",
              "      --disabled-bg-color: #DDD;\n",
              "  }\n",
              "\n",
              "  [theme=dark] .colab-df-quickchart {\n",
              "      --bg-color: #3B4455;\n",
              "      --fill-color: #D2E3FC;\n",
              "      --hover-bg-color: #434B5C;\n",
              "      --hover-fill-color: #FFFFFF;\n",
              "      --disabled-bg-color: #3B4455;\n",
              "      --disabled-fill-color: #666;\n",
              "  }\n",
              "\n",
              "  .colab-df-quickchart {\n",
              "    background-color: var(--bg-color);\n",
              "    border: none;\n",
              "    border-radius: 50%;\n",
              "    cursor: pointer;\n",
              "    display: none;\n",
              "    fill: var(--fill-color);\n",
              "    height: 32px;\n",
              "    padding: 0;\n",
              "    width: 32px;\n",
              "  }\n",
              "\n",
              "  .colab-df-quickchart:hover {\n",
              "    background-color: var(--hover-bg-color);\n",
              "    box-shadow: 0 1px 2px rgba(60, 64, 67, 0.3), 0 1px 3px 1px rgba(60, 64, 67, 0.15);\n",
              "    fill: var(--button-hover-fill-color);\n",
              "  }\n",
              "\n",
              "  .colab-df-quickchart-complete:disabled,\n",
              "  .colab-df-quickchart-complete:disabled:hover {\n",
              "    background-color: var(--disabled-bg-color);\n",
              "    fill: var(--disabled-fill-color);\n",
              "    box-shadow: none;\n",
              "  }\n",
              "\n",
              "  .colab-df-spinner {\n",
              "    border: 2px solid var(--fill-color);\n",
              "    border-color: transparent;\n",
              "    border-bottom-color: var(--fill-color);\n",
              "    animation:\n",
              "      spin 1s steps(1) infinite;\n",
              "  }\n",
              "\n",
              "  @keyframes spin {\n",
              "    0% {\n",
              "      border-color: transparent;\n",
              "      border-bottom-color: var(--fill-color);\n",
              "      border-left-color: var(--fill-color);\n",
              "    }\n",
              "    20% {\n",
              "      border-color: transparent;\n",
              "      border-left-color: var(--fill-color);\n",
              "      border-top-color: var(--fill-color);\n",
              "    }\n",
              "    30% {\n",
              "      border-color: transparent;\n",
              "      border-left-color: var(--fill-color);\n",
              "      border-top-color: var(--fill-color);\n",
              "      border-right-color: var(--fill-color);\n",
              "    }\n",
              "    40% {\n",
              "      border-color: transparent;\n",
              "      border-right-color: var(--fill-color);\n",
              "      border-top-color: var(--fill-color);\n",
              "    }\n",
              "    60% {\n",
              "      border-color: transparent;\n",
              "      border-right-color: var(--fill-color);\n",
              "    }\n",
              "    80% {\n",
              "      border-color: transparent;\n",
              "      border-right-color: var(--fill-color);\n",
              "      border-bottom-color: var(--fill-color);\n",
              "    }\n",
              "    90% {\n",
              "      border-color: transparent;\n",
              "      border-bottom-color: var(--fill-color);\n",
              "    }\n",
              "  }\n",
              "</style>\n",
              "\n",
              "  <script>\n",
              "    async function quickchart(key) {\n",
              "      const quickchartButtonEl =\n",
              "        document.querySelector('#' + key + ' button');\n",
              "      quickchartButtonEl.disabled = true;  // To prevent multiple clicks.\n",
              "      quickchartButtonEl.classList.add('colab-df-spinner');\n",
              "      try {\n",
              "        const charts = await google.colab.kernel.invokeFunction(\n",
              "            'suggestCharts', [key], {});\n",
              "      } catch (error) {\n",
              "        console.error('Error during call to suggestCharts:', error);\n",
              "      }\n",
              "      quickchartButtonEl.classList.remove('colab-df-spinner');\n",
              "      quickchartButtonEl.classList.add('colab-df-quickchart-complete');\n",
              "    }\n",
              "    (() => {\n",
              "      let quickchartButtonEl =\n",
              "        document.querySelector('#df-90bbf574-e25d-4a33-aadf-af8de1b3ed18 button');\n",
              "      quickchartButtonEl.style.display =\n",
              "        google.colab.kernel.accessAllowed ? 'block' : 'none';\n",
              "    })();\n",
              "  </script>\n",
              "</div>\n",
              "\n",
              "  <div id=\"id_92042006-b5ce-46a5-9a22-2d92c53344db\">\n",
              "    <style>\n",
              "      .colab-df-generate {\n",
              "        background-color: #E8F0FE;\n",
              "        border: none;\n",
              "        border-radius: 50%;\n",
              "        cursor: pointer;\n",
              "        display: none;\n",
              "        fill: #1967D2;\n",
              "        height: 32px;\n",
              "        padding: 0 0 0 0;\n",
              "        width: 32px;\n",
              "      }\n",
              "\n",
              "      .colab-df-generate:hover {\n",
              "        background-color: #E2EBFA;\n",
              "        box-shadow: 0px 1px 2px rgba(60, 64, 67, 0.3), 0px 1px 3px 1px rgba(60, 64, 67, 0.15);\n",
              "        fill: #174EA6;\n",
              "      }\n",
              "\n",
              "      [theme=dark] .colab-df-generate {\n",
              "        background-color: #3B4455;\n",
              "        fill: #D2E3FC;\n",
              "      }\n",
              "\n",
              "      [theme=dark] .colab-df-generate:hover {\n",
              "        background-color: #434B5C;\n",
              "        box-shadow: 0px 1px 3px 1px rgba(0, 0, 0, 0.15);\n",
              "        filter: drop-shadow(0px 1px 2px rgba(0, 0, 0, 0.3));\n",
              "        fill: #FFFFFF;\n",
              "      }\n",
              "    </style>\n",
              "    <button class=\"colab-df-generate\" onclick=\"generateWithVariable('Ctrb_ff_La')\"\n",
              "            title=\"Generate code using this dataframe.\"\n",
              "            style=\"display:none;\">\n",
              "\n",
              "  <svg xmlns=\"http://www.w3.org/2000/svg\" height=\"24px\"viewBox=\"0 0 24 24\"\n",
              "       width=\"24px\">\n",
              "    <path d=\"M7,19H8.4L18.45,9,17,7.55,7,17.6ZM5,21V16.75L18.45,3.32a2,2,0,0,1,2.83,0l1.4,1.43a1.91,1.91,0,0,1,.58,1.4,1.91,1.91,0,0,1-.58,1.4L9.25,21ZM18.45,9,17,7.55Zm-12,3A5.31,5.31,0,0,0,4.9,8.1,5.31,5.31,0,0,0,1,6.5,5.31,5.31,0,0,0,4.9,4.9,5.31,5.31,0,0,0,6.5,1,5.31,5.31,0,0,0,8.1,4.9,5.31,5.31,0,0,0,12,6.5,5.46,5.46,0,0,0,6.5,12Z\"/>\n",
              "  </svg>\n",
              "    </button>\n",
              "    <script>\n",
              "      (() => {\n",
              "      const buttonEl =\n",
              "        document.querySelector('#id_92042006-b5ce-46a5-9a22-2d92c53344db button.colab-df-generate');\n",
              "      buttonEl.style.display =\n",
              "        google.colab.kernel.accessAllowed ? 'block' : 'none';\n",
              "\n",
              "      buttonEl.onclick = () => {\n",
              "        google.colab.notebook.generateWithVariable('Ctrb_ff_La');\n",
              "      }\n",
              "      })();\n",
              "    </script>\n",
              "  </div>\n",
              "\n",
              "    </div>\n",
              "  </div>\n"
            ]
          },
          "metadata": {},
          "execution_count": 90
        }
      ]
    },
    {
      "cell_type": "code",
      "source": [
        "Ctrb_ff_Pa.to_csv('항목별 기여율_파쉐.csv', encoding=\"utf-8-sig\")\n",
        "Ctrb_ff_La.to_csv('항목별 기여율_라스파이레스.csv', encoding=\"utf-8-sig\")"
      ],
      "metadata": {
        "id": "ZUG9Ttio2_ZO"
      },
      "execution_count": 91,
      "outputs": []
    }
  ]
}