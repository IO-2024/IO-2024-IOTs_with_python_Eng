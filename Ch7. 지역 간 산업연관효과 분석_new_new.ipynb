{
  "nbformat": 4,
  "nbformat_minor": 0,
  "metadata": {
    "colab": {
      "provenance": [],
      "include_colab_link": true
    },
    "kernelspec": {
      "name": "python3",
      "display_name": "Python 3"
    },
    "language_info": {
      "name": "python"
    }
  },
  "cells": [
    {
      "cell_type": "markdown",
      "metadata": {
        "id": "view-in-github",
        "colab_type": "text"
      },
      "source": [
        "<a href=\"https://colab.research.google.com/github/IO-2024/IOTs_with_python/blob/main/Ch7.%20%EC%A7%80%EC%97%AD%20%EA%B0%84%20%EC%82%B0%EC%97%85%EC%97%B0%EA%B4%80%ED%9A%A8%EA%B3%BC%20%EB%B6%84%EC%84%9D_new_new.ipynb\" target=\"_parent\"><img src=\"https://colab.research.google.com/assets/colab-badge.svg\" alt=\"Open In Colab\"/></a>"
      ]
    },
    {
      "cell_type": "code",
      "source": [
        "import numpy as np   # Numpy import\n",
        "import pandas as pd  # Pandas import"
      ],
      "metadata": {
        "id": "TR7JvW8CxBFT"
      },
      "execution_count": 10,
      "outputs": []
    },
    {
      "cell_type": "code",
      "source": [
        "np.set_printoptions(precision=3,suppress=True) # 결과를 소수 3자리까지만 보여주는 옵션"
      ],
      "metadata": {
        "id": "Ls6Z_zPIEqPT"
      },
      "execution_count": 11,
      "outputs": []
    },
    {
      "cell_type": "code",
      "source": [
        "Rgt = \"https://raw.githubusercontent.com/IO-2024/IOTs_with_python/main/data/Regional_IO_3regions_3sectors.csv\"  # 지역 간 산업연관표(3지역, 3부문) 불러오기\n",
        "Rgt_3 = pd.read_csv(Rgt)\n",
        "Rgt_3.head()"
      ],
      "metadata": {
        "colab": {
          "base_uri": "https://localhost:8080/",
          "height": 235
        },
        "id": "8D9y7bqcuL7m",
        "outputId": "8f9fbc89-e0ef-4cc5-c73f-cced2b72f4b8"
      },
      "execution_count": 12,
      "outputs": [
        {
          "output_type": "execute_result",
          "data": {
            "text/plain": [
              "    rg  com  수도권 수도권.1 수도권.2  동부권 동부권.1 동부권.2  서부권 서부권.1  ... 동부권.3 동부권.4  \\\n",
              "0   rg  com  농산품   공산품   서비스  농산품   공산품   서비스  농산품   공산품  ...    소비    투자   \n",
              "1  수도권  농산품    0     3     1    0     0     0    0     1  ...     0     0   \n",
              "2  수도권  공산품    2   112    71    1    36    14    1    37  ...     9     6   \n",
              "3  수도권  서비스    1    79   302    1    27    31    1    28  ...    33    13   \n",
              "4  동부권  농산품    0     1     2    1     7     2    0     2  ...     3     1   \n",
              "\n",
              "  동부권.5 서부권.3 서부권.4 서부권.5  지역최종수요계  지역총수요계    수입  총산출액  \n",
              "0    수출    소비    투자    수출  제품최종수요계  제품총수요계  (공제)  총산출액  \n",
              "1     0     0     0     0        1       6     0     6  \n",
              "2     0     7     8     0      295     582     0   582  \n",
              "3     0    31    11     0      706    1204     0  1204  \n",
              "4     0     1     0     0        8      23     0    23  \n",
              "\n",
              "[5 rows x 25 columns]"
            ],
            "text/html": [
              "\n",
              "  <div id=\"df-91474934-dd77-4335-86ea-b2310e13d290\" class=\"colab-df-container\">\n",
              "    <div>\n",
              "<style scoped>\n",
              "    .dataframe tbody tr th:only-of-type {\n",
              "        vertical-align: middle;\n",
              "    }\n",
              "\n",
              "    .dataframe tbody tr th {\n",
              "        vertical-align: top;\n",
              "    }\n",
              "\n",
              "    .dataframe thead th {\n",
              "        text-align: right;\n",
              "    }\n",
              "</style>\n",
              "<table border=\"1\" class=\"dataframe\">\n",
              "  <thead>\n",
              "    <tr style=\"text-align: right;\">\n",
              "      <th></th>\n",
              "      <th>rg</th>\n",
              "      <th>com</th>\n",
              "      <th>수도권</th>\n",
              "      <th>수도권.1</th>\n",
              "      <th>수도권.2</th>\n",
              "      <th>동부권</th>\n",
              "      <th>동부권.1</th>\n",
              "      <th>동부권.2</th>\n",
              "      <th>서부권</th>\n",
              "      <th>서부권.1</th>\n",
              "      <th>...</th>\n",
              "      <th>동부권.3</th>\n",
              "      <th>동부권.4</th>\n",
              "      <th>동부권.5</th>\n",
              "      <th>서부권.3</th>\n",
              "      <th>서부권.4</th>\n",
              "      <th>서부권.5</th>\n",
              "      <th>지역최종수요계</th>\n",
              "      <th>지역총수요계</th>\n",
              "      <th>수입</th>\n",
              "      <th>총산출액</th>\n",
              "    </tr>\n",
              "  </thead>\n",
              "  <tbody>\n",
              "    <tr>\n",
              "      <th>0</th>\n",
              "      <td>rg</td>\n",
              "      <td>com</td>\n",
              "      <td>농산품</td>\n",
              "      <td>공산품</td>\n",
              "      <td>서비스</td>\n",
              "      <td>농산품</td>\n",
              "      <td>공산품</td>\n",
              "      <td>서비스</td>\n",
              "      <td>농산품</td>\n",
              "      <td>공산품</td>\n",
              "      <td>...</td>\n",
              "      <td>소비</td>\n",
              "      <td>투자</td>\n",
              "      <td>수출</td>\n",
              "      <td>소비</td>\n",
              "      <td>투자</td>\n",
              "      <td>수출</td>\n",
              "      <td>제품최종수요계</td>\n",
              "      <td>제품총수요계</td>\n",
              "      <td>(공제)</td>\n",
              "      <td>총산출액</td>\n",
              "    </tr>\n",
              "    <tr>\n",
              "      <th>1</th>\n",
              "      <td>수도권</td>\n",
              "      <td>농산품</td>\n",
              "      <td>0</td>\n",
              "      <td>3</td>\n",
              "      <td>1</td>\n",
              "      <td>0</td>\n",
              "      <td>0</td>\n",
              "      <td>0</td>\n",
              "      <td>0</td>\n",
              "      <td>1</td>\n",
              "      <td>...</td>\n",
              "      <td>0</td>\n",
              "      <td>0</td>\n",
              "      <td>0</td>\n",
              "      <td>0</td>\n",
              "      <td>0</td>\n",
              "      <td>0</td>\n",
              "      <td>1</td>\n",
              "      <td>6</td>\n",
              "      <td>0</td>\n",
              "      <td>6</td>\n",
              "    </tr>\n",
              "    <tr>\n",
              "      <th>2</th>\n",
              "      <td>수도권</td>\n",
              "      <td>공산품</td>\n",
              "      <td>2</td>\n",
              "      <td>112</td>\n",
              "      <td>71</td>\n",
              "      <td>1</td>\n",
              "      <td>36</td>\n",
              "      <td>14</td>\n",
              "      <td>1</td>\n",
              "      <td>37</td>\n",
              "      <td>...</td>\n",
              "      <td>9</td>\n",
              "      <td>6</td>\n",
              "      <td>0</td>\n",
              "      <td>7</td>\n",
              "      <td>8</td>\n",
              "      <td>0</td>\n",
              "      <td>295</td>\n",
              "      <td>582</td>\n",
              "      <td>0</td>\n",
              "      <td>582</td>\n",
              "    </tr>\n",
              "    <tr>\n",
              "      <th>3</th>\n",
              "      <td>수도권</td>\n",
              "      <td>서비스</td>\n",
              "      <td>1</td>\n",
              "      <td>79</td>\n",
              "      <td>302</td>\n",
              "      <td>1</td>\n",
              "      <td>27</td>\n",
              "      <td>31</td>\n",
              "      <td>1</td>\n",
              "      <td>28</td>\n",
              "      <td>...</td>\n",
              "      <td>33</td>\n",
              "      <td>13</td>\n",
              "      <td>0</td>\n",
              "      <td>31</td>\n",
              "      <td>11</td>\n",
              "      <td>0</td>\n",
              "      <td>706</td>\n",
              "      <td>1204</td>\n",
              "      <td>0</td>\n",
              "      <td>1204</td>\n",
              "    </tr>\n",
              "    <tr>\n",
              "      <th>4</th>\n",
              "      <td>동부권</td>\n",
              "      <td>농산품</td>\n",
              "      <td>0</td>\n",
              "      <td>1</td>\n",
              "      <td>2</td>\n",
              "      <td>1</td>\n",
              "      <td>7</td>\n",
              "      <td>2</td>\n",
              "      <td>0</td>\n",
              "      <td>2</td>\n",
              "      <td>...</td>\n",
              "      <td>3</td>\n",
              "      <td>1</td>\n",
              "      <td>0</td>\n",
              "      <td>1</td>\n",
              "      <td>0</td>\n",
              "      <td>0</td>\n",
              "      <td>8</td>\n",
              "      <td>23</td>\n",
              "      <td>0</td>\n",
              "      <td>23</td>\n",
              "    </tr>\n",
              "  </tbody>\n",
              "</table>\n",
              "<p>5 rows × 25 columns</p>\n",
              "</div>\n",
              "    <div class=\"colab-df-buttons\">\n",
              "\n",
              "  <div class=\"colab-df-container\">\n",
              "    <button class=\"colab-df-convert\" onclick=\"convertToInteractive('df-91474934-dd77-4335-86ea-b2310e13d290')\"\n",
              "            title=\"Convert this dataframe to an interactive table.\"\n",
              "            style=\"display:none;\">\n",
              "\n",
              "  <svg xmlns=\"http://www.w3.org/2000/svg\" height=\"24px\" viewBox=\"0 -960 960 960\">\n",
              "    <path d=\"M120-120v-720h720v720H120Zm60-500h600v-160H180v160Zm220 220h160v-160H400v160Zm0 220h160v-160H400v160ZM180-400h160v-160H180v160Zm440 0h160v-160H620v160ZM180-180h160v-160H180v160Zm440 0h160v-160H620v160Z\"/>\n",
              "  </svg>\n",
              "    </button>\n",
              "\n",
              "  <style>\n",
              "    .colab-df-container {\n",
              "      display:flex;\n",
              "      gap: 12px;\n",
              "    }\n",
              "\n",
              "    .colab-df-convert {\n",
              "      background-color: #E8F0FE;\n",
              "      border: none;\n",
              "      border-radius: 50%;\n",
              "      cursor: pointer;\n",
              "      display: none;\n",
              "      fill: #1967D2;\n",
              "      height: 32px;\n",
              "      padding: 0 0 0 0;\n",
              "      width: 32px;\n",
              "    }\n",
              "\n",
              "    .colab-df-convert:hover {\n",
              "      background-color: #E2EBFA;\n",
              "      box-shadow: 0px 1px 2px rgba(60, 64, 67, 0.3), 0px 1px 3px 1px rgba(60, 64, 67, 0.15);\n",
              "      fill: #174EA6;\n",
              "    }\n",
              "\n",
              "    .colab-df-buttons div {\n",
              "      margin-bottom: 4px;\n",
              "    }\n",
              "\n",
              "    [theme=dark] .colab-df-convert {\n",
              "      background-color: #3B4455;\n",
              "      fill: #D2E3FC;\n",
              "    }\n",
              "\n",
              "    [theme=dark] .colab-df-convert:hover {\n",
              "      background-color: #434B5C;\n",
              "      box-shadow: 0px 1px 3px 1px rgba(0, 0, 0, 0.15);\n",
              "      filter: drop-shadow(0px 1px 2px rgba(0, 0, 0, 0.3));\n",
              "      fill: #FFFFFF;\n",
              "    }\n",
              "  </style>\n",
              "\n",
              "    <script>\n",
              "      const buttonEl =\n",
              "        document.querySelector('#df-91474934-dd77-4335-86ea-b2310e13d290 button.colab-df-convert');\n",
              "      buttonEl.style.display =\n",
              "        google.colab.kernel.accessAllowed ? 'block' : 'none';\n",
              "\n",
              "      async function convertToInteractive(key) {\n",
              "        const element = document.querySelector('#df-91474934-dd77-4335-86ea-b2310e13d290');\n",
              "        const dataTable =\n",
              "          await google.colab.kernel.invokeFunction('convertToInteractive',\n",
              "                                                    [key], {});\n",
              "        if (!dataTable) return;\n",
              "\n",
              "        const docLinkHtml = 'Like what you see? Visit the ' +\n",
              "          '<a target=\"_blank\" href=https://colab.research.google.com/notebooks/data_table.ipynb>data table notebook</a>'\n",
              "          + ' to learn more about interactive tables.';\n",
              "        element.innerHTML = '';\n",
              "        dataTable['output_type'] = 'display_data';\n",
              "        await google.colab.output.renderOutput(dataTable, element);\n",
              "        const docLink = document.createElement('div');\n",
              "        docLink.innerHTML = docLinkHtml;\n",
              "        element.appendChild(docLink);\n",
              "      }\n",
              "    </script>\n",
              "  </div>\n",
              "\n",
              "\n",
              "<div id=\"df-a4a722c0-ed97-44fb-aba6-53e39944f0f9\">\n",
              "  <button class=\"colab-df-quickchart\" onclick=\"quickchart('df-a4a722c0-ed97-44fb-aba6-53e39944f0f9')\"\n",
              "            title=\"Suggest charts\"\n",
              "            style=\"display:none;\">\n",
              "\n",
              "<svg xmlns=\"http://www.w3.org/2000/svg\" height=\"24px\"viewBox=\"0 0 24 24\"\n",
              "     width=\"24px\">\n",
              "    <g>\n",
              "        <path d=\"M19 3H5c-1.1 0-2 .9-2 2v14c0 1.1.9 2 2 2h14c1.1 0 2-.9 2-2V5c0-1.1-.9-2-2-2zM9 17H7v-7h2v7zm4 0h-2V7h2v10zm4 0h-2v-4h2v4z\"/>\n",
              "    </g>\n",
              "</svg>\n",
              "  </button>\n",
              "\n",
              "<style>\n",
              "  .colab-df-quickchart {\n",
              "      --bg-color: #E8F0FE;\n",
              "      --fill-color: #1967D2;\n",
              "      --hover-bg-color: #E2EBFA;\n",
              "      --hover-fill-color: #174EA6;\n",
              "      --disabled-fill-color: #AAA;\n",
              "      --disabled-bg-color: #DDD;\n",
              "  }\n",
              "\n",
              "  [theme=dark] .colab-df-quickchart {\n",
              "      --bg-color: #3B4455;\n",
              "      --fill-color: #D2E3FC;\n",
              "      --hover-bg-color: #434B5C;\n",
              "      --hover-fill-color: #FFFFFF;\n",
              "      --disabled-bg-color: #3B4455;\n",
              "      --disabled-fill-color: #666;\n",
              "  }\n",
              "\n",
              "  .colab-df-quickchart {\n",
              "    background-color: var(--bg-color);\n",
              "    border: none;\n",
              "    border-radius: 50%;\n",
              "    cursor: pointer;\n",
              "    display: none;\n",
              "    fill: var(--fill-color);\n",
              "    height: 32px;\n",
              "    padding: 0;\n",
              "    width: 32px;\n",
              "  }\n",
              "\n",
              "  .colab-df-quickchart:hover {\n",
              "    background-color: var(--hover-bg-color);\n",
              "    box-shadow: 0 1px 2px rgba(60, 64, 67, 0.3), 0 1px 3px 1px rgba(60, 64, 67, 0.15);\n",
              "    fill: var(--button-hover-fill-color);\n",
              "  }\n",
              "\n",
              "  .colab-df-quickchart-complete:disabled,\n",
              "  .colab-df-quickchart-complete:disabled:hover {\n",
              "    background-color: var(--disabled-bg-color);\n",
              "    fill: var(--disabled-fill-color);\n",
              "    box-shadow: none;\n",
              "  }\n",
              "\n",
              "  .colab-df-spinner {\n",
              "    border: 2px solid var(--fill-color);\n",
              "    border-color: transparent;\n",
              "    border-bottom-color: var(--fill-color);\n",
              "    animation:\n",
              "      spin 1s steps(1) infinite;\n",
              "  }\n",
              "\n",
              "  @keyframes spin {\n",
              "    0% {\n",
              "      border-color: transparent;\n",
              "      border-bottom-color: var(--fill-color);\n",
              "      border-left-color: var(--fill-color);\n",
              "    }\n",
              "    20% {\n",
              "      border-color: transparent;\n",
              "      border-left-color: var(--fill-color);\n",
              "      border-top-color: var(--fill-color);\n",
              "    }\n",
              "    30% {\n",
              "      border-color: transparent;\n",
              "      border-left-color: var(--fill-color);\n",
              "      border-top-color: var(--fill-color);\n",
              "      border-right-color: var(--fill-color);\n",
              "    }\n",
              "    40% {\n",
              "      border-color: transparent;\n",
              "      border-right-color: var(--fill-color);\n",
              "      border-top-color: var(--fill-color);\n",
              "    }\n",
              "    60% {\n",
              "      border-color: transparent;\n",
              "      border-right-color: var(--fill-color);\n",
              "    }\n",
              "    80% {\n",
              "      border-color: transparent;\n",
              "      border-right-color: var(--fill-color);\n",
              "      border-bottom-color: var(--fill-color);\n",
              "    }\n",
              "    90% {\n",
              "      border-color: transparent;\n",
              "      border-bottom-color: var(--fill-color);\n",
              "    }\n",
              "  }\n",
              "</style>\n",
              "\n",
              "  <script>\n",
              "    async function quickchart(key) {\n",
              "      const quickchartButtonEl =\n",
              "        document.querySelector('#' + key + ' button');\n",
              "      quickchartButtonEl.disabled = true;  // To prevent multiple clicks.\n",
              "      quickchartButtonEl.classList.add('colab-df-spinner');\n",
              "      try {\n",
              "        const charts = await google.colab.kernel.invokeFunction(\n",
              "            'suggestCharts', [key], {});\n",
              "      } catch (error) {\n",
              "        console.error('Error during call to suggestCharts:', error);\n",
              "      }\n",
              "      quickchartButtonEl.classList.remove('colab-df-spinner');\n",
              "      quickchartButtonEl.classList.add('colab-df-quickchart-complete');\n",
              "    }\n",
              "    (() => {\n",
              "      let quickchartButtonEl =\n",
              "        document.querySelector('#df-a4a722c0-ed97-44fb-aba6-53e39944f0f9 button');\n",
              "      quickchartButtonEl.style.display =\n",
              "        google.colab.kernel.accessAllowed ? 'block' : 'none';\n",
              "    })();\n",
              "  </script>\n",
              "</div>\n",
              "\n",
              "    </div>\n",
              "  </div>\n"
            ],
            "application/vnd.google.colaboratory.intrinsic+json": {
              "type": "dataframe",
              "variable_name": "Rgt_3"
            }
          },
          "metadata": {},
          "execution_count": 12
        }
      ]
    },
    {
      "cell_type": "code",
      "source": [
        "Rgt_empt = \"https://raw.githubusercontent.com/IO-2024/IOTs_with_python/main/data/Regional_IO_3sector_3rg_emp.csv\"  # 지역별 고용표(3지역, 3부문) 불러오기\n",
        "Rgt_emp_3 = pd.read_csv(Rgt_empt)\n",
        "Rgt_emp_3.head()"
      ],
      "metadata": {
        "id": "FCwTNqjXHPK5",
        "outputId": "32277db6-e854-4a73-9de3-89e756927a89",
        "colab": {
          "base_uri": "https://localhost:8080/",
          "height": 143
        }
      },
      "execution_count": 13,
      "outputs": [
        {
          "output_type": "execute_result",
          "data": {
            "text/plain": [
              "         cd 수도권        동부권        서부권\n",
              "농산품    135543.0   485642.0   606337.0\n",
              "공산품   1818636.0  1444100.0   834780.0\n",
              "서비스  10302991.0  4744657.0  3749541.0"
            ],
            "text/html": [
              "\n",
              "  <div id=\"df-55dbfd25-85d2-4c36-b1dc-faaa04e26830\" class=\"colab-df-container\">\n",
              "    <div>\n",
              "<style scoped>\n",
              "    .dataframe tbody tr th:only-of-type {\n",
              "        vertical-align: middle;\n",
              "    }\n",
              "\n",
              "    .dataframe tbody tr th {\n",
              "        vertical-align: top;\n",
              "    }\n",
              "\n",
              "    .dataframe thead th {\n",
              "        text-align: right;\n",
              "    }\n",
              "</style>\n",
              "<table border=\"1\" class=\"dataframe\">\n",
              "  <thead>\n",
              "    <tr style=\"text-align: right;\">\n",
              "      <th></th>\n",
              "      <th>cd 수도권</th>\n",
              "      <th>동부권</th>\n",
              "      <th>서부권</th>\n",
              "    </tr>\n",
              "  </thead>\n",
              "  <tbody>\n",
              "    <tr>\n",
              "      <th>농산품</th>\n",
              "      <td>135543.0</td>\n",
              "      <td>485642.0</td>\n",
              "      <td>606337.0</td>\n",
              "    </tr>\n",
              "    <tr>\n",
              "      <th>공산품</th>\n",
              "      <td>1818636.0</td>\n",
              "      <td>1444100.0</td>\n",
              "      <td>834780.0</td>\n",
              "    </tr>\n",
              "    <tr>\n",
              "      <th>서비스</th>\n",
              "      <td>10302991.0</td>\n",
              "      <td>4744657.0</td>\n",
              "      <td>3749541.0</td>\n",
              "    </tr>\n",
              "  </tbody>\n",
              "</table>\n",
              "</div>\n",
              "    <div class=\"colab-df-buttons\">\n",
              "\n",
              "  <div class=\"colab-df-container\">\n",
              "    <button class=\"colab-df-convert\" onclick=\"convertToInteractive('df-55dbfd25-85d2-4c36-b1dc-faaa04e26830')\"\n",
              "            title=\"Convert this dataframe to an interactive table.\"\n",
              "            style=\"display:none;\">\n",
              "\n",
              "  <svg xmlns=\"http://www.w3.org/2000/svg\" height=\"24px\" viewBox=\"0 -960 960 960\">\n",
              "    <path d=\"M120-120v-720h720v720H120Zm60-500h600v-160H180v160Zm220 220h160v-160H400v160Zm0 220h160v-160H400v160ZM180-400h160v-160H180v160Zm440 0h160v-160H620v160ZM180-180h160v-160H180v160Zm440 0h160v-160H620v160Z\"/>\n",
              "  </svg>\n",
              "    </button>\n",
              "\n",
              "  <style>\n",
              "    .colab-df-container {\n",
              "      display:flex;\n",
              "      gap: 12px;\n",
              "    }\n",
              "\n",
              "    .colab-df-convert {\n",
              "      background-color: #E8F0FE;\n",
              "      border: none;\n",
              "      border-radius: 50%;\n",
              "      cursor: pointer;\n",
              "      display: none;\n",
              "      fill: #1967D2;\n",
              "      height: 32px;\n",
              "      padding: 0 0 0 0;\n",
              "      width: 32px;\n",
              "    }\n",
              "\n",
              "    .colab-df-convert:hover {\n",
              "      background-color: #E2EBFA;\n",
              "      box-shadow: 0px 1px 2px rgba(60, 64, 67, 0.3), 0px 1px 3px 1px rgba(60, 64, 67, 0.15);\n",
              "      fill: #174EA6;\n",
              "    }\n",
              "\n",
              "    .colab-df-buttons div {\n",
              "      margin-bottom: 4px;\n",
              "    }\n",
              "\n",
              "    [theme=dark] .colab-df-convert {\n",
              "      background-color: #3B4455;\n",
              "      fill: #D2E3FC;\n",
              "    }\n",
              "\n",
              "    [theme=dark] .colab-df-convert:hover {\n",
              "      background-color: #434B5C;\n",
              "      box-shadow: 0px 1px 3px 1px rgba(0, 0, 0, 0.15);\n",
              "      filter: drop-shadow(0px 1px 2px rgba(0, 0, 0, 0.3));\n",
              "      fill: #FFFFFF;\n",
              "    }\n",
              "  </style>\n",
              "\n",
              "    <script>\n",
              "      const buttonEl =\n",
              "        document.querySelector('#df-55dbfd25-85d2-4c36-b1dc-faaa04e26830 button.colab-df-convert');\n",
              "      buttonEl.style.display =\n",
              "        google.colab.kernel.accessAllowed ? 'block' : 'none';\n",
              "\n",
              "      async function convertToInteractive(key) {\n",
              "        const element = document.querySelector('#df-55dbfd25-85d2-4c36-b1dc-faaa04e26830');\n",
              "        const dataTable =\n",
              "          await google.colab.kernel.invokeFunction('convertToInteractive',\n",
              "                                                    [key], {});\n",
              "        if (!dataTable) return;\n",
              "\n",
              "        const docLinkHtml = 'Like what you see? Visit the ' +\n",
              "          '<a target=\"_blank\" href=https://colab.research.google.com/notebooks/data_table.ipynb>data table notebook</a>'\n",
              "          + ' to learn more about interactive tables.';\n",
              "        element.innerHTML = '';\n",
              "        dataTable['output_type'] = 'display_data';\n",
              "        await google.colab.output.renderOutput(dataTable, element);\n",
              "        const docLink = document.createElement('div');\n",
              "        docLink.innerHTML = docLinkHtml;\n",
              "        element.appendChild(docLink);\n",
              "      }\n",
              "    </script>\n",
              "  </div>\n",
              "\n",
              "\n",
              "<div id=\"df-d030a2f3-d331-4ecd-b4f0-37f4bc1686eb\">\n",
              "  <button class=\"colab-df-quickchart\" onclick=\"quickchart('df-d030a2f3-d331-4ecd-b4f0-37f4bc1686eb')\"\n",
              "            title=\"Suggest charts\"\n",
              "            style=\"display:none;\">\n",
              "\n",
              "<svg xmlns=\"http://www.w3.org/2000/svg\" height=\"24px\"viewBox=\"0 0 24 24\"\n",
              "     width=\"24px\">\n",
              "    <g>\n",
              "        <path d=\"M19 3H5c-1.1 0-2 .9-2 2v14c0 1.1.9 2 2 2h14c1.1 0 2-.9 2-2V5c0-1.1-.9-2-2-2zM9 17H7v-7h2v7zm4 0h-2V7h2v10zm4 0h-2v-4h2v4z\"/>\n",
              "    </g>\n",
              "</svg>\n",
              "  </button>\n",
              "\n",
              "<style>\n",
              "  .colab-df-quickchart {\n",
              "      --bg-color: #E8F0FE;\n",
              "      --fill-color: #1967D2;\n",
              "      --hover-bg-color: #E2EBFA;\n",
              "      --hover-fill-color: #174EA6;\n",
              "      --disabled-fill-color: #AAA;\n",
              "      --disabled-bg-color: #DDD;\n",
              "  }\n",
              "\n",
              "  [theme=dark] .colab-df-quickchart {\n",
              "      --bg-color: #3B4455;\n",
              "      --fill-color: #D2E3FC;\n",
              "      --hover-bg-color: #434B5C;\n",
              "      --hover-fill-color: #FFFFFF;\n",
              "      --disabled-bg-color: #3B4455;\n",
              "      --disabled-fill-color: #666;\n",
              "  }\n",
              "\n",
              "  .colab-df-quickchart {\n",
              "    background-color: var(--bg-color);\n",
              "    border: none;\n",
              "    border-radius: 50%;\n",
              "    cursor: pointer;\n",
              "    display: none;\n",
              "    fill: var(--fill-color);\n",
              "    height: 32px;\n",
              "    padding: 0;\n",
              "    width: 32px;\n",
              "  }\n",
              "\n",
              "  .colab-df-quickchart:hover {\n",
              "    background-color: var(--hover-bg-color);\n",
              "    box-shadow: 0 1px 2px rgba(60, 64, 67, 0.3), 0 1px 3px 1px rgba(60, 64, 67, 0.15);\n",
              "    fill: var(--button-hover-fill-color);\n",
              "  }\n",
              "\n",
              "  .colab-df-quickchart-complete:disabled,\n",
              "  .colab-df-quickchart-complete:disabled:hover {\n",
              "    background-color: var(--disabled-bg-color);\n",
              "    fill: var(--disabled-fill-color);\n",
              "    box-shadow: none;\n",
              "  }\n",
              "\n",
              "  .colab-df-spinner {\n",
              "    border: 2px solid var(--fill-color);\n",
              "    border-color: transparent;\n",
              "    border-bottom-color: var(--fill-color);\n",
              "    animation:\n",
              "      spin 1s steps(1) infinite;\n",
              "  }\n",
              "\n",
              "  @keyframes spin {\n",
              "    0% {\n",
              "      border-color: transparent;\n",
              "      border-bottom-color: var(--fill-color);\n",
              "      border-left-color: var(--fill-color);\n",
              "    }\n",
              "    20% {\n",
              "      border-color: transparent;\n",
              "      border-left-color: var(--fill-color);\n",
              "      border-top-color: var(--fill-color);\n",
              "    }\n",
              "    30% {\n",
              "      border-color: transparent;\n",
              "      border-left-color: var(--fill-color);\n",
              "      border-top-color: var(--fill-color);\n",
              "      border-right-color: var(--fill-color);\n",
              "    }\n",
              "    40% {\n",
              "      border-color: transparent;\n",
              "      border-right-color: var(--fill-color);\n",
              "      border-top-color: var(--fill-color);\n",
              "    }\n",
              "    60% {\n",
              "      border-color: transparent;\n",
              "      border-right-color: var(--fill-color);\n",
              "    }\n",
              "    80% {\n",
              "      border-color: transparent;\n",
              "      border-right-color: var(--fill-color);\n",
              "      border-bottom-color: var(--fill-color);\n",
              "    }\n",
              "    90% {\n",
              "      border-color: transparent;\n",
              "      border-bottom-color: var(--fill-color);\n",
              "    }\n",
              "  }\n",
              "</style>\n",
              "\n",
              "  <script>\n",
              "    async function quickchart(key) {\n",
              "      const quickchartButtonEl =\n",
              "        document.querySelector('#' + key + ' button');\n",
              "      quickchartButtonEl.disabled = true;  // To prevent multiple clicks.\n",
              "      quickchartButtonEl.classList.add('colab-df-spinner');\n",
              "      try {\n",
              "        const charts = await google.colab.kernel.invokeFunction(\n",
              "            'suggestCharts', [key], {});\n",
              "      } catch (error) {\n",
              "        console.error('Error during call to suggestCharts:', error);\n",
              "      }\n",
              "      quickchartButtonEl.classList.remove('colab-df-spinner');\n",
              "      quickchartButtonEl.classList.add('colab-df-quickchart-complete');\n",
              "    }\n",
              "    (() => {\n",
              "      let quickchartButtonEl =\n",
              "        document.querySelector('#df-d030a2f3-d331-4ecd-b4f0-37f4bc1686eb button');\n",
              "      quickchartButtonEl.style.display =\n",
              "        google.colab.kernel.accessAllowed ? 'block' : 'none';\n",
              "    })();\n",
              "  </script>\n",
              "</div>\n",
              "\n",
              "    </div>\n",
              "  </div>\n"
            ],
            "application/vnd.google.colaboratory.intrinsic+json": {
              "type": "dataframe",
              "variable_name": "Rgt_emp_3",
              "summary": "{\n  \"name\": \"Rgt_emp_3\",\n  \"rows\": 3,\n  \"fields\": [\n    {\n      \"column\": \"cd \\uc218\\ub3c4\\uad8c\",\n      \"properties\": {\n        \"dtype\": \"number\",\n        \"std\": 5449680.122805038,\n        \"min\": 135543.0,\n        \"max\": 10302991.0,\n        \"num_unique_values\": 3,\n        \"samples\": [\n          135543.0,\n          1818636.0,\n          10302991.0\n        ],\n        \"semantic_type\": \"\",\n        \"description\": \"\"\n      }\n    },\n    {\n      \"column\": \"\\ub3d9\\ubd80\\uad8c\",\n      \"properties\": {\n        \"dtype\": \"number\",\n        \"std\": 2234260.7658253172,\n        \"min\": 485642.0,\n        \"max\": 4744657.0,\n        \"num_unique_values\": 3,\n        \"samples\": [\n          485642.0,\n          1444100.0,\n          4744657.0\n        ],\n        \"semantic_type\": \"\",\n        \"description\": \"\"\n      }\n    },\n    {\n      \"column\": \"\\uc11c\\ubd80\\uad8c\",\n      \"properties\": {\n        \"dtype\": \"number\",\n        \"std\": 1752510.070203402,\n        \"min\": 606337.0,\n        \"max\": 3749541.0,\n        \"num_unique_values\": 3,\n        \"samples\": [\n          606337.0,\n          834780.0,\n          3749541.0\n        ],\n        \"semantic_type\": \"\",\n        \"description\": \"\"\n      }\n    }\n  ]\n}"
            }
          },
          "metadata": {},
          "execution_count": 13
        }
      ]
    },
    {
      "cell_type": "markdown",
      "source": [
        "## 지역, 산업구조 분석"
      ],
      "metadata": {
        "id": "N45bkFE96GzI"
      }
    },
    {
      "cell_type": "code",
      "source": [
        "Rgt_33 = Rgt_3.to_numpy()\n",
        "Mt = Rgt_33[1:,2:].astype(float)\n",
        "Mt"
      ],
      "metadata": {
        "id": "lgZdmFj5ZQ2P",
        "outputId": "0bce1df9-b3d0-43b7-964b-2b68c8bb81d9",
        "colab": {
          "base_uri": "https://localhost:8080/"
        }
      },
      "execution_count": 15,
      "outputs": [
        {
          "output_type": "execute_result",
          "data": {
            "text/plain": [
              "array([[   0.,    3.,    1.,    0.,    0.,    0.,    0.,    1.,    0.,\n",
              "           5.,    1.,    0.,    0.,    0.,    0.,    0.,    0.,    0.,\n",
              "           0.,    1.,    6.,    0.,    6.],\n",
              "       [   2.,  112.,   71.,    1.,   36.,   14.,    1.,   37.,   13.,\n",
              "         287.,   29.,   21.,  215.,    9.,    6.,    0.,    7.,    8.,\n",
              "           0.,  295.,  582.,    0.,  582.],\n",
              "       [   1.,   79.,  302.,    1.,   27.,   31.,    1.,   28.,   28.,\n",
              "         498.,  387.,  164.,   67.,   33.,   13.,    0.,   31.,   11.,\n",
              "           0.,  706., 1204.,    0., 1204.],\n",
              "       [   0.,    1.,    2.,    1.,    7.,    2.,    0.,    2.,    0.,\n",
              "          15.,    3.,    0.,    0.,    3.,    1.,    0.,    1.,    0.,\n",
              "           0.,    8.,   23.,    0.,   23.],\n",
              "       [   0.,   43.,   38.,    4.,  158.,   40.,    1.,   36.,   13.,\n",
              "         333.,   20.,   15.,    0.,   19.,   11.,  226.,    7.,    7.,\n",
              "           0.,  305.,  638.,    0.,  638.],\n",
              "       [   0.,    4.,   15.,    2.,   59.,   76.,    0.,    3.,    4.,\n",
              "         163.,   11.,    2.,    0.,  194.,   77.,   26.,    5.,    1.,\n",
              "           0.,  316.,  479.,    0.,  479.],\n",
              "       [   0.,    2.,    3.,    0.,    1.,    1.,    1.,   12.,    2.,\n",
              "          22.,    3.,    0.,    0.,    1.,    0.,    0.,    2.,    1.,\n",
              "           0.,    7.,   29.,    0.,   29.],\n",
              "       [   0.,   46.,   40.,    1.,   41.,   15.,    6.,   88.,   31.,\n",
              "         268.,   15.,    9.,    0.,    7.,    4.,    0.,   15.,    5.,\n",
              "         168.,  223.,  491.,    0.,  491.],\n",
              "       [   0.,    3.,   17.,    0.,    3.,    3.,    2.,   41.,   56.,\n",
              "         125.,   15.,    4.,    0.,    5.,    1.,    0.,  146.,   71.,\n",
              "          12.,  254.,  379.,    0.,  379.],\n",
              "       [   0.,    3.,    0.,    0.,    2.,    0.,    0.,    3.,    0.,\n",
              "           8.,    1.,    0.,    0.,    1.,    0.,    0.,    1.,    0.,\n",
              "           0.,    3.,   11.,  -11.,    0.],\n",
              "       [   0.,  101.,   41.,    0.,  130.,   18.,    1.,   99.,   18.,\n",
              "         408.,   27.,   29.,    2.,   15.,   12.,    0.,   11.,   13.,\n",
              "           0.,  109.,  517., -517.,    0.],\n",
              "       [   0.,    6.,   25.,    0.,    6.,   13.,    0.,    4.,    8.,\n",
              "          62.,   15.,    5.,    0.,    7.,    1.,    0.,    7.,    1.,\n",
              "           0.,   36.,   98.,  -98.,    0.],\n",
              "       [   3.,  403.,  555.,   10.,  470.,  213.,   13.,  354.,  173.,\n",
              "        2194.,  527.,  249.,  284.,  294.,  126.,  252.,  233.,  118.,\n",
              "         180., 2263., 4457., -626., 3831.],\n",
              "       [   0.,   71.,  324.,    2.,   63.,  135.,    3.,   43.,  109.,\n",
              "         750.,    0.,    0.,    0.,    0.,    0.,    0.,    0.,    0.,\n",
              "           0.,    0.,    0.,    0.,    0.],\n",
              "       [   2.,   52.,  170.,    9.,   45.,   65.,   11.,   43.,   45.,\n",
              "         442.,    0.,    0.,    0.,    0.,    0.,    0.,    0.,    0.,\n",
              "           0.,    0.,    0.,    0.,    0.],\n",
              "       [   1.,   45.,  104.,    2.,   37.,   48.,    2.,   32.,   38.,\n",
              "         309.,    0.,    0.,    0.,    0.,    0.,    0.,    0.,    0.,\n",
              "           0.,    0.,    0.,    0.,    0.],\n",
              "       [   0.,   11.,   51.,    0.,   23.,   18.,    0.,   19.,   14.,\n",
              "         136.,    0.,    0.,    0.,    0.,    0.,    0.,    0.,    0.,\n",
              "           0.,    0.,    0.,    0.,    0.],\n",
              "       [   3.,  179.,  649.,   13.,  168.,  266.,   16.,  137.,  206.,\n",
              "        1637.,    0.,    0.,    0.,    0.,    0.,    0.,    0.,    0.,\n",
              "           0.,    0.,    0.,    0.,    0.],\n",
              "       [   6.,  582., 1204.,   23.,  638.,  479.,   29.,  491.,  379.,\n",
              "        3831.,    0.,    0.,    0.,    0.,    0.,    0.,    0.,    0.,\n",
              "           0.,    0.,    0.,    0.,    0.]])"
            ]
          },
          "metadata": {},
          "execution_count": 15
        }
      ]
    },
    {
      "cell_type": "code",
      "source": [
        "Va = Mt[-2,:10].reshape([1,10]) # 지역별, 부문별 부가가치 벡터\n",
        "Ct = Mt[-1,:10].reshape([1,10])  # 지역별, 부문별 총산출액 벡터\n",
        "Ct"
      ],
      "metadata": {
        "id": "ct-TgHVXrlZj",
        "outputId": "628803c1-287d-4e35-e3ab-3f472e47a044",
        "colab": {
          "base_uri": "https://localhost:8080/"
        }
      },
      "execution_count": 8,
      "outputs": [
        {
          "output_type": "execute_result",
          "data": {
            "text/plain": [
              "array([[   6.,  582., 1204.,   23.,  638.,  479.,   29.,  491.,  379.,\n",
              "        3831.]])"
            ]
          },
          "metadata": {},
          "execution_count": 8
        }
      ]
    },
    {
      "cell_type": "code",
      "source": [
        "# 지역기준\n",
        "Sudo = np.vstack((Va[:,:3].sum(),Ct[:,:3].sum()))      # 수도권\n",
        "Dongbu = np.vstack((Va[:,3:6].sum(),Ct[:,3:6].sum()))  # 동부권\n",
        "Seobu = np.vstack((Va[:,6:9].sum(),Ct[:,6:9].sum()))   # 서부권\n",
        "\n",
        "Sm_vact = np.vstack((Va[:,9],Ct[:,9]))\n",
        "Vact_all = np.hstack((Sudo, Dongbu, Seobu, Sm_vact))\n",
        "\n",
        "Va_sm = np.hstack((Sudo, Dongbu, Seobu))\n",
        "Ctva_wgt = (Vact_all/Sm_vact)\n",
        "Str_rg = np.vstack((Vact_all,Ctva_wgt))\n",
        "Str_rg.round(1)"
      ],
      "metadata": {
        "id": "kmVCLDn0rleg",
        "outputId": "db2567f7-04b3-43d6-eab3-49e5fcbec724",
        "colab": {
          "base_uri": "https://localhost:8080/"
        }
      },
      "execution_count": null,
      "outputs": [
        {
          "output_type": "execute_result",
          "data": {
            "text/plain": [
              "array([[ 831. ,  447. ,  359. , 1637. ],\n",
              "       [1792. , 1140. ,  899. , 3831. ],\n",
              "       [   0.5,    0.3,    0.2,    1. ],\n",
              "       [   0.5,    0.3,    0.2,    1. ]])"
            ]
          },
          "metadata": {},
          "execution_count": 7
        }
      ]
    },
    {
      "cell_type": "markdown",
      "source": [
        "### 지역별 산업 비중"
      ],
      "metadata": {
        "id": "FEnNSi33PSwM"
      }
    },
    {
      "cell_type": "code",
      "source": [
        "# 지역별 산업비중(총산출액 기준)\n",
        "Sudo_ind_by_ct = (Mt[-1,:3]/Str_rg[1,0]*100) # 수도권\n",
        "Dongbu_ind_by_ct = (Mt[-1,3:6]/Str_rg[1,1]*100) # 동부권\n",
        "Seobu_ind_by_ct = (Mt[-1,6:9]/Str_rg[1,2]*100) # 동부권\n",
        "Tot_ind_by_ct =  ((Mt[-1,:3]+Mt[-1,3:6]+Mt[-1,6:9])/Vact_all[1,3]*100)  # 전지역\n",
        "\n",
        "Wgt_ind_by_region_ct = np.vstack((Sudo_ind_by_ct,Dongbu_ind_by_ct,Seobu_ind_by_ct, Tot_ind_by_ct))\n",
        "print('지역별 산업 비중(총산출액 기준)  \\n',Wgt_ind_by_region_ct.round(1))\n"
      ],
      "metadata": {
        "id": "rvvcwS78PU9f",
        "outputId": "fb6ab3f5-b64a-4f57-f189-529a2ded2737",
        "colab": {
          "base_uri": "https://localhost:8080/"
        }
      },
      "execution_count": null,
      "outputs": [
        {
          "output_type": "stream",
          "name": "stdout",
          "text": [
            "지역별 산업 비중(총산출액 기준)  \n",
            " [[ 0.3 32.5 67.2]\n",
            " [ 2.  56.  42. ]\n",
            " [ 3.2 54.6 42.2]\n",
            " [ 1.5 44.7 53.8]]\n"
          ]
        }
      ]
    },
    {
      "cell_type": "code",
      "source": [
        "# 지역별 산업비중(부가가치 기준)\n",
        "\n",
        "Sudo_ind_by_va = (Mt[-2,:3]/Str_rg[0,0]*100) # 수도권\n",
        "Dongbu_ind_by_va = (Mt[-2,3:6]/Str_rg[0,1]*100) # 동부권\n",
        "Seobu_ind_by_va = (Mt[-2,6:9]/Str_rg[0,2]*100) # 서부권\n",
        "Tot_ind_by_va =  ((Mt[-2,:3]+Mt[-2,3:6]+Mt[-2,6:9])/Vact_all[0,3]*100)  # 전지역\n",
        "\n",
        "Wgt_ind_by_region_va = np.vstack((Sudo_ind_by_va,Dongbu_ind_by_va,Seobu_ind_by_va,Tot_ind_by_va))\n",
        "print('지역별 산업 비중(부가가치 기준)  \\n',Wgt_ind_by_region_va.round(1))"
      ],
      "metadata": {
        "id": "yY_PbDWfPU_9",
        "outputId": "534022c4-60c7-4398-a0db-a8ac3febff79",
        "colab": {
          "base_uri": "https://localhost:8080/"
        }
      },
      "execution_count": null,
      "outputs": [
        {
          "output_type": "stream",
          "name": "stdout",
          "text": [
            "지역별 산업 비중(부가가치 기준)  \n",
            " [[ 0.4 21.5 78.1]\n",
            " [ 2.9 37.6 59.5]\n",
            " [ 4.5 38.2 57.4]\n",
            " [ 2.  29.6 68.5]]\n"
          ]
        }
      ]
    },
    {
      "cell_type": "code",
      "source": [
        "CT_Reg = pd.DataFrame(Wgt_ind_by_region_ct.round(1), columns = ['농산품', '공산품', '서비스'],\n",
        "                     index=['수도권', '동부권', '서부권','전지역']) # 변수명 붙여서 pandas로 내보내기\n",
        "CT_Reg"
      ],
      "metadata": {
        "id": "4hECIqhuPVCL",
        "outputId": "6778dacd-6dcb-4d43-c113-9e6c4ed76c67",
        "colab": {
          "base_uri": "https://localhost:8080/",
          "height": 175
        }
      },
      "execution_count": null,
      "outputs": [
        {
          "output_type": "execute_result",
          "data": {
            "text/plain": [
              "     농산품   공산품   서비스\n",
              "수도권  0.3  32.5  67.2\n",
              "동부권  2.0  56.0  42.0\n",
              "서부권  3.2  54.6  42.2\n",
              "전지역  1.5  44.7  53.8"
            ],
            "text/html": [
              "\n",
              "  <div id=\"df-eeaa162a-fac6-479a-b2a3-30580d5ef616\" class=\"colab-df-container\">\n",
              "    <div>\n",
              "<style scoped>\n",
              "    .dataframe tbody tr th:only-of-type {\n",
              "        vertical-align: middle;\n",
              "    }\n",
              "\n",
              "    .dataframe tbody tr th {\n",
              "        vertical-align: top;\n",
              "    }\n",
              "\n",
              "    .dataframe thead th {\n",
              "        text-align: right;\n",
              "    }\n",
              "</style>\n",
              "<table border=\"1\" class=\"dataframe\">\n",
              "  <thead>\n",
              "    <tr style=\"text-align: right;\">\n",
              "      <th></th>\n",
              "      <th>농산품</th>\n",
              "      <th>공산품</th>\n",
              "      <th>서비스</th>\n",
              "    </tr>\n",
              "  </thead>\n",
              "  <tbody>\n",
              "    <tr>\n",
              "      <th>수도권</th>\n",
              "      <td>0.3</td>\n",
              "      <td>32.5</td>\n",
              "      <td>67.2</td>\n",
              "    </tr>\n",
              "    <tr>\n",
              "      <th>동부권</th>\n",
              "      <td>2.0</td>\n",
              "      <td>56.0</td>\n",
              "      <td>42.0</td>\n",
              "    </tr>\n",
              "    <tr>\n",
              "      <th>서부권</th>\n",
              "      <td>3.2</td>\n",
              "      <td>54.6</td>\n",
              "      <td>42.2</td>\n",
              "    </tr>\n",
              "    <tr>\n",
              "      <th>전지역</th>\n",
              "      <td>1.5</td>\n",
              "      <td>44.7</td>\n",
              "      <td>53.8</td>\n",
              "    </tr>\n",
              "  </tbody>\n",
              "</table>\n",
              "</div>\n",
              "    <div class=\"colab-df-buttons\">\n",
              "\n",
              "  <div class=\"colab-df-container\">\n",
              "    <button class=\"colab-df-convert\" onclick=\"convertToInteractive('df-eeaa162a-fac6-479a-b2a3-30580d5ef616')\"\n",
              "            title=\"Convert this dataframe to an interactive table.\"\n",
              "            style=\"display:none;\">\n",
              "\n",
              "  <svg xmlns=\"http://www.w3.org/2000/svg\" height=\"24px\" viewBox=\"0 -960 960 960\">\n",
              "    <path d=\"M120-120v-720h720v720H120Zm60-500h600v-160H180v160Zm220 220h160v-160H400v160Zm0 220h160v-160H400v160ZM180-400h160v-160H180v160Zm440 0h160v-160H620v160ZM180-180h160v-160H180v160Zm440 0h160v-160H620v160Z\"/>\n",
              "  </svg>\n",
              "    </button>\n",
              "\n",
              "  <style>\n",
              "    .colab-df-container {\n",
              "      display:flex;\n",
              "      gap: 12px;\n",
              "    }\n",
              "\n",
              "    .colab-df-convert {\n",
              "      background-color: #E8F0FE;\n",
              "      border: none;\n",
              "      border-radius: 50%;\n",
              "      cursor: pointer;\n",
              "      display: none;\n",
              "      fill: #1967D2;\n",
              "      height: 32px;\n",
              "      padding: 0 0 0 0;\n",
              "      width: 32px;\n",
              "    }\n",
              "\n",
              "    .colab-df-convert:hover {\n",
              "      background-color: #E2EBFA;\n",
              "      box-shadow: 0px 1px 2px rgba(60, 64, 67, 0.3), 0px 1px 3px 1px rgba(60, 64, 67, 0.15);\n",
              "      fill: #174EA6;\n",
              "    }\n",
              "\n",
              "    .colab-df-buttons div {\n",
              "      margin-bottom: 4px;\n",
              "    }\n",
              "\n",
              "    [theme=dark] .colab-df-convert {\n",
              "      background-color: #3B4455;\n",
              "      fill: #D2E3FC;\n",
              "    }\n",
              "\n",
              "    [theme=dark] .colab-df-convert:hover {\n",
              "      background-color: #434B5C;\n",
              "      box-shadow: 0px 1px 3px 1px rgba(0, 0, 0, 0.15);\n",
              "      filter: drop-shadow(0px 1px 2px rgba(0, 0, 0, 0.3));\n",
              "      fill: #FFFFFF;\n",
              "    }\n",
              "  </style>\n",
              "\n",
              "    <script>\n",
              "      const buttonEl =\n",
              "        document.querySelector('#df-eeaa162a-fac6-479a-b2a3-30580d5ef616 button.colab-df-convert');\n",
              "      buttonEl.style.display =\n",
              "        google.colab.kernel.accessAllowed ? 'block' : 'none';\n",
              "\n",
              "      async function convertToInteractive(key) {\n",
              "        const element = document.querySelector('#df-eeaa162a-fac6-479a-b2a3-30580d5ef616');\n",
              "        const dataTable =\n",
              "          await google.colab.kernel.invokeFunction('convertToInteractive',\n",
              "                                                    [key], {});\n",
              "        if (!dataTable) return;\n",
              "\n",
              "        const docLinkHtml = 'Like what you see? Visit the ' +\n",
              "          '<a target=\"_blank\" href=https://colab.research.google.com/notebooks/data_table.ipynb>data table notebook</a>'\n",
              "          + ' to learn more about interactive tables.';\n",
              "        element.innerHTML = '';\n",
              "        dataTable['output_type'] = 'display_data';\n",
              "        await google.colab.output.renderOutput(dataTable, element);\n",
              "        const docLink = document.createElement('div');\n",
              "        docLink.innerHTML = docLinkHtml;\n",
              "        element.appendChild(docLink);\n",
              "      }\n",
              "    </script>\n",
              "  </div>\n",
              "\n",
              "\n",
              "<div id=\"df-8e07a637-fb42-466b-b8c5-8b9c6066736b\">\n",
              "  <button class=\"colab-df-quickchart\" onclick=\"quickchart('df-8e07a637-fb42-466b-b8c5-8b9c6066736b')\"\n",
              "            title=\"Suggest charts\"\n",
              "            style=\"display:none;\">\n",
              "\n",
              "<svg xmlns=\"http://www.w3.org/2000/svg\" height=\"24px\"viewBox=\"0 0 24 24\"\n",
              "     width=\"24px\">\n",
              "    <g>\n",
              "        <path d=\"M19 3H5c-1.1 0-2 .9-2 2v14c0 1.1.9 2 2 2h14c1.1 0 2-.9 2-2V5c0-1.1-.9-2-2-2zM9 17H7v-7h2v7zm4 0h-2V7h2v10zm4 0h-2v-4h2v4z\"/>\n",
              "    </g>\n",
              "</svg>\n",
              "  </button>\n",
              "\n",
              "<style>\n",
              "  .colab-df-quickchart {\n",
              "      --bg-color: #E8F0FE;\n",
              "      --fill-color: #1967D2;\n",
              "      --hover-bg-color: #E2EBFA;\n",
              "      --hover-fill-color: #174EA6;\n",
              "      --disabled-fill-color: #AAA;\n",
              "      --disabled-bg-color: #DDD;\n",
              "  }\n",
              "\n",
              "  [theme=dark] .colab-df-quickchart {\n",
              "      --bg-color: #3B4455;\n",
              "      --fill-color: #D2E3FC;\n",
              "      --hover-bg-color: #434B5C;\n",
              "      --hover-fill-color: #FFFFFF;\n",
              "      --disabled-bg-color: #3B4455;\n",
              "      --disabled-fill-color: #666;\n",
              "  }\n",
              "\n",
              "  .colab-df-quickchart {\n",
              "    background-color: var(--bg-color);\n",
              "    border: none;\n",
              "    border-radius: 50%;\n",
              "    cursor: pointer;\n",
              "    display: none;\n",
              "    fill: var(--fill-color);\n",
              "    height: 32px;\n",
              "    padding: 0;\n",
              "    width: 32px;\n",
              "  }\n",
              "\n",
              "  .colab-df-quickchart:hover {\n",
              "    background-color: var(--hover-bg-color);\n",
              "    box-shadow: 0 1px 2px rgba(60, 64, 67, 0.3), 0 1px 3px 1px rgba(60, 64, 67, 0.15);\n",
              "    fill: var(--button-hover-fill-color);\n",
              "  }\n",
              "\n",
              "  .colab-df-quickchart-complete:disabled,\n",
              "  .colab-df-quickchart-complete:disabled:hover {\n",
              "    background-color: var(--disabled-bg-color);\n",
              "    fill: var(--disabled-fill-color);\n",
              "    box-shadow: none;\n",
              "  }\n",
              "\n",
              "  .colab-df-spinner {\n",
              "    border: 2px solid var(--fill-color);\n",
              "    border-color: transparent;\n",
              "    border-bottom-color: var(--fill-color);\n",
              "    animation:\n",
              "      spin 1s steps(1) infinite;\n",
              "  }\n",
              "\n",
              "  @keyframes spin {\n",
              "    0% {\n",
              "      border-color: transparent;\n",
              "      border-bottom-color: var(--fill-color);\n",
              "      border-left-color: var(--fill-color);\n",
              "    }\n",
              "    20% {\n",
              "      border-color: transparent;\n",
              "      border-left-color: var(--fill-color);\n",
              "      border-top-color: var(--fill-color);\n",
              "    }\n",
              "    30% {\n",
              "      border-color: transparent;\n",
              "      border-left-color: var(--fill-color);\n",
              "      border-top-color: var(--fill-color);\n",
              "      border-right-color: var(--fill-color);\n",
              "    }\n",
              "    40% {\n",
              "      border-color: transparent;\n",
              "      border-right-color: var(--fill-color);\n",
              "      border-top-color: var(--fill-color);\n",
              "    }\n",
              "    60% {\n",
              "      border-color: transparent;\n",
              "      border-right-color: var(--fill-color);\n",
              "    }\n",
              "    80% {\n",
              "      border-color: transparent;\n",
              "      border-right-color: var(--fill-color);\n",
              "      border-bottom-color: var(--fill-color);\n",
              "    }\n",
              "    90% {\n",
              "      border-color: transparent;\n",
              "      border-bottom-color: var(--fill-color);\n",
              "    }\n",
              "  }\n",
              "</style>\n",
              "\n",
              "  <script>\n",
              "    async function quickchart(key) {\n",
              "      const quickchartButtonEl =\n",
              "        document.querySelector('#' + key + ' button');\n",
              "      quickchartButtonEl.disabled = true;  // To prevent multiple clicks.\n",
              "      quickchartButtonEl.classList.add('colab-df-spinner');\n",
              "      try {\n",
              "        const charts = await google.colab.kernel.invokeFunction(\n",
              "            'suggestCharts', [key], {});\n",
              "      } catch (error) {\n",
              "        console.error('Error during call to suggestCharts:', error);\n",
              "      }\n",
              "      quickchartButtonEl.classList.remove('colab-df-spinner');\n",
              "      quickchartButtonEl.classList.add('colab-df-quickchart-complete');\n",
              "    }\n",
              "    (() => {\n",
              "      let quickchartButtonEl =\n",
              "        document.querySelector('#df-8e07a637-fb42-466b-b8c5-8b9c6066736b button');\n",
              "      quickchartButtonEl.style.display =\n",
              "        google.colab.kernel.accessAllowed ? 'block' : 'none';\n",
              "    })();\n",
              "  </script>\n",
              "</div>\n",
              "\n",
              "  <div id=\"id_05894f9c-cf3a-4865-ace4-0fad3b8c322a\">\n",
              "    <style>\n",
              "      .colab-df-generate {\n",
              "        background-color: #E8F0FE;\n",
              "        border: none;\n",
              "        border-radius: 50%;\n",
              "        cursor: pointer;\n",
              "        display: none;\n",
              "        fill: #1967D2;\n",
              "        height: 32px;\n",
              "        padding: 0 0 0 0;\n",
              "        width: 32px;\n",
              "      }\n",
              "\n",
              "      .colab-df-generate:hover {\n",
              "        background-color: #E2EBFA;\n",
              "        box-shadow: 0px 1px 2px rgba(60, 64, 67, 0.3), 0px 1px 3px 1px rgba(60, 64, 67, 0.15);\n",
              "        fill: #174EA6;\n",
              "      }\n",
              "\n",
              "      [theme=dark] .colab-df-generate {\n",
              "        background-color: #3B4455;\n",
              "        fill: #D2E3FC;\n",
              "      }\n",
              "\n",
              "      [theme=dark] .colab-df-generate:hover {\n",
              "        background-color: #434B5C;\n",
              "        box-shadow: 0px 1px 3px 1px rgba(0, 0, 0, 0.15);\n",
              "        filter: drop-shadow(0px 1px 2px rgba(0, 0, 0, 0.3));\n",
              "        fill: #FFFFFF;\n",
              "      }\n",
              "    </style>\n",
              "    <button class=\"colab-df-generate\" onclick=\"generateWithVariable('CT_Reg')\"\n",
              "            title=\"Generate code using this dataframe.\"\n",
              "            style=\"display:none;\">\n",
              "\n",
              "  <svg xmlns=\"http://www.w3.org/2000/svg\" height=\"24px\"viewBox=\"0 0 24 24\"\n",
              "       width=\"24px\">\n",
              "    <path d=\"M7,19H8.4L18.45,9,17,7.55,7,17.6ZM5,21V16.75L18.45,3.32a2,2,0,0,1,2.83,0l1.4,1.43a1.91,1.91,0,0,1,.58,1.4,1.91,1.91,0,0,1-.58,1.4L9.25,21ZM18.45,9,17,7.55Zm-12,3A5.31,5.31,0,0,0,4.9,8.1,5.31,5.31,0,0,0,1,6.5,5.31,5.31,0,0,0,4.9,4.9,5.31,5.31,0,0,0,6.5,1,5.31,5.31,0,0,0,8.1,4.9,5.31,5.31,0,0,0,12,6.5,5.46,5.46,0,0,0,6.5,12Z\"/>\n",
              "  </svg>\n",
              "    </button>\n",
              "    <script>\n",
              "      (() => {\n",
              "      const buttonEl =\n",
              "        document.querySelector('#id_05894f9c-cf3a-4865-ace4-0fad3b8c322a button.colab-df-generate');\n",
              "      buttonEl.style.display =\n",
              "        google.colab.kernel.accessAllowed ? 'block' : 'none';\n",
              "\n",
              "      buttonEl.onclick = () => {\n",
              "        google.colab.notebook.generateWithVariable('CT_Reg');\n",
              "      }\n",
              "      })();\n",
              "    </script>\n",
              "  </div>\n",
              "\n",
              "    </div>\n",
              "  </div>\n"
            ],
            "application/vnd.google.colaboratory.intrinsic+json": {
              "type": "dataframe",
              "variable_name": "CT_Reg",
              "summary": "{\n  \"name\": \"CT_Reg\",\n  \"rows\": 4,\n  \"fields\": [\n    {\n      \"column\": \"\\ub18d\\uc0b0\\ud488\",\n      \"properties\": {\n        \"dtype\": \"number\",\n        \"std\": 1.2013880860626733,\n        \"min\": 0.3,\n        \"max\": 3.2,\n        \"num_unique_values\": 4,\n        \"samples\": [\n          2.0,\n          1.5,\n          0.3\n        ],\n        \"semantic_type\": \"\",\n        \"description\": \"\"\n      }\n    },\n    {\n      \"column\": \"\\uacf5\\uc0b0\\ud488\",\n      \"properties\": {\n        \"dtype\": \"number\",\n        \"std\": 10.867229024303604,\n        \"min\": 32.5,\n        \"max\": 56.0,\n        \"num_unique_values\": 4,\n        \"samples\": [\n          56.0,\n          44.7,\n          32.5\n        ],\n        \"semantic_type\": \"\",\n        \"description\": \"\"\n      }\n    },\n    {\n      \"column\": \"\\uc11c\\ube44\\uc2a4\",\n      \"properties\": {\n        \"dtype\": \"number\",\n        \"std\": 11.949337499069422,\n        \"min\": 42.0,\n        \"max\": 67.2,\n        \"num_unique_values\": 4,\n        \"samples\": [\n          42.0,\n          53.8,\n          67.2\n        ],\n        \"semantic_type\": \"\",\n        \"description\": \"\"\n      }\n    }\n  ]\n}"
            }
          },
          "metadata": {},
          "execution_count": 10
        }
      ]
    },
    {
      "cell_type": "code",
      "source": [
        "VA_Reg = pd.DataFrame(Wgt_ind_by_region_va.round(1), columns = ['수도권', '동부권', '서부권'],\n",
        "                     index=['수도권', '동부권', '서부권','전지역']) # 변수명 붙여서 pandas로 내보내기\n",
        "VA_Reg"
      ],
      "metadata": {
        "id": "DAr9JbD1PVEh",
        "outputId": "820f0327-3f6d-468b-83d8-e06ca424ae06",
        "colab": {
          "base_uri": "https://localhost:8080/",
          "height": 175
        }
      },
      "execution_count": null,
      "outputs": [
        {
          "output_type": "execute_result",
          "data": {
            "text/plain": [
              "     수도권   동부권   서부권\n",
              "수도권  0.4  21.5  78.1\n",
              "동부권  2.9  37.6  59.5\n",
              "서부권  4.5  38.2  57.4\n",
              "전지역  2.0  29.6  68.5"
            ],
            "text/html": [
              "\n",
              "  <div id=\"df-46409ad8-9e53-4b5b-8ea4-b14822406303\" class=\"colab-df-container\">\n",
              "    <div>\n",
              "<style scoped>\n",
              "    .dataframe tbody tr th:only-of-type {\n",
              "        vertical-align: middle;\n",
              "    }\n",
              "\n",
              "    .dataframe tbody tr th {\n",
              "        vertical-align: top;\n",
              "    }\n",
              "\n",
              "    .dataframe thead th {\n",
              "        text-align: right;\n",
              "    }\n",
              "</style>\n",
              "<table border=\"1\" class=\"dataframe\">\n",
              "  <thead>\n",
              "    <tr style=\"text-align: right;\">\n",
              "      <th></th>\n",
              "      <th>수도권</th>\n",
              "      <th>동부권</th>\n",
              "      <th>서부권</th>\n",
              "    </tr>\n",
              "  </thead>\n",
              "  <tbody>\n",
              "    <tr>\n",
              "      <th>수도권</th>\n",
              "      <td>0.4</td>\n",
              "      <td>21.5</td>\n",
              "      <td>78.1</td>\n",
              "    </tr>\n",
              "    <tr>\n",
              "      <th>동부권</th>\n",
              "      <td>2.9</td>\n",
              "      <td>37.6</td>\n",
              "      <td>59.5</td>\n",
              "    </tr>\n",
              "    <tr>\n",
              "      <th>서부권</th>\n",
              "      <td>4.5</td>\n",
              "      <td>38.2</td>\n",
              "      <td>57.4</td>\n",
              "    </tr>\n",
              "    <tr>\n",
              "      <th>전지역</th>\n",
              "      <td>2.0</td>\n",
              "      <td>29.6</td>\n",
              "      <td>68.5</td>\n",
              "    </tr>\n",
              "  </tbody>\n",
              "</table>\n",
              "</div>\n",
              "    <div class=\"colab-df-buttons\">\n",
              "\n",
              "  <div class=\"colab-df-container\">\n",
              "    <button class=\"colab-df-convert\" onclick=\"convertToInteractive('df-46409ad8-9e53-4b5b-8ea4-b14822406303')\"\n",
              "            title=\"Convert this dataframe to an interactive table.\"\n",
              "            style=\"display:none;\">\n",
              "\n",
              "  <svg xmlns=\"http://www.w3.org/2000/svg\" height=\"24px\" viewBox=\"0 -960 960 960\">\n",
              "    <path d=\"M120-120v-720h720v720H120Zm60-500h600v-160H180v160Zm220 220h160v-160H400v160Zm0 220h160v-160H400v160ZM180-400h160v-160H180v160Zm440 0h160v-160H620v160ZM180-180h160v-160H180v160Zm440 0h160v-160H620v160Z\"/>\n",
              "  </svg>\n",
              "    </button>\n",
              "\n",
              "  <style>\n",
              "    .colab-df-container {\n",
              "      display:flex;\n",
              "      gap: 12px;\n",
              "    }\n",
              "\n",
              "    .colab-df-convert {\n",
              "      background-color: #E8F0FE;\n",
              "      border: none;\n",
              "      border-radius: 50%;\n",
              "      cursor: pointer;\n",
              "      display: none;\n",
              "      fill: #1967D2;\n",
              "      height: 32px;\n",
              "      padding: 0 0 0 0;\n",
              "      width: 32px;\n",
              "    }\n",
              "\n",
              "    .colab-df-convert:hover {\n",
              "      background-color: #E2EBFA;\n",
              "      box-shadow: 0px 1px 2px rgba(60, 64, 67, 0.3), 0px 1px 3px 1px rgba(60, 64, 67, 0.15);\n",
              "      fill: #174EA6;\n",
              "    }\n",
              "\n",
              "    .colab-df-buttons div {\n",
              "      margin-bottom: 4px;\n",
              "    }\n",
              "\n",
              "    [theme=dark] .colab-df-convert {\n",
              "      background-color: #3B4455;\n",
              "      fill: #D2E3FC;\n",
              "    }\n",
              "\n",
              "    [theme=dark] .colab-df-convert:hover {\n",
              "      background-color: #434B5C;\n",
              "      box-shadow: 0px 1px 3px 1px rgba(0, 0, 0, 0.15);\n",
              "      filter: drop-shadow(0px 1px 2px rgba(0, 0, 0, 0.3));\n",
              "      fill: #FFFFFF;\n",
              "    }\n",
              "  </style>\n",
              "\n",
              "    <script>\n",
              "      const buttonEl =\n",
              "        document.querySelector('#df-46409ad8-9e53-4b5b-8ea4-b14822406303 button.colab-df-convert');\n",
              "      buttonEl.style.display =\n",
              "        google.colab.kernel.accessAllowed ? 'block' : 'none';\n",
              "\n",
              "      async function convertToInteractive(key) {\n",
              "        const element = document.querySelector('#df-46409ad8-9e53-4b5b-8ea4-b14822406303');\n",
              "        const dataTable =\n",
              "          await google.colab.kernel.invokeFunction('convertToInteractive',\n",
              "                                                    [key], {});\n",
              "        if (!dataTable) return;\n",
              "\n",
              "        const docLinkHtml = 'Like what you see? Visit the ' +\n",
              "          '<a target=\"_blank\" href=https://colab.research.google.com/notebooks/data_table.ipynb>data table notebook</a>'\n",
              "          + ' to learn more about interactive tables.';\n",
              "        element.innerHTML = '';\n",
              "        dataTable['output_type'] = 'display_data';\n",
              "        await google.colab.output.renderOutput(dataTable, element);\n",
              "        const docLink = document.createElement('div');\n",
              "        docLink.innerHTML = docLinkHtml;\n",
              "        element.appendChild(docLink);\n",
              "      }\n",
              "    </script>\n",
              "  </div>\n",
              "\n",
              "\n",
              "<div id=\"df-d8a89504-f2a0-4ffb-8ed8-63eab6ff96df\">\n",
              "  <button class=\"colab-df-quickchart\" onclick=\"quickchart('df-d8a89504-f2a0-4ffb-8ed8-63eab6ff96df')\"\n",
              "            title=\"Suggest charts\"\n",
              "            style=\"display:none;\">\n",
              "\n",
              "<svg xmlns=\"http://www.w3.org/2000/svg\" height=\"24px\"viewBox=\"0 0 24 24\"\n",
              "     width=\"24px\">\n",
              "    <g>\n",
              "        <path d=\"M19 3H5c-1.1 0-2 .9-2 2v14c0 1.1.9 2 2 2h14c1.1 0 2-.9 2-2V5c0-1.1-.9-2-2-2zM9 17H7v-7h2v7zm4 0h-2V7h2v10zm4 0h-2v-4h2v4z\"/>\n",
              "    </g>\n",
              "</svg>\n",
              "  </button>\n",
              "\n",
              "<style>\n",
              "  .colab-df-quickchart {\n",
              "      --bg-color: #E8F0FE;\n",
              "      --fill-color: #1967D2;\n",
              "      --hover-bg-color: #E2EBFA;\n",
              "      --hover-fill-color: #174EA6;\n",
              "      --disabled-fill-color: #AAA;\n",
              "      --disabled-bg-color: #DDD;\n",
              "  }\n",
              "\n",
              "  [theme=dark] .colab-df-quickchart {\n",
              "      --bg-color: #3B4455;\n",
              "      --fill-color: #D2E3FC;\n",
              "      --hover-bg-color: #434B5C;\n",
              "      --hover-fill-color: #FFFFFF;\n",
              "      --disabled-bg-color: #3B4455;\n",
              "      --disabled-fill-color: #666;\n",
              "  }\n",
              "\n",
              "  .colab-df-quickchart {\n",
              "    background-color: var(--bg-color);\n",
              "    border: none;\n",
              "    border-radius: 50%;\n",
              "    cursor: pointer;\n",
              "    display: none;\n",
              "    fill: var(--fill-color);\n",
              "    height: 32px;\n",
              "    padding: 0;\n",
              "    width: 32px;\n",
              "  }\n",
              "\n",
              "  .colab-df-quickchart:hover {\n",
              "    background-color: var(--hover-bg-color);\n",
              "    box-shadow: 0 1px 2px rgba(60, 64, 67, 0.3), 0 1px 3px 1px rgba(60, 64, 67, 0.15);\n",
              "    fill: var(--button-hover-fill-color);\n",
              "  }\n",
              "\n",
              "  .colab-df-quickchart-complete:disabled,\n",
              "  .colab-df-quickchart-complete:disabled:hover {\n",
              "    background-color: var(--disabled-bg-color);\n",
              "    fill: var(--disabled-fill-color);\n",
              "    box-shadow: none;\n",
              "  }\n",
              "\n",
              "  .colab-df-spinner {\n",
              "    border: 2px solid var(--fill-color);\n",
              "    border-color: transparent;\n",
              "    border-bottom-color: var(--fill-color);\n",
              "    animation:\n",
              "      spin 1s steps(1) infinite;\n",
              "  }\n",
              "\n",
              "  @keyframes spin {\n",
              "    0% {\n",
              "      border-color: transparent;\n",
              "      border-bottom-color: var(--fill-color);\n",
              "      border-left-color: var(--fill-color);\n",
              "    }\n",
              "    20% {\n",
              "      border-color: transparent;\n",
              "      border-left-color: var(--fill-color);\n",
              "      border-top-color: var(--fill-color);\n",
              "    }\n",
              "    30% {\n",
              "      border-color: transparent;\n",
              "      border-left-color: var(--fill-color);\n",
              "      border-top-color: var(--fill-color);\n",
              "      border-right-color: var(--fill-color);\n",
              "    }\n",
              "    40% {\n",
              "      border-color: transparent;\n",
              "      border-right-color: var(--fill-color);\n",
              "      border-top-color: var(--fill-color);\n",
              "    }\n",
              "    60% {\n",
              "      border-color: transparent;\n",
              "      border-right-color: var(--fill-color);\n",
              "    }\n",
              "    80% {\n",
              "      border-color: transparent;\n",
              "      border-right-color: var(--fill-color);\n",
              "      border-bottom-color: var(--fill-color);\n",
              "    }\n",
              "    90% {\n",
              "      border-color: transparent;\n",
              "      border-bottom-color: var(--fill-color);\n",
              "    }\n",
              "  }\n",
              "</style>\n",
              "\n",
              "  <script>\n",
              "    async function quickchart(key) {\n",
              "      const quickchartButtonEl =\n",
              "        document.querySelector('#' + key + ' button');\n",
              "      quickchartButtonEl.disabled = true;  // To prevent multiple clicks.\n",
              "      quickchartButtonEl.classList.add('colab-df-spinner');\n",
              "      try {\n",
              "        const charts = await google.colab.kernel.invokeFunction(\n",
              "            'suggestCharts', [key], {});\n",
              "      } catch (error) {\n",
              "        console.error('Error during call to suggestCharts:', error);\n",
              "      }\n",
              "      quickchartButtonEl.classList.remove('colab-df-spinner');\n",
              "      quickchartButtonEl.classList.add('colab-df-quickchart-complete');\n",
              "    }\n",
              "    (() => {\n",
              "      let quickchartButtonEl =\n",
              "        document.querySelector('#df-d8a89504-f2a0-4ffb-8ed8-63eab6ff96df button');\n",
              "      quickchartButtonEl.style.display =\n",
              "        google.colab.kernel.accessAllowed ? 'block' : 'none';\n",
              "    })();\n",
              "  </script>\n",
              "</div>\n",
              "\n",
              "  <div id=\"id_827234e2-d221-4666-aef6-121c33e472e2\">\n",
              "    <style>\n",
              "      .colab-df-generate {\n",
              "        background-color: #E8F0FE;\n",
              "        border: none;\n",
              "        border-radius: 50%;\n",
              "        cursor: pointer;\n",
              "        display: none;\n",
              "        fill: #1967D2;\n",
              "        height: 32px;\n",
              "        padding: 0 0 0 0;\n",
              "        width: 32px;\n",
              "      }\n",
              "\n",
              "      .colab-df-generate:hover {\n",
              "        background-color: #E2EBFA;\n",
              "        box-shadow: 0px 1px 2px rgba(60, 64, 67, 0.3), 0px 1px 3px 1px rgba(60, 64, 67, 0.15);\n",
              "        fill: #174EA6;\n",
              "      }\n",
              "\n",
              "      [theme=dark] .colab-df-generate {\n",
              "        background-color: #3B4455;\n",
              "        fill: #D2E3FC;\n",
              "      }\n",
              "\n",
              "      [theme=dark] .colab-df-generate:hover {\n",
              "        background-color: #434B5C;\n",
              "        box-shadow: 0px 1px 3px 1px rgba(0, 0, 0, 0.15);\n",
              "        filter: drop-shadow(0px 1px 2px rgba(0, 0, 0, 0.3));\n",
              "        fill: #FFFFFF;\n",
              "      }\n",
              "    </style>\n",
              "    <button class=\"colab-df-generate\" onclick=\"generateWithVariable('VA_Reg')\"\n",
              "            title=\"Generate code using this dataframe.\"\n",
              "            style=\"display:none;\">\n",
              "\n",
              "  <svg xmlns=\"http://www.w3.org/2000/svg\" height=\"24px\"viewBox=\"0 0 24 24\"\n",
              "       width=\"24px\">\n",
              "    <path d=\"M7,19H8.4L18.45,9,17,7.55,7,17.6ZM5,21V16.75L18.45,3.32a2,2,0,0,1,2.83,0l1.4,1.43a1.91,1.91,0,0,1,.58,1.4,1.91,1.91,0,0,1-.58,1.4L9.25,21ZM18.45,9,17,7.55Zm-12,3A5.31,5.31,0,0,0,4.9,8.1,5.31,5.31,0,0,0,1,6.5,5.31,5.31,0,0,0,4.9,4.9,5.31,5.31,0,0,0,6.5,1,5.31,5.31,0,0,0,8.1,4.9,5.31,5.31,0,0,0,12,6.5,5.46,5.46,0,0,0,6.5,12Z\"/>\n",
              "  </svg>\n",
              "    </button>\n",
              "    <script>\n",
              "      (() => {\n",
              "      const buttonEl =\n",
              "        document.querySelector('#id_827234e2-d221-4666-aef6-121c33e472e2 button.colab-df-generate');\n",
              "      buttonEl.style.display =\n",
              "        google.colab.kernel.accessAllowed ? 'block' : 'none';\n",
              "\n",
              "      buttonEl.onclick = () => {\n",
              "        google.colab.notebook.generateWithVariable('VA_Reg');\n",
              "      }\n",
              "      })();\n",
              "    </script>\n",
              "  </div>\n",
              "\n",
              "    </div>\n",
              "  </div>\n"
            ],
            "application/vnd.google.colaboratory.intrinsic+json": {
              "type": "dataframe",
              "variable_name": "VA_Reg",
              "summary": "{\n  \"name\": \"VA_Reg\",\n  \"rows\": 4,\n  \"fields\": [\n    {\n      \"column\": \"\\uc218\\ub3c4\\uad8c\",\n      \"properties\": {\n        \"dtype\": \"number\",\n        \"std\": 1.7136705245369273,\n        \"min\": 0.4,\n        \"max\": 4.5,\n        \"num_unique_values\": 4,\n        \"samples\": [\n          2.9,\n          2.0,\n          0.4\n        ],\n        \"semantic_type\": \"\",\n        \"description\": \"\"\n      }\n    },\n    {\n      \"column\": \"\\ub3d9\\ubd80\\uad8c\",\n      \"properties\": {\n        \"dtype\": \"number\",\n        \"std\": 7.863576370413996,\n        \"min\": 21.5,\n        \"max\": 38.2,\n        \"num_unique_values\": 4,\n        \"samples\": [\n          37.6,\n          29.6,\n          21.5\n        ],\n        \"semantic_type\": \"\",\n        \"description\": \"\"\n      }\n    },\n    {\n      \"column\": \"\\uc11c\\ubd80\\uad8c\",\n      \"properties\": {\n        \"dtype\": \"number\",\n        \"std\": 9.465859707390553,\n        \"min\": 57.4,\n        \"max\": 78.1,\n        \"num_unique_values\": 4,\n        \"samples\": [\n          59.5,\n          68.5,\n          78.1\n        ],\n        \"semantic_type\": \"\",\n        \"description\": \"\"\n      }\n    }\n  ]\n}"
            }
          },
          "metadata": {},
          "execution_count": 11
        }
      ]
    },
    {
      "cell_type": "markdown",
      "source": [
        "### 지역별 산업 입지계수"
      ],
      "metadata": {
        "id": "8gWUdmGLJ1PM"
      }
    },
    {
      "cell_type": "code",
      "source": [
        "X_ij = Mt[-1,:9].reshape([1,9])\n",
        "X = X_ij.sum()"
      ],
      "metadata": {
        "id": "ZGB2rOKzJxjE"
      },
      "execution_count": null,
      "outputs": []
    },
    {
      "cell_type": "code",
      "source": [
        "X_sudo =X_ij[-1,:3].sum().reshape([1,1]) # 수도권 총산출액\n",
        "X_seobu =X_ij[-1,3:6].sum().reshape([1,1]) # 동부권 총산출액\n",
        "X_dongbu =X_ij[-1,6:9].sum().reshape([1,1]) # 서부권 총산출액\n",
        "print(X_sudo,X_seobu,X_dongbu)"
      ],
      "metadata": {
        "id": "6XhkCR4XJxoy",
        "outputId": "fb504b0a-c87c-4d3a-d94d-3ee1710f0c7d",
        "colab": {
          "base_uri": "https://localhost:8080/"
        }
      },
      "execution_count": null,
      "outputs": [
        {
          "output_type": "stream",
          "name": "stdout",
          "text": [
            "[[1792.]] [[1140.]] [[899.]]\n"
          ]
        }
      ]
    },
    {
      "cell_type": "code",
      "source": [
        "X_agr=X_ij[-1,0]+X_ij[-1,3]+X_ij[-1,6] # 전국 농산품 총산출액\n",
        "X_manu=X_ij[-1,1]+X_ij[-1,4]+X_ij[-1,7] # 전국 공산품 총산출액\n",
        "X_serv=X_ij[-1,2]+X_ij[-1,5]+X_ij[-1,8] # 전국 서비스 총산출액\n",
        "print(X_agr,X_manu, X_serv)"
      ],
      "metadata": {
        "id": "1IWYRc7zJxq9",
        "outputId": "86f6a244-745b-47b1-c474-d6c936585276",
        "colab": {
          "base_uri": "https://localhost:8080/"
        }
      },
      "execution_count": null,
      "outputs": [
        {
          "output_type": "stream",
          "name": "stdout",
          "text": [
            "58.0 1711.0 2062.0\n"
          ]
        }
      ]
    },
    {
      "cell_type": "code",
      "source": [
        "X_i = np.concatenate((np.tile(X_sudo,3),np.tile(X_seobu,3),np.tile(X_dongbu,3)),axis=1)  # 지역별 산출액 합"
      ],
      "metadata": {
        "id": "xAjJ8rqeKUHl"
      },
      "execution_count": null,
      "outputs": []
    },
    {
      "cell_type": "code",
      "source": [
        "X_j = np.concatenate((X_agr.reshape([1,1]),X_manu.reshape([1,1]),X_serv.reshape([1,1])),axis=1) # 전국 농산품, 공산품, 서비스 산출액\n",
        "X_j"
      ],
      "metadata": {
        "id": "5Z8cfXztJxtD",
        "outputId": "56780ce6-eafe-4239-eabf-4680fd0bcfea",
        "colab": {
          "base_uri": "https://localhost:8080/"
        }
      },
      "execution_count": null,
      "outputs": [
        {
          "output_type": "execute_result",
          "data": {
            "text/plain": [
              "array([[  58., 1711., 2062.]])"
            ]
          },
          "metadata": {},
          "execution_count": 16
        }
      ]
    },
    {
      "cell_type": "code",
      "source": [
        "X_ij_div_by_Xi=X_ij/X_i\n",
        "X_ij_div_by_Xi"
      ],
      "metadata": {
        "id": "nbH1jcSmJxxq",
        "outputId": "810aa8af-a3e2-469d-bb56-330772900cc1",
        "colab": {
          "base_uri": "https://localhost:8080/"
        }
      },
      "execution_count": null,
      "outputs": [
        {
          "output_type": "execute_result",
          "data": {
            "text/plain": [
              "array([[0.003, 0.325, 0.672, 0.02 , 0.56 , 0.42 , 0.032, 0.546, 0.422]])"
            ]
          },
          "metadata": {},
          "execution_count": 17
        }
      ]
    },
    {
      "cell_type": "code",
      "source": [
        "Xj_div_by_X = np.tile(X_j/X,3).reshape(1,9)\n",
        "Xj_div_by_X"
      ],
      "metadata": {
        "id": "NA0mmI3dJxz0",
        "outputId": "9a9a2809-c6d4-4f7c-ca16-6011508e80e3",
        "colab": {
          "base_uri": "https://localhost:8080/"
        }
      },
      "execution_count": null,
      "outputs": [
        {
          "output_type": "execute_result",
          "data": {
            "text/plain": [
              "array([[0.015, 0.447, 0.538, 0.015, 0.447, 0.538, 0.015, 0.447, 0.538]])"
            ]
          },
          "metadata": {},
          "execution_count": 18
        }
      ]
    },
    {
      "cell_type": "code",
      "source": [
        "LQ = (X_ij_div_by_Xi/Xj_div_by_X).reshape([1,9]).round(3)\n",
        "LQ_f = np.vstack((LQ[:,:3],LQ[:,3:6],LQ[:,6:9])) #  지역별 산업별 비중\n",
        "print('지역별 산업 입지계수 \\n', LQ_f)"
      ],
      "metadata": {
        "id": "A14aQwPQJx17",
        "outputId": "0f3d7b8d-9127-4727-823b-e8b383e47710",
        "colab": {
          "base_uri": "https://localhost:8080/"
        }
      },
      "execution_count": null,
      "outputs": [
        {
          "output_type": "stream",
          "name": "stdout",
          "text": [
            "지역별 산업 입지계수 \n",
            " [[0.221 0.727 1.248]\n",
            " [1.333 1.253 0.781]\n",
            " [2.131 1.223 0.783]]\n"
          ]
        }
      ]
    },
    {
      "cell_type": "markdown",
      "source": [
        "### 산업별 지역 비중 구하기"
      ],
      "metadata": {
        "id": "jT-MJS0XLP3m"
      }
    },
    {
      "cell_type": "code",
      "source": [
        "# 산업기준\n",
        "\n",
        "# 지역별 산출액 벡터\n",
        "Arg_ct = np.hstack((Ct[:,0],Ct[:,3],Ct[:,6]))    # 농산품\n",
        "Manu_ct = np.hstack((Ct[:,1],Ct[:,4],Ct[:,7]))  # 공산품\n",
        "Serv_ct = np.hstack((Ct[:,2],Ct[:,5],Ct[:,8]))  # 서비스\n",
        "\n",
        "# 지역별 부가가치 벡터\n",
        "Arg_va = np.hstack((Va[:,0],Va[:,3],Va[:,6]))    # 농산품\n",
        "Manu_va = np.hstack((Va[:,1],Va[:,4],Va[:,7]))  # 공산품\n",
        "Serv_va= np.hstack((Va[:,2],Va[:,5],Va[:,8]))  # 서비스"
      ],
      "metadata": {
        "id": "6jVPWZ7FJx4B"
      },
      "execution_count": null,
      "outputs": []
    },
    {
      "cell_type": "code",
      "source": [
        "Arg_ct_sm = np.sum(Arg_ct)\n",
        "Manu_ct_sm = np.sum(Manu_ct)\n",
        "Serv_ct_sm = np.sum(Serv_ct)\n",
        "\n",
        "Arg_va_sm = np.sum(Arg_va)\n",
        "Manu_va_sm = np.sum(Manu_va)\n",
        "Serv_va_sm = np.sum(Serv_va)"
      ],
      "metadata": {
        "id": "_krLRDRwJx6S"
      },
      "execution_count": null,
      "outputs": []
    },
    {
      "cell_type": "code",
      "source": [
        "# 산업별 지역 비중(총산출액 기준)\n",
        "Arg_ct_wgt = (Arg_ct/Arg_ct_sm)  # 농산품\n",
        "Manu_ct_wgt = (Manu_ct/Manu_ct_sm)  # 공산품\n",
        "Serv_ct_wgt = (Serv_ct/Serv_ct_sm)  # 서비스\n",
        "Serv_ct_wgt"
      ],
      "metadata": {
        "id": "5SwnnEiCOekj"
      },
      "execution_count": null,
      "outputs": []
    },
    {
      "cell_type": "code",
      "source": [
        "# 산업별 지역 비중(부가가치 기준)\n",
        "Arg_va_wgt = (Arg_va/Arg_va_sm)  # 농산품\n",
        "Manu_va_wgt = (Manu_va/Manu_va_sm)  # 공산품\n",
        "Serv_va_wgt = (Serv_va/Serv_va_sm)  # 서비스\n",
        "Serv_va_wgt"
      ],
      "metadata": {
        "id": "w7uoaSuHJx8W"
      },
      "execution_count": null,
      "outputs": []
    },
    {
      "cell_type": "code",
      "source": [
        "Ct_by_ind = np.vstack((Arg_ct_wgt, Manu_ct_wgt, Serv_ct_wgt))\n",
        "Va_by_ind = np.vstack((Arg_va_wgt, Manu_va_wgt, Serv_va_wgt))\n",
        "print('산업별 지역 비중(총산출액 기준) \\n',(Ct_by_ind*100).round(1), '\\n')\n",
        "print('산업별 지역 비중(부가가치 기준) \\n', (Va_by_ind*100).round(1))"
      ],
      "metadata": {
        "id": "mzPL-rF2o4N3"
      },
      "execution_count": null,
      "outputs": []
    },
    {
      "cell_type": "code",
      "source": [
        "CT_IND = pd.DataFrame((Ct_by_ind*100).round(1), columns = ['수도권', '동부권', '서부권'],\n",
        "                     index=['농산품', '공산품', '서비스']) # 변수명 붙여서 pandas로 내보내기\n",
        "CT_IND"
      ],
      "metadata": {
        "id": "yK3EQLVQLir8"
      },
      "execution_count": null,
      "outputs": []
    },
    {
      "cell_type": "code",
      "source": [
        "VA_IND = pd.DataFrame((Va_by_ind*100).round(1), columns = ['수도권', '동부권', '서부권'],\n",
        "                     index=['농산품', '공산품', '서비스']) # 변수명 붙여서 pandas로 내보내기\n",
        "VA_IND"
      ],
      "metadata": {
        "id": "K_KlmLsYLiui"
      },
      "execution_count": null,
      "outputs": []
    },
    {
      "cell_type": "code",
      "source": [
        "# csv 파일로 내보내기\n",
        "VA_IND.to_csv('부가가치_산업별_지역별_비중.csv', encoding='utf_8-sig')\n",
        "CT_IND.to_csv('산출액_산업별_지역별_비중.csv', encoding='utf_8-sig')"
      ],
      "metadata": {
        "id": "omzexxO5Liw2"
      },
      "execution_count": null,
      "outputs": []
    },
    {
      "cell_type": "markdown",
      "source": [
        "### 산업별 집중계수"
      ],
      "metadata": {
        "id": "WI23xD0dLy9z"
      }
    },
    {
      "cell_type": "code",
      "source": [
        "Wgt_rg = Str_rg[-1,:3].reshape([1,3])   # str_rg는 지역별 총산출액 및 총부가가치의 금액과 비중(수도권, 동부권, 서부권)\n",
        "Wgt_rg"
      ],
      "metadata": {
        "id": "6Sbvx8xPLizc"
      },
      "execution_count": null,
      "outputs": []
    },
    {
      "cell_type": "code",
      "source": [
        "Arg_concst = (abs(Wgt_rg[:,0]-Ct_by_ind[0,0])+abs(Wgt_rg[:,1]-Ct_by_ind[0,1])+abs(Wgt_rg[:,2]-Ct_by_ind[0,2]))/2  # 농산품\n",
        "Manu_concst = (abs(Wgt_rg[:,0]-Ct_by_ind[1,0])+abs(Wgt_rg[:,1]-Ct_by_ind[1,1])+abs(Wgt_rg[:,2]-Ct_by_ind[1,2]))/2  # 공산품\n",
        "Serv_concst = (abs(Wgt_rg[:,0]-Ct_by_ind[2,0])+abs(Wgt_rg[:,1]-Ct_by_ind[2,1])+abs(Wgt_rg[:,2]-Ct_by_ind[2,2]))/2  # 서비스"
      ],
      "metadata": {
        "id": "hXdglwPYW2ia"
      },
      "execution_count": null,
      "outputs": []
    },
    {
      "cell_type": "code",
      "source": [
        "All_concst = np.vstack((Arg_concst, Manu_concst, Serv_concst))  # 집중계수\n",
        "print('산업별 집중계수 \\n', All_concst.round(3))"
      ],
      "metadata": {
        "id": "pqZ9Pxu5W2lN"
      },
      "execution_count": null,
      "outputs": []
    },
    {
      "cell_type": "code",
      "source": [
        "All_concst_df = pd.DataFrame(All_concst.round(3), columns = ['집중계수'],\n",
        "                     index=['농산품', '공산품', '서비스']) # 변수명 붙여서 pandas로 내보내기\n",
        "All_concst_df"
      ],
      "metadata": {
        "id": "5y8vOxVXL1Yq"
      },
      "execution_count": null,
      "outputs": []
    },
    {
      "cell_type": "markdown",
      "source": [
        "### 지역별 투입구조"
      ],
      "metadata": {
        "id": "ZqvMBDTcSHUZ"
      }
    },
    {
      "cell_type": "code",
      "source": [
        "Dm_1 = Mt[0:9,0:9].astype(float)\n",
        "Im_1 = Mt[9:12,0:9].astype(float)"
      ],
      "metadata": {
        "id": "bRT4fIbML1bJ"
      },
      "execution_count": null,
      "outputs": []
    },
    {
      "cell_type": "code",
      "source": [
        "import scipy.linalg as linalg"
      ],
      "metadata": {
        "id": "EWWPsP-6SzPY"
      },
      "execution_count": null,
      "outputs": []
    },
    {
      "cell_type": "code",
      "source": [
        "Mtx_for_int= linalg.block_diag(np.ones((3,3)),np.ones((3,3)),np.ones((3,3)))\n",
        "Mtx_for_inter=np.where(Mtx_for_int == 1, 0, 1)"
      ],
      "metadata": {
        "id": "6fXbSZrvSzSG"
      },
      "execution_count": null,
      "outputs": []
    },
    {
      "cell_type": "code",
      "source": [
        "Intra_input = Mtx_for_int*Dm_1  # 지역별 자기지역 생산품 투입액"
      ],
      "metadata": {
        "id": "arrep6gcSzUc"
      },
      "execution_count": null,
      "outputs": []
    },
    {
      "cell_type": "code",
      "source": [
        "Inter_input = Mtx_for_inter*Dm_1  # 지역별 타지역 생산품 투입액"
      ],
      "metadata": {
        "id": "LEvQdTjiUkl3"
      },
      "execution_count": null,
      "outputs": []
    },
    {
      "cell_type": "code",
      "source": [
        "Intra_rg_sm = Intra_input.sum(axis=0) # 지역별 부문별 자기지역 생산품 투입액계\n",
        "Inter_rg_sm = Inter_input.sum(axis=0) # 지역별 부문별 타지역 생산품 투입액계\n",
        "Imps_input =Im_1.sum(axis=0)  # 지역별 부문별 수입중간투입계\n",
        "print(Intra_rg_sm)"
      ],
      "metadata": {
        "id": "fpHNaOMwUkol"
      },
      "execution_count": null,
      "outputs": []
    },
    {
      "cell_type": "code",
      "source": [
        "print(Intra_rg_sm, '\\n')\n",
        "print(Inter_rg_sm, '\\n')\n",
        "print(Imps_input)"
      ],
      "metadata": {
        "id": "ltfRE9svYphw"
      },
      "execution_count": null,
      "outputs": []
    },
    {
      "cell_type": "code",
      "source": [
        "Code = np.array([[1,1,1,0,0,0,0,0,0],  # 행렬 곱을 이용한 부문 통합을 위해 0과 1로 구성된 임시의 3x33 매트릭스\n",
        "       [0,0,0,1,1,1,0,0,0],\n",
        "       [0,0,0,0,0,0,1,1,1]])\n",
        "Code.T"
      ],
      "metadata": {
        "id": "fnrWJs-7WSP1"
      },
      "execution_count": null,
      "outputs": []
    },
    {
      "cell_type": "code",
      "source": [
        "Intra_tot = (Intra_rg_sm@Code.T).T  # 지역별 자기지역 생산품 투입액계\n",
        "Inter_tot = (Inter_rg_sm@Code.T).T  # 지역별 타지역 생산품 투입액계\n",
        "Imps_tot =  (Imps_input@Code.T).T  # 지역별 수입중간투입계\n",
        "Intra_tot"
      ],
      "metadata": {
        "id": "UaXkGML-WSSq"
      },
      "execution_count": null,
      "outputs": []
    },
    {
      "cell_type": "code",
      "source": [
        "Input_dom = Intra_tot + Inter_tot\n",
        "Input_all = Input_dom + Imps_tot\n",
        "\n",
        "Input_tot = np.vstack((Intra_tot, Inter_tot, Input_dom,Imps_tot, Input_all)).T\n",
        "# input_tot_f = np.hstack((input_tot,input_tot.sum(axis=0).reshape([1,5])))\n",
        "Input_tot.ndim"
      ],
      "metadata": {
        "id": "ChL-ibuMWSVB"
      },
      "execution_count": null,
      "outputs": []
    },
    {
      "cell_type": "code",
      "source": [
        "Input_nation = Input_tot.sum(axis=0).reshape([1,5])\n",
        "Input_nation.ndim"
      ],
      "metadata": {
        "id": "OGTKK-7MfCoJ"
      },
      "execution_count": null,
      "outputs": []
    },
    {
      "cell_type": "code",
      "source": [
        "Input_tem = np.vstack((Input_tot, Input_nation))\n",
        "Input_fin = np.hstack((Input_tem,Str_rg[0,:].reshape([4,1])))\n",
        "Input_fin"
      ],
      "metadata": {
        "id": "1F2qr8r6fZSm"
      },
      "execution_count": null,
      "outputs": []
    },
    {
      "cell_type": "code",
      "source": [
        "Ct_rg = Str_rg[1,:]\n",
        "Ct_rg_m = np.tile(Ct_rg, reps=[6,1]).T\n",
        "Ct_rg_m"
      ],
      "metadata": {
        "id": "vqKVH5PSg6A3"
      },
      "execution_count": null,
      "outputs": []
    },
    {
      "cell_type": "code",
      "source": [
        "Input_tot_wgt = Input_fin/Ct_rg_m\n",
        "print('지역별 투입구조 \\n', (Input_tot_wgt*100).round(1))"
      ],
      "metadata": {
        "id": "Duamb8MhiFv6"
      },
      "execution_count": null,
      "outputs": []
    },
    {
      "cell_type": "code",
      "source": [
        "Input_df = pd.DataFrame((Input_tot_wgt*100).round(1), columns = ['자기지역생산품','타지역생산품','국산품','수입품','중간투입계','부가가치'],\n",
        "                     index=['수도권', '동부권', '서부권', '전지역']) # 변수명 붙여서 pandas로 내보내기\n",
        "Input_df"
      ],
      "metadata": {
        "id": "9ZRC18XhL1f2"
      },
      "execution_count": null,
      "outputs": []
    },
    {
      "cell_type": "code",
      "source": [
        "Input_df.to_csv('지역별 투입구조.csv', encoding='utf_8-sig')"
      ],
      "metadata": {
        "id": "VNFEV-38jTlE"
      },
      "execution_count": null,
      "outputs": []
    },
    {
      "cell_type": "markdown",
      "source": [
        "## 지역별 배분구조"
      ],
      "metadata": {
        "id": "neHGmpLzjd87"
      }
    },
    {
      "cell_type": "code",
      "source": [
        "Intra_tot"
      ],
      "metadata": {
        "id": "9G5B_Aqppv7H"
      },
      "execution_count": null,
      "outputs": []
    },
    {
      "cell_type": "code",
      "source": [
        "Intra_itd_dstr = Intra_input.sum(axis=1)   # 지역별 부문별 자기지역 생산품 중간수요계\n",
        "Inter_itd_dstr = Inter_input.sum(axis=1)   # 지역별 부문별 타지역 생산품 중간수요계\n",
        "Itd_dstr_sm = Intra_itd_dstr + Inter_itd_dstr\n",
        "Itd_dstr_sm"
      ],
      "metadata": {
        "id": "zFNLa4vnj2t3"
      },
      "execution_count": null,
      "outputs": []
    },
    {
      "cell_type": "code",
      "source": [
        "Intra_itd_tot = (Intra_itd_dstr@Code.T)  # 지역별 부문별 자기지역 최종수요계\n",
        "Inter_itd_tot = (Inter_itd_dstr@Code.T)  # 지역별 부문별 타지역 최종수요계\n",
        "Itd_dstr_tot = (Itd_dstr_sm@Code.T)  # 지역별 중간수요계\n",
        "Itd_dstr_tot"
      ],
      "metadata": {
        "id": "yGIsg_uspQvl"
      },
      "execution_count": null,
      "outputs": []
    },
    {
      "cell_type": "code",
      "source": [
        "Int_dstr = np.vstack((Intra_itd_tot, Inter_itd_tot, Itd_dstr_tot)).T # 지역별 자기지역 중간수요, 타지역 중간수요, 중간수요계"
      ],
      "metadata": {
        "id": "hQ2JwaB_rYem"
      },
      "execution_count": null,
      "outputs": []
    },
    {
      "cell_type": "code",
      "source": [
        "Exp_sudo = Mt[:9,12].sum() # 지역별 총수출액(수도권)\n",
        "Exp_dongbu = Mt[:9,15].sum() # 지역별 총수출액(동부권)\n",
        "Exp_seobu = Mt[:9,18].sum() # 지역별 총수출액(서부권)"
      ],
      "metadata": {
        "id": "HZJdyW8CwJhj"
      },
      "execution_count": null,
      "outputs": []
    },
    {
      "cell_type": "code",
      "source": [
        "Exp_tot = np.hstack((Exp_sudo, Exp_dongbu, Exp_seobu))"
      ],
      "metadata": {
        "id": "0lUz_Xr0xZrZ"
      },
      "execution_count": null,
      "outputs": []
    },
    {
      "cell_type": "code",
      "source": [
        "print('지역별 자기지역 중간수요, 타지역 중간수요, 중간수요계','\\n', Int_dstr, '\\n')\n",
        "print('지역별 총수출액', '\\n', Exp_tot)"
      ],
      "metadata": {
        "id": "gdRkUDt5txGE"
      },
      "execution_count": null,
      "outputs": []
    },
    {
      "cell_type": "code",
      "source": [
        "Mt_for_nonex = Mt\n",
        "Fd_rg = Mt_for_nonex[:9,10:19] # 지역별 부문별 최종수요 벡터\n",
        "Fd_rg[:,2] = 0            #수출을 0으로 만든 최종수요매트릭스 만들기(수출은 자기지역 또는 타지역에 포함되지 않음)\n",
        "Fd_rg[:,5] = 0            #수출을 0으로 만든 최종수요매트릭스 만들기(수출은 자기지역 또는 타지역에 포함되지 않음)\n",
        "Fd_rg[:,8] = 0            #수출을 0으로 만든 최종수요매트릭스 만들기(수출은 자기지역 또는 타지역에 포함되지 않음)\n",
        "Fd_rg"
      ],
      "metadata": {
        "id": "Bz5rWM2Yj20s"
      },
      "execution_count": null,
      "outputs": []
    },
    {
      "cell_type": "code",
      "source": [
        "Intra_fd = (Mtx_for_int*Fd_rg).sum(axis=1) # 지역별 부문별 자기지역 국내 최종수요계\n",
        "Intra_fd"
      ],
      "metadata": {
        "id": "ySZmPt2uj23g"
      },
      "execution_count": null,
      "outputs": []
    },
    {
      "cell_type": "code",
      "source": [
        "Inter_fd =  (Mtx_for_inter*Fd_rg).sum(axis=1) # # 지역별 부문별 타지역 국내 최종수요계"
      ],
      "metadata": {
        "id": "RvWvJ1b3ltdG"
      },
      "execution_count": null,
      "outputs": []
    },
    {
      "cell_type": "code",
      "source": [
        "Tot_fd = Intra_fd + Inter_fd # 최종수요계"
      ],
      "metadata": {
        "id": "Hz0J-ElZtwbq"
      },
      "execution_count": null,
      "outputs": []
    },
    {
      "cell_type": "code",
      "source": [
        "Intra_fd_tot = (Intra_fd@Code.T)  # 자기지역 최종종요 비중(전체산업)\n",
        "Inter_fd_tot = (Inter_fd@Code.T)  # 타지역 최종종요 비중(전체산업)\n",
        "Tot_fd_tot = (Tot_fd@Code.T)"
      ],
      "metadata": {
        "id": "u0WRqv7pltfz"
      },
      "execution_count": null,
      "outputs": []
    },
    {
      "cell_type": "code",
      "source": [
        "Fd_dstr = np.vstack((Intra_fd_tot, Inter_fd_tot, Tot_fd_tot)).T"
      ],
      "metadata": {
        "id": "eW3I7Rlelths"
      },
      "execution_count": null,
      "outputs": []
    },
    {
      "cell_type": "code",
      "source": [
        "Total_dstr = np.hstack((Int_dstr, Fd_dstr, Exp_tot.reshape([3,1])))\n",
        "Total_dstr"
      ],
      "metadata": {
        "id": "nidu8mtjltkQ"
      },
      "execution_count": null,
      "outputs": []
    },
    {
      "cell_type": "code",
      "source": [
        "Tot_dstr_ct = Total_dstr[:,2]+Total_dstr[:,5]+Total_dstr[:,6]\n",
        "Tot_dstr_ct"
      ],
      "metadata": {
        "id": "bXsP78-kxyRl"
      },
      "execution_count": null,
      "outputs": []
    },
    {
      "cell_type": "code",
      "source": [
        "Tot_dstr_col_sm = np.hstack((Total_dstr,Tot_dstr_ct.reshape([3,1])))\n",
        "Tot_dstr_col_sm"
      ],
      "metadata": {
        "id": "s9jTwfSd5EAo"
      },
      "execution_count": null,
      "outputs": []
    },
    {
      "cell_type": "code",
      "source": [
        "Tot_dstr_rw_sm = Tot_dstr_col_sm.sum(axis=0)\n",
        "Tot_dstr_rw_sm"
      ],
      "metadata": {
        "id": "oQ6shBg_5EC8"
      },
      "execution_count": null,
      "outputs": []
    },
    {
      "cell_type": "code",
      "source": [
        "Tot_dstr = np.vstack((Tot_dstr_col_sm, Tot_dstr_rw_sm))\n",
        "Tot_dstr"
      ],
      "metadata": {
        "id": "1_IZrAEoltmc"
      },
      "execution_count": null,
      "outputs": []
    },
    {
      "cell_type": "code",
      "source": [
        "Sm_col = np.tile(Tot_dstr[:,7].reshape([4,1]), reps=[1,8])\n",
        "Sm_col"
      ],
      "metadata": {
        "id": "tZTofJB1SZj4"
      },
      "execution_count": null,
      "outputs": []
    },
    {
      "cell_type": "code",
      "source": [
        "Tot_dstr_ratio = Tot_dstr/Sm_col\n",
        "print('지역별 배분구조', '\\n', (Tot_dstr_ratio*100).round(1))"
      ],
      "metadata": {
        "id": "LKygMEJLUcUp"
      },
      "execution_count": null,
      "outputs": []
    },
    {
      "cell_type": "code",
      "source": [
        "dstr_df = pd.DataFrame((Tot_dstr_ratio*100).round(1), columns = [['중간재', '중간재', '중간재', '최종수요', '최종수요', '최종수요','수출', '합계'],\n",
        "                                     ['자기지역', '타지역', '소계', '자기지역', '타지역', '소계','수출', '합계' ]],\n",
        "                       index = ['수도권', '동부권', '서부권', '전지역'])\n",
        "dstr_df"
      ],
      "metadata": {
        "id": "SxyCokJf9ON5"
      },
      "execution_count": null,
      "outputs": []
    },
    {
      "cell_type": "code",
      "source": [
        "dstr_df.to_csv('지역별 배분구조.csv', encoding='utf_8-sig')"
      ],
      "metadata": {
        "id": "8OyvLcgoSZmN"
      },
      "execution_count": null,
      "outputs": []
    },
    {
      "cell_type": "markdown",
      "source": [
        "### 지역 이출입"
      ],
      "metadata": {
        "id": "FNJ_C3SJZDQ4"
      }
    },
    {
      "cell_type": "code",
      "source": [
        "Tra_int = Mt[0:9,0:9] # 지역별 부문별 중간투입(수요)\n",
        "Tra_int"
      ],
      "metadata": {
        "id": "M7icMRVGypcS"
      },
      "execution_count": null,
      "outputs": []
    },
    {
      "cell_type": "code",
      "source": [
        "Tra_fd = Fd_rg  # 지역별 부문별 최종수요\n",
        "Tra_fd"
      ],
      "metadata": {
        "id": "30O4-H7xy0KS"
      },
      "execution_count": null,
      "outputs": []
    },
    {
      "cell_type": "code",
      "source": [
        "Tot_tra = (Tra_int+Tra_fd).astype(float)  #지역별 산업별 이출입 매트릭스 9x9\n",
        "Tot_tra"
      ],
      "metadata": {
        "id": "Y9AciCbShB1L"
      },
      "execution_count": null,
      "outputs": []
    },
    {
      "cell_type": "code",
      "source": [
        "Cd_for_tr = np.array([[1,1,1,0,0,0,0,0,0],  # 행렬 곱을 이용한 부문 통합을 위해 0과 1로 구성된 임시의 6x6 매트릭스\n",
        "       [0,0,0,1,1,1,0,0,0],\n",
        "       [0,0,0,0,0,0,1,1,1]])\n"
      ],
      "metadata": {
        "id": "H1pkLW91qfdV"
      },
      "execution_count": null,
      "outputs": []
    },
    {
      "cell_type": "code",
      "source": [
        "Fnl_tra = (Cd_for_tr@Tot_tra)@Cd_for_tr.T # 지역별 매트릭스(자기지역 + 타지역)"
      ],
      "metadata": {
        "id": "WEDv0XT4rPrs"
      },
      "execution_count": null,
      "outputs": []
    },
    {
      "cell_type": "code",
      "source": [
        "Fnl_tra_rw_sm = Fnl_tra.sum(axis=1).reshape([3,1])\n",
        "Fnl_tra_rw_mtx = np.hstack((Fnl_tra,Fnl_tra_rw_sm))\n",
        "\n",
        "Fnl_tra_col_sm = Fnl_tra_rw_mtx.sum(axis=0).reshape([1,4])\n",
        "\n",
        "#지역 간 이출입 구조\n",
        "\n",
        "Fnl_tra_ff = np.vstack((Fnl_tra_rw_mtx,Fnl_tra_col_sm)) # 지역간 이출입 구조\n",
        "Fnl_tra_ratio = Fnl_tra_ff [:3,:]/(np.tile(Fnl_tra_ff[:3,3], reps=[4,1]).T)\n",
        "print('지역 간 이출구조', '\\n', (Fnl_tra_ratio*100).round(1))"
      ],
      "metadata": {
        "id": "Y_Wdl_V7AHXP"
      },
      "execution_count": null,
      "outputs": []
    },
    {
      "cell_type": "code",
      "source": [
        "Fnl_inter_ratio = Fnl_tra_ff [:,:3]/(np.tile(Fnl_tra_ff[3,:3], reps=[4,1]))\n",
        "print('지역 간 이입구조', '\\n', (Fnl_inter_ratio*100).round(1))"
      ],
      "metadata": {
        "id": "DqV1wnj_18b5"
      },
      "execution_count": null,
      "outputs": []
    },
    {
      "cell_type": "code",
      "source": [
        "Tra_df = pd.DataFrame(Fnl_tra_ff, columns = ['수도권', '동부권', '서부권', '총이출'],\n",
        "                                     index=['수도권', '동부권', '서부권', '총이입'])\n",
        "Tra_df"
      ],
      "metadata": {
        "id": "OHlBil3JAAlo"
      },
      "execution_count": null,
      "outputs": []
    },
    {
      "cell_type": "code",
      "source": [
        "Tra_df.to_csv('지역간 이출입 구조.csv', encoding='utf_8-sig')"
      ],
      "metadata": {
        "id": "uEdxtVPUAf8h"
      },
      "execution_count": null,
      "outputs": []
    },
    {
      "cell_type": "markdown",
      "source": [
        "###..산업연관효과분석"
      ],
      "metadata": {
        "id": "JYbkwC_VPVv2"
      }
    },
    {
      "cell_type": "code",
      "source": [
        "Dm_1 = Mt[0:9,0:9].astype(float)\n",
        "Im_1 = Mt[9:12,0:9].astype(float)\n",
        "# Dm_1 = Dt[0:4,1:10].astype(float)\n",
        "# Im_1 = It[0:4,1:10].astype(float)\n",
        "# print('총거래표 : \\n', Tt_1)    # 총거래표 확인\n",
        "print('국산거래표 : \\n', Dm_1)  # 국산거래표 확인\n",
        "print('수입거래표 : \\n', Im_1.astype(float))  # 수입거래표 확인"
      ],
      "metadata": {
        "id": "q4Q2rSR1QiUI"
      },
      "execution_count": null,
      "outputs": []
    },
    {
      "cell_type": "code",
      "source": [
        "Ct =Mt[-1,:9]  # 총산출액 벡터\n",
        "Ct"
      ],
      "metadata": {
        "id": "sLoitK1lQigz"
      },
      "execution_count": null,
      "outputs": []
    },
    {
      "cell_type": "code",
      "source": [
        "Ct_m = np.tile(Ct, reps=[9,1]) # 총산출액 벡터를 9번 행반복"
      ],
      "metadata": {
        "id": "s0wcbJY1Qipl"
      },
      "execution_count": null,
      "outputs": []
    },
    {
      "cell_type": "code",
      "source": [
        "# At = Tt_1[0:3,0:3]/ct_m   # 총투입계수\n",
        "Ad =(Dm_1/Ct_m)  # 국산투입계수\n",
        "\n",
        "# print('총투입계수표 : \\n', At)\n",
        "# print('국산투입계수표 : \\n', Ad)\n",
        "#\n",
        "# df_At = pd.DataFrame(At.round(3),columns = ['농산품', '공산품', '서비스'], index=['농산품', '공산품', '서비스'])  #pandas로 내보내기\n",
        "print('국산투입계수', '\\n', Ad.round(3))"
      ],
      "metadata": {
        "id": "5uLIE7vfQiwM"
      },
      "execution_count": null,
      "outputs": []
    },
    {
      "cell_type": "code",
      "source": [
        "Ad_df = pd.DataFrame(Ad, columns = [['수도권', '수도권', '수도권', '서부권', '서부권', '서부권','동부권', '동부권', '동부권'],\n",
        "                                    ['농산품', '공산품', '서비스', '농산품', '공산품', '서비스','농산품', '공산품', '서비스']],\n",
        "\n",
        "                                    index=[['수도권', '수도권', '수도권', '서부권', '서부권', '서부권','동부권', '동부권', '동부권'],\n",
        "                                           ['농산품', '공산품', '서비스', '농산품', '공산품', '서비스','농산품', '공산품', '서비스']])\n",
        "Ad_df.index.names=['지역', '상품']\n",
        "Ad_df"
      ],
      "metadata": {
        "id": "W-MSnIM5k4X5"
      },
      "execution_count": null,
      "outputs": []
    },
    {
      "cell_type": "markdown",
      "source": [
        "##### 생산유발계수(Lf)"
      ],
      "metadata": {
        "id": "V0nnZSeHUPn8"
      }
    },
    {
      "cell_type": "code",
      "source": [
        "Lf = np.linalg.inv(np.identity(9)-Ad)    # 생산유발계수\n",
        "Lf_sm_cl = np.hstack((Lf, Lf.sum(axis=1).reshape([9,1]))) # 생산유발계수의 열합\n",
        "Lf_sm_rw = np.vstack((Lf_sm_cl,Lf_sm_cl.sum(axis=0))) # 생산유발계수의 행합\n",
        "print('생산유발계수', '\\n', Lf_sm_rw)"
      ],
      "metadata": {
        "id": "SF7hebVoQi2M"
      },
      "execution_count": null,
      "outputs": []
    },
    {
      "cell_type": "markdown",
      "source": [
        "#### 수입유발계수(Li)"
      ],
      "metadata": {
        "id": "wKCMUKbYF1DC"
      }
    },
    {
      "cell_type": "code",
      "source": [
        "Dig_imp = linalg.block_diag(Mt[9:12,0:3],Mt[9:12,3:6],Mt[9:12,6:9]) # 지역별 수입거래표의 대각행렬"
      ],
      "metadata": {
        "id": "KeSjlZ3lF3tr"
      },
      "execution_count": null,
      "outputs": []
    },
    {
      "cell_type": "code",
      "source": [
        "Ai = Dig_imp/Ct_m\n",
        "Ai"
      ],
      "metadata": {
        "id": "zU1w4O1_F3wa"
      },
      "execution_count": null,
      "outputs": []
    },
    {
      "cell_type": "code",
      "source": [
        "Li = Ai@Lf  #수입유발계수\n",
        "Li.shape\n",
        "\n",
        "Li_sm_cl = np.hstack((Li, Li.sum(axis=1).reshape([9,1]))) # 수입유발계수의 열합\n",
        "Li_sm_rw = np.vstack((Li_sm_cl,Li_sm_cl.sum(axis=0))) # 수입유발계수의 행합\n",
        "print('수입유발계수', '\\n', Li_sm_rw.round(2))\n"
      ],
      "metadata": {
        "id": "fhzeX5qlF3yy"
      },
      "execution_count": null,
      "outputs": []
    },
    {
      "cell_type": "markdown",
      "source": [
        "#### 부가가치유발계수(Lv)"
      ],
      "metadata": {
        "id": "DkU6os7vUW-0"
      }
    },
    {
      "cell_type": "code",
      "source": [
        "Va_r = Mt[-2,:9]/Ct # 지역별 부문별 부가가치율\n",
        "Va_r"
      ],
      "metadata": {
        "id": "KfbCR-LdQjCF"
      },
      "execution_count": null,
      "outputs": []
    },
    {
      "cell_type": "code",
      "source": [
        "Va_m = np.diag(Va_r)  # 지역별 부문별 부가가치율의 대각행렬\n",
        "Va_m"
      ],
      "metadata": {
        "id": "7dkxNSQCQjJF"
      },
      "execution_count": null,
      "outputs": []
    },
    {
      "cell_type": "code",
      "source": [
        "Lv = Va_m@Lf  #부가가치유발계수\n",
        "Lv_sm_cl = np.hstack((Lv, Lv.sum(axis=1).reshape([9,1]))) # 부가가치유발계수의 열합\n",
        "Lv_sm_rw = np.vstack((Lv_sm_cl,Lv_sm_cl.sum(axis=0))) # 부가가치유발계수의 행합\n",
        "print('부가가치유발계수', '\\n', Lv_sm_rw.round(2))"
      ],
      "metadata": {
        "id": "DF_G_Hn09gRy"
      },
      "execution_count": null,
      "outputs": []
    },
    {
      "cell_type": "code",
      "source": [
        "# df_Lv = pd.DataFrame(Lv.round(3),columns = ['농산품', '공산품', '서비스'], index=['농산품', '공산품', '서비스'])  # pandas로 내보내기"
      ],
      "metadata": {
        "id": "Od3StAXA86sf"
      },
      "execution_count": null,
      "outputs": []
    },
    {
      "cell_type": "code",
      "source": [
        "\n",
        "Lf_df = pd.DataFrame(Lf.round(3), columns = [['수도권', '수도권', '수도권', '동부권', '동부권', '동부권','서부권', '서부권', '서부권'],\n",
        "                                    ['농산품', '공산품', '서비스', '농산품', '공산품', '서비스','농산품', '공산품', '서비스']],\n",
        "\n",
        "                                    index=[['수도권', '수도권', '수도권', '동부권', '동부권', '동부권','서부권', '서부권', '서부권'],\n",
        "                                           ['농산품', '공산품', '서비스', '농산품', '공산품', '서비스','농산품', '공산품', '서비스']])\n",
        "Lf_df.index.names=['지역', '상품']\n",
        "Lf_df  #pandas로 내보내기"
      ],
      "metadata": {
        "id": "nX6qaZrUkoEH"
      },
      "execution_count": null,
      "outputs": []
    },
    {
      "cell_type": "code",
      "source": [
        "Lv_df = pd.DataFrame(Lv, columns = [['수도권', '수도권', '수도권', '동부권', '동부권', '동부권','서부권', '서부권', '서부권'],\n",
        "                                    ['농산품', '공산품', '서비스', '농산품', '공산품', '서비스','농산품', '공산품', '서비스']],\n",
        "\n",
        "                                    index=[['수도권', '수도권', '수도권', '동부권', '동부권', '동부권','서부권', '서부권', '서부권'],\n",
        "                                           ['농산품', '공산품', '서비스', '농산품', '공산품', '서비스','농산품', '공산품', '서비스']])\n",
        "Lv_df.index.names=['지역', '상품']\n",
        "# Lv_df  #pandas로 내보내기"
      ],
      "metadata": {
        "id": "Z72UOsOML_yD"
      },
      "execution_count": null,
      "outputs": []
    },
    {
      "cell_type": "code",
      "source": [
        "Li_df = pd.DataFrame(Li, columns = [['수도권', '수도권', '수도권', '동부권', '동부권', '동부권','서부권', '서부권', '서부권'],\n",
        "                                    ['농산품', '공산품', '서비스', '농산품', '공산품', '서비스','농산품', '공산품', '서비스']],\n",
        "\n",
        "                                    index=[['수도권', '수도권', '수도권', '동부권', '동부권', '동부권','서부권', '서부권', '서부권'],\n",
        "                                           ['농산품', '공산품', '서비스', '농산품', '공산품', '서비스','농산품', '공산품', '서비스']])\n",
        "Li_df.index.names=['지역', '상품']\n",
        "# Li_df  #pandas로 내보내기"
      ],
      "metadata": {
        "id": "9VHsqhK0L_97"
      },
      "execution_count": null,
      "outputs": []
    },
    {
      "cell_type": "code",
      "source": [
        "Lf_df.to_csv('생산유발계수.csv', encoding='utf_8-sig')\n",
        "Lv_df.to_csv('부가가치유발계수.csv', encoding='utf_8-sig')\n",
        "Li_df.to_csv('수입유발계수.csv', encoding='utf_8-sig')"
      ],
      "metadata": {
        "id": "gqjEbG6yMVVV"
      },
      "execution_count": null,
      "outputs": []
    },
    {
      "cell_type": "markdown",
      "source": [
        "## 취업계수 및 취업유발계수"
      ],
      "metadata": {
        "id": "rDsqvOxBbB5w"
      }
    },
    {
      "cell_type": "code",
      "source": [
        "Rgt_emp_3"
      ],
      "metadata": {
        "id": "dijRS0AQCXzi"
      },
      "execution_count": null,
      "outputs": []
    },
    {
      "cell_type": "code",
      "source": [
        "Emp_3 = Rgt_emp_3.to_numpy() # 지역별 부문별 취업자수\n",
        "Emp = Emp_3[0:4,0:4].astype(float)\n",
        "Emp"
      ],
      "metadata": {
        "id": "EhfSwOlU85xT"
      },
      "execution_count": null,
      "outputs": []
    },
    {
      "cell_type": "code",
      "source": [
        "Emp_row = np.concatenate((Emp[:,0],Emp[:,1],Emp[:,2]))\n",
        "Emp_row.shape"
      ],
      "metadata": {
        "id": "MeyPnDvW85z9"
      },
      "execution_count": null,
      "outputs": []
    },
    {
      "cell_type": "code",
      "source": [
        "Ct.shape"
      ],
      "metadata": {
        "id": "SsQcUSk-EokE"
      },
      "execution_count": null,
      "outputs": []
    },
    {
      "cell_type": "code",
      "source": [
        "# emp_row = np.vstack(sudo_emp,dongbu_emp)"
      ],
      "metadata": {
        "id": "20MgisErC9mY"
      },
      "execution_count": null,
      "outputs": []
    },
    {
      "cell_type": "code",
      "source": [
        "Emp_ratio = ((Emp_row/Ct)/1000).T # 취업계수(십억원당)\n",
        "Emp_ratio = Emp_ratio.reshape(1,9)\n",
        "print('취업계수', '\\n', Emp_ratio)"
      ],
      "metadata": {
        "id": "8eLdFKsx853d"
      },
      "execution_count": null,
      "outputs": []
    },
    {
      "cell_type": "code",
      "source": [
        "Emp_Lf= np.diag(Emp_ratio.flatten())@Lf #취업유발계수\n",
        "Emp_sm_cl = np.hstack((Emp_Lf, Emp_Lf.sum(axis=1).reshape([9,1]))) # 취업유발계수 열합\n",
        "Emp_sm_rw = np.vstack((Emp_sm_cl,Emp_sm_cl.sum(axis=0))) # 취업유발계수 행합\n",
        "print('취업유발계수', '\\n', Emp_sm_rw.round(1))"
      ],
      "metadata": {
        "id": "Q4cDYCmQ855-"
      },
      "execution_count": null,
      "outputs": []
    },
    {
      "cell_type": "code",
      "source": [
        "Emp_ratio_df = pd.DataFrame(Emp_ratio.round(3), columns = [['수도권', '수도권', '수도권', '동부권', '동부권', '동부권','서부권', '서부권', '서부권'],\n",
        "                                    ['농산품', '공산품', '서비스', '농산품', '공산품', '서비스','농산품', '공산품', '서비스']],\n",
        "\n",
        "                                    index=[['취업계수']])\n",
        "\n",
        "Emp_Lf_df = pd.DataFrame(Emp_Lf, columns = [['수도권', '수도권', '수도권', '동부권', '동부권', '동부권','서부권', '서부권', '서부권'],\n",
        "                                    ['농산품', '공산품', '서비스', '농산품', '공산품', '서비스','농산품', '공산품', '서비스']],\n",
        "\n",
        "                                    index=[['수도권', '수도권', '수도권', '동부권', '동부권', '동부권','서부권', '서부권', '서부권'],\n",
        "                                           ['농산품', '공산품', '서비스', '농산품', '공산품', '서비스','농산품', '공산품', '서비스']])\n",
        "Emp_Lf_df.index.names=['지역', '상품']\n",
        "\n",
        "#pandas로 내보내기"
      ],
      "metadata": {
        "id": "9ebPSkWZ857-"
      },
      "execution_count": null,
      "outputs": []
    },
    {
      "cell_type": "code",
      "source": [
        "Emp_ratio_df"
      ],
      "metadata": {
        "id": "IamHI5bG8599"
      },
      "execution_count": null,
      "outputs": []
    },
    {
      "cell_type": "code",
      "source": [
        "Emp_Lf_df"
      ],
      "metadata": {
        "id": "UvnNxUFb85_o"
      },
      "execution_count": null,
      "outputs": []
    },
    {
      "cell_type": "code",
      "source": [
        "Emp_ratio_df.to_csv('지역별_상품별_취업계수.csv', encoding='utf_8-sig')\n",
        "Emp_Lf_df.to_csv('지역별_상품별_취업유발계수.csv', encoding='utf_8-sig')"
      ],
      "metadata": {
        "id": "gsdIn0-N86B5"
      },
      "execution_count": null,
      "outputs": []
    },
    {
      "cell_type": "markdown",
      "source": [
        "### Tiva_in and Tiva_out"
      ],
      "metadata": {
        "id": "yEtHgyZKZd4d"
      }
    },
    {
      "cell_type": "markdown",
      "source": [
        "## 수도권의 Tiva_in and Tiva_out"
      ],
      "metadata": {
        "id": "-ZXhaT1HahRC"
      }
    },
    {
      "cell_type": "code",
      "source": [
        "# 수도권의 타지역에 대한 부가가치 이입 및 이출\n",
        "Fd = Mt[:9,10:19]\n",
        "Fd_sudo = Fd[:,0:3].sum(axis=1)\n",
        "Fd_non_sudo = Fd[:,3:9].sum(axis=1)"
      ],
      "metadata": {
        "id": "1GcoiTbfaeZP"
      },
      "execution_count": null,
      "outputs": []
    },
    {
      "cell_type": "code",
      "source": [
        "Mtx_for_vain = Lv@np.diagflat(Fd_sudo)\n",
        "Mtx_for_vaout = Lv@np.diagflat(Fd_non_sudo)\n",
        "Mtx_for_vaout"
      ],
      "metadata": {
        "id": "CflfUbWYaecK"
      },
      "execution_count": null,
      "outputs": []
    },
    {
      "cell_type": "code",
      "source": [
        "Tiva_in_sudo = Mtx_for_vaout[:3,:] # 타지역 최종수요에 의한 수도권 부가가치유발액\n",
        "Tiva_in_sudo_sm = Tiva_in_sudo.sum(axis=1).reshape([3,1])\n",
        "Tiva_in_sudo_all = Tiva_in_sudo_sm.sum()\n",
        "Tiva_in_sudo_vec = np.vstack((Tiva_in_sudo_sm,Tiva_in_sudo_all))\n",
        "\n",
        "Tiva_out_sudo = Mtx_for_vain[3:,:] # 수도권 최종수요에 의한 타지역 부가가치유발액\n",
        "Tiva_out_sudo_sm = Tiva_out_sudo.sum(axis=1).reshape([6,1])\n",
        "Tiva_out_sudo_arg = Tiva_out_sudo_sm[0,:] + Tiva_out_sudo_sm[3, :]\n",
        "Tiva_out_sudo_manu = Tiva_out_sudo_sm[1,:] + Tiva_out_sudo_sm[4, :]\n",
        "Tiva_out_sudo_serv = Tiva_out_sudo_sm[2,:] + Tiva_out_sudo_sm[5, :]\n",
        "Tiva_out_sudo_all = Tiva_out_sudo_sm.sum()\n",
        "Tiva_out_sudo_vec = np.vstack((Tiva_out_sudo_arg,Tiva_out_sudo_manu,Tiva_out_sudo_serv,Tiva_out_sudo_all))"
      ],
      "metadata": {
        "id": "IjgYPmmzaeew"
      },
      "execution_count": null,
      "outputs": []
    },
    {
      "cell_type": "code",
      "source": [
        "Tiva_mt=np.hstack((Tiva_in_sudo_vec, Tiva_out_sudo_vec, (Tiva_in_sudo_vec-Tiva_out_sudo_vec) ))\n",
        "print('수도권의 타지역에 대한 부가가치 이입 및 이출', '\\n' ,Tiva_mt.round(0))"
      ],
      "metadata": {
        "id": "rkEU4QRYHvZ6"
      },
      "execution_count": null,
      "outputs": []
    },
    {
      "cell_type": "code",
      "source": [
        "Tiva_in_sudo_df = pd.DataFrame(Tiva_in_sudo.round(3), columns = [['수도권', '수도권', '수도권', '동부권', '동부권', '동부권','서부권', '서부권', '서부권'],\n",
        "                                    ['농산품', '공산품', '서비스', '농산품', '공산품', '서비스','농산품', '공산품', '서비스']],\n",
        "\n",
        "                                    index=[['수도권', '수도권', '수도권'],\n",
        "                                           ['농산품', '공산품', '서비스']])\n",
        "\n",
        "Tiva_out_sudo_df = pd.DataFrame(Tiva_out_sudo, columns = [['수도권', '수도권', '수도권', '동부권', '동부권', '동부권','서부권', '서부권', '서부권'],\n",
        "                                    ['농산품', '공산품', '서비스', '농산품', '공산품', '서비스','농산품', '공산품', '서비스']],\n",
        "\n",
        "                                    index=[['동부권', '동부권', '동부권','서부권', '서부권', '서부권'],\n",
        "                                           ['농산품', '공산품', '서비스','농산품', '공산품', '서비스']])\n",
        "\n",
        "Tiva_in_sudo_df.index.names=['지역', '상품']\n",
        "Tiva_out_sudo_df.index.names=['지역', '상품']\n",
        "Tiva_out_sudo_df"
      ],
      "metadata": {
        "id": "6GCQfPIGgsRs"
      },
      "execution_count": null,
      "outputs": []
    },
    {
      "cell_type": "code",
      "source": [
        "Tiva_in_sudo_df.to_csv('부가가치이입.csv', encoding='utf_8-sig')\n",
        "Tiva_out_sudo_df.to_csv('부가가치이출.csv', encoding='utf_8-sig')"
      ],
      "metadata": {
        "id": "6UQ2Tj4ViDPD"
      },
      "execution_count": null,
      "outputs": []
    },
    {
      "cell_type": "code",
      "source": [],
      "metadata": {
        "id": "aV9F9kvsJy74"
      },
      "execution_count": null,
      "outputs": []
    }
  ]
}