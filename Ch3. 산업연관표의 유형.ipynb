{
  "nbformat": 4,
  "nbformat_minor": 0,
  "metadata": {
    "colab": {
      "provenance": [],
      "include_colab_link": true
    },
    "kernelspec": {
      "name": "python3",
      "display_name": "Python 3"
    },
    "language_info": {
      "name": "python"
    }
  },
  "cells": [
    {
      "cell_type": "markdown",
      "metadata": {
        "id": "view-in-github",
        "colab_type": "text"
      },
      "source": [
        "<a href=\"https://colab.research.google.com/github/IO-2024/IOTs_with_python/blob/main/Ch3.%20%EC%82%B0%EC%97%85%EC%97%B0%EA%B4%80%ED%91%9C%EC%9D%98%20%EC%9C%A0%ED%98%95.ipynb\" target=\"_parent\"><img src=\"https://colab.research.google.com/assets/colab-badge.svg\" alt=\"Open In Colab\"/></a>"
      ]
    },
    {
      "cell_type": "code",
      "source": [
        "import numpy as np   # Numpy import\n",
        "import pandas as pd  # Pandas import"
      ],
      "metadata": {
        "id": "TR7JvW8CxBFT"
      },
      "execution_count": 1,
      "outputs": []
    },
    {
      "cell_type": "markdown",
      "source": [
        "###  3부문 총, 국산, 수입거래표 불러오기"
      ],
      "metadata": {
        "id": "3pPHmi20k2k1"
      }
    },
    {
      "cell_type": "code",
      "source": [
        "url_Tt_3 = \"https://raw.githubusercontent.com/IO-2024/IOTs_with_python/main/data/Total_Matrix_2015_cst_3sectors.csv\"  # 총거래표(3부문) 불러오기\n",
        "Tt_3 = pd.read_csv(url_Tt_3)\n",
        "\n",
        "url_Dt_3 = \"https://raw.githubusercontent.com/IO-2024/IOTs_with_python/main/data/Domestic_matrix_3sectors.csv\"  # 국산거래표(3부문) 불러오기\n",
        "Dt_3 = pd.read_csv(url_Dt_3)\n",
        "\n",
        "url_It_3 = \"https://raw.githubusercontent.com/IO-2024/IOTs_with_python/main/data/Imported_matrix_3sectors.csv\"  # 수입거래표(3부문) 불러오기\n",
        "It_3 = pd.read_csv(url_It_3)\n",
        "\n",
        "url_emp_3 = \"https://raw.githubusercontent.com/IO-2024/IOTs_with_python/main/data/Emp_3_secs.csv\"  # 고용표(3부문) 불러오기\n",
        "Emp_3 = pd.read_csv(url_emp_3)"
      ],
      "metadata": {
        "id": "EuB3g6ODNz9E"
      },
      "execution_count": 2,
      "outputs": []
    },
    {
      "cell_type": "markdown",
      "source": [
        "### DataFrame을 Numpy로 읽어오고 숫자만으로 행렬을 만들고 차원 등 제대로 읽어 왔는지 체크\n",
        "\n"
      ],
      "metadata": {
        "id": "x-a_G73J-ARG"
      }
    },
    {
      "cell_type": "code",
      "source": [
        "# numpy로 불러오기\n",
        "Tt = Tt_3.to_numpy()  # 총거래표\n",
        "Dt = Dt_3.to_numpy()  # 국산거래표\n",
        "It = It_3.to_numpy()  # 수입거래표\n",
        "Em = Emp_3.to_numpy() # 고용표"
      ],
      "metadata": {
        "id": "Hb3EasrIAz9H"
      },
      "execution_count": 3,
      "outputs": []
    },
    {
      "cell_type": "code",
      "source": [
        "print('총거래표 \\n', Tt,'\\n')\n",
        "print('국산거래표 \\n', Dt,'\\n')\n",
        "print('수입거래표 \\n', It,'\\n')\n",
        "print('고용표 \\n', Em,'\\n')"
      ],
      "metadata": {
        "id": "38hh1jcQbl3L",
        "outputId": "ceb1f178-fd38-468d-c72e-1e8443bd6583",
        "colab": {
          "base_uri": "https://localhost:8080/"
        }
      },
      "execution_count": 4,
      "outputs": [
        {
          "output_type": "stream",
          "name": "stdout",
          "text": [
            "총거래표 \n",
            " [['농산품' 3.225 39.057 11.897 54.18 17.007 1.655 0.687 19.35 73.53]\n",
            " ['공산품' 17.751 925.393 350.855 1293.999 182.218 138.242 610.738 931.198\n",
            "  2225.197]\n",
            " ['서비스' 7.137 261.663 575.308 844.109 855.675 349.704 105.526 1310.905\n",
            "  2155.013]\n",
            " ['중간투입계' 28.113 1226.114 938.06 2192.287 1054.9 489.602 716.951 2261.453\n",
            "  4453.74]\n",
            " ['피용자보수' 5.243 176.815 568.155 750.213 0.0 0.0 0.0 0.0 0.0]\n",
            " ['영업잉여' 22.576 139.967 278.922 441.465 0.0 0.0 0.0 0.0 0.0]\n",
            " ['고정자본소모' 4.828 114.82 190.021 309.67 0.0 0.0 0.0 0.0 0.0]\n",
            " ['생산세(보조금공제)' 0.61 53.438 82.055 136.103 0.0 0.0 0.0 0.0 0.0]\n",
            " ['부가가치계' 33.258 485.04 1119.152 1637.451 0.0 0.0 0.0 0.0 0.0]\n",
            " ['총투입액' 61.372 1711.154 2057.213 3829.738 0.0 0.0 0.0 0.0 0.0]] \n",
            "\n",
            "국산거래표 \n",
            " [['농산품' 4.0 31.0 10.0 45.0 15.0 -1.0 1.0 15.0 60.0]\n",
            " ['공산품' 15.0 588.0 322.0 925.0 138.0 106.0 623.0 867.0 1792.0]\n",
            " ['서비스' 7.0 243.0 644.0 894.0 997.0 425.0 131.0 1553.0 2447.0]\n",
            " ['중간투입계' 26.0 862.0 976.0 1864.0 1150.0 530.0 755.0 2435.0 4299.0]] \n",
            "\n",
            "수입거래표 \n",
            " [['농산품' 0.0 7.0 1.0 8.0 3.0 1.0 0.0 4.0 12.0]\n",
            " ['공산품' 1.0 356.0 79.0 436.0 75.0 61.0 5.0 141.0 577.0]\n",
            " ['서비스' 0.0 14.0 49.0 63.0 35.0 7.0 0.0 42.0 105.0]\n",
            " ['중간투입계' 1.0 377.0 129.0 507.0 113.0 69.0 5.0 187.0 694.0]] \n",
            "\n",
            "고용표 \n",
            " [['농산품' 10 127]\n",
            " ['공산품' 343 388]\n",
            " ['서비스' 1458 1941]\n",
            " ['전부문' 1811 2456]] \n",
            "\n"
          ]
        }
      ]
    },
    {
      "cell_type": "code",
      "source": [],
      "metadata": {
        "id": "vmqAMF6_f5j3"
      },
      "execution_count": 4,
      "outputs": []
    }
  ]
}