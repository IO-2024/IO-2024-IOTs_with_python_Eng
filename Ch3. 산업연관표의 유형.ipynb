{
  "nbformat": 4,
  "nbformat_minor": 0,
  "metadata": {
    "colab": {
      "provenance": [],
      "include_colab_link": true
    },
    "kernelspec": {
      "name": "python3",
      "display_name": "Python 3"
    },
    "language_info": {
      "name": "python"
    }
  },
  "cells": [
    {
      "cell_type": "markdown",
      "metadata": {
        "id": "view-in-github",
        "colab_type": "text"
      },
      "source": [
        "<a href=\"https://colab.research.google.com/github/Muraka64/IOTs_with_python/blob/main/Ch3.%20%EC%82%B0%EC%97%85%EC%97%B0%EA%B4%80%ED%91%9C%EC%9D%98%20%EC%9C%A0%ED%98%95.ipynb\" target=\"_parent\"><img src=\"https://colab.research.google.com/assets/colab-badge.svg\" alt=\"Open In Colab\"/></a>"
      ]
    },
    {
      "cell_type": "code",
      "source": [
        "import numpy as np   # Numpy import\n",
        "import pandas as pd  # Pandas import"
      ],
      "metadata": {
        "id": "TR7JvW8CxBFT"
      },
      "execution_count": 1,
      "outputs": []
    },
    {
      "cell_type": "markdown",
      "source": [
        "###  3부문 총, 국산, 수입거래표 불러오기"
      ],
      "metadata": {
        "id": "3pPHmi20k2k1"
      }
    },
    {
      "cell_type": "code",
      "source": [
        "url_Tt_3 = \"https://raw.githubusercontent.com/Muraka64/IOTs_with_python/main/data/Total_matrix_3sectors.csv\"  # 3부문의 총거래표 불러오기\n",
        "Tt_3 = pd.read_csv(url_Tt_3)\n",
        "\n",
        "url_Dt_3 = \"https://raw.githubusercontent.com/Muraka64/IOTs_with_python/main/data/Domestic_matrix_3sectors.csv\"  # 3부문의 국산거래표 불러오기\n",
        "Dt_3 = pd.read_csv(url_Dt_3)\n",
        "\n",
        "url_It_3 = \"https://raw.githubusercontent.com/Muraka64/IOTs_with_python/main/data/Imported_matrix_3sectors.csv\"  # 3부문의 수입거래표 불러오기\n",
        "It_3 = pd.read_csv(url_It_3)\n",
        "\n",
        "url_emp_3 = \"https://raw.githubusercontent.com/Muraka64/IOTs_with_python/main/data/Emp_3_secs.csv\"  # 3부문의 고용표 불러오기\n",
        "Emp_3 = pd.read_csv(url_emp_3)"
      ],
      "metadata": {
        "id": "EuB3g6ODNz9E"
      },
      "execution_count": 3,
      "outputs": []
    },
    {
      "cell_type": "markdown",
      "source": [
        "### DataFrame을 Numpy로 읽어오고 숫자만으로 행렬을 만들고 차원 등 제대로 읽어 왔는지 체크\n",
        "\n"
      ],
      "metadata": {
        "id": "x-a_G73J-ARG"
      }
    },
    {
      "cell_type": "code",
      "source": [
        "# numpy로 불러오기\n",
        "\n",
        "Tt = Tt_3.to_numpy()  # 총거래표\n",
        "Dt = Dt_3.to_numpy()  # 국산거래표\n",
        "It = It_3.to_numpy()  # 수입거래표\n",
        "Em = Emp_3.to_numpy() # 고용표"
      ],
      "metadata": {
        "id": "Hb3EasrIAz9H"
      },
      "execution_count": 4,
      "outputs": []
    },
    {
      "cell_type": "code",
      "source": [
        "print('<총거래표>\\n-----------------\\n', Tt,'\\n')\n",
        "print('<국산거래표>\\n-----------------\\n', Dt,'\\n')\n",
        "print('<수입거래표>\\n-----------------\\n', It,'\\n')\n",
        "print('<고용표>\\n-----------------\\n', Em,'\\n')"
      ],
      "metadata": {
        "id": "38hh1jcQbl3L",
        "outputId": "f6de82ce-e2e1-4138-9405-95aeba91fe8d",
        "colab": {
          "base_uri": "https://localhost:8080/"
        }
      },
      "execution_count": 5,
      "outputs": [
        {
          "output_type": "stream",
          "name": "stdout",
          "text": [
            "<총거래표>\n",
            "-----------------\n",
            " [['농산품' 4.0 38.0 11.0 53.0 18.0 0.0 1.0 19.0 72.0 60.0 12.0 72.0]\n",
            " ['공산품' 16.0 944.0 401.0 1361.0 213.0 167.0 628.0 1008.0 2369.0 1792.0\n",
            "  577.0 2369.0]\n",
            " ['서비스' 7.0 257.0 693.0 957.0 1032.0 432.0 131.0 1595.0 2552.0 2447.0\n",
            "  105.0 2552.0]\n",
            " ['중간투입계' 27.0 1239.0 1105.0 2371.0 1263.0 599.0 760.0 2622.0 4993.0\n",
            "  4299.0 694.0 4993.0]\n",
            " ['부가가치계' 33.0 553.0 1342.0 1928.0 0.0 0.0 0.0 0.0 0.0 0.0 0.0 0.0]\n",
            " ['총투입액' 60.0 1792.0 2447.0 4299.0 0.0 0.0 0.0 0.0 0.0 0.0 0.0 0.0]] \n",
            "\n",
            "<국산거래표>\n",
            "-----------------\n",
            " [['농산품' 4.0 31.0 10.0 45.0 15.0 -1.0 1.0 15.0 60.0]\n",
            " ['공산품' 15.0 588.0 322.0 925.0 138.0 106.0 623.0 867.0 1792.0]\n",
            " ['서비스' 7.0 243.0 644.0 894.0 997.0 425.0 131.0 1553.0 2447.0]\n",
            " ['중간투입계' 26.0 862.0 976.0 1864.0 1150.0 530.0 755.0 2435.0 4299.0]] \n",
            "\n",
            "<수입거래표>\n",
            "-----------------\n",
            " [['농산품' 0.0 7.0 1.0 8.0 3.0 1.0 0.0 4.0 12.0]\n",
            " ['공산품' 1.0 356.0 79.0 436.0 75.0 61.0 5.0 141.0 577.0]\n",
            " ['서비스' 0.0 14.0 49.0 63.0 35.0 7.0 0.0 42.0 105.0]\n",
            " ['중간투입계' 1.0 377.0 129.0 507.0 113.0 69.0 5.0 187.0 694.0]] \n",
            "\n",
            "<고용표>\n",
            "-----------------\n",
            " [['농산품' 10 127]\n",
            " ['공산품' 343 388]\n",
            " ['서비스' 1458 1941]\n",
            " ['총계' 1811 2456]] \n",
            "\n"
          ]
        }
      ]
    },
    {
      "cell_type": "code",
      "source": [],
      "metadata": {
        "id": "vmqAMF6_f5j3"
      },
      "execution_count": 5,
      "outputs": []
    }
  ]
}