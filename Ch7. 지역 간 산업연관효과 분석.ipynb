{
  "nbformat": 4,
  "nbformat_minor": 0,
  "metadata": {
    "colab": {
      "provenance": [],
      "mount_file_id": "https://github.com/Tom-Jung/legendary-funicular/blob/main/IO_tables.ipynb",
      "authorship_tag": "ABX9TyM/VHmKQ7wTdS7KGmF/O5Oz",
      "include_colab_link": true
    },
    "kernelspec": {
      "name": "python3",
      "display_name": "Python 3"
    },
    "language_info": {
      "name": "python"
    }
  },
  "cells": [
    {
      "cell_type": "markdown",
      "metadata": {
        "id": "view-in-github",
        "colab_type": "text"
      },
      "source": [
        "<a href=\"https://colab.research.google.com/github/Tom-Jung/IO_with_python/blob/main/Ch7.%20%EC%A7%80%EC%97%AD%20%EA%B0%84%20%EC%82%B0%EC%97%85%EC%97%B0%EA%B4%80%ED%9A%A8%EA%B3%BC%20%EB%B6%84%EC%84%9D.ipynb\" target=\"_parent\"><img src=\"https://colab.research.google.com/assets/colab-badge.svg\" alt=\"Open In Colab\"/></a>"
      ]
    },
    {
      "cell_type": "code",
      "source": [
        "import numpy as np   # Numpy import\n",
        "import pandas as pd  # Pandas import"
      ],
      "metadata": {
        "id": "TR7JvW8CxBFT"
      },
      "execution_count": 1,
      "outputs": []
    },
    {
      "cell_type": "code",
      "source": [
        "Rgt = \"https://raw.githubusercontent.com/Tom-Jung/IO_with_python/main/data/Regional_io_3regions_3sectors.csv\"  # 3지역, 3부문의 지역IO 불러오기\n",
        "Rgt_3 = pd.read_csv(Rgt)\n",
        "Rgt_3.head()"
      ],
      "metadata": {
        "colab": {
          "base_uri": "https://localhost:8080/",
          "height": 236
        },
        "id": "8D9y7bqcuL7m",
        "outputId": "0d9a631b-da9d-4967-8bbf-8a13f50a2500"
      },
      "execution_count": 2,
      "outputs": [
        {
          "output_type": "execute_result",
          "data": {
            "text/plain": [
              "    rg  com  수도권 수도권.1 수도권.2  동부권 동부권.1 동부권.2  서부권 서부권.1  ... 동부권.3 동부권.4  \\\n",
              "0   rg  com  농산품   공산품   서비스  농산품   공산품   서비스  농산품   공산품  ...    소비    투자   \n",
              "1  수도권  농산품    0     3     1    0     0     0    0     1  ...     0     0   \n",
              "2  수도권  공산품    2   112    71    1    36    14    1    37  ...     9     6   \n",
              "3  수도권  서비스    1    79   302    1    27    31    1    28  ...    33    13   \n",
              "4  동부권  농산품    0     1     2    1     7     2    0     2  ...     3     1   \n",
              "\n",
              "  동부권.5 서부권.3 서부권.4 서부권.5  지역최종수요계  지역총수요계    수입   산출액  \n",
              "0    수출    소비    투자    수출  제품최종수요계  제품총수요계  (공제)   산출액  \n",
              "1     0     0     0     0        1       6     0     6  \n",
              "2     0     7     8     0      295     582     0   582  \n",
              "3     0    31    11     0      706    1204     0  1204  \n",
              "4     0     1     0     0        8      23     0    23  \n",
              "\n",
              "[5 rows x 25 columns]"
            ],
            "text/html": [
              "\n",
              "  <div id=\"df-b86073da-eb66-499a-b4f6-64398226c226\" class=\"colab-df-container\">\n",
              "    <div>\n",
              "<style scoped>\n",
              "    .dataframe tbody tr th:only-of-type {\n",
              "        vertical-align: middle;\n",
              "    }\n",
              "\n",
              "    .dataframe tbody tr th {\n",
              "        vertical-align: top;\n",
              "    }\n",
              "\n",
              "    .dataframe thead th {\n",
              "        text-align: right;\n",
              "    }\n",
              "</style>\n",
              "<table border=\"1\" class=\"dataframe\">\n",
              "  <thead>\n",
              "    <tr style=\"text-align: right;\">\n",
              "      <th></th>\n",
              "      <th>rg</th>\n",
              "      <th>com</th>\n",
              "      <th>수도권</th>\n",
              "      <th>수도권.1</th>\n",
              "      <th>수도권.2</th>\n",
              "      <th>동부권</th>\n",
              "      <th>동부권.1</th>\n",
              "      <th>동부권.2</th>\n",
              "      <th>서부권</th>\n",
              "      <th>서부권.1</th>\n",
              "      <th>...</th>\n",
              "      <th>동부권.3</th>\n",
              "      <th>동부권.4</th>\n",
              "      <th>동부권.5</th>\n",
              "      <th>서부권.3</th>\n",
              "      <th>서부권.4</th>\n",
              "      <th>서부권.5</th>\n",
              "      <th>지역최종수요계</th>\n",
              "      <th>지역총수요계</th>\n",
              "      <th>수입</th>\n",
              "      <th>산출액</th>\n",
              "    </tr>\n",
              "  </thead>\n",
              "  <tbody>\n",
              "    <tr>\n",
              "      <th>0</th>\n",
              "      <td>rg</td>\n",
              "      <td>com</td>\n",
              "      <td>농산품</td>\n",
              "      <td>공산품</td>\n",
              "      <td>서비스</td>\n",
              "      <td>농산품</td>\n",
              "      <td>공산품</td>\n",
              "      <td>서비스</td>\n",
              "      <td>농산품</td>\n",
              "      <td>공산품</td>\n",
              "      <td>...</td>\n",
              "      <td>소비</td>\n",
              "      <td>투자</td>\n",
              "      <td>수출</td>\n",
              "      <td>소비</td>\n",
              "      <td>투자</td>\n",
              "      <td>수출</td>\n",
              "      <td>제품최종수요계</td>\n",
              "      <td>제품총수요계</td>\n",
              "      <td>(공제)</td>\n",
              "      <td>산출액</td>\n",
              "    </tr>\n",
              "    <tr>\n",
              "      <th>1</th>\n",
              "      <td>수도권</td>\n",
              "      <td>농산품</td>\n",
              "      <td>0</td>\n",
              "      <td>3</td>\n",
              "      <td>1</td>\n",
              "      <td>0</td>\n",
              "      <td>0</td>\n",
              "      <td>0</td>\n",
              "      <td>0</td>\n",
              "      <td>1</td>\n",
              "      <td>...</td>\n",
              "      <td>0</td>\n",
              "      <td>0</td>\n",
              "      <td>0</td>\n",
              "      <td>0</td>\n",
              "      <td>0</td>\n",
              "      <td>0</td>\n",
              "      <td>1</td>\n",
              "      <td>6</td>\n",
              "      <td>0</td>\n",
              "      <td>6</td>\n",
              "    </tr>\n",
              "    <tr>\n",
              "      <th>2</th>\n",
              "      <td>수도권</td>\n",
              "      <td>공산품</td>\n",
              "      <td>2</td>\n",
              "      <td>112</td>\n",
              "      <td>71</td>\n",
              "      <td>1</td>\n",
              "      <td>36</td>\n",
              "      <td>14</td>\n",
              "      <td>1</td>\n",
              "      <td>37</td>\n",
              "      <td>...</td>\n",
              "      <td>9</td>\n",
              "      <td>6</td>\n",
              "      <td>0</td>\n",
              "      <td>7</td>\n",
              "      <td>8</td>\n",
              "      <td>0</td>\n",
              "      <td>295</td>\n",
              "      <td>582</td>\n",
              "      <td>0</td>\n",
              "      <td>582</td>\n",
              "    </tr>\n",
              "    <tr>\n",
              "      <th>3</th>\n",
              "      <td>수도권</td>\n",
              "      <td>서비스</td>\n",
              "      <td>1</td>\n",
              "      <td>79</td>\n",
              "      <td>302</td>\n",
              "      <td>1</td>\n",
              "      <td>27</td>\n",
              "      <td>31</td>\n",
              "      <td>1</td>\n",
              "      <td>28</td>\n",
              "      <td>...</td>\n",
              "      <td>33</td>\n",
              "      <td>13</td>\n",
              "      <td>0</td>\n",
              "      <td>31</td>\n",
              "      <td>11</td>\n",
              "      <td>0</td>\n",
              "      <td>706</td>\n",
              "      <td>1204</td>\n",
              "      <td>0</td>\n",
              "      <td>1204</td>\n",
              "    </tr>\n",
              "    <tr>\n",
              "      <th>4</th>\n",
              "      <td>동부권</td>\n",
              "      <td>농산품</td>\n",
              "      <td>0</td>\n",
              "      <td>1</td>\n",
              "      <td>2</td>\n",
              "      <td>1</td>\n",
              "      <td>7</td>\n",
              "      <td>2</td>\n",
              "      <td>0</td>\n",
              "      <td>2</td>\n",
              "      <td>...</td>\n",
              "      <td>3</td>\n",
              "      <td>1</td>\n",
              "      <td>0</td>\n",
              "      <td>1</td>\n",
              "      <td>0</td>\n",
              "      <td>0</td>\n",
              "      <td>8</td>\n",
              "      <td>23</td>\n",
              "      <td>0</td>\n",
              "      <td>23</td>\n",
              "    </tr>\n",
              "  </tbody>\n",
              "</table>\n",
              "<p>5 rows × 25 columns</p>\n",
              "</div>\n",
              "    <div class=\"colab-df-buttons\">\n",
              "\n",
              "  <div class=\"colab-df-container\">\n",
              "    <button class=\"colab-df-convert\" onclick=\"convertToInteractive('df-b86073da-eb66-499a-b4f6-64398226c226')\"\n",
              "            title=\"Convert this dataframe to an interactive table.\"\n",
              "            style=\"display:none;\">\n",
              "\n",
              "  <svg xmlns=\"http://www.w3.org/2000/svg\" height=\"24px\" viewBox=\"0 -960 960 960\">\n",
              "    <path d=\"M120-120v-720h720v720H120Zm60-500h600v-160H180v160Zm220 220h160v-160H400v160Zm0 220h160v-160H400v160ZM180-400h160v-160H180v160Zm440 0h160v-160H620v160ZM180-180h160v-160H180v160Zm440 0h160v-160H620v160Z\"/>\n",
              "  </svg>\n",
              "    </button>\n",
              "\n",
              "  <style>\n",
              "    .colab-df-container {\n",
              "      display:flex;\n",
              "      gap: 12px;\n",
              "    }\n",
              "\n",
              "    .colab-df-convert {\n",
              "      background-color: #E8F0FE;\n",
              "      border: none;\n",
              "      border-radius: 50%;\n",
              "      cursor: pointer;\n",
              "      display: none;\n",
              "      fill: #1967D2;\n",
              "      height: 32px;\n",
              "      padding: 0 0 0 0;\n",
              "      width: 32px;\n",
              "    }\n",
              "\n",
              "    .colab-df-convert:hover {\n",
              "      background-color: #E2EBFA;\n",
              "      box-shadow: 0px 1px 2px rgba(60, 64, 67, 0.3), 0px 1px 3px 1px rgba(60, 64, 67, 0.15);\n",
              "      fill: #174EA6;\n",
              "    }\n",
              "\n",
              "    .colab-df-buttons div {\n",
              "      margin-bottom: 4px;\n",
              "    }\n",
              "\n",
              "    [theme=dark] .colab-df-convert {\n",
              "      background-color: #3B4455;\n",
              "      fill: #D2E3FC;\n",
              "    }\n",
              "\n",
              "    [theme=dark] .colab-df-convert:hover {\n",
              "      background-color: #434B5C;\n",
              "      box-shadow: 0px 1px 3px 1px rgba(0, 0, 0, 0.15);\n",
              "      filter: drop-shadow(0px 1px 2px rgba(0, 0, 0, 0.3));\n",
              "      fill: #FFFFFF;\n",
              "    }\n",
              "  </style>\n",
              "\n",
              "    <script>\n",
              "      const buttonEl =\n",
              "        document.querySelector('#df-b86073da-eb66-499a-b4f6-64398226c226 button.colab-df-convert');\n",
              "      buttonEl.style.display =\n",
              "        google.colab.kernel.accessAllowed ? 'block' : 'none';\n",
              "\n",
              "      async function convertToInteractive(key) {\n",
              "        const element = document.querySelector('#df-b86073da-eb66-499a-b4f6-64398226c226');\n",
              "        const dataTable =\n",
              "          await google.colab.kernel.invokeFunction('convertToInteractive',\n",
              "                                                    [key], {});\n",
              "        if (!dataTable) return;\n",
              "\n",
              "        const docLinkHtml = 'Like what you see? Visit the ' +\n",
              "          '<a target=\"_blank\" href=https://colab.research.google.com/notebooks/data_table.ipynb>data table notebook</a>'\n",
              "          + ' to learn more about interactive tables.';\n",
              "        element.innerHTML = '';\n",
              "        dataTable['output_type'] = 'display_data';\n",
              "        await google.colab.output.renderOutput(dataTable, element);\n",
              "        const docLink = document.createElement('div');\n",
              "        docLink.innerHTML = docLinkHtml;\n",
              "        element.appendChild(docLink);\n",
              "      }\n",
              "    </script>\n",
              "  </div>\n",
              "\n",
              "\n",
              "<div id=\"df-480e2e2e-3ae2-4899-9ad4-4375b2b1ff31\">\n",
              "  <button class=\"colab-df-quickchart\" onclick=\"quickchart('df-480e2e2e-3ae2-4899-9ad4-4375b2b1ff31')\"\n",
              "            title=\"Suggest charts\"\n",
              "            style=\"display:none;\">\n",
              "\n",
              "<svg xmlns=\"http://www.w3.org/2000/svg\" height=\"24px\"viewBox=\"0 0 24 24\"\n",
              "     width=\"24px\">\n",
              "    <g>\n",
              "        <path d=\"M19 3H5c-1.1 0-2 .9-2 2v14c0 1.1.9 2 2 2h14c1.1 0 2-.9 2-2V5c0-1.1-.9-2-2-2zM9 17H7v-7h2v7zm4 0h-2V7h2v10zm4 0h-2v-4h2v4z\"/>\n",
              "    </g>\n",
              "</svg>\n",
              "  </button>\n",
              "\n",
              "<style>\n",
              "  .colab-df-quickchart {\n",
              "      --bg-color: #E8F0FE;\n",
              "      --fill-color: #1967D2;\n",
              "      --hover-bg-color: #E2EBFA;\n",
              "      --hover-fill-color: #174EA6;\n",
              "      --disabled-fill-color: #AAA;\n",
              "      --disabled-bg-color: #DDD;\n",
              "  }\n",
              "\n",
              "  [theme=dark] .colab-df-quickchart {\n",
              "      --bg-color: #3B4455;\n",
              "      --fill-color: #D2E3FC;\n",
              "      --hover-bg-color: #434B5C;\n",
              "      --hover-fill-color: #FFFFFF;\n",
              "      --disabled-bg-color: #3B4455;\n",
              "      --disabled-fill-color: #666;\n",
              "  }\n",
              "\n",
              "  .colab-df-quickchart {\n",
              "    background-color: var(--bg-color);\n",
              "    border: none;\n",
              "    border-radius: 50%;\n",
              "    cursor: pointer;\n",
              "    display: none;\n",
              "    fill: var(--fill-color);\n",
              "    height: 32px;\n",
              "    padding: 0;\n",
              "    width: 32px;\n",
              "  }\n",
              "\n",
              "  .colab-df-quickchart:hover {\n",
              "    background-color: var(--hover-bg-color);\n",
              "    box-shadow: 0 1px 2px rgba(60, 64, 67, 0.3), 0 1px 3px 1px rgba(60, 64, 67, 0.15);\n",
              "    fill: var(--button-hover-fill-color);\n",
              "  }\n",
              "\n",
              "  .colab-df-quickchart-complete:disabled,\n",
              "  .colab-df-quickchart-complete:disabled:hover {\n",
              "    background-color: var(--disabled-bg-color);\n",
              "    fill: var(--disabled-fill-color);\n",
              "    box-shadow: none;\n",
              "  }\n",
              "\n",
              "  .colab-df-spinner {\n",
              "    border: 2px solid var(--fill-color);\n",
              "    border-color: transparent;\n",
              "    border-bottom-color: var(--fill-color);\n",
              "    animation:\n",
              "      spin 1s steps(1) infinite;\n",
              "  }\n",
              "\n",
              "  @keyframes spin {\n",
              "    0% {\n",
              "      border-color: transparent;\n",
              "      border-bottom-color: var(--fill-color);\n",
              "      border-left-color: var(--fill-color);\n",
              "    }\n",
              "    20% {\n",
              "      border-color: transparent;\n",
              "      border-left-color: var(--fill-color);\n",
              "      border-top-color: var(--fill-color);\n",
              "    }\n",
              "    30% {\n",
              "      border-color: transparent;\n",
              "      border-left-color: var(--fill-color);\n",
              "      border-top-color: var(--fill-color);\n",
              "      border-right-color: var(--fill-color);\n",
              "    }\n",
              "    40% {\n",
              "      border-color: transparent;\n",
              "      border-right-color: var(--fill-color);\n",
              "      border-top-color: var(--fill-color);\n",
              "    }\n",
              "    60% {\n",
              "      border-color: transparent;\n",
              "      border-right-color: var(--fill-color);\n",
              "    }\n",
              "    80% {\n",
              "      border-color: transparent;\n",
              "      border-right-color: var(--fill-color);\n",
              "      border-bottom-color: var(--fill-color);\n",
              "    }\n",
              "    90% {\n",
              "      border-color: transparent;\n",
              "      border-bottom-color: var(--fill-color);\n",
              "    }\n",
              "  }\n",
              "</style>\n",
              "\n",
              "  <script>\n",
              "    async function quickchart(key) {\n",
              "      const quickchartButtonEl =\n",
              "        document.querySelector('#' + key + ' button');\n",
              "      quickchartButtonEl.disabled = true;  // To prevent multiple clicks.\n",
              "      quickchartButtonEl.classList.add('colab-df-spinner');\n",
              "      try {\n",
              "        const charts = await google.colab.kernel.invokeFunction(\n",
              "            'suggestCharts', [key], {});\n",
              "      } catch (error) {\n",
              "        console.error('Error during call to suggestCharts:', error);\n",
              "      }\n",
              "      quickchartButtonEl.classList.remove('colab-df-spinner');\n",
              "      quickchartButtonEl.classList.add('colab-df-quickchart-complete');\n",
              "    }\n",
              "    (() => {\n",
              "      let quickchartButtonEl =\n",
              "        document.querySelector('#df-480e2e2e-3ae2-4899-9ad4-4375b2b1ff31 button');\n",
              "      quickchartButtonEl.style.display =\n",
              "        google.colab.kernel.accessAllowed ? 'block' : 'none';\n",
              "    })();\n",
              "  </script>\n",
              "</div>\n",
              "\n",
              "    </div>\n",
              "  </div>\n"
            ]
          },
          "metadata": {},
          "execution_count": 2
        }
      ]
    },
    {
      "cell_type": "code",
      "source": [
        "Rgt_empt = \"https://raw.githubusercontent.com/Tom-Jung/legendary-funicular/main/Regional_IO_3sector_3rg_emp.csv\"  # 3부문, 3지역의 취업자수\n",
        "Rgt_emp_3 = pd.read_csv(Rgt_empt)\n",
        "Rgt_emp_3.head()"
      ],
      "metadata": {
        "id": "FCwTNqjXHPK5",
        "outputId": "03d069c1-0fab-4338-d044-5da403a8a9c1",
        "colab": {
          "base_uri": "https://localhost:8080/",
          "height": 143
        }
      },
      "execution_count": 3,
      "outputs": [
        {
          "output_type": "execute_result",
          "data": {
            "text/plain": [
              "         cd 수도권        동부권        서부권\n",
              "농산품    135543.0   485642.0   606337.0\n",
              "공산품   1818636.0  1444100.0   834780.0\n",
              "서비스  10302991.0  4744657.0  3749541.0"
            ],
            "text/html": [
              "\n",
              "  <div id=\"df-c605cde2-c323-4bb2-8098-9544f069eead\" class=\"colab-df-container\">\n",
              "    <div>\n",
              "<style scoped>\n",
              "    .dataframe tbody tr th:only-of-type {\n",
              "        vertical-align: middle;\n",
              "    }\n",
              "\n",
              "    .dataframe tbody tr th {\n",
              "        vertical-align: top;\n",
              "    }\n",
              "\n",
              "    .dataframe thead th {\n",
              "        text-align: right;\n",
              "    }\n",
              "</style>\n",
              "<table border=\"1\" class=\"dataframe\">\n",
              "  <thead>\n",
              "    <tr style=\"text-align: right;\">\n",
              "      <th></th>\n",
              "      <th>cd 수도권</th>\n",
              "      <th>동부권</th>\n",
              "      <th>서부권</th>\n",
              "    </tr>\n",
              "  </thead>\n",
              "  <tbody>\n",
              "    <tr>\n",
              "      <th>농산품</th>\n",
              "      <td>135543.0</td>\n",
              "      <td>485642.0</td>\n",
              "      <td>606337.0</td>\n",
              "    </tr>\n",
              "    <tr>\n",
              "      <th>공산품</th>\n",
              "      <td>1818636.0</td>\n",
              "      <td>1444100.0</td>\n",
              "      <td>834780.0</td>\n",
              "    </tr>\n",
              "    <tr>\n",
              "      <th>서비스</th>\n",
              "      <td>10302991.0</td>\n",
              "      <td>4744657.0</td>\n",
              "      <td>3749541.0</td>\n",
              "    </tr>\n",
              "  </tbody>\n",
              "</table>\n",
              "</div>\n",
              "    <div class=\"colab-df-buttons\">\n",
              "\n",
              "  <div class=\"colab-df-container\">\n",
              "    <button class=\"colab-df-convert\" onclick=\"convertToInteractive('df-c605cde2-c323-4bb2-8098-9544f069eead')\"\n",
              "            title=\"Convert this dataframe to an interactive table.\"\n",
              "            style=\"display:none;\">\n",
              "\n",
              "  <svg xmlns=\"http://www.w3.org/2000/svg\" height=\"24px\" viewBox=\"0 -960 960 960\">\n",
              "    <path d=\"M120-120v-720h720v720H120Zm60-500h600v-160H180v160Zm220 220h160v-160H400v160Zm0 220h160v-160H400v160ZM180-400h160v-160H180v160Zm440 0h160v-160H620v160ZM180-180h160v-160H180v160Zm440 0h160v-160H620v160Z\"/>\n",
              "  </svg>\n",
              "    </button>\n",
              "\n",
              "  <style>\n",
              "    .colab-df-container {\n",
              "      display:flex;\n",
              "      gap: 12px;\n",
              "    }\n",
              "\n",
              "    .colab-df-convert {\n",
              "      background-color: #E8F0FE;\n",
              "      border: none;\n",
              "      border-radius: 50%;\n",
              "      cursor: pointer;\n",
              "      display: none;\n",
              "      fill: #1967D2;\n",
              "      height: 32px;\n",
              "      padding: 0 0 0 0;\n",
              "      width: 32px;\n",
              "    }\n",
              "\n",
              "    .colab-df-convert:hover {\n",
              "      background-color: #E2EBFA;\n",
              "      box-shadow: 0px 1px 2px rgba(60, 64, 67, 0.3), 0px 1px 3px 1px rgba(60, 64, 67, 0.15);\n",
              "      fill: #174EA6;\n",
              "    }\n",
              "\n",
              "    .colab-df-buttons div {\n",
              "      margin-bottom: 4px;\n",
              "    }\n",
              "\n",
              "    [theme=dark] .colab-df-convert {\n",
              "      background-color: #3B4455;\n",
              "      fill: #D2E3FC;\n",
              "    }\n",
              "\n",
              "    [theme=dark] .colab-df-convert:hover {\n",
              "      background-color: #434B5C;\n",
              "      box-shadow: 0px 1px 3px 1px rgba(0, 0, 0, 0.15);\n",
              "      filter: drop-shadow(0px 1px 2px rgba(0, 0, 0, 0.3));\n",
              "      fill: #FFFFFF;\n",
              "    }\n",
              "  </style>\n",
              "\n",
              "    <script>\n",
              "      const buttonEl =\n",
              "        document.querySelector('#df-c605cde2-c323-4bb2-8098-9544f069eead button.colab-df-convert');\n",
              "      buttonEl.style.display =\n",
              "        google.colab.kernel.accessAllowed ? 'block' : 'none';\n",
              "\n",
              "      async function convertToInteractive(key) {\n",
              "        const element = document.querySelector('#df-c605cde2-c323-4bb2-8098-9544f069eead');\n",
              "        const dataTable =\n",
              "          await google.colab.kernel.invokeFunction('convertToInteractive',\n",
              "                                                    [key], {});\n",
              "        if (!dataTable) return;\n",
              "\n",
              "        const docLinkHtml = 'Like what you see? Visit the ' +\n",
              "          '<a target=\"_blank\" href=https://colab.research.google.com/notebooks/data_table.ipynb>data table notebook</a>'\n",
              "          + ' to learn more about interactive tables.';\n",
              "        element.innerHTML = '';\n",
              "        dataTable['output_type'] = 'display_data';\n",
              "        await google.colab.output.renderOutput(dataTable, element);\n",
              "        const docLink = document.createElement('div');\n",
              "        docLink.innerHTML = docLinkHtml;\n",
              "        element.appendChild(docLink);\n",
              "      }\n",
              "    </script>\n",
              "  </div>\n",
              "\n",
              "\n",
              "<div id=\"df-15910e2e-bd1b-4fcb-952a-04e88cfa6188\">\n",
              "  <button class=\"colab-df-quickchart\" onclick=\"quickchart('df-15910e2e-bd1b-4fcb-952a-04e88cfa6188')\"\n",
              "            title=\"Suggest charts\"\n",
              "            style=\"display:none;\">\n",
              "\n",
              "<svg xmlns=\"http://www.w3.org/2000/svg\" height=\"24px\"viewBox=\"0 0 24 24\"\n",
              "     width=\"24px\">\n",
              "    <g>\n",
              "        <path d=\"M19 3H5c-1.1 0-2 .9-2 2v14c0 1.1.9 2 2 2h14c1.1 0 2-.9 2-2V5c0-1.1-.9-2-2-2zM9 17H7v-7h2v7zm4 0h-2V7h2v10zm4 0h-2v-4h2v4z\"/>\n",
              "    </g>\n",
              "</svg>\n",
              "  </button>\n",
              "\n",
              "<style>\n",
              "  .colab-df-quickchart {\n",
              "      --bg-color: #E8F0FE;\n",
              "      --fill-color: #1967D2;\n",
              "      --hover-bg-color: #E2EBFA;\n",
              "      --hover-fill-color: #174EA6;\n",
              "      --disabled-fill-color: #AAA;\n",
              "      --disabled-bg-color: #DDD;\n",
              "  }\n",
              "\n",
              "  [theme=dark] .colab-df-quickchart {\n",
              "      --bg-color: #3B4455;\n",
              "      --fill-color: #D2E3FC;\n",
              "      --hover-bg-color: #434B5C;\n",
              "      --hover-fill-color: #FFFFFF;\n",
              "      --disabled-bg-color: #3B4455;\n",
              "      --disabled-fill-color: #666;\n",
              "  }\n",
              "\n",
              "  .colab-df-quickchart {\n",
              "    background-color: var(--bg-color);\n",
              "    border: none;\n",
              "    border-radius: 50%;\n",
              "    cursor: pointer;\n",
              "    display: none;\n",
              "    fill: var(--fill-color);\n",
              "    height: 32px;\n",
              "    padding: 0;\n",
              "    width: 32px;\n",
              "  }\n",
              "\n",
              "  .colab-df-quickchart:hover {\n",
              "    background-color: var(--hover-bg-color);\n",
              "    box-shadow: 0 1px 2px rgba(60, 64, 67, 0.3), 0 1px 3px 1px rgba(60, 64, 67, 0.15);\n",
              "    fill: var(--button-hover-fill-color);\n",
              "  }\n",
              "\n",
              "  .colab-df-quickchart-complete:disabled,\n",
              "  .colab-df-quickchart-complete:disabled:hover {\n",
              "    background-color: var(--disabled-bg-color);\n",
              "    fill: var(--disabled-fill-color);\n",
              "    box-shadow: none;\n",
              "  }\n",
              "\n",
              "  .colab-df-spinner {\n",
              "    border: 2px solid var(--fill-color);\n",
              "    border-color: transparent;\n",
              "    border-bottom-color: var(--fill-color);\n",
              "    animation:\n",
              "      spin 1s steps(1) infinite;\n",
              "  }\n",
              "\n",
              "  @keyframes spin {\n",
              "    0% {\n",
              "      border-color: transparent;\n",
              "      border-bottom-color: var(--fill-color);\n",
              "      border-left-color: var(--fill-color);\n",
              "    }\n",
              "    20% {\n",
              "      border-color: transparent;\n",
              "      border-left-color: var(--fill-color);\n",
              "      border-top-color: var(--fill-color);\n",
              "    }\n",
              "    30% {\n",
              "      border-color: transparent;\n",
              "      border-left-color: var(--fill-color);\n",
              "      border-top-color: var(--fill-color);\n",
              "      border-right-color: var(--fill-color);\n",
              "    }\n",
              "    40% {\n",
              "      border-color: transparent;\n",
              "      border-right-color: var(--fill-color);\n",
              "      border-top-color: var(--fill-color);\n",
              "    }\n",
              "    60% {\n",
              "      border-color: transparent;\n",
              "      border-right-color: var(--fill-color);\n",
              "    }\n",
              "    80% {\n",
              "      border-color: transparent;\n",
              "      border-right-color: var(--fill-color);\n",
              "      border-bottom-color: var(--fill-color);\n",
              "    }\n",
              "    90% {\n",
              "      border-color: transparent;\n",
              "      border-bottom-color: var(--fill-color);\n",
              "    }\n",
              "  }\n",
              "</style>\n",
              "\n",
              "  <script>\n",
              "    async function quickchart(key) {\n",
              "      const quickchartButtonEl =\n",
              "        document.querySelector('#' + key + ' button');\n",
              "      quickchartButtonEl.disabled = true;  // To prevent multiple clicks.\n",
              "      quickchartButtonEl.classList.add('colab-df-spinner');\n",
              "      try {\n",
              "        const charts = await google.colab.kernel.invokeFunction(\n",
              "            'suggestCharts', [key], {});\n",
              "      } catch (error) {\n",
              "        console.error('Error during call to suggestCharts:', error);\n",
              "      }\n",
              "      quickchartButtonEl.classList.remove('colab-df-spinner');\n",
              "      quickchartButtonEl.classList.add('colab-df-quickchart-complete');\n",
              "    }\n",
              "    (() => {\n",
              "      let quickchartButtonEl =\n",
              "        document.querySelector('#df-15910e2e-bd1b-4fcb-952a-04e88cfa6188 button');\n",
              "      quickchartButtonEl.style.display =\n",
              "        google.colab.kernel.accessAllowed ? 'block' : 'none';\n",
              "    })();\n",
              "  </script>\n",
              "</div>\n",
              "\n",
              "    </div>\n",
              "  </div>\n"
            ]
          },
          "metadata": {},
          "execution_count": 3
        }
      ]
    },
    {
      "cell_type": "markdown",
      "source": [
        "## 지역, 산업구조 분석"
      ],
      "metadata": {
        "id": "N45bkFE96GzI"
      }
    },
    {
      "cell_type": "code",
      "source": [
        "Rgt_33 = Rgt_3.to_numpy()\n",
        "Mt = Rgt_33[1:,2:].astype(float)\n",
        "# Mt_rsv = Mt"
      ],
      "metadata": {
        "id": "lgZdmFj5ZQ2P"
      },
      "execution_count": 4,
      "outputs": []
    },
    {
      "cell_type": "code",
      "source": [
        "Va = Mt[-2,:10].reshape([1,10]) # 산업별 부가가치\n",
        "Ct = Mt[-1,:10].reshape([1,10])  # 산업별 산출액\n",
        "Ct"
      ],
      "metadata": {
        "id": "ct-TgHVXrlZj",
        "outputId": "032f708c-6482-4da9-e7e2-05c72f8f6029",
        "colab": {
          "base_uri": "https://localhost:8080/"
        }
      },
      "execution_count": 5,
      "outputs": [
        {
          "output_type": "execute_result",
          "data": {
            "text/plain": [
              "array([[   6.,  582., 1204.,   23.,  638.,  479.,   29.,  491.,  379.,\n",
              "        3831.]])"
            ]
          },
          "metadata": {},
          "execution_count": 5
        }
      ]
    },
    {
      "cell_type": "code",
      "source": [
        "# 지역기준\n",
        "Sudo = np.vstack((Va[:,:3].sum(),Ct[:,:3].sum())).round(1)      # 수도권\n",
        "Dongbu = np.vstack((Va[:,3:6].sum(),Ct[:,3:6].sum())).round(1)  # 동부권\n",
        "Seobu = np.vstack((Va[:,6:9].sum(),Ct[:,6:9].sum())).round(1)   # 서부권\n",
        "\n",
        "Sm_vact = np.vstack((Va[:,9],Ct[:,9]))\n",
        "Vact_all = np.hstack((Sudo, Dongbu, Seobu, Sm_vact))\n",
        "\n",
        "Va_sm = np.hstack((Sudo, Dongbu, Seobu))\n",
        "Ctva_wgt = (Vact_all/Sm_vact)\n",
        "Str_rg = np.vstack((Vact_all,Ctva_wgt))\n",
        "Str_rg.round(1)"
      ],
      "metadata": {
        "id": "kmVCLDn0rleg",
        "outputId": "a3fb4125-a1fe-468b-9f76-59cb8f856293",
        "colab": {
          "base_uri": "https://localhost:8080/"
        }
      },
      "execution_count": 6,
      "outputs": [
        {
          "output_type": "execute_result",
          "data": {
            "text/plain": [
              "array([[8.310e+02, 4.470e+02, 3.590e+02, 1.637e+03],\n",
              "       [1.792e+03, 1.140e+03, 8.990e+02, 3.831e+03],\n",
              "       [5.000e-01, 3.000e-01, 2.000e-01, 1.000e+00],\n",
              "       [5.000e-01, 3.000e-01, 2.000e-01, 1.000e+00]])"
            ]
          },
          "metadata": {},
          "execution_count": 6
        }
      ]
    },
    {
      "cell_type": "code",
      "source": [
        "VACT_by_RG = pd.DataFrame(Str_rg, columns = ['수도권', '동부권', '서부권','합계'],\n",
        "                     index=['부가가치', '산출액', '부가가치비중', '산출액비중']) # 변수명 붙여서 pandas로 내보내기\n",
        "VACT_by_RG"
      ],
      "metadata": {
        "id": "FAm4jifsH4ZI",
        "outputId": "71611b1c-efc7-47f6-e5eb-752c453b5e98",
        "colab": {
          "base_uri": "https://localhost:8080/",
          "height": 175
        }
      },
      "execution_count": 7,
      "outputs": [
        {
          "output_type": "execute_result",
          "data": {
            "text/plain": [
              "                수도권          동부권         서부권      합계\n",
              "부가가치     831.000000   447.000000  359.000000  1637.0\n",
              "산출액     1792.000000  1140.000000  899.000000  3831.0\n",
              "부가가치비중     0.507636     0.273060    0.219304     1.0\n",
              "산출액비중      0.467763     0.297572    0.234665     1.0"
            ],
            "text/html": [
              "\n",
              "  <div id=\"df-53ead345-1b9d-42c4-b7f6-435c4d142991\" class=\"colab-df-container\">\n",
              "    <div>\n",
              "<style scoped>\n",
              "    .dataframe tbody tr th:only-of-type {\n",
              "        vertical-align: middle;\n",
              "    }\n",
              "\n",
              "    .dataframe tbody tr th {\n",
              "        vertical-align: top;\n",
              "    }\n",
              "\n",
              "    .dataframe thead th {\n",
              "        text-align: right;\n",
              "    }\n",
              "</style>\n",
              "<table border=\"1\" class=\"dataframe\">\n",
              "  <thead>\n",
              "    <tr style=\"text-align: right;\">\n",
              "      <th></th>\n",
              "      <th>수도권</th>\n",
              "      <th>동부권</th>\n",
              "      <th>서부권</th>\n",
              "      <th>합계</th>\n",
              "    </tr>\n",
              "  </thead>\n",
              "  <tbody>\n",
              "    <tr>\n",
              "      <th>부가가치</th>\n",
              "      <td>831.000000</td>\n",
              "      <td>447.000000</td>\n",
              "      <td>359.000000</td>\n",
              "      <td>1637.0</td>\n",
              "    </tr>\n",
              "    <tr>\n",
              "      <th>산출액</th>\n",
              "      <td>1792.000000</td>\n",
              "      <td>1140.000000</td>\n",
              "      <td>899.000000</td>\n",
              "      <td>3831.0</td>\n",
              "    </tr>\n",
              "    <tr>\n",
              "      <th>부가가치비중</th>\n",
              "      <td>0.507636</td>\n",
              "      <td>0.273060</td>\n",
              "      <td>0.219304</td>\n",
              "      <td>1.0</td>\n",
              "    </tr>\n",
              "    <tr>\n",
              "      <th>산출액비중</th>\n",
              "      <td>0.467763</td>\n",
              "      <td>0.297572</td>\n",
              "      <td>0.234665</td>\n",
              "      <td>1.0</td>\n",
              "    </tr>\n",
              "  </tbody>\n",
              "</table>\n",
              "</div>\n",
              "    <div class=\"colab-df-buttons\">\n",
              "\n",
              "  <div class=\"colab-df-container\">\n",
              "    <button class=\"colab-df-convert\" onclick=\"convertToInteractive('df-53ead345-1b9d-42c4-b7f6-435c4d142991')\"\n",
              "            title=\"Convert this dataframe to an interactive table.\"\n",
              "            style=\"display:none;\">\n",
              "\n",
              "  <svg xmlns=\"http://www.w3.org/2000/svg\" height=\"24px\" viewBox=\"0 -960 960 960\">\n",
              "    <path d=\"M120-120v-720h720v720H120Zm60-500h600v-160H180v160Zm220 220h160v-160H400v160Zm0 220h160v-160H400v160ZM180-400h160v-160H180v160Zm440 0h160v-160H620v160ZM180-180h160v-160H180v160Zm440 0h160v-160H620v160Z\"/>\n",
              "  </svg>\n",
              "    </button>\n",
              "\n",
              "  <style>\n",
              "    .colab-df-container {\n",
              "      display:flex;\n",
              "      gap: 12px;\n",
              "    }\n",
              "\n",
              "    .colab-df-convert {\n",
              "      background-color: #E8F0FE;\n",
              "      border: none;\n",
              "      border-radius: 50%;\n",
              "      cursor: pointer;\n",
              "      display: none;\n",
              "      fill: #1967D2;\n",
              "      height: 32px;\n",
              "      padding: 0 0 0 0;\n",
              "      width: 32px;\n",
              "    }\n",
              "\n",
              "    .colab-df-convert:hover {\n",
              "      background-color: #E2EBFA;\n",
              "      box-shadow: 0px 1px 2px rgba(60, 64, 67, 0.3), 0px 1px 3px 1px rgba(60, 64, 67, 0.15);\n",
              "      fill: #174EA6;\n",
              "    }\n",
              "\n",
              "    .colab-df-buttons div {\n",
              "      margin-bottom: 4px;\n",
              "    }\n",
              "\n",
              "    [theme=dark] .colab-df-convert {\n",
              "      background-color: #3B4455;\n",
              "      fill: #D2E3FC;\n",
              "    }\n",
              "\n",
              "    [theme=dark] .colab-df-convert:hover {\n",
              "      background-color: #434B5C;\n",
              "      box-shadow: 0px 1px 3px 1px rgba(0, 0, 0, 0.15);\n",
              "      filter: drop-shadow(0px 1px 2px rgba(0, 0, 0, 0.3));\n",
              "      fill: #FFFFFF;\n",
              "    }\n",
              "  </style>\n",
              "\n",
              "    <script>\n",
              "      const buttonEl =\n",
              "        document.querySelector('#df-53ead345-1b9d-42c4-b7f6-435c4d142991 button.colab-df-convert');\n",
              "      buttonEl.style.display =\n",
              "        google.colab.kernel.accessAllowed ? 'block' : 'none';\n",
              "\n",
              "      async function convertToInteractive(key) {\n",
              "        const element = document.querySelector('#df-53ead345-1b9d-42c4-b7f6-435c4d142991');\n",
              "        const dataTable =\n",
              "          await google.colab.kernel.invokeFunction('convertToInteractive',\n",
              "                                                    [key], {});\n",
              "        if (!dataTable) return;\n",
              "\n",
              "        const docLinkHtml = 'Like what you see? Visit the ' +\n",
              "          '<a target=\"_blank\" href=https://colab.research.google.com/notebooks/data_table.ipynb>data table notebook</a>'\n",
              "          + ' to learn more about interactive tables.';\n",
              "        element.innerHTML = '';\n",
              "        dataTable['output_type'] = 'display_data';\n",
              "        await google.colab.output.renderOutput(dataTable, element);\n",
              "        const docLink = document.createElement('div');\n",
              "        docLink.innerHTML = docLinkHtml;\n",
              "        element.appendChild(docLink);\n",
              "      }\n",
              "    </script>\n",
              "  </div>\n",
              "\n",
              "\n",
              "<div id=\"df-3f1efbbf-bd36-4417-a687-8d9433eea645\">\n",
              "  <button class=\"colab-df-quickchart\" onclick=\"quickchart('df-3f1efbbf-bd36-4417-a687-8d9433eea645')\"\n",
              "            title=\"Suggest charts\"\n",
              "            style=\"display:none;\">\n",
              "\n",
              "<svg xmlns=\"http://www.w3.org/2000/svg\" height=\"24px\"viewBox=\"0 0 24 24\"\n",
              "     width=\"24px\">\n",
              "    <g>\n",
              "        <path d=\"M19 3H5c-1.1 0-2 .9-2 2v14c0 1.1.9 2 2 2h14c1.1 0 2-.9 2-2V5c0-1.1-.9-2-2-2zM9 17H7v-7h2v7zm4 0h-2V7h2v10zm4 0h-2v-4h2v4z\"/>\n",
              "    </g>\n",
              "</svg>\n",
              "  </button>\n",
              "\n",
              "<style>\n",
              "  .colab-df-quickchart {\n",
              "      --bg-color: #E8F0FE;\n",
              "      --fill-color: #1967D2;\n",
              "      --hover-bg-color: #E2EBFA;\n",
              "      --hover-fill-color: #174EA6;\n",
              "      --disabled-fill-color: #AAA;\n",
              "      --disabled-bg-color: #DDD;\n",
              "  }\n",
              "\n",
              "  [theme=dark] .colab-df-quickchart {\n",
              "      --bg-color: #3B4455;\n",
              "      --fill-color: #D2E3FC;\n",
              "      --hover-bg-color: #434B5C;\n",
              "      --hover-fill-color: #FFFFFF;\n",
              "      --disabled-bg-color: #3B4455;\n",
              "      --disabled-fill-color: #666;\n",
              "  }\n",
              "\n",
              "  .colab-df-quickchart {\n",
              "    background-color: var(--bg-color);\n",
              "    border: none;\n",
              "    border-radius: 50%;\n",
              "    cursor: pointer;\n",
              "    display: none;\n",
              "    fill: var(--fill-color);\n",
              "    height: 32px;\n",
              "    padding: 0;\n",
              "    width: 32px;\n",
              "  }\n",
              "\n",
              "  .colab-df-quickchart:hover {\n",
              "    background-color: var(--hover-bg-color);\n",
              "    box-shadow: 0 1px 2px rgba(60, 64, 67, 0.3), 0 1px 3px 1px rgba(60, 64, 67, 0.15);\n",
              "    fill: var(--button-hover-fill-color);\n",
              "  }\n",
              "\n",
              "  .colab-df-quickchart-complete:disabled,\n",
              "  .colab-df-quickchart-complete:disabled:hover {\n",
              "    background-color: var(--disabled-bg-color);\n",
              "    fill: var(--disabled-fill-color);\n",
              "    box-shadow: none;\n",
              "  }\n",
              "\n",
              "  .colab-df-spinner {\n",
              "    border: 2px solid var(--fill-color);\n",
              "    border-color: transparent;\n",
              "    border-bottom-color: var(--fill-color);\n",
              "    animation:\n",
              "      spin 1s steps(1) infinite;\n",
              "  }\n",
              "\n",
              "  @keyframes spin {\n",
              "    0% {\n",
              "      border-color: transparent;\n",
              "      border-bottom-color: var(--fill-color);\n",
              "      border-left-color: var(--fill-color);\n",
              "    }\n",
              "    20% {\n",
              "      border-color: transparent;\n",
              "      border-left-color: var(--fill-color);\n",
              "      border-top-color: var(--fill-color);\n",
              "    }\n",
              "    30% {\n",
              "      border-color: transparent;\n",
              "      border-left-color: var(--fill-color);\n",
              "      border-top-color: var(--fill-color);\n",
              "      border-right-color: var(--fill-color);\n",
              "    }\n",
              "    40% {\n",
              "      border-color: transparent;\n",
              "      border-right-color: var(--fill-color);\n",
              "      border-top-color: var(--fill-color);\n",
              "    }\n",
              "    60% {\n",
              "      border-color: transparent;\n",
              "      border-right-color: var(--fill-color);\n",
              "    }\n",
              "    80% {\n",
              "      border-color: transparent;\n",
              "      border-right-color: var(--fill-color);\n",
              "      border-bottom-color: var(--fill-color);\n",
              "    }\n",
              "    90% {\n",
              "      border-color: transparent;\n",
              "      border-bottom-color: var(--fill-color);\n",
              "    }\n",
              "  }\n",
              "</style>\n",
              "\n",
              "  <script>\n",
              "    async function quickchart(key) {\n",
              "      const quickchartButtonEl =\n",
              "        document.querySelector('#' + key + ' button');\n",
              "      quickchartButtonEl.disabled = true;  // To prevent multiple clicks.\n",
              "      quickchartButtonEl.classList.add('colab-df-spinner');\n",
              "      try {\n",
              "        const charts = await google.colab.kernel.invokeFunction(\n",
              "            'suggestCharts', [key], {});\n",
              "      } catch (error) {\n",
              "        console.error('Error during call to suggestCharts:', error);\n",
              "      }\n",
              "      quickchartButtonEl.classList.remove('colab-df-spinner');\n",
              "      quickchartButtonEl.classList.add('colab-df-quickchart-complete');\n",
              "    }\n",
              "    (() => {\n",
              "      let quickchartButtonEl =\n",
              "        document.querySelector('#df-3f1efbbf-bd36-4417-a687-8d9433eea645 button');\n",
              "      quickchartButtonEl.style.display =\n",
              "        google.colab.kernel.accessAllowed ? 'block' : 'none';\n",
              "    })();\n",
              "  </script>\n",
              "</div>\n",
              "\n",
              "  <div id=\"id_19b1b707-84b0-483b-bdd1-ba0fe61fb50c\">\n",
              "    <style>\n",
              "      .colab-df-generate {\n",
              "        background-color: #E8F0FE;\n",
              "        border: none;\n",
              "        border-radius: 50%;\n",
              "        cursor: pointer;\n",
              "        display: none;\n",
              "        fill: #1967D2;\n",
              "        height: 32px;\n",
              "        padding: 0 0 0 0;\n",
              "        width: 32px;\n",
              "      }\n",
              "\n",
              "      .colab-df-generate:hover {\n",
              "        background-color: #E2EBFA;\n",
              "        box-shadow: 0px 1px 2px rgba(60, 64, 67, 0.3), 0px 1px 3px 1px rgba(60, 64, 67, 0.15);\n",
              "        fill: #174EA6;\n",
              "      }\n",
              "\n",
              "      [theme=dark] .colab-df-generate {\n",
              "        background-color: #3B4455;\n",
              "        fill: #D2E3FC;\n",
              "      }\n",
              "\n",
              "      [theme=dark] .colab-df-generate:hover {\n",
              "        background-color: #434B5C;\n",
              "        box-shadow: 0px 1px 3px 1px rgba(0, 0, 0, 0.15);\n",
              "        filter: drop-shadow(0px 1px 2px rgba(0, 0, 0, 0.3));\n",
              "        fill: #FFFFFF;\n",
              "      }\n",
              "    </style>\n",
              "    <button class=\"colab-df-generate\" onclick=\"generateWithVariable('VACT_by_RG')\"\n",
              "            title=\"Generate code using this dataframe.\"\n",
              "            style=\"display:none;\">\n",
              "\n",
              "  <svg xmlns=\"http://www.w3.org/2000/svg\" height=\"24px\"viewBox=\"0 0 24 24\"\n",
              "       width=\"24px\">\n",
              "    <path d=\"M7,19H8.4L18.45,9,17,7.55,7,17.6ZM5,21V16.75L18.45,3.32a2,2,0,0,1,2.83,0l1.4,1.43a1.91,1.91,0,0,1,.58,1.4,1.91,1.91,0,0,1-.58,1.4L9.25,21ZM18.45,9,17,7.55Zm-12,3A5.31,5.31,0,0,0,4.9,8.1,5.31,5.31,0,0,0,1,6.5,5.31,5.31,0,0,0,4.9,4.9,5.31,5.31,0,0,0,6.5,1,5.31,5.31,0,0,0,8.1,4.9,5.31,5.31,0,0,0,12,6.5,5.46,5.46,0,0,0,6.5,12Z\"/>\n",
              "  </svg>\n",
              "    </button>\n",
              "    <script>\n",
              "      (() => {\n",
              "      const buttonEl =\n",
              "        document.querySelector('#id_19b1b707-84b0-483b-bdd1-ba0fe61fb50c button.colab-df-generate');\n",
              "      buttonEl.style.display =\n",
              "        google.colab.kernel.accessAllowed ? 'block' : 'none';\n",
              "\n",
              "      buttonEl.onclick = () => {\n",
              "        google.colab.notebook.generateWithVariable('VACT_by_RG');\n",
              "      }\n",
              "      })();\n",
              "    </script>\n",
              "  </div>\n",
              "\n",
              "    </div>\n",
              "  </div>\n"
            ]
          },
          "metadata": {},
          "execution_count": 7
        }
      ]
    },
    {
      "cell_type": "code",
      "source": [
        "# csv 파일로 내보내기\n",
        "VACT_by_RG.to_csv('산출액_부가가치_지역별_비중.csv', encoding='utf_8-sig')"
      ],
      "metadata": {
        "id": "1vm1Xv8drlkJ"
      },
      "execution_count": 8,
      "outputs": []
    },
    {
      "cell_type": "markdown",
      "source": [
        "### 지역별 산업별 구성"
      ],
      "metadata": {
        "id": "FEnNSi33PSwM"
      }
    },
    {
      "cell_type": "code",
      "source": [
        "# 산출액\n",
        "Sudo_ind_by_ct = (Mt[-1,:3]/Str_rg[1,0]*100) # 수도권 산업별 비중\n",
        "Dongbu_ind_by_ct = (Mt[-1,3:6]/Str_rg[1,1]*100) # 동부권 산업별 비중\n",
        "Seobu_ind_by_ct = (Mt[-1,6:9]/Str_rg[1,2]*100) # 동부권 산업별 비중\n",
        "Tot_ind_by_ct =  ((Mt[-1,:3]+Mt[-1,3:6]+Mt[-1,6:9])/Str_rg[1,3]*100)  # 전국 산업별 비중\n",
        "\n",
        "Wgt_ind_by_region_ct = np.vstack((Sudo_ind_by_ct,Dongbu_ind_by_ct,Seobu_ind_by_ct, Tot_ind_by_ct))\n",
        "print(Wgt_ind_by_region_ct.round(1))\n"
      ],
      "metadata": {
        "id": "rvvcwS78PU9f",
        "outputId": "4134046f-5912-4340-e751-bd13a821e546",
        "colab": {
          "base_uri": "https://localhost:8080/"
        }
      },
      "execution_count": 9,
      "outputs": [
        {
          "output_type": "stream",
          "name": "stdout",
          "text": [
            "[[ 0.3 32.5 67.2]\n",
            " [ 2.  56.  42. ]\n",
            " [ 3.2 54.6 42.2]\n",
            " [ 1.5 44.7 53.8]]\n"
          ]
        }
      ]
    },
    {
      "cell_type": "code",
      "source": [
        "Mt[-1,:3]"
      ],
      "metadata": {
        "id": "ZCzIUE1SCupB",
        "outputId": "71c9ad5a-24ff-4be6-a4cf-99ac5ea5facd",
        "colab": {
          "base_uri": "https://localhost:8080/"
        }
      },
      "execution_count": 10,
      "outputs": [
        {
          "output_type": "execute_result",
          "data": {
            "text/plain": [
              "array([   6.,  582., 1204.])"
            ]
          },
          "metadata": {},
          "execution_count": 10
        }
      ]
    },
    {
      "cell_type": "code",
      "source": [
        "# 부가가치\n",
        "\n",
        "Sudo_ind_by_va = (Mt[-2,:3]/Str_rg[0,0]*100) # 수도권 산업별 비중\n",
        "Dongbu_ind_by_va = (Mt[-2,3:6]/Str_rg[0,1]*100) # 동부권 산업별 비중\n",
        "Seobu_ind_by_va = (Mt[-2,6:9]/Str_rg[0,2]*100) # 서부권 산업별 비중\n",
        "Tot_ind_by_va =  ((Mt[-2,:3]+Mt[-2,3:6]+Mt[-2,6:9])/Str_rg[0,3]*100)  # 전지역 산업별 비중\n",
        "\n",
        "Wgt_ind_by_region_va = np.vstack((Sudo_ind_by_va,Dongbu_ind_by_va,Seobu_ind_by_va,Tot_ind_by_va)) #  지역별 산업별 비중\n",
        "print(Wgt_ind_by_region_va.round(1))"
      ],
      "metadata": {
        "id": "yY_PbDWfPU_9",
        "outputId": "ade94920-53e6-4700-f1ce-89249595d069",
        "colab": {
          "base_uri": "https://localhost:8080/"
        }
      },
      "execution_count": 11,
      "outputs": [
        {
          "output_type": "stream",
          "name": "stdout",
          "text": [
            "[[ 0.4 21.5 78.1]\n",
            " [ 2.9 37.6 59.5]\n",
            " [ 4.5 38.2 57.4]\n",
            " [ 2.  29.6 68.5]]\n"
          ]
        }
      ]
    },
    {
      "cell_type": "code",
      "source": [
        "CT_Reg = pd.DataFrame(Wgt_ind_by_region_ct.round(1), columns = ['농산품', '공산품', '서비스'],\n",
        "                     index=['수도권', '동부권', '서부권','전지역']) # 변수명 붙여서 pandas로 내보내기\n",
        "CT_Reg"
      ],
      "metadata": {
        "id": "4hECIqhuPVCL",
        "outputId": "494188da-be15-4a17-ac01-85be5c10e581",
        "colab": {
          "base_uri": "https://localhost:8080/",
          "height": 175
        }
      },
      "execution_count": 12,
      "outputs": [
        {
          "output_type": "execute_result",
          "data": {
            "text/plain": [
              "     농산품   공산품   서비스\n",
              "수도권  0.3  32.5  67.2\n",
              "동부권  2.0  56.0  42.0\n",
              "서부권  3.2  54.6  42.2\n",
              "전지역  1.5  44.7  53.8"
            ],
            "text/html": [
              "\n",
              "  <div id=\"df-f6edf576-3385-4cf1-92e9-cf785b04470c\" class=\"colab-df-container\">\n",
              "    <div>\n",
              "<style scoped>\n",
              "    .dataframe tbody tr th:only-of-type {\n",
              "        vertical-align: middle;\n",
              "    }\n",
              "\n",
              "    .dataframe tbody tr th {\n",
              "        vertical-align: top;\n",
              "    }\n",
              "\n",
              "    .dataframe thead th {\n",
              "        text-align: right;\n",
              "    }\n",
              "</style>\n",
              "<table border=\"1\" class=\"dataframe\">\n",
              "  <thead>\n",
              "    <tr style=\"text-align: right;\">\n",
              "      <th></th>\n",
              "      <th>농산품</th>\n",
              "      <th>공산품</th>\n",
              "      <th>서비스</th>\n",
              "    </tr>\n",
              "  </thead>\n",
              "  <tbody>\n",
              "    <tr>\n",
              "      <th>수도권</th>\n",
              "      <td>0.3</td>\n",
              "      <td>32.5</td>\n",
              "      <td>67.2</td>\n",
              "    </tr>\n",
              "    <tr>\n",
              "      <th>동부권</th>\n",
              "      <td>2.0</td>\n",
              "      <td>56.0</td>\n",
              "      <td>42.0</td>\n",
              "    </tr>\n",
              "    <tr>\n",
              "      <th>서부권</th>\n",
              "      <td>3.2</td>\n",
              "      <td>54.6</td>\n",
              "      <td>42.2</td>\n",
              "    </tr>\n",
              "    <tr>\n",
              "      <th>전지역</th>\n",
              "      <td>1.5</td>\n",
              "      <td>44.7</td>\n",
              "      <td>53.8</td>\n",
              "    </tr>\n",
              "  </tbody>\n",
              "</table>\n",
              "</div>\n",
              "    <div class=\"colab-df-buttons\">\n",
              "\n",
              "  <div class=\"colab-df-container\">\n",
              "    <button class=\"colab-df-convert\" onclick=\"convertToInteractive('df-f6edf576-3385-4cf1-92e9-cf785b04470c')\"\n",
              "            title=\"Convert this dataframe to an interactive table.\"\n",
              "            style=\"display:none;\">\n",
              "\n",
              "  <svg xmlns=\"http://www.w3.org/2000/svg\" height=\"24px\" viewBox=\"0 -960 960 960\">\n",
              "    <path d=\"M120-120v-720h720v720H120Zm60-500h600v-160H180v160Zm220 220h160v-160H400v160Zm0 220h160v-160H400v160ZM180-400h160v-160H180v160Zm440 0h160v-160H620v160ZM180-180h160v-160H180v160Zm440 0h160v-160H620v160Z\"/>\n",
              "  </svg>\n",
              "    </button>\n",
              "\n",
              "  <style>\n",
              "    .colab-df-container {\n",
              "      display:flex;\n",
              "      gap: 12px;\n",
              "    }\n",
              "\n",
              "    .colab-df-convert {\n",
              "      background-color: #E8F0FE;\n",
              "      border: none;\n",
              "      border-radius: 50%;\n",
              "      cursor: pointer;\n",
              "      display: none;\n",
              "      fill: #1967D2;\n",
              "      height: 32px;\n",
              "      padding: 0 0 0 0;\n",
              "      width: 32px;\n",
              "    }\n",
              "\n",
              "    .colab-df-convert:hover {\n",
              "      background-color: #E2EBFA;\n",
              "      box-shadow: 0px 1px 2px rgba(60, 64, 67, 0.3), 0px 1px 3px 1px rgba(60, 64, 67, 0.15);\n",
              "      fill: #174EA6;\n",
              "    }\n",
              "\n",
              "    .colab-df-buttons div {\n",
              "      margin-bottom: 4px;\n",
              "    }\n",
              "\n",
              "    [theme=dark] .colab-df-convert {\n",
              "      background-color: #3B4455;\n",
              "      fill: #D2E3FC;\n",
              "    }\n",
              "\n",
              "    [theme=dark] .colab-df-convert:hover {\n",
              "      background-color: #434B5C;\n",
              "      box-shadow: 0px 1px 3px 1px rgba(0, 0, 0, 0.15);\n",
              "      filter: drop-shadow(0px 1px 2px rgba(0, 0, 0, 0.3));\n",
              "      fill: #FFFFFF;\n",
              "    }\n",
              "  </style>\n",
              "\n",
              "    <script>\n",
              "      const buttonEl =\n",
              "        document.querySelector('#df-f6edf576-3385-4cf1-92e9-cf785b04470c button.colab-df-convert');\n",
              "      buttonEl.style.display =\n",
              "        google.colab.kernel.accessAllowed ? 'block' : 'none';\n",
              "\n",
              "      async function convertToInteractive(key) {\n",
              "        const element = document.querySelector('#df-f6edf576-3385-4cf1-92e9-cf785b04470c');\n",
              "        const dataTable =\n",
              "          await google.colab.kernel.invokeFunction('convertToInteractive',\n",
              "                                                    [key], {});\n",
              "        if (!dataTable) return;\n",
              "\n",
              "        const docLinkHtml = 'Like what you see? Visit the ' +\n",
              "          '<a target=\"_blank\" href=https://colab.research.google.com/notebooks/data_table.ipynb>data table notebook</a>'\n",
              "          + ' to learn more about interactive tables.';\n",
              "        element.innerHTML = '';\n",
              "        dataTable['output_type'] = 'display_data';\n",
              "        await google.colab.output.renderOutput(dataTable, element);\n",
              "        const docLink = document.createElement('div');\n",
              "        docLink.innerHTML = docLinkHtml;\n",
              "        element.appendChild(docLink);\n",
              "      }\n",
              "    </script>\n",
              "  </div>\n",
              "\n",
              "\n",
              "<div id=\"df-75623c82-f032-4b89-9fad-f063855f9e83\">\n",
              "  <button class=\"colab-df-quickchart\" onclick=\"quickchart('df-75623c82-f032-4b89-9fad-f063855f9e83')\"\n",
              "            title=\"Suggest charts\"\n",
              "            style=\"display:none;\">\n",
              "\n",
              "<svg xmlns=\"http://www.w3.org/2000/svg\" height=\"24px\"viewBox=\"0 0 24 24\"\n",
              "     width=\"24px\">\n",
              "    <g>\n",
              "        <path d=\"M19 3H5c-1.1 0-2 .9-2 2v14c0 1.1.9 2 2 2h14c1.1 0 2-.9 2-2V5c0-1.1-.9-2-2-2zM9 17H7v-7h2v7zm4 0h-2V7h2v10zm4 0h-2v-4h2v4z\"/>\n",
              "    </g>\n",
              "</svg>\n",
              "  </button>\n",
              "\n",
              "<style>\n",
              "  .colab-df-quickchart {\n",
              "      --bg-color: #E8F0FE;\n",
              "      --fill-color: #1967D2;\n",
              "      --hover-bg-color: #E2EBFA;\n",
              "      --hover-fill-color: #174EA6;\n",
              "      --disabled-fill-color: #AAA;\n",
              "      --disabled-bg-color: #DDD;\n",
              "  }\n",
              "\n",
              "  [theme=dark] .colab-df-quickchart {\n",
              "      --bg-color: #3B4455;\n",
              "      --fill-color: #D2E3FC;\n",
              "      --hover-bg-color: #434B5C;\n",
              "      --hover-fill-color: #FFFFFF;\n",
              "      --disabled-bg-color: #3B4455;\n",
              "      --disabled-fill-color: #666;\n",
              "  }\n",
              "\n",
              "  .colab-df-quickchart {\n",
              "    background-color: var(--bg-color);\n",
              "    border: none;\n",
              "    border-radius: 50%;\n",
              "    cursor: pointer;\n",
              "    display: none;\n",
              "    fill: var(--fill-color);\n",
              "    height: 32px;\n",
              "    padding: 0;\n",
              "    width: 32px;\n",
              "  }\n",
              "\n",
              "  .colab-df-quickchart:hover {\n",
              "    background-color: var(--hover-bg-color);\n",
              "    box-shadow: 0 1px 2px rgba(60, 64, 67, 0.3), 0 1px 3px 1px rgba(60, 64, 67, 0.15);\n",
              "    fill: var(--button-hover-fill-color);\n",
              "  }\n",
              "\n",
              "  .colab-df-quickchart-complete:disabled,\n",
              "  .colab-df-quickchart-complete:disabled:hover {\n",
              "    background-color: var(--disabled-bg-color);\n",
              "    fill: var(--disabled-fill-color);\n",
              "    box-shadow: none;\n",
              "  }\n",
              "\n",
              "  .colab-df-spinner {\n",
              "    border: 2px solid var(--fill-color);\n",
              "    border-color: transparent;\n",
              "    border-bottom-color: var(--fill-color);\n",
              "    animation:\n",
              "      spin 1s steps(1) infinite;\n",
              "  }\n",
              "\n",
              "  @keyframes spin {\n",
              "    0% {\n",
              "      border-color: transparent;\n",
              "      border-bottom-color: var(--fill-color);\n",
              "      border-left-color: var(--fill-color);\n",
              "    }\n",
              "    20% {\n",
              "      border-color: transparent;\n",
              "      border-left-color: var(--fill-color);\n",
              "      border-top-color: var(--fill-color);\n",
              "    }\n",
              "    30% {\n",
              "      border-color: transparent;\n",
              "      border-left-color: var(--fill-color);\n",
              "      border-top-color: var(--fill-color);\n",
              "      border-right-color: var(--fill-color);\n",
              "    }\n",
              "    40% {\n",
              "      border-color: transparent;\n",
              "      border-right-color: var(--fill-color);\n",
              "      border-top-color: var(--fill-color);\n",
              "    }\n",
              "    60% {\n",
              "      border-color: transparent;\n",
              "      border-right-color: var(--fill-color);\n",
              "    }\n",
              "    80% {\n",
              "      border-color: transparent;\n",
              "      border-right-color: var(--fill-color);\n",
              "      border-bottom-color: var(--fill-color);\n",
              "    }\n",
              "    90% {\n",
              "      border-color: transparent;\n",
              "      border-bottom-color: var(--fill-color);\n",
              "    }\n",
              "  }\n",
              "</style>\n",
              "\n",
              "  <script>\n",
              "    async function quickchart(key) {\n",
              "      const quickchartButtonEl =\n",
              "        document.querySelector('#' + key + ' button');\n",
              "      quickchartButtonEl.disabled = true;  // To prevent multiple clicks.\n",
              "      quickchartButtonEl.classList.add('colab-df-spinner');\n",
              "      try {\n",
              "        const charts = await google.colab.kernel.invokeFunction(\n",
              "            'suggestCharts', [key], {});\n",
              "      } catch (error) {\n",
              "        console.error('Error during call to suggestCharts:', error);\n",
              "      }\n",
              "      quickchartButtonEl.classList.remove('colab-df-spinner');\n",
              "      quickchartButtonEl.classList.add('colab-df-quickchart-complete');\n",
              "    }\n",
              "    (() => {\n",
              "      let quickchartButtonEl =\n",
              "        document.querySelector('#df-75623c82-f032-4b89-9fad-f063855f9e83 button');\n",
              "      quickchartButtonEl.style.display =\n",
              "        google.colab.kernel.accessAllowed ? 'block' : 'none';\n",
              "    })();\n",
              "  </script>\n",
              "</div>\n",
              "\n",
              "  <div id=\"id_03d7d10a-f522-4926-9f5d-9e15abb7817b\">\n",
              "    <style>\n",
              "      .colab-df-generate {\n",
              "        background-color: #E8F0FE;\n",
              "        border: none;\n",
              "        border-radius: 50%;\n",
              "        cursor: pointer;\n",
              "        display: none;\n",
              "        fill: #1967D2;\n",
              "        height: 32px;\n",
              "        padding: 0 0 0 0;\n",
              "        width: 32px;\n",
              "      }\n",
              "\n",
              "      .colab-df-generate:hover {\n",
              "        background-color: #E2EBFA;\n",
              "        box-shadow: 0px 1px 2px rgba(60, 64, 67, 0.3), 0px 1px 3px 1px rgba(60, 64, 67, 0.15);\n",
              "        fill: #174EA6;\n",
              "      }\n",
              "\n",
              "      [theme=dark] .colab-df-generate {\n",
              "        background-color: #3B4455;\n",
              "        fill: #D2E3FC;\n",
              "      }\n",
              "\n",
              "      [theme=dark] .colab-df-generate:hover {\n",
              "        background-color: #434B5C;\n",
              "        box-shadow: 0px 1px 3px 1px rgba(0, 0, 0, 0.15);\n",
              "        filter: drop-shadow(0px 1px 2px rgba(0, 0, 0, 0.3));\n",
              "        fill: #FFFFFF;\n",
              "      }\n",
              "    </style>\n",
              "    <button class=\"colab-df-generate\" onclick=\"generateWithVariable('CT_Reg')\"\n",
              "            title=\"Generate code using this dataframe.\"\n",
              "            style=\"display:none;\">\n",
              "\n",
              "  <svg xmlns=\"http://www.w3.org/2000/svg\" height=\"24px\"viewBox=\"0 0 24 24\"\n",
              "       width=\"24px\">\n",
              "    <path d=\"M7,19H8.4L18.45,9,17,7.55,7,17.6ZM5,21V16.75L18.45,3.32a2,2,0,0,1,2.83,0l1.4,1.43a1.91,1.91,0,0,1,.58,1.4,1.91,1.91,0,0,1-.58,1.4L9.25,21ZM18.45,9,17,7.55Zm-12,3A5.31,5.31,0,0,0,4.9,8.1,5.31,5.31,0,0,0,1,6.5,5.31,5.31,0,0,0,4.9,4.9,5.31,5.31,0,0,0,6.5,1,5.31,5.31,0,0,0,8.1,4.9,5.31,5.31,0,0,0,12,6.5,5.46,5.46,0,0,0,6.5,12Z\"/>\n",
              "  </svg>\n",
              "    </button>\n",
              "    <script>\n",
              "      (() => {\n",
              "      const buttonEl =\n",
              "        document.querySelector('#id_03d7d10a-f522-4926-9f5d-9e15abb7817b button.colab-df-generate');\n",
              "      buttonEl.style.display =\n",
              "        google.colab.kernel.accessAllowed ? 'block' : 'none';\n",
              "\n",
              "      buttonEl.onclick = () => {\n",
              "        google.colab.notebook.generateWithVariable('CT_Reg');\n",
              "      }\n",
              "      })();\n",
              "    </script>\n",
              "  </div>\n",
              "\n",
              "    </div>\n",
              "  </div>\n"
            ]
          },
          "metadata": {},
          "execution_count": 12
        }
      ]
    },
    {
      "cell_type": "code",
      "source": [
        "VA_Reg = pd.DataFrame(Wgt_ind_by_region_va.round(1), columns = ['수도권', '동부권', '서부권'],\n",
        "                     index=['수도권', '동부권', '서부권','전지역']) # 변수명 붙여서 pandas로 내보내기\n",
        "VA_Reg"
      ],
      "metadata": {
        "id": "DAr9JbD1PVEh",
        "outputId": "0313e7d1-234a-4b4d-a1da-f62d85f5d6c9",
        "colab": {
          "base_uri": "https://localhost:8080/",
          "height": 175
        }
      },
      "execution_count": 13,
      "outputs": [
        {
          "output_type": "execute_result",
          "data": {
            "text/plain": [
              "     수도권   동부권   서부권\n",
              "수도권  0.4  21.5  78.1\n",
              "동부권  2.9  37.6  59.5\n",
              "서부권  4.5  38.2  57.4\n",
              "전지역  2.0  29.6  68.5"
            ],
            "text/html": [
              "\n",
              "  <div id=\"df-d865928a-6069-464a-95ed-b32655355d0f\" class=\"colab-df-container\">\n",
              "    <div>\n",
              "<style scoped>\n",
              "    .dataframe tbody tr th:only-of-type {\n",
              "        vertical-align: middle;\n",
              "    }\n",
              "\n",
              "    .dataframe tbody tr th {\n",
              "        vertical-align: top;\n",
              "    }\n",
              "\n",
              "    .dataframe thead th {\n",
              "        text-align: right;\n",
              "    }\n",
              "</style>\n",
              "<table border=\"1\" class=\"dataframe\">\n",
              "  <thead>\n",
              "    <tr style=\"text-align: right;\">\n",
              "      <th></th>\n",
              "      <th>수도권</th>\n",
              "      <th>동부권</th>\n",
              "      <th>서부권</th>\n",
              "    </tr>\n",
              "  </thead>\n",
              "  <tbody>\n",
              "    <tr>\n",
              "      <th>수도권</th>\n",
              "      <td>0.4</td>\n",
              "      <td>21.5</td>\n",
              "      <td>78.1</td>\n",
              "    </tr>\n",
              "    <tr>\n",
              "      <th>동부권</th>\n",
              "      <td>2.9</td>\n",
              "      <td>37.6</td>\n",
              "      <td>59.5</td>\n",
              "    </tr>\n",
              "    <tr>\n",
              "      <th>서부권</th>\n",
              "      <td>4.5</td>\n",
              "      <td>38.2</td>\n",
              "      <td>57.4</td>\n",
              "    </tr>\n",
              "    <tr>\n",
              "      <th>전지역</th>\n",
              "      <td>2.0</td>\n",
              "      <td>29.6</td>\n",
              "      <td>68.5</td>\n",
              "    </tr>\n",
              "  </tbody>\n",
              "</table>\n",
              "</div>\n",
              "    <div class=\"colab-df-buttons\">\n",
              "\n",
              "  <div class=\"colab-df-container\">\n",
              "    <button class=\"colab-df-convert\" onclick=\"convertToInteractive('df-d865928a-6069-464a-95ed-b32655355d0f')\"\n",
              "            title=\"Convert this dataframe to an interactive table.\"\n",
              "            style=\"display:none;\">\n",
              "\n",
              "  <svg xmlns=\"http://www.w3.org/2000/svg\" height=\"24px\" viewBox=\"0 -960 960 960\">\n",
              "    <path d=\"M120-120v-720h720v720H120Zm60-500h600v-160H180v160Zm220 220h160v-160H400v160Zm0 220h160v-160H400v160ZM180-400h160v-160H180v160Zm440 0h160v-160H620v160ZM180-180h160v-160H180v160Zm440 0h160v-160H620v160Z\"/>\n",
              "  </svg>\n",
              "    </button>\n",
              "\n",
              "  <style>\n",
              "    .colab-df-container {\n",
              "      display:flex;\n",
              "      gap: 12px;\n",
              "    }\n",
              "\n",
              "    .colab-df-convert {\n",
              "      background-color: #E8F0FE;\n",
              "      border: none;\n",
              "      border-radius: 50%;\n",
              "      cursor: pointer;\n",
              "      display: none;\n",
              "      fill: #1967D2;\n",
              "      height: 32px;\n",
              "      padding: 0 0 0 0;\n",
              "      width: 32px;\n",
              "    }\n",
              "\n",
              "    .colab-df-convert:hover {\n",
              "      background-color: #E2EBFA;\n",
              "      box-shadow: 0px 1px 2px rgba(60, 64, 67, 0.3), 0px 1px 3px 1px rgba(60, 64, 67, 0.15);\n",
              "      fill: #174EA6;\n",
              "    }\n",
              "\n",
              "    .colab-df-buttons div {\n",
              "      margin-bottom: 4px;\n",
              "    }\n",
              "\n",
              "    [theme=dark] .colab-df-convert {\n",
              "      background-color: #3B4455;\n",
              "      fill: #D2E3FC;\n",
              "    }\n",
              "\n",
              "    [theme=dark] .colab-df-convert:hover {\n",
              "      background-color: #434B5C;\n",
              "      box-shadow: 0px 1px 3px 1px rgba(0, 0, 0, 0.15);\n",
              "      filter: drop-shadow(0px 1px 2px rgba(0, 0, 0, 0.3));\n",
              "      fill: #FFFFFF;\n",
              "    }\n",
              "  </style>\n",
              "\n",
              "    <script>\n",
              "      const buttonEl =\n",
              "        document.querySelector('#df-d865928a-6069-464a-95ed-b32655355d0f button.colab-df-convert');\n",
              "      buttonEl.style.display =\n",
              "        google.colab.kernel.accessAllowed ? 'block' : 'none';\n",
              "\n",
              "      async function convertToInteractive(key) {\n",
              "        const element = document.querySelector('#df-d865928a-6069-464a-95ed-b32655355d0f');\n",
              "        const dataTable =\n",
              "          await google.colab.kernel.invokeFunction('convertToInteractive',\n",
              "                                                    [key], {});\n",
              "        if (!dataTable) return;\n",
              "\n",
              "        const docLinkHtml = 'Like what you see? Visit the ' +\n",
              "          '<a target=\"_blank\" href=https://colab.research.google.com/notebooks/data_table.ipynb>data table notebook</a>'\n",
              "          + ' to learn more about interactive tables.';\n",
              "        element.innerHTML = '';\n",
              "        dataTable['output_type'] = 'display_data';\n",
              "        await google.colab.output.renderOutput(dataTable, element);\n",
              "        const docLink = document.createElement('div');\n",
              "        docLink.innerHTML = docLinkHtml;\n",
              "        element.appendChild(docLink);\n",
              "      }\n",
              "    </script>\n",
              "  </div>\n",
              "\n",
              "\n",
              "<div id=\"df-4e36e962-59e5-43fd-b14e-60efc3ebf7ea\">\n",
              "  <button class=\"colab-df-quickchart\" onclick=\"quickchart('df-4e36e962-59e5-43fd-b14e-60efc3ebf7ea')\"\n",
              "            title=\"Suggest charts\"\n",
              "            style=\"display:none;\">\n",
              "\n",
              "<svg xmlns=\"http://www.w3.org/2000/svg\" height=\"24px\"viewBox=\"0 0 24 24\"\n",
              "     width=\"24px\">\n",
              "    <g>\n",
              "        <path d=\"M19 3H5c-1.1 0-2 .9-2 2v14c0 1.1.9 2 2 2h14c1.1 0 2-.9 2-2V5c0-1.1-.9-2-2-2zM9 17H7v-7h2v7zm4 0h-2V7h2v10zm4 0h-2v-4h2v4z\"/>\n",
              "    </g>\n",
              "</svg>\n",
              "  </button>\n",
              "\n",
              "<style>\n",
              "  .colab-df-quickchart {\n",
              "      --bg-color: #E8F0FE;\n",
              "      --fill-color: #1967D2;\n",
              "      --hover-bg-color: #E2EBFA;\n",
              "      --hover-fill-color: #174EA6;\n",
              "      --disabled-fill-color: #AAA;\n",
              "      --disabled-bg-color: #DDD;\n",
              "  }\n",
              "\n",
              "  [theme=dark] .colab-df-quickchart {\n",
              "      --bg-color: #3B4455;\n",
              "      --fill-color: #D2E3FC;\n",
              "      --hover-bg-color: #434B5C;\n",
              "      --hover-fill-color: #FFFFFF;\n",
              "      --disabled-bg-color: #3B4455;\n",
              "      --disabled-fill-color: #666;\n",
              "  }\n",
              "\n",
              "  .colab-df-quickchart {\n",
              "    background-color: var(--bg-color);\n",
              "    border: none;\n",
              "    border-radius: 50%;\n",
              "    cursor: pointer;\n",
              "    display: none;\n",
              "    fill: var(--fill-color);\n",
              "    height: 32px;\n",
              "    padding: 0;\n",
              "    width: 32px;\n",
              "  }\n",
              "\n",
              "  .colab-df-quickchart:hover {\n",
              "    background-color: var(--hover-bg-color);\n",
              "    box-shadow: 0 1px 2px rgba(60, 64, 67, 0.3), 0 1px 3px 1px rgba(60, 64, 67, 0.15);\n",
              "    fill: var(--button-hover-fill-color);\n",
              "  }\n",
              "\n",
              "  .colab-df-quickchart-complete:disabled,\n",
              "  .colab-df-quickchart-complete:disabled:hover {\n",
              "    background-color: var(--disabled-bg-color);\n",
              "    fill: var(--disabled-fill-color);\n",
              "    box-shadow: none;\n",
              "  }\n",
              "\n",
              "  .colab-df-spinner {\n",
              "    border: 2px solid var(--fill-color);\n",
              "    border-color: transparent;\n",
              "    border-bottom-color: var(--fill-color);\n",
              "    animation:\n",
              "      spin 1s steps(1) infinite;\n",
              "  }\n",
              "\n",
              "  @keyframes spin {\n",
              "    0% {\n",
              "      border-color: transparent;\n",
              "      border-bottom-color: var(--fill-color);\n",
              "      border-left-color: var(--fill-color);\n",
              "    }\n",
              "    20% {\n",
              "      border-color: transparent;\n",
              "      border-left-color: var(--fill-color);\n",
              "      border-top-color: var(--fill-color);\n",
              "    }\n",
              "    30% {\n",
              "      border-color: transparent;\n",
              "      border-left-color: var(--fill-color);\n",
              "      border-top-color: var(--fill-color);\n",
              "      border-right-color: var(--fill-color);\n",
              "    }\n",
              "    40% {\n",
              "      border-color: transparent;\n",
              "      border-right-color: var(--fill-color);\n",
              "      border-top-color: var(--fill-color);\n",
              "    }\n",
              "    60% {\n",
              "      border-color: transparent;\n",
              "      border-right-color: var(--fill-color);\n",
              "    }\n",
              "    80% {\n",
              "      border-color: transparent;\n",
              "      border-right-color: var(--fill-color);\n",
              "      border-bottom-color: var(--fill-color);\n",
              "    }\n",
              "    90% {\n",
              "      border-color: transparent;\n",
              "      border-bottom-color: var(--fill-color);\n",
              "    }\n",
              "  }\n",
              "</style>\n",
              "\n",
              "  <script>\n",
              "    async function quickchart(key) {\n",
              "      const quickchartButtonEl =\n",
              "        document.querySelector('#' + key + ' button');\n",
              "      quickchartButtonEl.disabled = true;  // To prevent multiple clicks.\n",
              "      quickchartButtonEl.classList.add('colab-df-spinner');\n",
              "      try {\n",
              "        const charts = await google.colab.kernel.invokeFunction(\n",
              "            'suggestCharts', [key], {});\n",
              "      } catch (error) {\n",
              "        console.error('Error during call to suggestCharts:', error);\n",
              "      }\n",
              "      quickchartButtonEl.classList.remove('colab-df-spinner');\n",
              "      quickchartButtonEl.classList.add('colab-df-quickchart-complete');\n",
              "    }\n",
              "    (() => {\n",
              "      let quickchartButtonEl =\n",
              "        document.querySelector('#df-4e36e962-59e5-43fd-b14e-60efc3ebf7ea button');\n",
              "      quickchartButtonEl.style.display =\n",
              "        google.colab.kernel.accessAllowed ? 'block' : 'none';\n",
              "    })();\n",
              "  </script>\n",
              "</div>\n",
              "\n",
              "  <div id=\"id_6a58d9a5-2da3-4c56-acc9-6c50125b40b2\">\n",
              "    <style>\n",
              "      .colab-df-generate {\n",
              "        background-color: #E8F0FE;\n",
              "        border: none;\n",
              "        border-radius: 50%;\n",
              "        cursor: pointer;\n",
              "        display: none;\n",
              "        fill: #1967D2;\n",
              "        height: 32px;\n",
              "        padding: 0 0 0 0;\n",
              "        width: 32px;\n",
              "      }\n",
              "\n",
              "      .colab-df-generate:hover {\n",
              "        background-color: #E2EBFA;\n",
              "        box-shadow: 0px 1px 2px rgba(60, 64, 67, 0.3), 0px 1px 3px 1px rgba(60, 64, 67, 0.15);\n",
              "        fill: #174EA6;\n",
              "      }\n",
              "\n",
              "      [theme=dark] .colab-df-generate {\n",
              "        background-color: #3B4455;\n",
              "        fill: #D2E3FC;\n",
              "      }\n",
              "\n",
              "      [theme=dark] .colab-df-generate:hover {\n",
              "        background-color: #434B5C;\n",
              "        box-shadow: 0px 1px 3px 1px rgba(0, 0, 0, 0.15);\n",
              "        filter: drop-shadow(0px 1px 2px rgba(0, 0, 0, 0.3));\n",
              "        fill: #FFFFFF;\n",
              "      }\n",
              "    </style>\n",
              "    <button class=\"colab-df-generate\" onclick=\"generateWithVariable('VA_Reg')\"\n",
              "            title=\"Generate code using this dataframe.\"\n",
              "            style=\"display:none;\">\n",
              "\n",
              "  <svg xmlns=\"http://www.w3.org/2000/svg\" height=\"24px\"viewBox=\"0 0 24 24\"\n",
              "       width=\"24px\">\n",
              "    <path d=\"M7,19H8.4L18.45,9,17,7.55,7,17.6ZM5,21V16.75L18.45,3.32a2,2,0,0,1,2.83,0l1.4,1.43a1.91,1.91,0,0,1,.58,1.4,1.91,1.91,0,0,1-.58,1.4L9.25,21ZM18.45,9,17,7.55Zm-12,3A5.31,5.31,0,0,0,4.9,8.1,5.31,5.31,0,0,0,1,6.5,5.31,5.31,0,0,0,4.9,4.9,5.31,5.31,0,0,0,6.5,1,5.31,5.31,0,0,0,8.1,4.9,5.31,5.31,0,0,0,12,6.5,5.46,5.46,0,0,0,6.5,12Z\"/>\n",
              "  </svg>\n",
              "    </button>\n",
              "    <script>\n",
              "      (() => {\n",
              "      const buttonEl =\n",
              "        document.querySelector('#id_6a58d9a5-2da3-4c56-acc9-6c50125b40b2 button.colab-df-generate');\n",
              "      buttonEl.style.display =\n",
              "        google.colab.kernel.accessAllowed ? 'block' : 'none';\n",
              "\n",
              "      buttonEl.onclick = () => {\n",
              "        google.colab.notebook.generateWithVariable('VA_Reg');\n",
              "      }\n",
              "      })();\n",
              "    </script>\n",
              "  </div>\n",
              "\n",
              "    </div>\n",
              "  </div>\n"
            ]
          },
          "metadata": {},
          "execution_count": 13
        }
      ]
    },
    {
      "cell_type": "markdown",
      "source": [
        "### 입지계수"
      ],
      "metadata": {
        "id": "8gWUdmGLJ1PM"
      }
    },
    {
      "cell_type": "code",
      "source": [
        "X = Mt[-1,:9].reshape([1,9])\n",
        "X_all_ind_all_reg = Ct[:,:9].sum() # 우리나라 총산출\n",
        "X_all_ind_all_reg"
      ],
      "metadata": {
        "id": "ZGB2rOKzJxjE",
        "outputId": "b408adde-2c39-4074-8245-971c69259b87",
        "colab": {
          "base_uri": "https://localhost:8080/"
        }
      },
      "execution_count": 14,
      "outputs": [
        {
          "output_type": "execute_result",
          "data": {
            "text/plain": [
              "3831.0"
            ]
          },
          "metadata": {},
          "execution_count": 14
        }
      ]
    },
    {
      "cell_type": "code",
      "source": [
        "print(Mt[-1,:9])"
      ],
      "metadata": {
        "id": "lrbvXYmbJxmc",
        "outputId": "7d7e5f31-27f2-4ea4-d561-54d9d04b6093",
        "colab": {
          "base_uri": "https://localhost:8080/"
        }
      },
      "execution_count": 15,
      "outputs": [
        {
          "output_type": "stream",
          "name": "stdout",
          "text": [
            "[   6.  582. 1204.   23.  638.  479.   29.  491.  379.]\n"
          ]
        }
      ]
    },
    {
      "cell_type": "code",
      "source": [
        "X_sudo =X[-1,:3].sum().reshape([1,1]) # 수도권 산출액 합\n",
        "X_seobu =X[-1,3:6].sum().reshape([1,1]) # 동부권 산출액 합\n",
        "X_dongbu =X[-1,6:9].sum().reshape([1,1]) # 서부권 산출액 합\n",
        "print(X_sudo,X_seobu,X_dongbu)"
      ],
      "metadata": {
        "id": "6XhkCR4XJxoy",
        "outputId": "91a2e63e-bc96-4c48-cf6e-b5720d3c5829",
        "colab": {
          "base_uri": "https://localhost:8080/"
        }
      },
      "execution_count": 16,
      "outputs": [
        {
          "output_type": "stream",
          "name": "stdout",
          "text": [
            "[[1792.]] [[1140.]] [[899.]]\n"
          ]
        }
      ]
    },
    {
      "cell_type": "code",
      "source": [
        "X_agr=X[-1,0]+X[-1,3]+X[-1,6] # 전국 농산품 산출액\n",
        "X_manu=X[-1,1]+X[-1,4]+X[-1,7] # 전국 공산품 산출액\n",
        "X_serv=X[-1,2]+X[-1,5]+X[-1,8] # 전국 서비스 산출액\n",
        "print(X_agr,X_manu, X_serv)"
      ],
      "metadata": {
        "id": "1IWYRc7zJxq9",
        "outputId": "43b5110f-c7d1-4917-f151-c64c0dcf8974",
        "colab": {
          "base_uri": "https://localhost:8080/"
        }
      },
      "execution_count": 17,
      "outputs": [
        {
          "output_type": "stream",
          "name": "stdout",
          "text": [
            "58.0 1711.0 2062.0\n"
          ]
        }
      ]
    },
    {
      "cell_type": "code",
      "source": [
        "X_i = np.concatenate((np.tile(X_sudo,3),np.tile(X_seobu,3),np.tile(X_dongbu,3)),axis=1)  # 지역별 산출액 합"
      ],
      "metadata": {
        "id": "xAjJ8rqeKUHl"
      },
      "execution_count": 18,
      "outputs": []
    },
    {
      "cell_type": "code",
      "source": [
        "X_j = np.concatenate((X_agr.reshape([1,1]),X_manu.reshape([1,1]),X_serv.reshape([1,1])),axis=1) # 전국 농산품, 공산품, 서비스 산출액\n",
        "X_j"
      ],
      "metadata": {
        "id": "5Z8cfXztJxtD",
        "outputId": "5eea210a-67fa-4781-8ced-9ef0d5bd158f",
        "colab": {
          "base_uri": "https://localhost:8080/"
        }
      },
      "execution_count": 19,
      "outputs": [
        {
          "output_type": "execute_result",
          "data": {
            "text/plain": [
              "array([[  58., 1711., 2062.]])"
            ]
          },
          "metadata": {},
          "execution_count": 19
        }
      ]
    },
    {
      "cell_type": "code",
      "source": [
        "X_div_by_Xi=X/X_i\n",
        "X_div_by_Xi"
      ],
      "metadata": {
        "id": "nbH1jcSmJxxq",
        "outputId": "629d7f48-33e9-49e4-c17e-0f334c5ff237",
        "colab": {
          "base_uri": "https://localhost:8080/"
        }
      },
      "execution_count": 20,
      "outputs": [
        {
          "output_type": "execute_result",
          "data": {
            "text/plain": [
              "array([[0.00334821, 0.32477679, 0.671875  , 0.02017544, 0.55964912,\n",
              "        0.42017544, 0.03225806, 0.5461624 , 0.42157953]])"
            ]
          },
          "metadata": {},
          "execution_count": 20
        }
      ]
    },
    {
      "cell_type": "code",
      "source": [
        "Xj_div_by_X = np.tile(X_j/X.sum(),3).reshape(1,9)\n",
        "Xj_div_by_X"
      ],
      "metadata": {
        "id": "NA0mmI3dJxz0",
        "outputId": "57fea688-7f01-49c1-9cb5-d96a02f705ae",
        "colab": {
          "base_uri": "https://localhost:8080/"
        }
      },
      "execution_count": 21,
      "outputs": [
        {
          "output_type": "execute_result",
          "data": {
            "text/plain": [
              "array([[0.01513965, 0.44661968, 0.53824067, 0.01513965, 0.44661968,\n",
              "        0.53824067, 0.01513965, 0.44661968, 0.53824067]])"
            ]
          },
          "metadata": {},
          "execution_count": 21
        }
      ]
    },
    {
      "cell_type": "code",
      "source": [
        "LQ = (X_div_by_Xi/Xj_div_by_X).reshape([1,9]).round(3)\n",
        "LQ_f = np.vstack((LQ[:,:3],LQ[:,3:6],LQ[:,6:9])) #  지역별 산업별 비중\n",
        "print(LQ_f)"
      ],
      "metadata": {
        "id": "A14aQwPQJx17",
        "outputId": "952dd8c3-003b-4521-b590-42e811501838",
        "colab": {
          "base_uri": "https://localhost:8080/"
        }
      },
      "execution_count": 22,
      "outputs": [
        {
          "output_type": "stream",
          "name": "stdout",
          "text": [
            "[[0.221 0.727 1.248]\n",
            " [1.333 1.253 0.781]\n",
            " [2.131 1.223 0.783]]\n"
          ]
        }
      ]
    },
    {
      "cell_type": "markdown",
      "source": [
        "### 산업별 지역별 구성"
      ],
      "metadata": {
        "id": "jT-MJS0XLP3m"
      }
    },
    {
      "cell_type": "code",
      "source": [
        "# 산업기준\n",
        "\n",
        "# 산출액\n",
        "Arg_ct = np.hstack((Ct[:,0],Ct[:,3],Ct[:,6]))    # 3개권역 농산품\n",
        "Manu_ct = np.hstack((Ct[:,1],Ct[:,4],Ct[:,7]))  # 3개권역 공산품\n",
        "Serv_ct = np.hstack((Ct[:,2],Ct[:,5],Ct[:,8]))  # 3개권역 서비스\n",
        "\n",
        "# 부가가치\n",
        "Arg_va = np.hstack((Va[:,0],Va[:,3],Va[:,6]))    # 3개권역 농산품\n",
        "Manu_va = np.hstack((Va[:,1],Va[:,4],Va[:,7]))  # 3개권역 공산품\n",
        "Serv_va= np.hstack((Va[:,2],Va[:,5],Va[:,8]))  # 3개권역 서비스\n",
        "\n",
        "Serv_ct"
      ],
      "metadata": {
        "id": "6jVPWZ7FJx4B",
        "outputId": "e76110fe-d60d-43cc-ad57-ed3ab30f4312",
        "colab": {
          "base_uri": "https://localhost:8080/"
        }
      },
      "execution_count": 23,
      "outputs": [
        {
          "output_type": "execute_result",
          "data": {
            "text/plain": [
              "array([1204.,  479.,  379.])"
            ]
          },
          "metadata": {},
          "execution_count": 23
        }
      ]
    },
    {
      "cell_type": "code",
      "source": [
        "Arg_ct_sm = np.sum(Arg_ct)\n",
        "Manu_ct_sm = np.sum(Manu_ct)\n",
        "Serv_ct_sm = np.sum(Serv_ct)\n",
        "\n",
        "Arg_va_sm = np.sum(Arg_va)\n",
        "Manu_va_sm = np.sum(Manu_va)\n",
        "Serv_va_sm = np.sum(Serv_va)"
      ],
      "metadata": {
        "id": "_krLRDRwJx6S"
      },
      "execution_count": 24,
      "outputs": []
    },
    {
      "cell_type": "code",
      "source": [
        "# 산업별 지역별 산출액 비중\n",
        "# arg_ct_all = np.hstack((arg_ct, arg_ct_sm)).round(1)\n",
        "# manu_ct_all = np.hstack((manu_ct, manu_ct_sm)).round(1)\n",
        "# serv_ct_all = np.hstack((serv_ct, serv_ct_sm)).round(1)\n",
        "\n",
        "Arg_ct_wgt = (Arg_ct/Arg_ct_sm)  # 농산품비중\n",
        "Manu_ct_wgt = (Manu_ct/Manu_ct_sm)  # 공산품비중\n",
        "Serv_ct_wgt = (Serv_ct/Serv_ct_sm)  # 공산품비중\n",
        "Serv_ct_wgt"
      ],
      "metadata": {
        "id": "5SwnnEiCOekj",
        "outputId": "32643457-5bae-4d0f-d2b3-5cefc22f4503",
        "colab": {
          "base_uri": "https://localhost:8080/"
        }
      },
      "execution_count": 25,
      "outputs": [
        {
          "output_type": "execute_result",
          "data": {
            "text/plain": [
              "array([0.58389913, 0.23229874, 0.18380213])"
            ]
          },
          "metadata": {},
          "execution_count": 25
        }
      ]
    },
    {
      "cell_type": "code",
      "source": [
        "# 산업별 지역별 부가가치 비중\n",
        "# arg_va_all = np.hstack((arg_va, arg_va_sm)).round(1)\n",
        "# manu_va_all = np.hstack((manu_va, manu_va_sm)).round(1)\n",
        "# serv_va_all = np.hstack((serv_va, serv_va_sm)).round(1)\n",
        "\n",
        "Arg_va_wgt = (Arg_va/Arg_va_sm)  # 농산품비중\n",
        "Manu_va_wgt = (Manu_va/Manu_va_sm)  # 공산품비중\n",
        "Serv_va_wgt = (Serv_va/Serv_va_sm)  # 공산품비중\n",
        "Serv_va_wgt"
      ],
      "metadata": {
        "id": "w7uoaSuHJx8W",
        "outputId": "d2f06cf0-eece-45ec-bb96-754ed9f6a545",
        "colab": {
          "base_uri": "https://localhost:8080/"
        }
      },
      "execution_count": 26,
      "outputs": [
        {
          "output_type": "execute_result",
          "data": {
            "text/plain": [
              "array([0.57894737, 0.23728814, 0.1837645 ])"
            ]
          },
          "metadata": {},
          "execution_count": 26
        }
      ]
    },
    {
      "cell_type": "code",
      "source": [
        "Ct_by_ind = np.vstack((Arg_ct_wgt, Manu_ct_wgt, Serv_ct_wgt)) # 산출액\n",
        "Va_by_ind = np.vstack((Arg_va_wgt, Manu_va_wgt, Serv_va_wgt)) # 부가가치\n",
        "print((Ct_by_ind*100).round(1), '\\n')\n",
        "print((Va_by_ind*100).round(1))"
      ],
      "metadata": {
        "id": "W6TbE3jYLipQ",
        "outputId": "507f544f-1925-439a-de73-d4f719d95d88",
        "colab": {
          "base_uri": "https://localhost:8080/"
        }
      },
      "execution_count": 27,
      "outputs": [
        {
          "output_type": "stream",
          "name": "stdout",
          "text": [
            "[[10.3 39.7 50. ]\n",
            " [34.  37.3 28.7]\n",
            " [58.4 23.2 18.4]] \n",
            "\n",
            "[[ 9.4 40.6 50. ]\n",
            " [37.  34.7 28.3]\n",
            " [57.9 23.7 18.4]]\n"
          ]
        }
      ]
    },
    {
      "cell_type": "code",
      "source": [
        "CT_IND = pd.DataFrame((Ct_by_ind*100).round(1), columns = ['수도권', '동부권', '서부권'],\n",
        "                     index=['농산품', '공산품', '서비스']) # 변수명 붙여서 pandas로 내보내기\n",
        "CT_IND"
      ],
      "metadata": {
        "id": "yK3EQLVQLir8",
        "outputId": "8eadcecb-4033-4609-d77f-1e53b7cded70",
        "colab": {
          "base_uri": "https://localhost:8080/",
          "height": 143
        }
      },
      "execution_count": 28,
      "outputs": [
        {
          "output_type": "execute_result",
          "data": {
            "text/plain": [
              "      수도권   동부권   서부권\n",
              "농산품  10.3  39.7  50.0\n",
              "공산품  34.0  37.3  28.7\n",
              "서비스  58.4  23.2  18.4"
            ],
            "text/html": [
              "\n",
              "  <div id=\"df-98e569d3-5d08-4353-88e3-604f62257bbb\" class=\"colab-df-container\">\n",
              "    <div>\n",
              "<style scoped>\n",
              "    .dataframe tbody tr th:only-of-type {\n",
              "        vertical-align: middle;\n",
              "    }\n",
              "\n",
              "    .dataframe tbody tr th {\n",
              "        vertical-align: top;\n",
              "    }\n",
              "\n",
              "    .dataframe thead th {\n",
              "        text-align: right;\n",
              "    }\n",
              "</style>\n",
              "<table border=\"1\" class=\"dataframe\">\n",
              "  <thead>\n",
              "    <tr style=\"text-align: right;\">\n",
              "      <th></th>\n",
              "      <th>수도권</th>\n",
              "      <th>동부권</th>\n",
              "      <th>서부권</th>\n",
              "    </tr>\n",
              "  </thead>\n",
              "  <tbody>\n",
              "    <tr>\n",
              "      <th>농산품</th>\n",
              "      <td>10.3</td>\n",
              "      <td>39.7</td>\n",
              "      <td>50.0</td>\n",
              "    </tr>\n",
              "    <tr>\n",
              "      <th>공산품</th>\n",
              "      <td>34.0</td>\n",
              "      <td>37.3</td>\n",
              "      <td>28.7</td>\n",
              "    </tr>\n",
              "    <tr>\n",
              "      <th>서비스</th>\n",
              "      <td>58.4</td>\n",
              "      <td>23.2</td>\n",
              "      <td>18.4</td>\n",
              "    </tr>\n",
              "  </tbody>\n",
              "</table>\n",
              "</div>\n",
              "    <div class=\"colab-df-buttons\">\n",
              "\n",
              "  <div class=\"colab-df-container\">\n",
              "    <button class=\"colab-df-convert\" onclick=\"convertToInteractive('df-98e569d3-5d08-4353-88e3-604f62257bbb')\"\n",
              "            title=\"Convert this dataframe to an interactive table.\"\n",
              "            style=\"display:none;\">\n",
              "\n",
              "  <svg xmlns=\"http://www.w3.org/2000/svg\" height=\"24px\" viewBox=\"0 -960 960 960\">\n",
              "    <path d=\"M120-120v-720h720v720H120Zm60-500h600v-160H180v160Zm220 220h160v-160H400v160Zm0 220h160v-160H400v160ZM180-400h160v-160H180v160Zm440 0h160v-160H620v160ZM180-180h160v-160H180v160Zm440 0h160v-160H620v160Z\"/>\n",
              "  </svg>\n",
              "    </button>\n",
              "\n",
              "  <style>\n",
              "    .colab-df-container {\n",
              "      display:flex;\n",
              "      gap: 12px;\n",
              "    }\n",
              "\n",
              "    .colab-df-convert {\n",
              "      background-color: #E8F0FE;\n",
              "      border: none;\n",
              "      border-radius: 50%;\n",
              "      cursor: pointer;\n",
              "      display: none;\n",
              "      fill: #1967D2;\n",
              "      height: 32px;\n",
              "      padding: 0 0 0 0;\n",
              "      width: 32px;\n",
              "    }\n",
              "\n",
              "    .colab-df-convert:hover {\n",
              "      background-color: #E2EBFA;\n",
              "      box-shadow: 0px 1px 2px rgba(60, 64, 67, 0.3), 0px 1px 3px 1px rgba(60, 64, 67, 0.15);\n",
              "      fill: #174EA6;\n",
              "    }\n",
              "\n",
              "    .colab-df-buttons div {\n",
              "      margin-bottom: 4px;\n",
              "    }\n",
              "\n",
              "    [theme=dark] .colab-df-convert {\n",
              "      background-color: #3B4455;\n",
              "      fill: #D2E3FC;\n",
              "    }\n",
              "\n",
              "    [theme=dark] .colab-df-convert:hover {\n",
              "      background-color: #434B5C;\n",
              "      box-shadow: 0px 1px 3px 1px rgba(0, 0, 0, 0.15);\n",
              "      filter: drop-shadow(0px 1px 2px rgba(0, 0, 0, 0.3));\n",
              "      fill: #FFFFFF;\n",
              "    }\n",
              "  </style>\n",
              "\n",
              "    <script>\n",
              "      const buttonEl =\n",
              "        document.querySelector('#df-98e569d3-5d08-4353-88e3-604f62257bbb button.colab-df-convert');\n",
              "      buttonEl.style.display =\n",
              "        google.colab.kernel.accessAllowed ? 'block' : 'none';\n",
              "\n",
              "      async function convertToInteractive(key) {\n",
              "        const element = document.querySelector('#df-98e569d3-5d08-4353-88e3-604f62257bbb');\n",
              "        const dataTable =\n",
              "          await google.colab.kernel.invokeFunction('convertToInteractive',\n",
              "                                                    [key], {});\n",
              "        if (!dataTable) return;\n",
              "\n",
              "        const docLinkHtml = 'Like what you see? Visit the ' +\n",
              "          '<a target=\"_blank\" href=https://colab.research.google.com/notebooks/data_table.ipynb>data table notebook</a>'\n",
              "          + ' to learn more about interactive tables.';\n",
              "        element.innerHTML = '';\n",
              "        dataTable['output_type'] = 'display_data';\n",
              "        await google.colab.output.renderOutput(dataTable, element);\n",
              "        const docLink = document.createElement('div');\n",
              "        docLink.innerHTML = docLinkHtml;\n",
              "        element.appendChild(docLink);\n",
              "      }\n",
              "    </script>\n",
              "  </div>\n",
              "\n",
              "\n",
              "<div id=\"df-f5288077-a633-47f7-bfeb-08c5ba6a2bb8\">\n",
              "  <button class=\"colab-df-quickchart\" onclick=\"quickchart('df-f5288077-a633-47f7-bfeb-08c5ba6a2bb8')\"\n",
              "            title=\"Suggest charts\"\n",
              "            style=\"display:none;\">\n",
              "\n",
              "<svg xmlns=\"http://www.w3.org/2000/svg\" height=\"24px\"viewBox=\"0 0 24 24\"\n",
              "     width=\"24px\">\n",
              "    <g>\n",
              "        <path d=\"M19 3H5c-1.1 0-2 .9-2 2v14c0 1.1.9 2 2 2h14c1.1 0 2-.9 2-2V5c0-1.1-.9-2-2-2zM9 17H7v-7h2v7zm4 0h-2V7h2v10zm4 0h-2v-4h2v4z\"/>\n",
              "    </g>\n",
              "</svg>\n",
              "  </button>\n",
              "\n",
              "<style>\n",
              "  .colab-df-quickchart {\n",
              "      --bg-color: #E8F0FE;\n",
              "      --fill-color: #1967D2;\n",
              "      --hover-bg-color: #E2EBFA;\n",
              "      --hover-fill-color: #174EA6;\n",
              "      --disabled-fill-color: #AAA;\n",
              "      --disabled-bg-color: #DDD;\n",
              "  }\n",
              "\n",
              "  [theme=dark] .colab-df-quickchart {\n",
              "      --bg-color: #3B4455;\n",
              "      --fill-color: #D2E3FC;\n",
              "      --hover-bg-color: #434B5C;\n",
              "      --hover-fill-color: #FFFFFF;\n",
              "      --disabled-bg-color: #3B4455;\n",
              "      --disabled-fill-color: #666;\n",
              "  }\n",
              "\n",
              "  .colab-df-quickchart {\n",
              "    background-color: var(--bg-color);\n",
              "    border: none;\n",
              "    border-radius: 50%;\n",
              "    cursor: pointer;\n",
              "    display: none;\n",
              "    fill: var(--fill-color);\n",
              "    height: 32px;\n",
              "    padding: 0;\n",
              "    width: 32px;\n",
              "  }\n",
              "\n",
              "  .colab-df-quickchart:hover {\n",
              "    background-color: var(--hover-bg-color);\n",
              "    box-shadow: 0 1px 2px rgba(60, 64, 67, 0.3), 0 1px 3px 1px rgba(60, 64, 67, 0.15);\n",
              "    fill: var(--button-hover-fill-color);\n",
              "  }\n",
              "\n",
              "  .colab-df-quickchart-complete:disabled,\n",
              "  .colab-df-quickchart-complete:disabled:hover {\n",
              "    background-color: var(--disabled-bg-color);\n",
              "    fill: var(--disabled-fill-color);\n",
              "    box-shadow: none;\n",
              "  }\n",
              "\n",
              "  .colab-df-spinner {\n",
              "    border: 2px solid var(--fill-color);\n",
              "    border-color: transparent;\n",
              "    border-bottom-color: var(--fill-color);\n",
              "    animation:\n",
              "      spin 1s steps(1) infinite;\n",
              "  }\n",
              "\n",
              "  @keyframes spin {\n",
              "    0% {\n",
              "      border-color: transparent;\n",
              "      border-bottom-color: var(--fill-color);\n",
              "      border-left-color: var(--fill-color);\n",
              "    }\n",
              "    20% {\n",
              "      border-color: transparent;\n",
              "      border-left-color: var(--fill-color);\n",
              "      border-top-color: var(--fill-color);\n",
              "    }\n",
              "    30% {\n",
              "      border-color: transparent;\n",
              "      border-left-color: var(--fill-color);\n",
              "      border-top-color: var(--fill-color);\n",
              "      border-right-color: var(--fill-color);\n",
              "    }\n",
              "    40% {\n",
              "      border-color: transparent;\n",
              "      border-right-color: var(--fill-color);\n",
              "      border-top-color: var(--fill-color);\n",
              "    }\n",
              "    60% {\n",
              "      border-color: transparent;\n",
              "      border-right-color: var(--fill-color);\n",
              "    }\n",
              "    80% {\n",
              "      border-color: transparent;\n",
              "      border-right-color: var(--fill-color);\n",
              "      border-bottom-color: var(--fill-color);\n",
              "    }\n",
              "    90% {\n",
              "      border-color: transparent;\n",
              "      border-bottom-color: var(--fill-color);\n",
              "    }\n",
              "  }\n",
              "</style>\n",
              "\n",
              "  <script>\n",
              "    async function quickchart(key) {\n",
              "      const quickchartButtonEl =\n",
              "        document.querySelector('#' + key + ' button');\n",
              "      quickchartButtonEl.disabled = true;  // To prevent multiple clicks.\n",
              "      quickchartButtonEl.classList.add('colab-df-spinner');\n",
              "      try {\n",
              "        const charts = await google.colab.kernel.invokeFunction(\n",
              "            'suggestCharts', [key], {});\n",
              "      } catch (error) {\n",
              "        console.error('Error during call to suggestCharts:', error);\n",
              "      }\n",
              "      quickchartButtonEl.classList.remove('colab-df-spinner');\n",
              "      quickchartButtonEl.classList.add('colab-df-quickchart-complete');\n",
              "    }\n",
              "    (() => {\n",
              "      let quickchartButtonEl =\n",
              "        document.querySelector('#df-f5288077-a633-47f7-bfeb-08c5ba6a2bb8 button');\n",
              "      quickchartButtonEl.style.display =\n",
              "        google.colab.kernel.accessAllowed ? 'block' : 'none';\n",
              "    })();\n",
              "  </script>\n",
              "</div>\n",
              "\n",
              "  <div id=\"id_732beefa-3ec1-493f-890a-f7ea93e682e8\">\n",
              "    <style>\n",
              "      .colab-df-generate {\n",
              "        background-color: #E8F0FE;\n",
              "        border: none;\n",
              "        border-radius: 50%;\n",
              "        cursor: pointer;\n",
              "        display: none;\n",
              "        fill: #1967D2;\n",
              "        height: 32px;\n",
              "        padding: 0 0 0 0;\n",
              "        width: 32px;\n",
              "      }\n",
              "\n",
              "      .colab-df-generate:hover {\n",
              "        background-color: #E2EBFA;\n",
              "        box-shadow: 0px 1px 2px rgba(60, 64, 67, 0.3), 0px 1px 3px 1px rgba(60, 64, 67, 0.15);\n",
              "        fill: #174EA6;\n",
              "      }\n",
              "\n",
              "      [theme=dark] .colab-df-generate {\n",
              "        background-color: #3B4455;\n",
              "        fill: #D2E3FC;\n",
              "      }\n",
              "\n",
              "      [theme=dark] .colab-df-generate:hover {\n",
              "        background-color: #434B5C;\n",
              "        box-shadow: 0px 1px 3px 1px rgba(0, 0, 0, 0.15);\n",
              "        filter: drop-shadow(0px 1px 2px rgba(0, 0, 0, 0.3));\n",
              "        fill: #FFFFFF;\n",
              "      }\n",
              "    </style>\n",
              "    <button class=\"colab-df-generate\" onclick=\"generateWithVariable('CT_IND')\"\n",
              "            title=\"Generate code using this dataframe.\"\n",
              "            style=\"display:none;\">\n",
              "\n",
              "  <svg xmlns=\"http://www.w3.org/2000/svg\" height=\"24px\"viewBox=\"0 0 24 24\"\n",
              "       width=\"24px\">\n",
              "    <path d=\"M7,19H8.4L18.45,9,17,7.55,7,17.6ZM5,21V16.75L18.45,3.32a2,2,0,0,1,2.83,0l1.4,1.43a1.91,1.91,0,0,1,.58,1.4,1.91,1.91,0,0,1-.58,1.4L9.25,21ZM18.45,9,17,7.55Zm-12,3A5.31,5.31,0,0,0,4.9,8.1,5.31,5.31,0,0,0,1,6.5,5.31,5.31,0,0,0,4.9,4.9,5.31,5.31,0,0,0,6.5,1,5.31,5.31,0,0,0,8.1,4.9,5.31,5.31,0,0,0,12,6.5,5.46,5.46,0,0,0,6.5,12Z\"/>\n",
              "  </svg>\n",
              "    </button>\n",
              "    <script>\n",
              "      (() => {\n",
              "      const buttonEl =\n",
              "        document.querySelector('#id_732beefa-3ec1-493f-890a-f7ea93e682e8 button.colab-df-generate');\n",
              "      buttonEl.style.display =\n",
              "        google.colab.kernel.accessAllowed ? 'block' : 'none';\n",
              "\n",
              "      buttonEl.onclick = () => {\n",
              "        google.colab.notebook.generateWithVariable('CT_IND');\n",
              "      }\n",
              "      })();\n",
              "    </script>\n",
              "  </div>\n",
              "\n",
              "    </div>\n",
              "  </div>\n"
            ]
          },
          "metadata": {},
          "execution_count": 28
        }
      ]
    },
    {
      "cell_type": "code",
      "source": [
        "VA_IND = pd.DataFrame((Va_by_ind*100).round(1), columns = ['수도권', '동부권', '서부권'],\n",
        "                     index=['농산품', '공산품', '서비스']) # 변수명 붙여서 pandas로 내보내기\n",
        "VA_IND"
      ],
      "metadata": {
        "id": "K_KlmLsYLiui",
        "outputId": "0749f1f9-3a8b-4c7c-82c2-09c391e2f3d0",
        "colab": {
          "base_uri": "https://localhost:8080/",
          "height": 143
        }
      },
      "execution_count": 29,
      "outputs": [
        {
          "output_type": "execute_result",
          "data": {
            "text/plain": [
              "      수도권   동부권   서부권\n",
              "농산품   9.4  40.6  50.0\n",
              "공산품  37.0  34.7  28.3\n",
              "서비스  57.9  23.7  18.4"
            ],
            "text/html": [
              "\n",
              "  <div id=\"df-d9f3b2f7-4213-4322-a85e-0ae2927e4249\" class=\"colab-df-container\">\n",
              "    <div>\n",
              "<style scoped>\n",
              "    .dataframe tbody tr th:only-of-type {\n",
              "        vertical-align: middle;\n",
              "    }\n",
              "\n",
              "    .dataframe tbody tr th {\n",
              "        vertical-align: top;\n",
              "    }\n",
              "\n",
              "    .dataframe thead th {\n",
              "        text-align: right;\n",
              "    }\n",
              "</style>\n",
              "<table border=\"1\" class=\"dataframe\">\n",
              "  <thead>\n",
              "    <tr style=\"text-align: right;\">\n",
              "      <th></th>\n",
              "      <th>수도권</th>\n",
              "      <th>동부권</th>\n",
              "      <th>서부권</th>\n",
              "    </tr>\n",
              "  </thead>\n",
              "  <tbody>\n",
              "    <tr>\n",
              "      <th>농산품</th>\n",
              "      <td>9.4</td>\n",
              "      <td>40.6</td>\n",
              "      <td>50.0</td>\n",
              "    </tr>\n",
              "    <tr>\n",
              "      <th>공산품</th>\n",
              "      <td>37.0</td>\n",
              "      <td>34.7</td>\n",
              "      <td>28.3</td>\n",
              "    </tr>\n",
              "    <tr>\n",
              "      <th>서비스</th>\n",
              "      <td>57.9</td>\n",
              "      <td>23.7</td>\n",
              "      <td>18.4</td>\n",
              "    </tr>\n",
              "  </tbody>\n",
              "</table>\n",
              "</div>\n",
              "    <div class=\"colab-df-buttons\">\n",
              "\n",
              "  <div class=\"colab-df-container\">\n",
              "    <button class=\"colab-df-convert\" onclick=\"convertToInteractive('df-d9f3b2f7-4213-4322-a85e-0ae2927e4249')\"\n",
              "            title=\"Convert this dataframe to an interactive table.\"\n",
              "            style=\"display:none;\">\n",
              "\n",
              "  <svg xmlns=\"http://www.w3.org/2000/svg\" height=\"24px\" viewBox=\"0 -960 960 960\">\n",
              "    <path d=\"M120-120v-720h720v720H120Zm60-500h600v-160H180v160Zm220 220h160v-160H400v160Zm0 220h160v-160H400v160ZM180-400h160v-160H180v160Zm440 0h160v-160H620v160ZM180-180h160v-160H180v160Zm440 0h160v-160H620v160Z\"/>\n",
              "  </svg>\n",
              "    </button>\n",
              "\n",
              "  <style>\n",
              "    .colab-df-container {\n",
              "      display:flex;\n",
              "      gap: 12px;\n",
              "    }\n",
              "\n",
              "    .colab-df-convert {\n",
              "      background-color: #E8F0FE;\n",
              "      border: none;\n",
              "      border-radius: 50%;\n",
              "      cursor: pointer;\n",
              "      display: none;\n",
              "      fill: #1967D2;\n",
              "      height: 32px;\n",
              "      padding: 0 0 0 0;\n",
              "      width: 32px;\n",
              "    }\n",
              "\n",
              "    .colab-df-convert:hover {\n",
              "      background-color: #E2EBFA;\n",
              "      box-shadow: 0px 1px 2px rgba(60, 64, 67, 0.3), 0px 1px 3px 1px rgba(60, 64, 67, 0.15);\n",
              "      fill: #174EA6;\n",
              "    }\n",
              "\n",
              "    .colab-df-buttons div {\n",
              "      margin-bottom: 4px;\n",
              "    }\n",
              "\n",
              "    [theme=dark] .colab-df-convert {\n",
              "      background-color: #3B4455;\n",
              "      fill: #D2E3FC;\n",
              "    }\n",
              "\n",
              "    [theme=dark] .colab-df-convert:hover {\n",
              "      background-color: #434B5C;\n",
              "      box-shadow: 0px 1px 3px 1px rgba(0, 0, 0, 0.15);\n",
              "      filter: drop-shadow(0px 1px 2px rgba(0, 0, 0, 0.3));\n",
              "      fill: #FFFFFF;\n",
              "    }\n",
              "  </style>\n",
              "\n",
              "    <script>\n",
              "      const buttonEl =\n",
              "        document.querySelector('#df-d9f3b2f7-4213-4322-a85e-0ae2927e4249 button.colab-df-convert');\n",
              "      buttonEl.style.display =\n",
              "        google.colab.kernel.accessAllowed ? 'block' : 'none';\n",
              "\n",
              "      async function convertToInteractive(key) {\n",
              "        const element = document.querySelector('#df-d9f3b2f7-4213-4322-a85e-0ae2927e4249');\n",
              "        const dataTable =\n",
              "          await google.colab.kernel.invokeFunction('convertToInteractive',\n",
              "                                                    [key], {});\n",
              "        if (!dataTable) return;\n",
              "\n",
              "        const docLinkHtml = 'Like what you see? Visit the ' +\n",
              "          '<a target=\"_blank\" href=https://colab.research.google.com/notebooks/data_table.ipynb>data table notebook</a>'\n",
              "          + ' to learn more about interactive tables.';\n",
              "        element.innerHTML = '';\n",
              "        dataTable['output_type'] = 'display_data';\n",
              "        await google.colab.output.renderOutput(dataTable, element);\n",
              "        const docLink = document.createElement('div');\n",
              "        docLink.innerHTML = docLinkHtml;\n",
              "        element.appendChild(docLink);\n",
              "      }\n",
              "    </script>\n",
              "  </div>\n",
              "\n",
              "\n",
              "<div id=\"df-d3512dd9-cb40-465b-999e-5503f6c886a4\">\n",
              "  <button class=\"colab-df-quickchart\" onclick=\"quickchart('df-d3512dd9-cb40-465b-999e-5503f6c886a4')\"\n",
              "            title=\"Suggest charts\"\n",
              "            style=\"display:none;\">\n",
              "\n",
              "<svg xmlns=\"http://www.w3.org/2000/svg\" height=\"24px\"viewBox=\"0 0 24 24\"\n",
              "     width=\"24px\">\n",
              "    <g>\n",
              "        <path d=\"M19 3H5c-1.1 0-2 .9-2 2v14c0 1.1.9 2 2 2h14c1.1 0 2-.9 2-2V5c0-1.1-.9-2-2-2zM9 17H7v-7h2v7zm4 0h-2V7h2v10zm4 0h-2v-4h2v4z\"/>\n",
              "    </g>\n",
              "</svg>\n",
              "  </button>\n",
              "\n",
              "<style>\n",
              "  .colab-df-quickchart {\n",
              "      --bg-color: #E8F0FE;\n",
              "      --fill-color: #1967D2;\n",
              "      --hover-bg-color: #E2EBFA;\n",
              "      --hover-fill-color: #174EA6;\n",
              "      --disabled-fill-color: #AAA;\n",
              "      --disabled-bg-color: #DDD;\n",
              "  }\n",
              "\n",
              "  [theme=dark] .colab-df-quickchart {\n",
              "      --bg-color: #3B4455;\n",
              "      --fill-color: #D2E3FC;\n",
              "      --hover-bg-color: #434B5C;\n",
              "      --hover-fill-color: #FFFFFF;\n",
              "      --disabled-bg-color: #3B4455;\n",
              "      --disabled-fill-color: #666;\n",
              "  }\n",
              "\n",
              "  .colab-df-quickchart {\n",
              "    background-color: var(--bg-color);\n",
              "    border: none;\n",
              "    border-radius: 50%;\n",
              "    cursor: pointer;\n",
              "    display: none;\n",
              "    fill: var(--fill-color);\n",
              "    height: 32px;\n",
              "    padding: 0;\n",
              "    width: 32px;\n",
              "  }\n",
              "\n",
              "  .colab-df-quickchart:hover {\n",
              "    background-color: var(--hover-bg-color);\n",
              "    box-shadow: 0 1px 2px rgba(60, 64, 67, 0.3), 0 1px 3px 1px rgba(60, 64, 67, 0.15);\n",
              "    fill: var(--button-hover-fill-color);\n",
              "  }\n",
              "\n",
              "  .colab-df-quickchart-complete:disabled,\n",
              "  .colab-df-quickchart-complete:disabled:hover {\n",
              "    background-color: var(--disabled-bg-color);\n",
              "    fill: var(--disabled-fill-color);\n",
              "    box-shadow: none;\n",
              "  }\n",
              "\n",
              "  .colab-df-spinner {\n",
              "    border: 2px solid var(--fill-color);\n",
              "    border-color: transparent;\n",
              "    border-bottom-color: var(--fill-color);\n",
              "    animation:\n",
              "      spin 1s steps(1) infinite;\n",
              "  }\n",
              "\n",
              "  @keyframes spin {\n",
              "    0% {\n",
              "      border-color: transparent;\n",
              "      border-bottom-color: var(--fill-color);\n",
              "      border-left-color: var(--fill-color);\n",
              "    }\n",
              "    20% {\n",
              "      border-color: transparent;\n",
              "      border-left-color: var(--fill-color);\n",
              "      border-top-color: var(--fill-color);\n",
              "    }\n",
              "    30% {\n",
              "      border-color: transparent;\n",
              "      border-left-color: var(--fill-color);\n",
              "      border-top-color: var(--fill-color);\n",
              "      border-right-color: var(--fill-color);\n",
              "    }\n",
              "    40% {\n",
              "      border-color: transparent;\n",
              "      border-right-color: var(--fill-color);\n",
              "      border-top-color: var(--fill-color);\n",
              "    }\n",
              "    60% {\n",
              "      border-color: transparent;\n",
              "      border-right-color: var(--fill-color);\n",
              "    }\n",
              "    80% {\n",
              "      border-color: transparent;\n",
              "      border-right-color: var(--fill-color);\n",
              "      border-bottom-color: var(--fill-color);\n",
              "    }\n",
              "    90% {\n",
              "      border-color: transparent;\n",
              "      border-bottom-color: var(--fill-color);\n",
              "    }\n",
              "  }\n",
              "</style>\n",
              "\n",
              "  <script>\n",
              "    async function quickchart(key) {\n",
              "      const quickchartButtonEl =\n",
              "        document.querySelector('#' + key + ' button');\n",
              "      quickchartButtonEl.disabled = true;  // To prevent multiple clicks.\n",
              "      quickchartButtonEl.classList.add('colab-df-spinner');\n",
              "      try {\n",
              "        const charts = await google.colab.kernel.invokeFunction(\n",
              "            'suggestCharts', [key], {});\n",
              "      } catch (error) {\n",
              "        console.error('Error during call to suggestCharts:', error);\n",
              "      }\n",
              "      quickchartButtonEl.classList.remove('colab-df-spinner');\n",
              "      quickchartButtonEl.classList.add('colab-df-quickchart-complete');\n",
              "    }\n",
              "    (() => {\n",
              "      let quickchartButtonEl =\n",
              "        document.querySelector('#df-d3512dd9-cb40-465b-999e-5503f6c886a4 button');\n",
              "      quickchartButtonEl.style.display =\n",
              "        google.colab.kernel.accessAllowed ? 'block' : 'none';\n",
              "    })();\n",
              "  </script>\n",
              "</div>\n",
              "\n",
              "  <div id=\"id_adc5212f-1900-47d4-aba1-d0c4f1549134\">\n",
              "    <style>\n",
              "      .colab-df-generate {\n",
              "        background-color: #E8F0FE;\n",
              "        border: none;\n",
              "        border-radius: 50%;\n",
              "        cursor: pointer;\n",
              "        display: none;\n",
              "        fill: #1967D2;\n",
              "        height: 32px;\n",
              "        padding: 0 0 0 0;\n",
              "        width: 32px;\n",
              "      }\n",
              "\n",
              "      .colab-df-generate:hover {\n",
              "        background-color: #E2EBFA;\n",
              "        box-shadow: 0px 1px 2px rgba(60, 64, 67, 0.3), 0px 1px 3px 1px rgba(60, 64, 67, 0.15);\n",
              "        fill: #174EA6;\n",
              "      }\n",
              "\n",
              "      [theme=dark] .colab-df-generate {\n",
              "        background-color: #3B4455;\n",
              "        fill: #D2E3FC;\n",
              "      }\n",
              "\n",
              "      [theme=dark] .colab-df-generate:hover {\n",
              "        background-color: #434B5C;\n",
              "        box-shadow: 0px 1px 3px 1px rgba(0, 0, 0, 0.15);\n",
              "        filter: drop-shadow(0px 1px 2px rgba(0, 0, 0, 0.3));\n",
              "        fill: #FFFFFF;\n",
              "      }\n",
              "    </style>\n",
              "    <button class=\"colab-df-generate\" onclick=\"generateWithVariable('VA_IND')\"\n",
              "            title=\"Generate code using this dataframe.\"\n",
              "            style=\"display:none;\">\n",
              "\n",
              "  <svg xmlns=\"http://www.w3.org/2000/svg\" height=\"24px\"viewBox=\"0 0 24 24\"\n",
              "       width=\"24px\">\n",
              "    <path d=\"M7,19H8.4L18.45,9,17,7.55,7,17.6ZM5,21V16.75L18.45,3.32a2,2,0,0,1,2.83,0l1.4,1.43a1.91,1.91,0,0,1,.58,1.4,1.91,1.91,0,0,1-.58,1.4L9.25,21ZM18.45,9,17,7.55Zm-12,3A5.31,5.31,0,0,0,4.9,8.1,5.31,5.31,0,0,0,1,6.5,5.31,5.31,0,0,0,4.9,4.9,5.31,5.31,0,0,0,6.5,1,5.31,5.31,0,0,0,8.1,4.9,5.31,5.31,0,0,0,12,6.5,5.46,5.46,0,0,0,6.5,12Z\"/>\n",
              "  </svg>\n",
              "    </button>\n",
              "    <script>\n",
              "      (() => {\n",
              "      const buttonEl =\n",
              "        document.querySelector('#id_adc5212f-1900-47d4-aba1-d0c4f1549134 button.colab-df-generate');\n",
              "      buttonEl.style.display =\n",
              "        google.colab.kernel.accessAllowed ? 'block' : 'none';\n",
              "\n",
              "      buttonEl.onclick = () => {\n",
              "        google.colab.notebook.generateWithVariable('VA_IND');\n",
              "      }\n",
              "      })();\n",
              "    </script>\n",
              "  </div>\n",
              "\n",
              "    </div>\n",
              "  </div>\n"
            ]
          },
          "metadata": {},
          "execution_count": 29
        }
      ]
    },
    {
      "cell_type": "code",
      "source": [
        "# csv 파일로 내보내기\n",
        "VA_IND.to_csv('부가가치_산업별_지역별_비중.csv', encoding='utf_8-sig')\n",
        "CT_IND.to_csv('산출액_산업별_지역별_비중.csv', encoding='utf_8-sig')"
      ],
      "metadata": {
        "id": "omzexxO5Liw2"
      },
      "execution_count": 30,
      "outputs": []
    },
    {
      "cell_type": "markdown",
      "source": [
        "### 산업별 집중계수"
      ],
      "metadata": {
        "id": "WI23xD0dLy9z"
      }
    },
    {
      "cell_type": "code",
      "source": [
        "Wgt_rg = Str_rg[-1,:3].reshape([1,3])   # str_rg는 지역별 총산출액 및 총부가가치의 금액과 비중(수도권, 동부권, 서부권)\n",
        "Wgt_rg"
      ],
      "metadata": {
        "id": "6Sbvx8xPLizc",
        "outputId": "b4e0ee07-3915-4ff7-acc6-3c3eacce7d31",
        "colab": {
          "base_uri": "https://localhost:8080/"
        }
      },
      "execution_count": 31,
      "outputs": [
        {
          "output_type": "execute_result",
          "data": {
            "text/plain": [
              "array([[0.46776299, 0.29757244, 0.23466458]])"
            ]
          },
          "metadata": {},
          "execution_count": 31
        }
      ]
    },
    {
      "cell_type": "code",
      "source": [
        "Arg_concst = (abs(Wgt_rg[:,0]-Ct_by_ind[0,0])+abs(Wgt_rg[:,1]-Ct_by_ind[0,1])+abs(Wgt_rg[:,2]-Ct_by_ind[0,2]))/2  # 농산품\n",
        "Manu_concst = (abs(Wgt_rg[:,0]-Ct_by_ind[1,0])+abs(Wgt_rg[:,1]-Ct_by_ind[1,1])+abs(Wgt_rg[:,2]-Ct_by_ind[1,2]))/2  # 공산품\n",
        "Serv_concst = (abs(Wgt_rg[:,0]-Ct_by_ind[2,0])+abs(Wgt_rg[:,1]-Ct_by_ind[2,1])+abs(Wgt_rg[:,2]-Ct_by_ind[2,2]))/2  # 서비스"
      ],
      "metadata": {
        "id": "hXdglwPYW2ia"
      },
      "execution_count": 32,
      "outputs": []
    },
    {
      "cell_type": "code",
      "source": [
        "All_concst = np.vstack((Arg_concst, Manu_concst, Serv_concst))  # 집중계수\n",
        "print(All_concst.round(3))"
      ],
      "metadata": {
        "id": "pqZ9Pxu5W2lN",
        "outputId": "d3a5c0bd-b45a-4e4a-ef4e-6ab86b49c02b",
        "colab": {
          "base_uri": "https://localhost:8080/"
        }
      },
      "execution_count": 33,
      "outputs": [
        {
          "output_type": "stream",
          "name": "stdout",
          "text": [
            "[[0.364]\n",
            " [0.128]\n",
            " [0.116]]\n"
          ]
        }
      ]
    },
    {
      "cell_type": "code",
      "source": [
        "All_concst_df = pd.DataFrame(All_concst.round(3), columns = ['집중계수'],\n",
        "                     index=['농산품', '공산품', '서비스']) # 변수명 붙여서 pandas로 내보내기\n",
        "All_concst_df"
      ],
      "metadata": {
        "id": "5y8vOxVXL1Yq",
        "outputId": "bc2df65d-f10b-4769-d662-dd4b598ae7de",
        "colab": {
          "base_uri": "https://localhost:8080/",
          "height": 143
        }
      },
      "execution_count": 34,
      "outputs": [
        {
          "output_type": "execute_result",
          "data": {
            "text/plain": [
              "      집중계수\n",
              "농산품  0.364\n",
              "공산품  0.128\n",
              "서비스  0.116"
            ],
            "text/html": [
              "\n",
              "  <div id=\"df-3fd9bf52-3c1d-499c-9639-6ca01bb24fa7\" class=\"colab-df-container\">\n",
              "    <div>\n",
              "<style scoped>\n",
              "    .dataframe tbody tr th:only-of-type {\n",
              "        vertical-align: middle;\n",
              "    }\n",
              "\n",
              "    .dataframe tbody tr th {\n",
              "        vertical-align: top;\n",
              "    }\n",
              "\n",
              "    .dataframe thead th {\n",
              "        text-align: right;\n",
              "    }\n",
              "</style>\n",
              "<table border=\"1\" class=\"dataframe\">\n",
              "  <thead>\n",
              "    <tr style=\"text-align: right;\">\n",
              "      <th></th>\n",
              "      <th>집중계수</th>\n",
              "    </tr>\n",
              "  </thead>\n",
              "  <tbody>\n",
              "    <tr>\n",
              "      <th>농산품</th>\n",
              "      <td>0.364</td>\n",
              "    </tr>\n",
              "    <tr>\n",
              "      <th>공산품</th>\n",
              "      <td>0.128</td>\n",
              "    </tr>\n",
              "    <tr>\n",
              "      <th>서비스</th>\n",
              "      <td>0.116</td>\n",
              "    </tr>\n",
              "  </tbody>\n",
              "</table>\n",
              "</div>\n",
              "    <div class=\"colab-df-buttons\">\n",
              "\n",
              "  <div class=\"colab-df-container\">\n",
              "    <button class=\"colab-df-convert\" onclick=\"convertToInteractive('df-3fd9bf52-3c1d-499c-9639-6ca01bb24fa7')\"\n",
              "            title=\"Convert this dataframe to an interactive table.\"\n",
              "            style=\"display:none;\">\n",
              "\n",
              "  <svg xmlns=\"http://www.w3.org/2000/svg\" height=\"24px\" viewBox=\"0 -960 960 960\">\n",
              "    <path d=\"M120-120v-720h720v720H120Zm60-500h600v-160H180v160Zm220 220h160v-160H400v160Zm0 220h160v-160H400v160ZM180-400h160v-160H180v160Zm440 0h160v-160H620v160ZM180-180h160v-160H180v160Zm440 0h160v-160H620v160Z\"/>\n",
              "  </svg>\n",
              "    </button>\n",
              "\n",
              "  <style>\n",
              "    .colab-df-container {\n",
              "      display:flex;\n",
              "      gap: 12px;\n",
              "    }\n",
              "\n",
              "    .colab-df-convert {\n",
              "      background-color: #E8F0FE;\n",
              "      border: none;\n",
              "      border-radius: 50%;\n",
              "      cursor: pointer;\n",
              "      display: none;\n",
              "      fill: #1967D2;\n",
              "      height: 32px;\n",
              "      padding: 0 0 0 0;\n",
              "      width: 32px;\n",
              "    }\n",
              "\n",
              "    .colab-df-convert:hover {\n",
              "      background-color: #E2EBFA;\n",
              "      box-shadow: 0px 1px 2px rgba(60, 64, 67, 0.3), 0px 1px 3px 1px rgba(60, 64, 67, 0.15);\n",
              "      fill: #174EA6;\n",
              "    }\n",
              "\n",
              "    .colab-df-buttons div {\n",
              "      margin-bottom: 4px;\n",
              "    }\n",
              "\n",
              "    [theme=dark] .colab-df-convert {\n",
              "      background-color: #3B4455;\n",
              "      fill: #D2E3FC;\n",
              "    }\n",
              "\n",
              "    [theme=dark] .colab-df-convert:hover {\n",
              "      background-color: #434B5C;\n",
              "      box-shadow: 0px 1px 3px 1px rgba(0, 0, 0, 0.15);\n",
              "      filter: drop-shadow(0px 1px 2px rgba(0, 0, 0, 0.3));\n",
              "      fill: #FFFFFF;\n",
              "    }\n",
              "  </style>\n",
              "\n",
              "    <script>\n",
              "      const buttonEl =\n",
              "        document.querySelector('#df-3fd9bf52-3c1d-499c-9639-6ca01bb24fa7 button.colab-df-convert');\n",
              "      buttonEl.style.display =\n",
              "        google.colab.kernel.accessAllowed ? 'block' : 'none';\n",
              "\n",
              "      async function convertToInteractive(key) {\n",
              "        const element = document.querySelector('#df-3fd9bf52-3c1d-499c-9639-6ca01bb24fa7');\n",
              "        const dataTable =\n",
              "          await google.colab.kernel.invokeFunction('convertToInteractive',\n",
              "                                                    [key], {});\n",
              "        if (!dataTable) return;\n",
              "\n",
              "        const docLinkHtml = 'Like what you see? Visit the ' +\n",
              "          '<a target=\"_blank\" href=https://colab.research.google.com/notebooks/data_table.ipynb>data table notebook</a>'\n",
              "          + ' to learn more about interactive tables.';\n",
              "        element.innerHTML = '';\n",
              "        dataTable['output_type'] = 'display_data';\n",
              "        await google.colab.output.renderOutput(dataTable, element);\n",
              "        const docLink = document.createElement('div');\n",
              "        docLink.innerHTML = docLinkHtml;\n",
              "        element.appendChild(docLink);\n",
              "      }\n",
              "    </script>\n",
              "  </div>\n",
              "\n",
              "\n",
              "<div id=\"df-9faca198-2d0c-44d5-ae2c-4d9f8e4f103c\">\n",
              "  <button class=\"colab-df-quickchart\" onclick=\"quickchart('df-9faca198-2d0c-44d5-ae2c-4d9f8e4f103c')\"\n",
              "            title=\"Suggest charts\"\n",
              "            style=\"display:none;\">\n",
              "\n",
              "<svg xmlns=\"http://www.w3.org/2000/svg\" height=\"24px\"viewBox=\"0 0 24 24\"\n",
              "     width=\"24px\">\n",
              "    <g>\n",
              "        <path d=\"M19 3H5c-1.1 0-2 .9-2 2v14c0 1.1.9 2 2 2h14c1.1 0 2-.9 2-2V5c0-1.1-.9-2-2-2zM9 17H7v-7h2v7zm4 0h-2V7h2v10zm4 0h-2v-4h2v4z\"/>\n",
              "    </g>\n",
              "</svg>\n",
              "  </button>\n",
              "\n",
              "<style>\n",
              "  .colab-df-quickchart {\n",
              "      --bg-color: #E8F0FE;\n",
              "      --fill-color: #1967D2;\n",
              "      --hover-bg-color: #E2EBFA;\n",
              "      --hover-fill-color: #174EA6;\n",
              "      --disabled-fill-color: #AAA;\n",
              "      --disabled-bg-color: #DDD;\n",
              "  }\n",
              "\n",
              "  [theme=dark] .colab-df-quickchart {\n",
              "      --bg-color: #3B4455;\n",
              "      --fill-color: #D2E3FC;\n",
              "      --hover-bg-color: #434B5C;\n",
              "      --hover-fill-color: #FFFFFF;\n",
              "      --disabled-bg-color: #3B4455;\n",
              "      --disabled-fill-color: #666;\n",
              "  }\n",
              "\n",
              "  .colab-df-quickchart {\n",
              "    background-color: var(--bg-color);\n",
              "    border: none;\n",
              "    border-radius: 50%;\n",
              "    cursor: pointer;\n",
              "    display: none;\n",
              "    fill: var(--fill-color);\n",
              "    height: 32px;\n",
              "    padding: 0;\n",
              "    width: 32px;\n",
              "  }\n",
              "\n",
              "  .colab-df-quickchart:hover {\n",
              "    background-color: var(--hover-bg-color);\n",
              "    box-shadow: 0 1px 2px rgba(60, 64, 67, 0.3), 0 1px 3px 1px rgba(60, 64, 67, 0.15);\n",
              "    fill: var(--button-hover-fill-color);\n",
              "  }\n",
              "\n",
              "  .colab-df-quickchart-complete:disabled,\n",
              "  .colab-df-quickchart-complete:disabled:hover {\n",
              "    background-color: var(--disabled-bg-color);\n",
              "    fill: var(--disabled-fill-color);\n",
              "    box-shadow: none;\n",
              "  }\n",
              "\n",
              "  .colab-df-spinner {\n",
              "    border: 2px solid var(--fill-color);\n",
              "    border-color: transparent;\n",
              "    border-bottom-color: var(--fill-color);\n",
              "    animation:\n",
              "      spin 1s steps(1) infinite;\n",
              "  }\n",
              "\n",
              "  @keyframes spin {\n",
              "    0% {\n",
              "      border-color: transparent;\n",
              "      border-bottom-color: var(--fill-color);\n",
              "      border-left-color: var(--fill-color);\n",
              "    }\n",
              "    20% {\n",
              "      border-color: transparent;\n",
              "      border-left-color: var(--fill-color);\n",
              "      border-top-color: var(--fill-color);\n",
              "    }\n",
              "    30% {\n",
              "      border-color: transparent;\n",
              "      border-left-color: var(--fill-color);\n",
              "      border-top-color: var(--fill-color);\n",
              "      border-right-color: var(--fill-color);\n",
              "    }\n",
              "    40% {\n",
              "      border-color: transparent;\n",
              "      border-right-color: var(--fill-color);\n",
              "      border-top-color: var(--fill-color);\n",
              "    }\n",
              "    60% {\n",
              "      border-color: transparent;\n",
              "      border-right-color: var(--fill-color);\n",
              "    }\n",
              "    80% {\n",
              "      border-color: transparent;\n",
              "      border-right-color: var(--fill-color);\n",
              "      border-bottom-color: var(--fill-color);\n",
              "    }\n",
              "    90% {\n",
              "      border-color: transparent;\n",
              "      border-bottom-color: var(--fill-color);\n",
              "    }\n",
              "  }\n",
              "</style>\n",
              "\n",
              "  <script>\n",
              "    async function quickchart(key) {\n",
              "      const quickchartButtonEl =\n",
              "        document.querySelector('#' + key + ' button');\n",
              "      quickchartButtonEl.disabled = true;  // To prevent multiple clicks.\n",
              "      quickchartButtonEl.classList.add('colab-df-spinner');\n",
              "      try {\n",
              "        const charts = await google.colab.kernel.invokeFunction(\n",
              "            'suggestCharts', [key], {});\n",
              "      } catch (error) {\n",
              "        console.error('Error during call to suggestCharts:', error);\n",
              "      }\n",
              "      quickchartButtonEl.classList.remove('colab-df-spinner');\n",
              "      quickchartButtonEl.classList.add('colab-df-quickchart-complete');\n",
              "    }\n",
              "    (() => {\n",
              "      let quickchartButtonEl =\n",
              "        document.querySelector('#df-9faca198-2d0c-44d5-ae2c-4d9f8e4f103c button');\n",
              "      quickchartButtonEl.style.display =\n",
              "        google.colab.kernel.accessAllowed ? 'block' : 'none';\n",
              "    })();\n",
              "  </script>\n",
              "</div>\n",
              "\n",
              "  <div id=\"id_2508e81d-5e31-44d3-98f4-34fd44953782\">\n",
              "    <style>\n",
              "      .colab-df-generate {\n",
              "        background-color: #E8F0FE;\n",
              "        border: none;\n",
              "        border-radius: 50%;\n",
              "        cursor: pointer;\n",
              "        display: none;\n",
              "        fill: #1967D2;\n",
              "        height: 32px;\n",
              "        padding: 0 0 0 0;\n",
              "        width: 32px;\n",
              "      }\n",
              "\n",
              "      .colab-df-generate:hover {\n",
              "        background-color: #E2EBFA;\n",
              "        box-shadow: 0px 1px 2px rgba(60, 64, 67, 0.3), 0px 1px 3px 1px rgba(60, 64, 67, 0.15);\n",
              "        fill: #174EA6;\n",
              "      }\n",
              "\n",
              "      [theme=dark] .colab-df-generate {\n",
              "        background-color: #3B4455;\n",
              "        fill: #D2E3FC;\n",
              "      }\n",
              "\n",
              "      [theme=dark] .colab-df-generate:hover {\n",
              "        background-color: #434B5C;\n",
              "        box-shadow: 0px 1px 3px 1px rgba(0, 0, 0, 0.15);\n",
              "        filter: drop-shadow(0px 1px 2px rgba(0, 0, 0, 0.3));\n",
              "        fill: #FFFFFF;\n",
              "      }\n",
              "    </style>\n",
              "    <button class=\"colab-df-generate\" onclick=\"generateWithVariable('All_concst_df')\"\n",
              "            title=\"Generate code using this dataframe.\"\n",
              "            style=\"display:none;\">\n",
              "\n",
              "  <svg xmlns=\"http://www.w3.org/2000/svg\" height=\"24px\"viewBox=\"0 0 24 24\"\n",
              "       width=\"24px\">\n",
              "    <path d=\"M7,19H8.4L18.45,9,17,7.55,7,17.6ZM5,21V16.75L18.45,3.32a2,2,0,0,1,2.83,0l1.4,1.43a1.91,1.91,0,0,1,.58,1.4,1.91,1.91,0,0,1-.58,1.4L9.25,21ZM18.45,9,17,7.55Zm-12,3A5.31,5.31,0,0,0,4.9,8.1,5.31,5.31,0,0,0,1,6.5,5.31,5.31,0,0,0,4.9,4.9,5.31,5.31,0,0,0,6.5,1,5.31,5.31,0,0,0,8.1,4.9,5.31,5.31,0,0,0,12,6.5,5.46,5.46,0,0,0,6.5,12Z\"/>\n",
              "  </svg>\n",
              "    </button>\n",
              "    <script>\n",
              "      (() => {\n",
              "      const buttonEl =\n",
              "        document.querySelector('#id_2508e81d-5e31-44d3-98f4-34fd44953782 button.colab-df-generate');\n",
              "      buttonEl.style.display =\n",
              "        google.colab.kernel.accessAllowed ? 'block' : 'none';\n",
              "\n",
              "      buttonEl.onclick = () => {\n",
              "        google.colab.notebook.generateWithVariable('All_concst_df');\n",
              "      }\n",
              "      })();\n",
              "    </script>\n",
              "  </div>\n",
              "\n",
              "    </div>\n",
              "  </div>\n"
            ]
          },
          "metadata": {},
          "execution_count": 34
        }
      ]
    },
    {
      "cell_type": "markdown",
      "source": [
        "### 지역별 투입구조"
      ],
      "metadata": {
        "id": "ZqvMBDTcSHUZ"
      }
    },
    {
      "cell_type": "code",
      "source": [
        "Dm_1 = Mt[0:9,0:9].astype(float)\n",
        "Im_1 = Mt[9:12,0:9].astype(float)\n",
        "# Dm_1 = Dt[0:4,1:10].astype(float)\n",
        "# Im_1 = It[0:4,1:10].astype(float)\n",
        "# print('총거래표 : \\n', Tt_1)    # 총거래표 확인\n",
        "print('국산거래표 : \\n', Dm_1)  # 국산거래표 확인\n",
        "print('수입거래표 : \\n', Im_1.astype(float))  # 수입거래표 확인"
      ],
      "metadata": {
        "id": "bRT4fIbML1bJ",
        "outputId": "c271d0e3-ce93-417f-a5ef-a198abebaf25",
        "colab": {
          "base_uri": "https://localhost:8080/"
        }
      },
      "execution_count": 35,
      "outputs": [
        {
          "output_type": "stream",
          "name": "stdout",
          "text": [
            "국산거래표 : \n",
            " [[  0.   3.   1.   0.   0.   0.   0.   1.   0.]\n",
            " [  2. 112.  71.   1.  36.  14.   1.  37.  13.]\n",
            " [  1.  79. 302.   1.  27.  31.   1.  28.  28.]\n",
            " [  0.   1.   2.   1.   7.   2.   0.   2.   0.]\n",
            " [  0.  43.  38.   4. 158.  40.   1.  36.  13.]\n",
            " [  0.   4.  15.   2.  59.  76.   0.   3.   4.]\n",
            " [  0.   2.   3.   0.   1.   1.   1.  12.   2.]\n",
            " [  0.  46.  40.   1.  41.  15.   6.  88.  31.]\n",
            " [  0.   3.  17.   0.   3.   3.   2.  41.  56.]]\n",
            "수입거래표 : \n",
            " [[  0.   3.   0.   0.   2.   0.   0.   3.   0.]\n",
            " [  0. 101.  41.   0. 130.  18.   1.  99.  18.]\n",
            " [  0.   6.  25.   0.   6.  13.   0.   4.   8.]]\n"
          ]
        }
      ]
    },
    {
      "cell_type": "code",
      "source": [
        "import scipy.linalg as linalg"
      ],
      "metadata": {
        "id": "EWWPsP-6SzPY"
      },
      "execution_count": 36,
      "outputs": []
    },
    {
      "cell_type": "code",
      "source": [
        "Mtx_for_int= linalg.block_diag(np.ones((3,3)),np.ones((3,3)),np.ones((3,3)))\n",
        "Mtx_for_inter=np.where(Mtx_for_int == 1, 0, 1)"
      ],
      "metadata": {
        "id": "6fXbSZrvSzSG",
        "outputId": "2e7be0c5-477e-4e1d-922d-607faae89dbd",
        "colab": {
          "base_uri": "https://localhost:8080/"
        }
      },
      "execution_count": 115,
      "outputs": [
        {
          "output_type": "execute_result",
          "data": {
            "text/plain": [
              "array([[0, 0, 0, 1, 1, 1, 1, 1, 1],\n",
              "       [0, 0, 0, 1, 1, 1, 1, 1, 1],\n",
              "       [0, 0, 0, 1, 1, 1, 1, 1, 1],\n",
              "       [1, 1, 1, 0, 0, 0, 1, 1, 1],\n",
              "       [1, 1, 1, 0, 0, 0, 1, 1, 1],\n",
              "       [1, 1, 1, 0, 0, 0, 1, 1, 1],\n",
              "       [1, 1, 1, 1, 1, 1, 0, 0, 0],\n",
              "       [1, 1, 1, 1, 1, 1, 0, 0, 0],\n",
              "       [1, 1, 1, 1, 1, 1, 0, 0, 0]])"
            ]
          },
          "metadata": {},
          "execution_count": 115
        }
      ]
    },
    {
      "cell_type": "code",
      "source": [
        "Intra_input = Mtx_for_int*Dm_1  # 지역별 투입구조중 자기지역 생산품 비중"
      ],
      "metadata": {
        "id": "arrep6gcSzUc"
      },
      "execution_count": 43,
      "outputs": []
    },
    {
      "cell_type": "code",
      "source": [
        "Inter_input = Mtx_for_inter*Dm_1  # 지역별 투입구조중 타지역 생산품 비중"
      ],
      "metadata": {
        "id": "LEvQdTjiUkl3"
      },
      "execution_count": 44,
      "outputs": []
    },
    {
      "cell_type": "code",
      "source": [
        "Intra_rg_sm = Intra_input.sum(axis=0)\n",
        "Inter_rg_sm = Inter_input.sum(axis=0)\n",
        "Imps_input =Im_1.sum(axis=0)  # 수입중간투입\n",
        "print(Intra_rg_sm)"
      ],
      "metadata": {
        "id": "fpHNaOMwUkol",
        "outputId": "30a7abfc-b620-4564-ec4e-69802ba8eab8",
        "colab": {
          "base_uri": "https://localhost:8080/"
        }
      },
      "execution_count": 47,
      "outputs": [
        {
          "output_type": "stream",
          "name": "stdout",
          "text": [
            "[  3. 194. 374.   7. 224. 118.   9. 141.  89.]\n"
          ]
        }
      ]
    },
    {
      "cell_type": "code",
      "source": [
        "print(Intra_rg_sm, '\\n')\n",
        "print(Inter_rg_sm, '\\n')\n",
        "print(Imps_input)"
      ],
      "metadata": {
        "id": "ltfRE9svYphw",
        "outputId": "de85bca0-3919-4cc0-b07a-bd5493cbfd00",
        "colab": {
          "base_uri": "https://localhost:8080/"
        }
      },
      "execution_count": 48,
      "outputs": [
        {
          "output_type": "stream",
          "name": "stdout",
          "text": [
            "[  3. 194. 374.   7. 224. 118.   9. 141.  89.] \n",
            "\n",
            "[  0.  99. 115.   3. 108.  64.   3. 107.  58.] \n",
            "\n",
            "[  0. 110.  66.   0. 138.  31.   1. 106.  26.]\n"
          ]
        }
      ]
    },
    {
      "cell_type": "code",
      "source": [
        "Inter_rg_sm = Inter_input.sum(axis=0)\n",
        "print(Inter_rg_sm)"
      ],
      "metadata": {
        "id": "dxEzNXSGUkrC",
        "outputId": "d0ec2fb5-3348-4d2e-dc4b-3165226e6df3",
        "colab": {
          "base_uri": "https://localhost:8080/"
        }
      },
      "execution_count": 52,
      "outputs": [
        {
          "output_type": "stream",
          "name": "stdout",
          "text": [
            "[  0.  99. 115.   3. 108.  64.   3. 107.  58.]\n"
          ]
        }
      ]
    },
    {
      "cell_type": "code",
      "source": [
        "Imps_input =Im_1.sum(axis=0)  # 수입중간투입\n",
        "print(Imps_input)"
      ],
      "metadata": {
        "id": "VVV4OldSL1dS",
        "outputId": "d1ea74eb-d02d-4edc-ba92-1664bd804b52",
        "colab": {
          "base_uri": "https://localhost:8080/"
        }
      },
      "execution_count": 54,
      "outputs": [
        {
          "output_type": "stream",
          "name": "stdout",
          "text": [
            "[  0. 110.  66.   0. 138.  31.   1. 106.  26.]\n"
          ]
        }
      ]
    },
    {
      "cell_type": "code",
      "source": [
        "Code = np.array([[1,1,1,0,0,0,0,0,0],  # 행렬 곱을 이용한 부문 통합을 위해 0과 1로 구성된 임시의 3x33 매트릭스\n",
        "       [0,0,0,1,1,1,0,0,0],\n",
        "       [0,0,0,0,0,0,1,1,1]])\n",
        "Code.T"
      ],
      "metadata": {
        "id": "fnrWJs-7WSP1",
        "outputId": "fc7827ae-76a1-45bf-e1e6-5853cb665f25",
        "colab": {
          "base_uri": "https://localhost:8080/"
        }
      },
      "execution_count": 55,
      "outputs": [
        {
          "output_type": "execute_result",
          "data": {
            "text/plain": [
              "array([[1, 0, 0],\n",
              "       [1, 0, 0],\n",
              "       [1, 0, 0],\n",
              "       [0, 1, 0],\n",
              "       [0, 1, 0],\n",
              "       [0, 1, 0],\n",
              "       [0, 0, 1],\n",
              "       [0, 0, 1],\n",
              "       [0, 0, 1]])"
            ]
          },
          "metadata": {},
          "execution_count": 55
        }
      ]
    },
    {
      "cell_type": "code",
      "source": [
        "Intra_tot = (Intra_rg_sm@Code.T).T  # 자기지역생산물 비중(전체산업)\n",
        "Inter_tot = (Inter_rg_sm@Code.T).T  # 타지역생산물 비중(전체산업)\n",
        "Imps_tot =  (Imps_input@Code.T).T  # 수입투입비중\n",
        "Intra_tot.shape"
      ],
      "metadata": {
        "id": "UaXkGML-WSSq",
        "outputId": "07255095-b793-4591-adf0-afa346c03625",
        "colab": {
          "base_uri": "https://localhost:8080/"
        }
      },
      "execution_count": 56,
      "outputs": [
        {
          "output_type": "execute_result",
          "data": {
            "text/plain": [
              "(3,)"
            ]
          },
          "metadata": {},
          "execution_count": 56
        }
      ]
    },
    {
      "cell_type": "code",
      "source": [
        "Input_dom = Intra_tot + Inter_tot\n",
        "Input_all = Input_dom + Imps_tot\n",
        "\n",
        "Input_tot = np.vstack((Intra_tot, Inter_tot, Input_dom,Imps_tot, Input_all)).T\n",
        "# input_tot_f = np.hstack((input_tot,input_tot.sum(axis=0).reshape([1,5])))\n",
        "Input_tot.ndim"
      ],
      "metadata": {
        "id": "ChL-ibuMWSVB",
        "outputId": "689f08e0-3c04-43ae-d715-412d23934bc7",
        "colab": {
          "base_uri": "https://localhost:8080/"
        }
      },
      "execution_count": 57,
      "outputs": [
        {
          "output_type": "execute_result",
          "data": {
            "text/plain": [
              "2"
            ]
          },
          "metadata": {},
          "execution_count": 57
        }
      ]
    },
    {
      "cell_type": "code",
      "source": [
        "Input_nation = Input_tot.sum(axis=0).reshape([1,5])\n",
        "Input_nation.ndim"
      ],
      "metadata": {
        "id": "OGTKK-7MfCoJ",
        "outputId": "df846ab7-f929-4599-abfc-ffb7cbc28630",
        "colab": {
          "base_uri": "https://localhost:8080/"
        }
      },
      "execution_count": 58,
      "outputs": [
        {
          "output_type": "execute_result",
          "data": {
            "text/plain": [
              "2"
            ]
          },
          "metadata": {},
          "execution_count": 58
        }
      ]
    },
    {
      "cell_type": "code",
      "source": [
        "Input_tem = np.vstack((Input_tot, Input_nation))\n",
        "Input_fin = np.hstack((Input_tem,Str_rg[0,:].reshape([4,1])))\n",
        "Input_fin"
      ],
      "metadata": {
        "id": "1F2qr8r6fZSm",
        "outputId": "1689ba91-aed4-4e85-f3f0-94d1b901893f",
        "colab": {
          "base_uri": "https://localhost:8080/"
        }
      },
      "execution_count": 59,
      "outputs": [
        {
          "output_type": "execute_result",
          "data": {
            "text/plain": [
              "array([[ 571.,  214.,  785.,  176.,  961.,  831.],\n",
              "       [ 349.,  175.,  524.,  169.,  693.,  447.],\n",
              "       [ 239.,  168.,  407.,  133.,  540.,  359.],\n",
              "       [1159.,  557., 1716.,  478., 2194., 1637.]])"
            ]
          },
          "metadata": {},
          "execution_count": 59
        }
      ]
    },
    {
      "cell_type": "code",
      "source": [
        "Ct_rg = Str_rg[1,:]\n",
        "Ct_rg_m = np.tile(Ct_rg, reps=[6,1]).T\n",
        "Ct_rg_m"
      ],
      "metadata": {
        "id": "vqKVH5PSg6A3",
        "outputId": "e6247dca-490f-4ab9-9e24-7d4f55efb119",
        "colab": {
          "base_uri": "https://localhost:8080/"
        }
      },
      "execution_count": 60,
      "outputs": [
        {
          "output_type": "execute_result",
          "data": {
            "text/plain": [
              "array([[1792., 1792., 1792., 1792., 1792., 1792.],\n",
              "       [1140., 1140., 1140., 1140., 1140., 1140.],\n",
              "       [ 899.,  899.,  899.,  899.,  899.,  899.],\n",
              "       [3831., 3831., 3831., 3831., 3831., 3831.]])"
            ]
          },
          "metadata": {},
          "execution_count": 60
        }
      ]
    },
    {
      "cell_type": "code",
      "source": [
        "Input_tot_wgt = Input_fin/Ct_rg_m\n",
        "print((Input_tot_wgt*100).round(1))"
      ],
      "metadata": {
        "id": "Duamb8MhiFv6",
        "outputId": "0ee6f40e-efaa-4cbc-b054-1313269238ab",
        "colab": {
          "base_uri": "https://localhost:8080/"
        }
      },
      "execution_count": 61,
      "outputs": [
        {
          "output_type": "stream",
          "name": "stdout",
          "text": [
            "[[31.9 11.9 43.8  9.8 53.6 46.4]\n",
            " [30.6 15.4 46.  14.8 60.8 39.2]\n",
            " [26.6 18.7 45.3 14.8 60.1 39.9]\n",
            " [30.3 14.5 44.8 12.5 57.3 42.7]]\n"
          ]
        }
      ]
    },
    {
      "cell_type": "code",
      "source": [
        "Input_df = pd.DataFrame((Input_tot_wgt*100).round(1), columns = ['자기지역생산품','타지역생산품','국산품','수입품','중간투입계','부가가치'],\n",
        "                     index=['수도권', '동부권', '서부권', '전지역']) # 변수명 붙여서 pandas로 내보내기\n",
        "Input_df"
      ],
      "metadata": {
        "id": "9ZRC18XhL1f2",
        "outputId": "b03d13d5-140c-4819-c69c-b7d712bf39fd",
        "colab": {
          "base_uri": "https://localhost:8080/",
          "height": 175
        }
      },
      "execution_count": 62,
      "outputs": [
        {
          "output_type": "execute_result",
          "data": {
            "text/plain": [
              "     자기지역생산품  타지역생산품   국산품   수입품  중간투입계  부가가치\n",
              "수도권     31.9    11.9  43.8   9.8   53.6  46.4\n",
              "동부권     30.6    15.4  46.0  14.8   60.8  39.2\n",
              "서부권     26.6    18.7  45.3  14.8   60.1  39.9\n",
              "전지역     30.3    14.5  44.8  12.5   57.3  42.7"
            ],
            "text/html": [
              "\n",
              "  <div id=\"df-1d697f66-59db-4bd4-b540-13d53ebf6bc0\" class=\"colab-df-container\">\n",
              "    <div>\n",
              "<style scoped>\n",
              "    .dataframe tbody tr th:only-of-type {\n",
              "        vertical-align: middle;\n",
              "    }\n",
              "\n",
              "    .dataframe tbody tr th {\n",
              "        vertical-align: top;\n",
              "    }\n",
              "\n",
              "    .dataframe thead th {\n",
              "        text-align: right;\n",
              "    }\n",
              "</style>\n",
              "<table border=\"1\" class=\"dataframe\">\n",
              "  <thead>\n",
              "    <tr style=\"text-align: right;\">\n",
              "      <th></th>\n",
              "      <th>자기지역생산품</th>\n",
              "      <th>타지역생산품</th>\n",
              "      <th>국산품</th>\n",
              "      <th>수입품</th>\n",
              "      <th>중간투입계</th>\n",
              "      <th>부가가치</th>\n",
              "    </tr>\n",
              "  </thead>\n",
              "  <tbody>\n",
              "    <tr>\n",
              "      <th>수도권</th>\n",
              "      <td>31.9</td>\n",
              "      <td>11.9</td>\n",
              "      <td>43.8</td>\n",
              "      <td>9.8</td>\n",
              "      <td>53.6</td>\n",
              "      <td>46.4</td>\n",
              "    </tr>\n",
              "    <tr>\n",
              "      <th>동부권</th>\n",
              "      <td>30.6</td>\n",
              "      <td>15.4</td>\n",
              "      <td>46.0</td>\n",
              "      <td>14.8</td>\n",
              "      <td>60.8</td>\n",
              "      <td>39.2</td>\n",
              "    </tr>\n",
              "    <tr>\n",
              "      <th>서부권</th>\n",
              "      <td>26.6</td>\n",
              "      <td>18.7</td>\n",
              "      <td>45.3</td>\n",
              "      <td>14.8</td>\n",
              "      <td>60.1</td>\n",
              "      <td>39.9</td>\n",
              "    </tr>\n",
              "    <tr>\n",
              "      <th>전지역</th>\n",
              "      <td>30.3</td>\n",
              "      <td>14.5</td>\n",
              "      <td>44.8</td>\n",
              "      <td>12.5</td>\n",
              "      <td>57.3</td>\n",
              "      <td>42.7</td>\n",
              "    </tr>\n",
              "  </tbody>\n",
              "</table>\n",
              "</div>\n",
              "    <div class=\"colab-df-buttons\">\n",
              "\n",
              "  <div class=\"colab-df-container\">\n",
              "    <button class=\"colab-df-convert\" onclick=\"convertToInteractive('df-1d697f66-59db-4bd4-b540-13d53ebf6bc0')\"\n",
              "            title=\"Convert this dataframe to an interactive table.\"\n",
              "            style=\"display:none;\">\n",
              "\n",
              "  <svg xmlns=\"http://www.w3.org/2000/svg\" height=\"24px\" viewBox=\"0 -960 960 960\">\n",
              "    <path d=\"M120-120v-720h720v720H120Zm60-500h600v-160H180v160Zm220 220h160v-160H400v160Zm0 220h160v-160H400v160ZM180-400h160v-160H180v160Zm440 0h160v-160H620v160ZM180-180h160v-160H180v160Zm440 0h160v-160H620v160Z\"/>\n",
              "  </svg>\n",
              "    </button>\n",
              "\n",
              "  <style>\n",
              "    .colab-df-container {\n",
              "      display:flex;\n",
              "      gap: 12px;\n",
              "    }\n",
              "\n",
              "    .colab-df-convert {\n",
              "      background-color: #E8F0FE;\n",
              "      border: none;\n",
              "      border-radius: 50%;\n",
              "      cursor: pointer;\n",
              "      display: none;\n",
              "      fill: #1967D2;\n",
              "      height: 32px;\n",
              "      padding: 0 0 0 0;\n",
              "      width: 32px;\n",
              "    }\n",
              "\n",
              "    .colab-df-convert:hover {\n",
              "      background-color: #E2EBFA;\n",
              "      box-shadow: 0px 1px 2px rgba(60, 64, 67, 0.3), 0px 1px 3px 1px rgba(60, 64, 67, 0.15);\n",
              "      fill: #174EA6;\n",
              "    }\n",
              "\n",
              "    .colab-df-buttons div {\n",
              "      margin-bottom: 4px;\n",
              "    }\n",
              "\n",
              "    [theme=dark] .colab-df-convert {\n",
              "      background-color: #3B4455;\n",
              "      fill: #D2E3FC;\n",
              "    }\n",
              "\n",
              "    [theme=dark] .colab-df-convert:hover {\n",
              "      background-color: #434B5C;\n",
              "      box-shadow: 0px 1px 3px 1px rgba(0, 0, 0, 0.15);\n",
              "      filter: drop-shadow(0px 1px 2px rgba(0, 0, 0, 0.3));\n",
              "      fill: #FFFFFF;\n",
              "    }\n",
              "  </style>\n",
              "\n",
              "    <script>\n",
              "      const buttonEl =\n",
              "        document.querySelector('#df-1d697f66-59db-4bd4-b540-13d53ebf6bc0 button.colab-df-convert');\n",
              "      buttonEl.style.display =\n",
              "        google.colab.kernel.accessAllowed ? 'block' : 'none';\n",
              "\n",
              "      async function convertToInteractive(key) {\n",
              "        const element = document.querySelector('#df-1d697f66-59db-4bd4-b540-13d53ebf6bc0');\n",
              "        const dataTable =\n",
              "          await google.colab.kernel.invokeFunction('convertToInteractive',\n",
              "                                                    [key], {});\n",
              "        if (!dataTable) return;\n",
              "\n",
              "        const docLinkHtml = 'Like what you see? Visit the ' +\n",
              "          '<a target=\"_blank\" href=https://colab.research.google.com/notebooks/data_table.ipynb>data table notebook</a>'\n",
              "          + ' to learn more about interactive tables.';\n",
              "        element.innerHTML = '';\n",
              "        dataTable['output_type'] = 'display_data';\n",
              "        await google.colab.output.renderOutput(dataTable, element);\n",
              "        const docLink = document.createElement('div');\n",
              "        docLink.innerHTML = docLinkHtml;\n",
              "        element.appendChild(docLink);\n",
              "      }\n",
              "    </script>\n",
              "  </div>\n",
              "\n",
              "\n",
              "<div id=\"df-f255b1ab-16ce-49b1-899a-4cd108eac795\">\n",
              "  <button class=\"colab-df-quickchart\" onclick=\"quickchart('df-f255b1ab-16ce-49b1-899a-4cd108eac795')\"\n",
              "            title=\"Suggest charts\"\n",
              "            style=\"display:none;\">\n",
              "\n",
              "<svg xmlns=\"http://www.w3.org/2000/svg\" height=\"24px\"viewBox=\"0 0 24 24\"\n",
              "     width=\"24px\">\n",
              "    <g>\n",
              "        <path d=\"M19 3H5c-1.1 0-2 .9-2 2v14c0 1.1.9 2 2 2h14c1.1 0 2-.9 2-2V5c0-1.1-.9-2-2-2zM9 17H7v-7h2v7zm4 0h-2V7h2v10zm4 0h-2v-4h2v4z\"/>\n",
              "    </g>\n",
              "</svg>\n",
              "  </button>\n",
              "\n",
              "<style>\n",
              "  .colab-df-quickchart {\n",
              "      --bg-color: #E8F0FE;\n",
              "      --fill-color: #1967D2;\n",
              "      --hover-bg-color: #E2EBFA;\n",
              "      --hover-fill-color: #174EA6;\n",
              "      --disabled-fill-color: #AAA;\n",
              "      --disabled-bg-color: #DDD;\n",
              "  }\n",
              "\n",
              "  [theme=dark] .colab-df-quickchart {\n",
              "      --bg-color: #3B4455;\n",
              "      --fill-color: #D2E3FC;\n",
              "      --hover-bg-color: #434B5C;\n",
              "      --hover-fill-color: #FFFFFF;\n",
              "      --disabled-bg-color: #3B4455;\n",
              "      --disabled-fill-color: #666;\n",
              "  }\n",
              "\n",
              "  .colab-df-quickchart {\n",
              "    background-color: var(--bg-color);\n",
              "    border: none;\n",
              "    border-radius: 50%;\n",
              "    cursor: pointer;\n",
              "    display: none;\n",
              "    fill: var(--fill-color);\n",
              "    height: 32px;\n",
              "    padding: 0;\n",
              "    width: 32px;\n",
              "  }\n",
              "\n",
              "  .colab-df-quickchart:hover {\n",
              "    background-color: var(--hover-bg-color);\n",
              "    box-shadow: 0 1px 2px rgba(60, 64, 67, 0.3), 0 1px 3px 1px rgba(60, 64, 67, 0.15);\n",
              "    fill: var(--button-hover-fill-color);\n",
              "  }\n",
              "\n",
              "  .colab-df-quickchart-complete:disabled,\n",
              "  .colab-df-quickchart-complete:disabled:hover {\n",
              "    background-color: var(--disabled-bg-color);\n",
              "    fill: var(--disabled-fill-color);\n",
              "    box-shadow: none;\n",
              "  }\n",
              "\n",
              "  .colab-df-spinner {\n",
              "    border: 2px solid var(--fill-color);\n",
              "    border-color: transparent;\n",
              "    border-bottom-color: var(--fill-color);\n",
              "    animation:\n",
              "      spin 1s steps(1) infinite;\n",
              "  }\n",
              "\n",
              "  @keyframes spin {\n",
              "    0% {\n",
              "      border-color: transparent;\n",
              "      border-bottom-color: var(--fill-color);\n",
              "      border-left-color: var(--fill-color);\n",
              "    }\n",
              "    20% {\n",
              "      border-color: transparent;\n",
              "      border-left-color: var(--fill-color);\n",
              "      border-top-color: var(--fill-color);\n",
              "    }\n",
              "    30% {\n",
              "      border-color: transparent;\n",
              "      border-left-color: var(--fill-color);\n",
              "      border-top-color: var(--fill-color);\n",
              "      border-right-color: var(--fill-color);\n",
              "    }\n",
              "    40% {\n",
              "      border-color: transparent;\n",
              "      border-right-color: var(--fill-color);\n",
              "      border-top-color: var(--fill-color);\n",
              "    }\n",
              "    60% {\n",
              "      border-color: transparent;\n",
              "      border-right-color: var(--fill-color);\n",
              "    }\n",
              "    80% {\n",
              "      border-color: transparent;\n",
              "      border-right-color: var(--fill-color);\n",
              "      border-bottom-color: var(--fill-color);\n",
              "    }\n",
              "    90% {\n",
              "      border-color: transparent;\n",
              "      border-bottom-color: var(--fill-color);\n",
              "    }\n",
              "  }\n",
              "</style>\n",
              "\n",
              "  <script>\n",
              "    async function quickchart(key) {\n",
              "      const quickchartButtonEl =\n",
              "        document.querySelector('#' + key + ' button');\n",
              "      quickchartButtonEl.disabled = true;  // To prevent multiple clicks.\n",
              "      quickchartButtonEl.classList.add('colab-df-spinner');\n",
              "      try {\n",
              "        const charts = await google.colab.kernel.invokeFunction(\n",
              "            'suggestCharts', [key], {});\n",
              "      } catch (error) {\n",
              "        console.error('Error during call to suggestCharts:', error);\n",
              "      }\n",
              "      quickchartButtonEl.classList.remove('colab-df-spinner');\n",
              "      quickchartButtonEl.classList.add('colab-df-quickchart-complete');\n",
              "    }\n",
              "    (() => {\n",
              "      let quickchartButtonEl =\n",
              "        document.querySelector('#df-f255b1ab-16ce-49b1-899a-4cd108eac795 button');\n",
              "      quickchartButtonEl.style.display =\n",
              "        google.colab.kernel.accessAllowed ? 'block' : 'none';\n",
              "    })();\n",
              "  </script>\n",
              "</div>\n",
              "\n",
              "  <div id=\"id_d9d51d7a-8cbb-4f8c-890a-e3b00de0a348\">\n",
              "    <style>\n",
              "      .colab-df-generate {\n",
              "        background-color: #E8F0FE;\n",
              "        border: none;\n",
              "        border-radius: 50%;\n",
              "        cursor: pointer;\n",
              "        display: none;\n",
              "        fill: #1967D2;\n",
              "        height: 32px;\n",
              "        padding: 0 0 0 0;\n",
              "        width: 32px;\n",
              "      }\n",
              "\n",
              "      .colab-df-generate:hover {\n",
              "        background-color: #E2EBFA;\n",
              "        box-shadow: 0px 1px 2px rgba(60, 64, 67, 0.3), 0px 1px 3px 1px rgba(60, 64, 67, 0.15);\n",
              "        fill: #174EA6;\n",
              "      }\n",
              "\n",
              "      [theme=dark] .colab-df-generate {\n",
              "        background-color: #3B4455;\n",
              "        fill: #D2E3FC;\n",
              "      }\n",
              "\n",
              "      [theme=dark] .colab-df-generate:hover {\n",
              "        background-color: #434B5C;\n",
              "        box-shadow: 0px 1px 3px 1px rgba(0, 0, 0, 0.15);\n",
              "        filter: drop-shadow(0px 1px 2px rgba(0, 0, 0, 0.3));\n",
              "        fill: #FFFFFF;\n",
              "      }\n",
              "    </style>\n",
              "    <button class=\"colab-df-generate\" onclick=\"generateWithVariable('Input_df')\"\n",
              "            title=\"Generate code using this dataframe.\"\n",
              "            style=\"display:none;\">\n",
              "\n",
              "  <svg xmlns=\"http://www.w3.org/2000/svg\" height=\"24px\"viewBox=\"0 0 24 24\"\n",
              "       width=\"24px\">\n",
              "    <path d=\"M7,19H8.4L18.45,9,17,7.55,7,17.6ZM5,21V16.75L18.45,3.32a2,2,0,0,1,2.83,0l1.4,1.43a1.91,1.91,0,0,1,.58,1.4,1.91,1.91,0,0,1-.58,1.4L9.25,21ZM18.45,9,17,7.55Zm-12,3A5.31,5.31,0,0,0,4.9,8.1,5.31,5.31,0,0,0,1,6.5,5.31,5.31,0,0,0,4.9,4.9,5.31,5.31,0,0,0,6.5,1,5.31,5.31,0,0,0,8.1,4.9,5.31,5.31,0,0,0,12,6.5,5.46,5.46,0,0,0,6.5,12Z\"/>\n",
              "  </svg>\n",
              "    </button>\n",
              "    <script>\n",
              "      (() => {\n",
              "      const buttonEl =\n",
              "        document.querySelector('#id_d9d51d7a-8cbb-4f8c-890a-e3b00de0a348 button.colab-df-generate');\n",
              "      buttonEl.style.display =\n",
              "        google.colab.kernel.accessAllowed ? 'block' : 'none';\n",
              "\n",
              "      buttonEl.onclick = () => {\n",
              "        google.colab.notebook.generateWithVariable('Input_df');\n",
              "      }\n",
              "      })();\n",
              "    </script>\n",
              "  </div>\n",
              "\n",
              "    </div>\n",
              "  </div>\n"
            ]
          },
          "metadata": {},
          "execution_count": 62
        }
      ]
    },
    {
      "cell_type": "code",
      "source": [
        "Input_df.to_csv('지역별 투입구조.csv', encoding='utf_8-sig')"
      ],
      "metadata": {
        "id": "VNFEV-38jTlE"
      },
      "execution_count": 63,
      "outputs": []
    },
    {
      "cell_type": "markdown",
      "source": [
        "## 지역별 배분구조"
      ],
      "metadata": {
        "id": "neHGmpLzjd87"
      }
    },
    {
      "cell_type": "code",
      "source": [
        "Intra_tot"
      ],
      "metadata": {
        "id": "9G5B_Aqppv7H",
        "outputId": "f21c682c-7b40-4377-e2bf-a01813143ac9",
        "colab": {
          "base_uri": "https://localhost:8080/"
        }
      },
      "execution_count": 64,
      "outputs": [
        {
          "output_type": "execute_result",
          "data": {
            "text/plain": [
              "array([571., 349., 239.])"
            ]
          },
          "metadata": {},
          "execution_count": 64
        }
      ]
    },
    {
      "cell_type": "code",
      "source": [
        "Intra_itd_dstr = Intra_input.sum(axis=1)   #중간수요중 자기지역\n",
        "Inter_itd_dstr = Inter_input.sum(axis=1)   #중간수요중 타지역\n",
        "Itd_dstr_sm = Intra_itd_dstr + Inter_itd_dstr\n",
        "Itd_dstr_sm"
      ],
      "metadata": {
        "id": "zFNLa4vnj2t3",
        "outputId": "dac90c0a-a398-446b-86d8-aa28c592ba7b",
        "colab": {
          "base_uri": "https://localhost:8080/"
        }
      },
      "execution_count": 67,
      "outputs": [
        {
          "output_type": "execute_result",
          "data": {
            "text/plain": [
              "array([  5., 287., 498.,  15., 333., 163.,  22., 268., 125.])"
            ]
          },
          "metadata": {},
          "execution_count": 67
        }
      ]
    },
    {
      "cell_type": "code",
      "source": [
        "Intra_itd_tot = (Intra_itd_dstr@Code.T)  # 자기지역 최종종요 비중(전체산업)\n",
        "Inter_itd_tot = (Inter_itd_dstr@Code.T)  # 타지역 최종종요 비중(전체산업)\n",
        "Itd_dstr_tot = (Itd_dstr_sm@Code.T)"
      ],
      "metadata": {
        "id": "yGIsg_uspQvl"
      },
      "execution_count": 68,
      "outputs": []
    },
    {
      "cell_type": "code",
      "source": [
        "Int_dstr = np.vstack((Intra_itd_tot, Inter_itd_tot, Itd_dstr_tot)).T"
      ],
      "metadata": {
        "id": "hQ2JwaB_rYem",
        "outputId": "286cd7d2-8f1f-4aea-a7c0-99f2d47b77ec",
        "colab": {
          "base_uri": "https://localhost:8080/"
        }
      },
      "execution_count": 75,
      "outputs": [
        {
          "output_type": "stream",
          "name": "stdout",
          "text": [
            "[[571. 219. 790.]\n",
            " [349. 162. 511.]\n",
            " [239. 176. 415.]]\n"
          ]
        }
      ]
    },
    {
      "cell_type": "code",
      "source": [
        "Exp_sudo = Mt[:9,12].sum()\n",
        "Exp_dongbu = Mt[:9,15].sum()\n",
        "Exp_seobu = Mt[:9,18].sum()"
      ],
      "metadata": {
        "id": "HZJdyW8CwJhj"
      },
      "execution_count": 73,
      "outputs": []
    },
    {
      "cell_type": "code",
      "source": [
        "Exp_tot = np.hstack((Exp_sudo, Exp_dongbu, Exp_seobu))"
      ],
      "metadata": {
        "id": "0lUz_Xr0xZrZ",
        "outputId": "ddafabb4-25ed-4ba7-abab-66c9484bc7e4",
        "colab": {
          "base_uri": "https://localhost:8080/"
        }
      },
      "execution_count": 74,
      "outputs": [
        {
          "output_type": "execute_result",
          "data": {
            "text/plain": [
              "array([282., 252., 180.])"
            ]
          },
          "metadata": {},
          "execution_count": 74
        }
      ]
    },
    {
      "cell_type": "code",
      "source": [
        "print('자기지역-타지역수요','\\n', Int_dstr, '\\n')\n",
        "print('수출', '\\n', Exp_tot)"
      ],
      "metadata": {
        "id": "gdRkUDt5txGE",
        "outputId": "9211a97b-ad9b-4f3f-bae8-9d2b68359db3",
        "colab": {
          "base_uri": "https://localhost:8080/"
        }
      },
      "execution_count": 80,
      "outputs": [
        {
          "output_type": "stream",
          "name": "stdout",
          "text": [
            "자기지역-타지역수요 \n",
            " [[571. 219. 790.]\n",
            " [349. 162. 511.]\n",
            " [239. 176. 415.]] \n",
            "\n",
            "수출 \n",
            " [282. 252. 180.]\n"
          ]
        }
      ]
    },
    {
      "cell_type": "code",
      "source": [
        "Mt_for_nonex = np.copy(Mt)\n",
        "Fd_rg = Mt_for_nonex[:9,10:19] # 최종수요\n",
        "Fd_rg[:,2] = 0            #수출을 0으로 만든 최종수요매트릭스 만들기(수출은 자기지역 또는 타지역에 포함되지 않음)\n",
        "Fd_rg[:,5] = 0            #수출을 0으로 만든 최종수요매트릭스 만들기(수출은 자기지역 또는 타지역에 포함되지 않음)\n",
        "Fd_rg[:,8] = 0            #수출을 0으로 만든 최종수요매트릭스 만들기(수출은 자기지역 또는 타지역에 포함되지 않음)\n",
        "Fd_rg"
      ],
      "metadata": {
        "id": "Bz5rWM2Yj20s",
        "outputId": "5359cadb-fef3-47f9-e604-2392bd2bf4f6",
        "colab": {
          "base_uri": "https://localhost:8080/"
        }
      },
      "execution_count": 82,
      "outputs": [
        {
          "output_type": "execute_result",
          "data": {
            "text/plain": [
              "array([[  1.,   0.,   0.,   0.,   0.,   0.,   0.,   0.,   0.],\n",
              "       [ 29.,  21.,   0.,   9.,   6.,   0.,   7.,   8.,   0.],\n",
              "       [387., 164.,   0.,  33.,  13.,   0.,  31.,  11.,   0.],\n",
              "       [  3.,   0.,   0.,   3.,   1.,   0.,   1.,   0.,   0.],\n",
              "       [ 20.,  15.,   0.,  19.,  11.,   0.,   7.,   7.,   0.],\n",
              "       [ 11.,   2.,   0., 194.,  77.,   0.,   5.,   1.,   0.],\n",
              "       [  3.,   0.,   0.,   1.,   0.,   0.,   2.,   1.,   0.],\n",
              "       [ 15.,   9.,   0.,   7.,   4.,   0.,  15.,   5.,   0.],\n",
              "       [ 15.,   4.,   0.,   5.,   1.,   0., 146.,  71.,   0.]])"
            ]
          },
          "metadata": {},
          "execution_count": 82
        }
      ]
    },
    {
      "cell_type": "code",
      "source": [
        "Intra_fd = (Mtx_for_int*Fd_rg).sum(axis=1) # 지역내 최종수요\n",
        "Intra_fd"
      ],
      "metadata": {
        "id": "ySZmPt2uj23g",
        "outputId": "b9a8d38e-f15b-4380-86c3-3379b98162a0",
        "colab": {
          "base_uri": "https://localhost:8080/"
        }
      },
      "execution_count": 84,
      "outputs": [
        {
          "output_type": "execute_result",
          "data": {
            "text/plain": [
              "array([  1.,  50., 551.,   4.,  30., 271.,   3.,  20., 217.])"
            ]
          },
          "metadata": {},
          "execution_count": 84
        }
      ]
    },
    {
      "cell_type": "code",
      "source": [
        "Inter_fd =  (Mtx_for_inter*Fd_rg).sum(axis=1) # 지역간 최종수요\n",
        "Inter_fd"
      ],
      "metadata": {
        "id": "RvWvJ1b3ltdG",
        "outputId": "478338dd-c2ba-428f-d8d8-40532d400eff",
        "colab": {
          "base_uri": "https://localhost:8080/"
        }
      },
      "execution_count": 86,
      "outputs": [
        {
          "output_type": "execute_result",
          "data": {
            "text/plain": [
              "array([ 0., 30., 88.,  4., 49., 19.,  4., 35., 25.])"
            ]
          },
          "metadata": {},
          "execution_count": 86
        }
      ]
    },
    {
      "cell_type": "code",
      "source": [
        "Tot_fd = Intra_fd + Inter_fd"
      ],
      "metadata": {
        "id": "Hz0J-ElZtwbq",
        "outputId": "536ec75c-5ac6-4d4a-caa8-7331884fc9ba",
        "colab": {
          "base_uri": "https://localhost:8080/"
        }
      },
      "execution_count": 93,
      "outputs": [
        {
          "output_type": "execute_result",
          "data": {
            "text/plain": [
              "array([  1.,  80., 639.,   8.,  79., 290.,   7.,  55., 242.])"
            ]
          },
          "metadata": {},
          "execution_count": 93
        }
      ]
    },
    {
      "cell_type": "code",
      "source": [
        "Intra_fd_tot = (Intra_fd@Code.T)  # 자기지역 최종종요 비중(전체산업)\n",
        "Inter_fd_tot = (Inter_fd@Code.T)  # 타지역 최종종요 비중(전체산업)\n",
        "Tot_fd_tot = (Tot_fd@Code.T)"
      ],
      "metadata": {
        "id": "u0WRqv7pltfz"
      },
      "execution_count": 91,
      "outputs": []
    },
    {
      "cell_type": "code",
      "source": [
        "Fd_dstr = np.vstack((Intra_fd_tot, Inter_fd_tot, Tot_fd_tot)).T\n",
        "print(Fd_dstr)"
      ],
      "metadata": {
        "id": "eW3I7Rlelths",
        "outputId": "4d103a16-5b96-44b8-e095-57749e49ac68",
        "colab": {
          "base_uri": "https://localhost:8080/"
        }
      },
      "execution_count": 94,
      "outputs": [
        {
          "output_type": "stream",
          "name": "stdout",
          "text": [
            "[[602. 118. 720.]\n",
            " [305.  72. 377.]\n",
            " [240.  64. 304.]]\n"
          ]
        }
      ]
    },
    {
      "cell_type": "code",
      "source": [
        "Total_dstr = np.hstack((Int_dstr, Fd_dstr, Exp_tot.reshape([3,1])))\n",
        "Total_dstr"
      ],
      "metadata": {
        "id": "nidu8mtjltkQ",
        "outputId": "677b45b6-4b74-4820-e80d-6a991fcca30d",
        "colab": {
          "base_uri": "https://localhost:8080/"
        }
      },
      "execution_count": 95,
      "outputs": [
        {
          "output_type": "execute_result",
          "data": {
            "text/plain": [
              "array([[571., 219., 790., 602., 118., 720., 282.],\n",
              "       [349., 162., 511., 305.,  72., 377., 252.],\n",
              "       [239., 176., 415., 240.,  64., 304., 180.]])"
            ]
          },
          "metadata": {},
          "execution_count": 95
        }
      ]
    },
    {
      "cell_type": "code",
      "source": [
        "Tot_dstr_ct = Total_dstr[:,2]+Total_dstr[:,5]+Total_dstr[:,6]\n",
        "Tot_dstr_ct"
      ],
      "metadata": {
        "id": "bXsP78-kxyRl",
        "outputId": "bf81ee36-bc1f-4c9d-de42-5f3310ca6b7f",
        "colab": {
          "base_uri": "https://localhost:8080/"
        }
      },
      "execution_count": 97,
      "outputs": [
        {
          "output_type": "execute_result",
          "data": {
            "text/plain": [
              "array([1792., 1140.,  899.])"
            ]
          },
          "metadata": {},
          "execution_count": 97
        }
      ]
    },
    {
      "cell_type": "code",
      "source": [
        "Tot_dstr_col_sm = np.hstack((Total_dstr,Tot_dstr_ct.reshape([3,1])))\n",
        "Tot_dstr_col_sm"
      ],
      "metadata": {
        "id": "s9jTwfSd5EAo",
        "outputId": "98accfd3-b783-45cf-914b-7729baa9dce6",
        "colab": {
          "base_uri": "https://localhost:8080/"
        }
      },
      "execution_count": 98,
      "outputs": [
        {
          "output_type": "execute_result",
          "data": {
            "text/plain": [
              "array([[ 571.,  219.,  790.,  602.,  118.,  720.,  282., 1792.],\n",
              "       [ 349.,  162.,  511.,  305.,   72.,  377.,  252., 1140.],\n",
              "       [ 239.,  176.,  415.,  240.,   64.,  304.,  180.,  899.]])"
            ]
          },
          "metadata": {},
          "execution_count": 98
        }
      ]
    },
    {
      "cell_type": "code",
      "source": [
        "Tot_dstr_rw_sm = Tot_dstr_col_sm.sum(axis=0)\n",
        "Tot_dstr_rw_sm"
      ],
      "metadata": {
        "id": "oQ6shBg_5EC8",
        "outputId": "e6f834d5-3d01-46c3-cec5-c540da082707",
        "colab": {
          "base_uri": "https://localhost:8080/"
        }
      },
      "execution_count": 99,
      "outputs": [
        {
          "output_type": "execute_result",
          "data": {
            "text/plain": [
              "array([1159.,  557., 1716., 1147.,  254., 1401.,  714., 3831.])"
            ]
          },
          "metadata": {},
          "execution_count": 99
        }
      ]
    },
    {
      "cell_type": "code",
      "source": [
        "Tot_dstr = np.vstack((Tot_dstr_col_sm, Tot_dstr_rw_sm))\n",
        "Tot_dstr"
      ],
      "metadata": {
        "id": "1_IZrAEoltmc",
        "outputId": "9eec5506-8551-4622-dae4-9940b02b5813",
        "colab": {
          "base_uri": "https://localhost:8080/"
        }
      },
      "execution_count": 100,
      "outputs": [
        {
          "output_type": "execute_result",
          "data": {
            "text/plain": [
              "array([[ 571.,  219.,  790.,  602.,  118.,  720.,  282., 1792.],\n",
              "       [ 349.,  162.,  511.,  305.,   72.,  377.,  252., 1140.],\n",
              "       [ 239.,  176.,  415.,  240.,   64.,  304.,  180.,  899.],\n",
              "       [1159.,  557., 1716., 1147.,  254., 1401.,  714., 3831.]])"
            ]
          },
          "metadata": {},
          "execution_count": 100
        }
      ]
    },
    {
      "cell_type": "code",
      "source": [
        "Sm_col = np.tile(Tot_dstr[:,7].reshape([4,1]), reps=[1,8])\n",
        "Sm_col"
      ],
      "metadata": {
        "id": "tZTofJB1SZj4",
        "outputId": "0fad1660-d656-41aa-e996-a60eaa064239",
        "colab": {
          "base_uri": "https://localhost:8080/"
        }
      },
      "execution_count": 101,
      "outputs": [
        {
          "output_type": "execute_result",
          "data": {
            "text/plain": [
              "array([[1792., 1792., 1792., 1792., 1792., 1792., 1792., 1792.],\n",
              "       [1140., 1140., 1140., 1140., 1140., 1140., 1140., 1140.],\n",
              "       [ 899.,  899.,  899.,  899.,  899.,  899.,  899.,  899.],\n",
              "       [3831., 3831., 3831., 3831., 3831., 3831., 3831., 3831.]])"
            ]
          },
          "metadata": {},
          "execution_count": 101
        }
      ]
    },
    {
      "cell_type": "code",
      "source": [
        "Tot_dstr_ratio = Tot_dstr/Sm_col\n",
        "print('지역별 배분구조', '\\n', (Tot_dstr_ratio*100).round(1))"
      ],
      "metadata": {
        "id": "LKygMEJLUcUp",
        "outputId": "04afa756-a678-4768-bcfe-742af588751f",
        "colab": {
          "base_uri": "https://localhost:8080/"
        }
      },
      "execution_count": 105,
      "outputs": [
        {
          "output_type": "stream",
          "name": "stdout",
          "text": [
            "지역별 배분구조 \n",
            " [[ 31.9  12.2  44.1  33.6   6.6  40.2  15.7 100. ]\n",
            " [ 30.6  14.2  44.8  26.8   6.3  33.1  22.1 100. ]\n",
            " [ 26.6  19.6  46.2  26.7   7.1  33.8  20.  100. ]\n",
            " [ 30.3  14.5  44.8  29.9   6.6  36.6  18.6 100. ]]\n"
          ]
        }
      ]
    },
    {
      "cell_type": "code",
      "source": [
        "dstr_df = pd.DataFrame((Tot_dstr_ratio*100).round(1), columns = [['중간재', '중간재', '중간재', '최종수요', '최종수요', '최종수요','수출', '합계'],\n",
        "                                     ['자기지역', '타지역', '소계', '자기지역', '타지역', '소계','수출', '합계' ]],\n",
        "                       index = ['수도권', '동부권', '서부권', '전지역'])\n",
        "dstr_df"
      ],
      "metadata": {
        "id": "SxyCokJf9ON5",
        "outputId": "480b13e3-dc45-4158-c345-fb371b3d4356",
        "colab": {
          "base_uri": "https://localhost:8080/",
          "height": 206
        }
      },
      "execution_count": 106,
      "outputs": [
        {
          "output_type": "execute_result",
          "data": {
            "text/plain": [
              "      중간재              최종수요               수출     합계\n",
              "     자기지역   타지역    소계  자기지역  타지역    소계    수출     합계\n",
              "수도권  31.9  12.2  44.1  33.6  6.6  40.2  15.7  100.0\n",
              "동부권  30.6  14.2  44.8  26.8  6.3  33.1  22.1  100.0\n",
              "서부권  26.6  19.6  46.2  26.7  7.1  33.8  20.0  100.0\n",
              "전지역  30.3  14.5  44.8  29.9  6.6  36.6  18.6  100.0"
            ],
            "text/html": [
              "\n",
              "  <div id=\"df-78b04fec-6f48-4d85-992e-b14c7746bff5\" class=\"colab-df-container\">\n",
              "    <div>\n",
              "<style scoped>\n",
              "    .dataframe tbody tr th:only-of-type {\n",
              "        vertical-align: middle;\n",
              "    }\n",
              "\n",
              "    .dataframe tbody tr th {\n",
              "        vertical-align: top;\n",
              "    }\n",
              "\n",
              "    .dataframe thead tr th {\n",
              "        text-align: left;\n",
              "    }\n",
              "</style>\n",
              "<table border=\"1\" class=\"dataframe\">\n",
              "  <thead>\n",
              "    <tr>\n",
              "      <th></th>\n",
              "      <th colspan=\"3\" halign=\"left\">중간재</th>\n",
              "      <th colspan=\"3\" halign=\"left\">최종수요</th>\n",
              "      <th>수출</th>\n",
              "      <th>합계</th>\n",
              "    </tr>\n",
              "    <tr>\n",
              "      <th></th>\n",
              "      <th>자기지역</th>\n",
              "      <th>타지역</th>\n",
              "      <th>소계</th>\n",
              "      <th>자기지역</th>\n",
              "      <th>타지역</th>\n",
              "      <th>소계</th>\n",
              "      <th>수출</th>\n",
              "      <th>합계</th>\n",
              "    </tr>\n",
              "  </thead>\n",
              "  <tbody>\n",
              "    <tr>\n",
              "      <th>수도권</th>\n",
              "      <td>31.9</td>\n",
              "      <td>12.2</td>\n",
              "      <td>44.1</td>\n",
              "      <td>33.6</td>\n",
              "      <td>6.6</td>\n",
              "      <td>40.2</td>\n",
              "      <td>15.7</td>\n",
              "      <td>100.0</td>\n",
              "    </tr>\n",
              "    <tr>\n",
              "      <th>동부권</th>\n",
              "      <td>30.6</td>\n",
              "      <td>14.2</td>\n",
              "      <td>44.8</td>\n",
              "      <td>26.8</td>\n",
              "      <td>6.3</td>\n",
              "      <td>33.1</td>\n",
              "      <td>22.1</td>\n",
              "      <td>100.0</td>\n",
              "    </tr>\n",
              "    <tr>\n",
              "      <th>서부권</th>\n",
              "      <td>26.6</td>\n",
              "      <td>19.6</td>\n",
              "      <td>46.2</td>\n",
              "      <td>26.7</td>\n",
              "      <td>7.1</td>\n",
              "      <td>33.8</td>\n",
              "      <td>20.0</td>\n",
              "      <td>100.0</td>\n",
              "    </tr>\n",
              "    <tr>\n",
              "      <th>전지역</th>\n",
              "      <td>30.3</td>\n",
              "      <td>14.5</td>\n",
              "      <td>44.8</td>\n",
              "      <td>29.9</td>\n",
              "      <td>6.6</td>\n",
              "      <td>36.6</td>\n",
              "      <td>18.6</td>\n",
              "      <td>100.0</td>\n",
              "    </tr>\n",
              "  </tbody>\n",
              "</table>\n",
              "</div>\n",
              "    <div class=\"colab-df-buttons\">\n",
              "\n",
              "  <div class=\"colab-df-container\">\n",
              "    <button class=\"colab-df-convert\" onclick=\"convertToInteractive('df-78b04fec-6f48-4d85-992e-b14c7746bff5')\"\n",
              "            title=\"Convert this dataframe to an interactive table.\"\n",
              "            style=\"display:none;\">\n",
              "\n",
              "  <svg xmlns=\"http://www.w3.org/2000/svg\" height=\"24px\" viewBox=\"0 -960 960 960\">\n",
              "    <path d=\"M120-120v-720h720v720H120Zm60-500h600v-160H180v160Zm220 220h160v-160H400v160Zm0 220h160v-160H400v160ZM180-400h160v-160H180v160Zm440 0h160v-160H620v160ZM180-180h160v-160H180v160Zm440 0h160v-160H620v160Z\"/>\n",
              "  </svg>\n",
              "    </button>\n",
              "\n",
              "  <style>\n",
              "    .colab-df-container {\n",
              "      display:flex;\n",
              "      gap: 12px;\n",
              "    }\n",
              "\n",
              "    .colab-df-convert {\n",
              "      background-color: #E8F0FE;\n",
              "      border: none;\n",
              "      border-radius: 50%;\n",
              "      cursor: pointer;\n",
              "      display: none;\n",
              "      fill: #1967D2;\n",
              "      height: 32px;\n",
              "      padding: 0 0 0 0;\n",
              "      width: 32px;\n",
              "    }\n",
              "\n",
              "    .colab-df-convert:hover {\n",
              "      background-color: #E2EBFA;\n",
              "      box-shadow: 0px 1px 2px rgba(60, 64, 67, 0.3), 0px 1px 3px 1px rgba(60, 64, 67, 0.15);\n",
              "      fill: #174EA6;\n",
              "    }\n",
              "\n",
              "    .colab-df-buttons div {\n",
              "      margin-bottom: 4px;\n",
              "    }\n",
              "\n",
              "    [theme=dark] .colab-df-convert {\n",
              "      background-color: #3B4455;\n",
              "      fill: #D2E3FC;\n",
              "    }\n",
              "\n",
              "    [theme=dark] .colab-df-convert:hover {\n",
              "      background-color: #434B5C;\n",
              "      box-shadow: 0px 1px 3px 1px rgba(0, 0, 0, 0.15);\n",
              "      filter: drop-shadow(0px 1px 2px rgba(0, 0, 0, 0.3));\n",
              "      fill: #FFFFFF;\n",
              "    }\n",
              "  </style>\n",
              "\n",
              "    <script>\n",
              "      const buttonEl =\n",
              "        document.querySelector('#df-78b04fec-6f48-4d85-992e-b14c7746bff5 button.colab-df-convert');\n",
              "      buttonEl.style.display =\n",
              "        google.colab.kernel.accessAllowed ? 'block' : 'none';\n",
              "\n",
              "      async function convertToInteractive(key) {\n",
              "        const element = document.querySelector('#df-78b04fec-6f48-4d85-992e-b14c7746bff5');\n",
              "        const dataTable =\n",
              "          await google.colab.kernel.invokeFunction('convertToInteractive',\n",
              "                                                    [key], {});\n",
              "        if (!dataTable) return;\n",
              "\n",
              "        const docLinkHtml = 'Like what you see? Visit the ' +\n",
              "          '<a target=\"_blank\" href=https://colab.research.google.com/notebooks/data_table.ipynb>data table notebook</a>'\n",
              "          + ' to learn more about interactive tables.';\n",
              "        element.innerHTML = '';\n",
              "        dataTable['output_type'] = 'display_data';\n",
              "        await google.colab.output.renderOutput(dataTable, element);\n",
              "        const docLink = document.createElement('div');\n",
              "        docLink.innerHTML = docLinkHtml;\n",
              "        element.appendChild(docLink);\n",
              "      }\n",
              "    </script>\n",
              "  </div>\n",
              "\n",
              "\n",
              "<div id=\"df-8176d8bc-28a0-449f-ab65-63d8bc25daaa\">\n",
              "  <button class=\"colab-df-quickchart\" onclick=\"quickchart('df-8176d8bc-28a0-449f-ab65-63d8bc25daaa')\"\n",
              "            title=\"Suggest charts\"\n",
              "            style=\"display:none;\">\n",
              "\n",
              "<svg xmlns=\"http://www.w3.org/2000/svg\" height=\"24px\"viewBox=\"0 0 24 24\"\n",
              "     width=\"24px\">\n",
              "    <g>\n",
              "        <path d=\"M19 3H5c-1.1 0-2 .9-2 2v14c0 1.1.9 2 2 2h14c1.1 0 2-.9 2-2V5c0-1.1-.9-2-2-2zM9 17H7v-7h2v7zm4 0h-2V7h2v10zm4 0h-2v-4h2v4z\"/>\n",
              "    </g>\n",
              "</svg>\n",
              "  </button>\n",
              "\n",
              "<style>\n",
              "  .colab-df-quickchart {\n",
              "      --bg-color: #E8F0FE;\n",
              "      --fill-color: #1967D2;\n",
              "      --hover-bg-color: #E2EBFA;\n",
              "      --hover-fill-color: #174EA6;\n",
              "      --disabled-fill-color: #AAA;\n",
              "      --disabled-bg-color: #DDD;\n",
              "  }\n",
              "\n",
              "  [theme=dark] .colab-df-quickchart {\n",
              "      --bg-color: #3B4455;\n",
              "      --fill-color: #D2E3FC;\n",
              "      --hover-bg-color: #434B5C;\n",
              "      --hover-fill-color: #FFFFFF;\n",
              "      --disabled-bg-color: #3B4455;\n",
              "      --disabled-fill-color: #666;\n",
              "  }\n",
              "\n",
              "  .colab-df-quickchart {\n",
              "    background-color: var(--bg-color);\n",
              "    border: none;\n",
              "    border-radius: 50%;\n",
              "    cursor: pointer;\n",
              "    display: none;\n",
              "    fill: var(--fill-color);\n",
              "    height: 32px;\n",
              "    padding: 0;\n",
              "    width: 32px;\n",
              "  }\n",
              "\n",
              "  .colab-df-quickchart:hover {\n",
              "    background-color: var(--hover-bg-color);\n",
              "    box-shadow: 0 1px 2px rgba(60, 64, 67, 0.3), 0 1px 3px 1px rgba(60, 64, 67, 0.15);\n",
              "    fill: var(--button-hover-fill-color);\n",
              "  }\n",
              "\n",
              "  .colab-df-quickchart-complete:disabled,\n",
              "  .colab-df-quickchart-complete:disabled:hover {\n",
              "    background-color: var(--disabled-bg-color);\n",
              "    fill: var(--disabled-fill-color);\n",
              "    box-shadow: none;\n",
              "  }\n",
              "\n",
              "  .colab-df-spinner {\n",
              "    border: 2px solid var(--fill-color);\n",
              "    border-color: transparent;\n",
              "    border-bottom-color: var(--fill-color);\n",
              "    animation:\n",
              "      spin 1s steps(1) infinite;\n",
              "  }\n",
              "\n",
              "  @keyframes spin {\n",
              "    0% {\n",
              "      border-color: transparent;\n",
              "      border-bottom-color: var(--fill-color);\n",
              "      border-left-color: var(--fill-color);\n",
              "    }\n",
              "    20% {\n",
              "      border-color: transparent;\n",
              "      border-left-color: var(--fill-color);\n",
              "      border-top-color: var(--fill-color);\n",
              "    }\n",
              "    30% {\n",
              "      border-color: transparent;\n",
              "      border-left-color: var(--fill-color);\n",
              "      border-top-color: var(--fill-color);\n",
              "      border-right-color: var(--fill-color);\n",
              "    }\n",
              "    40% {\n",
              "      border-color: transparent;\n",
              "      border-right-color: var(--fill-color);\n",
              "      border-top-color: var(--fill-color);\n",
              "    }\n",
              "    60% {\n",
              "      border-color: transparent;\n",
              "      border-right-color: var(--fill-color);\n",
              "    }\n",
              "    80% {\n",
              "      border-color: transparent;\n",
              "      border-right-color: var(--fill-color);\n",
              "      border-bottom-color: var(--fill-color);\n",
              "    }\n",
              "    90% {\n",
              "      border-color: transparent;\n",
              "      border-bottom-color: var(--fill-color);\n",
              "    }\n",
              "  }\n",
              "</style>\n",
              "\n",
              "  <script>\n",
              "    async function quickchart(key) {\n",
              "      const quickchartButtonEl =\n",
              "        document.querySelector('#' + key + ' button');\n",
              "      quickchartButtonEl.disabled = true;  // To prevent multiple clicks.\n",
              "      quickchartButtonEl.classList.add('colab-df-spinner');\n",
              "      try {\n",
              "        const charts = await google.colab.kernel.invokeFunction(\n",
              "            'suggestCharts', [key], {});\n",
              "      } catch (error) {\n",
              "        console.error('Error during call to suggestCharts:', error);\n",
              "      }\n",
              "      quickchartButtonEl.classList.remove('colab-df-spinner');\n",
              "      quickchartButtonEl.classList.add('colab-df-quickchart-complete');\n",
              "    }\n",
              "    (() => {\n",
              "      let quickchartButtonEl =\n",
              "        document.querySelector('#df-8176d8bc-28a0-449f-ab65-63d8bc25daaa button');\n",
              "      quickchartButtonEl.style.display =\n",
              "        google.colab.kernel.accessAllowed ? 'block' : 'none';\n",
              "    })();\n",
              "  </script>\n",
              "</div>\n",
              "\n",
              "  <div id=\"id_4ecb03e1-83e7-40ff-b7d3-03f0734877c8\">\n",
              "    <style>\n",
              "      .colab-df-generate {\n",
              "        background-color: #E8F0FE;\n",
              "        border: none;\n",
              "        border-radius: 50%;\n",
              "        cursor: pointer;\n",
              "        display: none;\n",
              "        fill: #1967D2;\n",
              "        height: 32px;\n",
              "        padding: 0 0 0 0;\n",
              "        width: 32px;\n",
              "      }\n",
              "\n",
              "      .colab-df-generate:hover {\n",
              "        background-color: #E2EBFA;\n",
              "        box-shadow: 0px 1px 2px rgba(60, 64, 67, 0.3), 0px 1px 3px 1px rgba(60, 64, 67, 0.15);\n",
              "        fill: #174EA6;\n",
              "      }\n",
              "\n",
              "      [theme=dark] .colab-df-generate {\n",
              "        background-color: #3B4455;\n",
              "        fill: #D2E3FC;\n",
              "      }\n",
              "\n",
              "      [theme=dark] .colab-df-generate:hover {\n",
              "        background-color: #434B5C;\n",
              "        box-shadow: 0px 1px 3px 1px rgba(0, 0, 0, 0.15);\n",
              "        filter: drop-shadow(0px 1px 2px rgba(0, 0, 0, 0.3));\n",
              "        fill: #FFFFFF;\n",
              "      }\n",
              "    </style>\n",
              "    <button class=\"colab-df-generate\" onclick=\"generateWithVariable('dstr_df')\"\n",
              "            title=\"Generate code using this dataframe.\"\n",
              "            style=\"display:none;\">\n",
              "\n",
              "  <svg xmlns=\"http://www.w3.org/2000/svg\" height=\"24px\"viewBox=\"0 0 24 24\"\n",
              "       width=\"24px\">\n",
              "    <path d=\"M7,19H8.4L18.45,9,17,7.55,7,17.6ZM5,21V16.75L18.45,3.32a2,2,0,0,1,2.83,0l1.4,1.43a1.91,1.91,0,0,1,.58,1.4,1.91,1.91,0,0,1-.58,1.4L9.25,21ZM18.45,9,17,7.55Zm-12,3A5.31,5.31,0,0,0,4.9,8.1,5.31,5.31,0,0,0,1,6.5,5.31,5.31,0,0,0,4.9,4.9,5.31,5.31,0,0,0,6.5,1,5.31,5.31,0,0,0,8.1,4.9,5.31,5.31,0,0,0,12,6.5,5.46,5.46,0,0,0,6.5,12Z\"/>\n",
              "  </svg>\n",
              "    </button>\n",
              "    <script>\n",
              "      (() => {\n",
              "      const buttonEl =\n",
              "        document.querySelector('#id_4ecb03e1-83e7-40ff-b7d3-03f0734877c8 button.colab-df-generate');\n",
              "      buttonEl.style.display =\n",
              "        google.colab.kernel.accessAllowed ? 'block' : 'none';\n",
              "\n",
              "      buttonEl.onclick = () => {\n",
              "        google.colab.notebook.generateWithVariable('dstr_df');\n",
              "      }\n",
              "      })();\n",
              "    </script>\n",
              "  </div>\n",
              "\n",
              "    </div>\n",
              "  </div>\n"
            ]
          },
          "metadata": {},
          "execution_count": 106
        }
      ]
    },
    {
      "cell_type": "code",
      "source": [
        "dstr_df.to_csv('지역별 배분구조.csv', encoding='utf_8-sig')"
      ],
      "metadata": {
        "id": "8OyvLcgoSZmN"
      },
      "execution_count": 107,
      "outputs": []
    },
    {
      "cell_type": "markdown",
      "source": [
        "### 지역 이출입"
      ],
      "metadata": {
        "id": "FNJ_C3SJZDQ4"
      }
    },
    {
      "cell_type": "code",
      "source": [
        "# mtx_for_int= linalg.block_diag(np.ones((3,3)),np.ones((3,3)),np.ones((3,3)))\n",
        "# mtx_for_tra=np.where(mtx_for_int == 1, 0, 1)\n",
        "# print('자기지역용', '\\n', mtx_for_int, '\\n')\n",
        "# print('타지역용', '\\n',mtx_for_tra)"
      ],
      "metadata": {
        "id": "HMaXgHDpc5eq"
      },
      "execution_count": 117,
      "outputs": []
    },
    {
      "cell_type": "code",
      "source": [
        "# tra_int = (Mt[0:9,0:9]*mtx_for_tra).astype(float)  # 중간투입(수요) 이출입\n",
        "# tra_int"
      ],
      "metadata": {
        "id": "YrzQxWbJc5hJ"
      },
      "execution_count": 118,
      "outputs": []
    },
    {
      "cell_type": "code",
      "source": [
        "Tra_int = Mt[0:9,0:9] # 중간투입(수요)\n",
        "Tra_int"
      ],
      "metadata": {
        "id": "M7icMRVGypcS",
        "outputId": "82a6a922-4eb3-47a1-e31d-d0710a5c57f1",
        "colab": {
          "base_uri": "https://localhost:8080/"
        }
      },
      "execution_count": 119,
      "outputs": [
        {
          "output_type": "execute_result",
          "data": {
            "text/plain": [
              "array([[  0.,   3.,   1.,   0.,   0.,   0.,   0.,   1.,   0.],\n",
              "       [  2., 112.,  71.,   1.,  36.,  14.,   1.,  37.,  13.],\n",
              "       [  1.,  79., 302.,   1.,  27.,  31.,   1.,  28.,  28.],\n",
              "       [  0.,   1.,   2.,   1.,   7.,   2.,   0.,   2.,   0.],\n",
              "       [  0.,  43.,  38.,   4., 158.,  40.,   1.,  36.,  13.],\n",
              "       [  0.,   4.,  15.,   2.,  59.,  76.,   0.,   3.,   4.],\n",
              "       [  0.,   2.,   3.,   0.,   1.,   1.,   1.,  12.,   2.],\n",
              "       [  0.,  46.,  40.,   1.,  41.,  15.,   6.,  88.,  31.],\n",
              "       [  0.,   3.,  17.,   0.,   3.,   3.,   2.,  41.,  56.]])"
            ]
          },
          "metadata": {},
          "execution_count": 119
        }
      ]
    },
    {
      "cell_type": "code",
      "source": [
        "# mtx_for_fd= linalg.block_diag(np.ones((3,3)),np.ones((3,3)),np.ones((3,3)))\n",
        "# mtx_for_tra_fd=np.where(mtx_for_fd == 1, 0, 1)\n",
        "# mtx_for_tra_fd[:,2]=0 # 수도권 수출 0\n",
        "# mtx_for_tra_fd[:,5]=0 # 동부권 수출 0\n",
        "# mtx_for_tra_fd[:,8]=0 # 서부권 수출 0\n",
        "# mtx_for_tra_fd"
      ],
      "metadata": {
        "id": "QqgW3yxVhBwq"
      },
      "execution_count": 120,
      "outputs": []
    },
    {
      "cell_type": "code",
      "source": [
        "# tra_fd = (Mt[:9,10:19]*mtx_for_tra_fd).astype(float)\n",
        "# tra_fd"
      ],
      "metadata": {
        "id": "C137XEeQhBy2"
      },
      "execution_count": 121,
      "outputs": []
    },
    {
      "cell_type": "code",
      "source": [
        "Tra_fd = Fd_rg  # 최종수요\n",
        "Tra_fd"
      ],
      "metadata": {
        "id": "30O4-H7xy0KS",
        "outputId": "4424ecf2-85da-49ed-8de8-081f639fd66e",
        "colab": {
          "base_uri": "https://localhost:8080/"
        }
      },
      "execution_count": 122,
      "outputs": [
        {
          "output_type": "execute_result",
          "data": {
            "text/plain": [
              "array([[  1.,   0.,   0.,   0.,   0.,   0.,   0.,   0.,   0.],\n",
              "       [ 29.,  21.,   0.,   9.,   6.,   0.,   7.,   8.,   0.],\n",
              "       [387., 164.,   0.,  33.,  13.,   0.,  31.,  11.,   0.],\n",
              "       [  3.,   0.,   0.,   3.,   1.,   0.,   1.,   0.,   0.],\n",
              "       [ 20.,  15.,   0.,  19.,  11.,   0.,   7.,   7.,   0.],\n",
              "       [ 11.,   2.,   0., 194.,  77.,   0.,   5.,   1.,   0.],\n",
              "       [  3.,   0.,   0.,   1.,   0.,   0.,   2.,   1.,   0.],\n",
              "       [ 15.,   9.,   0.,   7.,   4.,   0.,  15.,   5.,   0.],\n",
              "       [ 15.,   4.,   0.,   5.,   1.,   0., 146.,  71.,   0.]])"
            ]
          },
          "metadata": {},
          "execution_count": 122
        }
      ]
    },
    {
      "cell_type": "code",
      "source": [
        "# Mt[:18,19:37]"
      ],
      "metadata": {
        "id": "7GtQPMagpLqM"
      },
      "execution_count": null,
      "outputs": []
    },
    {
      "cell_type": "code",
      "source": [
        "Tot_tra = (Tra_int+Tra_fd).astype(float)  #지역별 산업별 이출입 매트릭스 9x9\n",
        "Tot_tra"
      ],
      "metadata": {
        "id": "Y9AciCbShB1L",
        "outputId": "053f0960-2722-4a1e-db1b-b5aa0814b785",
        "colab": {
          "base_uri": "https://localhost:8080/"
        }
      },
      "execution_count": 130,
      "outputs": [
        {
          "output_type": "execute_result",
          "data": {
            "text/plain": [
              "array([[  1.,   3.,   1.,   0.,   0.,   0.,   0.,   1.,   0.],\n",
              "       [ 31., 133.,  71.,  10.,  42.,  14.,   8.,  45.,  13.],\n",
              "       [388., 243., 302.,  34.,  40.,  31.,  32.,  39.,  28.],\n",
              "       [  3.,   1.,   2.,   4.,   8.,   2.,   1.,   2.,   0.],\n",
              "       [ 20.,  58.,  38.,  23., 169.,  40.,   8.,  43.,  13.],\n",
              "       [ 11.,   6.,  15., 196., 136.,  76.,   5.,   4.,   4.],\n",
              "       [  3.,   2.,   3.,   1.,   1.,   1.,   3.,  13.,   2.],\n",
              "       [ 15.,  55.,  40.,   8.,  45.,  15.,  21.,  93.,  31.],\n",
              "       [ 15.,   7.,  17.,   5.,   4.,   3., 148., 112.,  56.]])"
            ]
          },
          "metadata": {},
          "execution_count": 130
        }
      ]
    },
    {
      "cell_type": "code",
      "source": [
        "Cd_for_tr = np.array([[1,1,1,0,0,0,0,0,0],  # 행렬 곱을 이용한 부문 통합을 위해 0과 1로 구성된 임시의 6x6 매트릭스\n",
        "       [0,0,0,1,1,1,0,0,0],\n",
        "       [0,0,0,0,0,0,1,1,1]])\n"
      ],
      "metadata": {
        "id": "H1pkLW91qfdV"
      },
      "execution_count": 127,
      "outputs": []
    },
    {
      "cell_type": "code",
      "source": [
        "Fnl_tra = (Cd_for_tr@Tot_tra)@Cd_for_tr.T # 지역별 이출입 매트릭스\n",
        "print('이출입매트릭스', '\\n', Fnl_tra)"
      ],
      "metadata": {
        "id": "WEDv0XT4rPrs",
        "outputId": "8c9acc87-dcbd-4e99-d975-6be14416d30e",
        "colab": {
          "base_uri": "https://localhost:8080/"
        }
      },
      "execution_count": 132,
      "outputs": [
        {
          "output_type": "stream",
          "name": "stdout",
          "text": [
            "이출입매트릭스 \n",
            " [[1173.  171.  166.]\n",
            " [ 154.  654.   80.]\n",
            " [ 157.   83.  479.]]\n"
          ]
        }
      ]
    },
    {
      "cell_type": "code",
      "source": [
        "Fnl_tra_rw_sm = Fnl_tra.sum(axis=1).reshape([3,1])\n",
        "Fnl_tra_rw_mtx = np.hstack((Fnl_tra,Fnl_tra_rw_sm))\n",
        "\n",
        "Fnl_tra_col_sm = Fnl_tra_rw_mtx.sum(axis=0).reshape([1,4]\n",
        "                                                    )\n",
        "Fnl_tra_ff = np.vstack((Fnl_tra_rw_mtx,Fnl_tra_col_sm)) # 지역간 이출입 구조\n",
        "Fnl_tra_ratio = Fnl_tra_ff [:3,:]/(np.tile(Fnl_tra_ff[:3,3], reps=[4,1]).T)\n",
        "print('지역간 이출구조', '\\n', (Fnl_tra_ratio*100).round(1))"
      ],
      "metadata": {
        "id": "Y_Wdl_V7AHXP",
        "outputId": "a701e392-2747-4828-c6b6-55b2d8571258",
        "colab": {
          "base_uri": "https://localhost:8080/"
        }
      },
      "execution_count": 157,
      "outputs": [
        {
          "output_type": "stream",
          "name": "stdout",
          "text": [
            "지역간 이출구조 \n",
            " [[ 77.7  11.3  11.  100. ]\n",
            " [ 17.3  73.6   9.  100. ]\n",
            " [ 21.8  11.5  66.6 100. ]]\n"
          ]
        }
      ]
    },
    {
      "cell_type": "code",
      "source": [
        "Fnl_inter_ratio = Fnl_tra_ff [:,:3]/(np.tile(Fnl_tra_ff[3,:3], reps=[4,1]))\n",
        "print('지역간 이입구조', '\\n', (Fnl_inter_ratio*100).round(1))"
      ],
      "metadata": {
        "id": "DqV1wnj_18b5",
        "outputId": "9ddd9088-a22d-4585-a879-d7e33d396ece",
        "colab": {
          "base_uri": "https://localhost:8080/"
        }
      },
      "execution_count": 169,
      "outputs": [
        {
          "output_type": "stream",
          "name": "stdout",
          "text": [
            "지역간 이입구조 \n",
            " [[ 79.   18.8  22.9]\n",
            " [ 10.4  72.   11. ]\n",
            " [ 10.6   9.1  66.1]\n",
            " [100.  100.  100. ]]\n"
          ]
        }
      ]
    },
    {
      "cell_type": "code",
      "source": [
        "Tra_df = pd.DataFrame(Fnl_tra_ff, columns = ['수도권', '동부권', '서부권', '총이출'],\n",
        "                                     index=['수도권', '동부권', '서부권', '총이입'])\n",
        "Tra_df"
      ],
      "metadata": {
        "id": "OHlBil3JAAlo",
        "outputId": "8a9355b9-4564-4ed1-83d5-919805afb019",
        "colab": {
          "base_uri": "https://localhost:8080/",
          "height": 175
        }
      },
      "execution_count": 171,
      "outputs": [
        {
          "output_type": "execute_result",
          "data": {
            "text/plain": [
              "        수도권    동부권    서부권     총이출\n",
              "수도권  1173.0  171.0  166.0  1510.0\n",
              "동부권   154.0  654.0   80.0   888.0\n",
              "서부권   157.0   83.0  479.0   719.0\n",
              "총이입  1484.0  908.0  725.0  3117.0"
            ],
            "text/html": [
              "\n",
              "  <div id=\"df-53613f26-22f8-4ee0-8d46-d5f91f43839a\" class=\"colab-df-container\">\n",
              "    <div>\n",
              "<style scoped>\n",
              "    .dataframe tbody tr th:only-of-type {\n",
              "        vertical-align: middle;\n",
              "    }\n",
              "\n",
              "    .dataframe tbody tr th {\n",
              "        vertical-align: top;\n",
              "    }\n",
              "\n",
              "    .dataframe thead th {\n",
              "        text-align: right;\n",
              "    }\n",
              "</style>\n",
              "<table border=\"1\" class=\"dataframe\">\n",
              "  <thead>\n",
              "    <tr style=\"text-align: right;\">\n",
              "      <th></th>\n",
              "      <th>수도권</th>\n",
              "      <th>동부권</th>\n",
              "      <th>서부권</th>\n",
              "      <th>총이출</th>\n",
              "    </tr>\n",
              "  </thead>\n",
              "  <tbody>\n",
              "    <tr>\n",
              "      <th>수도권</th>\n",
              "      <td>1173.0</td>\n",
              "      <td>171.0</td>\n",
              "      <td>166.0</td>\n",
              "      <td>1510.0</td>\n",
              "    </tr>\n",
              "    <tr>\n",
              "      <th>동부권</th>\n",
              "      <td>154.0</td>\n",
              "      <td>654.0</td>\n",
              "      <td>80.0</td>\n",
              "      <td>888.0</td>\n",
              "    </tr>\n",
              "    <tr>\n",
              "      <th>서부권</th>\n",
              "      <td>157.0</td>\n",
              "      <td>83.0</td>\n",
              "      <td>479.0</td>\n",
              "      <td>719.0</td>\n",
              "    </tr>\n",
              "    <tr>\n",
              "      <th>총이입</th>\n",
              "      <td>1484.0</td>\n",
              "      <td>908.0</td>\n",
              "      <td>725.0</td>\n",
              "      <td>3117.0</td>\n",
              "    </tr>\n",
              "  </tbody>\n",
              "</table>\n",
              "</div>\n",
              "    <div class=\"colab-df-buttons\">\n",
              "\n",
              "  <div class=\"colab-df-container\">\n",
              "    <button class=\"colab-df-convert\" onclick=\"convertToInteractive('df-53613f26-22f8-4ee0-8d46-d5f91f43839a')\"\n",
              "            title=\"Convert this dataframe to an interactive table.\"\n",
              "            style=\"display:none;\">\n",
              "\n",
              "  <svg xmlns=\"http://www.w3.org/2000/svg\" height=\"24px\" viewBox=\"0 -960 960 960\">\n",
              "    <path d=\"M120-120v-720h720v720H120Zm60-500h600v-160H180v160Zm220 220h160v-160H400v160Zm0 220h160v-160H400v160ZM180-400h160v-160H180v160Zm440 0h160v-160H620v160ZM180-180h160v-160H180v160Zm440 0h160v-160H620v160Z\"/>\n",
              "  </svg>\n",
              "    </button>\n",
              "\n",
              "  <style>\n",
              "    .colab-df-container {\n",
              "      display:flex;\n",
              "      gap: 12px;\n",
              "    }\n",
              "\n",
              "    .colab-df-convert {\n",
              "      background-color: #E8F0FE;\n",
              "      border: none;\n",
              "      border-radius: 50%;\n",
              "      cursor: pointer;\n",
              "      display: none;\n",
              "      fill: #1967D2;\n",
              "      height: 32px;\n",
              "      padding: 0 0 0 0;\n",
              "      width: 32px;\n",
              "    }\n",
              "\n",
              "    .colab-df-convert:hover {\n",
              "      background-color: #E2EBFA;\n",
              "      box-shadow: 0px 1px 2px rgba(60, 64, 67, 0.3), 0px 1px 3px 1px rgba(60, 64, 67, 0.15);\n",
              "      fill: #174EA6;\n",
              "    }\n",
              "\n",
              "    .colab-df-buttons div {\n",
              "      margin-bottom: 4px;\n",
              "    }\n",
              "\n",
              "    [theme=dark] .colab-df-convert {\n",
              "      background-color: #3B4455;\n",
              "      fill: #D2E3FC;\n",
              "    }\n",
              "\n",
              "    [theme=dark] .colab-df-convert:hover {\n",
              "      background-color: #434B5C;\n",
              "      box-shadow: 0px 1px 3px 1px rgba(0, 0, 0, 0.15);\n",
              "      filter: drop-shadow(0px 1px 2px rgba(0, 0, 0, 0.3));\n",
              "      fill: #FFFFFF;\n",
              "    }\n",
              "  </style>\n",
              "\n",
              "    <script>\n",
              "      const buttonEl =\n",
              "        document.querySelector('#df-53613f26-22f8-4ee0-8d46-d5f91f43839a button.colab-df-convert');\n",
              "      buttonEl.style.display =\n",
              "        google.colab.kernel.accessAllowed ? 'block' : 'none';\n",
              "\n",
              "      async function convertToInteractive(key) {\n",
              "        const element = document.querySelector('#df-53613f26-22f8-4ee0-8d46-d5f91f43839a');\n",
              "        const dataTable =\n",
              "          await google.colab.kernel.invokeFunction('convertToInteractive',\n",
              "                                                    [key], {});\n",
              "        if (!dataTable) return;\n",
              "\n",
              "        const docLinkHtml = 'Like what you see? Visit the ' +\n",
              "          '<a target=\"_blank\" href=https://colab.research.google.com/notebooks/data_table.ipynb>data table notebook</a>'\n",
              "          + ' to learn more about interactive tables.';\n",
              "        element.innerHTML = '';\n",
              "        dataTable['output_type'] = 'display_data';\n",
              "        await google.colab.output.renderOutput(dataTable, element);\n",
              "        const docLink = document.createElement('div');\n",
              "        docLink.innerHTML = docLinkHtml;\n",
              "        element.appendChild(docLink);\n",
              "      }\n",
              "    </script>\n",
              "  </div>\n",
              "\n",
              "\n",
              "<div id=\"df-aceb2bde-2a9c-46d8-bc43-6a610d09ada5\">\n",
              "  <button class=\"colab-df-quickchart\" onclick=\"quickchart('df-aceb2bde-2a9c-46d8-bc43-6a610d09ada5')\"\n",
              "            title=\"Suggest charts\"\n",
              "            style=\"display:none;\">\n",
              "\n",
              "<svg xmlns=\"http://www.w3.org/2000/svg\" height=\"24px\"viewBox=\"0 0 24 24\"\n",
              "     width=\"24px\">\n",
              "    <g>\n",
              "        <path d=\"M19 3H5c-1.1 0-2 .9-2 2v14c0 1.1.9 2 2 2h14c1.1 0 2-.9 2-2V5c0-1.1-.9-2-2-2zM9 17H7v-7h2v7zm4 0h-2V7h2v10zm4 0h-2v-4h2v4z\"/>\n",
              "    </g>\n",
              "</svg>\n",
              "  </button>\n",
              "\n",
              "<style>\n",
              "  .colab-df-quickchart {\n",
              "      --bg-color: #E8F0FE;\n",
              "      --fill-color: #1967D2;\n",
              "      --hover-bg-color: #E2EBFA;\n",
              "      --hover-fill-color: #174EA6;\n",
              "      --disabled-fill-color: #AAA;\n",
              "      --disabled-bg-color: #DDD;\n",
              "  }\n",
              "\n",
              "  [theme=dark] .colab-df-quickchart {\n",
              "      --bg-color: #3B4455;\n",
              "      --fill-color: #D2E3FC;\n",
              "      --hover-bg-color: #434B5C;\n",
              "      --hover-fill-color: #FFFFFF;\n",
              "      --disabled-bg-color: #3B4455;\n",
              "      --disabled-fill-color: #666;\n",
              "  }\n",
              "\n",
              "  .colab-df-quickchart {\n",
              "    background-color: var(--bg-color);\n",
              "    border: none;\n",
              "    border-radius: 50%;\n",
              "    cursor: pointer;\n",
              "    display: none;\n",
              "    fill: var(--fill-color);\n",
              "    height: 32px;\n",
              "    padding: 0;\n",
              "    width: 32px;\n",
              "  }\n",
              "\n",
              "  .colab-df-quickchart:hover {\n",
              "    background-color: var(--hover-bg-color);\n",
              "    box-shadow: 0 1px 2px rgba(60, 64, 67, 0.3), 0 1px 3px 1px rgba(60, 64, 67, 0.15);\n",
              "    fill: var(--button-hover-fill-color);\n",
              "  }\n",
              "\n",
              "  .colab-df-quickchart-complete:disabled,\n",
              "  .colab-df-quickchart-complete:disabled:hover {\n",
              "    background-color: var(--disabled-bg-color);\n",
              "    fill: var(--disabled-fill-color);\n",
              "    box-shadow: none;\n",
              "  }\n",
              "\n",
              "  .colab-df-spinner {\n",
              "    border: 2px solid var(--fill-color);\n",
              "    border-color: transparent;\n",
              "    border-bottom-color: var(--fill-color);\n",
              "    animation:\n",
              "      spin 1s steps(1) infinite;\n",
              "  }\n",
              "\n",
              "  @keyframes spin {\n",
              "    0% {\n",
              "      border-color: transparent;\n",
              "      border-bottom-color: var(--fill-color);\n",
              "      border-left-color: var(--fill-color);\n",
              "    }\n",
              "    20% {\n",
              "      border-color: transparent;\n",
              "      border-left-color: var(--fill-color);\n",
              "      border-top-color: var(--fill-color);\n",
              "    }\n",
              "    30% {\n",
              "      border-color: transparent;\n",
              "      border-left-color: var(--fill-color);\n",
              "      border-top-color: var(--fill-color);\n",
              "      border-right-color: var(--fill-color);\n",
              "    }\n",
              "    40% {\n",
              "      border-color: transparent;\n",
              "      border-right-color: var(--fill-color);\n",
              "      border-top-color: var(--fill-color);\n",
              "    }\n",
              "    60% {\n",
              "      border-color: transparent;\n",
              "      border-right-color: var(--fill-color);\n",
              "    }\n",
              "    80% {\n",
              "      border-color: transparent;\n",
              "      border-right-color: var(--fill-color);\n",
              "      border-bottom-color: var(--fill-color);\n",
              "    }\n",
              "    90% {\n",
              "      border-color: transparent;\n",
              "      border-bottom-color: var(--fill-color);\n",
              "    }\n",
              "  }\n",
              "</style>\n",
              "\n",
              "  <script>\n",
              "    async function quickchart(key) {\n",
              "      const quickchartButtonEl =\n",
              "        document.querySelector('#' + key + ' button');\n",
              "      quickchartButtonEl.disabled = true;  // To prevent multiple clicks.\n",
              "      quickchartButtonEl.classList.add('colab-df-spinner');\n",
              "      try {\n",
              "        const charts = await google.colab.kernel.invokeFunction(\n",
              "            'suggestCharts', [key], {});\n",
              "      } catch (error) {\n",
              "        console.error('Error during call to suggestCharts:', error);\n",
              "      }\n",
              "      quickchartButtonEl.classList.remove('colab-df-spinner');\n",
              "      quickchartButtonEl.classList.add('colab-df-quickchart-complete');\n",
              "    }\n",
              "    (() => {\n",
              "      let quickchartButtonEl =\n",
              "        document.querySelector('#df-aceb2bde-2a9c-46d8-bc43-6a610d09ada5 button');\n",
              "      quickchartButtonEl.style.display =\n",
              "        google.colab.kernel.accessAllowed ? 'block' : 'none';\n",
              "    })();\n",
              "  </script>\n",
              "</div>\n",
              "\n",
              "  <div id=\"id_e8600738-87c5-46d1-b6bf-00492c13336a\">\n",
              "    <style>\n",
              "      .colab-df-generate {\n",
              "        background-color: #E8F0FE;\n",
              "        border: none;\n",
              "        border-radius: 50%;\n",
              "        cursor: pointer;\n",
              "        display: none;\n",
              "        fill: #1967D2;\n",
              "        height: 32px;\n",
              "        padding: 0 0 0 0;\n",
              "        width: 32px;\n",
              "      }\n",
              "\n",
              "      .colab-df-generate:hover {\n",
              "        background-color: #E2EBFA;\n",
              "        box-shadow: 0px 1px 2px rgba(60, 64, 67, 0.3), 0px 1px 3px 1px rgba(60, 64, 67, 0.15);\n",
              "        fill: #174EA6;\n",
              "      }\n",
              "\n",
              "      [theme=dark] .colab-df-generate {\n",
              "        background-color: #3B4455;\n",
              "        fill: #D2E3FC;\n",
              "      }\n",
              "\n",
              "      [theme=dark] .colab-df-generate:hover {\n",
              "        background-color: #434B5C;\n",
              "        box-shadow: 0px 1px 3px 1px rgba(0, 0, 0, 0.15);\n",
              "        filter: drop-shadow(0px 1px 2px rgba(0, 0, 0, 0.3));\n",
              "        fill: #FFFFFF;\n",
              "      }\n",
              "    </style>\n",
              "    <button class=\"colab-df-generate\" onclick=\"generateWithVariable('Tra_df')\"\n",
              "            title=\"Generate code using this dataframe.\"\n",
              "            style=\"display:none;\">\n",
              "\n",
              "  <svg xmlns=\"http://www.w3.org/2000/svg\" height=\"24px\"viewBox=\"0 0 24 24\"\n",
              "       width=\"24px\">\n",
              "    <path d=\"M7,19H8.4L18.45,9,17,7.55,7,17.6ZM5,21V16.75L18.45,3.32a2,2,0,0,1,2.83,0l1.4,1.43a1.91,1.91,0,0,1,.58,1.4,1.91,1.91,0,0,1-.58,1.4L9.25,21ZM18.45,9,17,7.55Zm-12,3A5.31,5.31,0,0,0,4.9,8.1,5.31,5.31,0,0,0,1,6.5,5.31,5.31,0,0,0,4.9,4.9,5.31,5.31,0,0,0,6.5,1,5.31,5.31,0,0,0,8.1,4.9,5.31,5.31,0,0,0,12,6.5,5.46,5.46,0,0,0,6.5,12Z\"/>\n",
              "  </svg>\n",
              "    </button>\n",
              "    <script>\n",
              "      (() => {\n",
              "      const buttonEl =\n",
              "        document.querySelector('#id_e8600738-87c5-46d1-b6bf-00492c13336a button.colab-df-generate');\n",
              "      buttonEl.style.display =\n",
              "        google.colab.kernel.accessAllowed ? 'block' : 'none';\n",
              "\n",
              "      buttonEl.onclick = () => {\n",
              "        google.colab.notebook.generateWithVariable('Tra_df');\n",
              "      }\n",
              "      })();\n",
              "    </script>\n",
              "  </div>\n",
              "\n",
              "    </div>\n",
              "  </div>\n"
            ]
          },
          "metadata": {},
          "execution_count": 171
        }
      ]
    },
    {
      "cell_type": "code",
      "source": [
        "Tra_df.to_csv('지역간 이출입 구조.csv', encoding='utf_8-sig')"
      ],
      "metadata": {
        "id": "uEdxtVPUAf8h"
      },
      "execution_count": 173,
      "outputs": []
    },
    {
      "cell_type": "markdown",
      "source": [
        "###..산업연관효과분석"
      ],
      "metadata": {
        "id": "JYbkwC_VPVv2"
      }
    },
    {
      "cell_type": "code",
      "source": [
        "Dm_1 = Mt[0:9,0:9].astype(float)\n",
        "Im_1 = Mt[9:12,0:9].astype(float)\n",
        "# Dm_1 = Dt[0:4,1:10].astype(float)\n",
        "# Im_1 = It[0:4,1:10].astype(float)\n",
        "# print('총거래표 : \\n', Tt_1)    # 총거래표 확인\n",
        "print('국산거래표 : \\n', Dm_1)  # 국산거래표 확인\n",
        "print('수입거래표 : \\n', Im_1.astype(float))  # 수입거래표 확인"
      ],
      "metadata": {
        "id": "q4Q2rSR1QiUI",
        "outputId": "bc247d7b-b694-4c20-921a-8eb84ae2ae67",
        "colab": {
          "base_uri": "https://localhost:8080/"
        }
      },
      "execution_count": null,
      "outputs": [
        {
          "output_type": "stream",
          "name": "stdout",
          "text": [
            "국산거래표 : \n",
            " [[  0.   3.   1.   0.   0.   0.   0.   1.   0.]\n",
            " [  2. 112.  71.   1.  36.  14.   1.  37.  13.]\n",
            " [  1.  79. 302.   1.  27.  31.   1.  28.  28.]\n",
            " [  0.   1.   2.   1.   7.   2.   0.   2.   0.]\n",
            " [  0.  43.  38.   4. 158.  40.   1.  36.  13.]\n",
            " [  0.   4.  15.   2.  59.  76.   0.   3.   4.]\n",
            " [  0.   2.   3.   0.   1.   1.   1.  12.   2.]\n",
            " [  0.  46.  40.   1.  41.  15.   6.  88.  31.]\n",
            " [  0.   3.  17.   0.   3.   3.   2.  41.  56.]]\n",
            "수입거래표 : \n",
            " [[  0.   3.   0.   0.   2.   0.   0.   3.   0.]\n",
            " [  0. 101.  41.   0. 130.  18.   1.  99.  18.]\n",
            " [  0.   6.  25.   0.   6.  13.   0.   4.   8.]]\n"
          ]
        }
      ]
    },
    {
      "cell_type": "code",
      "source": [
        "ct =Mt[-1,:9]  # 산출액\n",
        "ct"
      ],
      "metadata": {
        "id": "sLoitK1lQigz",
        "outputId": "5434634a-fc9b-4e68-da06-aa546443f110",
        "colab": {
          "base_uri": "https://localhost:8080/"
        }
      },
      "execution_count": null,
      "outputs": [
        {
          "output_type": "execute_result",
          "data": {
            "text/plain": [
              "array([   6.,  582., 1204.,   23.,  638.,  479.,   29.,  491.,  379.])"
            ]
          },
          "metadata": {},
          "execution_count": 798
        }
      ]
    },
    {
      "cell_type": "code",
      "source": [
        "ct_m = np.tile(ct, reps=[9,1]) # 산출액을 9번 행반복"
      ],
      "metadata": {
        "id": "s0wcbJY1Qipl"
      },
      "execution_count": null,
      "outputs": []
    },
    {
      "cell_type": "code",
      "source": [
        "# At = Tt_1[0:3,0:3]/ct_m   # 총투입계수\n",
        "Ad =(Dm_1/ct_m)  # 국산 투입계수\n",
        "\n",
        "# print('총투입계수표 : \\n', At)\n",
        "# print('국산투입계수표 : \\n', Ad)\n",
        "#\n",
        "# df_At = pd.DataFrame(At.round(3),columns = ['농산품', '공산품', '서비스'], index=['농산품', '공산품', '서비스'])  #pandas로 내보내기\n",
        "Ad.shape"
      ],
      "metadata": {
        "id": "5uLIE7vfQiwM",
        "outputId": "bef3feef-39ec-4567-d741-45825bf15937",
        "colab": {
          "base_uri": "https://localhost:8080/"
        }
      },
      "execution_count": null,
      "outputs": [
        {
          "output_type": "execute_result",
          "data": {
            "text/plain": [
              "(9, 9)"
            ]
          },
          "metadata": {},
          "execution_count": 800
        }
      ]
    },
    {
      "cell_type": "code",
      "source": [
        "Ad_df = pd.DataFrame(Ad, columns = [['수도권', '수도권', '수도권', '서부권', '서부권', '서부권','동부권', '동부권', '동부권'],\n",
        "                                    ['농산품', '공산품', '서비스', '농산품', '공산품', '서비스','농산품', '공산품', '서비스']],\n",
        "\n",
        "                                    index=[['수도권', '수도권', '수도권', '서부권', '서부권', '서부권','동부권', '동부권', '동부권'],\n",
        "                                           ['농산품', '공산품', '서비스', '농산품', '공산품', '서비스','농산품', '공산품', '서비스']])\n",
        "Ad_df.index.names=['지역', '상품']\n",
        "Ad_df"
      ],
      "metadata": {
        "id": "W-MSnIM5k4X5",
        "outputId": "fd445c11-30f5-469c-fbfb-c361e28677c0",
        "colab": {
          "base_uri": "https://localhost:8080/",
          "height": 394
        }
      },
      "execution_count": null,
      "outputs": [
        {
          "output_type": "execute_result",
          "data": {
            "text/plain": [
              "              수도권                           서부권                           동부권  \\\n",
              "              농산품       공산품       서비스       농산품       공산품       서비스       농산품   \n",
              "지역  상품                                                                          \n",
              "수도권 농산품  0.000000  0.005155  0.000831  0.000000  0.000000  0.000000  0.000000   \n",
              "    공산품  0.333333  0.192440  0.058970  0.043478  0.056426  0.029228  0.034483   \n",
              "    서비스  0.166667  0.135739  0.250831  0.043478  0.042320  0.064718  0.034483   \n",
              "서부권 농산품  0.000000  0.001718  0.001661  0.043478  0.010972  0.004175  0.000000   \n",
              "    공산품  0.000000  0.073883  0.031561  0.173913  0.247649  0.083507  0.034483   \n",
              "    서비스  0.000000  0.006873  0.012458  0.086957  0.092476  0.158664  0.000000   \n",
              "동부권 농산품  0.000000  0.003436  0.002492  0.000000  0.001567  0.002088  0.034483   \n",
              "    공산품  0.000000  0.079038  0.033223  0.043478  0.064263  0.031315  0.206897   \n",
              "    서비스  0.000000  0.005155  0.014120  0.000000  0.004702  0.006263  0.068966   \n",
              "\n",
              "                             \n",
              "              공산품       서비스  \n",
              "지역  상품                       \n",
              "수도권 농산품  0.002037  0.000000  \n",
              "    공산품  0.075356  0.034301  \n",
              "    서비스  0.057026  0.073879  \n",
              "서부권 농산품  0.004073  0.000000  \n",
              "    공산품  0.073320  0.034301  \n",
              "    서비스  0.006110  0.010554  \n",
              "동부권 농산품  0.024440  0.005277  \n",
              "    공산품  0.179226  0.081794  \n",
              "    서비스  0.083503  0.147757  "
            ],
            "text/html": [
              "\n",
              "  <div id=\"df-59ff1f72-ca50-47c3-a53d-b5bb3912b48d\" class=\"colab-df-container\">\n",
              "    <div>\n",
              "<style scoped>\n",
              "    .dataframe tbody tr th:only-of-type {\n",
              "        vertical-align: middle;\n",
              "    }\n",
              "\n",
              "    .dataframe tbody tr th {\n",
              "        vertical-align: top;\n",
              "    }\n",
              "\n",
              "    .dataframe thead tr th {\n",
              "        text-align: left;\n",
              "    }\n",
              "\n",
              "    .dataframe thead tr:last-of-type th {\n",
              "        text-align: right;\n",
              "    }\n",
              "</style>\n",
              "<table border=\"1\" class=\"dataframe\">\n",
              "  <thead>\n",
              "    <tr>\n",
              "      <th></th>\n",
              "      <th></th>\n",
              "      <th colspan=\"3\" halign=\"left\">수도권</th>\n",
              "      <th colspan=\"3\" halign=\"left\">서부권</th>\n",
              "      <th colspan=\"3\" halign=\"left\">동부권</th>\n",
              "    </tr>\n",
              "    <tr>\n",
              "      <th></th>\n",
              "      <th></th>\n",
              "      <th>농산품</th>\n",
              "      <th>공산품</th>\n",
              "      <th>서비스</th>\n",
              "      <th>농산품</th>\n",
              "      <th>공산품</th>\n",
              "      <th>서비스</th>\n",
              "      <th>농산품</th>\n",
              "      <th>공산품</th>\n",
              "      <th>서비스</th>\n",
              "    </tr>\n",
              "    <tr>\n",
              "      <th>지역</th>\n",
              "      <th>상품</th>\n",
              "      <th></th>\n",
              "      <th></th>\n",
              "      <th></th>\n",
              "      <th></th>\n",
              "      <th></th>\n",
              "      <th></th>\n",
              "      <th></th>\n",
              "      <th></th>\n",
              "      <th></th>\n",
              "    </tr>\n",
              "  </thead>\n",
              "  <tbody>\n",
              "    <tr>\n",
              "      <th rowspan=\"3\" valign=\"top\">수도권</th>\n",
              "      <th>농산품</th>\n",
              "      <td>0.000000</td>\n",
              "      <td>0.005155</td>\n",
              "      <td>0.000831</td>\n",
              "      <td>0.000000</td>\n",
              "      <td>0.000000</td>\n",
              "      <td>0.000000</td>\n",
              "      <td>0.000000</td>\n",
              "      <td>0.002037</td>\n",
              "      <td>0.000000</td>\n",
              "    </tr>\n",
              "    <tr>\n",
              "      <th>공산품</th>\n",
              "      <td>0.333333</td>\n",
              "      <td>0.192440</td>\n",
              "      <td>0.058970</td>\n",
              "      <td>0.043478</td>\n",
              "      <td>0.056426</td>\n",
              "      <td>0.029228</td>\n",
              "      <td>0.034483</td>\n",
              "      <td>0.075356</td>\n",
              "      <td>0.034301</td>\n",
              "    </tr>\n",
              "    <tr>\n",
              "      <th>서비스</th>\n",
              "      <td>0.166667</td>\n",
              "      <td>0.135739</td>\n",
              "      <td>0.250831</td>\n",
              "      <td>0.043478</td>\n",
              "      <td>0.042320</td>\n",
              "      <td>0.064718</td>\n",
              "      <td>0.034483</td>\n",
              "      <td>0.057026</td>\n",
              "      <td>0.073879</td>\n",
              "    </tr>\n",
              "    <tr>\n",
              "      <th rowspan=\"3\" valign=\"top\">서부권</th>\n",
              "      <th>농산품</th>\n",
              "      <td>0.000000</td>\n",
              "      <td>0.001718</td>\n",
              "      <td>0.001661</td>\n",
              "      <td>0.043478</td>\n",
              "      <td>0.010972</td>\n",
              "      <td>0.004175</td>\n",
              "      <td>0.000000</td>\n",
              "      <td>0.004073</td>\n",
              "      <td>0.000000</td>\n",
              "    </tr>\n",
              "    <tr>\n",
              "      <th>공산품</th>\n",
              "      <td>0.000000</td>\n",
              "      <td>0.073883</td>\n",
              "      <td>0.031561</td>\n",
              "      <td>0.173913</td>\n",
              "      <td>0.247649</td>\n",
              "      <td>0.083507</td>\n",
              "      <td>0.034483</td>\n",
              "      <td>0.073320</td>\n",
              "      <td>0.034301</td>\n",
              "    </tr>\n",
              "    <tr>\n",
              "      <th>서비스</th>\n",
              "      <td>0.000000</td>\n",
              "      <td>0.006873</td>\n",
              "      <td>0.012458</td>\n",
              "      <td>0.086957</td>\n",
              "      <td>0.092476</td>\n",
              "      <td>0.158664</td>\n",
              "      <td>0.000000</td>\n",
              "      <td>0.006110</td>\n",
              "      <td>0.010554</td>\n",
              "    </tr>\n",
              "    <tr>\n",
              "      <th rowspan=\"3\" valign=\"top\">동부권</th>\n",
              "      <th>농산품</th>\n",
              "      <td>0.000000</td>\n",
              "      <td>0.003436</td>\n",
              "      <td>0.002492</td>\n",
              "      <td>0.000000</td>\n",
              "      <td>0.001567</td>\n",
              "      <td>0.002088</td>\n",
              "      <td>0.034483</td>\n",
              "      <td>0.024440</td>\n",
              "      <td>0.005277</td>\n",
              "    </tr>\n",
              "    <tr>\n",
              "      <th>공산품</th>\n",
              "      <td>0.000000</td>\n",
              "      <td>0.079038</td>\n",
              "      <td>0.033223</td>\n",
              "      <td>0.043478</td>\n",
              "      <td>0.064263</td>\n",
              "      <td>0.031315</td>\n",
              "      <td>0.206897</td>\n",
              "      <td>0.179226</td>\n",
              "      <td>0.081794</td>\n",
              "    </tr>\n",
              "    <tr>\n",
              "      <th>서비스</th>\n",
              "      <td>0.000000</td>\n",
              "      <td>0.005155</td>\n",
              "      <td>0.014120</td>\n",
              "      <td>0.000000</td>\n",
              "      <td>0.004702</td>\n",
              "      <td>0.006263</td>\n",
              "      <td>0.068966</td>\n",
              "      <td>0.083503</td>\n",
              "      <td>0.147757</td>\n",
              "    </tr>\n",
              "  </tbody>\n",
              "</table>\n",
              "</div>\n",
              "    <div class=\"colab-df-buttons\">\n",
              "\n",
              "  <div class=\"colab-df-container\">\n",
              "    <button class=\"colab-df-convert\" onclick=\"convertToInteractive('df-59ff1f72-ca50-47c3-a53d-b5bb3912b48d')\"\n",
              "            title=\"Convert this dataframe to an interactive table.\"\n",
              "            style=\"display:none;\">\n",
              "\n",
              "  <svg xmlns=\"http://www.w3.org/2000/svg\" height=\"24px\" viewBox=\"0 -960 960 960\">\n",
              "    <path d=\"M120-120v-720h720v720H120Zm60-500h600v-160H180v160Zm220 220h160v-160H400v160Zm0 220h160v-160H400v160ZM180-400h160v-160H180v160Zm440 0h160v-160H620v160ZM180-180h160v-160H180v160Zm440 0h160v-160H620v160Z\"/>\n",
              "  </svg>\n",
              "    </button>\n",
              "\n",
              "  <style>\n",
              "    .colab-df-container {\n",
              "      display:flex;\n",
              "      gap: 12px;\n",
              "    }\n",
              "\n",
              "    .colab-df-convert {\n",
              "      background-color: #E8F0FE;\n",
              "      border: none;\n",
              "      border-radius: 50%;\n",
              "      cursor: pointer;\n",
              "      display: none;\n",
              "      fill: #1967D2;\n",
              "      height: 32px;\n",
              "      padding: 0 0 0 0;\n",
              "      width: 32px;\n",
              "    }\n",
              "\n",
              "    .colab-df-convert:hover {\n",
              "      background-color: #E2EBFA;\n",
              "      box-shadow: 0px 1px 2px rgba(60, 64, 67, 0.3), 0px 1px 3px 1px rgba(60, 64, 67, 0.15);\n",
              "      fill: #174EA6;\n",
              "    }\n",
              "\n",
              "    .colab-df-buttons div {\n",
              "      margin-bottom: 4px;\n",
              "    }\n",
              "\n",
              "    [theme=dark] .colab-df-convert {\n",
              "      background-color: #3B4455;\n",
              "      fill: #D2E3FC;\n",
              "    }\n",
              "\n",
              "    [theme=dark] .colab-df-convert:hover {\n",
              "      background-color: #434B5C;\n",
              "      box-shadow: 0px 1px 3px 1px rgba(0, 0, 0, 0.15);\n",
              "      filter: drop-shadow(0px 1px 2px rgba(0, 0, 0, 0.3));\n",
              "      fill: #FFFFFF;\n",
              "    }\n",
              "  </style>\n",
              "\n",
              "    <script>\n",
              "      const buttonEl =\n",
              "        document.querySelector('#df-59ff1f72-ca50-47c3-a53d-b5bb3912b48d button.colab-df-convert');\n",
              "      buttonEl.style.display =\n",
              "        google.colab.kernel.accessAllowed ? 'block' : 'none';\n",
              "\n",
              "      async function convertToInteractive(key) {\n",
              "        const element = document.querySelector('#df-59ff1f72-ca50-47c3-a53d-b5bb3912b48d');\n",
              "        const dataTable =\n",
              "          await google.colab.kernel.invokeFunction('convertToInteractive',\n",
              "                                                    [key], {});\n",
              "        if (!dataTable) return;\n",
              "\n",
              "        const docLinkHtml = 'Like what you see? Visit the ' +\n",
              "          '<a target=\"_blank\" href=https://colab.research.google.com/notebooks/data_table.ipynb>data table notebook</a>'\n",
              "          + ' to learn more about interactive tables.';\n",
              "        element.innerHTML = '';\n",
              "        dataTable['output_type'] = 'display_data';\n",
              "        await google.colab.output.renderOutput(dataTable, element);\n",
              "        const docLink = document.createElement('div');\n",
              "        docLink.innerHTML = docLinkHtml;\n",
              "        element.appendChild(docLink);\n",
              "      }\n",
              "    </script>\n",
              "  </div>\n",
              "\n",
              "\n",
              "<div id=\"df-3391fd09-9096-40be-a6fb-dd000564d96b\">\n",
              "  <button class=\"colab-df-quickchart\" onclick=\"quickchart('df-3391fd09-9096-40be-a6fb-dd000564d96b')\"\n",
              "            title=\"Suggest charts.\"\n",
              "            style=\"display:none;\">\n",
              "\n",
              "<svg xmlns=\"http://www.w3.org/2000/svg\" height=\"24px\"viewBox=\"0 0 24 24\"\n",
              "     width=\"24px\">\n",
              "    <g>\n",
              "        <path d=\"M19 3H5c-1.1 0-2 .9-2 2v14c0 1.1.9 2 2 2h14c1.1 0 2-.9 2-2V5c0-1.1-.9-2-2-2zM9 17H7v-7h2v7zm4 0h-2V7h2v10zm4 0h-2v-4h2v4z\"/>\n",
              "    </g>\n",
              "</svg>\n",
              "  </button>\n",
              "\n",
              "<style>\n",
              "  .colab-df-quickchart {\n",
              "      --bg-color: #E8F0FE;\n",
              "      --fill-color: #1967D2;\n",
              "      --hover-bg-color: #E2EBFA;\n",
              "      --hover-fill-color: #174EA6;\n",
              "      --disabled-fill-color: #AAA;\n",
              "      --disabled-bg-color: #DDD;\n",
              "  }\n",
              "\n",
              "  [theme=dark] .colab-df-quickchart {\n",
              "      --bg-color: #3B4455;\n",
              "      --fill-color: #D2E3FC;\n",
              "      --hover-bg-color: #434B5C;\n",
              "      --hover-fill-color: #FFFFFF;\n",
              "      --disabled-bg-color: #3B4455;\n",
              "      --disabled-fill-color: #666;\n",
              "  }\n",
              "\n",
              "  .colab-df-quickchart {\n",
              "    background-color: var(--bg-color);\n",
              "    border: none;\n",
              "    border-radius: 50%;\n",
              "    cursor: pointer;\n",
              "    display: none;\n",
              "    fill: var(--fill-color);\n",
              "    height: 32px;\n",
              "    padding: 0;\n",
              "    width: 32px;\n",
              "  }\n",
              "\n",
              "  .colab-df-quickchart:hover {\n",
              "    background-color: var(--hover-bg-color);\n",
              "    box-shadow: 0 1px 2px rgba(60, 64, 67, 0.3), 0 1px 3px 1px rgba(60, 64, 67, 0.15);\n",
              "    fill: var(--button-hover-fill-color);\n",
              "  }\n",
              "\n",
              "  .colab-df-quickchart-complete:disabled,\n",
              "  .colab-df-quickchart-complete:disabled:hover {\n",
              "    background-color: var(--disabled-bg-color);\n",
              "    fill: var(--disabled-fill-color);\n",
              "    box-shadow: none;\n",
              "  }\n",
              "\n",
              "  .colab-df-spinner {\n",
              "    border: 2px solid var(--fill-color);\n",
              "    border-color: transparent;\n",
              "    border-bottom-color: var(--fill-color);\n",
              "    animation:\n",
              "      spin 1s steps(1) infinite;\n",
              "  }\n",
              "\n",
              "  @keyframes spin {\n",
              "    0% {\n",
              "      border-color: transparent;\n",
              "      border-bottom-color: var(--fill-color);\n",
              "      border-left-color: var(--fill-color);\n",
              "    }\n",
              "    20% {\n",
              "      border-color: transparent;\n",
              "      border-left-color: var(--fill-color);\n",
              "      border-top-color: var(--fill-color);\n",
              "    }\n",
              "    30% {\n",
              "      border-color: transparent;\n",
              "      border-left-color: var(--fill-color);\n",
              "      border-top-color: var(--fill-color);\n",
              "      border-right-color: var(--fill-color);\n",
              "    }\n",
              "    40% {\n",
              "      border-color: transparent;\n",
              "      border-right-color: var(--fill-color);\n",
              "      border-top-color: var(--fill-color);\n",
              "    }\n",
              "    60% {\n",
              "      border-color: transparent;\n",
              "      border-right-color: var(--fill-color);\n",
              "    }\n",
              "    80% {\n",
              "      border-color: transparent;\n",
              "      border-right-color: var(--fill-color);\n",
              "      border-bottom-color: var(--fill-color);\n",
              "    }\n",
              "    90% {\n",
              "      border-color: transparent;\n",
              "      border-bottom-color: var(--fill-color);\n",
              "    }\n",
              "  }\n",
              "</style>\n",
              "\n",
              "  <script>\n",
              "    async function quickchart(key) {\n",
              "      const quickchartButtonEl =\n",
              "        document.querySelector('#' + key + ' button');\n",
              "      quickchartButtonEl.disabled = true;  // To prevent multiple clicks.\n",
              "      quickchartButtonEl.classList.add('colab-df-spinner');\n",
              "      try {\n",
              "        const charts = await google.colab.kernel.invokeFunction(\n",
              "            'suggestCharts', [key], {});\n",
              "      } catch (error) {\n",
              "        console.error('Error during call to suggestCharts:', error);\n",
              "      }\n",
              "      quickchartButtonEl.classList.remove('colab-df-spinner');\n",
              "      quickchartButtonEl.classList.add('colab-df-quickchart-complete');\n",
              "    }\n",
              "    (() => {\n",
              "      let quickchartButtonEl =\n",
              "        document.querySelector('#df-3391fd09-9096-40be-a6fb-dd000564d96b button');\n",
              "      quickchartButtonEl.style.display =\n",
              "        google.colab.kernel.accessAllowed ? 'block' : 'none';\n",
              "    })();\n",
              "  </script>\n",
              "</div>\n",
              "    </div>\n",
              "  </div>\n"
            ]
          },
          "metadata": {},
          "execution_count": 801
        }
      ]
    },
    {
      "cell_type": "markdown",
      "source": [
        "##### 생산유발계수(Lf)"
      ],
      "metadata": {
        "id": "V0nnZSeHUPn8"
      }
    },
    {
      "cell_type": "code",
      "source": [
        "Lf = np.linalg.inv(np.identity(9)-Ad)    # 생산유발계수\n",
        "Lf_sm_cl = np.hstack((Lf, Lf.sum(axis=1).reshape([9,1]))) # 생산유발계수 열합\n",
        "Lf_sm_rw = np.vstack((Lf_sm_cl,Lf_sm_cl.sum(axis=0))) # 생산유발계수 행합\n",
        "Lf"
      ],
      "metadata": {
        "id": "SF7hebVoQi2M",
        "outputId": "3e161363-a2c3-4bfc-8f04-87e296081851",
        "colab": {
          "base_uri": "https://localhost:8080/"
        }
      },
      "execution_count": null,
      "outputs": [
        {
          "output_type": "execute_result",
          "data": {
            "text/plain": [
              "array([[1.003, 0.007, 0.002, 0.001, 0.001, 0.001, 0.001, 0.004, 0.001],\n",
              "       [0.449, 1.289, 0.117, 0.101, 0.127, 0.073, 0.093, 0.151, 0.083],\n",
              "       [0.316, 0.262, 1.374, 0.117, 0.129, 0.135, 0.106, 0.152, 0.152],\n",
              "       [0.002, 0.005, 0.004, 1.05 , 0.018, 0.008, 0.003, 0.008, 0.002],\n",
              "       [0.067, 0.159, 0.083, 0.284, 1.384, 0.157, 0.098, 0.159, 0.087],\n",
              "       [0.017, 0.034, 0.032, 0.143, 0.158, 1.21 , 0.017, 0.033, 0.029],\n",
              "       [0.004, 0.01 , 0.006, 0.004, 0.007, 0.005, 1.045, 0.034, 0.011],\n",
              "       [0.065, 0.154, 0.08 , 0.1  , 0.137, 0.075, 0.297, 1.275, 0.144],\n",
              "       [0.015, 0.029, 0.032, 0.015, 0.026, 0.02 , 0.117, 0.132, 1.192]])"
            ]
          },
          "metadata": {},
          "execution_count": 802
        }
      ]
    },
    {
      "cell_type": "markdown",
      "source": [
        "#### 부가가치유발계수(Lv)"
      ],
      "metadata": {
        "id": "DkU6os7vUW-0"
      }
    },
    {
      "cell_type": "code",
      "source": [
        "Va_r = Mt[-2,:9]/ct # 부가가치율\n",
        "Va_r"
      ],
      "metadata": {
        "id": "KfbCR-LdQjCF",
        "outputId": "81b8be75-8680-4587-f634-a9a9cced14e0",
        "colab": {
          "base_uri": "https://localhost:8080/"
        }
      },
      "execution_count": null,
      "outputs": [
        {
          "output_type": "execute_result",
          "data": {
            "text/plain": [
              "array([0.5  , 0.308, 0.539, 0.565, 0.263, 0.555, 0.552, 0.279, 0.544])"
            ]
          },
          "metadata": {},
          "execution_count": 803
        }
      ]
    },
    {
      "cell_type": "code",
      "source": [
        "Va_m = np.diag(Va_r)  # 부가가치율 대각행렬\n",
        "Va_m"
      ],
      "metadata": {
        "id": "7dkxNSQCQjJF",
        "outputId": "b2c3ec0f-8424-4cea-86e3-c8f158b37957",
        "colab": {
          "base_uri": "https://localhost:8080/"
        }
      },
      "execution_count": null,
      "outputs": [
        {
          "output_type": "execute_result",
          "data": {
            "text/plain": [
              "array([[0.5  , 0.   , 0.   , 0.   , 0.   , 0.   , 0.   , 0.   , 0.   ],\n",
              "       [0.   , 0.308, 0.   , 0.   , 0.   , 0.   , 0.   , 0.   , 0.   ],\n",
              "       [0.   , 0.   , 0.539, 0.   , 0.   , 0.   , 0.   , 0.   , 0.   ],\n",
              "       [0.   , 0.   , 0.   , 0.565, 0.   , 0.   , 0.   , 0.   , 0.   ],\n",
              "       [0.   , 0.   , 0.   , 0.   , 0.263, 0.   , 0.   , 0.   , 0.   ],\n",
              "       [0.   , 0.   , 0.   , 0.   , 0.   , 0.555, 0.   , 0.   , 0.   ],\n",
              "       [0.   , 0.   , 0.   , 0.   , 0.   , 0.   , 0.552, 0.   , 0.   ],\n",
              "       [0.   , 0.   , 0.   , 0.   , 0.   , 0.   , 0.   , 0.279, 0.   ],\n",
              "       [0.   , 0.   , 0.   , 0.   , 0.   , 0.   , 0.   , 0.   , 0.544]])"
            ]
          },
          "metadata": {},
          "execution_count": 804
        }
      ]
    },
    {
      "cell_type": "code",
      "source": [
        "Lv = Va_m@Lf  #부가가치유발계수\n",
        "Lv\n",
        "Lv_sm_cl = np.hstack((Lv, Lv.sum(axis=1).reshape([9,1]))) # 부가가치유발계수 열합\n",
        "Lv_sm_rw = np.vstack((Lv_sm_cl,Lv_sm_cl.sum(axis=0))) # 부가가치유발계수 행합\n",
        "Lv_sm_rw"
      ],
      "metadata": {
        "id": "DF_G_Hn09gRy",
        "outputId": "fc78f1c5-7aa5-4fdd-880e-c10a8e67257f",
        "colab": {
          "base_uri": "https://localhost:8080/"
        }
      },
      "execution_count": null,
      "outputs": [
        {
          "output_type": "execute_result",
          "data": {
            "text/plain": [
              "array([[0.501, 0.004, 0.001, 0.   , 0.001, 0.   , 0.001, 0.002, 0.   ,\n",
              "        0.51 ],\n",
              "       [0.138, 0.396, 0.036, 0.031, 0.039, 0.023, 0.029, 0.047, 0.026,\n",
              "        0.764],\n",
              "       [0.171, 0.141, 0.74 , 0.063, 0.07 , 0.073, 0.057, 0.082, 0.082,\n",
              "        1.48 ],\n",
              "       [0.001, 0.003, 0.002, 0.594, 0.01 , 0.004, 0.002, 0.004, 0.001,\n",
              "        0.622],\n",
              "       [0.018, 0.042, 0.022, 0.075, 0.364, 0.041, 0.026, 0.042, 0.023,\n",
              "        0.653],\n",
              "       [0.009, 0.019, 0.018, 0.08 , 0.088, 0.672, 0.009, 0.018, 0.016,\n",
              "        0.929],\n",
              "       [0.002, 0.005, 0.004, 0.002, 0.004, 0.003, 0.576, 0.019, 0.006,\n",
              "        0.622],\n",
              "       [0.018, 0.043, 0.022, 0.028, 0.038, 0.021, 0.083, 0.356, 0.04 ,\n",
              "        0.649],\n",
              "       [0.008, 0.016, 0.018, 0.008, 0.014, 0.011, 0.063, 0.072, 0.648,\n",
              "        0.858],\n",
              "       [0.867, 0.67 , 0.863, 0.881, 0.628, 0.849, 0.846, 0.641, 0.842,\n",
              "        7.086]])"
            ]
          },
          "metadata": {},
          "execution_count": 805
        }
      ]
    },
    {
      "cell_type": "code",
      "source": [
        "# df_Lv = pd.DataFrame(Lv.round(3),columns = ['농산품', '공산품', '서비스'], index=['농산품', '공산품', '서비스'])  # pandas로 내보내기"
      ],
      "metadata": {
        "id": "Od3StAXA86sf"
      },
      "execution_count": null,
      "outputs": []
    },
    {
      "cell_type": "markdown",
      "source": [
        "#### 수입유발계수(Li)"
      ],
      "metadata": {
        "id": "G-NYB11hVLEO"
      }
    },
    {
      "cell_type": "code",
      "source": [
        "dig_imp = linalg.block_diag(Mt[9:12,0:3],Mt[9:12,3:6],Mt[9:12,6:9]) # 각 지역수입거래표를 대각화\n",
        "dig_imp.shape"
      ],
      "metadata": {
        "id": "9VPWOCSAtqoD",
        "outputId": "c4b0a07b-055d-435f-c4ee-339c969885ae",
        "colab": {
          "base_uri": "https://localhost:8080/"
        }
      },
      "execution_count": null,
      "outputs": [
        {
          "output_type": "execute_result",
          "data": {
            "text/plain": [
              "(9, 9)"
            ]
          },
          "metadata": {},
          "execution_count": 807
        }
      ]
    },
    {
      "cell_type": "code",
      "source": [
        "Ai = dig_imp/ct_m\n",
        "Ai"
      ],
      "metadata": {
        "id": "RJXF3AM6uj8Q",
        "outputId": "a50c0172-ed7a-4c7b-c2be-d760401406aa",
        "colab": {
          "base_uri": "https://localhost:8080/"
        }
      },
      "execution_count": null,
      "outputs": [
        {
          "output_type": "execute_result",
          "data": {
            "text/plain": [
              "array([[0.   , 0.005, 0.   , 0.   , 0.   , 0.   , 0.   , 0.   , 0.   ],\n",
              "       [0.   , 0.174, 0.034, 0.   , 0.   , 0.   , 0.   , 0.   , 0.   ],\n",
              "       [0.   , 0.01 , 0.021, 0.   , 0.   , 0.   , 0.   , 0.   , 0.   ],\n",
              "       [0.   , 0.   , 0.   , 0.   , 0.003, 0.   , 0.   , 0.   , 0.   ],\n",
              "       [0.   , 0.   , 0.   , 0.   , 0.204, 0.038, 0.   , 0.   , 0.   ],\n",
              "       [0.   , 0.   , 0.   , 0.   , 0.009, 0.027, 0.   , 0.   , 0.   ],\n",
              "       [0.   , 0.   , 0.   , 0.   , 0.   , 0.   , 0.   , 0.006, 0.   ],\n",
              "       [0.   , 0.   , 0.   , 0.   , 0.   , 0.   , 0.034, 0.202, 0.047],\n",
              "       [0.   , 0.   , 0.   , 0.   , 0.   , 0.   , 0.   , 0.008, 0.021]])"
            ]
          },
          "metadata": {},
          "execution_count": 808
        }
      ]
    },
    {
      "cell_type": "code",
      "source": [
        "# print('수입투입계수표 : \\n', Ai)\n",
        "\n",
        "# df_Ai = pd.DataFrame(Ai.round(3))  #pandas로 내보내기"
      ],
      "metadata": {
        "id": "IRm-HtOf9KVx"
      },
      "execution_count": null,
      "outputs": []
    },
    {
      "cell_type": "code",
      "source": [
        "Li = Ai@Lf  #수입유발계수\n",
        "Li.shape\n",
        "\n",
        "Li_sm_cl = np.hstack((Li, Li.sum(axis=1).reshape([9,1]))) # 수입유발계수 열합\n",
        "Li_sm_rw = np.vstack((Li_sm_cl,Li_sm_cl.sum(axis=0))) # 수입유발계수 행합\n",
        "Li_sm_rw"
      ],
      "metadata": {
        "id": "_8fZBBSX9kld",
        "outputId": "7fabe7da-eb8d-41d4-e97f-7bf2d5c08640",
        "colab": {
          "base_uri": "https://localhost:8080/"
        }
      },
      "execution_count": null,
      "outputs": [
        {
          "output_type": "execute_result",
          "data": {
            "text/plain": [
              "array([[0.002, 0.007, 0.001, 0.001, 0.001, 0.   , 0.   , 0.001, 0.   ,\n",
              "        0.013],\n",
              "       [0.089, 0.233, 0.067, 0.021, 0.027, 0.017, 0.02 , 0.031, 0.02 ,\n",
              "        0.525],\n",
              "       [0.011, 0.019, 0.03 , 0.003, 0.004, 0.004, 0.003, 0.005, 0.004,\n",
              "        0.083],\n",
              "       [0.   , 0.   , 0.   , 0.001, 0.004, 0.   , 0.   , 0.   , 0.   ,\n",
              "        0.008],\n",
              "       [0.014, 0.034, 0.018, 0.063, 0.288, 0.078, 0.021, 0.034, 0.019,\n",
              "        0.568],\n",
              "       [0.001, 0.002, 0.002, 0.007, 0.017, 0.034, 0.001, 0.002, 0.002,\n",
              "        0.069],\n",
              "       [0.   , 0.001, 0.   , 0.001, 0.001, 0.   , 0.002, 0.008, 0.001,\n",
              "        0.014],\n",
              "       [0.014, 0.033, 0.018, 0.021, 0.029, 0.016, 0.101, 0.265, 0.086,\n",
              "        0.583],\n",
              "       [0.001, 0.002, 0.001, 0.001, 0.002, 0.001, 0.005, 0.013, 0.026,\n",
              "        0.052],\n",
              "       [0.133, 0.33 , 0.137, 0.119, 0.372, 0.151, 0.154, 0.359, 0.158,\n",
              "        1.914]])"
            ]
          },
          "metadata": {},
          "execution_count": 810
        }
      ]
    },
    {
      "cell_type": "code",
      "source": [
        "Lf_df = pd.DataFrame(Lf, columns = [['수도권', '수도권', '수도권', '동부권', '동부권', '동부권','서부권', '서부권', '서부권'],\n",
        "                                    ['농산품', '공산품', '서비스', '농산품', '공산품', '서비스','농산품', '공산품', '서비스']],\n",
        "\n",
        "                                    index=[['수도권', '수도권', '수도권', '동부권', '동부권', '동부권','서부권', '서부권', '서부권'],\n",
        "                                           ['농산품', '공산품', '서비스', '농산품', '공산품', '서비스','농산품', '공산품', '서비스']])\n",
        "Lf_df.index.names=['지역', '상품']\n",
        "# Lf_df  #pandas로 내보내기\n"
      ],
      "metadata": {
        "id": "nX6qaZrUkoEH"
      },
      "execution_count": null,
      "outputs": []
    },
    {
      "cell_type": "code",
      "source": [
        "Lv_df = pd.DataFrame(Lv, columns = [['수도권', '수도권', '수도권', '동부권', '동부권', '동부권','서부권', '서부권', '서부권'],\n",
        "                                    ['농산품', '공산품', '서비스', '농산품', '공산품', '서비스','농산품', '공산품', '서비스']],\n",
        "\n",
        "                                    index=[['수도권', '수도권', '수도권', '동부권', '동부권', '동부권','서부권', '서부권', '서부권'],\n",
        "                                           ['농산품', '공산품', '서비스', '농산품', '공산품', '서비스','농산품', '공산품', '서비스']])\n",
        "Lv_df.index.names=['지역', '상품']\n",
        "# Lv_df  #pandas로 내보내기"
      ],
      "metadata": {
        "id": "Z72UOsOML_yD"
      },
      "execution_count": null,
      "outputs": []
    },
    {
      "cell_type": "code",
      "source": [
        "Li_df = pd.DataFrame(Li, columns = [['수도권', '수도권', '수도권', '동부권', '동부권', '동부권','서부권', '서부권', '서부권'],\n",
        "                                    ['농산품', '공산품', '서비스', '농산품', '공산품', '서비스','농산품', '공산품', '서비스']],\n",
        "\n",
        "                                    index=[['수도권', '수도권', '수도권', '동부권', '동부권', '동부권','서부권', '서부권', '서부권'],\n",
        "                                           ['농산품', '공산품', '서비스', '농산품', '공산품', '서비스','농산품', '공산품', '서비스']])\n",
        "Li_df.index.names=['지역', '상품']\n",
        "# Li_df  #pandas로 내보내기"
      ],
      "metadata": {
        "id": "9VHsqhK0L_97"
      },
      "execution_count": null,
      "outputs": []
    },
    {
      "cell_type": "code",
      "source": [
        "Lf_df.to_csv('생산유발계수.csv', encoding='utf_8-sig')\n",
        "Lv_df.to_csv('부가가치유발계수.csv', encoding='utf_8-sig')\n",
        "Li_df.to_csv('수입유발계수.csv', encoding='utf_8-sig')"
      ],
      "metadata": {
        "id": "gqjEbG6yMVVV"
      },
      "execution_count": null,
      "outputs": []
    },
    {
      "cell_type": "markdown",
      "source": [
        "## 취업계수 및 취업유발계수"
      ],
      "metadata": {
        "id": "rDsqvOxBbB5w"
      }
    },
    {
      "cell_type": "code",
      "source": [
        "Rgt_emp_3"
      ],
      "metadata": {
        "colab": {
          "base_uri": "https://localhost:8080/",
          "height": 143
        },
        "id": "dijRS0AQCXzi",
        "outputId": "b90e9cf3-fcb0-4b7b-a7f7-037510b85b2f"
      },
      "execution_count": null,
      "outputs": [
        {
          "output_type": "execute_result",
          "data": {
            "text/plain": [
              "         cd 수도권        동부권        서부권\n",
              "농산품    135543.0   485642.0   606337.0\n",
              "공산품   1818636.0  1444100.0   834780.0\n",
              "서비스  10302991.0  4744657.0  3749541.0"
            ],
            "text/html": [
              "\n",
              "  <div id=\"df-a0bd78f8-a767-4c3f-a4a2-59dc709d7630\" class=\"colab-df-container\">\n",
              "    <div>\n",
              "<style scoped>\n",
              "    .dataframe tbody tr th:only-of-type {\n",
              "        vertical-align: middle;\n",
              "    }\n",
              "\n",
              "    .dataframe tbody tr th {\n",
              "        vertical-align: top;\n",
              "    }\n",
              "\n",
              "    .dataframe thead th {\n",
              "        text-align: right;\n",
              "    }\n",
              "</style>\n",
              "<table border=\"1\" class=\"dataframe\">\n",
              "  <thead>\n",
              "    <tr style=\"text-align: right;\">\n",
              "      <th></th>\n",
              "      <th>cd 수도권</th>\n",
              "      <th>동부권</th>\n",
              "      <th>서부권</th>\n",
              "    </tr>\n",
              "  </thead>\n",
              "  <tbody>\n",
              "    <tr>\n",
              "      <th>농산품</th>\n",
              "      <td>135543.0</td>\n",
              "      <td>485642.0</td>\n",
              "      <td>606337.0</td>\n",
              "    </tr>\n",
              "    <tr>\n",
              "      <th>공산품</th>\n",
              "      <td>1818636.0</td>\n",
              "      <td>1444100.0</td>\n",
              "      <td>834780.0</td>\n",
              "    </tr>\n",
              "    <tr>\n",
              "      <th>서비스</th>\n",
              "      <td>10302991.0</td>\n",
              "      <td>4744657.0</td>\n",
              "      <td>3749541.0</td>\n",
              "    </tr>\n",
              "  </tbody>\n",
              "</table>\n",
              "</div>\n",
              "    <div class=\"colab-df-buttons\">\n",
              "\n",
              "  <div class=\"colab-df-container\">\n",
              "    <button class=\"colab-df-convert\" onclick=\"convertToInteractive('df-a0bd78f8-a767-4c3f-a4a2-59dc709d7630')\"\n",
              "            title=\"Convert this dataframe to an interactive table.\"\n",
              "            style=\"display:none;\">\n",
              "\n",
              "  <svg xmlns=\"http://www.w3.org/2000/svg\" height=\"24px\" viewBox=\"0 -960 960 960\">\n",
              "    <path d=\"M120-120v-720h720v720H120Zm60-500h600v-160H180v160Zm220 220h160v-160H400v160Zm0 220h160v-160H400v160ZM180-400h160v-160H180v160Zm440 0h160v-160H620v160ZM180-180h160v-160H180v160Zm440 0h160v-160H620v160Z\"/>\n",
              "  </svg>\n",
              "    </button>\n",
              "\n",
              "  <style>\n",
              "    .colab-df-container {\n",
              "      display:flex;\n",
              "      gap: 12px;\n",
              "    }\n",
              "\n",
              "    .colab-df-convert {\n",
              "      background-color: #E8F0FE;\n",
              "      border: none;\n",
              "      border-radius: 50%;\n",
              "      cursor: pointer;\n",
              "      display: none;\n",
              "      fill: #1967D2;\n",
              "      height: 32px;\n",
              "      padding: 0 0 0 0;\n",
              "      width: 32px;\n",
              "    }\n",
              "\n",
              "    .colab-df-convert:hover {\n",
              "      background-color: #E2EBFA;\n",
              "      box-shadow: 0px 1px 2px rgba(60, 64, 67, 0.3), 0px 1px 3px 1px rgba(60, 64, 67, 0.15);\n",
              "      fill: #174EA6;\n",
              "    }\n",
              "\n",
              "    .colab-df-buttons div {\n",
              "      margin-bottom: 4px;\n",
              "    }\n",
              "\n",
              "    [theme=dark] .colab-df-convert {\n",
              "      background-color: #3B4455;\n",
              "      fill: #D2E3FC;\n",
              "    }\n",
              "\n",
              "    [theme=dark] .colab-df-convert:hover {\n",
              "      background-color: #434B5C;\n",
              "      box-shadow: 0px 1px 3px 1px rgba(0, 0, 0, 0.15);\n",
              "      filter: drop-shadow(0px 1px 2px rgba(0, 0, 0, 0.3));\n",
              "      fill: #FFFFFF;\n",
              "    }\n",
              "  </style>\n",
              "\n",
              "    <script>\n",
              "      const buttonEl =\n",
              "        document.querySelector('#df-a0bd78f8-a767-4c3f-a4a2-59dc709d7630 button.colab-df-convert');\n",
              "      buttonEl.style.display =\n",
              "        google.colab.kernel.accessAllowed ? 'block' : 'none';\n",
              "\n",
              "      async function convertToInteractive(key) {\n",
              "        const element = document.querySelector('#df-a0bd78f8-a767-4c3f-a4a2-59dc709d7630');\n",
              "        const dataTable =\n",
              "          await google.colab.kernel.invokeFunction('convertToInteractive',\n",
              "                                                    [key], {});\n",
              "        if (!dataTable) return;\n",
              "\n",
              "        const docLinkHtml = 'Like what you see? Visit the ' +\n",
              "          '<a target=\"_blank\" href=https://colab.research.google.com/notebooks/data_table.ipynb>data table notebook</a>'\n",
              "          + ' to learn more about interactive tables.';\n",
              "        element.innerHTML = '';\n",
              "        dataTable['output_type'] = 'display_data';\n",
              "        await google.colab.output.renderOutput(dataTable, element);\n",
              "        const docLink = document.createElement('div');\n",
              "        docLink.innerHTML = docLinkHtml;\n",
              "        element.appendChild(docLink);\n",
              "      }\n",
              "    </script>\n",
              "  </div>\n",
              "\n",
              "\n",
              "<div id=\"df-f4f150ef-537e-422e-8635-1b2958284176\">\n",
              "  <button class=\"colab-df-quickchart\" onclick=\"quickchart('df-f4f150ef-537e-422e-8635-1b2958284176')\"\n",
              "            title=\"Suggest charts.\"\n",
              "            style=\"display:none;\">\n",
              "\n",
              "<svg xmlns=\"http://www.w3.org/2000/svg\" height=\"24px\"viewBox=\"0 0 24 24\"\n",
              "     width=\"24px\">\n",
              "    <g>\n",
              "        <path d=\"M19 3H5c-1.1 0-2 .9-2 2v14c0 1.1.9 2 2 2h14c1.1 0 2-.9 2-2V5c0-1.1-.9-2-2-2zM9 17H7v-7h2v7zm4 0h-2V7h2v10zm4 0h-2v-4h2v4z\"/>\n",
              "    </g>\n",
              "</svg>\n",
              "  </button>\n",
              "\n",
              "<style>\n",
              "  .colab-df-quickchart {\n",
              "      --bg-color: #E8F0FE;\n",
              "      --fill-color: #1967D2;\n",
              "      --hover-bg-color: #E2EBFA;\n",
              "      --hover-fill-color: #174EA6;\n",
              "      --disabled-fill-color: #AAA;\n",
              "      --disabled-bg-color: #DDD;\n",
              "  }\n",
              "\n",
              "  [theme=dark] .colab-df-quickchart {\n",
              "      --bg-color: #3B4455;\n",
              "      --fill-color: #D2E3FC;\n",
              "      --hover-bg-color: #434B5C;\n",
              "      --hover-fill-color: #FFFFFF;\n",
              "      --disabled-bg-color: #3B4455;\n",
              "      --disabled-fill-color: #666;\n",
              "  }\n",
              "\n",
              "  .colab-df-quickchart {\n",
              "    background-color: var(--bg-color);\n",
              "    border: none;\n",
              "    border-radius: 50%;\n",
              "    cursor: pointer;\n",
              "    display: none;\n",
              "    fill: var(--fill-color);\n",
              "    height: 32px;\n",
              "    padding: 0;\n",
              "    width: 32px;\n",
              "  }\n",
              "\n",
              "  .colab-df-quickchart:hover {\n",
              "    background-color: var(--hover-bg-color);\n",
              "    box-shadow: 0 1px 2px rgba(60, 64, 67, 0.3), 0 1px 3px 1px rgba(60, 64, 67, 0.15);\n",
              "    fill: var(--button-hover-fill-color);\n",
              "  }\n",
              "\n",
              "  .colab-df-quickchart-complete:disabled,\n",
              "  .colab-df-quickchart-complete:disabled:hover {\n",
              "    background-color: var(--disabled-bg-color);\n",
              "    fill: var(--disabled-fill-color);\n",
              "    box-shadow: none;\n",
              "  }\n",
              "\n",
              "  .colab-df-spinner {\n",
              "    border: 2px solid var(--fill-color);\n",
              "    border-color: transparent;\n",
              "    border-bottom-color: var(--fill-color);\n",
              "    animation:\n",
              "      spin 1s steps(1) infinite;\n",
              "  }\n",
              "\n",
              "  @keyframes spin {\n",
              "    0% {\n",
              "      border-color: transparent;\n",
              "      border-bottom-color: var(--fill-color);\n",
              "      border-left-color: var(--fill-color);\n",
              "    }\n",
              "    20% {\n",
              "      border-color: transparent;\n",
              "      border-left-color: var(--fill-color);\n",
              "      border-top-color: var(--fill-color);\n",
              "    }\n",
              "    30% {\n",
              "      border-color: transparent;\n",
              "      border-left-color: var(--fill-color);\n",
              "      border-top-color: var(--fill-color);\n",
              "      border-right-color: var(--fill-color);\n",
              "    }\n",
              "    40% {\n",
              "      border-color: transparent;\n",
              "      border-right-color: var(--fill-color);\n",
              "      border-top-color: var(--fill-color);\n",
              "    }\n",
              "    60% {\n",
              "      border-color: transparent;\n",
              "      border-right-color: var(--fill-color);\n",
              "    }\n",
              "    80% {\n",
              "      border-color: transparent;\n",
              "      border-right-color: var(--fill-color);\n",
              "      border-bottom-color: var(--fill-color);\n",
              "    }\n",
              "    90% {\n",
              "      border-color: transparent;\n",
              "      border-bottom-color: var(--fill-color);\n",
              "    }\n",
              "  }\n",
              "</style>\n",
              "\n",
              "  <script>\n",
              "    async function quickchart(key) {\n",
              "      const quickchartButtonEl =\n",
              "        document.querySelector('#' + key + ' button');\n",
              "      quickchartButtonEl.disabled = true;  // To prevent multiple clicks.\n",
              "      quickchartButtonEl.classList.add('colab-df-spinner');\n",
              "      try {\n",
              "        const charts = await google.colab.kernel.invokeFunction(\n",
              "            'suggestCharts', [key], {});\n",
              "      } catch (error) {\n",
              "        console.error('Error during call to suggestCharts:', error);\n",
              "      }\n",
              "      quickchartButtonEl.classList.remove('colab-df-spinner');\n",
              "      quickchartButtonEl.classList.add('colab-df-quickchart-complete');\n",
              "    }\n",
              "    (() => {\n",
              "      let quickchartButtonEl =\n",
              "        document.querySelector('#df-f4f150ef-537e-422e-8635-1b2958284176 button');\n",
              "      quickchartButtonEl.style.display =\n",
              "        google.colab.kernel.accessAllowed ? 'block' : 'none';\n",
              "    })();\n",
              "  </script>\n",
              "</div>\n",
              "    </div>\n",
              "  </div>\n"
            ]
          },
          "metadata": {},
          "execution_count": 815
        }
      ]
    },
    {
      "cell_type": "code",
      "source": [
        "emp_3 = Rgt_emp_3.to_numpy()\n",
        "emp = emp_3[0:4,0:4].astype(float)\n",
        "emp"
      ],
      "metadata": {
        "colab": {
          "base_uri": "https://localhost:8080/"
        },
        "id": "EhfSwOlU85xT",
        "outputId": "5f229dcb-010b-41c2-b7d1-37af7de27cac"
      },
      "execution_count": null,
      "outputs": [
        {
          "output_type": "execute_result",
          "data": {
            "text/plain": [
              "array([[  135543.,   485642.,   606337.],\n",
              "       [ 1818636.,  1444100.,   834780.],\n",
              "       [10302991.,  4744657.,  3749541.]])"
            ]
          },
          "metadata": {},
          "execution_count": 816
        }
      ]
    },
    {
      "cell_type": "code",
      "source": [
        "emp_row = np.concatenate((emp[:,0],emp[:,1],emp[:,2]))\n",
        "emp_row.shape"
      ],
      "metadata": {
        "colab": {
          "base_uri": "https://localhost:8080/"
        },
        "id": "MeyPnDvW85z9",
        "outputId": "3bec3737-840a-45e0-ccb6-9791dcfe9d0f"
      },
      "execution_count": null,
      "outputs": [
        {
          "output_type": "execute_result",
          "data": {
            "text/plain": [
              "(9,)"
            ]
          },
          "metadata": {},
          "execution_count": 817
        }
      ]
    },
    {
      "cell_type": "code",
      "source": [
        "ct.shape"
      ],
      "metadata": {
        "colab": {
          "base_uri": "https://localhost:8080/"
        },
        "id": "SsQcUSk-EokE",
        "outputId": "34f1fc32-652c-41d5-898c-eda14a141400"
      },
      "execution_count": null,
      "outputs": [
        {
          "output_type": "execute_result",
          "data": {
            "text/plain": [
              "(9,)"
            ]
          },
          "metadata": {},
          "execution_count": 818
        }
      ]
    },
    {
      "cell_type": "code",
      "source": [
        "# emp_row = np.vstack(sudo_emp,dongbu_emp)"
      ],
      "metadata": {
        "id": "20MgisErC9mY"
      },
      "execution_count": null,
      "outputs": []
    },
    {
      "cell_type": "code",
      "source": [
        "emp_ratio = ((emp_row/ct)/1000).T # 취업계수(십억원당)\n",
        "emp_ratio = emp_ratio.reshape(1,9)\n",
        "emp_ratio.shape"
      ],
      "metadata": {
        "colab": {
          "base_uri": "https://localhost:8080/"
        },
        "id": "8eLdFKsx853d",
        "outputId": "67da783e-199a-42a0-a096-b0ddb71873c5"
      },
      "execution_count": null,
      "outputs": [
        {
          "output_type": "execute_result",
          "data": {
            "text/plain": [
              "(1, 9)"
            ]
          },
          "metadata": {},
          "execution_count": 820
        }
      ]
    },
    {
      "cell_type": "code",
      "source": [
        "emp_Lf= np.diag(emp_ratio.flatten())@Lf #취업유발계수\n",
        "emp_Lf"
      ],
      "metadata": {
        "colab": {
          "base_uri": "https://localhost:8080/"
        },
        "id": "Q4cDYCmQ855-",
        "outputId": "6a2ef3e6-d99b-4d16-cf6b-efb7ed7b5dd1"
      },
      "execution_count": null,
      "outputs": [
        {
          "output_type": "execute_result",
          "data": {
            "text/plain": [
              "array([[22.652,  0.162,  0.043,  0.019,  0.024,  0.015,  0.026,  0.079,\n",
              "         0.019],\n",
              "       [ 1.404,  4.028,  0.367,  0.315,  0.398,  0.229,  0.291,  0.473,\n",
              "         0.26 ],\n",
              "       [ 2.708,  2.246, 11.756,  1.002,  1.108,  1.158,  0.911,  1.302,\n",
              "         1.299],\n",
              "       [ 0.052,  0.114,  0.085, 22.174,  0.372,  0.164,  0.059,  0.167,\n",
              "         0.045],\n",
              "       [ 0.152,  0.361,  0.188,  0.643,  3.132,  0.356,  0.222,  0.359,\n",
              "         0.197],\n",
              "       [ 0.165,  0.337,  0.315,  1.419,  1.567, 11.986,  0.169,  0.323,\n",
              "         0.284],\n",
              "       [ 0.089,  0.202,  0.133,  0.085,  0.146,  0.115, 21.842,  0.716,\n",
              "         0.231],\n",
              "       [ 0.11 ,  0.262,  0.135,  0.171,  0.233,  0.127,  0.504,  2.168,\n",
              "         0.244],\n",
              "       [ 0.15 ,  0.289,  0.321,  0.152,  0.254,  0.2  ,  1.154,  1.308,\n",
              "        11.793]])"
            ]
          },
          "metadata": {},
          "execution_count": 821
        }
      ]
    },
    {
      "cell_type": "code",
      "source": [
        "emp_ratio_df = pd.DataFrame(emp_ratio.round(3), columns = [['수도권', '수도권', '수도권', '동부권', '동부권', '동부권','서부권', '서부권', '서부권'],\n",
        "                                    ['농산품', '공산품', '서비스', '농산품', '공산품', '서비스','농산품', '공산품', '서비스']],\n",
        "\n",
        "                                    index=[['취업계수']])\n",
        "\n",
        "emp_Lf_df = pd.DataFrame(emp_Lf, columns = [['수도권', '수도권', '수도권', '동부권', '동부권', '동부권','서부권', '서부권', '서부권'],\n",
        "                                    ['농산품', '공산품', '서비스', '농산품', '공산품', '서비스','농산품', '공산품', '서비스']],\n",
        "\n",
        "                                    index=[['수도권', '수도권', '수도권', '동부권', '동부권', '동부권','서부권', '서부권', '서부권'],\n",
        "                                           ['농산품', '공산품', '서비스', '농산품', '공산품', '서비스','농산품', '공산품', '서비스']])\n",
        "emp_Lf_df.index.names=['지역', '상품']\n",
        "\n",
        "#pandas로 내보내기"
      ],
      "metadata": {
        "id": "9ebPSkWZ857-"
      },
      "execution_count": null,
      "outputs": []
    },
    {
      "cell_type": "code",
      "source": [
        "emp_ratio_df"
      ],
      "metadata": {
        "colab": {
          "base_uri": "https://localhost:8080/",
          "height": 112
        },
        "id": "IamHI5bG8599",
        "outputId": "be95b1de-2d86-4c38-ab86-c66b55cedb1c"
      },
      "execution_count": null,
      "outputs": [
        {
          "output_type": "execute_result",
          "data": {
            "text/plain": [
              "        수도권                   동부권                   서부권            \n",
              "        농산품    공산품    서비스     농산품    공산품    서비스     농산품  공산품    서비스\n",
              "취업계수  22.59  3.125  8.557  21.115  2.263  9.905  20.908  1.7  9.893"
            ],
            "text/html": [
              "\n",
              "  <div id=\"df-f9f6f7b9-5db2-434b-9732-1d44db08afb4\" class=\"colab-df-container\">\n",
              "    <div>\n",
              "<style scoped>\n",
              "    .dataframe tbody tr th:only-of-type {\n",
              "        vertical-align: middle;\n",
              "    }\n",
              "\n",
              "    .dataframe tbody tr th {\n",
              "        vertical-align: top;\n",
              "    }\n",
              "\n",
              "    .dataframe thead tr th {\n",
              "        text-align: left;\n",
              "    }\n",
              "</style>\n",
              "<table border=\"1\" class=\"dataframe\">\n",
              "  <thead>\n",
              "    <tr>\n",
              "      <th></th>\n",
              "      <th colspan=\"3\" halign=\"left\">수도권</th>\n",
              "      <th colspan=\"3\" halign=\"left\">동부권</th>\n",
              "      <th colspan=\"3\" halign=\"left\">서부권</th>\n",
              "    </tr>\n",
              "    <tr>\n",
              "      <th></th>\n",
              "      <th>농산품</th>\n",
              "      <th>공산품</th>\n",
              "      <th>서비스</th>\n",
              "      <th>농산품</th>\n",
              "      <th>공산품</th>\n",
              "      <th>서비스</th>\n",
              "      <th>농산품</th>\n",
              "      <th>공산품</th>\n",
              "      <th>서비스</th>\n",
              "    </tr>\n",
              "  </thead>\n",
              "  <tbody>\n",
              "    <tr>\n",
              "      <th>취업계수</th>\n",
              "      <td>22.59</td>\n",
              "      <td>3.125</td>\n",
              "      <td>8.557</td>\n",
              "      <td>21.115</td>\n",
              "      <td>2.263</td>\n",
              "      <td>9.905</td>\n",
              "      <td>20.908</td>\n",
              "      <td>1.7</td>\n",
              "      <td>9.893</td>\n",
              "    </tr>\n",
              "  </tbody>\n",
              "</table>\n",
              "</div>\n",
              "    <div class=\"colab-df-buttons\">\n",
              "\n",
              "  <div class=\"colab-df-container\">\n",
              "    <button class=\"colab-df-convert\" onclick=\"convertToInteractive('df-f9f6f7b9-5db2-434b-9732-1d44db08afb4')\"\n",
              "            title=\"Convert this dataframe to an interactive table.\"\n",
              "            style=\"display:none;\">\n",
              "\n",
              "  <svg xmlns=\"http://www.w3.org/2000/svg\" height=\"24px\" viewBox=\"0 -960 960 960\">\n",
              "    <path d=\"M120-120v-720h720v720H120Zm60-500h600v-160H180v160Zm220 220h160v-160H400v160Zm0 220h160v-160H400v160ZM180-400h160v-160H180v160Zm440 0h160v-160H620v160ZM180-180h160v-160H180v160Zm440 0h160v-160H620v160Z\"/>\n",
              "  </svg>\n",
              "    </button>\n",
              "\n",
              "  <style>\n",
              "    .colab-df-container {\n",
              "      display:flex;\n",
              "      gap: 12px;\n",
              "    }\n",
              "\n",
              "    .colab-df-convert {\n",
              "      background-color: #E8F0FE;\n",
              "      border: none;\n",
              "      border-radius: 50%;\n",
              "      cursor: pointer;\n",
              "      display: none;\n",
              "      fill: #1967D2;\n",
              "      height: 32px;\n",
              "      padding: 0 0 0 0;\n",
              "      width: 32px;\n",
              "    }\n",
              "\n",
              "    .colab-df-convert:hover {\n",
              "      background-color: #E2EBFA;\n",
              "      box-shadow: 0px 1px 2px rgba(60, 64, 67, 0.3), 0px 1px 3px 1px rgba(60, 64, 67, 0.15);\n",
              "      fill: #174EA6;\n",
              "    }\n",
              "\n",
              "    .colab-df-buttons div {\n",
              "      margin-bottom: 4px;\n",
              "    }\n",
              "\n",
              "    [theme=dark] .colab-df-convert {\n",
              "      background-color: #3B4455;\n",
              "      fill: #D2E3FC;\n",
              "    }\n",
              "\n",
              "    [theme=dark] .colab-df-convert:hover {\n",
              "      background-color: #434B5C;\n",
              "      box-shadow: 0px 1px 3px 1px rgba(0, 0, 0, 0.15);\n",
              "      filter: drop-shadow(0px 1px 2px rgba(0, 0, 0, 0.3));\n",
              "      fill: #FFFFFF;\n",
              "    }\n",
              "  </style>\n",
              "\n",
              "    <script>\n",
              "      const buttonEl =\n",
              "        document.querySelector('#df-f9f6f7b9-5db2-434b-9732-1d44db08afb4 button.colab-df-convert');\n",
              "      buttonEl.style.display =\n",
              "        google.colab.kernel.accessAllowed ? 'block' : 'none';\n",
              "\n",
              "      async function convertToInteractive(key) {\n",
              "        const element = document.querySelector('#df-f9f6f7b9-5db2-434b-9732-1d44db08afb4');\n",
              "        const dataTable =\n",
              "          await google.colab.kernel.invokeFunction('convertToInteractive',\n",
              "                                                    [key], {});\n",
              "        if (!dataTable) return;\n",
              "\n",
              "        const docLinkHtml = 'Like what you see? Visit the ' +\n",
              "          '<a target=\"_blank\" href=https://colab.research.google.com/notebooks/data_table.ipynb>data table notebook</a>'\n",
              "          + ' to learn more about interactive tables.';\n",
              "        element.innerHTML = '';\n",
              "        dataTable['output_type'] = 'display_data';\n",
              "        await google.colab.output.renderOutput(dataTable, element);\n",
              "        const docLink = document.createElement('div');\n",
              "        docLink.innerHTML = docLinkHtml;\n",
              "        element.appendChild(docLink);\n",
              "      }\n",
              "    </script>\n",
              "  </div>\n",
              "\n",
              "    </div>\n",
              "  </div>\n"
            ]
          },
          "metadata": {},
          "execution_count": 823
        }
      ]
    },
    {
      "cell_type": "code",
      "source": [
        "emp_Lf_df"
      ],
      "metadata": {
        "colab": {
          "base_uri": "https://localhost:8080/",
          "height": 394
        },
        "id": "UvnNxUFb85_o",
        "outputId": "bea40199-286e-4add-a418-2a1b8c000d2b"
      },
      "execution_count": null,
      "outputs": [
        {
          "output_type": "execute_result",
          "data": {
            "text/plain": [
              "               수도권                             동부권                       \\\n",
              "               농산품       공산품        서비스        농산품       공산품        서비스   \n",
              "지역  상품                                                                    \n",
              "수도권 농산품  22.651729  0.162131   0.043109   0.018534  0.023576   0.014534   \n",
              "    공산품   1.403880  4.028263   0.366757   0.314517  0.398157   0.229486   \n",
              "    서비스   2.707963  2.246110  11.755560   1.002256  1.107804   1.157607   \n",
              "동부권 농산품   0.052220  0.114127   0.085067  22.173783  0.371593   0.164150   \n",
              "    공산품   0.151657  0.360856   0.188230   0.643078  3.131731   0.356425   \n",
              "    서비스   0.164783  0.336634   0.315429   1.418883  1.566771  11.986428   \n",
              "서부권 농산품   0.089490  0.201967   0.133007   0.084775  0.146093   0.114745   \n",
              "    공산품   0.109951  0.262113   0.135482   0.170563  0.233144   0.127269   \n",
              "    서비스   0.149734  0.288510   0.321382   0.151635  0.254388   0.200098   \n",
              "\n",
              "               서부권                       \n",
              "               농산품       공산품        서비스  \n",
              "지역  상품                                   \n",
              "수도권 농산품   0.026497  0.079132   0.019150  \n",
              "    공산품   0.291059  0.472757   0.259963  \n",
              "    서비스   0.911307  1.301539   1.298939  \n",
              "동부권 농산품   0.059492  0.167367   0.045388  \n",
              "    공산품   0.222437  0.358865   0.197119  \n",
              "    서비스   0.168871  0.323432   0.284477  \n",
              "서부권 농산품  21.842043  0.716210   0.230943  \n",
              "    공산품   0.504487  2.167675   0.244420  \n",
              "    서비스   1.153608  1.308330  11.793385  "
            ],
            "text/html": [
              "\n",
              "  <div id=\"df-7f2ccd0c-6321-4a61-b5f9-094a9a73f566\" class=\"colab-df-container\">\n",
              "    <div>\n",
              "<style scoped>\n",
              "    .dataframe tbody tr th:only-of-type {\n",
              "        vertical-align: middle;\n",
              "    }\n",
              "\n",
              "    .dataframe tbody tr th {\n",
              "        vertical-align: top;\n",
              "    }\n",
              "\n",
              "    .dataframe thead tr th {\n",
              "        text-align: left;\n",
              "    }\n",
              "\n",
              "    .dataframe thead tr:last-of-type th {\n",
              "        text-align: right;\n",
              "    }\n",
              "</style>\n",
              "<table border=\"1\" class=\"dataframe\">\n",
              "  <thead>\n",
              "    <tr>\n",
              "      <th></th>\n",
              "      <th></th>\n",
              "      <th colspan=\"3\" halign=\"left\">수도권</th>\n",
              "      <th colspan=\"3\" halign=\"left\">동부권</th>\n",
              "      <th colspan=\"3\" halign=\"left\">서부권</th>\n",
              "    </tr>\n",
              "    <tr>\n",
              "      <th></th>\n",
              "      <th></th>\n",
              "      <th>농산품</th>\n",
              "      <th>공산품</th>\n",
              "      <th>서비스</th>\n",
              "      <th>농산품</th>\n",
              "      <th>공산품</th>\n",
              "      <th>서비스</th>\n",
              "      <th>농산품</th>\n",
              "      <th>공산품</th>\n",
              "      <th>서비스</th>\n",
              "    </tr>\n",
              "    <tr>\n",
              "      <th>지역</th>\n",
              "      <th>상품</th>\n",
              "      <th></th>\n",
              "      <th></th>\n",
              "      <th></th>\n",
              "      <th></th>\n",
              "      <th></th>\n",
              "      <th></th>\n",
              "      <th></th>\n",
              "      <th></th>\n",
              "      <th></th>\n",
              "    </tr>\n",
              "  </thead>\n",
              "  <tbody>\n",
              "    <tr>\n",
              "      <th rowspan=\"3\" valign=\"top\">수도권</th>\n",
              "      <th>농산품</th>\n",
              "      <td>22.651729</td>\n",
              "      <td>0.162131</td>\n",
              "      <td>0.043109</td>\n",
              "      <td>0.018534</td>\n",
              "      <td>0.023576</td>\n",
              "      <td>0.014534</td>\n",
              "      <td>0.026497</td>\n",
              "      <td>0.079132</td>\n",
              "      <td>0.019150</td>\n",
              "    </tr>\n",
              "    <tr>\n",
              "      <th>공산품</th>\n",
              "      <td>1.403880</td>\n",
              "      <td>4.028263</td>\n",
              "      <td>0.366757</td>\n",
              "      <td>0.314517</td>\n",
              "      <td>0.398157</td>\n",
              "      <td>0.229486</td>\n",
              "      <td>0.291059</td>\n",
              "      <td>0.472757</td>\n",
              "      <td>0.259963</td>\n",
              "    </tr>\n",
              "    <tr>\n",
              "      <th>서비스</th>\n",
              "      <td>2.707963</td>\n",
              "      <td>2.246110</td>\n",
              "      <td>11.755560</td>\n",
              "      <td>1.002256</td>\n",
              "      <td>1.107804</td>\n",
              "      <td>1.157607</td>\n",
              "      <td>0.911307</td>\n",
              "      <td>1.301539</td>\n",
              "      <td>1.298939</td>\n",
              "    </tr>\n",
              "    <tr>\n",
              "      <th rowspan=\"3\" valign=\"top\">동부권</th>\n",
              "      <th>농산품</th>\n",
              "      <td>0.052220</td>\n",
              "      <td>0.114127</td>\n",
              "      <td>0.085067</td>\n",
              "      <td>22.173783</td>\n",
              "      <td>0.371593</td>\n",
              "      <td>0.164150</td>\n",
              "      <td>0.059492</td>\n",
              "      <td>0.167367</td>\n",
              "      <td>0.045388</td>\n",
              "    </tr>\n",
              "    <tr>\n",
              "      <th>공산품</th>\n",
              "      <td>0.151657</td>\n",
              "      <td>0.360856</td>\n",
              "      <td>0.188230</td>\n",
              "      <td>0.643078</td>\n",
              "      <td>3.131731</td>\n",
              "      <td>0.356425</td>\n",
              "      <td>0.222437</td>\n",
              "      <td>0.358865</td>\n",
              "      <td>0.197119</td>\n",
              "    </tr>\n",
              "    <tr>\n",
              "      <th>서비스</th>\n",
              "      <td>0.164783</td>\n",
              "      <td>0.336634</td>\n",
              "      <td>0.315429</td>\n",
              "      <td>1.418883</td>\n",
              "      <td>1.566771</td>\n",
              "      <td>11.986428</td>\n",
              "      <td>0.168871</td>\n",
              "      <td>0.323432</td>\n",
              "      <td>0.284477</td>\n",
              "    </tr>\n",
              "    <tr>\n",
              "      <th rowspan=\"3\" valign=\"top\">서부권</th>\n",
              "      <th>농산품</th>\n",
              "      <td>0.089490</td>\n",
              "      <td>0.201967</td>\n",
              "      <td>0.133007</td>\n",
              "      <td>0.084775</td>\n",
              "      <td>0.146093</td>\n",
              "      <td>0.114745</td>\n",
              "      <td>21.842043</td>\n",
              "      <td>0.716210</td>\n",
              "      <td>0.230943</td>\n",
              "    </tr>\n",
              "    <tr>\n",
              "      <th>공산품</th>\n",
              "      <td>0.109951</td>\n",
              "      <td>0.262113</td>\n",
              "      <td>0.135482</td>\n",
              "      <td>0.170563</td>\n",
              "      <td>0.233144</td>\n",
              "      <td>0.127269</td>\n",
              "      <td>0.504487</td>\n",
              "      <td>2.167675</td>\n",
              "      <td>0.244420</td>\n",
              "    </tr>\n",
              "    <tr>\n",
              "      <th>서비스</th>\n",
              "      <td>0.149734</td>\n",
              "      <td>0.288510</td>\n",
              "      <td>0.321382</td>\n",
              "      <td>0.151635</td>\n",
              "      <td>0.254388</td>\n",
              "      <td>0.200098</td>\n",
              "      <td>1.153608</td>\n",
              "      <td>1.308330</td>\n",
              "      <td>11.793385</td>\n",
              "    </tr>\n",
              "  </tbody>\n",
              "</table>\n",
              "</div>\n",
              "    <div class=\"colab-df-buttons\">\n",
              "\n",
              "  <div class=\"colab-df-container\">\n",
              "    <button class=\"colab-df-convert\" onclick=\"convertToInteractive('df-7f2ccd0c-6321-4a61-b5f9-094a9a73f566')\"\n",
              "            title=\"Convert this dataframe to an interactive table.\"\n",
              "            style=\"display:none;\">\n",
              "\n",
              "  <svg xmlns=\"http://www.w3.org/2000/svg\" height=\"24px\" viewBox=\"0 -960 960 960\">\n",
              "    <path d=\"M120-120v-720h720v720H120Zm60-500h600v-160H180v160Zm220 220h160v-160H400v160Zm0 220h160v-160H400v160ZM180-400h160v-160H180v160Zm440 0h160v-160H620v160ZM180-180h160v-160H180v160Zm440 0h160v-160H620v160Z\"/>\n",
              "  </svg>\n",
              "    </button>\n",
              "\n",
              "  <style>\n",
              "    .colab-df-container {\n",
              "      display:flex;\n",
              "      gap: 12px;\n",
              "    }\n",
              "\n",
              "    .colab-df-convert {\n",
              "      background-color: #E8F0FE;\n",
              "      border: none;\n",
              "      border-radius: 50%;\n",
              "      cursor: pointer;\n",
              "      display: none;\n",
              "      fill: #1967D2;\n",
              "      height: 32px;\n",
              "      padding: 0 0 0 0;\n",
              "      width: 32px;\n",
              "    }\n",
              "\n",
              "    .colab-df-convert:hover {\n",
              "      background-color: #E2EBFA;\n",
              "      box-shadow: 0px 1px 2px rgba(60, 64, 67, 0.3), 0px 1px 3px 1px rgba(60, 64, 67, 0.15);\n",
              "      fill: #174EA6;\n",
              "    }\n",
              "\n",
              "    .colab-df-buttons div {\n",
              "      margin-bottom: 4px;\n",
              "    }\n",
              "\n",
              "    [theme=dark] .colab-df-convert {\n",
              "      background-color: #3B4455;\n",
              "      fill: #D2E3FC;\n",
              "    }\n",
              "\n",
              "    [theme=dark] .colab-df-convert:hover {\n",
              "      background-color: #434B5C;\n",
              "      box-shadow: 0px 1px 3px 1px rgba(0, 0, 0, 0.15);\n",
              "      filter: drop-shadow(0px 1px 2px rgba(0, 0, 0, 0.3));\n",
              "      fill: #FFFFFF;\n",
              "    }\n",
              "  </style>\n",
              "\n",
              "    <script>\n",
              "      const buttonEl =\n",
              "        document.querySelector('#df-7f2ccd0c-6321-4a61-b5f9-094a9a73f566 button.colab-df-convert');\n",
              "      buttonEl.style.display =\n",
              "        google.colab.kernel.accessAllowed ? 'block' : 'none';\n",
              "\n",
              "      async function convertToInteractive(key) {\n",
              "        const element = document.querySelector('#df-7f2ccd0c-6321-4a61-b5f9-094a9a73f566');\n",
              "        const dataTable =\n",
              "          await google.colab.kernel.invokeFunction('convertToInteractive',\n",
              "                                                    [key], {});\n",
              "        if (!dataTable) return;\n",
              "\n",
              "        const docLinkHtml = 'Like what you see? Visit the ' +\n",
              "          '<a target=\"_blank\" href=https://colab.research.google.com/notebooks/data_table.ipynb>data table notebook</a>'\n",
              "          + ' to learn more about interactive tables.';\n",
              "        element.innerHTML = '';\n",
              "        dataTable['output_type'] = 'display_data';\n",
              "        await google.colab.output.renderOutput(dataTable, element);\n",
              "        const docLink = document.createElement('div');\n",
              "        docLink.innerHTML = docLinkHtml;\n",
              "        element.appendChild(docLink);\n",
              "      }\n",
              "    </script>\n",
              "  </div>\n",
              "\n",
              "\n",
              "<div id=\"df-a2beefb2-197a-46b9-9b9a-1bf940156ec9\">\n",
              "  <button class=\"colab-df-quickchart\" onclick=\"quickchart('df-a2beefb2-197a-46b9-9b9a-1bf940156ec9')\"\n",
              "            title=\"Suggest charts.\"\n",
              "            style=\"display:none;\">\n",
              "\n",
              "<svg xmlns=\"http://www.w3.org/2000/svg\" height=\"24px\"viewBox=\"0 0 24 24\"\n",
              "     width=\"24px\">\n",
              "    <g>\n",
              "        <path d=\"M19 3H5c-1.1 0-2 .9-2 2v14c0 1.1.9 2 2 2h14c1.1 0 2-.9 2-2V5c0-1.1-.9-2-2-2zM9 17H7v-7h2v7zm4 0h-2V7h2v10zm4 0h-2v-4h2v4z\"/>\n",
              "    </g>\n",
              "</svg>\n",
              "  </button>\n",
              "\n",
              "<style>\n",
              "  .colab-df-quickchart {\n",
              "      --bg-color: #E8F0FE;\n",
              "      --fill-color: #1967D2;\n",
              "      --hover-bg-color: #E2EBFA;\n",
              "      --hover-fill-color: #174EA6;\n",
              "      --disabled-fill-color: #AAA;\n",
              "      --disabled-bg-color: #DDD;\n",
              "  }\n",
              "\n",
              "  [theme=dark] .colab-df-quickchart {\n",
              "      --bg-color: #3B4455;\n",
              "      --fill-color: #D2E3FC;\n",
              "      --hover-bg-color: #434B5C;\n",
              "      --hover-fill-color: #FFFFFF;\n",
              "      --disabled-bg-color: #3B4455;\n",
              "      --disabled-fill-color: #666;\n",
              "  }\n",
              "\n",
              "  .colab-df-quickchart {\n",
              "    background-color: var(--bg-color);\n",
              "    border: none;\n",
              "    border-radius: 50%;\n",
              "    cursor: pointer;\n",
              "    display: none;\n",
              "    fill: var(--fill-color);\n",
              "    height: 32px;\n",
              "    padding: 0;\n",
              "    width: 32px;\n",
              "  }\n",
              "\n",
              "  .colab-df-quickchart:hover {\n",
              "    background-color: var(--hover-bg-color);\n",
              "    box-shadow: 0 1px 2px rgba(60, 64, 67, 0.3), 0 1px 3px 1px rgba(60, 64, 67, 0.15);\n",
              "    fill: var(--button-hover-fill-color);\n",
              "  }\n",
              "\n",
              "  .colab-df-quickchart-complete:disabled,\n",
              "  .colab-df-quickchart-complete:disabled:hover {\n",
              "    background-color: var(--disabled-bg-color);\n",
              "    fill: var(--disabled-fill-color);\n",
              "    box-shadow: none;\n",
              "  }\n",
              "\n",
              "  .colab-df-spinner {\n",
              "    border: 2px solid var(--fill-color);\n",
              "    border-color: transparent;\n",
              "    border-bottom-color: var(--fill-color);\n",
              "    animation:\n",
              "      spin 1s steps(1) infinite;\n",
              "  }\n",
              "\n",
              "  @keyframes spin {\n",
              "    0% {\n",
              "      border-color: transparent;\n",
              "      border-bottom-color: var(--fill-color);\n",
              "      border-left-color: var(--fill-color);\n",
              "    }\n",
              "    20% {\n",
              "      border-color: transparent;\n",
              "      border-left-color: var(--fill-color);\n",
              "      border-top-color: var(--fill-color);\n",
              "    }\n",
              "    30% {\n",
              "      border-color: transparent;\n",
              "      border-left-color: var(--fill-color);\n",
              "      border-top-color: var(--fill-color);\n",
              "      border-right-color: var(--fill-color);\n",
              "    }\n",
              "    40% {\n",
              "      border-color: transparent;\n",
              "      border-right-color: var(--fill-color);\n",
              "      border-top-color: var(--fill-color);\n",
              "    }\n",
              "    60% {\n",
              "      border-color: transparent;\n",
              "      border-right-color: var(--fill-color);\n",
              "    }\n",
              "    80% {\n",
              "      border-color: transparent;\n",
              "      border-right-color: var(--fill-color);\n",
              "      border-bottom-color: var(--fill-color);\n",
              "    }\n",
              "    90% {\n",
              "      border-color: transparent;\n",
              "      border-bottom-color: var(--fill-color);\n",
              "    }\n",
              "  }\n",
              "</style>\n",
              "\n",
              "  <script>\n",
              "    async function quickchart(key) {\n",
              "      const quickchartButtonEl =\n",
              "        document.querySelector('#' + key + ' button');\n",
              "      quickchartButtonEl.disabled = true;  // To prevent multiple clicks.\n",
              "      quickchartButtonEl.classList.add('colab-df-spinner');\n",
              "      try {\n",
              "        const charts = await google.colab.kernel.invokeFunction(\n",
              "            'suggestCharts', [key], {});\n",
              "      } catch (error) {\n",
              "        console.error('Error during call to suggestCharts:', error);\n",
              "      }\n",
              "      quickchartButtonEl.classList.remove('colab-df-spinner');\n",
              "      quickchartButtonEl.classList.add('colab-df-quickchart-complete');\n",
              "    }\n",
              "    (() => {\n",
              "      let quickchartButtonEl =\n",
              "        document.querySelector('#df-a2beefb2-197a-46b9-9b9a-1bf940156ec9 button');\n",
              "      quickchartButtonEl.style.display =\n",
              "        google.colab.kernel.accessAllowed ? 'block' : 'none';\n",
              "    })();\n",
              "  </script>\n",
              "</div>\n",
              "    </div>\n",
              "  </div>\n"
            ]
          },
          "metadata": {},
          "execution_count": 824
        }
      ]
    },
    {
      "cell_type": "code",
      "source": [
        "emp_ratio_df.to_csv('지역별_상품별_취업계수.csv', encoding='utf_8-sig')\n",
        "emp_Lf_df.to_csv('지역별_상품별_취업유발계수.csv', encoding='utf_8-sig')"
      ],
      "metadata": {
        "id": "gsdIn0-N86B5"
      },
      "execution_count": null,
      "outputs": []
    },
    {
      "cell_type": "markdown",
      "source": [
        "### Tiva_in and Tiva_out"
      ],
      "metadata": {
        "id": "yEtHgyZKZd4d"
      }
    },
    {
      "cell_type": "markdown",
      "source": [
        "## 수도권의 Tiva_in and Tiva_out"
      ],
      "metadata": {
        "id": "-ZXhaT1HahRC"
      }
    },
    {
      "cell_type": "code",
      "source": [
        "Fd = Mt[:9,10:19]\n",
        "Fd_sudo = Fd[:,0:3].sum(axis=1)\n",
        "Fd_non_sudo = Fd[:,3:9].sum(axis=1)\n",
        "Fd"
      ],
      "metadata": {
        "id": "1GcoiTbfaeZP",
        "outputId": "8427667d-2fa5-4cc2-f0db-ef7c23110749",
        "colab": {
          "base_uri": "https://localhost:8080/"
        }
      },
      "execution_count": null,
      "outputs": [
        {
          "output_type": "execute_result",
          "data": {
            "text/plain": [
              "array([[  1.,   0.,   0.,   0.,   0.,   0.,   0.,   0.,   0.],\n",
              "       [ 29.,  21., 215.,   9.,   6.,   0.,   7.,   8.,   0.],\n",
              "       [387., 164.,  67.,  33.,  13.,   0.,  31.,  11.,   0.],\n",
              "       [  3.,   0.,   0.,   3.,   1.,   0.,   1.,   0.,   0.],\n",
              "       [ 20.,  15.,   0.,  19.,  11., 226.,   7.,   7.,   0.],\n",
              "       [ 11.,   2.,   0., 194.,  77.,  26.,   5.,   1.,   0.],\n",
              "       [  3.,   0.,   0.,   1.,   0.,   0.,   2.,   1.,   0.],\n",
              "       [ 15.,   9.,   0.,   7.,   4.,   0.,  15.,   5., 168.],\n",
              "       [ 15.,   4.,   0.,   5.,   1.,   0., 146.,  71.,  12.]])"
            ]
          },
          "metadata": {},
          "execution_count": 826
        }
      ]
    },
    {
      "cell_type": "code",
      "source": [
        "Mtx_for_vain = Lv@np.diagflat(Fd_sudo)\n",
        "Mtx_for_vaout = Lv@np.diagflat(Fd_non_sudo)\n",
        "Mtx_for_vaout"
      ],
      "metadata": {
        "id": "CflfUbWYaecK",
        "outputId": "33867db5-2813-4564-a42a-9a73358a471c",
        "colab": {
          "base_uri": "https://localhost:8080/"
        }
      },
      "execution_count": null,
      "outputs": [
        {
          "output_type": "execute_result",
          "data": {
            "text/plain": [
              "array([[  0.   ,   0.108,   0.084,   0.002,   0.141,   0.097,   0.002,\n",
              "          0.349,   0.1  ],\n",
              "       [  0.   ,  11.895,   3.177,   0.155,  10.581,   6.844,   0.115,\n",
              "          9.26 ,   6.013],\n",
              "       [  0.   ,   4.245,  65.164,   0.316,  18.841,  22.095,   0.23 ,\n",
              "         16.315,  19.228],\n",
              "       [  0.   ,   0.092,   0.2  ,   2.968,   2.686,   1.331,   0.006,\n",
              "          0.892,   0.286],\n",
              "       [  0.   ,   1.259,   1.927,   0.374,  98.369,  12.564,   0.104,\n",
              "          8.308,   5.389],\n",
              "       [  0.   ,   0.566,   1.556,   0.398,  23.716, 203.615,   0.038,\n",
              "          3.608,   3.748],\n",
              "       [  0.   ,   0.16 ,   0.309,   0.011,   1.041,   0.917,   2.305,\n",
              "          3.761,   1.432],\n",
              "       [  0.   ,   1.291,   1.957,   0.14 ,  10.331,   6.329,   0.331,\n",
              "         70.794,   9.427],\n",
              "       [  0.   ,   0.476,   1.554,   0.042,   3.774,   3.331,   0.254,\n",
              "         14.304, 152.263]])"
            ]
          },
          "metadata": {},
          "execution_count": 827
        }
      ]
    },
    {
      "cell_type": "code",
      "source": [
        "Tiva_in_sudo = Mtx_for_vaout[:3,:] # 타지역 최종수요에 의한 수도권 부가가치유발\n",
        "Tiva_out_sudo = Mtx_for_vain[3:,:] # 수도권 최종수요에 의한 타지역 부가가치유발\n",
        "Tiva_out_sudo"
      ],
      "metadata": {
        "id": "IjgYPmmzaeew",
        "outputId": "af4c8387-b378-4406-d206-1dd33527b919",
        "colab": {
          "base_uri": "https://localhost:8080/"
        }
      },
      "execution_count": null,
      "outputs": [
        {
          "output_type": "execute_result",
          "data": {
            "text/plain": [
              "array([[ 0.001,  0.81 ,  1.407,  1.781,  0.348,  0.057,  0.005,  0.108,\n",
              "         0.023],\n",
              "       [ 0.018, 11.125, 13.533,  0.224, 12.752,  0.539,  0.078,  1.002,\n",
              "         0.436],\n",
              "       [ 0.009,  5.001, 10.929,  0.239,  3.074,  8.736,  0.028,  0.435,\n",
              "         0.303],\n",
              "       [ 0.002,  1.412,  2.169,  0.007,  0.135,  0.039,  1.729,  0.454,\n",
              "         0.116],\n",
              "       [ 0.018, 11.399, 13.741,  0.084,  1.339,  0.272,  0.248,  8.538,\n",
              "         0.762],\n",
              "       [ 0.008,  4.2  , 10.912,  0.025,  0.489,  0.143,  0.19 ,  1.725,\n",
              "        12.311]])"
            ]
          },
          "metadata": {},
          "execution_count": 828
        }
      ]
    },
    {
      "cell_type": "code",
      "source": [
        "Tiva_in_sudo_df = pd.DataFrame(Tiva_in_sudo.round(3), columns = [['수도권', '수도권', '수도권', '동부권', '동부권', '동부권','서부권', '서부권', '서부권'],\n",
        "                                    ['농산품', '공산품', '서비스', '농산품', '공산품', '서비스','농산품', '공산품', '서비스']],\n",
        "\n",
        "                                    index=[['수도권', '수도권', '수도권'],\n",
        "                                           ['농산품', '공산품', '서비스']])\n",
        "\n",
        "Tiva_out_sudo_df = pd.DataFrame(Tiva_out_sudo, columns = [['수도권', '수도권', '수도권', '동부권', '동부권', '동부권','서부권', '서부권', '서부권'],\n",
        "                                    ['농산품', '공산품', '서비스', '농산품', '공산품', '서비스','농산품', '공산품', '서비스']],\n",
        "\n",
        "                                    index=[['동부권', '동부권', '동부권','서부권', '서부권', '서부권'],\n",
        "                                           ['농산품', '공산품', '서비스','농산품', '공산품', '서비스']])\n",
        "\n",
        "Tiva_in_sudo_df.index.names=['지역', '상품']\n",
        "Tiva_out_sudo_df.index.names=['지역', '상품']\n",
        "Tiva_out_sudo_df"
      ],
      "metadata": {
        "id": "6GCQfPIGgsRs",
        "outputId": "93430a89-42e4-4a2d-d3a0-5319b1ba63dc",
        "colab": {
          "base_uri": "https://localhost:8080/",
          "height": 300
        }
      },
      "execution_count": null,
      "outputs": [
        {
          "output_type": "execute_result",
          "data": {
            "text/plain": [
              "              수도권                             동부권                       \\\n",
              "              농산품        공산품        서비스       농산품        공산품       서비스   \n",
              "지역  상품                                                                   \n",
              "동부권 농산품  0.001398   0.809585   1.407266  1.780689   0.348147  0.057123   \n",
              "    공산품  0.017643  11.124796  13.532872  0.224438  12.751595  0.539043   \n",
              "    서비스  0.009238   5.001276  10.928672  0.238641   3.074328  8.735946   \n",
              "서부권 농산품  0.002361   1.412315   2.169040  0.006711   0.134929  0.039362   \n",
              "    공산품  0.018045  11.399423  13.741058  0.083976   1.339188  0.271527   \n",
              "    서비스  0.008226   4.200449  10.911884  0.024993   0.489163  0.142914   \n",
              "\n",
              "              서부권                       \n",
              "              농산품       공산품        서비스  \n",
              "지역  상품                                  \n",
              "동부권 농산품  0.004778  0.107525   0.023084  \n",
              "    공산품  0.077632  1.001970   0.435707  \n",
              "    서비스  0.028402  0.435182   0.303025  \n",
              "서부권 농산품  1.729101  0.453584   0.115788  \n",
              "    공산품  0.248382  8.537955   0.762149  \n",
              "    서비스  0.190138  1.725113  12.310655  "
            ],
            "text/html": [
              "\n",
              "  <div id=\"df-9a9c7121-847d-4274-bcb3-e722dbbb155a\" class=\"colab-df-container\">\n",
              "    <div>\n",
              "<style scoped>\n",
              "    .dataframe tbody tr th:only-of-type {\n",
              "        vertical-align: middle;\n",
              "    }\n",
              "\n",
              "    .dataframe tbody tr th {\n",
              "        vertical-align: top;\n",
              "    }\n",
              "\n",
              "    .dataframe thead tr th {\n",
              "        text-align: left;\n",
              "    }\n",
              "\n",
              "    .dataframe thead tr:last-of-type th {\n",
              "        text-align: right;\n",
              "    }\n",
              "</style>\n",
              "<table border=\"1\" class=\"dataframe\">\n",
              "  <thead>\n",
              "    <tr>\n",
              "      <th></th>\n",
              "      <th></th>\n",
              "      <th colspan=\"3\" halign=\"left\">수도권</th>\n",
              "      <th colspan=\"3\" halign=\"left\">동부권</th>\n",
              "      <th colspan=\"3\" halign=\"left\">서부권</th>\n",
              "    </tr>\n",
              "    <tr>\n",
              "      <th></th>\n",
              "      <th></th>\n",
              "      <th>농산품</th>\n",
              "      <th>공산품</th>\n",
              "      <th>서비스</th>\n",
              "      <th>농산품</th>\n",
              "      <th>공산품</th>\n",
              "      <th>서비스</th>\n",
              "      <th>농산품</th>\n",
              "      <th>공산품</th>\n",
              "      <th>서비스</th>\n",
              "    </tr>\n",
              "    <tr>\n",
              "      <th>지역</th>\n",
              "      <th>상품</th>\n",
              "      <th></th>\n",
              "      <th></th>\n",
              "      <th></th>\n",
              "      <th></th>\n",
              "      <th></th>\n",
              "      <th></th>\n",
              "      <th></th>\n",
              "      <th></th>\n",
              "      <th></th>\n",
              "    </tr>\n",
              "  </thead>\n",
              "  <tbody>\n",
              "    <tr>\n",
              "      <th rowspan=\"3\" valign=\"top\">동부권</th>\n",
              "      <th>농산품</th>\n",
              "      <td>0.001398</td>\n",
              "      <td>0.809585</td>\n",
              "      <td>1.407266</td>\n",
              "      <td>1.780689</td>\n",
              "      <td>0.348147</td>\n",
              "      <td>0.057123</td>\n",
              "      <td>0.004778</td>\n",
              "      <td>0.107525</td>\n",
              "      <td>0.023084</td>\n",
              "    </tr>\n",
              "    <tr>\n",
              "      <th>공산품</th>\n",
              "      <td>0.017643</td>\n",
              "      <td>11.124796</td>\n",
              "      <td>13.532872</td>\n",
              "      <td>0.224438</td>\n",
              "      <td>12.751595</td>\n",
              "      <td>0.539043</td>\n",
              "      <td>0.077632</td>\n",
              "      <td>1.001970</td>\n",
              "      <td>0.435707</td>\n",
              "    </tr>\n",
              "    <tr>\n",
              "      <th>서비스</th>\n",
              "      <td>0.009238</td>\n",
              "      <td>5.001276</td>\n",
              "      <td>10.928672</td>\n",
              "      <td>0.238641</td>\n",
              "      <td>3.074328</td>\n",
              "      <td>8.735946</td>\n",
              "      <td>0.028402</td>\n",
              "      <td>0.435182</td>\n",
              "      <td>0.303025</td>\n",
              "    </tr>\n",
              "    <tr>\n",
              "      <th rowspan=\"3\" valign=\"top\">서부권</th>\n",
              "      <th>농산품</th>\n",
              "      <td>0.002361</td>\n",
              "      <td>1.412315</td>\n",
              "      <td>2.169040</td>\n",
              "      <td>0.006711</td>\n",
              "      <td>0.134929</td>\n",
              "      <td>0.039362</td>\n",
              "      <td>1.729101</td>\n",
              "      <td>0.453584</td>\n",
              "      <td>0.115788</td>\n",
              "    </tr>\n",
              "    <tr>\n",
              "      <th>공산품</th>\n",
              "      <td>0.018045</td>\n",
              "      <td>11.399423</td>\n",
              "      <td>13.741058</td>\n",
              "      <td>0.083976</td>\n",
              "      <td>1.339188</td>\n",
              "      <td>0.271527</td>\n",
              "      <td>0.248382</td>\n",
              "      <td>8.537955</td>\n",
              "      <td>0.762149</td>\n",
              "    </tr>\n",
              "    <tr>\n",
              "      <th>서비스</th>\n",
              "      <td>0.008226</td>\n",
              "      <td>4.200449</td>\n",
              "      <td>10.911884</td>\n",
              "      <td>0.024993</td>\n",
              "      <td>0.489163</td>\n",
              "      <td>0.142914</td>\n",
              "      <td>0.190138</td>\n",
              "      <td>1.725113</td>\n",
              "      <td>12.310655</td>\n",
              "    </tr>\n",
              "  </tbody>\n",
              "</table>\n",
              "</div>\n",
              "    <div class=\"colab-df-buttons\">\n",
              "\n",
              "  <div class=\"colab-df-container\">\n",
              "    <button class=\"colab-df-convert\" onclick=\"convertToInteractive('df-9a9c7121-847d-4274-bcb3-e722dbbb155a')\"\n",
              "            title=\"Convert this dataframe to an interactive table.\"\n",
              "            style=\"display:none;\">\n",
              "\n",
              "  <svg xmlns=\"http://www.w3.org/2000/svg\" height=\"24px\" viewBox=\"0 -960 960 960\">\n",
              "    <path d=\"M120-120v-720h720v720H120Zm60-500h600v-160H180v160Zm220 220h160v-160H400v160Zm0 220h160v-160H400v160ZM180-400h160v-160H180v160Zm440 0h160v-160H620v160ZM180-180h160v-160H180v160Zm440 0h160v-160H620v160Z\"/>\n",
              "  </svg>\n",
              "    </button>\n",
              "\n",
              "  <style>\n",
              "    .colab-df-container {\n",
              "      display:flex;\n",
              "      gap: 12px;\n",
              "    }\n",
              "\n",
              "    .colab-df-convert {\n",
              "      background-color: #E8F0FE;\n",
              "      border: none;\n",
              "      border-radius: 50%;\n",
              "      cursor: pointer;\n",
              "      display: none;\n",
              "      fill: #1967D2;\n",
              "      height: 32px;\n",
              "      padding: 0 0 0 0;\n",
              "      width: 32px;\n",
              "    }\n",
              "\n",
              "    .colab-df-convert:hover {\n",
              "      background-color: #E2EBFA;\n",
              "      box-shadow: 0px 1px 2px rgba(60, 64, 67, 0.3), 0px 1px 3px 1px rgba(60, 64, 67, 0.15);\n",
              "      fill: #174EA6;\n",
              "    }\n",
              "\n",
              "    .colab-df-buttons div {\n",
              "      margin-bottom: 4px;\n",
              "    }\n",
              "\n",
              "    [theme=dark] .colab-df-convert {\n",
              "      background-color: #3B4455;\n",
              "      fill: #D2E3FC;\n",
              "    }\n",
              "\n",
              "    [theme=dark] .colab-df-convert:hover {\n",
              "      background-color: #434B5C;\n",
              "      box-shadow: 0px 1px 3px 1px rgba(0, 0, 0, 0.15);\n",
              "      filter: drop-shadow(0px 1px 2px rgba(0, 0, 0, 0.3));\n",
              "      fill: #FFFFFF;\n",
              "    }\n",
              "  </style>\n",
              "\n",
              "    <script>\n",
              "      const buttonEl =\n",
              "        document.querySelector('#df-9a9c7121-847d-4274-bcb3-e722dbbb155a button.colab-df-convert');\n",
              "      buttonEl.style.display =\n",
              "        google.colab.kernel.accessAllowed ? 'block' : 'none';\n",
              "\n",
              "      async function convertToInteractive(key) {\n",
              "        const element = document.querySelector('#df-9a9c7121-847d-4274-bcb3-e722dbbb155a');\n",
              "        const dataTable =\n",
              "          await google.colab.kernel.invokeFunction('convertToInteractive',\n",
              "                                                    [key], {});\n",
              "        if (!dataTable) return;\n",
              "\n",
              "        const docLinkHtml = 'Like what you see? Visit the ' +\n",
              "          '<a target=\"_blank\" href=https://colab.research.google.com/notebooks/data_table.ipynb>data table notebook</a>'\n",
              "          + ' to learn more about interactive tables.';\n",
              "        element.innerHTML = '';\n",
              "        dataTable['output_type'] = 'display_data';\n",
              "        await google.colab.output.renderOutput(dataTable, element);\n",
              "        const docLink = document.createElement('div');\n",
              "        docLink.innerHTML = docLinkHtml;\n",
              "        element.appendChild(docLink);\n",
              "      }\n",
              "    </script>\n",
              "  </div>\n",
              "\n",
              "\n",
              "<div id=\"df-bd92e8e1-ef21-41ea-b812-4a24d1081f00\">\n",
              "  <button class=\"colab-df-quickchart\" onclick=\"quickchart('df-bd92e8e1-ef21-41ea-b812-4a24d1081f00')\"\n",
              "            title=\"Suggest charts.\"\n",
              "            style=\"display:none;\">\n",
              "\n",
              "<svg xmlns=\"http://www.w3.org/2000/svg\" height=\"24px\"viewBox=\"0 0 24 24\"\n",
              "     width=\"24px\">\n",
              "    <g>\n",
              "        <path d=\"M19 3H5c-1.1 0-2 .9-2 2v14c0 1.1.9 2 2 2h14c1.1 0 2-.9 2-2V5c0-1.1-.9-2-2-2zM9 17H7v-7h2v7zm4 0h-2V7h2v10zm4 0h-2v-4h2v4z\"/>\n",
              "    </g>\n",
              "</svg>\n",
              "  </button>\n",
              "\n",
              "<style>\n",
              "  .colab-df-quickchart {\n",
              "      --bg-color: #E8F0FE;\n",
              "      --fill-color: #1967D2;\n",
              "      --hover-bg-color: #E2EBFA;\n",
              "      --hover-fill-color: #174EA6;\n",
              "      --disabled-fill-color: #AAA;\n",
              "      --disabled-bg-color: #DDD;\n",
              "  }\n",
              "\n",
              "  [theme=dark] .colab-df-quickchart {\n",
              "      --bg-color: #3B4455;\n",
              "      --fill-color: #D2E3FC;\n",
              "      --hover-bg-color: #434B5C;\n",
              "      --hover-fill-color: #FFFFFF;\n",
              "      --disabled-bg-color: #3B4455;\n",
              "      --disabled-fill-color: #666;\n",
              "  }\n",
              "\n",
              "  .colab-df-quickchart {\n",
              "    background-color: var(--bg-color);\n",
              "    border: none;\n",
              "    border-radius: 50%;\n",
              "    cursor: pointer;\n",
              "    display: none;\n",
              "    fill: var(--fill-color);\n",
              "    height: 32px;\n",
              "    padding: 0;\n",
              "    width: 32px;\n",
              "  }\n",
              "\n",
              "  .colab-df-quickchart:hover {\n",
              "    background-color: var(--hover-bg-color);\n",
              "    box-shadow: 0 1px 2px rgba(60, 64, 67, 0.3), 0 1px 3px 1px rgba(60, 64, 67, 0.15);\n",
              "    fill: var(--button-hover-fill-color);\n",
              "  }\n",
              "\n",
              "  .colab-df-quickchart-complete:disabled,\n",
              "  .colab-df-quickchart-complete:disabled:hover {\n",
              "    background-color: var(--disabled-bg-color);\n",
              "    fill: var(--disabled-fill-color);\n",
              "    box-shadow: none;\n",
              "  }\n",
              "\n",
              "  .colab-df-spinner {\n",
              "    border: 2px solid var(--fill-color);\n",
              "    border-color: transparent;\n",
              "    border-bottom-color: var(--fill-color);\n",
              "    animation:\n",
              "      spin 1s steps(1) infinite;\n",
              "  }\n",
              "\n",
              "  @keyframes spin {\n",
              "    0% {\n",
              "      border-color: transparent;\n",
              "      border-bottom-color: var(--fill-color);\n",
              "      border-left-color: var(--fill-color);\n",
              "    }\n",
              "    20% {\n",
              "      border-color: transparent;\n",
              "      border-left-color: var(--fill-color);\n",
              "      border-top-color: var(--fill-color);\n",
              "    }\n",
              "    30% {\n",
              "      border-color: transparent;\n",
              "      border-left-color: var(--fill-color);\n",
              "      border-top-color: var(--fill-color);\n",
              "      border-right-color: var(--fill-color);\n",
              "    }\n",
              "    40% {\n",
              "      border-color: transparent;\n",
              "      border-right-color: var(--fill-color);\n",
              "      border-top-color: var(--fill-color);\n",
              "    }\n",
              "    60% {\n",
              "      border-color: transparent;\n",
              "      border-right-color: var(--fill-color);\n",
              "    }\n",
              "    80% {\n",
              "      border-color: transparent;\n",
              "      border-right-color: var(--fill-color);\n",
              "      border-bottom-color: var(--fill-color);\n",
              "    }\n",
              "    90% {\n",
              "      border-color: transparent;\n",
              "      border-bottom-color: var(--fill-color);\n",
              "    }\n",
              "  }\n",
              "</style>\n",
              "\n",
              "  <script>\n",
              "    async function quickchart(key) {\n",
              "      const quickchartButtonEl =\n",
              "        document.querySelector('#' + key + ' button');\n",
              "      quickchartButtonEl.disabled = true;  // To prevent multiple clicks.\n",
              "      quickchartButtonEl.classList.add('colab-df-spinner');\n",
              "      try {\n",
              "        const charts = await google.colab.kernel.invokeFunction(\n",
              "            'suggestCharts', [key], {});\n",
              "      } catch (error) {\n",
              "        console.error('Error during call to suggestCharts:', error);\n",
              "      }\n",
              "      quickchartButtonEl.classList.remove('colab-df-spinner');\n",
              "      quickchartButtonEl.classList.add('colab-df-quickchart-complete');\n",
              "    }\n",
              "    (() => {\n",
              "      let quickchartButtonEl =\n",
              "        document.querySelector('#df-bd92e8e1-ef21-41ea-b812-4a24d1081f00 button');\n",
              "      quickchartButtonEl.style.display =\n",
              "        google.colab.kernel.accessAllowed ? 'block' : 'none';\n",
              "    })();\n",
              "  </script>\n",
              "</div>\n",
              "    </div>\n",
              "  </div>\n"
            ]
          },
          "metadata": {},
          "execution_count": 829
        }
      ]
    },
    {
      "cell_type": "code",
      "source": [
        "Tiva_in_sudo_df.to_csv('부가가치이입.csv', encoding='utf_8-sig')\n",
        "Tiva_out_sudo_df.to_csv('부가가치이출.csv', encoding='utf_8-sig')"
      ],
      "metadata": {
        "id": "6UQ2Tj4ViDPD"
      },
      "execution_count": null,
      "outputs": []
    },
    {
      "cell_type": "markdown",
      "source": [
        "### 최종수요 항목별 유발효과----참고용으로 실제 2015년 지역산업연관표에서는 공표하지 않았음"
      ],
      "metadata": {
        "id": "6zhSQgh83SmB"
      }
    },
    {
      "cell_type": "markdown",
      "source": [
        "##### 생산유발효과"
      ],
      "metadata": {
        "id": "P8-fs47q3WzF"
      }
    },
    {
      "cell_type": "code",
      "source": [
        "# Yd = Mt[:9,10:19]  # 국산최종수요...소비, 투자, 수출\n",
        "# Yi = Mt[9:12,10:19]  # 수입최종수요...소비, 투자, 수출\n",
        "# # print('국산최종수요 : \\n', Yd)\n",
        "# # print('수입최종수요 : \\n', Yi)\n",
        "# Yi_dig = linalg.block_diag(Yi[:,0:3],Yi[:,3:6],Yi[:,6:9]) # 각 지역최종수요 대각화\n",
        "# Yi_dig.shape"
      ],
      "metadata": {
        "id": "aZ0NQ51_-OTA"
      },
      "execution_count": null,
      "outputs": []
    },
    {
      "cell_type": "code",
      "source": [
        "# Lfyd = (Lf@Yd).astype(float).reshape([9,9])   # 데이터타입을 float으로 지정하고 3x3행렬로 지정\n",
        "# Lvyd = (Lv@Yd).astype(float).reshape([9,9])   # 데이터타입을 float으로 지정하고 3x3행렬로 지정\n",
        "# Liyd = (Li@Yd).astype(float).reshape([9,9]) + Yi_dig.astype(float).reshape([9,9]) # 데이터타입을 float으로 지정하고 3x3행렬로 지정\n",
        "\n",
        "# # print('최종수요항목별 생산유발계수 : \\n', Lfyd)\n",
        "# # print('최종수요항목별 부가가치유발계수 : \\n', Lvyd)\n",
        "# print('최종수요항목별 수입유발계수 : \\n', Liyd)\n"
      ],
      "metadata": {
        "id": "vI4pjfvx-WU_"
      },
      "execution_count": null,
      "outputs": []
    },
    {
      "cell_type": "code",
      "source": [
        "##### 최종수요항목별 유발계수 검증...최종수요항목별 생산유발계수=산출액, 최종수요항목별 부가가치유발계수=부가가치, 최종수요항목별 수입유발계수=수입 이 성립하여야 함"
      ],
      "metadata": {
        "id": "2i4MUlDg5HPP"
      },
      "execution_count": null,
      "outputs": []
    },
    {
      "cell_type": "code",
      "source": [
        "# Lfyd_sm = Lfyd.sum(axis=1).astype(float).reshape([9,1])\n",
        "# Lvyd_sm = Lvyd.sum(axis=1).astype(float).reshape([9,1])\n",
        "# Liyd_sm = Liyd.sum(axis=1).astype(float).reshape([9,1])\n",
        "\n",
        "# print('최종수요항목별 생산유발계수의 열합 : \\n', Lfyd_sm)\n",
        "# print('최종수요항목별 부가가치유발의 열합 : \\n', Lvyd_sm)\n",
        "# print('최종수요항목별 수입유발계의 열합 : \\n', Liyd_sm)"
      ],
      "metadata": {
        "id": "kJH9hmlC5HUr"
      },
      "execution_count": null,
      "outputs": []
    },
    {
      "cell_type": "markdown",
      "source": [
        "###### 최종수요항목별 생산, 부가가치 및 수입유발계수"
      ],
      "metadata": {
        "id": "lIoPBD-Fae1A"
      }
    },
    {
      "cell_type": "code",
      "source": [
        "# Yd_rw_sm =Yd.sum(axis=0)  #국산최종수요항목별(소비, 투자, 수출) 행합\n",
        "# Yi_rw_sm =Yi.sum(axis=0)  #수입최종수요항목별(소비, 투자, 수출) 행합\n",
        "\n",
        "# Lfyd_rw_sm = Lfyd.sum(axis=0) # 최종수요항목별(소비, 투자, 수출) 생산유발계수 행합\n",
        "# Lvyd_rw_sm = Lvyd.sum(axis=0) # 최종수요항목별(소비, 투자, 수출) 부가가치유발계수 행합\n",
        "# Liyd_rw_sm = Liyd.sum(axis=0) # 최종수요항목별(소비, 투자, 수출) 수입유발계수 행합\n",
        "\n",
        "# print('최종수요항목별 행합 : \\n', Yd_rw_sm)\n",
        "# print('최종수요항목별 생산유발계수 행합 : \\n', Lfyd_rw_sm)\n",
        "# print('최종수요항목별 부가가치유발계수 행합 : \\n', Lvyd_rw_sm)\n",
        "# print('최종수요항목별 수입유발계수 행합: \\n', Liyd_rw_sm)"
      ],
      "metadata": {
        "id": "6XUSbGUyanOq"
      },
      "execution_count": null,
      "outputs": []
    },
    {
      "cell_type": "markdown",
      "source": [
        "##### 최종수요항목별(소비, 투자, 수출) 유발계수"
      ],
      "metadata": {
        "id": "_hjFJ_N0dggV"
      }
    },
    {
      "cell_type": "code",
      "source": [
        "# Lfyd_coef =(Lfyd_rw_sm/Yd_rw_sm).astype(float).reshape([1,9]) #최종수요항목별(소비, 투자, 수출) 생산유발계수\n",
        "# Lvyd_coef =(Lvyd_rw_sm/Yd_rw_sm).astype(float).reshape([1,9]) #최종수요항목별(소비, 투자, 수출) 생산유발계수\n",
        "# Liyd_coef =(Liyd_rw_sm/(Yd_rw_sm+Yi_rw_sm)).astype(float).reshape([1,9]) #최종수요항목별(소비, 투자, 수출) 생산유발계수\n",
        "\n",
        "# print('최종수요항목별(소비, 투자, 수출) 생산유발계수 행합 : \\n', Lfyd_coef)\n",
        "# print('최종수요항목별(소비, 투자, 수출) 부가가치유발계수 행합 : \\n', Lvyd_coef)\n",
        "# print('최종수요항목별(소비, 투자, 수출) 수입유발계수 행합: \\n', Liyd_coef)"
      ],
      "metadata": {
        "id": "MmV_4BB-anZi"
      },
      "execution_count": null,
      "outputs": []
    },
    {
      "cell_type": "markdown",
      "source": [
        "###### 영향력계수(후방연쇄효과) 및 감응도계수(전방연쇄효과)"
      ],
      "metadata": {
        "id": "Kr23Ly0AhpVR"
      }
    },
    {
      "cell_type": "code",
      "source": [
        "# Lf_rw_sm = Lf.sum(axis=0)  # 생산유발계수 행합\n",
        "# Lf_cl_sm = Lf.sum(axis=1)  # 생산유발계수 행합\n",
        "\n",
        "# Lf_bwd = (Lf.sum(axis=0)/Lf_rw_sm.mean()).astype(float).reshape([1,9])  #영향력 계수\n",
        "# Lf_fwd = (Lf.sum(axis=1)/Lf_cl_sm.mean()).astype(float).reshape([1,9])  #감응도 계수\n",
        "\n",
        "# print('품목별 영향력계수 : \\n', Lf_bwd)\n",
        "# print('품목별 감음도계수: \\n', Lf_fwd)"
      ],
      "metadata": {
        "id": "DxnO-URDanip"
      },
      "execution_count": null,
      "outputs": []
    },
    {
      "cell_type": "code",
      "source": [
        "# df_Lfyd = pd.DataFrame(Lfyd, columns = [['수도권', '수도권', '수도권', '서부권', '서부권', '서부권','동부권', '동부권', '동부권'],\n",
        "#                                                  ['소비', '투자', '수출', '소비', '투자', '수출','소비', '투자', '수출']],\n",
        "\n",
        "#                                      index=[['수도권', '수도권', '수도권', '서부권', '서부권', '서부권','동부권', '동부권', '동부권'],\n",
        "#                                             ['농산품', '공산품', '서비스', '농산품', '공산품', '서비스','농산품', '공산품', '서비스']])\n",
        "# df_Lfyd.index.names=['지역', '상품']\n",
        "# # Lf_df  #pandas로 내보내기"
      ],
      "metadata": {
        "id": "G-mJLG0can6J"
      },
      "execution_count": null,
      "outputs": []
    },
    {
      "cell_type": "code",
      "source": [
        "# df_Lvyd = pd.DataFrame(Lvyd, columns =  [['수도권', '수도권', '수도권', '서부권', '서부권', '서부권','동부권', '동부권', '동부권'],\n",
        "#                                                  ['소비', '투자', '수출', '소비', '투자', '수출','소비', '투자', '수출']],\n",
        "\n",
        "\n",
        "#                                      index=[['수도권', '수도권', '수도권', '서부권', '서부권', '서부권','동부권', '동부권', '동부권'],\n",
        "#                                             ['농산품', '공산품', '서비스', '농산품', '공산품', '서비스','농산품', '공산품', '서비스']])\n",
        "# df_Lvyd.index.names=['지역', '상품']"
      ],
      "metadata": {
        "id": "OcdzFts-aoCe"
      },
      "execution_count": null,
      "outputs": []
    },
    {
      "cell_type": "code",
      "source": [
        "# df_Liyd = pd.DataFrame(Liyd, columns =  [['수도권', '수도권', '수도권', '서부권', '서부권', '서부권','동부권', '동부권', '동부권'],\n",
        "#                                                  ['소비', '투자', '수출', '소비', '투자', '수출','소비', '투자', '수출']],\n",
        "\n",
        "#                                      index=[['수도권', '수도권', '수도권', '서부권', '서부권', '서부권','동부권', '동부권', '동부권'],\n",
        "#                                             ['농산품', '공산품', '서비스', '농산품', '공산품', '서비스','농산품', '공산품', '서비스']])\n",
        "# df_Liyd.index.names=['지역', '상품']"
      ],
      "metadata": {
        "id": "DhcxuVr9NSEY"
      },
      "execution_count": null,
      "outputs": []
    },
    {
      "cell_type": "code",
      "source": [
        "# df_Lfyd_coef = pd.DataFrame(Lf_bwd,columns =  [['수도권', '수도권', '수도권', '서부권', '서부권', '서부권','동부권', '동부권', '동부권'],\n",
        "#                                                  ['소비', '투자', '수출', '소비', '투자', '수출','소비', '투자', '수출']])\n",
        "\n",
        "\n",
        "# df_Lvyd_coef = pd.DataFrame(Lvyd_coef,columns =  [['수도권', '수도권', '수도권', '서부권', '서부권', '서부권','동부권', '동부권', '동부권'],\n",
        "#                                                  ['소비', '투자', '수출', '소비', '투자', '수출','소비', '투자', '수출']])\n",
        "\n",
        "\n",
        "# df_Liyd_coef = pd.DataFrame(Liyd_coef,columns =  [['수도권', '수도권', '수도권', '서부권', '서부권', '서부권','동부권', '동부권', '동부권'],\n",
        "#                                                  ['소비', '투자', '수출', '소비', '투자', '수출','소비', '투자', '수출']])\n"
      ],
      "metadata": {
        "id": "hqbA6HQ6Nh6H"
      },
      "execution_count": null,
      "outputs": []
    },
    {
      "cell_type": "code",
      "source": [
        "# df_Lf_bwd = pd.DataFrame(Lf_bwd.round(3),columns = [['수도권', '수도권', '수도권', '서부권', '서부권', '서부권','동부권', '동부권', '동부권'],\n",
        "#                                                  ['소비', '투자', '수출', '소비', '투자', '수출','소비', '투자', '수출']], index=['영향력계수'])\n",
        "\n",
        "# df_Lf_fwd = pd.DataFrame(Lf_fwd.round(3),columns =  [['수도권', '수도권', '수도권', '서부권', '서부권', '서부권','동부권', '동부권', '동부권'],\n",
        "#                                                  ['소비', '투자', '수출', '소비', '투자', '수출','소비', '투자', '수출']],index=['감응도계수'])\n"
      ],
      "metadata": {
        "id": "FhAqbIF-OGDF"
      },
      "execution_count": null,
      "outputs": []
    },
    {
      "cell_type": "code",
      "source": [
        "# csv 파일로 내보내기\n",
        "# df_Lfyd.to_csv('최종수요항목별 생산유발액.csv', encoding='utf_8-sig')\n",
        "# df_Lvyd.to_csv('최종수요항목별 부가가치유발액.csv', encoding='utf_8-sig')\n",
        "# df_Liyd.to_csv('최종수요항목별 수입유발액.csv', encoding='utf_8-sig')\n",
        "\n",
        "# df_Lfyd_coef.to_csv('최종수요항목별 생산유발계수.csv', encoding='utf_8-sig')\n",
        "# df_Lvyd_coef.to_csv('최종수요항목별 부가가치유발계수.csv', encoding='utf_8-sig')\n",
        "# df_Liyd_coef.to_csv('최종수요항목별 수입유발계수.csv', encoding='utf_8-sig')\n",
        "\n",
        "# df_Lf_bwd.to_csv('영향력계수.csv', encoding='utf_8-sig')\n",
        "# df_Lf_bwd.to_csv('감응도계수.csv', encoding='utf_8-sig')"
      ],
      "metadata": {
        "id": "2_rVb-CPNh_P"
      },
      "execution_count": null,
      "outputs": []
    },
    {
      "cell_type": "code",
      "source": [],
      "metadata": {
        "id": "i9nbUdEs8eVn"
      },
      "execution_count": null,
      "outputs": []
    }
  ]
}