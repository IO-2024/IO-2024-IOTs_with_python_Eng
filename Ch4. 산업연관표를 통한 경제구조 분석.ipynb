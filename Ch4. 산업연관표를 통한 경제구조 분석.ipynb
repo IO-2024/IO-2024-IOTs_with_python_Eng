{
  "nbformat": 4,
  "nbformat_minor": 0,
  "metadata": {
    "colab": {
      "provenance": [],
      "include_colab_link": true
    },
    "kernelspec": {
      "name": "python3",
      "display_name": "Python 3"
    },
    "language_info": {
      "name": "python"
    }
  },
  "cells": [
    {
      "cell_type": "markdown",
      "metadata": {
        "id": "view-in-github",
        "colab_type": "text"
      },
      "source": [
        "<a href=\"https://colab.research.google.com/github/IO-2024/IOTs_with_python/blob/main/Ch4.%20%EC%82%B0%EC%97%85%EC%97%B0%EA%B4%80%ED%91%9C%EB%A5%BC%20%ED%86%B5%ED%95%9C%20%EA%B2%BD%EC%A0%9C%EA%B5%AC%EC%A1%B0%20%EB%B6%84%EC%84%9D.ipynb\" target=\"_parent\"><img src=\"https://colab.research.google.com/assets/colab-badge.svg\" alt=\"Open In Colab\"/></a>"
      ]
    },
    {
      "cell_type": "code",
      "source": [
        "import numpy as np   # Numpy import\n",
        "import pandas as pd  # Pandas import"
      ],
      "metadata": {
        "id": "TR7JvW8CxBFT"
      },
      "execution_count": 1,
      "outputs": []
    },
    {
      "cell_type": "markdown",
      "source": [
        "###  3부문 총, 국산, 수입거래표 불러오기"
      ],
      "metadata": {
        "id": "3pPHmi20k2k1"
      }
    },
    {
      "cell_type": "code",
      "source": [
        "url_Tt_3 = \"https://raw.githubusercontent.com/IO-2024/IOTs_with_python/main/data/Total_matrix_3sectors.csv\"  # 총거래표(3부문) 불러오기\n",
        "Tt_3 = pd.read_csv(url_Tt_3)\n",
        "\n",
        "url_Dt_3 = \"https://raw.githubusercontent.com/IO-2024/IOTs_with_python/main/data/Domestic_matrix_3sectors.csv\"  # 국산거래표(3부문) 불러오기\n",
        "Dt_3 = pd.read_csv(url_Dt_3)\n",
        "\n",
        "url_It_3 = \"https://raw.githubusercontent.com/IO-2024/IOTs_with_python/main/data/Imported_matrix_3sectors.csv\"  # 수입거래표(3부문) 불러오기\n",
        "It_3 = pd.read_csv(url_It_3)\n",
        "\n",
        "url_emp_3 = \"https://raw.githubusercontent.com/IO-2024/IOTs_with_python/main/data/Emp_3_secs.csv\"  # 고용표(3부문) 불러오기\n",
        "Emp_3 = pd.read_csv(url_emp_3)\n",
        "\n",
        "\n",
        "# numpy로 불러오기\n",
        "\n",
        "Tt = Tt_3.to_numpy()  # 총거래표\n",
        "Dt = Dt_3.to_numpy()  # 국산거래표\n",
        "It = It_3.to_numpy()  # 수입거래표\n",
        "Em = Emp_3.to_numpy() # 고용표"
      ],
      "metadata": {
        "id": "EuB3g6ODNz9E"
      },
      "execution_count": 20,
      "outputs": []
    },
    {
      "cell_type": "markdown",
      "source": [
        "#### 산업구조_부가가치 및 산출액 비중 구하기"
      ],
      "metadata": {
        "id": "Jz2c6mWiGW5v"
      }
    },
    {
      "cell_type": "code",
      "source": [
        "va = Tt[-2,1:4].astype(float)  # 부문별 부가가치\n",
        "ct = Tt[-1,1:4].astype(float)  # 부문별 산출액\n",
        "va"
      ],
      "metadata": {
        "id": "GrqwxwU44DMl",
        "outputId": "395e77c4-3772-44f0-812f-d9abeddf9ef1",
        "colab": {
          "base_uri": "https://localhost:8080/"
        }
      },
      "execution_count": 21,
      "outputs": [
        {
          "output_type": "execute_result",
          "data": {
            "text/plain": [
              "array([  33.,  553., 1342.])"
            ]
          },
          "metadata": {},
          "execution_count": 21
        }
      ]
    },
    {
      "cell_type": "code",
      "source": [
        "va_wgt = (va/va.sum()*100).reshape([3,1])  # 부가가치 기준 각 부문의 비중\n",
        "ct_wgt = (ct/ct.sum()*100).reshape([3,1])  # 총산출액 기준 각 부문의 비중\n",
        "\n",
        "wgt_mx = np.concatenate((va_wgt, ct_wgt), axis=1).round(1)\n",
        "print('각 부문의 부가가치 및 산출액 기준 비중   \\n', wgt_mx)"
      ],
      "metadata": {
        "id": "IGYFJf_fAz6J",
        "colab": {
          "base_uri": "https://localhost:8080/"
        },
        "outputId": "57d1421e-f208-49ce-ada5-02fa59cac2c7"
      },
      "execution_count": 22,
      "outputs": [
        {
          "output_type": "stream",
          "name": "stdout",
          "text": [
            "각 부문의 부가가치 및 산출액 기준 비중   \n",
            " [[ 1.7  1.4]\n",
            " [28.7 41.7]\n",
            " [69.6 56.9]]\n"
          ]
        }
      ]
    },
    {
      "cell_type": "markdown",
      "source": [
        "#### 투입구조"
      ],
      "metadata": {
        "id": "32UjG6dfMUrW"
      }
    },
    {
      "cell_type": "code",
      "source": [
        "Tt_itr = Tt[-3,1:5] # 총거래표의 부문별 및 전부문의 중간투입계\n",
        "Dt_itr = Dt[-1,1:5] # 국산거래표의 부문별 및 전부문의 중간투입계\n",
        "It_itr = It[-1,1:5] # 수입거래표의 부문별 및 전부문의 중간투입계\n",
        "Ct_itr = Tt[-1,1:5] # 부문별 및 전부문의 총산출액\n",
        "\n",
        "print(Tt_itr)\n",
        "print(Dt_itr)\n",
        "print(It_itr)\n",
        "print(Ct_itr)"
      ],
      "metadata": {
        "colab": {
          "base_uri": "https://localhost:8080/"
        },
        "id": "D77j-HNjIKj9",
        "outputId": "805a7d4d-d20f-444a-dc6d-03b4abb530d7"
      },
      "execution_count": 23,
      "outputs": [
        {
          "output_type": "stream",
          "name": "stdout",
          "text": [
            "[27.0 1239.0 1105.0 2371.0]\n",
            "[26.0 862.0 976.0 1864.0]\n",
            "[1.0 377.0 129.0 507.0]\n",
            "[60.0 1792.0 2447.0 4299.0]\n"
          ]
        }
      ]
    },
    {
      "cell_type": "code",
      "source": [
        "Tt_itr_ratio = (Tt_itr/Ct_itr*100).reshape([4,1]).astype(float) # 중간투입률(전체)\n",
        "Dt_itr_ratio = (Dt_itr/Ct_itr*100).reshape([4,1]).astype(float) # 중간투입률(국산)\n",
        "It_itr_ratio = (It_itr/Ct_itr*100).reshape([4,1]).astype(float) # 중간투입률(수입)\n",
        "\n",
        "Itr_ratio = (np.concatenate((Tt_itr_ratio, Dt_itr_ratio, It_itr_ratio), axis=1)).round(1)  # 중간투입률(전체, 국산, 수입)\n",
        "print(Itr_ratio)"
      ],
      "metadata": {
        "colab": {
          "base_uri": "https://localhost:8080/"
        },
        "id": "Dl7lil2JPogq",
        "outputId": "0b53ccb6-b5be-4496-bc29-77f3f30605fd"
      },
      "execution_count": 24,
      "outputs": [
        {
          "output_type": "stream",
          "name": "stdout",
          "text": [
            "[[45.  43.3  1.7]\n",
            " [69.1 48.1 21. ]\n",
            " [45.2 39.9  5.3]\n",
            " [55.2 43.4 11.8]]\n"
          ]
        }
      ]
    },
    {
      "cell_type": "code",
      "source": [
        "Dt_dm_itr = (Dt_itr/Tt_itr*100).reshape([4,1]).astype(float).round(1)  # 부문별 및 전부문의 국산화율\n",
        "Dt_dm_itr"
      ],
      "metadata": {
        "colab": {
          "base_uri": "https://localhost:8080/"
        },
        "id": "0Xi-6MnGPo6v",
        "outputId": "941e8df0-33d1-4e25-f5ca-ecae49283fe4"
      },
      "execution_count": 25,
      "outputs": [
        {
          "output_type": "execute_result",
          "data": {
            "text/plain": [
              "array([[96.3],\n",
              "       [69.6],\n",
              "       [88.3],\n",
              "       [78.6]])"
            ]
          },
          "metadata": {},
          "execution_count": 25
        }
      ]
    },
    {
      "cell_type": "code",
      "source": [
        "Va_ratio = (Tt[-2,1:5]/Tt[-1,1:5]*100).reshape([4,1]).astype(float).round(1)  # 부문별 및 전부문의 부가가치율\n",
        "Va_ratio"
      ],
      "metadata": {
        "colab": {
          "base_uri": "https://localhost:8080/"
        },
        "id": "UlVNRugMPpQU",
        "outputId": "9e1072e5-668d-463a-db53-9092941ac019"
      },
      "execution_count": 26,
      "outputs": [
        {
          "output_type": "execute_result",
          "data": {
            "text/plain": [
              "array([[55. ],\n",
              "       [30.9],\n",
              "       [54.8],\n",
              "       [44.8]])"
            ]
          },
          "metadata": {},
          "execution_count": 26
        }
      ]
    },
    {
      "cell_type": "code",
      "source": [
        "# 부문별 및 전부문의 중간투입률, 국산화율 및 부가가치율을 열병합 합기\n",
        "Input_str = ((np.concatenate((Itr_ratio, Dt_dm_itr, Va_ratio), axis=1)))\n",
        "Input_str_f = Input_str.astype(float).round(1)\n",
        "print('투입구조 \\n',Input_str_f)\n",
        "\n",
        "[[73.6 26.4  1.7 16.7]\n",
        " [57.5 42.5 35.  24.4]\n",
        " [37.5 62.5  5.4  4.1]\n",
        " [47.5 52.5 17.7 13.9]]"
      ],
      "metadata": {
        "colab": {
          "base_uri": "https://localhost:8080/",
          "height": 110
        },
        "id": "lECvmd0wPpnQ",
        "outputId": "9114c929-04d9-44b1-94d4-c7047f2039b3"
      },
      "execution_count": 27,
      "outputs": [
        {
          "output_type": "error",
          "ename": "SyntaxError",
          "evalue": "invalid syntax. Perhaps you forgot a comma? (<ipython-input-27-83b22437cfdf>, line 6)",
          "traceback": [
            "\u001b[0;36m  File \u001b[0;32m\"<ipython-input-27-83b22437cfdf>\"\u001b[0;36m, line \u001b[0;32m6\u001b[0m\n\u001b[0;31m    [[73.6 26.4  1.7 16.7]\u001b[0m\n\u001b[0m      ^\u001b[0m\n\u001b[0;31mSyntaxError\u001b[0m\u001b[0;31m:\u001b[0m invalid syntax. Perhaps you forgot a comma?\n"
          ]
        }
      ]
    },
    {
      "cell_type": "code",
      "source": [
        "Input_f = pd.DataFrame(Input_str_f, columns = ['총중간투입률', '국산중간투입률', '수입중간투입률', '국산화율', '부가가치율'],\n",
        "                       index = ['농산품','공산품','서비스','전품목'])\n",
        "Input_f"
      ],
      "metadata": {
        "id": "lVdcPjp1xCm0",
        "outputId": "aa7f0d0c-8146-4e7f-fb67-1a42fb69b666",
        "colab": {
          "base_uri": "https://localhost:8080/",
          "height": 175
        }
      },
      "execution_count": null,
      "outputs": [
        {
          "output_type": "execute_result",
          "data": {
            "text/plain": [
              "     총중간투입률  국산중간투입률  수입중간투입률  국산화율  부가가치율\n",
              "농산품    45.0     43.3      1.7  96.3   55.0\n",
              "공산품    69.1     48.1     21.0  69.6   30.9\n",
              "서비스    45.2     39.9      5.3  88.3   54.8\n",
              "전품목    55.2     43.4     11.8  78.6   44.8"
            ],
            "text/html": [
              "\n",
              "  <div id=\"df-6105b16e-e2ee-4308-9fad-03eb52b06819\" class=\"colab-df-container\">\n",
              "    <div>\n",
              "<style scoped>\n",
              "    .dataframe tbody tr th:only-of-type {\n",
              "        vertical-align: middle;\n",
              "    }\n",
              "\n",
              "    .dataframe tbody tr th {\n",
              "        vertical-align: top;\n",
              "    }\n",
              "\n",
              "    .dataframe thead th {\n",
              "        text-align: right;\n",
              "    }\n",
              "</style>\n",
              "<table border=\"1\" class=\"dataframe\">\n",
              "  <thead>\n",
              "    <tr style=\"text-align: right;\">\n",
              "      <th></th>\n",
              "      <th>총중간투입률</th>\n",
              "      <th>국산중간투입률</th>\n",
              "      <th>수입중간투입률</th>\n",
              "      <th>국산화율</th>\n",
              "      <th>부가가치율</th>\n",
              "    </tr>\n",
              "  </thead>\n",
              "  <tbody>\n",
              "    <tr>\n",
              "      <th>농산품</th>\n",
              "      <td>45.0</td>\n",
              "      <td>43.3</td>\n",
              "      <td>1.7</td>\n",
              "      <td>96.3</td>\n",
              "      <td>55.0</td>\n",
              "    </tr>\n",
              "    <tr>\n",
              "      <th>공산품</th>\n",
              "      <td>69.1</td>\n",
              "      <td>48.1</td>\n",
              "      <td>21.0</td>\n",
              "      <td>69.6</td>\n",
              "      <td>30.9</td>\n",
              "    </tr>\n",
              "    <tr>\n",
              "      <th>서비스</th>\n",
              "      <td>45.2</td>\n",
              "      <td>39.9</td>\n",
              "      <td>5.3</td>\n",
              "      <td>88.3</td>\n",
              "      <td>54.8</td>\n",
              "    </tr>\n",
              "    <tr>\n",
              "      <th>전품목</th>\n",
              "      <td>55.2</td>\n",
              "      <td>43.4</td>\n",
              "      <td>11.8</td>\n",
              "      <td>78.6</td>\n",
              "      <td>44.8</td>\n",
              "    </tr>\n",
              "  </tbody>\n",
              "</table>\n",
              "</div>\n",
              "    <div class=\"colab-df-buttons\">\n",
              "\n",
              "  <div class=\"colab-df-container\">\n",
              "    <button class=\"colab-df-convert\" onclick=\"convertToInteractive('df-6105b16e-e2ee-4308-9fad-03eb52b06819')\"\n",
              "            title=\"Convert this dataframe to an interactive table.\"\n",
              "            style=\"display:none;\">\n",
              "\n",
              "  <svg xmlns=\"http://www.w3.org/2000/svg\" height=\"24px\" viewBox=\"0 -960 960 960\">\n",
              "    <path d=\"M120-120v-720h720v720H120Zm60-500h600v-160H180v160Zm220 220h160v-160H400v160Zm0 220h160v-160H400v160ZM180-400h160v-160H180v160Zm440 0h160v-160H620v160ZM180-180h160v-160H180v160Zm440 0h160v-160H620v160Z\"/>\n",
              "  </svg>\n",
              "    </button>\n",
              "\n",
              "  <style>\n",
              "    .colab-df-container {\n",
              "      display:flex;\n",
              "      gap: 12px;\n",
              "    }\n",
              "\n",
              "    .colab-df-convert {\n",
              "      background-color: #E8F0FE;\n",
              "      border: none;\n",
              "      border-radius: 50%;\n",
              "      cursor: pointer;\n",
              "      display: none;\n",
              "      fill: #1967D2;\n",
              "      height: 32px;\n",
              "      padding: 0 0 0 0;\n",
              "      width: 32px;\n",
              "    }\n",
              "\n",
              "    .colab-df-convert:hover {\n",
              "      background-color: #E2EBFA;\n",
              "      box-shadow: 0px 1px 2px rgba(60, 64, 67, 0.3), 0px 1px 3px 1px rgba(60, 64, 67, 0.15);\n",
              "      fill: #174EA6;\n",
              "    }\n",
              "\n",
              "    .colab-df-buttons div {\n",
              "      margin-bottom: 4px;\n",
              "    }\n",
              "\n",
              "    [theme=dark] .colab-df-convert {\n",
              "      background-color: #3B4455;\n",
              "      fill: #D2E3FC;\n",
              "    }\n",
              "\n",
              "    [theme=dark] .colab-df-convert:hover {\n",
              "      background-color: #434B5C;\n",
              "      box-shadow: 0px 1px 3px 1px rgba(0, 0, 0, 0.15);\n",
              "      filter: drop-shadow(0px 1px 2px rgba(0, 0, 0, 0.3));\n",
              "      fill: #FFFFFF;\n",
              "    }\n",
              "  </style>\n",
              "\n",
              "    <script>\n",
              "      const buttonEl =\n",
              "        document.querySelector('#df-6105b16e-e2ee-4308-9fad-03eb52b06819 button.colab-df-convert');\n",
              "      buttonEl.style.display =\n",
              "        google.colab.kernel.accessAllowed ? 'block' : 'none';\n",
              "\n",
              "      async function convertToInteractive(key) {\n",
              "        const element = document.querySelector('#df-6105b16e-e2ee-4308-9fad-03eb52b06819');\n",
              "        const dataTable =\n",
              "          await google.colab.kernel.invokeFunction('convertToInteractive',\n",
              "                                                    [key], {});\n",
              "        if (!dataTable) return;\n",
              "\n",
              "        const docLinkHtml = 'Like what you see? Visit the ' +\n",
              "          '<a target=\"_blank\" href=https://colab.research.google.com/notebooks/data_table.ipynb>data table notebook</a>'\n",
              "          + ' to learn more about interactive tables.';\n",
              "        element.innerHTML = '';\n",
              "        dataTable['output_type'] = 'display_data';\n",
              "        await google.colab.output.renderOutput(dataTable, element);\n",
              "        const docLink = document.createElement('div');\n",
              "        docLink.innerHTML = docLinkHtml;\n",
              "        element.appendChild(docLink);\n",
              "      }\n",
              "    </script>\n",
              "  </div>\n",
              "\n",
              "\n",
              "<div id=\"df-f9634d6a-ffeb-4d2f-9dd9-ae8c9e5a8432\">\n",
              "  <button class=\"colab-df-quickchart\" onclick=\"quickchart('df-f9634d6a-ffeb-4d2f-9dd9-ae8c9e5a8432')\"\n",
              "            title=\"Suggest charts\"\n",
              "            style=\"display:none;\">\n",
              "\n",
              "<svg xmlns=\"http://www.w3.org/2000/svg\" height=\"24px\"viewBox=\"0 0 24 24\"\n",
              "     width=\"24px\">\n",
              "    <g>\n",
              "        <path d=\"M19 3H5c-1.1 0-2 .9-2 2v14c0 1.1.9 2 2 2h14c1.1 0 2-.9 2-2V5c0-1.1-.9-2-2-2zM9 17H7v-7h2v7zm4 0h-2V7h2v10zm4 0h-2v-4h2v4z\"/>\n",
              "    </g>\n",
              "</svg>\n",
              "  </button>\n",
              "\n",
              "<style>\n",
              "  .colab-df-quickchart {\n",
              "      --bg-color: #E8F0FE;\n",
              "      --fill-color: #1967D2;\n",
              "      --hover-bg-color: #E2EBFA;\n",
              "      --hover-fill-color: #174EA6;\n",
              "      --disabled-fill-color: #AAA;\n",
              "      --disabled-bg-color: #DDD;\n",
              "  }\n",
              "\n",
              "  [theme=dark] .colab-df-quickchart {\n",
              "      --bg-color: #3B4455;\n",
              "      --fill-color: #D2E3FC;\n",
              "      --hover-bg-color: #434B5C;\n",
              "      --hover-fill-color: #FFFFFF;\n",
              "      --disabled-bg-color: #3B4455;\n",
              "      --disabled-fill-color: #666;\n",
              "  }\n",
              "\n",
              "  .colab-df-quickchart {\n",
              "    background-color: var(--bg-color);\n",
              "    border: none;\n",
              "    border-radius: 50%;\n",
              "    cursor: pointer;\n",
              "    display: none;\n",
              "    fill: var(--fill-color);\n",
              "    height: 32px;\n",
              "    padding: 0;\n",
              "    width: 32px;\n",
              "  }\n",
              "\n",
              "  .colab-df-quickchart:hover {\n",
              "    background-color: var(--hover-bg-color);\n",
              "    box-shadow: 0 1px 2px rgba(60, 64, 67, 0.3), 0 1px 3px 1px rgba(60, 64, 67, 0.15);\n",
              "    fill: var(--button-hover-fill-color);\n",
              "  }\n",
              "\n",
              "  .colab-df-quickchart-complete:disabled,\n",
              "  .colab-df-quickchart-complete:disabled:hover {\n",
              "    background-color: var(--disabled-bg-color);\n",
              "    fill: var(--disabled-fill-color);\n",
              "    box-shadow: none;\n",
              "  }\n",
              "\n",
              "  .colab-df-spinner {\n",
              "    border: 2px solid var(--fill-color);\n",
              "    border-color: transparent;\n",
              "    border-bottom-color: var(--fill-color);\n",
              "    animation:\n",
              "      spin 1s steps(1) infinite;\n",
              "  }\n",
              "\n",
              "  @keyframes spin {\n",
              "    0% {\n",
              "      border-color: transparent;\n",
              "      border-bottom-color: var(--fill-color);\n",
              "      border-left-color: var(--fill-color);\n",
              "    }\n",
              "    20% {\n",
              "      border-color: transparent;\n",
              "      border-left-color: var(--fill-color);\n",
              "      border-top-color: var(--fill-color);\n",
              "    }\n",
              "    30% {\n",
              "      border-color: transparent;\n",
              "      border-left-color: var(--fill-color);\n",
              "      border-top-color: var(--fill-color);\n",
              "      border-right-color: var(--fill-color);\n",
              "    }\n",
              "    40% {\n",
              "      border-color: transparent;\n",
              "      border-right-color: var(--fill-color);\n",
              "      border-top-color: var(--fill-color);\n",
              "    }\n",
              "    60% {\n",
              "      border-color: transparent;\n",
              "      border-right-color: var(--fill-color);\n",
              "    }\n",
              "    80% {\n",
              "      border-color: transparent;\n",
              "      border-right-color: var(--fill-color);\n",
              "      border-bottom-color: var(--fill-color);\n",
              "    }\n",
              "    90% {\n",
              "      border-color: transparent;\n",
              "      border-bottom-color: var(--fill-color);\n",
              "    }\n",
              "  }\n",
              "</style>\n",
              "\n",
              "  <script>\n",
              "    async function quickchart(key) {\n",
              "      const quickchartButtonEl =\n",
              "        document.querySelector('#' + key + ' button');\n",
              "      quickchartButtonEl.disabled = true;  // To prevent multiple clicks.\n",
              "      quickchartButtonEl.classList.add('colab-df-spinner');\n",
              "      try {\n",
              "        const charts = await google.colab.kernel.invokeFunction(\n",
              "            'suggestCharts', [key], {});\n",
              "      } catch (error) {\n",
              "        console.error('Error during call to suggestCharts:', error);\n",
              "      }\n",
              "      quickchartButtonEl.classList.remove('colab-df-spinner');\n",
              "      quickchartButtonEl.classList.add('colab-df-quickchart-complete');\n",
              "    }\n",
              "    (() => {\n",
              "      let quickchartButtonEl =\n",
              "        document.querySelector('#df-f9634d6a-ffeb-4d2f-9dd9-ae8c9e5a8432 button');\n",
              "      quickchartButtonEl.style.display =\n",
              "        google.colab.kernel.accessAllowed ? 'block' : 'none';\n",
              "    })();\n",
              "  </script>\n",
              "</div>\n",
              "\n",
              "  <div id=\"id_112610b4-5fe4-42ad-a9bb-49bd4bb080ed\">\n",
              "    <style>\n",
              "      .colab-df-generate {\n",
              "        background-color: #E8F0FE;\n",
              "        border: none;\n",
              "        border-radius: 50%;\n",
              "        cursor: pointer;\n",
              "        display: none;\n",
              "        fill: #1967D2;\n",
              "        height: 32px;\n",
              "        padding: 0 0 0 0;\n",
              "        width: 32px;\n",
              "      }\n",
              "\n",
              "      .colab-df-generate:hover {\n",
              "        background-color: #E2EBFA;\n",
              "        box-shadow: 0px 1px 2px rgba(60, 64, 67, 0.3), 0px 1px 3px 1px rgba(60, 64, 67, 0.15);\n",
              "        fill: #174EA6;\n",
              "      }\n",
              "\n",
              "      [theme=dark] .colab-df-generate {\n",
              "        background-color: #3B4455;\n",
              "        fill: #D2E3FC;\n",
              "      }\n",
              "\n",
              "      [theme=dark] .colab-df-generate:hover {\n",
              "        background-color: #434B5C;\n",
              "        box-shadow: 0px 1px 3px 1px rgba(0, 0, 0, 0.15);\n",
              "        filter: drop-shadow(0px 1px 2px rgba(0, 0, 0, 0.3));\n",
              "        fill: #FFFFFF;\n",
              "      }\n",
              "    </style>\n",
              "    <button class=\"colab-df-generate\" onclick=\"generateWithVariable('Input_f')\"\n",
              "            title=\"Generate code using this dataframe.\"\n",
              "            style=\"display:none;\">\n",
              "\n",
              "  <svg xmlns=\"http://www.w3.org/2000/svg\" height=\"24px\"viewBox=\"0 0 24 24\"\n",
              "       width=\"24px\">\n",
              "    <path d=\"M7,19H8.4L18.45,9,17,7.55,7,17.6ZM5,21V16.75L18.45,3.32a2,2,0,0,1,2.83,0l1.4,1.43a1.91,1.91,0,0,1,.58,1.4,1.91,1.91,0,0,1-.58,1.4L9.25,21ZM18.45,9,17,7.55Zm-12,3A5.31,5.31,0,0,0,4.9,8.1,5.31,5.31,0,0,0,1,6.5,5.31,5.31,0,0,0,4.9,4.9,5.31,5.31,0,0,0,6.5,1,5.31,5.31,0,0,0,8.1,4.9,5.31,5.31,0,0,0,12,6.5,5.46,5.46,0,0,0,6.5,12Z\"/>\n",
              "  </svg>\n",
              "    </button>\n",
              "    <script>\n",
              "      (() => {\n",
              "      const buttonEl =\n",
              "        document.querySelector('#id_112610b4-5fe4-42ad-a9bb-49bd4bb080ed button.colab-df-generate');\n",
              "      buttonEl.style.display =\n",
              "        google.colab.kernel.accessAllowed ? 'block' : 'none';\n",
              "\n",
              "      buttonEl.onclick = () => {\n",
              "        google.colab.notebook.generateWithVariable('Input_f');\n",
              "      }\n",
              "      })();\n",
              "    </script>\n",
              "  </div>\n",
              "\n",
              "    </div>\n",
              "  </div>\n"
            ],
            "application/vnd.google.colaboratory.intrinsic+json": {
              "type": "dataframe",
              "variable_name": "Input_f",
              "summary": "{\n  \"name\": \"Input_f\",\n  \"rows\": 4,\n  \"fields\": [\n    {\n      \"column\": \"\\ucd1d\\uc911\\uac04\\ud22c\\uc785\\ub960\",\n      \"properties\": {\n        \"dtype\": \"number\",\n        \"std\": 11.362621469831097,\n        \"min\": 45.0,\n        \"max\": 69.1,\n        \"samples\": [\n          69.1,\n          55.2,\n          45.0\n        ],\n        \"num_unique_values\": 4,\n        \"semantic_type\": \"\",\n        \"description\": \"\"\n      }\n    },\n    {\n      \"column\": \"\\uad6d\\uc0b0\\uc911\\uac04\\ud22c\\uc785\\ub960\",\n      \"properties\": {\n        \"dtype\": \"number\",\n        \"std\": 3.36885242577746,\n        \"min\": 39.9,\n        \"max\": 48.1,\n        \"samples\": [\n          48.1,\n          43.4,\n          43.3\n        ],\n        \"num_unique_values\": 4,\n        \"semantic_type\": \"\",\n        \"description\": \"\"\n      }\n    },\n    {\n      \"column\": \"\\uc218\\uc785\\uc911\\uac04\\ud22c\\uc785\\ub960\",\n      \"properties\": {\n        \"dtype\": \"number\",\n        \"std\": 8.469750094699766,\n        \"min\": 1.7,\n        \"max\": 21.0,\n        \"samples\": [\n          21.0,\n          11.8,\n          1.7\n        ],\n        \"num_unique_values\": 4,\n        \"semantic_type\": \"\",\n        \"description\": \"\"\n      }\n    },\n    {\n      \"column\": \"\\uad6d\\uc0b0\\ud654\\uc728\",\n      \"properties\": {\n        \"dtype\": \"number\",\n        \"std\": 11.600862036935016,\n        \"min\": 69.6,\n        \"max\": 96.3,\n        \"samples\": [\n          69.6,\n          78.6,\n          96.3\n        ],\n        \"num_unique_values\": 4,\n        \"semantic_type\": \"\",\n        \"description\": \"\"\n      }\n    },\n    {\n      \"column\": \"\\ubd80\\uac00\\uac00\\uce58\\uc728\",\n      \"properties\": {\n        \"dtype\": \"number\",\n        \"std\": 11.3626214698311,\n        \"min\": 30.9,\n        \"max\": 55.0,\n        \"samples\": [\n          30.9,\n          44.8,\n          55.0\n        ],\n        \"num_unique_values\": 4,\n        \"semantic_type\": \"\",\n        \"description\": \"\"\n      }\n    }\n  ]\n}"
            }
          },
          "metadata": {},
          "execution_count": 27
        }
      ]
    },
    {
      "cell_type": "markdown",
      "source": [
        "#### 배분구조"
      ],
      "metadata": {
        "id": "C6KfGPX5g9TI"
      }
    },
    {
      "cell_type": "code",
      "source": [
        "Tot_sup =Tt[0:4,-1]  # 총거래표의 부문별 및 전부문의 총공급액(총산출액+수입액)\n",
        "Dom_ct =Dt[0:4,-1]   # 국산거래표의 부문별 및 전부문의 총산출액\n",
        "Imp_tot=It[0:4,-1]   # 수입거래표의 부문별 및 전부문의 수입액\n",
        "\n",
        "Tt_itd = Tt[0:4,4] # 총거래표의 부문별 및 전부문의 중간수요계\n",
        "Dt_itd = Dt[0:4,4] # 국산거래표의 부문별 및 전부문의 중간수요계\n",
        "It_itd = It[0:4,4] # 수입거래표의 부문별 및 전부문의 중간수요계\n",
        "\n",
        "Tot_dmd = Tt[0:4,-4] # 총거래표의 부문별 및 전부문의 총수요계\n",
        "Fd =Tt[0:4,-5] # 총거래표의 부문별 및 전부문의 최종수요계\n",
        "Exp = Tt[0:4,-6]  # 총거래표의 부문별 및 전부문의 수출액\n",
        "\n",
        "print(Tot_sup)\n",
        "print(Dom_ct)\n",
        "print(Imp_tot)\n",
        "\n",
        "print(Tt_itd)\n",
        "print(Dt_itd)\n",
        "print(It_itd)\n",
        "\n",
        "print(Tot_dmd)\n",
        "print(Fd)\n",
        "print(Exp)"
      ],
      "metadata": {
        "id": "IWpo8RCb6EsB",
        "colab": {
          "base_uri": "https://localhost:8080/"
        },
        "outputId": "5288ace0-4078-485c-d1fd-c4ff96369d63"
      },
      "execution_count": null,
      "outputs": [
        {
          "output_type": "stream",
          "name": "stdout",
          "text": [
            "[72.0 2369.0 2552.0 4993.0]\n",
            "[60.0 1792.0 2447.0 4299.0]\n",
            "[12.0 577.0 105.0 694.0]\n",
            "[53.0 1361.0 957.0 2371.0]\n",
            "[45.0 925.0 894.0 1864.0]\n",
            "[8.0 436.0 63.0 507.0]\n",
            "[72.0 2369.0 2552.0 4993.0]\n",
            "[19.0 1008.0 1595.0 2622.0]\n",
            "[1.0 628.0 131.0 760.0]\n"
          ]
        }
      ]
    },
    {
      "cell_type": "code",
      "source": [
        "Itd_r = (Tt_itd/Tot_dmd*100).reshape([4,1]).astype(float).round(1) # 중간수요율 = 중간수요계/총수요\n",
        "Ftd_r = (Fd/Tot_dmd*100).reshape([4,1]).astype(float).round(1) # 최종수요율 = 최종수요계/총수요\n",
        "Exp_r = (Exp/Dom_ct*100).reshape([4,1]).astype(float).round(1) # 수출률 = 수출액/총산출액\n",
        "Imp_r = (Imp_tot/Tot_sup*100).reshape([4,1]).astype(float).round(1) # 수입비율 = 수입액/총공급액\n",
        "\n",
        "print(Itd_r)\n",
        "print(Ftd_r)\n",
        "print(Exp_r)\n",
        "print(Imp_r)"
      ],
      "metadata": {
        "id": "lcVwawkrPi5t",
        "colab": {
          "base_uri": "https://localhost:8080/"
        },
        "outputId": "c19778e4-d978-41d1-e365-edb5ac412f18"
      },
      "execution_count": null,
      "outputs": [
        {
          "output_type": "stream",
          "name": "stdout",
          "text": [
            "[[73.6]\n",
            " [57.5]\n",
            " [37.5]\n",
            " [47.5]]\n",
            "[[26.4]\n",
            " [42.5]\n",
            " [62.5]\n",
            " [52.5]]\n",
            "[[ 1.7]\n",
            " [35. ]\n",
            " [ 5.4]\n",
            " [17.7]]\n",
            "[[16.7]\n",
            " [24.4]\n",
            " [ 4.1]\n",
            " [13.9]]\n"
          ]
        }
      ]
    },
    {
      "cell_type": "code",
      "source": [
        "# 부문별 및 전부문의 중간수요율, 최종수요율, 수출률 및 수입비율 열병합 하기\n",
        "\n",
        "Dst_str = (np.concatenate((Itd_r, Ftd_r, Exp_r, Imp_r), axis=1))\n",
        "Dst_str_f = Dst_str.astype(float)\n",
        "print(Dst_str_f)"
      ],
      "metadata": {
        "id": "goO-V0B5PjRD",
        "colab": {
          "base_uri": "https://localhost:8080/"
        },
        "outputId": "2c53722d-ed4d-40ec-cd77-cc91fdb72d0e"
      },
      "execution_count": null,
      "outputs": [
        {
          "output_type": "stream",
          "name": "stdout",
          "text": [
            "[[73.6 26.4  1.7 16.7]\n",
            " [57.5 42.5 35.  24.4]\n",
            " [37.5 62.5  5.4  4.1]\n",
            " [47.5 52.5 17.7 13.9]]\n"
          ]
        }
      ]
    },
    {
      "cell_type": "code",
      "source": [
        "Dst_f = pd.DataFrame(Dst_str_f, columns = ['중간수요율', '최종수요율', '수출률', '수입비율'],\n",
        "                       index = ['농산품','공산품','서비스','전품목'])\n",
        "Dst_f"
      ],
      "metadata": {
        "id": "e6XjOxqezsd3",
        "outputId": "f21844ee-3678-461b-8c9b-728141b1778d",
        "colab": {
          "base_uri": "https://localhost:8080/",
          "height": 175
        }
      },
      "execution_count": null,
      "outputs": [
        {
          "output_type": "execute_result",
          "data": {
            "text/plain": [
              "     중간수요율  최종수요율   수출률  수입비율\n",
              "농산품   73.6   26.4   1.7  16.7\n",
              "공산품   57.5   42.5  35.0  24.4\n",
              "서비스   37.5   62.5   5.4   4.1\n",
              "전품목   47.5   52.5  17.7  13.9"
            ],
            "text/html": [
              "\n",
              "  <div id=\"df-07db9441-6fad-4844-82e7-0f9ada953196\" class=\"colab-df-container\">\n",
              "    <div>\n",
              "<style scoped>\n",
              "    .dataframe tbody tr th:only-of-type {\n",
              "        vertical-align: middle;\n",
              "    }\n",
              "\n",
              "    .dataframe tbody tr th {\n",
              "        vertical-align: top;\n",
              "    }\n",
              "\n",
              "    .dataframe thead th {\n",
              "        text-align: right;\n",
              "    }\n",
              "</style>\n",
              "<table border=\"1\" class=\"dataframe\">\n",
              "  <thead>\n",
              "    <tr style=\"text-align: right;\">\n",
              "      <th></th>\n",
              "      <th>중간수요율</th>\n",
              "      <th>최종수요율</th>\n",
              "      <th>수출률</th>\n",
              "      <th>수입비율</th>\n",
              "    </tr>\n",
              "  </thead>\n",
              "  <tbody>\n",
              "    <tr>\n",
              "      <th>농산품</th>\n",
              "      <td>73.6</td>\n",
              "      <td>26.4</td>\n",
              "      <td>1.7</td>\n",
              "      <td>16.7</td>\n",
              "    </tr>\n",
              "    <tr>\n",
              "      <th>공산품</th>\n",
              "      <td>57.5</td>\n",
              "      <td>42.5</td>\n",
              "      <td>35.0</td>\n",
              "      <td>24.4</td>\n",
              "    </tr>\n",
              "    <tr>\n",
              "      <th>서비스</th>\n",
              "      <td>37.5</td>\n",
              "      <td>62.5</td>\n",
              "      <td>5.4</td>\n",
              "      <td>4.1</td>\n",
              "    </tr>\n",
              "    <tr>\n",
              "      <th>전품목</th>\n",
              "      <td>47.5</td>\n",
              "      <td>52.5</td>\n",
              "      <td>17.7</td>\n",
              "      <td>13.9</td>\n",
              "    </tr>\n",
              "  </tbody>\n",
              "</table>\n",
              "</div>\n",
              "    <div class=\"colab-df-buttons\">\n",
              "\n",
              "  <div class=\"colab-df-container\">\n",
              "    <button class=\"colab-df-convert\" onclick=\"convertToInteractive('df-07db9441-6fad-4844-82e7-0f9ada953196')\"\n",
              "            title=\"Convert this dataframe to an interactive table.\"\n",
              "            style=\"display:none;\">\n",
              "\n",
              "  <svg xmlns=\"http://www.w3.org/2000/svg\" height=\"24px\" viewBox=\"0 -960 960 960\">\n",
              "    <path d=\"M120-120v-720h720v720H120Zm60-500h600v-160H180v160Zm220 220h160v-160H400v160Zm0 220h160v-160H400v160ZM180-400h160v-160H180v160Zm440 0h160v-160H620v160ZM180-180h160v-160H180v160Zm440 0h160v-160H620v160Z\"/>\n",
              "  </svg>\n",
              "    </button>\n",
              "\n",
              "  <style>\n",
              "    .colab-df-container {\n",
              "      display:flex;\n",
              "      gap: 12px;\n",
              "    }\n",
              "\n",
              "    .colab-df-convert {\n",
              "      background-color: #E8F0FE;\n",
              "      border: none;\n",
              "      border-radius: 50%;\n",
              "      cursor: pointer;\n",
              "      display: none;\n",
              "      fill: #1967D2;\n",
              "      height: 32px;\n",
              "      padding: 0 0 0 0;\n",
              "      width: 32px;\n",
              "    }\n",
              "\n",
              "    .colab-df-convert:hover {\n",
              "      background-color: #E2EBFA;\n",
              "      box-shadow: 0px 1px 2px rgba(60, 64, 67, 0.3), 0px 1px 3px 1px rgba(60, 64, 67, 0.15);\n",
              "      fill: #174EA6;\n",
              "    }\n",
              "\n",
              "    .colab-df-buttons div {\n",
              "      margin-bottom: 4px;\n",
              "    }\n",
              "\n",
              "    [theme=dark] .colab-df-convert {\n",
              "      background-color: #3B4455;\n",
              "      fill: #D2E3FC;\n",
              "    }\n",
              "\n",
              "    [theme=dark] .colab-df-convert:hover {\n",
              "      background-color: #434B5C;\n",
              "      box-shadow: 0px 1px 3px 1px rgba(0, 0, 0, 0.15);\n",
              "      filter: drop-shadow(0px 1px 2px rgba(0, 0, 0, 0.3));\n",
              "      fill: #FFFFFF;\n",
              "    }\n",
              "  </style>\n",
              "\n",
              "    <script>\n",
              "      const buttonEl =\n",
              "        document.querySelector('#df-07db9441-6fad-4844-82e7-0f9ada953196 button.colab-df-convert');\n",
              "      buttonEl.style.display =\n",
              "        google.colab.kernel.accessAllowed ? 'block' : 'none';\n",
              "\n",
              "      async function convertToInteractive(key) {\n",
              "        const element = document.querySelector('#df-07db9441-6fad-4844-82e7-0f9ada953196');\n",
              "        const dataTable =\n",
              "          await google.colab.kernel.invokeFunction('convertToInteractive',\n",
              "                                                    [key], {});\n",
              "        if (!dataTable) return;\n",
              "\n",
              "        const docLinkHtml = 'Like what you see? Visit the ' +\n",
              "          '<a target=\"_blank\" href=https://colab.research.google.com/notebooks/data_table.ipynb>data table notebook</a>'\n",
              "          + ' to learn more about interactive tables.';\n",
              "        element.innerHTML = '';\n",
              "        dataTable['output_type'] = 'display_data';\n",
              "        await google.colab.output.renderOutput(dataTable, element);\n",
              "        const docLink = document.createElement('div');\n",
              "        docLink.innerHTML = docLinkHtml;\n",
              "        element.appendChild(docLink);\n",
              "      }\n",
              "    </script>\n",
              "  </div>\n",
              "\n",
              "\n",
              "<div id=\"df-83df8143-1ab8-439e-816d-29a779dba93d\">\n",
              "  <button class=\"colab-df-quickchart\" onclick=\"quickchart('df-83df8143-1ab8-439e-816d-29a779dba93d')\"\n",
              "            title=\"Suggest charts\"\n",
              "            style=\"display:none;\">\n",
              "\n",
              "<svg xmlns=\"http://www.w3.org/2000/svg\" height=\"24px\"viewBox=\"0 0 24 24\"\n",
              "     width=\"24px\">\n",
              "    <g>\n",
              "        <path d=\"M19 3H5c-1.1 0-2 .9-2 2v14c0 1.1.9 2 2 2h14c1.1 0 2-.9 2-2V5c0-1.1-.9-2-2-2zM9 17H7v-7h2v7zm4 0h-2V7h2v10zm4 0h-2v-4h2v4z\"/>\n",
              "    </g>\n",
              "</svg>\n",
              "  </button>\n",
              "\n",
              "<style>\n",
              "  .colab-df-quickchart {\n",
              "      --bg-color: #E8F0FE;\n",
              "      --fill-color: #1967D2;\n",
              "      --hover-bg-color: #E2EBFA;\n",
              "      --hover-fill-color: #174EA6;\n",
              "      --disabled-fill-color: #AAA;\n",
              "      --disabled-bg-color: #DDD;\n",
              "  }\n",
              "\n",
              "  [theme=dark] .colab-df-quickchart {\n",
              "      --bg-color: #3B4455;\n",
              "      --fill-color: #D2E3FC;\n",
              "      --hover-bg-color: #434B5C;\n",
              "      --hover-fill-color: #FFFFFF;\n",
              "      --disabled-bg-color: #3B4455;\n",
              "      --disabled-fill-color: #666;\n",
              "  }\n",
              "\n",
              "  .colab-df-quickchart {\n",
              "    background-color: var(--bg-color);\n",
              "    border: none;\n",
              "    border-radius: 50%;\n",
              "    cursor: pointer;\n",
              "    display: none;\n",
              "    fill: var(--fill-color);\n",
              "    height: 32px;\n",
              "    padding: 0;\n",
              "    width: 32px;\n",
              "  }\n",
              "\n",
              "  .colab-df-quickchart:hover {\n",
              "    background-color: var(--hover-bg-color);\n",
              "    box-shadow: 0 1px 2px rgba(60, 64, 67, 0.3), 0 1px 3px 1px rgba(60, 64, 67, 0.15);\n",
              "    fill: var(--button-hover-fill-color);\n",
              "  }\n",
              "\n",
              "  .colab-df-quickchart-complete:disabled,\n",
              "  .colab-df-quickchart-complete:disabled:hover {\n",
              "    background-color: var(--disabled-bg-color);\n",
              "    fill: var(--disabled-fill-color);\n",
              "    box-shadow: none;\n",
              "  }\n",
              "\n",
              "  .colab-df-spinner {\n",
              "    border: 2px solid var(--fill-color);\n",
              "    border-color: transparent;\n",
              "    border-bottom-color: var(--fill-color);\n",
              "    animation:\n",
              "      spin 1s steps(1) infinite;\n",
              "  }\n",
              "\n",
              "  @keyframes spin {\n",
              "    0% {\n",
              "      border-color: transparent;\n",
              "      border-bottom-color: var(--fill-color);\n",
              "      border-left-color: var(--fill-color);\n",
              "    }\n",
              "    20% {\n",
              "      border-color: transparent;\n",
              "      border-left-color: var(--fill-color);\n",
              "      border-top-color: var(--fill-color);\n",
              "    }\n",
              "    30% {\n",
              "      border-color: transparent;\n",
              "      border-left-color: var(--fill-color);\n",
              "      border-top-color: var(--fill-color);\n",
              "      border-right-color: var(--fill-color);\n",
              "    }\n",
              "    40% {\n",
              "      border-color: transparent;\n",
              "      border-right-color: var(--fill-color);\n",
              "      border-top-color: var(--fill-color);\n",
              "    }\n",
              "    60% {\n",
              "      border-color: transparent;\n",
              "      border-right-color: var(--fill-color);\n",
              "    }\n",
              "    80% {\n",
              "      border-color: transparent;\n",
              "      border-right-color: var(--fill-color);\n",
              "      border-bottom-color: var(--fill-color);\n",
              "    }\n",
              "    90% {\n",
              "      border-color: transparent;\n",
              "      border-bottom-color: var(--fill-color);\n",
              "    }\n",
              "  }\n",
              "</style>\n",
              "\n",
              "  <script>\n",
              "    async function quickchart(key) {\n",
              "      const quickchartButtonEl =\n",
              "        document.querySelector('#' + key + ' button');\n",
              "      quickchartButtonEl.disabled = true;  // To prevent multiple clicks.\n",
              "      quickchartButtonEl.classList.add('colab-df-spinner');\n",
              "      try {\n",
              "        const charts = await google.colab.kernel.invokeFunction(\n",
              "            'suggestCharts', [key], {});\n",
              "      } catch (error) {\n",
              "        console.error('Error during call to suggestCharts:', error);\n",
              "      }\n",
              "      quickchartButtonEl.classList.remove('colab-df-spinner');\n",
              "      quickchartButtonEl.classList.add('colab-df-quickchart-complete');\n",
              "    }\n",
              "    (() => {\n",
              "      let quickchartButtonEl =\n",
              "        document.querySelector('#df-83df8143-1ab8-439e-816d-29a779dba93d button');\n",
              "      quickchartButtonEl.style.display =\n",
              "        google.colab.kernel.accessAllowed ? 'block' : 'none';\n",
              "    })();\n",
              "  </script>\n",
              "</div>\n",
              "\n",
              "  <div id=\"id_c7312f36-791a-4769-9d9a-1998a69b6c5f\">\n",
              "    <style>\n",
              "      .colab-df-generate {\n",
              "        background-color: #E8F0FE;\n",
              "        border: none;\n",
              "        border-radius: 50%;\n",
              "        cursor: pointer;\n",
              "        display: none;\n",
              "        fill: #1967D2;\n",
              "        height: 32px;\n",
              "        padding: 0 0 0 0;\n",
              "        width: 32px;\n",
              "      }\n",
              "\n",
              "      .colab-df-generate:hover {\n",
              "        background-color: #E2EBFA;\n",
              "        box-shadow: 0px 1px 2px rgba(60, 64, 67, 0.3), 0px 1px 3px 1px rgba(60, 64, 67, 0.15);\n",
              "        fill: #174EA6;\n",
              "      }\n",
              "\n",
              "      [theme=dark] .colab-df-generate {\n",
              "        background-color: #3B4455;\n",
              "        fill: #D2E3FC;\n",
              "      }\n",
              "\n",
              "      [theme=dark] .colab-df-generate:hover {\n",
              "        background-color: #434B5C;\n",
              "        box-shadow: 0px 1px 3px 1px rgba(0, 0, 0, 0.15);\n",
              "        filter: drop-shadow(0px 1px 2px rgba(0, 0, 0, 0.3));\n",
              "        fill: #FFFFFF;\n",
              "      }\n",
              "    </style>\n",
              "    <button class=\"colab-df-generate\" onclick=\"generateWithVariable('Dst_f')\"\n",
              "            title=\"Generate code using this dataframe.\"\n",
              "            style=\"display:none;\">\n",
              "\n",
              "  <svg xmlns=\"http://www.w3.org/2000/svg\" height=\"24px\"viewBox=\"0 0 24 24\"\n",
              "       width=\"24px\">\n",
              "    <path d=\"M7,19H8.4L18.45,9,17,7.55,7,17.6ZM5,21V16.75L18.45,3.32a2,2,0,0,1,2.83,0l1.4,1.43a1.91,1.91,0,0,1,.58,1.4,1.91,1.91,0,0,1-.58,1.4L9.25,21ZM18.45,9,17,7.55Zm-12,3A5.31,5.31,0,0,0,4.9,8.1,5.31,5.31,0,0,0,1,6.5,5.31,5.31,0,0,0,4.9,4.9,5.31,5.31,0,0,0,6.5,1,5.31,5.31,0,0,0,8.1,4.9,5.31,5.31,0,0,0,12,6.5,5.46,5.46,0,0,0,6.5,12Z\"/>\n",
              "  </svg>\n",
              "    </button>\n",
              "    <script>\n",
              "      (() => {\n",
              "      const buttonEl =\n",
              "        document.querySelector('#id_c7312f36-791a-4769-9d9a-1998a69b6c5f button.colab-df-generate');\n",
              "      buttonEl.style.display =\n",
              "        google.colab.kernel.accessAllowed ? 'block' : 'none';\n",
              "\n",
              "      buttonEl.onclick = () => {\n",
              "        google.colab.notebook.generateWithVariable('Dst_f');\n",
              "      }\n",
              "      })();\n",
              "    </script>\n",
              "  </div>\n",
              "\n",
              "    </div>\n",
              "  </div>\n"
            ]
          },
          "metadata": {},
          "execution_count": 15
        }
      ]
    },
    {
      "cell_type": "code",
      "source": [
        "# 데이터 내보내기\n",
        "Input_f.to_csv('투입구조.csv', encoding=\"utf-8-sig\")\n",
        "Dst_f.to_csv('배분구조.csv', encoding=\"utf-8-sig\")"
      ],
      "metadata": {
        "id": "uRtUBmWfzn28"
      },
      "execution_count": null,
      "outputs": []
    },
    {
      "cell_type": "code",
      "source": [],
      "metadata": {
        "id": "ir7uuQRJlVEC"
      },
      "execution_count": null,
      "outputs": []
    }
  ]
}