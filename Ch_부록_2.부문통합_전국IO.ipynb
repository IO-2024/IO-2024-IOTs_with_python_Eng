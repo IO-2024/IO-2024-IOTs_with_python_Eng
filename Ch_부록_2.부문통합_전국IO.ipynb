{
  "nbformat": 4,
  "nbformat_minor": 0,
  "metadata": {
    "colab": {
      "provenance": [],
      "include_colab_link": true
    },
    "kernelspec": {
      "name": "python3",
      "display_name": "Python 3"
    },
    "language_info": {
      "name": "python"
    }
  },
  "cells": [
    {
      "cell_type": "markdown",
      "metadata": {
        "id": "view-in-github",
        "colab_type": "text"
      },
      "source": [
        "<a href=\"https://colab.research.google.com/github/IO-2024/IOTs_with_python/blob/main/Ch_%EB%B6%80%EB%A1%9D_2.%EB%B6%80%EB%AC%B8%ED%86%B5%ED%95%A9_%EC%A0%84%EA%B5%ADIO.ipynb\" target=\"_parent\"><img src=\"https://colab.research.google.com/assets/colab-badge.svg\" alt=\"Open In Colab\"/></a>"
      ]
    },
    {
      "cell_type": "code",
      "source": [
        "import numpy as np   # Numpy import\n",
        "import pandas as pd  # Pandas import"
      ],
      "metadata": {
        "id": "TR7JvW8CxBFT"
      },
      "execution_count": 1,
      "outputs": []
    },
    {
      "cell_type": "code",
      "source": [
        "np.set_printoptions(precision=3,suppress=True) # 결과를 소수 3자리까지만 보여주는 옵션"
      ],
      "metadata": {
        "id": "UPzP16t9irDv"
      },
      "execution_count": 2,
      "outputs": []
    },
    {
      "cell_type": "markdown",
      "source": [
        "# 부문통합하여 3부문 IO표 만들기\n",
        "\n",
        "- <전국산업연관표>\n",
        "- 2019년 산업연관표(33부문)를 IO표를 3부문 IO표로 통합하고 이를 통해 설명\n",
        "- 33부문을 3부문(농산품, 공산품, 서비스)으로 통합하기 위하여 행렬 곱을 사용\n",
        "- 0과 1로 구성된 행렬을 만드는데 각 행은 새로운 표의 부문을 나타내며 각 열은 33부문의 부문을 나타냄"
      ],
      "metadata": {
        "id": "NQYwTxzNNkO6"
      }
    },
    {
      "cell_type": "code",
      "source": [
        "Code = np.array([[1,0,0,0,0,0,0,0,0,0,0,0,0,0,0,0,0,0,0,0,0,0,0,0,0,0,0,0,0,0,0,0,0],  # 행렬곱을 이용한 부문 통합을 위해 0과 1로 구성된 임시의 3x33 매트릭스\n",
        "       [0,1,1,1,1,1,1,1,1,1,1,1,1,1,1,1,0,0,0,0,0,0,0,0,0,0,0,0,0,0,0,0,0],\n",
        "       [0,0,0,0,0,0,0,0,0,0,0,0,0,0,0,0,1,1,1,1,1,1,1,1,1,1,1,1,1,1,1,1,1]])\n",
        "print('코드매치를 위한 매트릭스', '\\n', Code)"
      ],
      "metadata": {
        "colab": {
          "base_uri": "https://localhost:8080/"
        },
        "id": "1JLgiYagNz1u",
        "outputId": "5d358893-e422-4e41-bf3a-dfe1ea1c5927"
      },
      "execution_count": 3,
      "outputs": [
        {
          "output_type": "stream",
          "name": "stdout",
          "text": [
            "코드매치를 위한 매트릭스 \n",
            " [[1 0 0 0 0 0 0 0 0 0 0 0 0 0 0 0 0 0 0 0 0 0 0 0 0 0 0 0 0 0 0 0 0]\n",
            " [0 1 1 1 1 1 1 1 1 1 1 1 1 1 1 1 0 0 0 0 0 0 0 0 0 0 0 0 0 0 0 0 0]\n",
            " [0 0 0 0 0 0 0 0 0 0 0 0 0 0 0 0 1 1 1 1 1 1 1 1 1 1 1 1 1 1 1 1 1]]\n"
          ]
        }
      ]
    },
    {
      "cell_type": "code",
      "source": [
        "Cdd = \"https://raw.githubusercontent.com/IO-2024/IOTs_with_python/main/data/code.csv\"  # 코드매치 파일\n",
        "Ccdd = pd.read_csv(Cdd)\n",
        "Cd_for_itr = Ccdd.to_numpy().reshape(33,2)\n",
        "Cd_3 = Cd_for_itr[:,1]\n",
        "Cd_33 = Cd_for_itr[:,0]\n",
        "print('3부문 코드 : \\n', Cd_3)\n",
        "print('33부문 코드 : \\n', Cd_33)"
      ],
      "metadata": {
        "colab": {
          "base_uri": "https://localhost:8080/"
        },
        "id": "Xp8f9h0RNz4N",
        "outputId": "1547d142-be18-466b-adaf-6359c2f9dfe0"
      },
      "execution_count": 4,
      "outputs": [
        {
          "output_type": "stream",
          "name": "stdout",
          "text": [
            "3부문 코드 : \n",
            " [1 2 2 2 2 2 2 2 2 2 2 2 2 2 2 2 3 3 3 3 3 3 3 3 3 3 3 3 3 3 3 3 3]\n",
            "33부문 코드 : \n",
            " [ 1  2  3  4  5  6  7  8  9 10 11 12 13 14 15 16 17 18 19 20 21 22 23 24\n",
            " 25 26 27 28 29 30 31 32 33]\n"
          ]
        }
      ]
    },
    {
      "cell_type": "code",
      "source": [
        "Mtx = np.zeros((3,33)) # 수작업 대신 반복문을 통해 3x33 임시코드 만들기\n",
        "Row=Cd_3\n",
        "Col=Cd_33\n",
        "for i, j in zip(Row,Col):\n",
        "  Mtx[i-1,j-1] = 1\n",
        "print('코드매치를 위한 매트릭스_불러오기후', '\\n', Mtx)"
      ],
      "metadata": {
        "colab": {
          "base_uri": "https://localhost:8080/"
        },
        "id": "OXrxsH2sNz6l",
        "outputId": "82d47872-f34a-4732-80f3-75f229815128"
      },
      "execution_count": 5,
      "outputs": [
        {
          "output_type": "stream",
          "name": "stdout",
          "text": [
            "코드매치를 위한 매트릭스_불러오기후 \n",
            " [[1. 0. 0. 0. 0. 0. 0. 0. 0. 0. 0. 0. 0. 0. 0. 0. 0. 0. 0. 0. 0. 0. 0. 0.\n",
            "  0. 0. 0. 0. 0. 0. 0. 0. 0.]\n",
            " [0. 1. 1. 1. 1. 1. 1. 1. 1. 1. 1. 1. 1. 1. 1. 1. 0. 0. 0. 0. 0. 0. 0. 0.\n",
            "  0. 0. 0. 0. 0. 0. 0. 0. 0.]\n",
            " [0. 0. 0. 0. 0. 0. 0. 0. 0. 0. 0. 0. 0. 0. 0. 0. 1. 1. 1. 1. 1. 1. 1. 1.\n",
            "  1. 1. 1. 1. 1. 1. 1. 1. 1.]]\n"
          ]
        }
      ]
    },
    {
      "cell_type": "markdown",
      "source": [
        "##### - 직접 입력하든 미리 만들어 둔 파일을 이용하든 코드매치를 위한 매트릭스는 동일하며 이후 작업에는 Mtx를 사용"
      ],
      "metadata": {
        "id": "ReE0tOyDbJVZ"
      }
    },
    {
      "cell_type": "markdown",
      "source": [
        "###  총거래표"
      ],
      "metadata": {
        "id": "3pPHmi20k2k1"
      }
    },
    {
      "cell_type": "code",
      "source": [
        "url_Tt_33 = \"https://raw.githubusercontent.com/IO-2024/IOTs_with_python/main/data/Total_Matrix.csv\"  # 33부문의 총거래표 불러오기\n",
        "Tt_33 = pd.read_csv(url_Tt_33)"
      ],
      "metadata": {
        "id": "EuB3g6ODNz9E"
      },
      "execution_count": 6,
      "outputs": []
    },
    {
      "cell_type": "code",
      "source": [
        "Ttt_33 = Tt_33.to_numpy()\n",
        "Tot_33 = Ttt_33[0:41,1:53].astype(float)"
      ],
      "metadata": {
        "id": "vy0JTtnUNz_x"
      },
      "execution_count": 7,
      "outputs": []
    },
    {
      "cell_type": "code",
      "source": [
        "Nae_tot = Mtx@Tot_33[0:33,0:33]@Mtx.T # 내생(중간투입) 거래표\n",
        "print('내생거래표', '\\n', Nae_tot)"
      ],
      "metadata": {
        "colab": {
          "base_uri": "https://localhost:8080/"
        },
        "id": "mYiPui5ePcaQ",
        "outputId": "f7b33c64-8617-4b30-fd7e-38fdda3aab29"
      },
      "execution_count": 8,
      "outputs": [
        {
          "output_type": "stream",
          "name": "stdout",
          "text": [
            "내생거래표 \n",
            " [[  4.  38.  11.]\n",
            " [ 16. 944. 401.]\n",
            " [  7. 257. 693.]]\n"
          ]
        }
      ]
    },
    {
      "cell_type": "code",
      "source": [
        "Va_row = Tot_33[33:40,0:33]@Mtx.T # 중간투입계, 피용자보수, 영업잉여, 고정자본소모, 기타생산세, 부가가치계, 산출액(7X3)\n",
        "Va_row"
      ],
      "metadata": {
        "colab": {
          "base_uri": "https://localhost:8080/"
        },
        "id": "7M_aC4UNPcgW",
        "outputId": "445d1c20-4f01-42ca-a3e1-744fa5bcba4f"
      },
      "execution_count": 9,
      "outputs": [
        {
          "output_type": "execute_result",
          "data": {
            "text/plain": [
              "array([[  27., 1239., 1105.],\n",
              "       [   7.,  197.,  714.],\n",
              "       [  20.,  152.,  298.],\n",
              "       [   5.,  144.,  230.],\n",
              "       [   1.,   60.,  100.],\n",
              "       [  33.,  553., 1342.],\n",
              "       [  60., 1792., 2447.]])"
            ]
          },
          "metadata": {},
          "execution_count": 9
        }
      ]
    },
    {
      "cell_type": "code",
      "source": [
        "Va_row.shape"
      ],
      "metadata": {
        "colab": {
          "base_uri": "https://localhost:8080/"
        },
        "id": "WjbX8g2sPcic",
        "outputId": "e59e80e7-1075-4a47-9c64-6d189943a6b1"
      },
      "execution_count": 10,
      "outputs": [
        {
          "output_type": "execute_result",
          "data": {
            "text/plain": [
              "(7, 3)"
            ]
          },
          "metadata": {},
          "execution_count": 10
        }
      ]
    },
    {
      "cell_type": "code",
      "source": [
        "Fd_cd = np.array([[1,1,0,0,0,0,0,0,0],   # 최종수요를 통합하기 위한 0과 1로된 행렬(소비,투자,수출로 통합)\n",
        "                  [0,0,1,1,1,1,0,0,0],\n",
        "                  [0,0,0,0,0,0,1,0,0],\n",
        "                  [0,0,0,0,0,0,0,1,0],\n",
        "                  [0,0,0,0,0,0,0,0,1]])"
      ],
      "metadata": {
        "id": "636Yax5LQY1_"
      },
      "execution_count": 11,
      "outputs": []
    },
    {
      "cell_type": "code",
      "source": [
        "Fd = Tot_33[0:33, 34:45]\n",
        "Fd"
      ],
      "metadata": {
        "colab": {
          "base_uri": "https://localhost:8080/"
        },
        "id": "NDDWb0EGPckB",
        "outputId": "17ad7fdc-f9c3-4529-955c-10706a3e5538"
      },
      "execution_count": 12,
      "outputs": [
        {
          "output_type": "execute_result",
          "data": {
            "text/plain": [
              "array([[ 18.,   0.,   0.,   0.,   0.,   0.,   1.,  19.,  72.],\n",
              "       [  0.,   0.,   0.,   0.,   2.,   0.,   0.,   2., 149.],\n",
              "       [ 67.,   0.,   0.,   0.,   1.,   0.,   9.,  77., 168.],\n",
              "       [ 35.,   0.,   0.,   0.,   1.,   0.,  24.,  60.,  97.],\n",
              "       [  1.,   0.,   0.,   0.,   1.,   0.,   4.,   6.,  52.],\n",
              "       [ 16.,   0.,   0.,   0.,   1.,   0.,  52.,  69., 165.],\n",
              "       [ 11.,   0.,   0.,   0.,   6.,   0., 104., 121., 355.],\n",
              "       [  0.,   0.,   0.,   0.,   0.,   0.,   5.,   5.,  45.],\n",
              "       [ -1.,   0.,  -3.,   0.,   1.,   0.,  44.,  41., 181.],\n",
              "       [  2.,   0.,   3.,   4.,   1.,   0.,  12.,  22., 108.],\n",
              "       [ 27.,   0.,  26.,   5.,   3.,   0., 173., 234., 383.],\n",
              "       [  9.,   0.,  10.,   0.,   1.,   0.,  31.,  51., 128.],\n",
              "       [  3.,   0.,  57.,   0.,  -1.,   0.,  60., 119., 175.],\n",
              "       [ 33.,   0.,  29.,  11.,   2.,   0., 104., 179., 263.],\n",
              "       [ 10.,   0.,   4.,   0.,   0.,   2.,   4.,  20.,  30.],\n",
              "       [  0.,   0.,   0.,   0.,   0.,   0.,   2.,   2.,  70.],\n",
              "       [ 18.,   0.,   0.,   0.,   0.,   0.,   0.,  18.,  99.],\n",
              "       [  5.,   1.,   0.,   0.,   0.,   0.,   1.,   7.,  21.],\n",
              "       [  0.,   0., 196.,  64.,   0.,   0.,   0., 260., 271.],\n",
              "       [ 91.,   0.,  12.,   1.,   2.,   1.,  36., 143., 288.],\n",
              "       [ 30.,   0.,   0.,   0.,   0.,   0.,  34.,  64., 177.],\n",
              "       [104.,   0.,   0.,   0.,   0.,   0.,  11., 115., 188.],\n",
              "       [ 35.,   0.,  34.,   0.,   1.,   0.,  12.,  82., 160.],\n",
              "       [ 74.,   0.,   0.,   0.,   0.,   0.,   5.,  79., 188.],\n",
              "       [132.,   0.,  31.,   0.,   0.,   0.,   0., 163., 227.],\n",
              "       [  4.,   0.,  79.,  11.,   0.,   0.,  18., 112., 254.],\n",
              "       [  6.,   0.,   0.,   0.,   0.,   0.,  11.,  17., 112.],\n",
              "       [  2., 154.,   0.,   0.,   0.,   0.,   0., 156., 160.],\n",
              "       [ 59.,  71.,   0.,   0.,   0.,   0.,   0., 130., 131.],\n",
              "       [ 58., 101.,   0.,   0.,   0.,   0.,   1., 160., 165.],\n",
              "       [ 41.,   2.,   0.,   0.,   0.,   0.,   1.,  44.,  52.],\n",
              "       [ 44.,   0.,   0.,   0.,   0.,   0.,   1.,  45.,  56.],\n",
              "       [  0.,   0.,   0.,   0.,   0.,   0.,   0.,   0.,   3.]])"
            ]
          },
          "metadata": {},
          "execution_count": 12
        }
      ]
    },
    {
      "cell_type": "code",
      "source": [
        "\n",
        "Fd_row=Code@Fd@Fd_cd.T\n",
        "Fd_row\n"
      ],
      "metadata": {
        "id": "pnLTE3AKQUAB",
        "colab": {
          "base_uri": "https://localhost:8080/"
        },
        "outputId": "215574fa-0c8c-4cbc-ab9e-2892292e2df7"
      },
      "execution_count": 13,
      "outputs": [
        {
          "output_type": "execute_result",
          "data": {
            "text/plain": [
              "array([[  18.,    0.,    1.,   19.,   72.],\n",
              "       [ 213.,  167.,  628., 1008., 2369.],\n",
              "       [1032.,  432.,  131., 1595., 2552.]])"
            ]
          },
          "metadata": {},
          "execution_count": 13
        }
      ]
    },
    {
      "cell_type": "code",
      "source": [
        "\n",
        "Fd_row_sm = np.sum((Fd_row), axis=0) # 최종수요의 행합\n",
        "Fd_sm=Fd_row_sm.reshape(1,5)"
      ],
      "metadata": {
        "id": "P4rDTfEdeuwW"
      },
      "execution_count": 14,
      "outputs": []
    },
    {
      "cell_type": "code",
      "source": [
        "Nae_va_ct = np.concatenate((Nae_tot, Va_row)) # 중간투입(수요)과 부가가치 및 산출액 합치기\n",
        "Nae_va_ct"
      ],
      "metadata": {
        "colab": {
          "base_uri": "https://localhost:8080/"
        },
        "id": "88LooUFcPcm6",
        "outputId": "793935c4-2d65-499d-b533-d5acc0bcfbc8"
      },
      "execution_count": 15,
      "outputs": [
        {
          "output_type": "execute_result",
          "data": {
            "text/plain": [
              "array([[   4.,   38.,   11.],\n",
              "       [  16.,  944.,  401.],\n",
              "       [   7.,  257.,  693.],\n",
              "       [  27., 1239., 1105.],\n",
              "       [   7.,  197.,  714.],\n",
              "       [  20.,  152.,  298.],\n",
              "       [   5.,  144.,  230.],\n",
              "       [   1.,   60.,  100.],\n",
              "       [  33.,  553., 1342.],\n",
              "       [  60., 1792., 2447.]])"
            ]
          },
          "metadata": {},
          "execution_count": 15
        }
      ]
    },
    {
      "cell_type": "code",
      "source": [
        "Nae_va_ct_sm = Nae_va_ct.sum(axis=1).reshape(10,1)  # 부가가치 및 산출액의 열합"
      ],
      "metadata": {
        "id": "QqYemKSUQnVy"
      },
      "execution_count": 16,
      "outputs": []
    },
    {
      "cell_type": "code",
      "source": [
        "Nnull = np.zeros((6,5)) # 0행렬"
      ],
      "metadata": {
        "id": "T6hq-mLuQnYZ"
      },
      "execution_count": 17,
      "outputs": []
    },
    {
      "cell_type": "code",
      "source": [
        "Fd_nnull = np.concatenate((Fd_row, Fd_sm, Nnull),axis=0)  # 최종수요, 최종수요의 행합 및 0행렬 합치기"
      ],
      "metadata": {
        "id": "bX019RFqQnbK"
      },
      "execution_count": 18,
      "outputs": []
    },
    {
      "cell_type": "code",
      "source": [
        "Tot_f = np.concatenate((Nae_va_ct,Nae_va_ct_sm, Fd_nnull), axis=1)  # 최종 3x3 부문통합된 거래표(부가가치항목포함)\n",
        "Tot_f_va1 = np.concatenate((Tot_f[0:4,], Tot_f[-2:,:]), axis=0)  # 최종 3x3 부문통합된 거래표(부가가치계만 포함)\n",
        "print('3부문 총거래표', '\\n', Tot_f_va1)"
      ],
      "metadata": {
        "colab": {
          "base_uri": "https://localhost:8080/"
        },
        "id": "mK9XxfIEf-YG",
        "outputId": "63e544e5-c667-47f3-a8e4-dfe5e18d7b5a"
      },
      "execution_count": 19,
      "outputs": [
        {
          "output_type": "stream",
          "name": "stdout",
          "text": [
            "3부문 총거래표 \n",
            " [[   4.   38.   11.   53.   18.    0.    1.   19.   72.]\n",
            " [  16.  944.  401. 1361.  213.  167.  628. 1008. 2369.]\n",
            " [   7.  257.  693.  957. 1032.  432.  131. 1595. 2552.]\n",
            " [  27. 1239. 1105. 2371. 1263.  599.  760. 2622. 4993.]\n",
            " [  33.  553. 1342. 1928.    0.    0.    0.    0.    0.]\n",
            " [  60. 1792. 2447. 4299.    0.    0.    0.    0.    0.]]\n"
          ]
        }
      ]
    },
    {
      "cell_type": "code",
      "source": [
        "Tot_F = pd.DataFrame(Tot_f, columns = ['농산품', '공산품', '서비스', '중간수요계', '소비','투자', '수출', '최종수요계', '총수요계'],\n",
        "                     index=['농산품', '공산품', '서비스', '중간투입계', '피용자보수','영업잉여', '고정자본소모', '생산세(보조금공제)', '부가가치계', '총투입액']) # 변수명 붙여서 pandas로 내보내기"
      ],
      "metadata": {
        "id": "jTMh7QgmQngo"
      },
      "execution_count": 20,
      "outputs": []
    },
    {
      "cell_type": "code",
      "source": [
        "Tot_F_va1= pd.DataFrame(Tot_f_va1, columns = ['농산품', '공산품', '서비스', '중간수요계', '소비','투자', '수출', '최종수요계', '총수요계'],\n",
        "                     index=['농산품', '공산품', '서비스', '중간투입계', '부가가치계', '총투입액']) # 변수명 붙여서 pandas로 내보내기"
      ],
      "metadata": {
        "id": "z309spY3OKXC"
      },
      "execution_count": 21,
      "outputs": []
    },
    {
      "cell_type": "code",
      "source": [
        "Tot_F_va1  #최종 3x3 거래표 확인"
      ],
      "metadata": {
        "colab": {
          "base_uri": "https://localhost:8080/",
          "height": 237
        },
        "id": "dJ6L3bD-RDdC",
        "outputId": "9341f3ec-193a-4f5f-900d-c958127cdf30"
      },
      "execution_count": 22,
      "outputs": [
        {
          "output_type": "execute_result",
          "data": {
            "text/plain": [
              "        농산품     공산품     서비스   중간수요계      소비     투자     수출   최종수요계    총수요계\n",
              "농산품     4.0    38.0    11.0    53.0    18.0    0.0    1.0    19.0    72.0\n",
              "공산품    16.0   944.0   401.0  1361.0   213.0  167.0  628.0  1008.0  2369.0\n",
              "서비스     7.0   257.0   693.0   957.0  1032.0  432.0  131.0  1595.0  2552.0\n",
              "중간투입계  27.0  1239.0  1105.0  2371.0  1263.0  599.0  760.0  2622.0  4993.0\n",
              "부가가치계  33.0   553.0  1342.0  1928.0     0.0    0.0    0.0     0.0     0.0\n",
              "총투입액   60.0  1792.0  2447.0  4299.0     0.0    0.0    0.0     0.0     0.0"
            ],
            "text/html": [
              "\n",
              "  <div id=\"df-7f47e957-9a4a-4a16-a620-c44afc4dd67b\" class=\"colab-df-container\">\n",
              "    <div>\n",
              "<style scoped>\n",
              "    .dataframe tbody tr th:only-of-type {\n",
              "        vertical-align: middle;\n",
              "    }\n",
              "\n",
              "    .dataframe tbody tr th {\n",
              "        vertical-align: top;\n",
              "    }\n",
              "\n",
              "    .dataframe thead th {\n",
              "        text-align: right;\n",
              "    }\n",
              "</style>\n",
              "<table border=\"1\" class=\"dataframe\">\n",
              "  <thead>\n",
              "    <tr style=\"text-align: right;\">\n",
              "      <th></th>\n",
              "      <th>농산품</th>\n",
              "      <th>공산품</th>\n",
              "      <th>서비스</th>\n",
              "      <th>중간수요계</th>\n",
              "      <th>소비</th>\n",
              "      <th>투자</th>\n",
              "      <th>수출</th>\n",
              "      <th>최종수요계</th>\n",
              "      <th>총수요계</th>\n",
              "    </tr>\n",
              "  </thead>\n",
              "  <tbody>\n",
              "    <tr>\n",
              "      <th>농산품</th>\n",
              "      <td>4.0</td>\n",
              "      <td>38.0</td>\n",
              "      <td>11.0</td>\n",
              "      <td>53.0</td>\n",
              "      <td>18.0</td>\n",
              "      <td>0.0</td>\n",
              "      <td>1.0</td>\n",
              "      <td>19.0</td>\n",
              "      <td>72.0</td>\n",
              "    </tr>\n",
              "    <tr>\n",
              "      <th>공산품</th>\n",
              "      <td>16.0</td>\n",
              "      <td>944.0</td>\n",
              "      <td>401.0</td>\n",
              "      <td>1361.0</td>\n",
              "      <td>213.0</td>\n",
              "      <td>167.0</td>\n",
              "      <td>628.0</td>\n",
              "      <td>1008.0</td>\n",
              "      <td>2369.0</td>\n",
              "    </tr>\n",
              "    <tr>\n",
              "      <th>서비스</th>\n",
              "      <td>7.0</td>\n",
              "      <td>257.0</td>\n",
              "      <td>693.0</td>\n",
              "      <td>957.0</td>\n",
              "      <td>1032.0</td>\n",
              "      <td>432.0</td>\n",
              "      <td>131.0</td>\n",
              "      <td>1595.0</td>\n",
              "      <td>2552.0</td>\n",
              "    </tr>\n",
              "    <tr>\n",
              "      <th>중간투입계</th>\n",
              "      <td>27.0</td>\n",
              "      <td>1239.0</td>\n",
              "      <td>1105.0</td>\n",
              "      <td>2371.0</td>\n",
              "      <td>1263.0</td>\n",
              "      <td>599.0</td>\n",
              "      <td>760.0</td>\n",
              "      <td>2622.0</td>\n",
              "      <td>4993.0</td>\n",
              "    </tr>\n",
              "    <tr>\n",
              "      <th>부가가치계</th>\n",
              "      <td>33.0</td>\n",
              "      <td>553.0</td>\n",
              "      <td>1342.0</td>\n",
              "      <td>1928.0</td>\n",
              "      <td>0.0</td>\n",
              "      <td>0.0</td>\n",
              "      <td>0.0</td>\n",
              "      <td>0.0</td>\n",
              "      <td>0.0</td>\n",
              "    </tr>\n",
              "    <tr>\n",
              "      <th>총투입액</th>\n",
              "      <td>60.0</td>\n",
              "      <td>1792.0</td>\n",
              "      <td>2447.0</td>\n",
              "      <td>4299.0</td>\n",
              "      <td>0.0</td>\n",
              "      <td>0.0</td>\n",
              "      <td>0.0</td>\n",
              "      <td>0.0</td>\n",
              "      <td>0.0</td>\n",
              "    </tr>\n",
              "  </tbody>\n",
              "</table>\n",
              "</div>\n",
              "    <div class=\"colab-df-buttons\">\n",
              "\n",
              "  <div class=\"colab-df-container\">\n",
              "    <button class=\"colab-df-convert\" onclick=\"convertToInteractive('df-7f47e957-9a4a-4a16-a620-c44afc4dd67b')\"\n",
              "            title=\"Convert this dataframe to an interactive table.\"\n",
              "            style=\"display:none;\">\n",
              "\n",
              "  <svg xmlns=\"http://www.w3.org/2000/svg\" height=\"24px\" viewBox=\"0 -960 960 960\">\n",
              "    <path d=\"M120-120v-720h720v720H120Zm60-500h600v-160H180v160Zm220 220h160v-160H400v160Zm0 220h160v-160H400v160ZM180-400h160v-160H180v160Zm440 0h160v-160H620v160ZM180-180h160v-160H180v160Zm440 0h160v-160H620v160Z\"/>\n",
              "  </svg>\n",
              "    </button>\n",
              "\n",
              "  <style>\n",
              "    .colab-df-container {\n",
              "      display:flex;\n",
              "      gap: 12px;\n",
              "    }\n",
              "\n",
              "    .colab-df-convert {\n",
              "      background-color: #E8F0FE;\n",
              "      border: none;\n",
              "      border-radius: 50%;\n",
              "      cursor: pointer;\n",
              "      display: none;\n",
              "      fill: #1967D2;\n",
              "      height: 32px;\n",
              "      padding: 0 0 0 0;\n",
              "      width: 32px;\n",
              "    }\n",
              "\n",
              "    .colab-df-convert:hover {\n",
              "      background-color: #E2EBFA;\n",
              "      box-shadow: 0px 1px 2px rgba(60, 64, 67, 0.3), 0px 1px 3px 1px rgba(60, 64, 67, 0.15);\n",
              "      fill: #174EA6;\n",
              "    }\n",
              "\n",
              "    .colab-df-buttons div {\n",
              "      margin-bottom: 4px;\n",
              "    }\n",
              "\n",
              "    [theme=dark] .colab-df-convert {\n",
              "      background-color: #3B4455;\n",
              "      fill: #D2E3FC;\n",
              "    }\n",
              "\n",
              "    [theme=dark] .colab-df-convert:hover {\n",
              "      background-color: #434B5C;\n",
              "      box-shadow: 0px 1px 3px 1px rgba(0, 0, 0, 0.15);\n",
              "      filter: drop-shadow(0px 1px 2px rgba(0, 0, 0, 0.3));\n",
              "      fill: #FFFFFF;\n",
              "    }\n",
              "  </style>\n",
              "\n",
              "    <script>\n",
              "      const buttonEl =\n",
              "        document.querySelector('#df-7f47e957-9a4a-4a16-a620-c44afc4dd67b button.colab-df-convert');\n",
              "      buttonEl.style.display =\n",
              "        google.colab.kernel.accessAllowed ? 'block' : 'none';\n",
              "\n",
              "      async function convertToInteractive(key) {\n",
              "        const element = document.querySelector('#df-7f47e957-9a4a-4a16-a620-c44afc4dd67b');\n",
              "        const dataTable =\n",
              "          await google.colab.kernel.invokeFunction('convertToInteractive',\n",
              "                                                    [key], {});\n",
              "        if (!dataTable) return;\n",
              "\n",
              "        const docLinkHtml = 'Like what you see? Visit the ' +\n",
              "          '<a target=\"_blank\" href=https://colab.research.google.com/notebooks/data_table.ipynb>data table notebook</a>'\n",
              "          + ' to learn more about interactive tables.';\n",
              "        element.innerHTML = '';\n",
              "        dataTable['output_type'] = 'display_data';\n",
              "        await google.colab.output.renderOutput(dataTable, element);\n",
              "        const docLink = document.createElement('div');\n",
              "        docLink.innerHTML = docLinkHtml;\n",
              "        element.appendChild(docLink);\n",
              "      }\n",
              "    </script>\n",
              "  </div>\n",
              "\n",
              "\n",
              "<div id=\"df-66488dfd-847e-438b-b66c-221a20cfc01a\">\n",
              "  <button class=\"colab-df-quickchart\" onclick=\"quickchart('df-66488dfd-847e-438b-b66c-221a20cfc01a')\"\n",
              "            title=\"Suggest charts\"\n",
              "            style=\"display:none;\">\n",
              "\n",
              "<svg xmlns=\"http://www.w3.org/2000/svg\" height=\"24px\"viewBox=\"0 0 24 24\"\n",
              "     width=\"24px\">\n",
              "    <g>\n",
              "        <path d=\"M19 3H5c-1.1 0-2 .9-2 2v14c0 1.1.9 2 2 2h14c1.1 0 2-.9 2-2V5c0-1.1-.9-2-2-2zM9 17H7v-7h2v7zm4 0h-2V7h2v10zm4 0h-2v-4h2v4z\"/>\n",
              "    </g>\n",
              "</svg>\n",
              "  </button>\n",
              "\n",
              "<style>\n",
              "  .colab-df-quickchart {\n",
              "      --bg-color: #E8F0FE;\n",
              "      --fill-color: #1967D2;\n",
              "      --hover-bg-color: #E2EBFA;\n",
              "      --hover-fill-color: #174EA6;\n",
              "      --disabled-fill-color: #AAA;\n",
              "      --disabled-bg-color: #DDD;\n",
              "  }\n",
              "\n",
              "  [theme=dark] .colab-df-quickchart {\n",
              "      --bg-color: #3B4455;\n",
              "      --fill-color: #D2E3FC;\n",
              "      --hover-bg-color: #434B5C;\n",
              "      --hover-fill-color: #FFFFFF;\n",
              "      --disabled-bg-color: #3B4455;\n",
              "      --disabled-fill-color: #666;\n",
              "  }\n",
              "\n",
              "  .colab-df-quickchart {\n",
              "    background-color: var(--bg-color);\n",
              "    border: none;\n",
              "    border-radius: 50%;\n",
              "    cursor: pointer;\n",
              "    display: none;\n",
              "    fill: var(--fill-color);\n",
              "    height: 32px;\n",
              "    padding: 0;\n",
              "    width: 32px;\n",
              "  }\n",
              "\n",
              "  .colab-df-quickchart:hover {\n",
              "    background-color: var(--hover-bg-color);\n",
              "    box-shadow: 0 1px 2px rgba(60, 64, 67, 0.3), 0 1px 3px 1px rgba(60, 64, 67, 0.15);\n",
              "    fill: var(--button-hover-fill-color);\n",
              "  }\n",
              "\n",
              "  .colab-df-quickchart-complete:disabled,\n",
              "  .colab-df-quickchart-complete:disabled:hover {\n",
              "    background-color: var(--disabled-bg-color);\n",
              "    fill: var(--disabled-fill-color);\n",
              "    box-shadow: none;\n",
              "  }\n",
              "\n",
              "  .colab-df-spinner {\n",
              "    border: 2px solid var(--fill-color);\n",
              "    border-color: transparent;\n",
              "    border-bottom-color: var(--fill-color);\n",
              "    animation:\n",
              "      spin 1s steps(1) infinite;\n",
              "  }\n",
              "\n",
              "  @keyframes spin {\n",
              "    0% {\n",
              "      border-color: transparent;\n",
              "      border-bottom-color: var(--fill-color);\n",
              "      border-left-color: var(--fill-color);\n",
              "    }\n",
              "    20% {\n",
              "      border-color: transparent;\n",
              "      border-left-color: var(--fill-color);\n",
              "      border-top-color: var(--fill-color);\n",
              "    }\n",
              "    30% {\n",
              "      border-color: transparent;\n",
              "      border-left-color: var(--fill-color);\n",
              "      border-top-color: var(--fill-color);\n",
              "      border-right-color: var(--fill-color);\n",
              "    }\n",
              "    40% {\n",
              "      border-color: transparent;\n",
              "      border-right-color: var(--fill-color);\n",
              "      border-top-color: var(--fill-color);\n",
              "    }\n",
              "    60% {\n",
              "      border-color: transparent;\n",
              "      border-right-color: var(--fill-color);\n",
              "    }\n",
              "    80% {\n",
              "      border-color: transparent;\n",
              "      border-right-color: var(--fill-color);\n",
              "      border-bottom-color: var(--fill-color);\n",
              "    }\n",
              "    90% {\n",
              "      border-color: transparent;\n",
              "      border-bottom-color: var(--fill-color);\n",
              "    }\n",
              "  }\n",
              "</style>\n",
              "\n",
              "  <script>\n",
              "    async function quickchart(key) {\n",
              "      const quickchartButtonEl =\n",
              "        document.querySelector('#' + key + ' button');\n",
              "      quickchartButtonEl.disabled = true;  // To prevent multiple clicks.\n",
              "      quickchartButtonEl.classList.add('colab-df-spinner');\n",
              "      try {\n",
              "        const charts = await google.colab.kernel.invokeFunction(\n",
              "            'suggestCharts', [key], {});\n",
              "      } catch (error) {\n",
              "        console.error('Error during call to suggestCharts:', error);\n",
              "      }\n",
              "      quickchartButtonEl.classList.remove('colab-df-spinner');\n",
              "      quickchartButtonEl.classList.add('colab-df-quickchart-complete');\n",
              "    }\n",
              "    (() => {\n",
              "      let quickchartButtonEl =\n",
              "        document.querySelector('#df-66488dfd-847e-438b-b66c-221a20cfc01a button');\n",
              "      quickchartButtonEl.style.display =\n",
              "        google.colab.kernel.accessAllowed ? 'block' : 'none';\n",
              "    })();\n",
              "  </script>\n",
              "</div>\n",
              "\n",
              "  <div id=\"id_46391a92-66fb-49a9-9660-4cf292b2dc86\">\n",
              "    <style>\n",
              "      .colab-df-generate {\n",
              "        background-color: #E8F0FE;\n",
              "        border: none;\n",
              "        border-radius: 50%;\n",
              "        cursor: pointer;\n",
              "        display: none;\n",
              "        fill: #1967D2;\n",
              "        height: 32px;\n",
              "        padding: 0 0 0 0;\n",
              "        width: 32px;\n",
              "      }\n",
              "\n",
              "      .colab-df-generate:hover {\n",
              "        background-color: #E2EBFA;\n",
              "        box-shadow: 0px 1px 2px rgba(60, 64, 67, 0.3), 0px 1px 3px 1px rgba(60, 64, 67, 0.15);\n",
              "        fill: #174EA6;\n",
              "      }\n",
              "\n",
              "      [theme=dark] .colab-df-generate {\n",
              "        background-color: #3B4455;\n",
              "        fill: #D2E3FC;\n",
              "      }\n",
              "\n",
              "      [theme=dark] .colab-df-generate:hover {\n",
              "        background-color: #434B5C;\n",
              "        box-shadow: 0px 1px 3px 1px rgba(0, 0, 0, 0.15);\n",
              "        filter: drop-shadow(0px 1px 2px rgba(0, 0, 0, 0.3));\n",
              "        fill: #FFFFFF;\n",
              "      }\n",
              "    </style>\n",
              "    <button class=\"colab-df-generate\" onclick=\"generateWithVariable('Tot_F_va1')\"\n",
              "            title=\"Generate code using this dataframe.\"\n",
              "            style=\"display:none;\">\n",
              "\n",
              "  <svg xmlns=\"http://www.w3.org/2000/svg\" height=\"24px\"viewBox=\"0 0 24 24\"\n",
              "       width=\"24px\">\n",
              "    <path d=\"M7,19H8.4L18.45,9,17,7.55,7,17.6ZM5,21V16.75L18.45,3.32a2,2,0,0,1,2.83,0l1.4,1.43a1.91,1.91,0,0,1,.58,1.4,1.91,1.91,0,0,1-.58,1.4L9.25,21ZM18.45,9,17,7.55Zm-12,3A5.31,5.31,0,0,0,4.9,8.1,5.31,5.31,0,0,0,1,6.5,5.31,5.31,0,0,0,4.9,4.9,5.31,5.31,0,0,0,6.5,1,5.31,5.31,0,0,0,8.1,4.9,5.31,5.31,0,0,0,12,6.5,5.46,5.46,0,0,0,6.5,12Z\"/>\n",
              "  </svg>\n",
              "    </button>\n",
              "    <script>\n",
              "      (() => {\n",
              "      const buttonEl =\n",
              "        document.querySelector('#id_46391a92-66fb-49a9-9660-4cf292b2dc86 button.colab-df-generate');\n",
              "      buttonEl.style.display =\n",
              "        google.colab.kernel.accessAllowed ? 'block' : 'none';\n",
              "\n",
              "      buttonEl.onclick = () => {\n",
              "        google.colab.notebook.generateWithVariable('Tot_F_va1');\n",
              "      }\n",
              "      })();\n",
              "    </script>\n",
              "  </div>\n",
              "\n",
              "    </div>\n",
              "  </div>\n"
            ],
            "application/vnd.google.colaboratory.intrinsic+json": {
              "type": "dataframe",
              "variable_name": "Tot_F_va1",
              "summary": "{\n  \"name\": \"Tot_F_va1\",\n  \"rows\": 6,\n  \"fields\": [\n    {\n      \"column\": \"\\ub18d\\uc0b0\\ud488\",\n      \"properties\": {\n        \"dtype\": \"number\",\n        \"std\": 20.676073128135332,\n        \"min\": 4.0,\n        \"max\": 60.0,\n        \"num_unique_values\": 6,\n        \"samples\": [\n          4.0,\n          16.0,\n          60.0\n        ],\n        \"semantic_type\": \"\",\n        \"description\": \"\"\n      }\n    },\n    {\n      \"column\": \"\\uacf5\\uc0b0\\ud488\",\n      \"properties\": {\n        \"dtype\": \"number\",\n        \"std\": 653.2893437571645,\n        \"min\": 38.0,\n        \"max\": 1792.0,\n        \"num_unique_values\": 6,\n        \"samples\": [\n          38.0,\n          944.0,\n          1792.0\n        ],\n        \"semantic_type\": \"\",\n        \"description\": \"\"\n      }\n    },\n    {\n      \"column\": \"\\uc11c\\ube44\\uc2a4\",\n      \"properties\": {\n        \"dtype\": \"number\",\n        \"std\": 854.7477795622909,\n        \"min\": 11.0,\n        \"max\": 2447.0,\n        \"num_unique_values\": 6,\n        \"samples\": [\n          11.0,\n          401.0,\n          2447.0\n        ],\n        \"semantic_type\": \"\",\n        \"description\": \"\"\n      }\n    },\n    {\n      \"column\": \"\\uc911\\uac04\\uc218\\uc694\\uacc4\",\n      \"properties\": {\n        \"dtype\": \"number\",\n        \"std\": 1451.7606437242562,\n        \"min\": 53.0,\n        \"max\": 4299.0,\n        \"num_unique_values\": 6,\n        \"samples\": [\n          53.0,\n          1361.0,\n          4299.0\n        ],\n        \"semantic_type\": \"\",\n        \"description\": \"\"\n      }\n    },\n    {\n      \"column\": \"\\uc18c\\ube44\",\n      \"properties\": {\n        \"dtype\": \"number\",\n        \"std\": 573.1387266622279,\n        \"min\": 0.0,\n        \"max\": 1263.0,\n        \"num_unique_values\": 5,\n        \"samples\": [\n          213.0,\n          0.0,\n          1032.0\n        ],\n        \"semantic_type\": \"\",\n        \"description\": \"\"\n      }\n    },\n    {\n      \"column\": \"\\ud22c\\uc790\",\n      \"properties\": {\n        \"dtype\": \"number\",\n        \"std\": 258.50080593040065,\n        \"min\": 0.0,\n        \"max\": 599.0,\n        \"num_unique_values\": 4,\n        \"samples\": [\n          167.0,\n          599.0,\n          0.0\n        ],\n        \"semantic_type\": \"\",\n        \"description\": \"\"\n      }\n    },\n    {\n      \"column\": \"\\uc218\\ucd9c\",\n      \"properties\": {\n        \"dtype\": \"number\",\n        \"std\": 347.5857687919151,\n        \"min\": 0.0,\n        \"max\": 760.0,\n        \"num_unique_values\": 5,\n        \"samples\": [\n          628.0,\n          0.0,\n          131.0\n        ],\n        \"semantic_type\": \"\",\n        \"description\": \"\"\n      }\n    },\n    {\n      \"column\": \"\\ucd5c\\uc885\\uc218\\uc694\\uacc4\",\n      \"properties\": {\n        \"dtype\": \"number\",\n        \"std\": 1081.857476750057,\n        \"min\": 0.0,\n        \"max\": 2622.0,\n        \"num_unique_values\": 5,\n        \"samples\": [\n          1008.0,\n          0.0,\n          1595.0\n        ],\n        \"semantic_type\": \"\",\n        \"description\": \"\"\n      }\n    },\n    {\n      \"column\": \"\\ucd1d\\uc218\\uc694\\uacc4\",\n      \"properties\": {\n        \"dtype\": \"number\",\n        \"std\": 2021.8835442890045,\n        \"min\": 0.0,\n        \"max\": 4993.0,\n        \"num_unique_values\": 5,\n        \"samples\": [\n          2369.0,\n          0.0,\n          2552.0\n        ],\n        \"semantic_type\": \"\",\n        \"description\": \"\"\n      }\n    }\n  ]\n}"
            }
          },
          "metadata": {},
          "execution_count": 22
        }
      ]
    },
    {
      "cell_type": "markdown",
      "source": [],
      "metadata": {
        "id": "RoHxB-Q6d2WV"
      }
    },
    {
      "cell_type": "markdown",
      "source": [
        "###  국산거래표"
      ],
      "metadata": {
        "id": "mObPcfaSk7BJ"
      }
    },
    {
      "cell_type": "code",
      "source": [
        "url_Dm_33 = \"https://raw.githubusercontent.com/IO-2024/IOTs_with_python/main/data/Domestic_Matrix.csv\"  # 33부문의 국산거래표 불러오기\n",
        "Dm_33 = pd.read_csv(url_Dm_33)"
      ],
      "metadata": {
        "id": "7fMUOWLSRDf9"
      },
      "execution_count": 23,
      "outputs": []
    },
    {
      "cell_type": "code",
      "source": [
        "Dmm_33 = Dm_33.to_numpy()\n",
        "Dom_33 = Dmm_33[0:34,1:53].astype(float)"
      ],
      "metadata": {
        "id": "Wm20kwrE9c7k"
      },
      "execution_count": 24,
      "outputs": []
    },
    {
      "cell_type": "code",
      "source": [
        "Nae_dom = (Mtx@Dom_33[0:33,0:33])@Mtx.T # 중간투입(수요)의 행을 3부문으로 만들기\n",
        "Nae_dom"
      ],
      "metadata": {
        "colab": {
          "base_uri": "https://localhost:8080/"
        },
        "id": "yV9zlj5E9c-S",
        "outputId": "c8bb51d0-12d5-40af-89ff-98101adf53e2"
      },
      "execution_count": 25,
      "outputs": [
        {
          "output_type": "execute_result",
          "data": {
            "text/plain": [
              "array([[  4.,  31.,  10.],\n",
              "       [ 15., 588., 322.],\n",
              "       [  7., 243., 644.]])"
            ]
          },
          "metadata": {},
          "execution_count": 25
        }
      ]
    },
    {
      "cell_type": "code",
      "source": [
        "Dsm_row = Dom_33[33:34,0:33]@Mtx.T # 중간투입계\n",
        "Dsm_row"
      ],
      "metadata": {
        "colab": {
          "base_uri": "https://localhost:8080/"
        },
        "id": "bGsYwWZ29dJr",
        "outputId": "261ffcf2-cfa8-4ba4-c4cb-d039d5858844"
      },
      "execution_count": 26,
      "outputs": [
        {
          "output_type": "execute_result",
          "data": {
            "text/plain": [
              "array([[ 26., 862., 976.]])"
            ]
          },
          "metadata": {},
          "execution_count": 26
        }
      ]
    },
    {
      "cell_type": "code",
      "source": [
        "Dfd = Dom_33[0:33, 34:45]\n",
        "Dfd"
      ],
      "metadata": {
        "colab": {
          "base_uri": "https://localhost:8080/"
        },
        "id": "PGk_xDK59dOL",
        "outputId": "8fe9ff2d-c3c8-4e7d-c83b-67ab28e87a58"
      },
      "execution_count": 27,
      "outputs": [
        {
          "output_type": "execute_result",
          "data": {
            "text/plain": [
              "array([[ 15.,   0.,   0.,   0.,  -1.,   0.,   1.,  15.,  60.],\n",
              "       [  0.,   0.,   0.,   0.,   0.,   0.,   0.,   0.,   3.],\n",
              "       [ 52.,   0.,   0.,   0.,   1.,   0.,   9.,  62., 135.],\n",
              "       [ 16.,   0.,   0.,   0.,   1.,   0.,  23.,  40.,  66.],\n",
              "       [  1.,   0.,   0.,   0.,   1.,   0.,   4.,   6.,  46.],\n",
              "       [ 15.,   0.,   0.,   0.,   1.,   0.,  52.,  68., 136.],\n",
              "       [  3.,   0.,   0.,   0.,   5.,   0., 101., 109., 279.],\n",
              "       [  0.,   0.,   0.,   0.,   0.,   0.,   5.,   5.,  40.],\n",
              "       [ -1.,   0.,  -3.,   0.,   1.,   0.,  44.,  41., 141.],\n",
              "       [  1.,   0.,   3.,   3.,   1.,   0.,  12.,  20., 101.],\n",
              "       [ 15.,   0.,  10.,   2.,   2.,   0., 172., 201., 285.],\n",
              "       [  6.,   0.,   8.,   0.,   1.,   0.,  31.,  46., 108.],\n",
              "       [  2.,   0.,  37.,   0.,  -1.,   0.,  60.,  98., 138.],\n",
              "       [ 24.,   0.,  19.,   8.,   2.,   0., 104., 157., 233.],\n",
              "       [  4.,   0.,   3.,   0.,   0.,   1.,   4.,  12.,  21.],\n",
              "       [  0.,   0.,   0.,   0.,   0.,   0.,   2.,   2.,  60.],\n",
              "       [ 18.,   0.,   0.,   0.,   0.,   0.,   0.,  18.,  99.],\n",
              "       [  5.,   1.,   0.,   0.,   0.,   0.,   1.,   7.,  21.],\n",
              "       [  0.,   0., 196.,  64.,   0.,   0.,   0., 260., 271.],\n",
              "       [ 91.,   0.,  12.,   1.,   2.,   1.,  36., 143., 285.],\n",
              "       [ 21.,   0.,   0.,   0.,   0.,   0.,  34.,  55., 154.],\n",
              "       [ 87.,   0.,   0.,   0.,   0.,   0.,  11.,  98., 170.],\n",
              "       [ 34.,   0.,  33.,   0.,   1.,   0.,  12.,  80., 152.],\n",
              "       [ 73.,   0.,   0.,   0.,   0.,   0.,   5.,  78., 184.],\n",
              "       [132.,   0.,  31.,   0.,   0.,   0.,   0., 163., 226.],\n",
              "       [  4.,   0.,  73.,  11.,   0.,   0.,  18., 106., 230.],\n",
              "       [  6.,   0.,   0.,   0.,   0.,   0.,  11.,  17.,  96.],\n",
              "       [  2., 154.,   0.,   0.,   0.,   0.,   0., 156., 159.],\n",
              "       [ 57.,  71.,   0.,   0.,   0.,   0.,   0., 128., 129.],\n",
              "       [ 58., 101.,   0.,   0.,   0.,   0.,   1., 160., 165.],\n",
              "       [ 36.,   2.,   0.,   0.,   0.,   0.,   1.,  39.,  47.],\n",
              "       [ 44.,   0.,   0.,   0.,   0.,   0.,   1.,  45.,  56.],\n",
              "       [  0.,   0.,   0.,   0.,   0.,   0.,   0.,   0.,   3.]])"
            ]
          },
          "metadata": {},
          "execution_count": 27
        }
      ]
    },
    {
      "cell_type": "code",
      "source": [
        "Dfd_row=Mtx@Dfd@Fd_cd.T"
      ],
      "metadata": {
        "id": "2RW9ObIIBf6H"
      },
      "execution_count": 28,
      "outputs": []
    },
    {
      "cell_type": "code",
      "source": [
        "Dfd_row_sm = np.sum((Dfd_row), axis=0) # 최종수요의 행합"
      ],
      "metadata": {
        "id": "LcspQZiWBf8s"
      },
      "execution_count": 29,
      "outputs": []
    },
    {
      "cell_type": "code",
      "source": [
        "Dfd_sm=Dfd_row_sm.reshape(1,5)\n",
        "Dfd_sm"
      ],
      "metadata": {
        "id": "WnMSJOqfBf_F",
        "outputId": "46fa7bb3-3942-4f7c-a03f-9c04ddba5364",
        "colab": {
          "base_uri": "https://localhost:8080/"
        }
      },
      "execution_count": 30,
      "outputs": [
        {
          "output_type": "execute_result",
          "data": {
            "text/plain": [
              "array([[1150.,  530.,  755., 2435., 4299.]])"
            ]
          },
          "metadata": {},
          "execution_count": 30
        }
      ]
    },
    {
      "cell_type": "code",
      "source": [
        "Nae_dm = np.concatenate((Nae_dom, Dsm_row)) # 중간투입과 중투입계 합치기\n",
        "Nae_dm"
      ],
      "metadata": {
        "id": "tIDU9V3yDdAW",
        "outputId": "6fe283f4-b27a-4215-a6de-99766ea693e0",
        "colab": {
          "base_uri": "https://localhost:8080/"
        }
      },
      "execution_count": 31,
      "outputs": [
        {
          "output_type": "execute_result",
          "data": {
            "text/plain": [
              "array([[  4.,  31.,  10.],\n",
              "       [ 15., 588., 322.],\n",
              "       [  7., 243., 644.],\n",
              "       [ 26., 862., 976.]])"
            ]
          },
          "metadata": {},
          "execution_count": 31
        }
      ]
    },
    {
      "cell_type": "code",
      "source": [
        "Nae_col_sm_dm = Nae_dm.sum(axis=1).reshape(4,1)  # 중간투입(수요)과 행합"
      ],
      "metadata": {
        "id": "VtI2ifklBgBR"
      },
      "execution_count": 32,
      "outputs": []
    },
    {
      "cell_type": "code",
      "source": [
        "Nae_dm_sm = Nae_col_sm_dm.sum(axis=1).reshape(4,1)  # 중간수요와 중간수요계 합치기"
      ],
      "metadata": {
        "id": "aaWNP32aFNl6"
      },
      "execution_count": 33,
      "outputs": []
    },
    {
      "cell_type": "code",
      "source": [
        "Dfd_nnull = np.concatenate((Dfd_row, Dfd_sm),axis=0)  #   최종수요 및 최종수요계 합치기"
      ],
      "metadata": {
        "id": "8HT2MFywBgDZ"
      },
      "execution_count": 34,
      "outputs": []
    },
    {
      "cell_type": "code",
      "source": [
        "Dom_f = np.concatenate((Nae_dm, Nae_dm_sm, Dfd_nnull), axis=1)  # 최종 3x3 부문통합된 거래표\n",
        "print('3부문 국산거래표', '\\n', Dom_f)"
      ],
      "metadata": {
        "id": "p2V-RLotBgFb",
        "outputId": "1439ceab-9525-48d0-b701-6eacca6ed6d8",
        "colab": {
          "base_uri": "https://localhost:8080/"
        }
      },
      "execution_count": 35,
      "outputs": [
        {
          "output_type": "stream",
          "name": "stdout",
          "text": [
            "3부문 국산거래표 \n",
            " [[   4.   31.   10.   45.   15.   -1.    1.   15.   60.]\n",
            " [  15.  588.  322.  925.  138.  106.  623.  867. 1792.]\n",
            " [   7.  243.  644.  894.  997.  425.  131. 1553. 2447.]\n",
            " [  26.  862.  976. 1864. 1150.  530.  755. 2435. 4299.]]\n"
          ]
        }
      ]
    },
    {
      "cell_type": "code",
      "source": [
        "dom_F = pd.DataFrame(Dom_f, columns = ['농산품', '공산품', '서비스', '중간수요계', '소비','투자', '수출', '최종수요계', '총수요계'],\n",
        "                     index=['농산품', '공산품', '서비스', '중간투입계']) # 변수명 붙여서 pandas로 내보내기\n",
        "dom_F"
      ],
      "metadata": {
        "id": "bOvUyM5JBgHa",
        "outputId": "240907ff-9c11-4647-892d-bda1d3820395",
        "colab": {
          "base_uri": "https://localhost:8080/",
          "height": 175
        }
      },
      "execution_count": 36,
      "outputs": [
        {
          "output_type": "execute_result",
          "data": {
            "text/plain": [
              "        농산품    공산품    서비스   중간수요계      소비     투자     수출   최종수요계    총수요계\n",
              "농산품     4.0   31.0   10.0    45.0    15.0   -1.0    1.0    15.0    60.0\n",
              "공산품    15.0  588.0  322.0   925.0   138.0  106.0  623.0   867.0  1792.0\n",
              "서비스     7.0  243.0  644.0   894.0   997.0  425.0  131.0  1553.0  2447.0\n",
              "중간투입계  26.0  862.0  976.0  1864.0  1150.0  530.0  755.0  2435.0  4299.0"
            ],
            "text/html": [
              "\n",
              "  <div id=\"df-711b426a-5365-4b61-ac66-c3fab9b88621\" class=\"colab-df-container\">\n",
              "    <div>\n",
              "<style scoped>\n",
              "    .dataframe tbody tr th:only-of-type {\n",
              "        vertical-align: middle;\n",
              "    }\n",
              "\n",
              "    .dataframe tbody tr th {\n",
              "        vertical-align: top;\n",
              "    }\n",
              "\n",
              "    .dataframe thead th {\n",
              "        text-align: right;\n",
              "    }\n",
              "</style>\n",
              "<table border=\"1\" class=\"dataframe\">\n",
              "  <thead>\n",
              "    <tr style=\"text-align: right;\">\n",
              "      <th></th>\n",
              "      <th>농산품</th>\n",
              "      <th>공산품</th>\n",
              "      <th>서비스</th>\n",
              "      <th>중간수요계</th>\n",
              "      <th>소비</th>\n",
              "      <th>투자</th>\n",
              "      <th>수출</th>\n",
              "      <th>최종수요계</th>\n",
              "      <th>총수요계</th>\n",
              "    </tr>\n",
              "  </thead>\n",
              "  <tbody>\n",
              "    <tr>\n",
              "      <th>농산품</th>\n",
              "      <td>4.0</td>\n",
              "      <td>31.0</td>\n",
              "      <td>10.0</td>\n",
              "      <td>45.0</td>\n",
              "      <td>15.0</td>\n",
              "      <td>-1.0</td>\n",
              "      <td>1.0</td>\n",
              "      <td>15.0</td>\n",
              "      <td>60.0</td>\n",
              "    </tr>\n",
              "    <tr>\n",
              "      <th>공산품</th>\n",
              "      <td>15.0</td>\n",
              "      <td>588.0</td>\n",
              "      <td>322.0</td>\n",
              "      <td>925.0</td>\n",
              "      <td>138.0</td>\n",
              "      <td>106.0</td>\n",
              "      <td>623.0</td>\n",
              "      <td>867.0</td>\n",
              "      <td>1792.0</td>\n",
              "    </tr>\n",
              "    <tr>\n",
              "      <th>서비스</th>\n",
              "      <td>7.0</td>\n",
              "      <td>243.0</td>\n",
              "      <td>644.0</td>\n",
              "      <td>894.0</td>\n",
              "      <td>997.0</td>\n",
              "      <td>425.0</td>\n",
              "      <td>131.0</td>\n",
              "      <td>1553.0</td>\n",
              "      <td>2447.0</td>\n",
              "    </tr>\n",
              "    <tr>\n",
              "      <th>중간투입계</th>\n",
              "      <td>26.0</td>\n",
              "      <td>862.0</td>\n",
              "      <td>976.0</td>\n",
              "      <td>1864.0</td>\n",
              "      <td>1150.0</td>\n",
              "      <td>530.0</td>\n",
              "      <td>755.0</td>\n",
              "      <td>2435.0</td>\n",
              "      <td>4299.0</td>\n",
              "    </tr>\n",
              "  </tbody>\n",
              "</table>\n",
              "</div>\n",
              "    <div class=\"colab-df-buttons\">\n",
              "\n",
              "  <div class=\"colab-df-container\">\n",
              "    <button class=\"colab-df-convert\" onclick=\"convertToInteractive('df-711b426a-5365-4b61-ac66-c3fab9b88621')\"\n",
              "            title=\"Convert this dataframe to an interactive table.\"\n",
              "            style=\"display:none;\">\n",
              "\n",
              "  <svg xmlns=\"http://www.w3.org/2000/svg\" height=\"24px\" viewBox=\"0 -960 960 960\">\n",
              "    <path d=\"M120-120v-720h720v720H120Zm60-500h600v-160H180v160Zm220 220h160v-160H400v160Zm0 220h160v-160H400v160ZM180-400h160v-160H180v160Zm440 0h160v-160H620v160ZM180-180h160v-160H180v160Zm440 0h160v-160H620v160Z\"/>\n",
              "  </svg>\n",
              "    </button>\n",
              "\n",
              "  <style>\n",
              "    .colab-df-container {\n",
              "      display:flex;\n",
              "      gap: 12px;\n",
              "    }\n",
              "\n",
              "    .colab-df-convert {\n",
              "      background-color: #E8F0FE;\n",
              "      border: none;\n",
              "      border-radius: 50%;\n",
              "      cursor: pointer;\n",
              "      display: none;\n",
              "      fill: #1967D2;\n",
              "      height: 32px;\n",
              "      padding: 0 0 0 0;\n",
              "      width: 32px;\n",
              "    }\n",
              "\n",
              "    .colab-df-convert:hover {\n",
              "      background-color: #E2EBFA;\n",
              "      box-shadow: 0px 1px 2px rgba(60, 64, 67, 0.3), 0px 1px 3px 1px rgba(60, 64, 67, 0.15);\n",
              "      fill: #174EA6;\n",
              "    }\n",
              "\n",
              "    .colab-df-buttons div {\n",
              "      margin-bottom: 4px;\n",
              "    }\n",
              "\n",
              "    [theme=dark] .colab-df-convert {\n",
              "      background-color: #3B4455;\n",
              "      fill: #D2E3FC;\n",
              "    }\n",
              "\n",
              "    [theme=dark] .colab-df-convert:hover {\n",
              "      background-color: #434B5C;\n",
              "      box-shadow: 0px 1px 3px 1px rgba(0, 0, 0, 0.15);\n",
              "      filter: drop-shadow(0px 1px 2px rgba(0, 0, 0, 0.3));\n",
              "      fill: #FFFFFF;\n",
              "    }\n",
              "  </style>\n",
              "\n",
              "    <script>\n",
              "      const buttonEl =\n",
              "        document.querySelector('#df-711b426a-5365-4b61-ac66-c3fab9b88621 button.colab-df-convert');\n",
              "      buttonEl.style.display =\n",
              "        google.colab.kernel.accessAllowed ? 'block' : 'none';\n",
              "\n",
              "      async function convertToInteractive(key) {\n",
              "        const element = document.querySelector('#df-711b426a-5365-4b61-ac66-c3fab9b88621');\n",
              "        const dataTable =\n",
              "          await google.colab.kernel.invokeFunction('convertToInteractive',\n",
              "                                                    [key], {});\n",
              "        if (!dataTable) return;\n",
              "\n",
              "        const docLinkHtml = 'Like what you see? Visit the ' +\n",
              "          '<a target=\"_blank\" href=https://colab.research.google.com/notebooks/data_table.ipynb>data table notebook</a>'\n",
              "          + ' to learn more about interactive tables.';\n",
              "        element.innerHTML = '';\n",
              "        dataTable['output_type'] = 'display_data';\n",
              "        await google.colab.output.renderOutput(dataTable, element);\n",
              "        const docLink = document.createElement('div');\n",
              "        docLink.innerHTML = docLinkHtml;\n",
              "        element.appendChild(docLink);\n",
              "      }\n",
              "    </script>\n",
              "  </div>\n",
              "\n",
              "\n",
              "<div id=\"df-6a68a6bf-f923-4409-b81c-8f0bbd9c3076\">\n",
              "  <button class=\"colab-df-quickchart\" onclick=\"quickchart('df-6a68a6bf-f923-4409-b81c-8f0bbd9c3076')\"\n",
              "            title=\"Suggest charts\"\n",
              "            style=\"display:none;\">\n",
              "\n",
              "<svg xmlns=\"http://www.w3.org/2000/svg\" height=\"24px\"viewBox=\"0 0 24 24\"\n",
              "     width=\"24px\">\n",
              "    <g>\n",
              "        <path d=\"M19 3H5c-1.1 0-2 .9-2 2v14c0 1.1.9 2 2 2h14c1.1 0 2-.9 2-2V5c0-1.1-.9-2-2-2zM9 17H7v-7h2v7zm4 0h-2V7h2v10zm4 0h-2v-4h2v4z\"/>\n",
              "    </g>\n",
              "</svg>\n",
              "  </button>\n",
              "\n",
              "<style>\n",
              "  .colab-df-quickchart {\n",
              "      --bg-color: #E8F0FE;\n",
              "      --fill-color: #1967D2;\n",
              "      --hover-bg-color: #E2EBFA;\n",
              "      --hover-fill-color: #174EA6;\n",
              "      --disabled-fill-color: #AAA;\n",
              "      --disabled-bg-color: #DDD;\n",
              "  }\n",
              "\n",
              "  [theme=dark] .colab-df-quickchart {\n",
              "      --bg-color: #3B4455;\n",
              "      --fill-color: #D2E3FC;\n",
              "      --hover-bg-color: #434B5C;\n",
              "      --hover-fill-color: #FFFFFF;\n",
              "      --disabled-bg-color: #3B4455;\n",
              "      --disabled-fill-color: #666;\n",
              "  }\n",
              "\n",
              "  .colab-df-quickchart {\n",
              "    background-color: var(--bg-color);\n",
              "    border: none;\n",
              "    border-radius: 50%;\n",
              "    cursor: pointer;\n",
              "    display: none;\n",
              "    fill: var(--fill-color);\n",
              "    height: 32px;\n",
              "    padding: 0;\n",
              "    width: 32px;\n",
              "  }\n",
              "\n",
              "  .colab-df-quickchart:hover {\n",
              "    background-color: var(--hover-bg-color);\n",
              "    box-shadow: 0 1px 2px rgba(60, 64, 67, 0.3), 0 1px 3px 1px rgba(60, 64, 67, 0.15);\n",
              "    fill: var(--button-hover-fill-color);\n",
              "  }\n",
              "\n",
              "  .colab-df-quickchart-complete:disabled,\n",
              "  .colab-df-quickchart-complete:disabled:hover {\n",
              "    background-color: var(--disabled-bg-color);\n",
              "    fill: var(--disabled-fill-color);\n",
              "    box-shadow: none;\n",
              "  }\n",
              "\n",
              "  .colab-df-spinner {\n",
              "    border: 2px solid var(--fill-color);\n",
              "    border-color: transparent;\n",
              "    border-bottom-color: var(--fill-color);\n",
              "    animation:\n",
              "      spin 1s steps(1) infinite;\n",
              "  }\n",
              "\n",
              "  @keyframes spin {\n",
              "    0% {\n",
              "      border-color: transparent;\n",
              "      border-bottom-color: var(--fill-color);\n",
              "      border-left-color: var(--fill-color);\n",
              "    }\n",
              "    20% {\n",
              "      border-color: transparent;\n",
              "      border-left-color: var(--fill-color);\n",
              "      border-top-color: var(--fill-color);\n",
              "    }\n",
              "    30% {\n",
              "      border-color: transparent;\n",
              "      border-left-color: var(--fill-color);\n",
              "      border-top-color: var(--fill-color);\n",
              "      border-right-color: var(--fill-color);\n",
              "    }\n",
              "    40% {\n",
              "      border-color: transparent;\n",
              "      border-right-color: var(--fill-color);\n",
              "      border-top-color: var(--fill-color);\n",
              "    }\n",
              "    60% {\n",
              "      border-color: transparent;\n",
              "      border-right-color: var(--fill-color);\n",
              "    }\n",
              "    80% {\n",
              "      border-color: transparent;\n",
              "      border-right-color: var(--fill-color);\n",
              "      border-bottom-color: var(--fill-color);\n",
              "    }\n",
              "    90% {\n",
              "      border-color: transparent;\n",
              "      border-bottom-color: var(--fill-color);\n",
              "    }\n",
              "  }\n",
              "</style>\n",
              "\n",
              "  <script>\n",
              "    async function quickchart(key) {\n",
              "      const quickchartButtonEl =\n",
              "        document.querySelector('#' + key + ' button');\n",
              "      quickchartButtonEl.disabled = true;  // To prevent multiple clicks.\n",
              "      quickchartButtonEl.classList.add('colab-df-spinner');\n",
              "      try {\n",
              "        const charts = await google.colab.kernel.invokeFunction(\n",
              "            'suggestCharts', [key], {});\n",
              "      } catch (error) {\n",
              "        console.error('Error during call to suggestCharts:', error);\n",
              "      }\n",
              "      quickchartButtonEl.classList.remove('colab-df-spinner');\n",
              "      quickchartButtonEl.classList.add('colab-df-quickchart-complete');\n",
              "    }\n",
              "    (() => {\n",
              "      let quickchartButtonEl =\n",
              "        document.querySelector('#df-6a68a6bf-f923-4409-b81c-8f0bbd9c3076 button');\n",
              "      quickchartButtonEl.style.display =\n",
              "        google.colab.kernel.accessAllowed ? 'block' : 'none';\n",
              "    })();\n",
              "  </script>\n",
              "</div>\n",
              "\n",
              "  <div id=\"id_0535fb63-c9a4-44b1-a8c0-1d8ea81e560e\">\n",
              "    <style>\n",
              "      .colab-df-generate {\n",
              "        background-color: #E8F0FE;\n",
              "        border: none;\n",
              "        border-radius: 50%;\n",
              "        cursor: pointer;\n",
              "        display: none;\n",
              "        fill: #1967D2;\n",
              "        height: 32px;\n",
              "        padding: 0 0 0 0;\n",
              "        width: 32px;\n",
              "      }\n",
              "\n",
              "      .colab-df-generate:hover {\n",
              "        background-color: #E2EBFA;\n",
              "        box-shadow: 0px 1px 2px rgba(60, 64, 67, 0.3), 0px 1px 3px 1px rgba(60, 64, 67, 0.15);\n",
              "        fill: #174EA6;\n",
              "      }\n",
              "\n",
              "      [theme=dark] .colab-df-generate {\n",
              "        background-color: #3B4455;\n",
              "        fill: #D2E3FC;\n",
              "      }\n",
              "\n",
              "      [theme=dark] .colab-df-generate:hover {\n",
              "        background-color: #434B5C;\n",
              "        box-shadow: 0px 1px 3px 1px rgba(0, 0, 0, 0.15);\n",
              "        filter: drop-shadow(0px 1px 2px rgba(0, 0, 0, 0.3));\n",
              "        fill: #FFFFFF;\n",
              "      }\n",
              "    </style>\n",
              "    <button class=\"colab-df-generate\" onclick=\"generateWithVariable('dom_F')\"\n",
              "            title=\"Generate code using this dataframe.\"\n",
              "            style=\"display:none;\">\n",
              "\n",
              "  <svg xmlns=\"http://www.w3.org/2000/svg\" height=\"24px\"viewBox=\"0 0 24 24\"\n",
              "       width=\"24px\">\n",
              "    <path d=\"M7,19H8.4L18.45,9,17,7.55,7,17.6ZM5,21V16.75L18.45,3.32a2,2,0,0,1,2.83,0l1.4,1.43a1.91,1.91,0,0,1,.58,1.4,1.91,1.91,0,0,1-.58,1.4L9.25,21ZM18.45,9,17,7.55Zm-12,3A5.31,5.31,0,0,0,4.9,8.1,5.31,5.31,0,0,0,1,6.5,5.31,5.31,0,0,0,4.9,4.9,5.31,5.31,0,0,0,6.5,1,5.31,5.31,0,0,0,8.1,4.9,5.31,5.31,0,0,0,12,6.5,5.46,5.46,0,0,0,6.5,12Z\"/>\n",
              "  </svg>\n",
              "    </button>\n",
              "    <script>\n",
              "      (() => {\n",
              "      const buttonEl =\n",
              "        document.querySelector('#id_0535fb63-c9a4-44b1-a8c0-1d8ea81e560e button.colab-df-generate');\n",
              "      buttonEl.style.display =\n",
              "        google.colab.kernel.accessAllowed ? 'block' : 'none';\n",
              "\n",
              "      buttonEl.onclick = () => {\n",
              "        google.colab.notebook.generateWithVariable('dom_F');\n",
              "      }\n",
              "      })();\n",
              "    </script>\n",
              "  </div>\n",
              "\n",
              "    </div>\n",
              "  </div>\n"
            ],
            "application/vnd.google.colaboratory.intrinsic+json": {
              "type": "dataframe",
              "variable_name": "dom_F",
              "summary": "{\n  \"name\": \"dom_F\",\n  \"rows\": 4,\n  \"fields\": [\n    {\n      \"column\": \"\\ub18d\\uc0b0\\ud488\",\n      \"properties\": {\n        \"dtype\": \"number\",\n        \"std\": 9.83192080250175,\n        \"min\": 4.0,\n        \"max\": 26.0,\n        \"num_unique_values\": 4,\n        \"samples\": [\n          15.0,\n          26.0,\n          4.0\n        ],\n        \"semantic_type\": \"\",\n        \"description\": \"\"\n      }\n    },\n    {\n      \"column\": \"\\uacf5\\uc0b0\\ud488\",\n      \"properties\": {\n        \"dtype\": \"number\",\n        \"std\": 367.7653237233404,\n        \"min\": 31.0,\n        \"max\": 862.0,\n        \"num_unique_values\": 4,\n        \"samples\": [\n          588.0,\n          862.0,\n          31.0\n        ],\n        \"semantic_type\": \"\",\n        \"description\": \"\"\n      }\n    },\n    {\n      \"column\": \"\\uc11c\\ube44\\uc2a4\",\n      \"properties\": {\n        \"dtype\": \"number\",\n        \"std\": 415.74030355499576,\n        \"min\": 10.0,\n        \"max\": 976.0,\n        \"num_unique_values\": 4,\n        \"samples\": [\n          322.0,\n          976.0,\n          10.0\n        ],\n        \"semantic_type\": \"\",\n        \"description\": \"\"\n      }\n    },\n    {\n      \"column\": \"\\uc911\\uac04\\uc218\\uc694\\uacc4\",\n      \"properties\": {\n        \"dtype\": \"number\",\n        \"std\": 743.1657509151868,\n        \"min\": 45.0,\n        \"max\": 1864.0,\n        \"num_unique_values\": 4,\n        \"samples\": [\n          925.0,\n          1864.0,\n          45.0\n        ],\n        \"semantic_type\": \"\",\n        \"description\": \"\"\n      }\n    },\n    {\n      \"column\": \"\\uc18c\\ube44\",\n      \"properties\": {\n        \"dtype\": \"number\",\n        \"std\": 581.1706576672065,\n        \"min\": 15.0,\n        \"max\": 1150.0,\n        \"num_unique_values\": 4,\n        \"samples\": [\n          138.0,\n          1150.0,\n          15.0\n        ],\n        \"semantic_type\": \"\",\n        \"description\": \"\"\n      }\n    },\n    {\n      \"column\": \"\\ud22c\\uc790\",\n      \"properties\": {\n        \"dtype\": \"number\",\n        \"std\": 252.8912809884912,\n        \"min\": -1.0,\n        \"max\": 530.0,\n        \"num_unique_values\": 4,\n        \"samples\": [\n          106.0,\n          530.0,\n          -1.0\n        ],\n        \"semantic_type\": \"\",\n        \"description\": \"\"\n      }\n    },\n    {\n      \"column\": \"\\uc218\\ucd9c\",\n      \"properties\": {\n        \"dtype\": \"number\",\n        \"std\": 367.5554379954132,\n        \"min\": 1.0,\n        \"max\": 755.0,\n        \"num_unique_values\": 4,\n        \"samples\": [\n          623.0,\n          755.0,\n          1.0\n        ],\n        \"semantic_type\": \"\",\n        \"description\": \"\"\n      }\n    },\n    {\n      \"column\": \"\\ucd5c\\uc885\\uc218\\uc694\\uacc4\",\n      \"properties\": {\n        \"dtype\": \"number\",\n        \"std\": 1026.9246970120707,\n        \"min\": 15.0,\n        \"max\": 2435.0,\n        \"num_unique_values\": 4,\n        \"samples\": [\n          867.0,\n          2435.0,\n          15.0\n        ],\n        \"semantic_type\": \"\",\n        \"description\": \"\"\n      }\n    },\n    {\n      \"column\": \"\\ucd1d\\uc218\\uc694\\uacc4\",\n      \"properties\": {\n        \"dtype\": \"number\",\n        \"std\": 1751.4444514933,\n        \"min\": 60.0,\n        \"max\": 4299.0,\n        \"num_unique_values\": 4,\n        \"samples\": [\n          1792.0,\n          4299.0,\n          60.0\n        ],\n        \"semantic_type\": \"\",\n        \"description\": \"\"\n      }\n    }\n  ]\n}"
            }
          },
          "metadata": {},
          "execution_count": 36
        }
      ]
    },
    {
      "cell_type": "code",
      "source": [
        "# dom_F.reset_index(inplace=True)# 인덱스 설정(부문명)\n",
        "# dom_F"
      ],
      "metadata": {
        "id": "gEb8DR088S23"
      },
      "execution_count": 37,
      "outputs": []
    },
    {
      "cell_type": "markdown",
      "source": [
        "### 수입거래표"
      ],
      "metadata": {
        "id": "Q0Qz6ySBGHEo"
      }
    },
    {
      "cell_type": "code",
      "source": [
        "\n",
        "url_Im_33 = \"https://raw.githubusercontent.com/IO-2024/IOTs_with_python/main/data/Imported_Matrix.csv\"  # 33부문의 수입거래표 불러오기\n",
        "Im_33 = pd.read_csv(url_Im_33)"
      ],
      "metadata": {
        "id": "3UEdsIwkGEVU"
      },
      "execution_count": 38,
      "outputs": []
    },
    {
      "cell_type": "code",
      "source": [
        "Imm_33 = Im_33.to_numpy()\n",
        "Imp_33 = Imm_33[0:34,1:53].astype(float)"
      ],
      "metadata": {
        "id": "G_YKIL7jGEX8"
      },
      "execution_count": 39,
      "outputs": []
    },
    {
      "cell_type": "code",
      "source": [
        "Nae_imp = (Mtx@Imp_33[0:33,0:33])@Mtx.T # 중간투입(수요)의 행을 3부문으로 만들기\n",
        "Nae_imp"
      ],
      "metadata": {
        "id": "4MqZ7GIaGEaa",
        "outputId": "b5003bde-db61-4266-f1b4-46ef8c3333c4",
        "colab": {
          "base_uri": "https://localhost:8080/"
        }
      },
      "execution_count": 40,
      "outputs": [
        {
          "output_type": "execute_result",
          "data": {
            "text/plain": [
              "array([[  0.,   7.,   1.],\n",
              "       [  1., 356.,  79.],\n",
              "       [  0.,  14.,  49.]])"
            ]
          },
          "metadata": {},
          "execution_count": 40
        }
      ]
    },
    {
      "cell_type": "code",
      "source": [
        "Ism_row = Imp_33[33:34,0:33]@Mtx.T # 중간투입계\n",
        "Ism_row\n"
      ],
      "metadata": {
        "id": "tTUpMKEiwkqm",
        "outputId": "dc1b442d-fe00-4c22-faba-30ce824edd99",
        "colab": {
          "base_uri": "https://localhost:8080/"
        }
      },
      "execution_count": 41,
      "outputs": [
        {
          "output_type": "execute_result",
          "data": {
            "text/plain": [
              "array([[  1., 377., 129.]])"
            ]
          },
          "metadata": {},
          "execution_count": 41
        }
      ]
    },
    {
      "cell_type": "code",
      "source": [
        "Ifd = Imp_33[0:33, 34:45] #수입최종수요\n",
        "Ifd"
      ],
      "metadata": {
        "id": "7tf90qjqGEqR",
        "outputId": "57b53c6d-5f90-4bc7-a75d-45cc1e019a95",
        "colab": {
          "base_uri": "https://localhost:8080/"
        }
      },
      "execution_count": 42,
      "outputs": [
        {
          "output_type": "execute_result",
          "data": {
            "text/plain": [
              "array([[  3.,   0.,   0.,   0.,   1.,   0.,   0.,   4.,  12.],\n",
              "       [  0.,   0.,   0.,   0.,   2.,   0.,   0.,   2., 146.],\n",
              "       [ 15.,   0.,   0.,   0.,   0.,   0.,   0.,  15.,  33.],\n",
              "       [ 19.,   0.,   0.,   0.,   0.,   0.,   1.,  20.,  31.],\n",
              "       [  0.,   0.,   0.,   0.,   0.,   0.,   0.,   0.,   6.],\n",
              "       [  1.,   0.,   0.,   0.,   0.,   0.,   0.,   1.,  29.],\n",
              "       [  8.,   0.,   0.,   0.,   1.,   0.,   3.,  12.,  76.],\n",
              "       [  0.,   0.,   0.,   0.,   0.,   0.,   0.,   0.,   5.],\n",
              "       [  0.,   0.,   0.,   0.,   0.,   0.,   0.,   0.,  40.],\n",
              "       [  1.,   0.,   0.,   1.,   0.,   0.,   0.,   2.,   7.],\n",
              "       [ 12.,   0.,  16.,   3.,   1.,   0.,   1.,  33.,  98.],\n",
              "       [  3.,   0.,   2.,   0.,   0.,   0.,   0.,   5.,  20.],\n",
              "       [  1.,   0.,  20.,   0.,   0.,   0.,   0.,  21.,  37.],\n",
              "       [  9.,   0.,  10.,   3.,   0.,   0.,   0.,  22.,  30.],\n",
              "       [  6.,   0.,   1.,   0.,   0.,   1.,   0.,   8.,   9.],\n",
              "       [  0.,   0.,   0.,   0.,   0.,   0.,   0.,   0.,  10.],\n",
              "       [  0.,   0.,   0.,   0.,   0.,   0.,   0.,   0.,   0.],\n",
              "       [  0.,   0.,   0.,   0.,   0.,   0.,   0.,   0.,   0.],\n",
              "       [  0.,   0.,   0.,   0.,   0.,   0.,   0.,   0.,   0.],\n",
              "       [  0.,   0.,   0.,   0.,   0.,   0.,   0.,   0.,   3.],\n",
              "       [  9.,   0.,   0.,   0.,   0.,   0.,   0.,   9.,  23.],\n",
              "       [ 17.,   0.,   0.,   0.,   0.,   0.,   0.,  17.,  18.],\n",
              "       [  1.,   0.,   1.,   0.,   0.,   0.,   0.,   2.,   8.],\n",
              "       [  1.,   0.,   0.,   0.,   0.,   0.,   0.,   1.,   4.],\n",
              "       [  0.,   0.,   0.,   0.,   0.,   0.,   0.,   0.,   1.],\n",
              "       [  0.,   0.,   6.,   0.,   0.,   0.,   0.,   6.,  24.],\n",
              "       [  0.,   0.,   0.,   0.,   0.,   0.,   0.,   0.,  16.],\n",
              "       [  0.,   0.,   0.,   0.,   0.,   0.,   0.,   0.,   1.],\n",
              "       [  2.,   0.,   0.,   0.,   0.,   0.,   0.,   2.,   2.],\n",
              "       [  0.,   0.,   0.,   0.,   0.,   0.,   0.,   0.,   0.],\n",
              "       [  5.,   0.,   0.,   0.,   0.,   0.,   0.,   5.,   5.],\n",
              "       [  0.,   0.,   0.,   0.,   0.,   0.,   0.,   0.,   0.],\n",
              "       [  0.,   0.,   0.,   0.,   0.,   0.,   0.,   0.,   0.]])"
            ]
          },
          "metadata": {},
          "execution_count": 42
        }
      ]
    },
    {
      "cell_type": "code",
      "source": [
        "Ifd_row = Mtx@Ifd@Fd_cd.T"
      ],
      "metadata": {
        "id": "pO9lCldYGEsf"
      },
      "execution_count": 43,
      "outputs": []
    },
    {
      "cell_type": "code",
      "source": [
        "Ifd_row_sm = np.sum((Ifd_row), axis=0) # 최종수요의 행합"
      ],
      "metadata": {
        "id": "Z-RubqPPGEuj"
      },
      "execution_count": 44,
      "outputs": []
    },
    {
      "cell_type": "code",
      "source": [
        "Ifd_sm=Ifd_row_sm.reshape(1,5)\n",
        "Ifd_sm"
      ],
      "metadata": {
        "id": "zo1I5vkGGEwz",
        "outputId": "467d97e6-d803-4f4d-91b8-2f6872daa568",
        "colab": {
          "base_uri": "https://localhost:8080/"
        }
      },
      "execution_count": 45,
      "outputs": [
        {
          "output_type": "execute_result",
          "data": {
            "text/plain": [
              "array([[113.,  69.,   5., 187., 694.]])"
            ]
          },
          "metadata": {},
          "execution_count": 45
        }
      ]
    },
    {
      "cell_type": "code",
      "source": [
        "Nae_im = np.concatenate((Nae_imp, Ism_row)) # 중간투입과 중간투입계 합치기\n",
        "Nae_im"
      ],
      "metadata": {
        "id": "J4-ZGF9lGEzW",
        "outputId": "1384ac10-19cb-4bd9-9f4c-66984e73fc98",
        "colab": {
          "base_uri": "https://localhost:8080/"
        }
      },
      "execution_count": 46,
      "outputs": [
        {
          "output_type": "execute_result",
          "data": {
            "text/plain": [
              "array([[  0.,   7.,   1.],\n",
              "       [  1., 356.,  79.],\n",
              "       [  0.,  14.,  49.],\n",
              "       [  1., 377., 129.]])"
            ]
          },
          "metadata": {},
          "execution_count": 46
        }
      ]
    },
    {
      "cell_type": "code",
      "source": [
        "Nae_col_sm_imp = Nae_im.sum(axis=1).reshape(4,1)  # 중간투입(수요)과 행합"
      ],
      "metadata": {
        "id": "oRx1OZxoGE1v"
      },
      "execution_count": 47,
      "outputs": []
    },
    {
      "cell_type": "code",
      "source": [
        "Nae_im_sm = Nae_col_sm_imp.sum(axis=1).reshape(4,1)  # 중간수요와 중간수요계 합치기"
      ],
      "metadata": {
        "id": "6X3AeIxCGE30"
      },
      "execution_count": 48,
      "outputs": []
    },
    {
      "cell_type": "code",
      "source": [
        "Ifd_nnull = np.concatenate((Ifd_row, Ifd_sm),axis=0)  # 최종수요 및 최종수요계 합치기"
      ],
      "metadata": {
        "id": "zm_zFqZXGE6B"
      },
      "execution_count": 49,
      "outputs": []
    },
    {
      "cell_type": "code",
      "source": [
        "Imp_f = np.concatenate((Nae_im, Nae_im_sm, Ifd_nnull), axis=1)  # 최종 3x3 부문통합된 거래표\n",
        "print('3부문 수입거래표', '\\n', Imp_f)"
      ],
      "metadata": {
        "id": "7rwJrwZ2GE8U",
        "outputId": "d09e571d-be1c-4a61-dd97-91500e88400d",
        "colab": {
          "base_uri": "https://localhost:8080/"
        }
      },
      "execution_count": 50,
      "outputs": [
        {
          "output_type": "stream",
          "name": "stdout",
          "text": [
            "3부문 수입거래표 \n",
            " [[  0.   7.   1.   8.   3.   1.   0.   4.  12.]\n",
            " [  1. 356.  79. 436.  75.  61.   5. 141. 577.]\n",
            " [  0.  14.  49.  63.  35.   7.   0.  42. 105.]\n",
            " [  1. 377. 129. 507. 113.  69.   5. 187. 694.]]\n"
          ]
        }
      ]
    },
    {
      "cell_type": "code",
      "source": [
        "Imp_f = pd.DataFrame(Imp_f, columns = ['농산품', '공산품', '서비스', '중간수요계', '소비','투자', '수출', '최종수요계', '총수요계'],\n",
        "                     index=['농산품', '공산품', '서비스', '중간투입계']) # 변수명 붙여서 pandas로 내보내기\n",
        "Imp_f"
      ],
      "metadata": {
        "id": "_5jtRSGjGE-T",
        "outputId": "85984696-b15b-4add-fdb4-5c4ff880c819",
        "colab": {
          "base_uri": "https://localhost:8080/",
          "height": 175
        }
      },
      "execution_count": 51,
      "outputs": [
        {
          "output_type": "execute_result",
          "data": {
            "text/plain": [
              "       농산품    공산품    서비스  중간수요계     소비    투자   수출  최종수요계   총수요계\n",
              "농산품    0.0    7.0    1.0    8.0    3.0   1.0  0.0    4.0   12.0\n",
              "공산품    1.0  356.0   79.0  436.0   75.0  61.0  5.0  141.0  577.0\n",
              "서비스    0.0   14.0   49.0   63.0   35.0   7.0  0.0   42.0  105.0\n",
              "중간투입계  1.0  377.0  129.0  507.0  113.0  69.0  5.0  187.0  694.0"
            ],
            "text/html": [
              "\n",
              "  <div id=\"df-d3d277c1-042f-48c8-af1a-a12a34f0374c\" class=\"colab-df-container\">\n",
              "    <div>\n",
              "<style scoped>\n",
              "    .dataframe tbody tr th:only-of-type {\n",
              "        vertical-align: middle;\n",
              "    }\n",
              "\n",
              "    .dataframe tbody tr th {\n",
              "        vertical-align: top;\n",
              "    }\n",
              "\n",
              "    .dataframe thead th {\n",
              "        text-align: right;\n",
              "    }\n",
              "</style>\n",
              "<table border=\"1\" class=\"dataframe\">\n",
              "  <thead>\n",
              "    <tr style=\"text-align: right;\">\n",
              "      <th></th>\n",
              "      <th>농산품</th>\n",
              "      <th>공산품</th>\n",
              "      <th>서비스</th>\n",
              "      <th>중간수요계</th>\n",
              "      <th>소비</th>\n",
              "      <th>투자</th>\n",
              "      <th>수출</th>\n",
              "      <th>최종수요계</th>\n",
              "      <th>총수요계</th>\n",
              "    </tr>\n",
              "  </thead>\n",
              "  <tbody>\n",
              "    <tr>\n",
              "      <th>농산품</th>\n",
              "      <td>0.0</td>\n",
              "      <td>7.0</td>\n",
              "      <td>1.0</td>\n",
              "      <td>8.0</td>\n",
              "      <td>3.0</td>\n",
              "      <td>1.0</td>\n",
              "      <td>0.0</td>\n",
              "      <td>4.0</td>\n",
              "      <td>12.0</td>\n",
              "    </tr>\n",
              "    <tr>\n",
              "      <th>공산품</th>\n",
              "      <td>1.0</td>\n",
              "      <td>356.0</td>\n",
              "      <td>79.0</td>\n",
              "      <td>436.0</td>\n",
              "      <td>75.0</td>\n",
              "      <td>61.0</td>\n",
              "      <td>5.0</td>\n",
              "      <td>141.0</td>\n",
              "      <td>577.0</td>\n",
              "    </tr>\n",
              "    <tr>\n",
              "      <th>서비스</th>\n",
              "      <td>0.0</td>\n",
              "      <td>14.0</td>\n",
              "      <td>49.0</td>\n",
              "      <td>63.0</td>\n",
              "      <td>35.0</td>\n",
              "      <td>7.0</td>\n",
              "      <td>0.0</td>\n",
              "      <td>42.0</td>\n",
              "      <td>105.0</td>\n",
              "    </tr>\n",
              "    <tr>\n",
              "      <th>중간투입계</th>\n",
              "      <td>1.0</td>\n",
              "      <td>377.0</td>\n",
              "      <td>129.0</td>\n",
              "      <td>507.0</td>\n",
              "      <td>113.0</td>\n",
              "      <td>69.0</td>\n",
              "      <td>5.0</td>\n",
              "      <td>187.0</td>\n",
              "      <td>694.0</td>\n",
              "    </tr>\n",
              "  </tbody>\n",
              "</table>\n",
              "</div>\n",
              "    <div class=\"colab-df-buttons\">\n",
              "\n",
              "  <div class=\"colab-df-container\">\n",
              "    <button class=\"colab-df-convert\" onclick=\"convertToInteractive('df-d3d277c1-042f-48c8-af1a-a12a34f0374c')\"\n",
              "            title=\"Convert this dataframe to an interactive table.\"\n",
              "            style=\"display:none;\">\n",
              "\n",
              "  <svg xmlns=\"http://www.w3.org/2000/svg\" height=\"24px\" viewBox=\"0 -960 960 960\">\n",
              "    <path d=\"M120-120v-720h720v720H120Zm60-500h600v-160H180v160Zm220 220h160v-160H400v160Zm0 220h160v-160H400v160ZM180-400h160v-160H180v160Zm440 0h160v-160H620v160ZM180-180h160v-160H180v160Zm440 0h160v-160H620v160Z\"/>\n",
              "  </svg>\n",
              "    </button>\n",
              "\n",
              "  <style>\n",
              "    .colab-df-container {\n",
              "      display:flex;\n",
              "      gap: 12px;\n",
              "    }\n",
              "\n",
              "    .colab-df-convert {\n",
              "      background-color: #E8F0FE;\n",
              "      border: none;\n",
              "      border-radius: 50%;\n",
              "      cursor: pointer;\n",
              "      display: none;\n",
              "      fill: #1967D2;\n",
              "      height: 32px;\n",
              "      padding: 0 0 0 0;\n",
              "      width: 32px;\n",
              "    }\n",
              "\n",
              "    .colab-df-convert:hover {\n",
              "      background-color: #E2EBFA;\n",
              "      box-shadow: 0px 1px 2px rgba(60, 64, 67, 0.3), 0px 1px 3px 1px rgba(60, 64, 67, 0.15);\n",
              "      fill: #174EA6;\n",
              "    }\n",
              "\n",
              "    .colab-df-buttons div {\n",
              "      margin-bottom: 4px;\n",
              "    }\n",
              "\n",
              "    [theme=dark] .colab-df-convert {\n",
              "      background-color: #3B4455;\n",
              "      fill: #D2E3FC;\n",
              "    }\n",
              "\n",
              "    [theme=dark] .colab-df-convert:hover {\n",
              "      background-color: #434B5C;\n",
              "      box-shadow: 0px 1px 3px 1px rgba(0, 0, 0, 0.15);\n",
              "      filter: drop-shadow(0px 1px 2px rgba(0, 0, 0, 0.3));\n",
              "      fill: #FFFFFF;\n",
              "    }\n",
              "  </style>\n",
              "\n",
              "    <script>\n",
              "      const buttonEl =\n",
              "        document.querySelector('#df-d3d277c1-042f-48c8-af1a-a12a34f0374c button.colab-df-convert');\n",
              "      buttonEl.style.display =\n",
              "        google.colab.kernel.accessAllowed ? 'block' : 'none';\n",
              "\n",
              "      async function convertToInteractive(key) {\n",
              "        const element = document.querySelector('#df-d3d277c1-042f-48c8-af1a-a12a34f0374c');\n",
              "        const dataTable =\n",
              "          await google.colab.kernel.invokeFunction('convertToInteractive',\n",
              "                                                    [key], {});\n",
              "        if (!dataTable) return;\n",
              "\n",
              "        const docLinkHtml = 'Like what you see? Visit the ' +\n",
              "          '<a target=\"_blank\" href=https://colab.research.google.com/notebooks/data_table.ipynb>data table notebook</a>'\n",
              "          + ' to learn more about interactive tables.';\n",
              "        element.innerHTML = '';\n",
              "        dataTable['output_type'] = 'display_data';\n",
              "        await google.colab.output.renderOutput(dataTable, element);\n",
              "        const docLink = document.createElement('div');\n",
              "        docLink.innerHTML = docLinkHtml;\n",
              "        element.appendChild(docLink);\n",
              "      }\n",
              "    </script>\n",
              "  </div>\n",
              "\n",
              "\n",
              "<div id=\"df-214870e2-a6d2-48be-837f-ec9b65c9a35d\">\n",
              "  <button class=\"colab-df-quickchart\" onclick=\"quickchart('df-214870e2-a6d2-48be-837f-ec9b65c9a35d')\"\n",
              "            title=\"Suggest charts\"\n",
              "            style=\"display:none;\">\n",
              "\n",
              "<svg xmlns=\"http://www.w3.org/2000/svg\" height=\"24px\"viewBox=\"0 0 24 24\"\n",
              "     width=\"24px\">\n",
              "    <g>\n",
              "        <path d=\"M19 3H5c-1.1 0-2 .9-2 2v14c0 1.1.9 2 2 2h14c1.1 0 2-.9 2-2V5c0-1.1-.9-2-2-2zM9 17H7v-7h2v7zm4 0h-2V7h2v10zm4 0h-2v-4h2v4z\"/>\n",
              "    </g>\n",
              "</svg>\n",
              "  </button>\n",
              "\n",
              "<style>\n",
              "  .colab-df-quickchart {\n",
              "      --bg-color: #E8F0FE;\n",
              "      --fill-color: #1967D2;\n",
              "      --hover-bg-color: #E2EBFA;\n",
              "      --hover-fill-color: #174EA6;\n",
              "      --disabled-fill-color: #AAA;\n",
              "      --disabled-bg-color: #DDD;\n",
              "  }\n",
              "\n",
              "  [theme=dark] .colab-df-quickchart {\n",
              "      --bg-color: #3B4455;\n",
              "      --fill-color: #D2E3FC;\n",
              "      --hover-bg-color: #434B5C;\n",
              "      --hover-fill-color: #FFFFFF;\n",
              "      --disabled-bg-color: #3B4455;\n",
              "      --disabled-fill-color: #666;\n",
              "  }\n",
              "\n",
              "  .colab-df-quickchart {\n",
              "    background-color: var(--bg-color);\n",
              "    border: none;\n",
              "    border-radius: 50%;\n",
              "    cursor: pointer;\n",
              "    display: none;\n",
              "    fill: var(--fill-color);\n",
              "    height: 32px;\n",
              "    padding: 0;\n",
              "    width: 32px;\n",
              "  }\n",
              "\n",
              "  .colab-df-quickchart:hover {\n",
              "    background-color: var(--hover-bg-color);\n",
              "    box-shadow: 0 1px 2px rgba(60, 64, 67, 0.3), 0 1px 3px 1px rgba(60, 64, 67, 0.15);\n",
              "    fill: var(--button-hover-fill-color);\n",
              "  }\n",
              "\n",
              "  .colab-df-quickchart-complete:disabled,\n",
              "  .colab-df-quickchart-complete:disabled:hover {\n",
              "    background-color: var(--disabled-bg-color);\n",
              "    fill: var(--disabled-fill-color);\n",
              "    box-shadow: none;\n",
              "  }\n",
              "\n",
              "  .colab-df-spinner {\n",
              "    border: 2px solid var(--fill-color);\n",
              "    border-color: transparent;\n",
              "    border-bottom-color: var(--fill-color);\n",
              "    animation:\n",
              "      spin 1s steps(1) infinite;\n",
              "  }\n",
              "\n",
              "  @keyframes spin {\n",
              "    0% {\n",
              "      border-color: transparent;\n",
              "      border-bottom-color: var(--fill-color);\n",
              "      border-left-color: var(--fill-color);\n",
              "    }\n",
              "    20% {\n",
              "      border-color: transparent;\n",
              "      border-left-color: var(--fill-color);\n",
              "      border-top-color: var(--fill-color);\n",
              "    }\n",
              "    30% {\n",
              "      border-color: transparent;\n",
              "      border-left-color: var(--fill-color);\n",
              "      border-top-color: var(--fill-color);\n",
              "      border-right-color: var(--fill-color);\n",
              "    }\n",
              "    40% {\n",
              "      border-color: transparent;\n",
              "      border-right-color: var(--fill-color);\n",
              "      border-top-color: var(--fill-color);\n",
              "    }\n",
              "    60% {\n",
              "      border-color: transparent;\n",
              "      border-right-color: var(--fill-color);\n",
              "    }\n",
              "    80% {\n",
              "      border-color: transparent;\n",
              "      border-right-color: var(--fill-color);\n",
              "      border-bottom-color: var(--fill-color);\n",
              "    }\n",
              "    90% {\n",
              "      border-color: transparent;\n",
              "      border-bottom-color: var(--fill-color);\n",
              "    }\n",
              "  }\n",
              "</style>\n",
              "\n",
              "  <script>\n",
              "    async function quickchart(key) {\n",
              "      const quickchartButtonEl =\n",
              "        document.querySelector('#' + key + ' button');\n",
              "      quickchartButtonEl.disabled = true;  // To prevent multiple clicks.\n",
              "      quickchartButtonEl.classList.add('colab-df-spinner');\n",
              "      try {\n",
              "        const charts = await google.colab.kernel.invokeFunction(\n",
              "            'suggestCharts', [key], {});\n",
              "      } catch (error) {\n",
              "        console.error('Error during call to suggestCharts:', error);\n",
              "      }\n",
              "      quickchartButtonEl.classList.remove('colab-df-spinner');\n",
              "      quickchartButtonEl.classList.add('colab-df-quickchart-complete');\n",
              "    }\n",
              "    (() => {\n",
              "      let quickchartButtonEl =\n",
              "        document.querySelector('#df-214870e2-a6d2-48be-837f-ec9b65c9a35d button');\n",
              "      quickchartButtonEl.style.display =\n",
              "        google.colab.kernel.accessAllowed ? 'block' : 'none';\n",
              "    })();\n",
              "  </script>\n",
              "</div>\n",
              "\n",
              "  <div id=\"id_d07d6b95-a659-443a-b2b8-d2810dbbc616\">\n",
              "    <style>\n",
              "      .colab-df-generate {\n",
              "        background-color: #E8F0FE;\n",
              "        border: none;\n",
              "        border-radius: 50%;\n",
              "        cursor: pointer;\n",
              "        display: none;\n",
              "        fill: #1967D2;\n",
              "        height: 32px;\n",
              "        padding: 0 0 0 0;\n",
              "        width: 32px;\n",
              "      }\n",
              "\n",
              "      .colab-df-generate:hover {\n",
              "        background-color: #E2EBFA;\n",
              "        box-shadow: 0px 1px 2px rgba(60, 64, 67, 0.3), 0px 1px 3px 1px rgba(60, 64, 67, 0.15);\n",
              "        fill: #174EA6;\n",
              "      }\n",
              "\n",
              "      [theme=dark] .colab-df-generate {\n",
              "        background-color: #3B4455;\n",
              "        fill: #D2E3FC;\n",
              "      }\n",
              "\n",
              "      [theme=dark] .colab-df-generate:hover {\n",
              "        background-color: #434B5C;\n",
              "        box-shadow: 0px 1px 3px 1px rgba(0, 0, 0, 0.15);\n",
              "        filter: drop-shadow(0px 1px 2px rgba(0, 0, 0, 0.3));\n",
              "        fill: #FFFFFF;\n",
              "      }\n",
              "    </style>\n",
              "    <button class=\"colab-df-generate\" onclick=\"generateWithVariable('Imp_f')\"\n",
              "            title=\"Generate code using this dataframe.\"\n",
              "            style=\"display:none;\">\n",
              "\n",
              "  <svg xmlns=\"http://www.w3.org/2000/svg\" height=\"24px\"viewBox=\"0 0 24 24\"\n",
              "       width=\"24px\">\n",
              "    <path d=\"M7,19H8.4L18.45,9,17,7.55,7,17.6ZM5,21V16.75L18.45,3.32a2,2,0,0,1,2.83,0l1.4,1.43a1.91,1.91,0,0,1,.58,1.4,1.91,1.91,0,0,1-.58,1.4L9.25,21ZM18.45,9,17,7.55Zm-12,3A5.31,5.31,0,0,0,4.9,8.1,5.31,5.31,0,0,0,1,6.5,5.31,5.31,0,0,0,4.9,4.9,5.31,5.31,0,0,0,6.5,1,5.31,5.31,0,0,0,8.1,4.9,5.31,5.31,0,0,0,12,6.5,5.46,5.46,0,0,0,6.5,12Z\"/>\n",
              "  </svg>\n",
              "    </button>\n",
              "    <script>\n",
              "      (() => {\n",
              "      const buttonEl =\n",
              "        document.querySelector('#id_d07d6b95-a659-443a-b2b8-d2810dbbc616 button.colab-df-generate');\n",
              "      buttonEl.style.display =\n",
              "        google.colab.kernel.accessAllowed ? 'block' : 'none';\n",
              "\n",
              "      buttonEl.onclick = () => {\n",
              "        google.colab.notebook.generateWithVariable('Imp_f');\n",
              "      }\n",
              "      })();\n",
              "    </script>\n",
              "  </div>\n",
              "\n",
              "    </div>\n",
              "  </div>\n"
            ],
            "application/vnd.google.colaboratory.intrinsic+json": {
              "type": "dataframe",
              "variable_name": "Imp_f",
              "summary": "{\n  \"name\": \"Imp_f\",\n  \"rows\": 4,\n  \"fields\": [\n    {\n      \"column\": \"\\ub18d\\uc0b0\\ud488\",\n      \"properties\": {\n        \"dtype\": \"number\",\n        \"std\": 0.5773502691896257,\n        \"min\": 0.0,\n        \"max\": 1.0,\n        \"num_unique_values\": 2,\n        \"samples\": [\n          1.0,\n          0.0\n        ],\n        \"semantic_type\": \"\",\n        \"description\": \"\"\n      }\n    },\n    {\n      \"column\": \"\\uacf5\\uc0b0\\ud488\",\n      \"properties\": {\n        \"dtype\": \"number\",\n        \"std\": 205.73526678719912,\n        \"min\": 7.0,\n        \"max\": 377.0,\n        \"num_unique_values\": 4,\n        \"samples\": [\n          356.0,\n          377.0\n        ],\n        \"semantic_type\": \"\",\n        \"description\": \"\"\n      }\n    },\n    {\n      \"column\": \"\\uc11c\\ube44\\uc2a4\",\n      \"properties\": {\n        \"dtype\": \"number\",\n        \"std\": 53.67494760127857,\n        \"min\": 1.0,\n        \"max\": 129.0,\n        \"num_unique_values\": 4,\n        \"samples\": [\n          79.0,\n          129.0\n        ],\n        \"semantic_type\": \"\",\n        \"description\": \"\"\n      }\n    },\n    {\n      \"column\": \"\\uc911\\uac04\\uc218\\uc694\\uacc4\",\n      \"properties\": {\n        \"dtype\": \"number\",\n        \"std\": 254.3809479239093,\n        \"min\": 8.0,\n        \"max\": 507.0,\n        \"num_unique_values\": 4,\n        \"samples\": [\n          436.0,\n          507.0\n        ],\n        \"semantic_type\": \"\",\n        \"description\": \"\"\n      }\n    },\n    {\n      \"column\": \"\\uc18c\\ube44\",\n      \"properties\": {\n        \"dtype\": \"number\",\n        \"std\": 47.81561809004808,\n        \"min\": 3.0,\n        \"max\": 113.0,\n        \"num_unique_values\": 4,\n        \"samples\": [\n          75.0,\n          113.0\n        ],\n        \"semantic_type\": \"\",\n        \"description\": \"\"\n      }\n    },\n    {\n      \"column\": \"\\ud22c\\uc790\",\n      \"properties\": {\n        \"dtype\": \"number\",\n        \"std\": 35.45419580247167,\n        \"min\": 1.0,\n        \"max\": 69.0,\n        \"num_unique_values\": 4,\n        \"samples\": [\n          61.0,\n          69.0\n        ],\n        \"semantic_type\": \"\",\n        \"description\": \"\"\n      }\n    },\n    {\n      \"column\": \"\\uc218\\ucd9c\",\n      \"properties\": {\n        \"dtype\": \"number\",\n        \"std\": 2.886751345948129,\n        \"min\": 0.0,\n        \"max\": 5.0,\n        \"num_unique_values\": 2,\n        \"samples\": [\n          5.0,\n          0.0\n        ],\n        \"semantic_type\": \"\",\n        \"description\": \"\"\n      }\n    },\n    {\n      \"column\": \"\\ucd5c\\uc885\\uc218\\uc694\\uacc4\",\n      \"properties\": {\n        \"dtype\": \"number\",\n        \"std\": 84.97254458549145,\n        \"min\": 4.0,\n        \"max\": 187.0,\n        \"num_unique_values\": 4,\n        \"samples\": [\n          141.0,\n          187.0\n        ],\n        \"semantic_type\": \"\",\n        \"description\": \"\"\n      }\n    },\n    {\n      \"column\": \"\\ucd1d\\uc218\\uc694\\uacc4\",\n      \"properties\": {\n        \"dtype\": \"number\",\n        \"std\": 338.67290020509955,\n        \"min\": 12.0,\n        \"max\": 694.0,\n        \"num_unique_values\": 4,\n        \"samples\": [\n          577.0,\n          694.0\n        ],\n        \"semantic_type\": \"\",\n        \"description\": \"\"\n      }\n    }\n  ]\n}"
            }
          },
          "metadata": {},
          "execution_count": 51
        }
      ]
    }
  ]
}