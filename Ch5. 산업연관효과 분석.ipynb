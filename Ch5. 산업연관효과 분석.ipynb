{
  "nbformat": 4,
  "nbformat_minor": 0,
  "metadata": {
    "colab": {
      "provenance": [],
      "include_colab_link": true
    },
    "kernelspec": {
      "name": "python3",
      "display_name": "Python 3"
    },
    "language_info": {
      "name": "python"
    }
  },
  "cells": [
    {
      "cell_type": "markdown",
      "metadata": {
        "id": "view-in-github",
        "colab_type": "text"
      },
      "source": [
        "<a href=\"https://colab.research.google.com/github/Muraka64/IOTs_with_python/blob/main/Ch5.%20%EC%82%B0%EC%97%85%EC%97%B0%EA%B4%80%ED%9A%A8%EA%B3%BC%20%EB%B6%84%EC%84%9D.ipynb\" target=\"_parent\"><img src=\"https://colab.research.google.com/assets/colab-badge.svg\" alt=\"Open In Colab\"/></a>"
      ]
    },
    {
      "cell_type": "code",
      "source": [
        "import numpy as np   # Numpy import\n",
        "import pandas as pd  # Pandas import"
      ],
      "metadata": {
        "id": "TR7JvW8CxBFT"
      },
      "execution_count": 1,
      "outputs": []
    },
    {
      "cell_type": "markdown",
      "source": [
        "3부문 총, 국산, 수입거래표 및 고용표 불러오기"
      ],
      "metadata": {
        "id": "joFt2eQ514T6"
      }
    },
    {
      "cell_type": "code",
      "source": [
        "url_Tt_3 = \"https://raw.githubusercontent.com/Muraka64/IOTs_with_python/main/data/Total_matrix_3sectors.csv\"  # 3부문의 총거래표 불러오기\n",
        "Tt_3 = pd.read_csv(url_Tt_3)\n",
        "\n",
        "url_Dt_3 = \"https://raw.githubusercontent.com/Muraka64/IOTs_with_python/main/data/Domestic_matrix_3sectors.csv\"  # 3부문의 국산거래표 불러오기\n",
        "Dt_3 = pd.read_csv(url_Dt_3)\n",
        "\n",
        "url_It_3 = \"https://raw.githubusercontent.com/Muraka64/IOTs_with_python/main/data/Imported_matrix_3sectors.csv\"  # 3부문의 수입거래표 불러오기\n",
        "It_3 = pd.read_csv(url_It_3)\n",
        "\n",
        "url_emp_3 = \"https://raw.githubusercontent.com/Muraka64/IOTs_with_python/main/data/Emp_3_secs.csv\"  # 3부문의 고용표 불러오기\n",
        "Emp_3 = pd.read_csv(url_emp_3)"
      ],
      "metadata": {
        "id": "6GuMjUk213iK"
      },
      "execution_count": 2,
      "outputs": []
    },
    {
      "cell_type": "code",
      "source": [
        "Tt = Tt_3.to_numpy()  # numpy로 불러오기\n",
        "Dt = Dt_3.to_numpy()\n",
        "It = It_3.to_numpy()\n",
        "Em = Emp_3.to_numpy()"
      ],
      "metadata": {
        "id": "pXrwfo8u86pr"
      },
      "execution_count": 3,
      "outputs": []
    },
    {
      "cell_type": "code",
      "source": [
        "Tt_1 = Tt[0:6,1:13].astype(float)\n",
        "Dm_1 = Dt[0:4,1:10].astype(float)\n",
        "Im_1 = It[0:4,1:10].astype(float)\n",
        "Ep_1 = Em[:,1:3]"
      ],
      "metadata": {
        "id": "q4Q2rSR1QiUI"
      },
      "execution_count": 4,
      "outputs": []
    },
    {
      "cell_type": "code",
      "source": [
        "Ct = Tt_1[-1,0:3]  # 산출액\n",
        "Va = Tt_1[-2,0:3]  # 부가가치"
      ],
      "metadata": {
        "id": "sLoitK1lQigz"
      },
      "execution_count": 5,
      "outputs": []
    },
    {
      "cell_type": "code",
      "source": [
        "Ct_m = np.tile(Ct, reps=[3,1]) # 산출액을 3번 행반복"
      ],
      "metadata": {
        "id": "s0wcbJY1Qipl"
      },
      "execution_count": 6,
      "outputs": []
    },
    {
      "cell_type": "code",
      "source": [
        "At = (Tt_1[0:3,0:3]/Ct_m).round(3)   # 총투입계수\n",
        "Ad = (Dm_1[0:3,0:3]/Ct_m).round(3)   # 국산 투입계수\n",
        "Ai = (Im_1[0:3,0:3]/Ct_m).round(3)   # 수입 투입계수\n",
        "Av = (Va/Ct).round(3).reshape([1,3])              # 부가가치율\n",
        "\n",
        "print('총투입계수표 : \\n', At,'\\n')\n",
        "print('국산투입계수표 : \\n', Ad,'\\n')\n",
        "print('수입투입계수표 : \\n', Ai,'\\n')\n",
        "print('부가가치율 : \\n', Av)\n",
        "\n",
        "df_At = pd.DataFrame(At, columns = ['농산품', '공산품', '서비스'], index=['농산품', '공산품', '서비스'])  #pandas로 내보내기\n",
        "df_Ad = pd.DataFrame(Ad, columns = ['농산품', '공산품', '서비스'], index=['농산품', '공산품', '서비스'])  #pandas로 내보내기\n",
        "df_Ai = pd.DataFrame(Ai, columns = ['농산품', '공산품', '서비스'], index=['농산품', '공산품', '서비스'])  #pandas로 내보내기\n",
        "df_Av = pd.DataFrame(Av, columns = ['농산품', '공산품', '서비스'], index=['부가가치율'])                  #pandas로 내보내기"
      ],
      "metadata": {
        "colab": {
          "base_uri": "https://localhost:8080/"
        },
        "id": "5uLIE7vfQiwM",
        "outputId": "9be0d3a2-7157-4268-efd6-574694800237"
      },
      "execution_count": 7,
      "outputs": [
        {
          "output_type": "stream",
          "name": "stdout",
          "text": [
            "총투입계수표 : \n",
            " [[0.067 0.021 0.004]\n",
            " [0.267 0.527 0.164]\n",
            " [0.117 0.143 0.283]] \n",
            "\n",
            "국산투입계수표 : \n",
            " [[0.067 0.017 0.004]\n",
            " [0.25  0.328 0.132]\n",
            " [0.117 0.136 0.263]] \n",
            "\n",
            "수입투입계수표 : \n",
            " [[0.    0.004 0.   ]\n",
            " [0.017 0.199 0.032]\n",
            " [0.    0.008 0.02 ]] \n",
            "\n",
            "부가가치율 : \n",
            " [[0.55  0.309 0.548]]\n"
          ]
        }
      ]
    },
    {
      "cell_type": "markdown",
      "source": [
        "##### 생산유발계수(Lf)"
      ],
      "metadata": {
        "id": "V0nnZSeHUPn8"
      }
    },
    {
      "cell_type": "code",
      "source": [
        "Lf = np.linalg.inv(np.identity(3)-Ad)  # 생산유발계수\n",
        "\n",
        "Lf_rw_sm = Lf.sum(axis=0)  # 생산유발계수 행합\n",
        "Lf_cl_sm = Lf.sum(axis=1)  # 생산유발계수 열합\n",
        "\n",
        "Lf_bwd = (Lf.sum(axis=0)/Lf_rw_sm.mean()).astype(float).reshape([1,3])  #영향력 계수\n",
        "Lf_fwd = (Lf.sum(axis=1)/Lf_cl_sm.mean()).astype(float).reshape([1,3])  #감응도 계수\n",
        "\n",
        "print('생산유발계수 : \\n', Lf.round(3),'\\n')\n",
        "\n",
        "print('생산유발계수 행합 : \\n', Lf_rw_sm.round(3),'\\n')\n",
        "print('생산유발계수 열합 : \\n', Lf_cl_sm.round(3),'\\n')\n",
        "\n",
        "print('품목별 영향력계수 : \\n', Lf_bwd.round(3),'\\n')\n",
        "print('품목별 감음도계수: \\n', Lf_fwd.round(3),'\\n')"
      ],
      "metadata": {
        "colab": {
          "base_uri": "https://localhost:8080/"
        },
        "id": "SF7hebVoQi2M",
        "outputId": "c6a58c3e-2cc5-4207-f22b-352335ca0d8b"
      },
      "execution_count": 8,
      "outputs": [
        {
          "output_type": "stream",
          "name": "stdout",
          "text": [
            "생산유발계수 : \n",
            " [[1.081 0.03  0.011]\n",
            " [0.452 1.556 0.281]\n",
            " [0.255 0.292 1.411]] \n",
            "\n",
            "생산유발계수 행합 : \n",
            " [1.789 1.878 1.703] \n",
            "\n",
            "생산유발계수 열합 : \n",
            " [1.122 2.29  1.958] \n",
            "\n",
            "품목별 영향력계수 : \n",
            " [[0.999 1.049 0.951]] \n",
            "\n",
            "품목별 감음도계수: \n",
            " [[0.627 1.279 1.094]] \n",
            "\n"
          ]
        }
      ]
    },
    {
      "cell_type": "code",
      "source": [
        "df_Lf = pd.DataFrame(Lf.round(3),columns = ['농산품', '공산품', '서비스'], index=['농산품', '공산품', '서비스'])  #pandas로 내보내기"
      ],
      "metadata": {
        "id": "YT9SwuJnQi8T"
      },
      "execution_count": 9,
      "outputs": []
    },
    {
      "cell_type": "markdown",
      "source": [
        "#### 수입유발계수(Li)"
      ],
      "metadata": {
        "id": "hB44WT5n9oY5"
      }
    },
    {
      "cell_type": "code",
      "source": [
        "Li = (Ai@Lf).round(3)  #수입유발계수\n",
        "print('수입유발계수 : \\n', Li)"
      ],
      "metadata": {
        "id": "UfIQ3sjZ9vZn",
        "outputId": "3045138a-5aea-42f9-fc7b-00f8d114706f",
        "colab": {
          "base_uri": "https://localhost:8080/"
        }
      },
      "execution_count": 10,
      "outputs": [
        {
          "output_type": "stream",
          "name": "stdout",
          "text": [
            "수입유발계수 : \n",
            " [[0.002 0.006 0.001]\n",
            " [0.117 0.32  0.101]\n",
            " [0.009 0.018 0.03 ]]\n"
          ]
        }
      ]
    },
    {
      "cell_type": "markdown",
      "source": [
        "#### 부가가치유발계수(Lv)"
      ],
      "metadata": {
        "id": "DkU6os7vUW-0"
      }
    },
    {
      "cell_type": "code",
      "source": [
        "Va_m = np.diagflat(Av)  # 부가가치율 대각행렬\n",
        "Va_m"
      ],
      "metadata": {
        "colab": {
          "base_uri": "https://localhost:8080/"
        },
        "id": "7dkxNSQCQjJF",
        "outputId": "015124ee-2a73-4032-8587-17f9dcc72eec"
      },
      "execution_count": 11,
      "outputs": [
        {
          "output_type": "execute_result",
          "data": {
            "text/plain": [
              "array([[0.55 , 0.   , 0.   ],\n",
              "       [0.   , 0.309, 0.   ],\n",
              "       [0.   , 0.   , 0.548]])"
            ]
          },
          "metadata": {},
          "execution_count": 11
        }
      ]
    },
    {
      "cell_type": "code",
      "source": [
        "Lv = (Va_m@Lf).round(3)  #부가가치유발계수\n",
        "print('부가가치유발계수 : \\n', Lv)"
      ],
      "metadata": {
        "id": "DF_G_Hn09gRy",
        "colab": {
          "base_uri": "https://localhost:8080/"
        },
        "outputId": "db878b2f-2ec5-49d2-e36c-735dedbf4c30"
      },
      "execution_count": 12,
      "outputs": [
        {
          "output_type": "stream",
          "name": "stdout",
          "text": [
            "부가가치유발계수 : \n",
            " [[0.595 0.016 0.006]\n",
            " [0.14  0.481 0.087]\n",
            " [0.14  0.16  0.773]]\n"
          ]
        }
      ]
    },
    {
      "cell_type": "code",
      "source": [
        "df_Lv = pd.DataFrame(Lv.round(3),columns = ['농산품', '공산품', '서비스'], index=['농산품', '공산품', '서비스'])  # pandas로 내보내기"
      ],
      "metadata": {
        "id": "Od3StAXA86sf"
      },
      "execution_count": 13,
      "outputs": []
    },
    {
      "cell_type": "code",
      "source": [
        "df_Li = pd.DataFrame(Li.round(3),columns = ['농산품', '공산품', '서비스'], index=['농산품', '공산품', '서비스'])  #pandas로 내보내기"
      ],
      "metadata": {
        "id": "qxP0BGTe-J6J"
      },
      "execution_count": 14,
      "outputs": []
    },
    {
      "cell_type": "markdown",
      "source": [
        "### 취업유발계수"
      ],
      "metadata": {
        "id": "QZYoBLYsNm4h"
      }
    },
    {
      "cell_type": "code",
      "source": [
        "Ei = ((Ep_1[:3,1]/Ct)*10).astype(float).round(3 ) # 10억원당 취업인원\n",
        "Le = (np.diag(Ei)@Lf).round(3)  #취업유발계수\n",
        "print('취업계수 : \\n', Ei, '\\n')\n",
        "print('취업유발계수 : \\n', Le)"
      ],
      "metadata": {
        "id": "V3nfkRkjNlzg",
        "outputId": "14a3ed28-72cc-424a-c7d8-8f365746c2ce",
        "colab": {
          "base_uri": "https://localhost:8080/"
        }
      },
      "execution_count": 15,
      "outputs": [
        {
          "output_type": "stream",
          "name": "stdout",
          "text": [
            "취업계수 : \n",
            " [21.167  2.165  7.932] \n",
            "\n",
            "취업유발계수 : \n",
            " [[22.885  0.627  0.236]\n",
            " [ 0.979  3.37   0.609]\n",
            " [ 2.023  2.315 11.188]]\n"
          ]
        }
      ]
    },
    {
      "cell_type": "code",
      "source": [
        "df_Le = pd.DataFrame(Le.round(3),columns = ['농산품', '공산품', '서비스'], index=['농산품', '공산품', '서비스'])  #pandas로 내보내기"
      ],
      "metadata": {
        "id": "qQmdzsBBRa-W"
      },
      "execution_count": 16,
      "outputs": []
    },
    {
      "cell_type": "code",
      "source": [
        "# CSV파일로 결과 내보내기\n",
        "df_At.to_csv('총투입계수.csv', encoding='utf_8-sig')\n",
        "df_Ad.to_csv('국산투입계수.csv', encoding='utf_8-sig')\n",
        "df_Ai.to_csv('수입투입계수.csv', encoding='utf_8-sig')\n",
        "\n",
        "df_Lf.to_csv('생산유발계수.csv', encoding='utf_8-sig')\n",
        "df_Lv.to_csv('부가가치유발계수.csv', encoding='utf_8-sig')\n",
        "df_Li.to_csv('수입유발계수.csv', encoding='utf_8-sig')\n",
        "df_Le.to_csv('취업유발계수.csv', encoding='utf_8-sig')"
      ],
      "metadata": {
        "id": "Var3WdHW-NdY"
      },
      "execution_count": 17,
      "outputs": []
    }
  ]
}