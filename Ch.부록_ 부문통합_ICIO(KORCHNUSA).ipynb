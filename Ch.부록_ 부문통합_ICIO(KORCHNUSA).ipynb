{
  "nbformat": 4,
  "nbformat_minor": 0,
  "metadata": {
    "colab": {
      "provenance": [],
      "mount_file_id": "https://github.com/Tom-Jung/legendary-funicular/blob/main/IO_tables.ipynb",
      "authorship_tag": "ABX9TyPoljLRsxBS9YKyRiPqcSLw",
      "include_colab_link": true
    },
    "kernelspec": {
      "name": "python3",
      "display_name": "Python 3"
    },
    "language_info": {
      "name": "python"
    }
  },
  "cells": [
    {
      "cell_type": "markdown",
      "metadata": {
        "id": "view-in-github",
        "colab_type": "text"
      },
      "source": [
        "<a href=\"https://colab.research.google.com/github/Tom-Jung/IO_with_python/blob/main/Ch.%EB%B6%80%EB%A1%9D_%20%EB%B6%80%EB%AC%B8%ED%86%B5%ED%95%A9_ICIO(KORCHNUSA).ipynb\" target=\"_parent\"><img src=\"https://colab.research.google.com/assets/colab-badge.svg\" alt=\"Open In Colab\"/></a>"
      ]
    },
    {
      "cell_type": "code",
      "source": [
        "import numpy as np   # Numpy import\n",
        "import pandas as pd  # Pandas import"
      ],
      "metadata": {
        "id": "TR7JvW8CxBFT"
      },
      "execution_count": 485,
      "outputs": []
    },
    {
      "cell_type": "code",
      "source": [
        "np.set_printoptions(precision=3,suppress=True) # 결과를 소수 3자리까지만 보여주는 옵션"
      ],
      "metadata": {
        "id": "2l9tk4XA4Nkc"
      },
      "execution_count": 486,
      "outputs": []
    },
    {
      "cell_type": "code",
      "source": [
        "# from google.colab import drive\n",
        "# drive.mount('/content/drive')"
      ],
      "metadata": {
        "id": "UUugbbcO-CMK"
      },
      "execution_count": 487,
      "outputs": []
    },
    {
      "cell_type": "code",
      "source": [
        "# icio =pd.read_csv('/content/drive/MyDrive/ICIO/ICIO2021_2018.csv')"
      ],
      "metadata": {
        "id": "dH4scTnJ9Wll"
      },
      "execution_count": 488,
      "outputs": []
    },
    {
      "cell_type": "code",
      "source": [
        "Icio = pd.read_csv('/content/2020.csv', low_memory = False)"
      ],
      "metadata": {
        "id": "1tuN2LradEW4"
      },
      "execution_count": 489,
      "outputs": []
    },
    {
      "cell_type": "code",
      "source": [
        "Icio_1 = Icio.to_numpy()\n",
        "Icio_2=Icio_1[:,1:]\n",
        "Icio_2.shape"
      ],
      "metadata": {
        "id": "DhBtrP5M9vRR",
        "outputId": "c7d26505-95ca-4c3e-8e87-d850d8d63590",
        "colab": {
          "base_uri": "https://localhost:8080/"
        }
      },
      "execution_count": 490,
      "outputs": [
        {
          "output_type": "execute_result",
          "data": {
            "text/plain": [
              "(3648, 4108)"
            ]
          },
          "metadata": {},
          "execution_count": 490
        }
      ]
    },
    {
      "cell_type": "markdown",
      "source": [
        "### 한국 1, 중국2, 미국3, ROW4"
      ],
      "metadata": {
        "id": "AvyOqU89gls6"
      }
    },
    {
      "cell_type": "code",
      "source": [
        "url_cdd = \"https://raw.githubusercontent.com/Tom-Jung/IO_with_python/main/data/cd_icio_f_new.csv\"  #코드매치 파일 불러오기\n",
        "Cd = pd.read_csv(url_cdd)\n",
        "Cd.head()"
      ],
      "metadata": {
        "id": "yXmH7e7troAC",
        "outputId": "fbea819b-474b-47ed-b917-3ff2c343a3ee",
        "colab": {
          "base_uri": "https://localhost:8080/",
          "height": 206
        }
      },
      "execution_count": 491,
      "outputs": [
        {
          "output_type": "execute_result",
          "data": {
            "text/plain": [
              "         cons  old  new\n",
              "0  ARG_A01_02    1   10\n",
              "1     ARG_A03    2   10\n",
              "2  ARG_B05_06    3   11\n",
              "3  ARG_B07_08    4   11\n",
              "4     ARG_B09    5   11"
            ],
            "text/html": [
              "\n",
              "  <div id=\"df-a262b796-5fee-472a-88cb-fcb2d378e85c\" class=\"colab-df-container\">\n",
              "    <div>\n",
              "<style scoped>\n",
              "    .dataframe tbody tr th:only-of-type {\n",
              "        vertical-align: middle;\n",
              "    }\n",
              "\n",
              "    .dataframe tbody tr th {\n",
              "        vertical-align: top;\n",
              "    }\n",
              "\n",
              "    .dataframe thead th {\n",
              "        text-align: right;\n",
              "    }\n",
              "</style>\n",
              "<table border=\"1\" class=\"dataframe\">\n",
              "  <thead>\n",
              "    <tr style=\"text-align: right;\">\n",
              "      <th></th>\n",
              "      <th>cons</th>\n",
              "      <th>old</th>\n",
              "      <th>new</th>\n",
              "    </tr>\n",
              "  </thead>\n",
              "  <tbody>\n",
              "    <tr>\n",
              "      <th>0</th>\n",
              "      <td>ARG_A01_02</td>\n",
              "      <td>1</td>\n",
              "      <td>10</td>\n",
              "    </tr>\n",
              "    <tr>\n",
              "      <th>1</th>\n",
              "      <td>ARG_A03</td>\n",
              "      <td>2</td>\n",
              "      <td>10</td>\n",
              "    </tr>\n",
              "    <tr>\n",
              "      <th>2</th>\n",
              "      <td>ARG_B05_06</td>\n",
              "      <td>3</td>\n",
              "      <td>11</td>\n",
              "    </tr>\n",
              "    <tr>\n",
              "      <th>3</th>\n",
              "      <td>ARG_B07_08</td>\n",
              "      <td>4</td>\n",
              "      <td>11</td>\n",
              "    </tr>\n",
              "    <tr>\n",
              "      <th>4</th>\n",
              "      <td>ARG_B09</td>\n",
              "      <td>5</td>\n",
              "      <td>11</td>\n",
              "    </tr>\n",
              "  </tbody>\n",
              "</table>\n",
              "</div>\n",
              "    <div class=\"colab-df-buttons\">\n",
              "\n",
              "  <div class=\"colab-df-container\">\n",
              "    <button class=\"colab-df-convert\" onclick=\"convertToInteractive('df-a262b796-5fee-472a-88cb-fcb2d378e85c')\"\n",
              "            title=\"Convert this dataframe to an interactive table.\"\n",
              "            style=\"display:none;\">\n",
              "\n",
              "  <svg xmlns=\"http://www.w3.org/2000/svg\" height=\"24px\" viewBox=\"0 -960 960 960\">\n",
              "    <path d=\"M120-120v-720h720v720H120Zm60-500h600v-160H180v160Zm220 220h160v-160H400v160Zm0 220h160v-160H400v160ZM180-400h160v-160H180v160Zm440 0h160v-160H620v160ZM180-180h160v-160H180v160Zm440 0h160v-160H620v160Z\"/>\n",
              "  </svg>\n",
              "    </button>\n",
              "\n",
              "  <style>\n",
              "    .colab-df-container {\n",
              "      display:flex;\n",
              "      gap: 12px;\n",
              "    }\n",
              "\n",
              "    .colab-df-convert {\n",
              "      background-color: #E8F0FE;\n",
              "      border: none;\n",
              "      border-radius: 50%;\n",
              "      cursor: pointer;\n",
              "      display: none;\n",
              "      fill: #1967D2;\n",
              "      height: 32px;\n",
              "      padding: 0 0 0 0;\n",
              "      width: 32px;\n",
              "    }\n",
              "\n",
              "    .colab-df-convert:hover {\n",
              "      background-color: #E2EBFA;\n",
              "      box-shadow: 0px 1px 2px rgba(60, 64, 67, 0.3), 0px 1px 3px 1px rgba(60, 64, 67, 0.15);\n",
              "      fill: #174EA6;\n",
              "    }\n",
              "\n",
              "    .colab-df-buttons div {\n",
              "      margin-bottom: 4px;\n",
              "    }\n",
              "\n",
              "    [theme=dark] .colab-df-convert {\n",
              "      background-color: #3B4455;\n",
              "      fill: #D2E3FC;\n",
              "    }\n",
              "\n",
              "    [theme=dark] .colab-df-convert:hover {\n",
              "      background-color: #434B5C;\n",
              "      box-shadow: 0px 1px 3px 1px rgba(0, 0, 0, 0.15);\n",
              "      filter: drop-shadow(0px 1px 2px rgba(0, 0, 0, 0.3));\n",
              "      fill: #FFFFFF;\n",
              "    }\n",
              "  </style>\n",
              "\n",
              "    <script>\n",
              "      const buttonEl =\n",
              "        document.querySelector('#df-a262b796-5fee-472a-88cb-fcb2d378e85c button.colab-df-convert');\n",
              "      buttonEl.style.display =\n",
              "        google.colab.kernel.accessAllowed ? 'block' : 'none';\n",
              "\n",
              "      async function convertToInteractive(key) {\n",
              "        const element = document.querySelector('#df-a262b796-5fee-472a-88cb-fcb2d378e85c');\n",
              "        const dataTable =\n",
              "          await google.colab.kernel.invokeFunction('convertToInteractive',\n",
              "                                                    [key], {});\n",
              "        if (!dataTable) return;\n",
              "\n",
              "        const docLinkHtml = 'Like what you see? Visit the ' +\n",
              "          '<a target=\"_blank\" href=https://colab.research.google.com/notebooks/data_table.ipynb>data table notebook</a>'\n",
              "          + ' to learn more about interactive tables.';\n",
              "        element.innerHTML = '';\n",
              "        dataTable['output_type'] = 'display_data';\n",
              "        await google.colab.output.renderOutput(dataTable, element);\n",
              "        const docLink = document.createElement('div');\n",
              "        docLink.innerHTML = docLinkHtml;\n",
              "        element.appendChild(docLink);\n",
              "      }\n",
              "    </script>\n",
              "  </div>\n",
              "\n",
              "\n",
              "<div id=\"df-bf5f369b-a519-4ef3-abe6-65281df25a40\">\n",
              "  <button class=\"colab-df-quickchart\" onclick=\"quickchart('df-bf5f369b-a519-4ef3-abe6-65281df25a40')\"\n",
              "            title=\"Suggest charts\"\n",
              "            style=\"display:none;\">\n",
              "\n",
              "<svg xmlns=\"http://www.w3.org/2000/svg\" height=\"24px\"viewBox=\"0 0 24 24\"\n",
              "     width=\"24px\">\n",
              "    <g>\n",
              "        <path d=\"M19 3H5c-1.1 0-2 .9-2 2v14c0 1.1.9 2 2 2h14c1.1 0 2-.9 2-2V5c0-1.1-.9-2-2-2zM9 17H7v-7h2v7zm4 0h-2V7h2v10zm4 0h-2v-4h2v4z\"/>\n",
              "    </g>\n",
              "</svg>\n",
              "  </button>\n",
              "\n",
              "<style>\n",
              "  .colab-df-quickchart {\n",
              "      --bg-color: #E8F0FE;\n",
              "      --fill-color: #1967D2;\n",
              "      --hover-bg-color: #E2EBFA;\n",
              "      --hover-fill-color: #174EA6;\n",
              "      --disabled-fill-color: #AAA;\n",
              "      --disabled-bg-color: #DDD;\n",
              "  }\n",
              "\n",
              "  [theme=dark] .colab-df-quickchart {\n",
              "      --bg-color: #3B4455;\n",
              "      --fill-color: #D2E3FC;\n",
              "      --hover-bg-color: #434B5C;\n",
              "      --hover-fill-color: #FFFFFF;\n",
              "      --disabled-bg-color: #3B4455;\n",
              "      --disabled-fill-color: #666;\n",
              "  }\n",
              "\n",
              "  .colab-df-quickchart {\n",
              "    background-color: var(--bg-color);\n",
              "    border: none;\n",
              "    border-radius: 50%;\n",
              "    cursor: pointer;\n",
              "    display: none;\n",
              "    fill: var(--fill-color);\n",
              "    height: 32px;\n",
              "    padding: 0;\n",
              "    width: 32px;\n",
              "  }\n",
              "\n",
              "  .colab-df-quickchart:hover {\n",
              "    background-color: var(--hover-bg-color);\n",
              "    box-shadow: 0 1px 2px rgba(60, 64, 67, 0.3), 0 1px 3px 1px rgba(60, 64, 67, 0.15);\n",
              "    fill: var(--button-hover-fill-color);\n",
              "  }\n",
              "\n",
              "  .colab-df-quickchart-complete:disabled,\n",
              "  .colab-df-quickchart-complete:disabled:hover {\n",
              "    background-color: var(--disabled-bg-color);\n",
              "    fill: var(--disabled-fill-color);\n",
              "    box-shadow: none;\n",
              "  }\n",
              "\n",
              "  .colab-df-spinner {\n",
              "    border: 2px solid var(--fill-color);\n",
              "    border-color: transparent;\n",
              "    border-bottom-color: var(--fill-color);\n",
              "    animation:\n",
              "      spin 1s steps(1) infinite;\n",
              "  }\n",
              "\n",
              "  @keyframes spin {\n",
              "    0% {\n",
              "      border-color: transparent;\n",
              "      border-bottom-color: var(--fill-color);\n",
              "      border-left-color: var(--fill-color);\n",
              "    }\n",
              "    20% {\n",
              "      border-color: transparent;\n",
              "      border-left-color: var(--fill-color);\n",
              "      border-top-color: var(--fill-color);\n",
              "    }\n",
              "    30% {\n",
              "      border-color: transparent;\n",
              "      border-left-color: var(--fill-color);\n",
              "      border-top-color: var(--fill-color);\n",
              "      border-right-color: var(--fill-color);\n",
              "    }\n",
              "    40% {\n",
              "      border-color: transparent;\n",
              "      border-right-color: var(--fill-color);\n",
              "      border-top-color: var(--fill-color);\n",
              "    }\n",
              "    60% {\n",
              "      border-color: transparent;\n",
              "      border-right-color: var(--fill-color);\n",
              "    }\n",
              "    80% {\n",
              "      border-color: transparent;\n",
              "      border-right-color: var(--fill-color);\n",
              "      border-bottom-color: var(--fill-color);\n",
              "    }\n",
              "    90% {\n",
              "      border-color: transparent;\n",
              "      border-bottom-color: var(--fill-color);\n",
              "    }\n",
              "  }\n",
              "</style>\n",
              "\n",
              "  <script>\n",
              "    async function quickchart(key) {\n",
              "      const quickchartButtonEl =\n",
              "        document.querySelector('#' + key + ' button');\n",
              "      quickchartButtonEl.disabled = true;  // To prevent multiple clicks.\n",
              "      quickchartButtonEl.classList.add('colab-df-spinner');\n",
              "      try {\n",
              "        const charts = await google.colab.kernel.invokeFunction(\n",
              "            'suggestCharts', [key], {});\n",
              "      } catch (error) {\n",
              "        console.error('Error during call to suggestCharts:', error);\n",
              "      }\n",
              "      quickchartButtonEl.classList.remove('colab-df-spinner');\n",
              "      quickchartButtonEl.classList.add('colab-df-quickchart-complete');\n",
              "    }\n",
              "    (() => {\n",
              "      let quickchartButtonEl =\n",
              "        document.querySelector('#df-bf5f369b-a519-4ef3-abe6-65281df25a40 button');\n",
              "      quickchartButtonEl.style.display =\n",
              "        google.colab.kernel.accessAllowed ? 'block' : 'none';\n",
              "    })();\n",
              "  </script>\n",
              "</div>\n",
              "\n",
              "    </div>\n",
              "  </div>\n"
            ]
          },
          "metadata": {},
          "execution_count": 491
        }
      ]
    },
    {
      "cell_type": "code",
      "source": [
        "Ccdd = Cd.to_numpy()\n",
        "Cd_for_itr = Ccdd[:,1:]\n",
        "Cd_for_itr"
      ],
      "metadata": {
        "id": "M2e69LcT_59t",
        "outputId": "58619621-ec1f-449e-c762-46c15da521ba",
        "colab": {
          "base_uri": "https://localhost:8080/"
        }
      },
      "execution_count": 492,
      "outputs": [
        {
          "output_type": "execute_result",
          "data": {
            "text/plain": [
              "array([[1, 10],\n",
              "       [2, 10],\n",
              "       [3, 11],\n",
              "       ...,\n",
              "       [3643, 6],\n",
              "       [3644, 6],\n",
              "       [3645, 6]], dtype=object)"
            ]
          },
          "metadata": {},
          "execution_count": 492
        }
      ]
    },
    {
      "cell_type": "code",
      "source": [
        "Mtx = np.zeros((12,3645)) # 부문통합을 위한 코드가 많을 경우 상기의 코드를 수작업으로 미리 하는 것이 쉽자 않으므로 반복문을 통해 3x33 임시코드 만들기\n",
        "Cd_3 = Cd_for_itr[:,1]\n",
        "Cd_33 = Cd_for_itr[:,0]\n",
        "row=Cd_3\n",
        "col=Cd_33\n",
        "for i, j in zip(row,col):\n",
        "  Mtx[i-1,j-1] = 1\n",
        "print(Mtx)"
      ],
      "metadata": {
        "id": "GdSKaueLdDOn",
        "outputId": "df5c4635-77d0-4409-f937-ee36145fbfb0",
        "colab": {
          "base_uri": "https://localhost:8080/"
        }
      },
      "execution_count": 493,
      "outputs": [
        {
          "output_type": "stream",
          "name": "stdout",
          "text": [
            "[[0. 0. 0. ... 0. 0. 0.]\n",
            " [0. 0. 0. ... 0. 0. 0.]\n",
            " [0. 0. 0. ... 0. 0. 0.]\n",
            " ...\n",
            " [1. 1. 0. ... 0. 0. 0.]\n",
            " [0. 0. 1. ... 0. 0. 0.]\n",
            " [0. 0. 0. ... 0. 0. 0.]]\n"
          ]
        }
      ]
    },
    {
      "cell_type": "code",
      "source": [
        "Code=Mtx.reshape([12,3645])\n",
        "Code.shape"
      ],
      "metadata": {
        "id": "1gXI65U3K2hG",
        "outputId": "9007cea3-74ce-4b31-922c-7b03581b5423",
        "colab": {
          "base_uri": "https://localhost:8080/"
        }
      },
      "execution_count": 494,
      "outputs": [
        {
          "output_type": "execute_result",
          "data": {
            "text/plain": [
              "(12, 3645)"
            ]
          },
          "metadata": {},
          "execution_count": 494
        }
      ]
    },
    {
      "cell_type": "code",
      "source": [
        "Nae_tot_row = Code@Icio_2[0:3645,0:3645] # 중간투입(수요)의 행을 12부문으로 만들기\n",
        "Nae_tot_row.shape"
      ],
      "metadata": {
        "id": "hwAN1N7qGAtx",
        "outputId": "6dc78e74-60a2-432f-8fdf-0b6a9bd250b0",
        "colab": {
          "base_uri": "https://localhost:8080/"
        }
      },
      "execution_count": 495,
      "outputs": [
        {
          "output_type": "execute_result",
          "data": {
            "text/plain": [
              "(12, 3645)"
            ]
          },
          "metadata": {},
          "execution_count": 495
        }
      ]
    },
    {
      "cell_type": "code",
      "source": [
        "Nae_tot_col = Nae_tot_row@Code.T\n",
        "Nae_tot_col.sum()"
      ],
      "metadata": {
        "id": "gJ-wf5Z5GAwF",
        "outputId": "51eaa185-250a-47c6-d93d-c4023c809000",
        "colab": {
          "base_uri": "https://localhost:8080/"
        }
      },
      "execution_count": 496,
      "outputs": [
        {
          "output_type": "execute_result",
          "data": {
            "text/plain": [
              "84768345.20032296"
            ]
          },
          "metadata": {},
          "execution_count": 496
        }
      ]
    },
    {
      "cell_type": "code",
      "source": [
        "url_cdtx = \"https://raw.githubusercontent.com/Tom-Jung/IO_with_python/main/data/cd_tax_new.csv\"  #코드매치 파일 불러오기\n",
        "Cd_tx = pd.read_csv(url_cdtx)\n",
        "Cd_tx.shape"
      ],
      "metadata": {
        "id": "U2KVZnyLGAyV",
        "outputId": "9616ad1a-6a24-4424-d982-a2aa0816139a",
        "colab": {
          "base_uri": "https://localhost:8080/"
        }
      },
      "execution_count": 497,
      "outputs": [
        {
          "output_type": "execute_result",
          "data": {
            "text/plain": [
              "(77, 3)"
            ]
          },
          "metadata": {},
          "execution_count": 497
        }
      ]
    },
    {
      "cell_type": "code",
      "source": [
        "url_cns = \"https://raw.githubusercontent.com/Tom-Jung/IO_with_python/main/data/cd_cons_new.csv\"  #코드매치 파일 불러오기\n",
        "Cd_cns = pd.read_csv(url_cns)\n",
        "Cd_cns.shape"
      ],
      "metadata": {
        "id": "JQxUsF6DiW7A",
        "outputId": "5b7dc55a-cef6-4629-881e-dce269788fd6",
        "colab": {
          "base_uri": "https://localhost:8080/"
        }
      },
      "execution_count": 498,
      "outputs": [
        {
          "output_type": "execute_result",
          "data": {
            "text/plain": [
              "(77, 3)"
            ]
          },
          "metadata": {},
          "execution_count": 498
        }
      ]
    },
    {
      "cell_type": "code",
      "source": [
        "# Mtx_tx= np.zeros((6,3195)) # 부문통합을 위한 코드가 많을 경우 상기의 코드를 수작업으로 미리 하는 것이 쉽자 않으므로 반복문을 통해 3x33 임시코드 만들기\n",
        "# cd_3 = cd_for_itr_tx[:,1]\n",
        "# cd_33 = cd_for_itr_tx[:,0]\n",
        "# row=cd_3\n",
        "# col=cd_33\n",
        "# for i, j in zip(row,col):\n",
        "#   Mtx_tx[i-1,j-1] = 1\n",
        "# print(Mtx_tx)"
      ],
      "metadata": {
        "id": "jzhKiWaFKZJG"
      },
      "execution_count": 499,
      "outputs": []
    },
    {
      "cell_type": "code",
      "source": [
        "Ccdd_cns = Cd_cns.to_numpy()\n",
        "Cd_for_itr_cns = Ccdd_cns[:,1:]\n",
        "# cd_for_itr_tx"
      ],
      "metadata": {
        "id": "GqX0Pk4vprXZ"
      },
      "execution_count": 500,
      "outputs": []
    },
    {
      "cell_type": "code",
      "source": [
        "Mtx_cns= np.zeros((4,77)) # 부문통합을 위한 코드가 많을 경우 상기의 코드를 수작업으로 미리 하는 것이 쉽자 않으므로 반복문을 통해 3x33 임시코드 만들기\n",
        "Cd_3 = Cd_for_itr_cns[:,1]\n",
        "Cd_33 = Cd_for_itr_cns[:,0]\n",
        "Row=Cd_3\n",
        "Col=Cd_33\n",
        "for i, j in zip(Row,Col):\n",
        "  Mtx_cns[i-1,j-1] = 1\n",
        "print(Mtx_cns)"
      ],
      "metadata": {
        "id": "J3tdCNxcprdM",
        "outputId": "c6594b6a-a812-431b-9073-d4337c2280e2",
        "colab": {
          "base_uri": "https://localhost:8080/"
        }
      },
      "execution_count": 501,
      "outputs": [
        {
          "output_type": "stream",
          "name": "stdout",
          "text": [
            "[[0. 0. 0. 0. 0. 0. 0. 0. 0. 0. 0. 0. 0. 0. 0. 0. 0. 0. 0. 0. 0. 0. 0. 0.\n",
            "  0. 0. 0. 0. 0. 0. 0. 0. 0. 0. 0. 0. 0. 0. 0. 0. 0. 1. 0. 0. 0. 0. 0. 0.\n",
            "  0. 0. 0. 0. 0. 0. 0. 0. 0. 0. 0. 0. 0. 0. 0. 0. 0. 0. 0. 0. 0. 0. 0. 0.\n",
            "  0. 0. 0. 0. 0.]\n",
            " [0. 0. 0. 0. 0. 0. 0. 0. 0. 0. 0. 0. 1. 0. 0. 0. 0. 0. 0. 0. 0. 0. 0. 0.\n",
            "  0. 0. 0. 0. 0. 0. 0. 0. 0. 0. 0. 0. 0. 0. 0. 0. 0. 0. 0. 0. 0. 0. 0. 0.\n",
            "  0. 0. 0. 0. 0. 0. 0. 0. 0. 0. 0. 0. 0. 0. 0. 0. 0. 0. 0. 0. 0. 0. 0. 0.\n",
            "  0. 0. 0. 0. 0.]\n",
            " [1. 1. 1. 1. 1. 1. 1. 1. 1. 1. 1. 1. 0. 1. 1. 1. 1. 1. 1. 1. 1. 1. 1. 1.\n",
            "  1. 1. 1. 1. 1. 1. 1. 1. 1. 1. 1. 1. 1. 1. 1. 1. 1. 0. 1. 1. 1. 1. 1. 1.\n",
            "  1. 1. 1. 1. 1. 1. 1. 1. 1. 1. 1. 1. 1. 1. 1. 1. 1. 1. 1. 1. 1. 1. 1. 1.\n",
            "  1. 1. 1. 1. 1.]\n",
            " [0. 0. 0. 0. 0. 0. 0. 0. 0. 0. 0. 0. 0. 0. 0. 0. 0. 0. 0. 0. 0. 0. 0. 0.\n",
            "  0. 0. 0. 0. 0. 0. 0. 0. 0. 0. 0. 0. 0. 0. 0. 0. 0. 0. 0. 0. 0. 0. 0. 0.\n",
            "  0. 0. 0. 0. 0. 0. 0. 0. 0. 0. 0. 0. 0. 0. 0. 0. 0. 0. 0. 0. 0. 0. 0. 0.\n",
            "  0. 0. 0. 0. 0.]]\n"
          ]
        }
      ]
    },
    {
      "cell_type": "code",
      "source": [
        "# code_tx = Mtx_tx\n",
        "Code_cns = Mtx_cns\n",
        "Code_cns"
      ],
      "metadata": {
        "id": "PraMpI0AKZL1",
        "colab": {
          "base_uri": "https://localhost:8080/"
        },
        "outputId": "632880cb-7dbd-4a85-b189-5475d6e1e289"
      },
      "execution_count": 502,
      "outputs": [
        {
          "output_type": "execute_result",
          "data": {
            "text/plain": [
              "array([[0., 0., 0., 0., 0., 0., 0., 0., 0., 0., 0., 0., 0., 0., 0., 0.,\n",
              "        0., 0., 0., 0., 0., 0., 0., 0., 0., 0., 0., 0., 0., 0., 0., 0.,\n",
              "        0., 0., 0., 0., 0., 0., 0., 0., 0., 1., 0., 0., 0., 0., 0., 0.,\n",
              "        0., 0., 0., 0., 0., 0., 0., 0., 0., 0., 0., 0., 0., 0., 0., 0.,\n",
              "        0., 0., 0., 0., 0., 0., 0., 0., 0., 0., 0., 0., 0.],\n",
              "       [0., 0., 0., 0., 0., 0., 0., 0., 0., 0., 0., 0., 1., 0., 0., 0.,\n",
              "        0., 0., 0., 0., 0., 0., 0., 0., 0., 0., 0., 0., 0., 0., 0., 0.,\n",
              "        0., 0., 0., 0., 0., 0., 0., 0., 0., 0., 0., 0., 0., 0., 0., 0.,\n",
              "        0., 0., 0., 0., 0., 0., 0., 0., 0., 0., 0., 0., 0., 0., 0., 0.,\n",
              "        0., 0., 0., 0., 0., 0., 0., 0., 0., 0., 0., 0., 0.],\n",
              "       [1., 1., 1., 1., 1., 1., 1., 1., 1., 1., 1., 1., 0., 1., 1., 1.,\n",
              "        1., 1., 1., 1., 1., 1., 1., 1., 1., 1., 1., 1., 1., 1., 1., 1.,\n",
              "        1., 1., 1., 1., 1., 1., 1., 1., 1., 0., 1., 1., 1., 1., 1., 1.,\n",
              "        1., 1., 1., 1., 1., 1., 1., 1., 1., 1., 1., 1., 1., 1., 1., 1.,\n",
              "        1., 1., 1., 1., 1., 1., 1., 1., 1., 1., 1., 1., 1.],\n",
              "       [0., 0., 0., 0., 0., 0., 0., 0., 0., 0., 0., 0., 0., 0., 0., 0.,\n",
              "        0., 0., 0., 0., 0., 0., 0., 0., 0., 0., 0., 0., 0., 0., 0., 0.,\n",
              "        0., 0., 0., 0., 0., 0., 0., 0., 0., 0., 0., 0., 0., 0., 0., 0.,\n",
              "        0., 0., 0., 0., 0., 0., 0., 0., 0., 0., 0., 0., 0., 0., 0., 0.,\n",
              "        0., 0., 0., 0., 0., 0., 0., 0., 0., 0., 0., 0., 0.]])"
            ]
          },
          "metadata": {},
          "execution_count": 502
        }
      ]
    },
    {
      "cell_type": "code",
      "source": [
        "Nae_tx = Icio_2[3645,0:3645]@Code.T # 세금 행을 12부문으로 만들기\n",
        "tt = pd.DataFrame(Nae_tx)\n",
        "tt"
      ],
      "metadata": {
        "id": "5c-zt7MIK-xv",
        "outputId": "9e3a3957-7033-46d3-f050-bd391ab7ef14",
        "colab": {
          "base_uri": "https://localhost:8080/",
          "height": 426
        }
      },
      "execution_count": 503,
      "outputs": [
        {
          "output_type": "execute_result",
          "data": {
            "text/plain": [
              "                0\n",
              "0      517.241177\n",
              "1    22643.855629\n",
              "2    35247.637061\n",
              "3    12034.860847\n",
              "4   286112.648145\n",
              "5   249266.423708\n",
              "6     2455.957353\n",
              "7    67993.779807\n",
              "8   147789.677687\n",
              "9    43716.103059\n",
              "10  417761.499293\n",
              "11   840444.90517"
            ],
            "text/html": [
              "\n",
              "  <div id=\"df-2f9d7776-88a5-44c1-981a-3572ae725cac\" class=\"colab-df-container\">\n",
              "    <div>\n",
              "<style scoped>\n",
              "    .dataframe tbody tr th:only-of-type {\n",
              "        vertical-align: middle;\n",
              "    }\n",
              "\n",
              "    .dataframe tbody tr th {\n",
              "        vertical-align: top;\n",
              "    }\n",
              "\n",
              "    .dataframe thead th {\n",
              "        text-align: right;\n",
              "    }\n",
              "</style>\n",
              "<table border=\"1\" class=\"dataframe\">\n",
              "  <thead>\n",
              "    <tr style=\"text-align: right;\">\n",
              "      <th></th>\n",
              "      <th>0</th>\n",
              "    </tr>\n",
              "  </thead>\n",
              "  <tbody>\n",
              "    <tr>\n",
              "      <th>0</th>\n",
              "      <td>517.241177</td>\n",
              "    </tr>\n",
              "    <tr>\n",
              "      <th>1</th>\n",
              "      <td>22643.855629</td>\n",
              "    </tr>\n",
              "    <tr>\n",
              "      <th>2</th>\n",
              "      <td>35247.637061</td>\n",
              "    </tr>\n",
              "    <tr>\n",
              "      <th>3</th>\n",
              "      <td>12034.860847</td>\n",
              "    </tr>\n",
              "    <tr>\n",
              "      <th>4</th>\n",
              "      <td>286112.648145</td>\n",
              "    </tr>\n",
              "    <tr>\n",
              "      <th>5</th>\n",
              "      <td>249266.423708</td>\n",
              "    </tr>\n",
              "    <tr>\n",
              "      <th>6</th>\n",
              "      <td>2455.957353</td>\n",
              "    </tr>\n",
              "    <tr>\n",
              "      <th>7</th>\n",
              "      <td>67993.779807</td>\n",
              "    </tr>\n",
              "    <tr>\n",
              "      <th>8</th>\n",
              "      <td>147789.677687</td>\n",
              "    </tr>\n",
              "    <tr>\n",
              "      <th>9</th>\n",
              "      <td>43716.103059</td>\n",
              "    </tr>\n",
              "    <tr>\n",
              "      <th>10</th>\n",
              "      <td>417761.499293</td>\n",
              "    </tr>\n",
              "    <tr>\n",
              "      <th>11</th>\n",
              "      <td>840444.90517</td>\n",
              "    </tr>\n",
              "  </tbody>\n",
              "</table>\n",
              "</div>\n",
              "    <div class=\"colab-df-buttons\">\n",
              "\n",
              "  <div class=\"colab-df-container\">\n",
              "    <button class=\"colab-df-convert\" onclick=\"convertToInteractive('df-2f9d7776-88a5-44c1-981a-3572ae725cac')\"\n",
              "            title=\"Convert this dataframe to an interactive table.\"\n",
              "            style=\"display:none;\">\n",
              "\n",
              "  <svg xmlns=\"http://www.w3.org/2000/svg\" height=\"24px\" viewBox=\"0 -960 960 960\">\n",
              "    <path d=\"M120-120v-720h720v720H120Zm60-500h600v-160H180v160Zm220 220h160v-160H400v160Zm0 220h160v-160H400v160ZM180-400h160v-160H180v160Zm440 0h160v-160H620v160ZM180-180h160v-160H180v160Zm440 0h160v-160H620v160Z\"/>\n",
              "  </svg>\n",
              "    </button>\n",
              "\n",
              "  <style>\n",
              "    .colab-df-container {\n",
              "      display:flex;\n",
              "      gap: 12px;\n",
              "    }\n",
              "\n",
              "    .colab-df-convert {\n",
              "      background-color: #E8F0FE;\n",
              "      border: none;\n",
              "      border-radius: 50%;\n",
              "      cursor: pointer;\n",
              "      display: none;\n",
              "      fill: #1967D2;\n",
              "      height: 32px;\n",
              "      padding: 0 0 0 0;\n",
              "      width: 32px;\n",
              "    }\n",
              "\n",
              "    .colab-df-convert:hover {\n",
              "      background-color: #E2EBFA;\n",
              "      box-shadow: 0px 1px 2px rgba(60, 64, 67, 0.3), 0px 1px 3px 1px rgba(60, 64, 67, 0.15);\n",
              "      fill: #174EA6;\n",
              "    }\n",
              "\n",
              "    .colab-df-buttons div {\n",
              "      margin-bottom: 4px;\n",
              "    }\n",
              "\n",
              "    [theme=dark] .colab-df-convert {\n",
              "      background-color: #3B4455;\n",
              "      fill: #D2E3FC;\n",
              "    }\n",
              "\n",
              "    [theme=dark] .colab-df-convert:hover {\n",
              "      background-color: #434B5C;\n",
              "      box-shadow: 0px 1px 3px 1px rgba(0, 0, 0, 0.15);\n",
              "      filter: drop-shadow(0px 1px 2px rgba(0, 0, 0, 0.3));\n",
              "      fill: #FFFFFF;\n",
              "    }\n",
              "  </style>\n",
              "\n",
              "    <script>\n",
              "      const buttonEl =\n",
              "        document.querySelector('#df-2f9d7776-88a5-44c1-981a-3572ae725cac button.colab-df-convert');\n",
              "      buttonEl.style.display =\n",
              "        google.colab.kernel.accessAllowed ? 'block' : 'none';\n",
              "\n",
              "      async function convertToInteractive(key) {\n",
              "        const element = document.querySelector('#df-2f9d7776-88a5-44c1-981a-3572ae725cac');\n",
              "        const dataTable =\n",
              "          await google.colab.kernel.invokeFunction('convertToInteractive',\n",
              "                                                    [key], {});\n",
              "        if (!dataTable) return;\n",
              "\n",
              "        const docLinkHtml = 'Like what you see? Visit the ' +\n",
              "          '<a target=\"_blank\" href=https://colab.research.google.com/notebooks/data_table.ipynb>data table notebook</a>'\n",
              "          + ' to learn more about interactive tables.';\n",
              "        element.innerHTML = '';\n",
              "        dataTable['output_type'] = 'display_data';\n",
              "        await google.colab.output.renderOutput(dataTable, element);\n",
              "        const docLink = document.createElement('div');\n",
              "        docLink.innerHTML = docLinkHtml;\n",
              "        element.appendChild(docLink);\n",
              "      }\n",
              "    </script>\n",
              "  </div>\n",
              "\n",
              "\n",
              "<div id=\"df-0117271c-675e-4939-b889-08b20207b0b4\">\n",
              "  <button class=\"colab-df-quickchart\" onclick=\"quickchart('df-0117271c-675e-4939-b889-08b20207b0b4')\"\n",
              "            title=\"Suggest charts\"\n",
              "            style=\"display:none;\">\n",
              "\n",
              "<svg xmlns=\"http://www.w3.org/2000/svg\" height=\"24px\"viewBox=\"0 0 24 24\"\n",
              "     width=\"24px\">\n",
              "    <g>\n",
              "        <path d=\"M19 3H5c-1.1 0-2 .9-2 2v14c0 1.1.9 2 2 2h14c1.1 0 2-.9 2-2V5c0-1.1-.9-2-2-2zM9 17H7v-7h2v7zm4 0h-2V7h2v10zm4 0h-2v-4h2v4z\"/>\n",
              "    </g>\n",
              "</svg>\n",
              "  </button>\n",
              "\n",
              "<style>\n",
              "  .colab-df-quickchart {\n",
              "      --bg-color: #E8F0FE;\n",
              "      --fill-color: #1967D2;\n",
              "      --hover-bg-color: #E2EBFA;\n",
              "      --hover-fill-color: #174EA6;\n",
              "      --disabled-fill-color: #AAA;\n",
              "      --disabled-bg-color: #DDD;\n",
              "  }\n",
              "\n",
              "  [theme=dark] .colab-df-quickchart {\n",
              "      --bg-color: #3B4455;\n",
              "      --fill-color: #D2E3FC;\n",
              "      --hover-bg-color: #434B5C;\n",
              "      --hover-fill-color: #FFFFFF;\n",
              "      --disabled-bg-color: #3B4455;\n",
              "      --disabled-fill-color: #666;\n",
              "  }\n",
              "\n",
              "  .colab-df-quickchart {\n",
              "    background-color: var(--bg-color);\n",
              "    border: none;\n",
              "    border-radius: 50%;\n",
              "    cursor: pointer;\n",
              "    display: none;\n",
              "    fill: var(--fill-color);\n",
              "    height: 32px;\n",
              "    padding: 0;\n",
              "    width: 32px;\n",
              "  }\n",
              "\n",
              "  .colab-df-quickchart:hover {\n",
              "    background-color: var(--hover-bg-color);\n",
              "    box-shadow: 0 1px 2px rgba(60, 64, 67, 0.3), 0 1px 3px 1px rgba(60, 64, 67, 0.15);\n",
              "    fill: var(--button-hover-fill-color);\n",
              "  }\n",
              "\n",
              "  .colab-df-quickchart-complete:disabled,\n",
              "  .colab-df-quickchart-complete:disabled:hover {\n",
              "    background-color: var(--disabled-bg-color);\n",
              "    fill: var(--disabled-fill-color);\n",
              "    box-shadow: none;\n",
              "  }\n",
              "\n",
              "  .colab-df-spinner {\n",
              "    border: 2px solid var(--fill-color);\n",
              "    border-color: transparent;\n",
              "    border-bottom-color: var(--fill-color);\n",
              "    animation:\n",
              "      spin 1s steps(1) infinite;\n",
              "  }\n",
              "\n",
              "  @keyframes spin {\n",
              "    0% {\n",
              "      border-color: transparent;\n",
              "      border-bottom-color: var(--fill-color);\n",
              "      border-left-color: var(--fill-color);\n",
              "    }\n",
              "    20% {\n",
              "      border-color: transparent;\n",
              "      border-left-color: var(--fill-color);\n",
              "      border-top-color: var(--fill-color);\n",
              "    }\n",
              "    30% {\n",
              "      border-color: transparent;\n",
              "      border-left-color: var(--fill-color);\n",
              "      border-top-color: var(--fill-color);\n",
              "      border-right-color: var(--fill-color);\n",
              "    }\n",
              "    40% {\n",
              "      border-color: transparent;\n",
              "      border-right-color: var(--fill-color);\n",
              "      border-top-color: var(--fill-color);\n",
              "    }\n",
              "    60% {\n",
              "      border-color: transparent;\n",
              "      border-right-color: var(--fill-color);\n",
              "    }\n",
              "    80% {\n",
              "      border-color: transparent;\n",
              "      border-right-color: var(--fill-color);\n",
              "      border-bottom-color: var(--fill-color);\n",
              "    }\n",
              "    90% {\n",
              "      border-color: transparent;\n",
              "      border-bottom-color: var(--fill-color);\n",
              "    }\n",
              "  }\n",
              "</style>\n",
              "\n",
              "  <script>\n",
              "    async function quickchart(key) {\n",
              "      const quickchartButtonEl =\n",
              "        document.querySelector('#' + key + ' button');\n",
              "      quickchartButtonEl.disabled = true;  // To prevent multiple clicks.\n",
              "      quickchartButtonEl.classList.add('colab-df-spinner');\n",
              "      try {\n",
              "        const charts = await google.colab.kernel.invokeFunction(\n",
              "            'suggestCharts', [key], {});\n",
              "      } catch (error) {\n",
              "        console.error('Error during call to suggestCharts:', error);\n",
              "      }\n",
              "      quickchartButtonEl.classList.remove('colab-df-spinner');\n",
              "      quickchartButtonEl.classList.add('colab-df-quickchart-complete');\n",
              "    }\n",
              "    (() => {\n",
              "      let quickchartButtonEl =\n",
              "        document.querySelector('#df-0117271c-675e-4939-b889-08b20207b0b4 button');\n",
              "      quickchartButtonEl.style.display =\n",
              "        google.colab.kernel.accessAllowed ? 'block' : 'none';\n",
              "    })();\n",
              "  </script>\n",
              "</div>\n",
              "\n",
              "  <div id=\"id_8cde9589-3fe5-4658-8e52-71498d9e7ea0\">\n",
              "    <style>\n",
              "      .colab-df-generate {\n",
              "        background-color: #E8F0FE;\n",
              "        border: none;\n",
              "        border-radius: 50%;\n",
              "        cursor: pointer;\n",
              "        display: none;\n",
              "        fill: #1967D2;\n",
              "        height: 32px;\n",
              "        padding: 0 0 0 0;\n",
              "        width: 32px;\n",
              "      }\n",
              "\n",
              "      .colab-df-generate:hover {\n",
              "        background-color: #E2EBFA;\n",
              "        box-shadow: 0px 1px 2px rgba(60, 64, 67, 0.3), 0px 1px 3px 1px rgba(60, 64, 67, 0.15);\n",
              "        fill: #174EA6;\n",
              "      }\n",
              "\n",
              "      [theme=dark] .colab-df-generate {\n",
              "        background-color: #3B4455;\n",
              "        fill: #D2E3FC;\n",
              "      }\n",
              "\n",
              "      [theme=dark] .colab-df-generate:hover {\n",
              "        background-color: #434B5C;\n",
              "        box-shadow: 0px 1px 3px 1px rgba(0, 0, 0, 0.15);\n",
              "        filter: drop-shadow(0px 1px 2px rgba(0, 0, 0, 0.3));\n",
              "        fill: #FFFFFF;\n",
              "      }\n",
              "    </style>\n",
              "    <button class=\"colab-df-generate\" onclick=\"generateWithVariable('tt')\"\n",
              "            title=\"Generate code using this dataframe.\"\n",
              "            style=\"display:none;\">\n",
              "\n",
              "  <svg xmlns=\"http://www.w3.org/2000/svg\" height=\"24px\"viewBox=\"0 0 24 24\"\n",
              "       width=\"24px\">\n",
              "    <path d=\"M7,19H8.4L18.45,9,17,7.55,7,17.6ZM5,21V16.75L18.45,3.32a2,2,0,0,1,2.83,0l1.4,1.43a1.91,1.91,0,0,1,.58,1.4,1.91,1.91,0,0,1-.58,1.4L9.25,21ZM18.45,9,17,7.55Zm-12,3A5.31,5.31,0,0,0,4.9,8.1,5.31,5.31,0,0,0,1,6.5,5.31,5.31,0,0,0,4.9,4.9,5.31,5.31,0,0,0,6.5,1,5.31,5.31,0,0,0,8.1,4.9,5.31,5.31,0,0,0,12,6.5,5.46,5.46,0,0,0,6.5,12Z\"/>\n",
              "  </svg>\n",
              "    </button>\n",
              "    <script>\n",
              "      (() => {\n",
              "      const buttonEl =\n",
              "        document.querySelector('#id_8cde9589-3fe5-4658-8e52-71498d9e7ea0 button.colab-df-generate');\n",
              "      buttonEl.style.display =\n",
              "        google.colab.kernel.accessAllowed ? 'block' : 'none';\n",
              "\n",
              "      buttonEl.onclick = () => {\n",
              "        google.colab.notebook.generateWithVariable('tt');\n",
              "      }\n",
              "      })();\n",
              "    </script>\n",
              "  </div>\n",
              "\n",
              "    </div>\n",
              "  </div>\n"
            ]
          },
          "metadata": {},
          "execution_count": 503
        }
      ]
    },
    {
      "cell_type": "code",
      "source": [
        "Vact_row = Icio_2[-2:,0:3645]@Code.T # 부가가치 및 산출액\n",
        "Vact_row.shape"
      ],
      "metadata": {
        "id": "qztNjQCtK-0Y",
        "outputId": "0a10deff-aa0e-4121-b0b2-07b26e1f64e0",
        "colab": {
          "base_uri": "https://localhost:8080/"
        }
      },
      "execution_count": 504,
      "outputs": [
        {
          "output_type": "execute_result",
          "data": {
            "text/plain": [
              "(2, 12)"
            ]
          },
          "metadata": {},
          "execution_count": 504
        }
      ]
    },
    {
      "cell_type": "code",
      "source": [
        "url_cdfd = \"https://raw.githubusercontent.com/Tom-Jung/IO_with_python/main/data/cd_fd_4cons_new.csv\"  #코드매치 파일 불러오기\n",
        "Cd_fd = pd.read_csv(url_cdfd)\n",
        "Cd_fd.shape"
      ],
      "metadata": {
        "id": "TveEEi60VWLR",
        "outputId": "c46374db-66e1-43a8-94bb-6fb9e6b46551",
        "colab": {
          "base_uri": "https://localhost:8080/"
        }
      },
      "execution_count": 505,
      "outputs": [
        {
          "output_type": "execute_result",
          "data": {
            "text/plain": [
              "(462, 3)"
            ]
          },
          "metadata": {},
          "execution_count": 505
        }
      ]
    },
    {
      "cell_type": "code",
      "source": [
        "Ccdd_fd = Cd_fd.to_numpy()\n",
        "Cd_for_itr_fd = Ccdd_fd[:,1:3]\n",
        "Cd_for_itr_fd.shape"
      ],
      "metadata": {
        "id": "lyL9UFZoVmBn",
        "outputId": "ca2e05a5-3b4f-451f-d8c0-d5af521c03a2",
        "colab": {
          "base_uri": "https://localhost:8080/"
        }
      },
      "execution_count": 506,
      "outputs": [
        {
          "output_type": "execute_result",
          "data": {
            "text/plain": [
              "(462, 2)"
            ]
          },
          "metadata": {},
          "execution_count": 506
        }
      ]
    },
    {
      "cell_type": "code",
      "source": [
        "Cd_33.shape"
      ],
      "metadata": {
        "id": "mhC2lcpBW6Us",
        "outputId": "3c691466-e040-4afc-9b6e-83c163fd605f",
        "colab": {
          "base_uri": "https://localhost:8080/"
        }
      },
      "execution_count": 507,
      "outputs": [
        {
          "output_type": "execute_result",
          "data": {
            "text/plain": [
              "(77,)"
            ]
          },
          "metadata": {},
          "execution_count": 507
        }
      ]
    },
    {
      "cell_type": "code",
      "source": [
        "Mtx_fd= np.zeros((4,462)) # 부문통합을 위한 코드가 많을 경우 상기의 코드를 수작업으로 미리 하는 것이 쉽자 않으므로 반복문을 통해 3x33 임시코드 만들기\n",
        "Cd_3 = Cd_for_itr_fd[:,1]\n",
        "Cd_33 = Cd_for_itr_fd[:,0]\n",
        "Row=Cd_3\n",
        "Col=Cd_33\n",
        "for i, j in zip(Row,Col):\n",
        "  Mtx_fd[i-1,j-1] = 1\n",
        "print(Mtx_fd)"
      ],
      "metadata": {
        "id": "-DfyrxNAVmEF",
        "outputId": "9668077c-42e8-439e-f978-a92d2e920dbe",
        "colab": {
          "base_uri": "https://localhost:8080/"
        }
      },
      "execution_count": 508,
      "outputs": [
        {
          "output_type": "stream",
          "name": "stdout",
          "text": [
            "[[0. 0. 0. ... 0. 0. 0.]\n",
            " [0. 0. 0. ... 0. 0. 0.]\n",
            " [0. 0. 0. ... 0. 0. 0.]\n",
            " [1. 1. 1. ... 1. 1. 1.]]\n"
          ]
        }
      ]
    },
    {
      "cell_type": "code",
      "source": [
        "Code_fd = Mtx_fd\n",
        "Code_fd.shape"
      ],
      "metadata": {
        "id": "DCfHIGyDVmGS",
        "outputId": "24e986d2-16d0-4c1d-ec89-635f26d2fef9",
        "colab": {
          "base_uri": "https://localhost:8080/"
        }
      },
      "execution_count": 509,
      "outputs": [
        {
          "output_type": "execute_result",
          "data": {
            "text/plain": [
              "(4, 462)"
            ]
          },
          "metadata": {},
          "execution_count": 509
        }
      ]
    },
    {
      "cell_type": "code",
      "source": [
        "Fd = Code@Icio_2[0:3645,3645:4107]@Code_fd.T # 최종수요를 12부문으로 만들기\n",
        "Code_fd.shape"
      ],
      "metadata": {
        "id": "Q0YhpDKhVmIY",
        "outputId": "3bf790f4-119a-43b9-fbbf-3431a6ef032e",
        "colab": {
          "base_uri": "https://localhost:8080/"
        }
      },
      "execution_count": 510,
      "outputs": [
        {
          "output_type": "execute_result",
          "data": {
            "text/plain": [
              "(4, 462)"
            ]
          },
          "metadata": {},
          "execution_count": 510
        }
      ]
    },
    {
      "cell_type": "code",
      "source": [
        "Icio_2[0:3645,3645:4107].sum()"
      ],
      "metadata": {
        "id": "61cIN1Lk-EU8",
        "outputId": "5c41ba64-c02f-41c7-bbb4-9b9821550608",
        "colab": {
          "base_uri": "https://localhost:8080/"
        }
      },
      "execution_count": 511,
      "outputs": [
        {
          "output_type": "execute_result",
          "data": {
            "text/plain": [
              "81796440.98814319"
            ]
          },
          "metadata": {},
          "execution_count": 511
        }
      ]
    },
    {
      "cell_type": "code",
      "source": [
        "Fd_tx = Icio_2[3645,3645:4107]@Code_fd.T\n",
        "Fd_tx"
      ],
      "metadata": {
        "id": "NJdAdoVPtVq4",
        "outputId": "fe270c0c-6268-4772-e0e0-c1f04fe9e09b",
        "colab": {
          "base_uri": "https://localhost:8080/"
        }
      },
      "execution_count": 512,
      "outputs": [
        {
          "output_type": "execute_result",
          "data": {
            "text/plain": [
              "array([73671.86296299999, 487852.95911000005, 522672.210866,\n",
              "       2476992.3649929976], dtype=object)"
            ]
          },
          "metadata": {},
          "execution_count": 512
        }
      ]
    },
    {
      "cell_type": "code",
      "source": [
        "Fd.shape"
      ],
      "metadata": {
        "id": "T7n1ckRpYhVh",
        "outputId": "62aec5bb-e702-4657-8e4f-df5109bbf16b",
        "colab": {
          "base_uri": "https://localhost:8080/"
        }
      },
      "execution_count": 513,
      "outputs": [
        {
          "output_type": "execute_result",
          "data": {
            "text/plain": [
              "(12, 4)"
            ]
          },
          "metadata": {},
          "execution_count": 513
        }
      ]
    },
    {
      "cell_type": "code",
      "source": [
        "Fd_row=np.concatenate((Fd,Fd_tx.reshape([1,4]),np.zeros((2,4))))\n",
        "Fd_row.sum()"
      ],
      "metadata": {
        "colab": {
          "base_uri": "https://localhost:8080/"
        },
        "id": "LWL1uNCO_A95",
        "outputId": "7121617c-cbec-456a-aff3-b46134ac8fab"
      },
      "execution_count": 514,
      "outputs": [
        {
          "output_type": "execute_result",
          "data": {
            "text/plain": [
              "85357630.38611801"
            ]
          },
          "metadata": {},
          "execution_count": 514
        }
      ]
    },
    {
      "cell_type": "code",
      "source": [
        "Icio_row = np.concatenate((Nae_tot_col,Nae_tx.reshape([1,12]), Vact_row))\n",
        "Icio_row.shape"
      ],
      "metadata": {
        "id": "ydBppFx_VmKX",
        "colab": {
          "base_uri": "https://localhost:8080/"
        },
        "outputId": "cdc00737-7b0a-4240-cf75-3d895692af96"
      },
      "execution_count": 515,
      "outputs": [
        {
          "output_type": "execute_result",
          "data": {
            "text/plain": [
              "(15, 12)"
            ]
          },
          "metadata": {},
          "execution_count": 515
        }
      ]
    },
    {
      "cell_type": "code",
      "source": [
        "Icio_col = np.concatenate((Icio_row, Fd_row), axis=1)"
      ],
      "metadata": {
        "id": "9AmJvsmzVmMM"
      },
      "execution_count": 516,
      "outputs": []
    },
    {
      "cell_type": "code",
      "source": [
        "Icio_col_sm = Icio_col.sum(axis=1).reshape([15,1]) # 충수요계(산출액과 동일)"
      ],
      "metadata": {
        "id": "8e_Mqf7KVmOa"
      },
      "execution_count": 517,
      "outputs": []
    },
    {
      "cell_type": "code",
      "source": [
        "Icio_f = np.concatenate((Icio_col, Icio_col_sm), axis=1).astype(float)\n",
        "Icio_f.shape"
      ],
      "metadata": {
        "id": "Ic43tRaAVmQd",
        "colab": {
          "base_uri": "https://localhost:8080/"
        },
        "outputId": "86a5f336-6783-4698-d3f6-d770aa1eef3d"
      },
      "execution_count": 518,
      "outputs": [
        {
          "output_type": "execute_result",
          "data": {
            "text/plain": [
              "(15, 17)"
            ]
          },
          "metadata": {},
          "execution_count": 518
        }
      ]
    },
    {
      "cell_type": "code",
      "source": [
        "ICIO_trl = (Icio_f/100).round(0)"
      ],
      "metadata": {
        "id": "qKnF5r4EYE-_"
      },
      "execution_count": 519,
      "outputs": []
    },
    {
      "cell_type": "code",
      "source": [
        "ICIO_df = pd.DataFrame(ICIO_trl, columns = [['한국', '한국', '한국', '중국', '중국', '중국', '미국', '미국', '미국', 'ROW', 'ROW', 'ROW','한국', '중국', '미국', 'ROW','총계'],\n",
        "\n",
        "                                          ['농산품', '공산품', '서비스', '농산품', '공산품', '서비스', '농산품', '공산품', '서비스', '농산품', '공산품', '서비스', '최종수요','최종수요','최종수요','최종수요', '총수요']],\n",
        "\n",
        "                                    index=[['한국', '한국', '한국', '중국', '중국', '중국', '미국', '미국', '미국', 'ROW', 'ROW', 'ROW','세금','부가가치','총투입계'],\n",
        "                                           ['농산품', '공산품', '서비스', '농산품', '공산품', '서비스', '농산품', '공산품', '서비스', '농산품', '공산품', '서비스','세금','부가가치','총투입계']])\n",
        "ICIO_df.index.names=['국가', '산업']"
      ],
      "metadata": {
        "id": "PbW7JbEtWqs_"
      },
      "execution_count": 520,
      "outputs": []
    },
    {
      "cell_type": "code",
      "source": [
        "ICIO_df"
      ],
      "metadata": {
        "id": "ZOzmfVcnbtyA",
        "outputId": "5e3e9271-e9ce-409b-dd93-017c15c2d836",
        "colab": {
          "base_uri": "https://localhost:8080/",
          "height": 582
        }
      },
      "execution_count": 521,
      "outputs": [
        {
          "output_type": "execute_result",
          "data": {
            "text/plain": [
              "              한국                         중국                          미국  \\\n",
              "             농산품      공산품      서비스      농산품       공산품       서비스     농산품   \n",
              "국가   산업                                                                   \n",
              "한국   농산품    25.0    247.0     91.0      0.0       0.0       0.0     0.0   \n",
              "     공산품   111.0   5200.0   2638.0     59.0    1097.0     340.0    10.0   \n",
              "     서비스    62.0   2314.0   5377.0     19.0     198.0     147.0     2.0   \n",
              "중국   농산품     1.0      6.0      2.0   4912.0   10317.0    1336.0     6.0   \n",
              "     공산품    10.0    585.0    235.0   4625.0   84294.0   37897.0    42.0   \n",
              "     서비스     2.0     79.0    116.0   1885.0   23537.0   36089.0     5.0   \n",
              "미국   농산품     2.0     15.0      5.0     59.0     152.0      17.0   780.0   \n",
              "     공산품     5.0    166.0     90.0     36.0     458.0     172.0   728.0   \n",
              "     서비스     4.0    115.0    144.0     50.0     368.0     272.0   770.0   \n",
              "ROW  농산품     3.0     31.0     14.0    198.0     518.0      58.0   142.0   \n",
              "     공산품    21.0   1384.0    577.0    391.0    9590.0    2504.0   214.0   \n",
              "     서비스    10.0    346.0    444.0    225.0    2225.0    1686.0   113.0   \n",
              "세금   세금      5.0    226.0    352.0    120.0    2861.0    2493.0    25.0   \n",
              "부가가치 부가가치  256.0   3975.0  10762.0   9980.0   41148.0   84394.0  1998.0   \n",
              "총투입계 총투입계  518.0  14690.0  20846.0  22559.0  176763.0  167403.0  4836.0   \n",
              "\n",
              "                                  ROW                           한국        중국  \\\n",
              "               공산품       서비스      농산품       공산품       서비스     최종수요      최종수요   \n",
              "국가   산업                                                                        \n",
              "한국   농산품       3.0       1.0      1.0       3.0       1.0    143.0       0.0   \n",
              "     공산품     194.0     177.0     67.0    1120.0     536.0   1623.0     278.0   \n",
              "     서비스      29.0      82.0     14.0     203.0     345.0  11605.0     105.0   \n",
              "중국   농산품      19.0       4.0     33.0     106.0      21.0      2.0    5712.0   \n",
              "     공산품     882.0    1179.0    270.0    5551.0    3633.0    253.0   28453.0   \n",
              "     서비스     112.0     283.0     47.0     780.0    1494.0     83.0  101032.0   \n",
              "미국   농산품    1964.0     151.0    100.0     309.0      49.0      5.0      40.0   \n",
              "     공산품   13286.0   12736.0    174.0    2690.0    1463.0     81.0     179.0   \n",
              "     서비스   11902.0   93573.0    186.0    2134.0    4374.0     90.0     419.0   \n",
              "ROW  농산품     473.0      94.0   6903.0   13976.0    3827.0     13.0     135.0   \n",
              "     공산품    4385.0    3307.0   5434.0   94038.0   56690.0    393.0    1836.0   \n",
              "     서비스    1374.0    3809.0   4520.0   52110.0  185443.0    296.0    1867.0   \n",
              "세금   세금      680.0    1478.0    437.0    4178.0    8404.0    737.0    4879.0   \n",
              "부가가치 부가가치  24291.0  177144.0  23285.0   88535.0  330938.0      0.0       0.0   \n",
              "총투입계 총투입계  59593.0  294019.0  41470.0  265732.0  597219.0      0.0       0.0   \n",
              "\n",
              "                 미국       ROW         총계  \n",
              "               최종수요      최종수요        총수요  \n",
              "국가   산업                                   \n",
              "한국   농산품        1.0       2.0      518.0  \n",
              "     공산품      349.0     890.0    14690.0  \n",
              "     서비스       81.0     263.0    20846.0  \n",
              "중국   농산품        6.0      79.0    22559.0  \n",
              "     공산품     1978.0    6876.0   176763.0  \n",
              "     서비스      351.0    1507.0   167403.0  \n",
              "미국   농산품      997.0     192.0     4836.0  \n",
              "     공산품    24792.0    2537.0    59593.0  \n",
              "     서비스   175868.0    3751.0   294019.0  \n",
              "ROW  농산품      147.0   14937.0    41470.0  \n",
              "     공산품     6106.0   78861.0   265732.0  \n",
              "     서비스     3605.0  339144.0   597219.0  \n",
              "세금   세금      5227.0   24770.0    56872.0  \n",
              "부가가치 부가가치       0.0       0.0   796705.0  \n",
              "총투입계 총투입계       0.0       0.0  1665648.0  "
            ],
            "text/html": [
              "\n",
              "  <div id=\"df-f1510428-e4bd-4cb7-8f33-ac84b09cfd88\" class=\"colab-df-container\">\n",
              "    <div>\n",
              "<style scoped>\n",
              "    .dataframe tbody tr th:only-of-type {\n",
              "        vertical-align: middle;\n",
              "    }\n",
              "\n",
              "    .dataframe tbody tr th {\n",
              "        vertical-align: top;\n",
              "    }\n",
              "\n",
              "    .dataframe thead tr th {\n",
              "        text-align: left;\n",
              "    }\n",
              "\n",
              "    .dataframe thead tr:last-of-type th {\n",
              "        text-align: right;\n",
              "    }\n",
              "</style>\n",
              "<table border=\"1\" class=\"dataframe\">\n",
              "  <thead>\n",
              "    <tr>\n",
              "      <th></th>\n",
              "      <th></th>\n",
              "      <th colspan=\"3\" halign=\"left\">한국</th>\n",
              "      <th colspan=\"3\" halign=\"left\">중국</th>\n",
              "      <th colspan=\"3\" halign=\"left\">미국</th>\n",
              "      <th colspan=\"3\" halign=\"left\">ROW</th>\n",
              "      <th>한국</th>\n",
              "      <th>중국</th>\n",
              "      <th>미국</th>\n",
              "      <th>ROW</th>\n",
              "      <th>총계</th>\n",
              "    </tr>\n",
              "    <tr>\n",
              "      <th></th>\n",
              "      <th></th>\n",
              "      <th>농산품</th>\n",
              "      <th>공산품</th>\n",
              "      <th>서비스</th>\n",
              "      <th>농산품</th>\n",
              "      <th>공산품</th>\n",
              "      <th>서비스</th>\n",
              "      <th>농산품</th>\n",
              "      <th>공산품</th>\n",
              "      <th>서비스</th>\n",
              "      <th>농산품</th>\n",
              "      <th>공산품</th>\n",
              "      <th>서비스</th>\n",
              "      <th>최종수요</th>\n",
              "      <th>최종수요</th>\n",
              "      <th>최종수요</th>\n",
              "      <th>최종수요</th>\n",
              "      <th>총수요</th>\n",
              "    </tr>\n",
              "    <tr>\n",
              "      <th>국가</th>\n",
              "      <th>산업</th>\n",
              "      <th></th>\n",
              "      <th></th>\n",
              "      <th></th>\n",
              "      <th></th>\n",
              "      <th></th>\n",
              "      <th></th>\n",
              "      <th></th>\n",
              "      <th></th>\n",
              "      <th></th>\n",
              "      <th></th>\n",
              "      <th></th>\n",
              "      <th></th>\n",
              "      <th></th>\n",
              "      <th></th>\n",
              "      <th></th>\n",
              "      <th></th>\n",
              "      <th></th>\n",
              "    </tr>\n",
              "  </thead>\n",
              "  <tbody>\n",
              "    <tr>\n",
              "      <th rowspan=\"3\" valign=\"top\">한국</th>\n",
              "      <th>농산품</th>\n",
              "      <td>25.0</td>\n",
              "      <td>247.0</td>\n",
              "      <td>91.0</td>\n",
              "      <td>0.0</td>\n",
              "      <td>0.0</td>\n",
              "      <td>0.0</td>\n",
              "      <td>0.0</td>\n",
              "      <td>3.0</td>\n",
              "      <td>1.0</td>\n",
              "      <td>1.0</td>\n",
              "      <td>3.0</td>\n",
              "      <td>1.0</td>\n",
              "      <td>143.0</td>\n",
              "      <td>0.0</td>\n",
              "      <td>1.0</td>\n",
              "      <td>2.0</td>\n",
              "      <td>518.0</td>\n",
              "    </tr>\n",
              "    <tr>\n",
              "      <th>공산품</th>\n",
              "      <td>111.0</td>\n",
              "      <td>5200.0</td>\n",
              "      <td>2638.0</td>\n",
              "      <td>59.0</td>\n",
              "      <td>1097.0</td>\n",
              "      <td>340.0</td>\n",
              "      <td>10.0</td>\n",
              "      <td>194.0</td>\n",
              "      <td>177.0</td>\n",
              "      <td>67.0</td>\n",
              "      <td>1120.0</td>\n",
              "      <td>536.0</td>\n",
              "      <td>1623.0</td>\n",
              "      <td>278.0</td>\n",
              "      <td>349.0</td>\n",
              "      <td>890.0</td>\n",
              "      <td>14690.0</td>\n",
              "    </tr>\n",
              "    <tr>\n",
              "      <th>서비스</th>\n",
              "      <td>62.0</td>\n",
              "      <td>2314.0</td>\n",
              "      <td>5377.0</td>\n",
              "      <td>19.0</td>\n",
              "      <td>198.0</td>\n",
              "      <td>147.0</td>\n",
              "      <td>2.0</td>\n",
              "      <td>29.0</td>\n",
              "      <td>82.0</td>\n",
              "      <td>14.0</td>\n",
              "      <td>203.0</td>\n",
              "      <td>345.0</td>\n",
              "      <td>11605.0</td>\n",
              "      <td>105.0</td>\n",
              "      <td>81.0</td>\n",
              "      <td>263.0</td>\n",
              "      <td>20846.0</td>\n",
              "    </tr>\n",
              "    <tr>\n",
              "      <th rowspan=\"3\" valign=\"top\">중국</th>\n",
              "      <th>농산품</th>\n",
              "      <td>1.0</td>\n",
              "      <td>6.0</td>\n",
              "      <td>2.0</td>\n",
              "      <td>4912.0</td>\n",
              "      <td>10317.0</td>\n",
              "      <td>1336.0</td>\n",
              "      <td>6.0</td>\n",
              "      <td>19.0</td>\n",
              "      <td>4.0</td>\n",
              "      <td>33.0</td>\n",
              "      <td>106.0</td>\n",
              "      <td>21.0</td>\n",
              "      <td>2.0</td>\n",
              "      <td>5712.0</td>\n",
              "      <td>6.0</td>\n",
              "      <td>79.0</td>\n",
              "      <td>22559.0</td>\n",
              "    </tr>\n",
              "    <tr>\n",
              "      <th>공산품</th>\n",
              "      <td>10.0</td>\n",
              "      <td>585.0</td>\n",
              "      <td>235.0</td>\n",
              "      <td>4625.0</td>\n",
              "      <td>84294.0</td>\n",
              "      <td>37897.0</td>\n",
              "      <td>42.0</td>\n",
              "      <td>882.0</td>\n",
              "      <td>1179.0</td>\n",
              "      <td>270.0</td>\n",
              "      <td>5551.0</td>\n",
              "      <td>3633.0</td>\n",
              "      <td>253.0</td>\n",
              "      <td>28453.0</td>\n",
              "      <td>1978.0</td>\n",
              "      <td>6876.0</td>\n",
              "      <td>176763.0</td>\n",
              "    </tr>\n",
              "    <tr>\n",
              "      <th>서비스</th>\n",
              "      <td>2.0</td>\n",
              "      <td>79.0</td>\n",
              "      <td>116.0</td>\n",
              "      <td>1885.0</td>\n",
              "      <td>23537.0</td>\n",
              "      <td>36089.0</td>\n",
              "      <td>5.0</td>\n",
              "      <td>112.0</td>\n",
              "      <td>283.0</td>\n",
              "      <td>47.0</td>\n",
              "      <td>780.0</td>\n",
              "      <td>1494.0</td>\n",
              "      <td>83.0</td>\n",
              "      <td>101032.0</td>\n",
              "      <td>351.0</td>\n",
              "      <td>1507.0</td>\n",
              "      <td>167403.0</td>\n",
              "    </tr>\n",
              "    <tr>\n",
              "      <th rowspan=\"3\" valign=\"top\">미국</th>\n",
              "      <th>농산품</th>\n",
              "      <td>2.0</td>\n",
              "      <td>15.0</td>\n",
              "      <td>5.0</td>\n",
              "      <td>59.0</td>\n",
              "      <td>152.0</td>\n",
              "      <td>17.0</td>\n",
              "      <td>780.0</td>\n",
              "      <td>1964.0</td>\n",
              "      <td>151.0</td>\n",
              "      <td>100.0</td>\n",
              "      <td>309.0</td>\n",
              "      <td>49.0</td>\n",
              "      <td>5.0</td>\n",
              "      <td>40.0</td>\n",
              "      <td>997.0</td>\n",
              "      <td>192.0</td>\n",
              "      <td>4836.0</td>\n",
              "    </tr>\n",
              "    <tr>\n",
              "      <th>공산품</th>\n",
              "      <td>5.0</td>\n",
              "      <td>166.0</td>\n",
              "      <td>90.0</td>\n",
              "      <td>36.0</td>\n",
              "      <td>458.0</td>\n",
              "      <td>172.0</td>\n",
              "      <td>728.0</td>\n",
              "      <td>13286.0</td>\n",
              "      <td>12736.0</td>\n",
              "      <td>174.0</td>\n",
              "      <td>2690.0</td>\n",
              "      <td>1463.0</td>\n",
              "      <td>81.0</td>\n",
              "      <td>179.0</td>\n",
              "      <td>24792.0</td>\n",
              "      <td>2537.0</td>\n",
              "      <td>59593.0</td>\n",
              "    </tr>\n",
              "    <tr>\n",
              "      <th>서비스</th>\n",
              "      <td>4.0</td>\n",
              "      <td>115.0</td>\n",
              "      <td>144.0</td>\n",
              "      <td>50.0</td>\n",
              "      <td>368.0</td>\n",
              "      <td>272.0</td>\n",
              "      <td>770.0</td>\n",
              "      <td>11902.0</td>\n",
              "      <td>93573.0</td>\n",
              "      <td>186.0</td>\n",
              "      <td>2134.0</td>\n",
              "      <td>4374.0</td>\n",
              "      <td>90.0</td>\n",
              "      <td>419.0</td>\n",
              "      <td>175868.0</td>\n",
              "      <td>3751.0</td>\n",
              "      <td>294019.0</td>\n",
              "    </tr>\n",
              "    <tr>\n",
              "      <th rowspan=\"3\" valign=\"top\">ROW</th>\n",
              "      <th>농산품</th>\n",
              "      <td>3.0</td>\n",
              "      <td>31.0</td>\n",
              "      <td>14.0</td>\n",
              "      <td>198.0</td>\n",
              "      <td>518.0</td>\n",
              "      <td>58.0</td>\n",
              "      <td>142.0</td>\n",
              "      <td>473.0</td>\n",
              "      <td>94.0</td>\n",
              "      <td>6903.0</td>\n",
              "      <td>13976.0</td>\n",
              "      <td>3827.0</td>\n",
              "      <td>13.0</td>\n",
              "      <td>135.0</td>\n",
              "      <td>147.0</td>\n",
              "      <td>14937.0</td>\n",
              "      <td>41470.0</td>\n",
              "    </tr>\n",
              "    <tr>\n",
              "      <th>공산품</th>\n",
              "      <td>21.0</td>\n",
              "      <td>1384.0</td>\n",
              "      <td>577.0</td>\n",
              "      <td>391.0</td>\n",
              "      <td>9590.0</td>\n",
              "      <td>2504.0</td>\n",
              "      <td>214.0</td>\n",
              "      <td>4385.0</td>\n",
              "      <td>3307.0</td>\n",
              "      <td>5434.0</td>\n",
              "      <td>94038.0</td>\n",
              "      <td>56690.0</td>\n",
              "      <td>393.0</td>\n",
              "      <td>1836.0</td>\n",
              "      <td>6106.0</td>\n",
              "      <td>78861.0</td>\n",
              "      <td>265732.0</td>\n",
              "    </tr>\n",
              "    <tr>\n",
              "      <th>서비스</th>\n",
              "      <td>10.0</td>\n",
              "      <td>346.0</td>\n",
              "      <td>444.0</td>\n",
              "      <td>225.0</td>\n",
              "      <td>2225.0</td>\n",
              "      <td>1686.0</td>\n",
              "      <td>113.0</td>\n",
              "      <td>1374.0</td>\n",
              "      <td>3809.0</td>\n",
              "      <td>4520.0</td>\n",
              "      <td>52110.0</td>\n",
              "      <td>185443.0</td>\n",
              "      <td>296.0</td>\n",
              "      <td>1867.0</td>\n",
              "      <td>3605.0</td>\n",
              "      <td>339144.0</td>\n",
              "      <td>597219.0</td>\n",
              "    </tr>\n",
              "    <tr>\n",
              "      <th>세금</th>\n",
              "      <th>세금</th>\n",
              "      <td>5.0</td>\n",
              "      <td>226.0</td>\n",
              "      <td>352.0</td>\n",
              "      <td>120.0</td>\n",
              "      <td>2861.0</td>\n",
              "      <td>2493.0</td>\n",
              "      <td>25.0</td>\n",
              "      <td>680.0</td>\n",
              "      <td>1478.0</td>\n",
              "      <td>437.0</td>\n",
              "      <td>4178.0</td>\n",
              "      <td>8404.0</td>\n",
              "      <td>737.0</td>\n",
              "      <td>4879.0</td>\n",
              "      <td>5227.0</td>\n",
              "      <td>24770.0</td>\n",
              "      <td>56872.0</td>\n",
              "    </tr>\n",
              "    <tr>\n",
              "      <th>부가가치</th>\n",
              "      <th>부가가치</th>\n",
              "      <td>256.0</td>\n",
              "      <td>3975.0</td>\n",
              "      <td>10762.0</td>\n",
              "      <td>9980.0</td>\n",
              "      <td>41148.0</td>\n",
              "      <td>84394.0</td>\n",
              "      <td>1998.0</td>\n",
              "      <td>24291.0</td>\n",
              "      <td>177144.0</td>\n",
              "      <td>23285.0</td>\n",
              "      <td>88535.0</td>\n",
              "      <td>330938.0</td>\n",
              "      <td>0.0</td>\n",
              "      <td>0.0</td>\n",
              "      <td>0.0</td>\n",
              "      <td>0.0</td>\n",
              "      <td>796705.0</td>\n",
              "    </tr>\n",
              "    <tr>\n",
              "      <th>총투입계</th>\n",
              "      <th>총투입계</th>\n",
              "      <td>518.0</td>\n",
              "      <td>14690.0</td>\n",
              "      <td>20846.0</td>\n",
              "      <td>22559.0</td>\n",
              "      <td>176763.0</td>\n",
              "      <td>167403.0</td>\n",
              "      <td>4836.0</td>\n",
              "      <td>59593.0</td>\n",
              "      <td>294019.0</td>\n",
              "      <td>41470.0</td>\n",
              "      <td>265732.0</td>\n",
              "      <td>597219.0</td>\n",
              "      <td>0.0</td>\n",
              "      <td>0.0</td>\n",
              "      <td>0.0</td>\n",
              "      <td>0.0</td>\n",
              "      <td>1665648.0</td>\n",
              "    </tr>\n",
              "  </tbody>\n",
              "</table>\n",
              "</div>\n",
              "    <div class=\"colab-df-buttons\">\n",
              "\n",
              "  <div class=\"colab-df-container\">\n",
              "    <button class=\"colab-df-convert\" onclick=\"convertToInteractive('df-f1510428-e4bd-4cb7-8f33-ac84b09cfd88')\"\n",
              "            title=\"Convert this dataframe to an interactive table.\"\n",
              "            style=\"display:none;\">\n",
              "\n",
              "  <svg xmlns=\"http://www.w3.org/2000/svg\" height=\"24px\" viewBox=\"0 -960 960 960\">\n",
              "    <path d=\"M120-120v-720h720v720H120Zm60-500h600v-160H180v160Zm220 220h160v-160H400v160Zm0 220h160v-160H400v160ZM180-400h160v-160H180v160Zm440 0h160v-160H620v160ZM180-180h160v-160H180v160Zm440 0h160v-160H620v160Z\"/>\n",
              "  </svg>\n",
              "    </button>\n",
              "\n",
              "  <style>\n",
              "    .colab-df-container {\n",
              "      display:flex;\n",
              "      gap: 12px;\n",
              "    }\n",
              "\n",
              "    .colab-df-convert {\n",
              "      background-color: #E8F0FE;\n",
              "      border: none;\n",
              "      border-radius: 50%;\n",
              "      cursor: pointer;\n",
              "      display: none;\n",
              "      fill: #1967D2;\n",
              "      height: 32px;\n",
              "      padding: 0 0 0 0;\n",
              "      width: 32px;\n",
              "    }\n",
              "\n",
              "    .colab-df-convert:hover {\n",
              "      background-color: #E2EBFA;\n",
              "      box-shadow: 0px 1px 2px rgba(60, 64, 67, 0.3), 0px 1px 3px 1px rgba(60, 64, 67, 0.15);\n",
              "      fill: #174EA6;\n",
              "    }\n",
              "\n",
              "    .colab-df-buttons div {\n",
              "      margin-bottom: 4px;\n",
              "    }\n",
              "\n",
              "    [theme=dark] .colab-df-convert {\n",
              "      background-color: #3B4455;\n",
              "      fill: #D2E3FC;\n",
              "    }\n",
              "\n",
              "    [theme=dark] .colab-df-convert:hover {\n",
              "      background-color: #434B5C;\n",
              "      box-shadow: 0px 1px 3px 1px rgba(0, 0, 0, 0.15);\n",
              "      filter: drop-shadow(0px 1px 2px rgba(0, 0, 0, 0.3));\n",
              "      fill: #FFFFFF;\n",
              "    }\n",
              "  </style>\n",
              "\n",
              "    <script>\n",
              "      const buttonEl =\n",
              "        document.querySelector('#df-f1510428-e4bd-4cb7-8f33-ac84b09cfd88 button.colab-df-convert');\n",
              "      buttonEl.style.display =\n",
              "        google.colab.kernel.accessAllowed ? 'block' : 'none';\n",
              "\n",
              "      async function convertToInteractive(key) {\n",
              "        const element = document.querySelector('#df-f1510428-e4bd-4cb7-8f33-ac84b09cfd88');\n",
              "        const dataTable =\n",
              "          await google.colab.kernel.invokeFunction('convertToInteractive',\n",
              "                                                    [key], {});\n",
              "        if (!dataTable) return;\n",
              "\n",
              "        const docLinkHtml = 'Like what you see? Visit the ' +\n",
              "          '<a target=\"_blank\" href=https://colab.research.google.com/notebooks/data_table.ipynb>data table notebook</a>'\n",
              "          + ' to learn more about interactive tables.';\n",
              "        element.innerHTML = '';\n",
              "        dataTable['output_type'] = 'display_data';\n",
              "        await google.colab.output.renderOutput(dataTable, element);\n",
              "        const docLink = document.createElement('div');\n",
              "        docLink.innerHTML = docLinkHtml;\n",
              "        element.appendChild(docLink);\n",
              "      }\n",
              "    </script>\n",
              "  </div>\n",
              "\n",
              "\n",
              "<div id=\"df-0b068520-e9fa-4360-8793-50a0f4e2fdd1\">\n",
              "  <button class=\"colab-df-quickchart\" onclick=\"quickchart('df-0b068520-e9fa-4360-8793-50a0f4e2fdd1')\"\n",
              "            title=\"Suggest charts\"\n",
              "            style=\"display:none;\">\n",
              "\n",
              "<svg xmlns=\"http://www.w3.org/2000/svg\" height=\"24px\"viewBox=\"0 0 24 24\"\n",
              "     width=\"24px\">\n",
              "    <g>\n",
              "        <path d=\"M19 3H5c-1.1 0-2 .9-2 2v14c0 1.1.9 2 2 2h14c1.1 0 2-.9 2-2V5c0-1.1-.9-2-2-2zM9 17H7v-7h2v7zm4 0h-2V7h2v10zm4 0h-2v-4h2v4z\"/>\n",
              "    </g>\n",
              "</svg>\n",
              "  </button>\n",
              "\n",
              "<style>\n",
              "  .colab-df-quickchart {\n",
              "      --bg-color: #E8F0FE;\n",
              "      --fill-color: #1967D2;\n",
              "      --hover-bg-color: #E2EBFA;\n",
              "      --hover-fill-color: #174EA6;\n",
              "      --disabled-fill-color: #AAA;\n",
              "      --disabled-bg-color: #DDD;\n",
              "  }\n",
              "\n",
              "  [theme=dark] .colab-df-quickchart {\n",
              "      --bg-color: #3B4455;\n",
              "      --fill-color: #D2E3FC;\n",
              "      --hover-bg-color: #434B5C;\n",
              "      --hover-fill-color: #FFFFFF;\n",
              "      --disabled-bg-color: #3B4455;\n",
              "      --disabled-fill-color: #666;\n",
              "  }\n",
              "\n",
              "  .colab-df-quickchart {\n",
              "    background-color: var(--bg-color);\n",
              "    border: none;\n",
              "    border-radius: 50%;\n",
              "    cursor: pointer;\n",
              "    display: none;\n",
              "    fill: var(--fill-color);\n",
              "    height: 32px;\n",
              "    padding: 0;\n",
              "    width: 32px;\n",
              "  }\n",
              "\n",
              "  .colab-df-quickchart:hover {\n",
              "    background-color: var(--hover-bg-color);\n",
              "    box-shadow: 0 1px 2px rgba(60, 64, 67, 0.3), 0 1px 3px 1px rgba(60, 64, 67, 0.15);\n",
              "    fill: var(--button-hover-fill-color);\n",
              "  }\n",
              "\n",
              "  .colab-df-quickchart-complete:disabled,\n",
              "  .colab-df-quickchart-complete:disabled:hover {\n",
              "    background-color: var(--disabled-bg-color);\n",
              "    fill: var(--disabled-fill-color);\n",
              "    box-shadow: none;\n",
              "  }\n",
              "\n",
              "  .colab-df-spinner {\n",
              "    border: 2px solid var(--fill-color);\n",
              "    border-color: transparent;\n",
              "    border-bottom-color: var(--fill-color);\n",
              "    animation:\n",
              "      spin 1s steps(1) infinite;\n",
              "  }\n",
              "\n",
              "  @keyframes spin {\n",
              "    0% {\n",
              "      border-color: transparent;\n",
              "      border-bottom-color: var(--fill-color);\n",
              "      border-left-color: var(--fill-color);\n",
              "    }\n",
              "    20% {\n",
              "      border-color: transparent;\n",
              "      border-left-color: var(--fill-color);\n",
              "      border-top-color: var(--fill-color);\n",
              "    }\n",
              "    30% {\n",
              "      border-color: transparent;\n",
              "      border-left-color: var(--fill-color);\n",
              "      border-top-color: var(--fill-color);\n",
              "      border-right-color: var(--fill-color);\n",
              "    }\n",
              "    40% {\n",
              "      border-color: transparent;\n",
              "      border-right-color: var(--fill-color);\n",
              "      border-top-color: var(--fill-color);\n",
              "    }\n",
              "    60% {\n",
              "      border-color: transparent;\n",
              "      border-right-color: var(--fill-color);\n",
              "    }\n",
              "    80% {\n",
              "      border-color: transparent;\n",
              "      border-right-color: var(--fill-color);\n",
              "      border-bottom-color: var(--fill-color);\n",
              "    }\n",
              "    90% {\n",
              "      border-color: transparent;\n",
              "      border-bottom-color: var(--fill-color);\n",
              "    }\n",
              "  }\n",
              "</style>\n",
              "\n",
              "  <script>\n",
              "    async function quickchart(key) {\n",
              "      const quickchartButtonEl =\n",
              "        document.querySelector('#' + key + ' button');\n",
              "      quickchartButtonEl.disabled = true;  // To prevent multiple clicks.\n",
              "      quickchartButtonEl.classList.add('colab-df-spinner');\n",
              "      try {\n",
              "        const charts = await google.colab.kernel.invokeFunction(\n",
              "            'suggestCharts', [key], {});\n",
              "      } catch (error) {\n",
              "        console.error('Error during call to suggestCharts:', error);\n",
              "      }\n",
              "      quickchartButtonEl.classList.remove('colab-df-spinner');\n",
              "      quickchartButtonEl.classList.add('colab-df-quickchart-complete');\n",
              "    }\n",
              "    (() => {\n",
              "      let quickchartButtonEl =\n",
              "        document.querySelector('#df-0b068520-e9fa-4360-8793-50a0f4e2fdd1 button');\n",
              "      quickchartButtonEl.style.display =\n",
              "        google.colab.kernel.accessAllowed ? 'block' : 'none';\n",
              "    })();\n",
              "  </script>\n",
              "</div>\n",
              "\n",
              "  <div id=\"id_b133d807-7683-4fdb-a30f-f0303c212a5f\">\n",
              "    <style>\n",
              "      .colab-df-generate {\n",
              "        background-color: #E8F0FE;\n",
              "        border: none;\n",
              "        border-radius: 50%;\n",
              "        cursor: pointer;\n",
              "        display: none;\n",
              "        fill: #1967D2;\n",
              "        height: 32px;\n",
              "        padding: 0 0 0 0;\n",
              "        width: 32px;\n",
              "      }\n",
              "\n",
              "      .colab-df-generate:hover {\n",
              "        background-color: #E2EBFA;\n",
              "        box-shadow: 0px 1px 2px rgba(60, 64, 67, 0.3), 0px 1px 3px 1px rgba(60, 64, 67, 0.15);\n",
              "        fill: #174EA6;\n",
              "      }\n",
              "\n",
              "      [theme=dark] .colab-df-generate {\n",
              "        background-color: #3B4455;\n",
              "        fill: #D2E3FC;\n",
              "      }\n",
              "\n",
              "      [theme=dark] .colab-df-generate:hover {\n",
              "        background-color: #434B5C;\n",
              "        box-shadow: 0px 1px 3px 1px rgba(0, 0, 0, 0.15);\n",
              "        filter: drop-shadow(0px 1px 2px rgba(0, 0, 0, 0.3));\n",
              "        fill: #FFFFFF;\n",
              "      }\n",
              "    </style>\n",
              "    <button class=\"colab-df-generate\" onclick=\"generateWithVariable('ICIO_df')\"\n",
              "            title=\"Generate code using this dataframe.\"\n",
              "            style=\"display:none;\">\n",
              "\n",
              "  <svg xmlns=\"http://www.w3.org/2000/svg\" height=\"24px\"viewBox=\"0 0 24 24\"\n",
              "       width=\"24px\">\n",
              "    <path d=\"M7,19H8.4L18.45,9,17,7.55,7,17.6ZM5,21V16.75L18.45,3.32a2,2,0,0,1,2.83,0l1.4,1.43a1.91,1.91,0,0,1,.58,1.4,1.91,1.91,0,0,1-.58,1.4L9.25,21ZM18.45,9,17,7.55Zm-12,3A5.31,5.31,0,0,0,4.9,8.1,5.31,5.31,0,0,0,1,6.5,5.31,5.31,0,0,0,4.9,4.9,5.31,5.31,0,0,0,6.5,1,5.31,5.31,0,0,0,8.1,4.9,5.31,5.31,0,0,0,12,6.5,5.46,5.46,0,0,0,6.5,12Z\"/>\n",
              "  </svg>\n",
              "    </button>\n",
              "    <script>\n",
              "      (() => {\n",
              "      const buttonEl =\n",
              "        document.querySelector('#id_b133d807-7683-4fdb-a30f-f0303c212a5f button.colab-df-generate');\n",
              "      buttonEl.style.display =\n",
              "        google.colab.kernel.accessAllowed ? 'block' : 'none';\n",
              "\n",
              "      buttonEl.onclick = () => {\n",
              "        google.colab.notebook.generateWithVariable('ICIO_df');\n",
              "      }\n",
              "      })();\n",
              "    </script>\n",
              "  </div>\n",
              "\n",
              "    </div>\n",
              "  </div>\n"
            ]
          },
          "metadata": {},
          "execution_count": 521
        }
      ]
    },
    {
      "cell_type": "code",
      "source": [
        "ICIO_df.to_csv('ICIO_4cons_3secs_1Fd_2020.csv',encoding=\"utf-8-sig\")"
      ],
      "metadata": {
        "id": "BnRT1-4nJC-m"
      },
      "execution_count": 522,
      "outputs": []
    }
  ]
}