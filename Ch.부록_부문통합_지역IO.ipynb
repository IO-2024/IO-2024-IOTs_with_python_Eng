{
  "nbformat": 4,
  "nbformat_minor": 0,
  "metadata": {
    "colab": {
      "provenance": [],
      "mount_file_id": "https://github.com/Tom-Jung/legendary-funicular/blob/main/IO_tables.ipynb",
      "authorship_tag": "ABX9TyPYNH9CVWV3NNtk6NEHbiQ9",
      "include_colab_link": true
    },
    "kernelspec": {
      "name": "python3",
      "display_name": "Python 3"
    },
    "language_info": {
      "name": "python"
    }
  },
  "cells": [
    {
      "cell_type": "markdown",
      "metadata": {
        "id": "view-in-github",
        "colab_type": "text"
      },
      "source": [
        "<a href=\"https://colab.research.google.com/github/Tom-Jung/IO_with_python/blob/main/Ch.%EB%B6%80%EB%A1%9D_%EB%B6%80%EB%AC%B8%ED%86%B5%ED%95%A9_%EC%A7%80%EC%97%ADIO.ipynb\" target=\"_parent\"><img src=\"https://colab.research.google.com/assets/colab-badge.svg\" alt=\"Open In Colab\"/></a>"
      ]
    },
    {
      "cell_type": "code",
      "source": [
        "import numpy as np   # Numpy import\n",
        "import pandas as pd  # Pandas import"
      ],
      "metadata": {
        "id": "TR7JvW8CxBFT"
      },
      "execution_count": 1,
      "outputs": []
    },
    {
      "cell_type": "code",
      "source": [
        "np.set_printoptions(precision=3,suppress=True) # 결과를 소수 3자리까지만 보여주는 옵션"
      ],
      "metadata": {
        "id": "2l9tk4XA4Nkc"
      },
      "execution_count": 13,
      "outputs": []
    },
    {
      "cell_type": "code",
      "source": [
        "url_RIO_33 = \"https://raw.githubusercontent.com/Tom-Jung/IO_with_python/main/data/Regional_Matrix.csv\"  # 33부문의 지역IO 불러오기\n",
        "RIO_33 = pd.read_csv(url_RIO_33)"
      ],
      "metadata": {
        "id": "8D9y7bqcuL7m"
      },
      "execution_count": 14,
      "outputs": []
    },
    {
      "cell_type": "code",
      "source": [
        "RRIO_33 = RIO_33.to_numpy()\n",
        "RI_33 = RRIO_33[2:,3:].astype(float)"
      ],
      "metadata": {
        "id": "3Rq2EJgr1YSW"
      },
      "execution_count": 15,
      "outputs": []
    },
    {
      "cell_type": "code",
      "source": [
        "Cd_for_R = \"https://raw.githubusercontent.com/Tom-Jung/IO_with_python/main/data/code_regional_io_3regions_3sectors.csv\"  # 코드매치 파일\n",
        "Cdr = pd.read_csv(Cd_for_R)\n",
        "Cdr.head()"
      ],
      "metadata": {
        "colab": {
          "base_uri": "https://localhost:8080/",
          "height": 206
        },
        "id": "KTuvCzjHWf4s",
        "outputId": "8b1b1be0-ed36-4ae1-f2df-08f43683b5ae"
      },
      "execution_count": 16,
      "outputs": [
        {
          "output_type": "execute_result",
          "data": {
            "text/plain": [
              "    권역  지역 33부문          부문명  3부문  old_33부문  new_3부문및지역\n",
              "0  수도권  서울    A        농림수산품  농산품         1           1\n",
              "1  수도권  서울    B          광산품  공산품         2           2\n",
              "2  수도권  서울  C01         음식료품  공산품         3           2\n",
              "3  수도권  서울  C02    섬유 및 가죽제품  공산품         4           2\n",
              "4  수도권  서울  C03  목재 및 종이, 인쇄  공산품         5           2"
            ],
            "text/html": [
              "\n",
              "  <div id=\"df-0f8777ce-0926-4ef3-ad99-90a3176f2e26\" class=\"colab-df-container\">\n",
              "    <div>\n",
              "<style scoped>\n",
              "    .dataframe tbody tr th:only-of-type {\n",
              "        vertical-align: middle;\n",
              "    }\n",
              "\n",
              "    .dataframe tbody tr th {\n",
              "        vertical-align: top;\n",
              "    }\n",
              "\n",
              "    .dataframe thead th {\n",
              "        text-align: right;\n",
              "    }\n",
              "</style>\n",
              "<table border=\"1\" class=\"dataframe\">\n",
              "  <thead>\n",
              "    <tr style=\"text-align: right;\">\n",
              "      <th></th>\n",
              "      <th>권역</th>\n",
              "      <th>지역</th>\n",
              "      <th>33부문</th>\n",
              "      <th>부문명</th>\n",
              "      <th>3부문</th>\n",
              "      <th>old_33부문</th>\n",
              "      <th>new_3부문및지역</th>\n",
              "    </tr>\n",
              "  </thead>\n",
              "  <tbody>\n",
              "    <tr>\n",
              "      <th>0</th>\n",
              "      <td>수도권</td>\n",
              "      <td>서울</td>\n",
              "      <td>A</td>\n",
              "      <td>농림수산품</td>\n",
              "      <td>농산품</td>\n",
              "      <td>1</td>\n",
              "      <td>1</td>\n",
              "    </tr>\n",
              "    <tr>\n",
              "      <th>1</th>\n",
              "      <td>수도권</td>\n",
              "      <td>서울</td>\n",
              "      <td>B</td>\n",
              "      <td>광산품</td>\n",
              "      <td>공산품</td>\n",
              "      <td>2</td>\n",
              "      <td>2</td>\n",
              "    </tr>\n",
              "    <tr>\n",
              "      <th>2</th>\n",
              "      <td>수도권</td>\n",
              "      <td>서울</td>\n",
              "      <td>C01</td>\n",
              "      <td>음식료품</td>\n",
              "      <td>공산품</td>\n",
              "      <td>3</td>\n",
              "      <td>2</td>\n",
              "    </tr>\n",
              "    <tr>\n",
              "      <th>3</th>\n",
              "      <td>수도권</td>\n",
              "      <td>서울</td>\n",
              "      <td>C02</td>\n",
              "      <td>섬유 및 가죽제품</td>\n",
              "      <td>공산품</td>\n",
              "      <td>4</td>\n",
              "      <td>2</td>\n",
              "    </tr>\n",
              "    <tr>\n",
              "      <th>4</th>\n",
              "      <td>수도권</td>\n",
              "      <td>서울</td>\n",
              "      <td>C03</td>\n",
              "      <td>목재 및 종이, 인쇄</td>\n",
              "      <td>공산품</td>\n",
              "      <td>5</td>\n",
              "      <td>2</td>\n",
              "    </tr>\n",
              "  </tbody>\n",
              "</table>\n",
              "</div>\n",
              "    <div class=\"colab-df-buttons\">\n",
              "\n",
              "  <div class=\"colab-df-container\">\n",
              "    <button class=\"colab-df-convert\" onclick=\"convertToInteractive('df-0f8777ce-0926-4ef3-ad99-90a3176f2e26')\"\n",
              "            title=\"Convert this dataframe to an interactive table.\"\n",
              "            style=\"display:none;\">\n",
              "\n",
              "  <svg xmlns=\"http://www.w3.org/2000/svg\" height=\"24px\" viewBox=\"0 -960 960 960\">\n",
              "    <path d=\"M120-120v-720h720v720H120Zm60-500h600v-160H180v160Zm220 220h160v-160H400v160Zm0 220h160v-160H400v160ZM180-400h160v-160H180v160Zm440 0h160v-160H620v160ZM180-180h160v-160H180v160Zm440 0h160v-160H620v160Z\"/>\n",
              "  </svg>\n",
              "    </button>\n",
              "\n",
              "  <style>\n",
              "    .colab-df-container {\n",
              "      display:flex;\n",
              "      gap: 12px;\n",
              "    }\n",
              "\n",
              "    .colab-df-convert {\n",
              "      background-color: #E8F0FE;\n",
              "      border: none;\n",
              "      border-radius: 50%;\n",
              "      cursor: pointer;\n",
              "      display: none;\n",
              "      fill: #1967D2;\n",
              "      height: 32px;\n",
              "      padding: 0 0 0 0;\n",
              "      width: 32px;\n",
              "    }\n",
              "\n",
              "    .colab-df-convert:hover {\n",
              "      background-color: #E2EBFA;\n",
              "      box-shadow: 0px 1px 2px rgba(60, 64, 67, 0.3), 0px 1px 3px 1px rgba(60, 64, 67, 0.15);\n",
              "      fill: #174EA6;\n",
              "    }\n",
              "\n",
              "    .colab-df-buttons div {\n",
              "      margin-bottom: 4px;\n",
              "    }\n",
              "\n",
              "    [theme=dark] .colab-df-convert {\n",
              "      background-color: #3B4455;\n",
              "      fill: #D2E3FC;\n",
              "    }\n",
              "\n",
              "    [theme=dark] .colab-df-convert:hover {\n",
              "      background-color: #434B5C;\n",
              "      box-shadow: 0px 1px 3px 1px rgba(0, 0, 0, 0.15);\n",
              "      filter: drop-shadow(0px 1px 2px rgba(0, 0, 0, 0.3));\n",
              "      fill: #FFFFFF;\n",
              "    }\n",
              "  </style>\n",
              "\n",
              "    <script>\n",
              "      const buttonEl =\n",
              "        document.querySelector('#df-0f8777ce-0926-4ef3-ad99-90a3176f2e26 button.colab-df-convert');\n",
              "      buttonEl.style.display =\n",
              "        google.colab.kernel.accessAllowed ? 'block' : 'none';\n",
              "\n",
              "      async function convertToInteractive(key) {\n",
              "        const element = document.querySelector('#df-0f8777ce-0926-4ef3-ad99-90a3176f2e26');\n",
              "        const dataTable =\n",
              "          await google.colab.kernel.invokeFunction('convertToInteractive',\n",
              "                                                    [key], {});\n",
              "        if (!dataTable) return;\n",
              "\n",
              "        const docLinkHtml = 'Like what you see? Visit the ' +\n",
              "          '<a target=\"_blank\" href=https://colab.research.google.com/notebooks/data_table.ipynb>data table notebook</a>'\n",
              "          + ' to learn more about interactive tables.';\n",
              "        element.innerHTML = '';\n",
              "        dataTable['output_type'] = 'display_data';\n",
              "        await google.colab.output.renderOutput(dataTable, element);\n",
              "        const docLink = document.createElement('div');\n",
              "        docLink.innerHTML = docLinkHtml;\n",
              "        element.appendChild(docLink);\n",
              "      }\n",
              "    </script>\n",
              "  </div>\n",
              "\n",
              "\n",
              "<div id=\"df-d9992105-3a2e-4dd9-b073-2fc3d22d48a6\">\n",
              "  <button class=\"colab-df-quickchart\" onclick=\"quickchart('df-d9992105-3a2e-4dd9-b073-2fc3d22d48a6')\"\n",
              "            title=\"Suggest charts\"\n",
              "            style=\"display:none;\">\n",
              "\n",
              "<svg xmlns=\"http://www.w3.org/2000/svg\" height=\"24px\"viewBox=\"0 0 24 24\"\n",
              "     width=\"24px\">\n",
              "    <g>\n",
              "        <path d=\"M19 3H5c-1.1 0-2 .9-2 2v14c0 1.1.9 2 2 2h14c1.1 0 2-.9 2-2V5c0-1.1-.9-2-2-2zM9 17H7v-7h2v7zm4 0h-2V7h2v10zm4 0h-2v-4h2v4z\"/>\n",
              "    </g>\n",
              "</svg>\n",
              "  </button>\n",
              "\n",
              "<style>\n",
              "  .colab-df-quickchart {\n",
              "      --bg-color: #E8F0FE;\n",
              "      --fill-color: #1967D2;\n",
              "      --hover-bg-color: #E2EBFA;\n",
              "      --hover-fill-color: #174EA6;\n",
              "      --disabled-fill-color: #AAA;\n",
              "      --disabled-bg-color: #DDD;\n",
              "  }\n",
              "\n",
              "  [theme=dark] .colab-df-quickchart {\n",
              "      --bg-color: #3B4455;\n",
              "      --fill-color: #D2E3FC;\n",
              "      --hover-bg-color: #434B5C;\n",
              "      --hover-fill-color: #FFFFFF;\n",
              "      --disabled-bg-color: #3B4455;\n",
              "      --disabled-fill-color: #666;\n",
              "  }\n",
              "\n",
              "  .colab-df-quickchart {\n",
              "    background-color: var(--bg-color);\n",
              "    border: none;\n",
              "    border-radius: 50%;\n",
              "    cursor: pointer;\n",
              "    display: none;\n",
              "    fill: var(--fill-color);\n",
              "    height: 32px;\n",
              "    padding: 0;\n",
              "    width: 32px;\n",
              "  }\n",
              "\n",
              "  .colab-df-quickchart:hover {\n",
              "    background-color: var(--hover-bg-color);\n",
              "    box-shadow: 0 1px 2px rgba(60, 64, 67, 0.3), 0 1px 3px 1px rgba(60, 64, 67, 0.15);\n",
              "    fill: var(--button-hover-fill-color);\n",
              "  }\n",
              "\n",
              "  .colab-df-quickchart-complete:disabled,\n",
              "  .colab-df-quickchart-complete:disabled:hover {\n",
              "    background-color: var(--disabled-bg-color);\n",
              "    fill: var(--disabled-fill-color);\n",
              "    box-shadow: none;\n",
              "  }\n",
              "\n",
              "  .colab-df-spinner {\n",
              "    border: 2px solid var(--fill-color);\n",
              "    border-color: transparent;\n",
              "    border-bottom-color: var(--fill-color);\n",
              "    animation:\n",
              "      spin 1s steps(1) infinite;\n",
              "  }\n",
              "\n",
              "  @keyframes spin {\n",
              "    0% {\n",
              "      border-color: transparent;\n",
              "      border-bottom-color: var(--fill-color);\n",
              "      border-left-color: var(--fill-color);\n",
              "    }\n",
              "    20% {\n",
              "      border-color: transparent;\n",
              "      border-left-color: var(--fill-color);\n",
              "      border-top-color: var(--fill-color);\n",
              "    }\n",
              "    30% {\n",
              "      border-color: transparent;\n",
              "      border-left-color: var(--fill-color);\n",
              "      border-top-color: var(--fill-color);\n",
              "      border-right-color: var(--fill-color);\n",
              "    }\n",
              "    40% {\n",
              "      border-color: transparent;\n",
              "      border-right-color: var(--fill-color);\n",
              "      border-top-color: var(--fill-color);\n",
              "    }\n",
              "    60% {\n",
              "      border-color: transparent;\n",
              "      border-right-color: var(--fill-color);\n",
              "    }\n",
              "    80% {\n",
              "      border-color: transparent;\n",
              "      border-right-color: var(--fill-color);\n",
              "      border-bottom-color: var(--fill-color);\n",
              "    }\n",
              "    90% {\n",
              "      border-color: transparent;\n",
              "      border-bottom-color: var(--fill-color);\n",
              "    }\n",
              "  }\n",
              "</style>\n",
              "\n",
              "  <script>\n",
              "    async function quickchart(key) {\n",
              "      const quickchartButtonEl =\n",
              "        document.querySelector('#' + key + ' button');\n",
              "      quickchartButtonEl.disabled = true;  // To prevent multiple clicks.\n",
              "      quickchartButtonEl.classList.add('colab-df-spinner');\n",
              "      try {\n",
              "        const charts = await google.colab.kernel.invokeFunction(\n",
              "            'suggestCharts', [key], {});\n",
              "      } catch (error) {\n",
              "        console.error('Error during call to suggestCharts:', error);\n",
              "      }\n",
              "      quickchartButtonEl.classList.remove('colab-df-spinner');\n",
              "      quickchartButtonEl.classList.add('colab-df-quickchart-complete');\n",
              "    }\n",
              "    (() => {\n",
              "      let quickchartButtonEl =\n",
              "        document.querySelector('#df-d9992105-3a2e-4dd9-b073-2fc3d22d48a6 button');\n",
              "      quickchartButtonEl.style.display =\n",
              "        google.colab.kernel.accessAllowed ? 'block' : 'none';\n",
              "    })();\n",
              "  </script>\n",
              "</div>\n",
              "\n",
              "    </div>\n",
              "  </div>\n"
            ]
          },
          "metadata": {},
          "execution_count": 16
        }
      ]
    },
    {
      "cell_type": "markdown",
      "source": [
        "## 국산거래표 통합하기"
      ],
      "metadata": {
        "id": "3vwObBQ_X-BA"
      }
    },
    {
      "cell_type": "code",
      "source": [
        "Cdr_for_itr = Cdr[[\"old_33부문\", \"new_3부문및지역\"]]\n",
        "Cd_itr = Cdr_for_itr.to_numpy()\n",
        "Cd_itr.shape"
      ],
      "metadata": {
        "colab": {
          "base_uri": "https://localhost:8080/"
        },
        "id": "koVuss6guMLX",
        "outputId": "842d1d5a-734d-47fd-bb16-3d0af7937533"
      },
      "execution_count": 17,
      "outputs": [
        {
          "output_type": "execute_result",
          "data": {
            "text/plain": [
              "(594, 2)"
            ]
          },
          "metadata": {},
          "execution_count": 17
        }
      ]
    },
    {
      "cell_type": "code",
      "source": [
        "Row = Cd_itr[:,1]\n",
        "Col = Cd_itr[:,0]"
      ],
      "metadata": {
        "id": "ZFsrVoy2xQOh"
      },
      "execution_count": 18,
      "outputs": []
    },
    {
      "cell_type": "code",
      "source": [
        "row = cd_itr[:,1]\n",
        "col = cd_itr[:,0]\n",
        "col"
      ],
      "metadata": {
        "colab": {
          "base_uri": "https://localhost:8080/",
          "height": 221
        },
        "id": "PvHQzpU5xQS9",
        "outputId": "6f6f95bf-6c8a-4e04-d8bb-d3f674923f43"
      },
      "execution_count": 19,
      "outputs": [
        {
          "output_type": "error",
          "ename": "NameError",
          "evalue": "ignored",
          "traceback": [
            "\u001b[0;31m---------------------------------------------------------------------------\u001b[0m",
            "\u001b[0;31mNameError\u001b[0m                                 Traceback (most recent call last)",
            "\u001b[0;32m<ipython-input-19-9598d486d842>\u001b[0m in \u001b[0;36m<cell line: 1>\u001b[0;34m()\u001b[0m\n\u001b[0;32m----> 1\u001b[0;31m \u001b[0mrow\u001b[0m \u001b[0;34m=\u001b[0m \u001b[0mcd_itr\u001b[0m\u001b[0;34m[\u001b[0m\u001b[0;34m:\u001b[0m\u001b[0;34m,\u001b[0m\u001b[0;36m1\u001b[0m\u001b[0;34m]\u001b[0m\u001b[0;34m\u001b[0m\u001b[0;34m\u001b[0m\u001b[0m\n\u001b[0m\u001b[1;32m      2\u001b[0m \u001b[0mcol\u001b[0m \u001b[0;34m=\u001b[0m \u001b[0mcd_itr\u001b[0m\u001b[0;34m[\u001b[0m\u001b[0;34m:\u001b[0m\u001b[0;34m,\u001b[0m\u001b[0;36m0\u001b[0m\u001b[0;34m]\u001b[0m\u001b[0;34m\u001b[0m\u001b[0;34m\u001b[0m\u001b[0m\n\u001b[1;32m      3\u001b[0m \u001b[0mcol\u001b[0m\u001b[0;34m\u001b[0m\u001b[0;34m\u001b[0m\u001b[0m\n",
            "\u001b[0;31mNameError\u001b[0m: name 'cd_itr' is not defined"
          ]
        }
      ]
    },
    {
      "cell_type": "code",
      "source": [
        "Mtx = np.zeros((12,594))       # 부문통합을 위한 코드가 많을 경우 상기의 코드를 수작업으로 미리 하는 것이 쉽자 않으므로 반복문을 통해 3x33 임시코드 만들기\n",
        "for i, j in zip(Row,Col):\n",
        "  Mtx[i-1,j-1] = 1\n",
        "print(Mtx)\n",
        "Code_9 = Mtx[:9,:561]"
      ],
      "metadata": {
        "colab": {
          "base_uri": "https://localhost:8080/"
        },
        "id": "54M7TuUPxQXJ",
        "outputId": "f225dc29-2fab-454b-f1cc-163eb0d986fb"
      },
      "execution_count": 20,
      "outputs": [
        {
          "output_type": "stream",
          "name": "stdout",
          "text": [
            "[[1. 0. 0. ... 0. 0. 0.]\n",
            " [0. 1. 1. ... 0. 0. 0.]\n",
            " [0. 0. 0. ... 0. 0. 0.]\n",
            " ...\n",
            " [0. 0. 0. ... 0. 0. 0.]\n",
            " [0. 0. 0. ... 0. 0. 0.]\n",
            " [0. 0. 0. ... 1. 1. 1.]]\n"
          ]
        }
      ]
    },
    {
      "cell_type": "code",
      "source": [
        "Code_9.shape"
      ],
      "metadata": {
        "colab": {
          "base_uri": "https://localhost:8080/"
        },
        "id": "QqpzroGUFUGX",
        "outputId": "36303712-cb71-42d3-eed3-abc21c7b902b"
      },
      "execution_count": 21,
      "outputs": [
        {
          "output_type": "execute_result",
          "data": {
            "text/plain": [
              "(9, 561)"
            ]
          },
          "metadata": {},
          "execution_count": 21
        }
      ]
    },
    {
      "cell_type": "code",
      "source": [
        "Dom_tot = (Code_9@RI_33[:561,:561])@Code_9.T # 국산중간투입(수요)의 행을 권역별 3부문으로 만들기\n",
        "Dom_tot.round(-4)"
      ],
      "metadata": {
        "colab": {
          "base_uri": "https://localhost:8080/"
        },
        "id": "TaBc-2uwxQcH",
        "outputId": "b9b9027f-25f2-4ec1-e22d-8874a355cd8c"
      },
      "execution_count": 27,
      "outputs": [
        {
          "output_type": "execute_result",
          "data": {
            "text/plain": [
              "array([[2.300e+05, 3.120e+06, 9.800e+05, 5.000e+04, 3.600e+05, 1.100e+05,\n",
              "        6.000e+04, 1.250e+06, 1.100e+05],\n",
              "       [1.870e+06, 1.121e+08, 7.111e+07, 7.900e+05, 3.591e+07, 1.391e+07,\n",
              "        1.090e+06, 3.690e+07, 1.293e+07],\n",
              "       [7.800e+05, 7.861e+07, 3.016e+08, 8.500e+05, 2.655e+07, 3.115e+07,\n",
              "        1.150e+06, 2.829e+07, 2.839e+07],\n",
              "       [7.000e+04, 1.360e+06, 2.090e+06, 9.500e+05, 7.310e+06, 2.210e+06,\n",
              "        1.400e+05, 1.840e+06, 4.900e+05],\n",
              "       [2.500e+05, 4.308e+07, 3.842e+07, 3.510e+06, 1.580e+08, 3.975e+07,\n",
              "        1.170e+06, 3.614e+07, 1.269e+07],\n",
              "       [4.000e+04, 3.580e+06, 1.538e+07, 1.900e+06, 5.928e+07, 7.637e+07,\n",
              "        1.600e+05, 3.370e+06, 3.660e+06],\n",
              "       [9.000e+04, 2.240e+06, 2.810e+06, 1.400e+05, 1.480e+06, 8.400e+05,\n",
              "        1.130e+06, 1.186e+07, 1.530e+06],\n",
              "       [4.700e+05, 4.631e+07, 3.964e+07, 1.430e+06, 4.100e+07, 1.519e+07,\n",
              "        5.920e+06, 8.764e+07, 3.129e+07],\n",
              "       [4.000e+04, 3.320e+06, 1.683e+07, 1.000e+05, 2.590e+06, 3.270e+06,\n",
              "        1.860e+06, 4.052e+07, 5.581e+07]])"
            ]
          },
          "metadata": {},
          "execution_count": 27
        }
      ]
    },
    {
      "cell_type": "markdown",
      "source": [
        "### 수입거래표 통합하기"
      ],
      "metadata": {
        "id": "KppLR2bMX3YP"
      }
    },
    {
      "cell_type": "code",
      "source": [
        "Cd_im_rw = \"https://raw.githubusercontent.com/Tom-Jung/IO_with_python/main/data/code.csv\"  # 코드매치 파일\n",
        "Cd_i_rw = pd.read_csv(Cd_im_rw)\n",
        "Cd_ir_itr = Cd_i_rw.to_numpy().reshape(33,2)\n",
        "Row_i = Cd_ir_itr[:,1]\n",
        "Col_i = Cd_ir_itr[:,0]\n",
        "Col_i"
      ],
      "metadata": {
        "colab": {
          "base_uri": "https://localhost:8080/"
        },
        "id": "xXZyF0UpYDGZ",
        "outputId": "d6e80b22-117c-417d-c964-d6520ff3497d"
      },
      "execution_count": 28,
      "outputs": [
        {
          "output_type": "execute_result",
          "data": {
            "text/plain": [
              "array([ 1,  2,  3,  4,  5,  6,  7,  8,  9, 10, 11, 12, 13, 14, 15, 16, 17,\n",
              "       18, 19, 20, 21, 22, 23, 24, 25, 26, 27, 28, 29, 30, 31, 32, 33])"
            ]
          },
          "metadata": {},
          "execution_count": 28
        }
      ]
    },
    {
      "cell_type": "code",
      "source": [
        "Mtx_i = np.zeros((3,33))       # 부문통합을 위한 코드가 많을 경우 상기의 코드를 수작업으로 미리 하는 것이 쉽자 않으므로 반복문을 통해 3x33 임시코드 만들기\n",
        "for i, j in zip(Row_i,Col_i):\n",
        "  Mtx_i[i-1,j-1] = 1\n",
        "Code_3 = Mtx_i\n",
        "Code_3"
      ],
      "metadata": {
        "colab": {
          "base_uri": "https://localhost:8080/"
        },
        "id": "bpzYTa2_YDUN",
        "outputId": "e1c3bdbc-bd53-4f30-b3e9-579eee444343"
      },
      "execution_count": 30,
      "outputs": [
        {
          "output_type": "execute_result",
          "data": {
            "text/plain": [
              "array([[1., 0., 0., 0., 0., 0., 0., 0., 0., 0., 0., 0., 0., 0., 0., 0.,\n",
              "        0., 0., 0., 0., 0., 0., 0., 0., 0., 0., 0., 0., 0., 0., 0., 0.,\n",
              "        0.],\n",
              "       [0., 1., 1., 1., 1., 1., 1., 1., 1., 1., 1., 1., 1., 1., 1., 1.,\n",
              "        0., 0., 0., 0., 0., 0., 0., 0., 0., 0., 0., 0., 0., 0., 0., 0.,\n",
              "        0.],\n",
              "       [0., 0., 0., 0., 0., 0., 0., 0., 0., 0., 0., 0., 0., 0., 0., 0.,\n",
              "        1., 1., 1., 1., 1., 1., 1., 1., 1., 1., 1., 1., 1., 1., 1., 1.,\n",
              "        1.]])"
            ]
          },
          "metadata": {},
          "execution_count": 30
        }
      ]
    },
    {
      "cell_type": "code",
      "source": [
        "Imp_row = (Code_3@RI_33[562:595,0:561])@Code_9.T # 3X18 수입거래표\n",
        "Imp_row.sum()"
      ],
      "metadata": {
        "colab": {
          "base_uri": "https://localhost:8080/"
        },
        "id": "PHhJgNKwW7vb",
        "outputId": "0bc353ae-e3dd-448c-91a3-a399b75ac1d6"
      },
      "execution_count": 31,
      "outputs": [
        {
          "output_type": "execute_result",
          "data": {
            "text/plain": [
              "477242497.0"
            ]
          },
          "metadata": {},
          "execution_count": 31
        }
      ]
    },
    {
      "cell_type": "markdown",
      "source": [
        "### 최종수요 통합하기"
      ],
      "metadata": {
        "id": "mEbcG1fOchKm"
      }
    },
    {
      "cell_type": "code",
      "source": [
        "Cd_fd = \"https://raw.githubusercontent.com/Tom-Jung/IO_with_python/main/data/code_regional_io_fd.csv\"  # 코드매치 파일\n",
        "Cd_fd1 = pd.read_csv(Cd_fd)\n",
        "Cd_fd1.head()\n",
        "# cd_fd2 = cd_fd1.to_numpy()\n",
        "# row_fd = cd_fd2[:,1]\n",
        "# col_fd = cd_fd2[:,0]\n",
        "# row_fd"
      ],
      "metadata": {
        "colab": {
          "base_uri": "https://localhost:8080/",
          "height": 206
        },
        "id": "EgPdo35oW70Z",
        "outputId": "e13bdff8-071e-4dad-fe58-ae8a245fd56d"
      },
      "execution_count": 33,
      "outputs": [
        {
          "output_type": "execute_result",
          "data": {
            "text/plain": [
              "   권역  항목코드                          항목  old_33부문  new_3부문및지역\n",
              "0  서울  9111  민간소비지출\\n(가계 및 가계봉사\\n비영리단체)         1           1\n",
              "1  서울  9112                      정부소비지출         2           1\n",
              "2  서울  9121                  민간고정\\n자본형성         3           2\n",
              "3  서울  9122                  정부고정\\n자본형성         4           2\n",
              "4  서울  9131                        재고증감         5           2"
            ],
            "text/html": [
              "\n",
              "  <div id=\"df-8e1e21d5-dc98-471a-ae53-fcd129ecf7a5\" class=\"colab-df-container\">\n",
              "    <div>\n",
              "<style scoped>\n",
              "    .dataframe tbody tr th:only-of-type {\n",
              "        vertical-align: middle;\n",
              "    }\n",
              "\n",
              "    .dataframe tbody tr th {\n",
              "        vertical-align: top;\n",
              "    }\n",
              "\n",
              "    .dataframe thead th {\n",
              "        text-align: right;\n",
              "    }\n",
              "</style>\n",
              "<table border=\"1\" class=\"dataframe\">\n",
              "  <thead>\n",
              "    <tr style=\"text-align: right;\">\n",
              "      <th></th>\n",
              "      <th>권역</th>\n",
              "      <th>항목코드</th>\n",
              "      <th>항목</th>\n",
              "      <th>old_33부문</th>\n",
              "      <th>new_3부문및지역</th>\n",
              "    </tr>\n",
              "  </thead>\n",
              "  <tbody>\n",
              "    <tr>\n",
              "      <th>0</th>\n",
              "      <td>서울</td>\n",
              "      <td>9111</td>\n",
              "      <td>민간소비지출\\n(가계 및 가계봉사\\n비영리단체)</td>\n",
              "      <td>1</td>\n",
              "      <td>1</td>\n",
              "    </tr>\n",
              "    <tr>\n",
              "      <th>1</th>\n",
              "      <td>서울</td>\n",
              "      <td>9112</td>\n",
              "      <td>정부소비지출</td>\n",
              "      <td>2</td>\n",
              "      <td>1</td>\n",
              "    </tr>\n",
              "    <tr>\n",
              "      <th>2</th>\n",
              "      <td>서울</td>\n",
              "      <td>9121</td>\n",
              "      <td>민간고정\\n자본형성</td>\n",
              "      <td>3</td>\n",
              "      <td>2</td>\n",
              "    </tr>\n",
              "    <tr>\n",
              "      <th>3</th>\n",
              "      <td>서울</td>\n",
              "      <td>9122</td>\n",
              "      <td>정부고정\\n자본형성</td>\n",
              "      <td>4</td>\n",
              "      <td>2</td>\n",
              "    </tr>\n",
              "    <tr>\n",
              "      <th>4</th>\n",
              "      <td>서울</td>\n",
              "      <td>9131</td>\n",
              "      <td>재고증감</td>\n",
              "      <td>5</td>\n",
              "      <td>2</td>\n",
              "    </tr>\n",
              "  </tbody>\n",
              "</table>\n",
              "</div>\n",
              "    <div class=\"colab-df-buttons\">\n",
              "\n",
              "  <div class=\"colab-df-container\">\n",
              "    <button class=\"colab-df-convert\" onclick=\"convertToInteractive('df-8e1e21d5-dc98-471a-ae53-fcd129ecf7a5')\"\n",
              "            title=\"Convert this dataframe to an interactive table.\"\n",
              "            style=\"display:none;\">\n",
              "\n",
              "  <svg xmlns=\"http://www.w3.org/2000/svg\" height=\"24px\" viewBox=\"0 -960 960 960\">\n",
              "    <path d=\"M120-120v-720h720v720H120Zm60-500h600v-160H180v160Zm220 220h160v-160H400v160Zm0 220h160v-160H400v160ZM180-400h160v-160H180v160Zm440 0h160v-160H620v160ZM180-180h160v-160H180v160Zm440 0h160v-160H620v160Z\"/>\n",
              "  </svg>\n",
              "    </button>\n",
              "\n",
              "  <style>\n",
              "    .colab-df-container {\n",
              "      display:flex;\n",
              "      gap: 12px;\n",
              "    }\n",
              "\n",
              "    .colab-df-convert {\n",
              "      background-color: #E8F0FE;\n",
              "      border: none;\n",
              "      border-radius: 50%;\n",
              "      cursor: pointer;\n",
              "      display: none;\n",
              "      fill: #1967D2;\n",
              "      height: 32px;\n",
              "      padding: 0 0 0 0;\n",
              "      width: 32px;\n",
              "    }\n",
              "\n",
              "    .colab-df-convert:hover {\n",
              "      background-color: #E2EBFA;\n",
              "      box-shadow: 0px 1px 2px rgba(60, 64, 67, 0.3), 0px 1px 3px 1px rgba(60, 64, 67, 0.15);\n",
              "      fill: #174EA6;\n",
              "    }\n",
              "\n",
              "    .colab-df-buttons div {\n",
              "      margin-bottom: 4px;\n",
              "    }\n",
              "\n",
              "    [theme=dark] .colab-df-convert {\n",
              "      background-color: #3B4455;\n",
              "      fill: #D2E3FC;\n",
              "    }\n",
              "\n",
              "    [theme=dark] .colab-df-convert:hover {\n",
              "      background-color: #434B5C;\n",
              "      box-shadow: 0px 1px 3px 1px rgba(0, 0, 0, 0.15);\n",
              "      filter: drop-shadow(0px 1px 2px rgba(0, 0, 0, 0.3));\n",
              "      fill: #FFFFFF;\n",
              "    }\n",
              "  </style>\n",
              "\n",
              "    <script>\n",
              "      const buttonEl =\n",
              "        document.querySelector('#df-8e1e21d5-dc98-471a-ae53-fcd129ecf7a5 button.colab-df-convert');\n",
              "      buttonEl.style.display =\n",
              "        google.colab.kernel.accessAllowed ? 'block' : 'none';\n",
              "\n",
              "      async function convertToInteractive(key) {\n",
              "        const element = document.querySelector('#df-8e1e21d5-dc98-471a-ae53-fcd129ecf7a5');\n",
              "        const dataTable =\n",
              "          await google.colab.kernel.invokeFunction('convertToInteractive',\n",
              "                                                    [key], {});\n",
              "        if (!dataTable) return;\n",
              "\n",
              "        const docLinkHtml = 'Like what you see? Visit the ' +\n",
              "          '<a target=\"_blank\" href=https://colab.research.google.com/notebooks/data_table.ipynb>data table notebook</a>'\n",
              "          + ' to learn more about interactive tables.';\n",
              "        element.innerHTML = '';\n",
              "        dataTable['output_type'] = 'display_data';\n",
              "        await google.colab.output.renderOutput(dataTable, element);\n",
              "        const docLink = document.createElement('div');\n",
              "        docLink.innerHTML = docLinkHtml;\n",
              "        element.appendChild(docLink);\n",
              "      }\n",
              "    </script>\n",
              "  </div>\n",
              "\n",
              "\n",
              "<div id=\"df-ef60497d-791b-4fab-a303-080c48c28eb0\">\n",
              "  <button class=\"colab-df-quickchart\" onclick=\"quickchart('df-ef60497d-791b-4fab-a303-080c48c28eb0')\"\n",
              "            title=\"Suggest charts\"\n",
              "            style=\"display:none;\">\n",
              "\n",
              "<svg xmlns=\"http://www.w3.org/2000/svg\" height=\"24px\"viewBox=\"0 0 24 24\"\n",
              "     width=\"24px\">\n",
              "    <g>\n",
              "        <path d=\"M19 3H5c-1.1 0-2 .9-2 2v14c0 1.1.9 2 2 2h14c1.1 0 2-.9 2-2V5c0-1.1-.9-2-2-2zM9 17H7v-7h2v7zm4 0h-2V7h2v10zm4 0h-2v-4h2v4z\"/>\n",
              "    </g>\n",
              "</svg>\n",
              "  </button>\n",
              "\n",
              "<style>\n",
              "  .colab-df-quickchart {\n",
              "      --bg-color: #E8F0FE;\n",
              "      --fill-color: #1967D2;\n",
              "      --hover-bg-color: #E2EBFA;\n",
              "      --hover-fill-color: #174EA6;\n",
              "      --disabled-fill-color: #AAA;\n",
              "      --disabled-bg-color: #DDD;\n",
              "  }\n",
              "\n",
              "  [theme=dark] .colab-df-quickchart {\n",
              "      --bg-color: #3B4455;\n",
              "      --fill-color: #D2E3FC;\n",
              "      --hover-bg-color: #434B5C;\n",
              "      --hover-fill-color: #FFFFFF;\n",
              "      --disabled-bg-color: #3B4455;\n",
              "      --disabled-fill-color: #666;\n",
              "  }\n",
              "\n",
              "  .colab-df-quickchart {\n",
              "    background-color: var(--bg-color);\n",
              "    border: none;\n",
              "    border-radius: 50%;\n",
              "    cursor: pointer;\n",
              "    display: none;\n",
              "    fill: var(--fill-color);\n",
              "    height: 32px;\n",
              "    padding: 0;\n",
              "    width: 32px;\n",
              "  }\n",
              "\n",
              "  .colab-df-quickchart:hover {\n",
              "    background-color: var(--hover-bg-color);\n",
              "    box-shadow: 0 1px 2px rgba(60, 64, 67, 0.3), 0 1px 3px 1px rgba(60, 64, 67, 0.15);\n",
              "    fill: var(--button-hover-fill-color);\n",
              "  }\n",
              "\n",
              "  .colab-df-quickchart-complete:disabled,\n",
              "  .colab-df-quickchart-complete:disabled:hover {\n",
              "    background-color: var(--disabled-bg-color);\n",
              "    fill: var(--disabled-fill-color);\n",
              "    box-shadow: none;\n",
              "  }\n",
              "\n",
              "  .colab-df-spinner {\n",
              "    border: 2px solid var(--fill-color);\n",
              "    border-color: transparent;\n",
              "    border-bottom-color: var(--fill-color);\n",
              "    animation:\n",
              "      spin 1s steps(1) infinite;\n",
              "  }\n",
              "\n",
              "  @keyframes spin {\n",
              "    0% {\n",
              "      border-color: transparent;\n",
              "      border-bottom-color: var(--fill-color);\n",
              "      border-left-color: var(--fill-color);\n",
              "    }\n",
              "    20% {\n",
              "      border-color: transparent;\n",
              "      border-left-color: var(--fill-color);\n",
              "      border-top-color: var(--fill-color);\n",
              "    }\n",
              "    30% {\n",
              "      border-color: transparent;\n",
              "      border-left-color: var(--fill-color);\n",
              "      border-top-color: var(--fill-color);\n",
              "      border-right-color: var(--fill-color);\n",
              "    }\n",
              "    40% {\n",
              "      border-color: transparent;\n",
              "      border-right-color: var(--fill-color);\n",
              "      border-top-color: var(--fill-color);\n",
              "    }\n",
              "    60% {\n",
              "      border-color: transparent;\n",
              "      border-right-color: var(--fill-color);\n",
              "    }\n",
              "    80% {\n",
              "      border-color: transparent;\n",
              "      border-right-color: var(--fill-color);\n",
              "      border-bottom-color: var(--fill-color);\n",
              "    }\n",
              "    90% {\n",
              "      border-color: transparent;\n",
              "      border-bottom-color: var(--fill-color);\n",
              "    }\n",
              "  }\n",
              "</style>\n",
              "\n",
              "  <script>\n",
              "    async function quickchart(key) {\n",
              "      const quickchartButtonEl =\n",
              "        document.querySelector('#' + key + ' button');\n",
              "      quickchartButtonEl.disabled = true;  // To prevent multiple clicks.\n",
              "      quickchartButtonEl.classList.add('colab-df-spinner');\n",
              "      try {\n",
              "        const charts = await google.colab.kernel.invokeFunction(\n",
              "            'suggestCharts', [key], {});\n",
              "      } catch (error) {\n",
              "        console.error('Error during call to suggestCharts:', error);\n",
              "      }\n",
              "      quickchartButtonEl.classList.remove('colab-df-spinner');\n",
              "      quickchartButtonEl.classList.add('colab-df-quickchart-complete');\n",
              "    }\n",
              "    (() => {\n",
              "      let quickchartButtonEl =\n",
              "        document.querySelector('#df-ef60497d-791b-4fab-a303-080c48c28eb0 button');\n",
              "      quickchartButtonEl.style.display =\n",
              "        google.colab.kernel.accessAllowed ? 'block' : 'none';\n",
              "    })();\n",
              "  </script>\n",
              "</div>\n",
              "\n",
              "    </div>\n",
              "  </div>\n"
            ]
          },
          "metadata": {},
          "execution_count": 33
        }
      ]
    },
    {
      "cell_type": "code",
      "source": [
        "Cd_fd2 = Cd_fd1[[\"old_33부문\", \"new_3부문및지역\"]]\n",
        "Cd_fd2.head()\n"
      ],
      "metadata": {
        "colab": {
          "base_uri": "https://localhost:8080/",
          "height": 206
        },
        "id": "M4kJl177dZwE",
        "outputId": "178e16eb-d127-439f-ecc5-225569354e1e"
      },
      "execution_count": 34,
      "outputs": [
        {
          "output_type": "execute_result",
          "data": {
            "text/plain": [
              "   old_33부문  new_3부문및지역\n",
              "0         1           1\n",
              "1         2           1\n",
              "2         3           2\n",
              "3         4           2\n",
              "4         5           2"
            ],
            "text/html": [
              "\n",
              "  <div id=\"df-82dca988-ae26-4a1a-a32e-56c7c982fcd3\" class=\"colab-df-container\">\n",
              "    <div>\n",
              "<style scoped>\n",
              "    .dataframe tbody tr th:only-of-type {\n",
              "        vertical-align: middle;\n",
              "    }\n",
              "\n",
              "    .dataframe tbody tr th {\n",
              "        vertical-align: top;\n",
              "    }\n",
              "\n",
              "    .dataframe thead th {\n",
              "        text-align: right;\n",
              "    }\n",
              "</style>\n",
              "<table border=\"1\" class=\"dataframe\">\n",
              "  <thead>\n",
              "    <tr style=\"text-align: right;\">\n",
              "      <th></th>\n",
              "      <th>old_33부문</th>\n",
              "      <th>new_3부문및지역</th>\n",
              "    </tr>\n",
              "  </thead>\n",
              "  <tbody>\n",
              "    <tr>\n",
              "      <th>0</th>\n",
              "      <td>1</td>\n",
              "      <td>1</td>\n",
              "    </tr>\n",
              "    <tr>\n",
              "      <th>1</th>\n",
              "      <td>2</td>\n",
              "      <td>1</td>\n",
              "    </tr>\n",
              "    <tr>\n",
              "      <th>2</th>\n",
              "      <td>3</td>\n",
              "      <td>2</td>\n",
              "    </tr>\n",
              "    <tr>\n",
              "      <th>3</th>\n",
              "      <td>4</td>\n",
              "      <td>2</td>\n",
              "    </tr>\n",
              "    <tr>\n",
              "      <th>4</th>\n",
              "      <td>5</td>\n",
              "      <td>2</td>\n",
              "    </tr>\n",
              "  </tbody>\n",
              "</table>\n",
              "</div>\n",
              "    <div class=\"colab-df-buttons\">\n",
              "\n",
              "  <div class=\"colab-df-container\">\n",
              "    <button class=\"colab-df-convert\" onclick=\"convertToInteractive('df-82dca988-ae26-4a1a-a32e-56c7c982fcd3')\"\n",
              "            title=\"Convert this dataframe to an interactive table.\"\n",
              "            style=\"display:none;\">\n",
              "\n",
              "  <svg xmlns=\"http://www.w3.org/2000/svg\" height=\"24px\" viewBox=\"0 -960 960 960\">\n",
              "    <path d=\"M120-120v-720h720v720H120Zm60-500h600v-160H180v160Zm220 220h160v-160H400v160Zm0 220h160v-160H400v160ZM180-400h160v-160H180v160Zm440 0h160v-160H620v160ZM180-180h160v-160H180v160Zm440 0h160v-160H620v160Z\"/>\n",
              "  </svg>\n",
              "    </button>\n",
              "\n",
              "  <style>\n",
              "    .colab-df-container {\n",
              "      display:flex;\n",
              "      gap: 12px;\n",
              "    }\n",
              "\n",
              "    .colab-df-convert {\n",
              "      background-color: #E8F0FE;\n",
              "      border: none;\n",
              "      border-radius: 50%;\n",
              "      cursor: pointer;\n",
              "      display: none;\n",
              "      fill: #1967D2;\n",
              "      height: 32px;\n",
              "      padding: 0 0 0 0;\n",
              "      width: 32px;\n",
              "    }\n",
              "\n",
              "    .colab-df-convert:hover {\n",
              "      background-color: #E2EBFA;\n",
              "      box-shadow: 0px 1px 2px rgba(60, 64, 67, 0.3), 0px 1px 3px 1px rgba(60, 64, 67, 0.15);\n",
              "      fill: #174EA6;\n",
              "    }\n",
              "\n",
              "    .colab-df-buttons div {\n",
              "      margin-bottom: 4px;\n",
              "    }\n",
              "\n",
              "    [theme=dark] .colab-df-convert {\n",
              "      background-color: #3B4455;\n",
              "      fill: #D2E3FC;\n",
              "    }\n",
              "\n",
              "    [theme=dark] .colab-df-convert:hover {\n",
              "      background-color: #434B5C;\n",
              "      box-shadow: 0px 1px 3px 1px rgba(0, 0, 0, 0.15);\n",
              "      filter: drop-shadow(0px 1px 2px rgba(0, 0, 0, 0.3));\n",
              "      fill: #FFFFFF;\n",
              "    }\n",
              "  </style>\n",
              "\n",
              "    <script>\n",
              "      const buttonEl =\n",
              "        document.querySelector('#df-82dca988-ae26-4a1a-a32e-56c7c982fcd3 button.colab-df-convert');\n",
              "      buttonEl.style.display =\n",
              "        google.colab.kernel.accessAllowed ? 'block' : 'none';\n",
              "\n",
              "      async function convertToInteractive(key) {\n",
              "        const element = document.querySelector('#df-82dca988-ae26-4a1a-a32e-56c7c982fcd3');\n",
              "        const dataTable =\n",
              "          await google.colab.kernel.invokeFunction('convertToInteractive',\n",
              "                                                    [key], {});\n",
              "        if (!dataTable) return;\n",
              "\n",
              "        const docLinkHtml = 'Like what you see? Visit the ' +\n",
              "          '<a target=\"_blank\" href=https://colab.research.google.com/notebooks/data_table.ipynb>data table notebook</a>'\n",
              "          + ' to learn more about interactive tables.';\n",
              "        element.innerHTML = '';\n",
              "        dataTable['output_type'] = 'display_data';\n",
              "        await google.colab.output.renderOutput(dataTable, element);\n",
              "        const docLink = document.createElement('div');\n",
              "        docLink.innerHTML = docLinkHtml;\n",
              "        element.appendChild(docLink);\n",
              "      }\n",
              "    </script>\n",
              "  </div>\n",
              "\n",
              "\n",
              "<div id=\"df-7e6d7641-6147-4483-85df-24ce519b714a\">\n",
              "  <button class=\"colab-df-quickchart\" onclick=\"quickchart('df-7e6d7641-6147-4483-85df-24ce519b714a')\"\n",
              "            title=\"Suggest charts\"\n",
              "            style=\"display:none;\">\n",
              "\n",
              "<svg xmlns=\"http://www.w3.org/2000/svg\" height=\"24px\"viewBox=\"0 0 24 24\"\n",
              "     width=\"24px\">\n",
              "    <g>\n",
              "        <path d=\"M19 3H5c-1.1 0-2 .9-2 2v14c0 1.1.9 2 2 2h14c1.1 0 2-.9 2-2V5c0-1.1-.9-2-2-2zM9 17H7v-7h2v7zm4 0h-2V7h2v10zm4 0h-2v-4h2v4z\"/>\n",
              "    </g>\n",
              "</svg>\n",
              "  </button>\n",
              "\n",
              "<style>\n",
              "  .colab-df-quickchart {\n",
              "      --bg-color: #E8F0FE;\n",
              "      --fill-color: #1967D2;\n",
              "      --hover-bg-color: #E2EBFA;\n",
              "      --hover-fill-color: #174EA6;\n",
              "      --disabled-fill-color: #AAA;\n",
              "      --disabled-bg-color: #DDD;\n",
              "  }\n",
              "\n",
              "  [theme=dark] .colab-df-quickchart {\n",
              "      --bg-color: #3B4455;\n",
              "      --fill-color: #D2E3FC;\n",
              "      --hover-bg-color: #434B5C;\n",
              "      --hover-fill-color: #FFFFFF;\n",
              "      --disabled-bg-color: #3B4455;\n",
              "      --disabled-fill-color: #666;\n",
              "  }\n",
              "\n",
              "  .colab-df-quickchart {\n",
              "    background-color: var(--bg-color);\n",
              "    border: none;\n",
              "    border-radius: 50%;\n",
              "    cursor: pointer;\n",
              "    display: none;\n",
              "    fill: var(--fill-color);\n",
              "    height: 32px;\n",
              "    padding: 0;\n",
              "    width: 32px;\n",
              "  }\n",
              "\n",
              "  .colab-df-quickchart:hover {\n",
              "    background-color: var(--hover-bg-color);\n",
              "    box-shadow: 0 1px 2px rgba(60, 64, 67, 0.3), 0 1px 3px 1px rgba(60, 64, 67, 0.15);\n",
              "    fill: var(--button-hover-fill-color);\n",
              "  }\n",
              "\n",
              "  .colab-df-quickchart-complete:disabled,\n",
              "  .colab-df-quickchart-complete:disabled:hover {\n",
              "    background-color: var(--disabled-bg-color);\n",
              "    fill: var(--disabled-fill-color);\n",
              "    box-shadow: none;\n",
              "  }\n",
              "\n",
              "  .colab-df-spinner {\n",
              "    border: 2px solid var(--fill-color);\n",
              "    border-color: transparent;\n",
              "    border-bottom-color: var(--fill-color);\n",
              "    animation:\n",
              "      spin 1s steps(1) infinite;\n",
              "  }\n",
              "\n",
              "  @keyframes spin {\n",
              "    0% {\n",
              "      border-color: transparent;\n",
              "      border-bottom-color: var(--fill-color);\n",
              "      border-left-color: var(--fill-color);\n",
              "    }\n",
              "    20% {\n",
              "      border-color: transparent;\n",
              "      border-left-color: var(--fill-color);\n",
              "      border-top-color: var(--fill-color);\n",
              "    }\n",
              "    30% {\n",
              "      border-color: transparent;\n",
              "      border-left-color: var(--fill-color);\n",
              "      border-top-color: var(--fill-color);\n",
              "      border-right-color: var(--fill-color);\n",
              "    }\n",
              "    40% {\n",
              "      border-color: transparent;\n",
              "      border-right-color: var(--fill-color);\n",
              "      border-top-color: var(--fill-color);\n",
              "    }\n",
              "    60% {\n",
              "      border-color: transparent;\n",
              "      border-right-color: var(--fill-color);\n",
              "    }\n",
              "    80% {\n",
              "      border-color: transparent;\n",
              "      border-right-color: var(--fill-color);\n",
              "      border-bottom-color: var(--fill-color);\n",
              "    }\n",
              "    90% {\n",
              "      border-color: transparent;\n",
              "      border-bottom-color: var(--fill-color);\n",
              "    }\n",
              "  }\n",
              "</style>\n",
              "\n",
              "  <script>\n",
              "    async function quickchart(key) {\n",
              "      const quickchartButtonEl =\n",
              "        document.querySelector('#' + key + ' button');\n",
              "      quickchartButtonEl.disabled = true;  // To prevent multiple clicks.\n",
              "      quickchartButtonEl.classList.add('colab-df-spinner');\n",
              "      try {\n",
              "        const charts = await google.colab.kernel.invokeFunction(\n",
              "            'suggestCharts', [key], {});\n",
              "      } catch (error) {\n",
              "        console.error('Error during call to suggestCharts:', error);\n",
              "      }\n",
              "      quickchartButtonEl.classList.remove('colab-df-spinner');\n",
              "      quickchartButtonEl.classList.add('colab-df-quickchart-complete');\n",
              "    }\n",
              "    (() => {\n",
              "      let quickchartButtonEl =\n",
              "        document.querySelector('#df-7e6d7641-6147-4483-85df-24ce519b714a button');\n",
              "      quickchartButtonEl.style.display =\n",
              "        google.colab.kernel.accessAllowed ? 'block' : 'none';\n",
              "    })();\n",
              "  </script>\n",
              "</div>\n",
              "\n",
              "    </div>\n",
              "  </div>\n"
            ]
          },
          "metadata": {},
          "execution_count": 34
        }
      ]
    },
    {
      "cell_type": "code",
      "source": [
        "Cd_fd3 = Cd_fd2.to_numpy()\n",
        "Cd_fd3.shape"
      ],
      "metadata": {
        "colab": {
          "base_uri": "https://localhost:8080/"
        },
        "id": "VVbArAZidZ4c",
        "outputId": "1cf7e9d6-8c56-46fc-ddcd-789af7a24ca6"
      },
      "execution_count": 35,
      "outputs": [
        {
          "output_type": "execute_result",
          "data": {
            "text/plain": [
              "(119, 2)"
            ]
          },
          "metadata": {},
          "execution_count": 35
        }
      ]
    },
    {
      "cell_type": "code",
      "source": [
        "Row_fd = Cd_fd3[:,1]\n",
        "Col_fd = Cd_fd3[:,0]\n",
        "Rol_fd"
      ],
      "metadata": {
        "colab": {
          "base_uri": "https://localhost:8080/"
        },
        "id": "35qjdfaydZ9V",
        "outputId": "5472d766-0aa5-4c62-8e95-8aa58718452a"
      },
      "execution_count": 38,
      "outputs": [
        {
          "output_type": "execute_result",
          "data": {
            "text/plain": [
              "array([  1,   2,   3,   4,   5,   6,   7,   8,   9,  10,  11,  12,  13,\n",
              "        14,  15,  16,  17,  18,  19,  20,  21,  22,  23,  24,  25,  26,\n",
              "        27,  28,  29,  30,  31,  32,  33,  34,  35,  36,  37,  38,  39,\n",
              "        40,  41,  42,  43,  44,  45,  46,  47,  48,  49,  50,  51,  52,\n",
              "        53,  54,  55,  56,  57,  58,  59,  60,  61,  62,  63,  64,  65,\n",
              "        66,  67,  68,  69,  70,  71,  72,  73,  74,  75,  76,  77,  78,\n",
              "        79,  80,  81,  82,  83,  84,  85,  86,  87,  88,  89,  90,  91,\n",
              "        92,  93,  94,  95,  96,  97,  98,  99, 100, 101, 102, 103, 104,\n",
              "       105, 106, 107, 108, 109, 110, 111, 112, 113, 114, 115, 116, 117,\n",
              "       118, 119])"
            ]
          },
          "metadata": {},
          "execution_count": 38
        }
      ]
    },
    {
      "cell_type": "code",
      "source": [
        "Mtx_fd = np.zeros((9,119))       # 7가지 최종수요 항목을 소비, 투자, 수출로 통합\n",
        "for i, j in zip(Row_fd,Col_fd):\n",
        "  Mtx_fd[i-1,j-1] = 1\n",
        "print(Mtx_fd)\n",
        "Code_fd_9 = Mtx_fd[:9,:119]\n",
        "print(Code_fd_9.shape)"
      ],
      "metadata": {
        "colab": {
          "base_uri": "https://localhost:8080/"
        },
        "id": "JFEd7h1tdaBH",
        "outputId": "b37bf8c4-c6fc-4dbb-83d3-62a3f36efe80"
      },
      "execution_count": 39,
      "outputs": [
        {
          "output_type": "stream",
          "name": "stdout",
          "text": [
            "[[1. 1. 0. ... 0. 0. 0.]\n",
            " [0. 0. 1. ... 0. 0. 0.]\n",
            " [0. 0. 0. ... 0. 0. 0.]\n",
            " ...\n",
            " [0. 0. 0. ... 0. 0. 0.]\n",
            " [0. 0. 0. ... 1. 1. 0.]\n",
            " [0. 0. 0. ... 0. 0. 1.]]\n",
            "(9, 119)\n"
          ]
        }
      ]
    },
    {
      "cell_type": "code",
      "source": [
        "Fd_dom = RI_33[:561,562:681].astype(float)\n",
        "Fd_imp = RI_33[562:595,562:681].astype(float)\n",
        "print(Fd_dom.sum())\n",
        "print(Fd_imp.sum())\n",
        "print(Fd_dom.shape)"
      ],
      "metadata": {
        "colab": {
          "base_uri": "https://localhost:8080/"
        },
        "id": "JKWincbTdaEq",
        "outputId": "e00054de-5045-426b-da61-16e254b1d39d"
      },
      "execution_count": null,
      "outputs": [
        {
          "output_type": "stream",
          "name": "stdout",
          "text": [
            "2114693165.0\n",
            "146759866.0\n",
            "(561, 119)\n"
          ]
        }
      ]
    },
    {
      "cell_type": "code",
      "source": [
        "Fd_dom_3 = (code_9@Fd_dom)@code_fd_9.T\n",
        "Fd_dom_3.shape"
      ],
      "metadata": {
        "colab": {
          "base_uri": "https://localhost:8080/"
        },
        "id": "y6l3Eu_IpEBZ",
        "outputId": "3e015656-b55f-45e7-a4eb-1c0abf9069d1"
      },
      "execution_count": null,
      "outputs": [
        {
          "output_type": "execute_result",
          "data": {
            "text/plain": [
              "(9, 9)"
            ]
          },
          "metadata": {},
          "execution_count": 24
        }
      ]
    },
    {
      "cell_type": "code",
      "source": [
        "Fd_imp_3 = (code_3@Fd_imp)@code_fd_9.T\n",
        "Fd_imp_3.shape"
      ],
      "metadata": {
        "colab": {
          "base_uri": "https://localhost:8080/"
        },
        "id": "o4_7_IjwdaKA",
        "outputId": "f844fbf7-acc3-4d7d-f17a-ae67b334e75f"
      },
      "execution_count": null,
      "outputs": [
        {
          "output_type": "execute_result",
          "data": {
            "text/plain": [
              "(3, 9)"
            ]
          },
          "metadata": {},
          "execution_count": 25
        }
      ]
    },
    {
      "cell_type": "code",
      "source": [
        "print(Fd_dom_3.sum())\n",
        "print(Fd_imp_3.sum())"
      ],
      "metadata": {
        "colab": {
          "base_uri": "https://localhost:8080/"
        },
        "id": "QC54ZCNh1d3P",
        "outputId": "a51d8f6d-7b8c-40b3-d718-7b45db5c5916"
      },
      "execution_count": null,
      "outputs": [
        {
          "output_type": "stream",
          "name": "stdout",
          "text": [
            "2114693164.9999998\n",
            "146759866.0\n"
          ]
        }
      ]
    },
    {
      "cell_type": "code",
      "source": [
        "fd_col_sm= (RI_33[596,562:681]@code_fd_9.T).reshape([1,9]) # 국산 및 수입최종수요 열합\n",
        "fd_col_sm.sum()"
      ],
      "metadata": {
        "colab": {
          "base_uri": "https://localhost:8080/"
        },
        "id": "Cg0av2sVv_wK",
        "outputId": "5c61e2ff-494a-4812-a98e-43f4e4456a50"
      },
      "execution_count": null,
      "outputs": [
        {
          "output_type": "execute_result",
          "data": {
            "text/plain": [
              "2261453031.0"
            ]
          },
          "metadata": {},
          "execution_count": 27
        }
      ]
    },
    {
      "cell_type": "code",
      "source": [
        "fd_each = np.concatenate((Fd_dom_3, Fd_imp_3,fd_col_sm, np.zeros((6,9))), axis=0) # 각 지역의 최종수요와 아래에 0 붙이기\n",
        "print(fd_each)"
      ],
      "metadata": {
        "colab": {
          "base_uri": "https://localhost:8080/"
        },
        "id": "WzCZofQ0wq0n",
        "outputId": "2584ce8d-f338-4b6a-d444-562bf716703d"
      },
      "execution_count": null,
      "outputs": [
        {
          "output_type": "stream",
          "name": "stdout",
          "text": [
            "[[ 1.167e+06  1.027e+05  7.995e+04  1.420e+05  1.454e+04  0.000e+00\n",
            "   1.654e+05  2.002e+04  0.000e+00]\n",
            " [ 2.903e+07  2.085e+07  2.146e+08  9.195e+06  6.175e+06  0.000e+00\n",
            "   7.340e+06  7.726e+06  0.000e+00]\n",
            " [ 3.874e+08  1.641e+08  6.726e+07  3.299e+07  1.256e+07  0.000e+00\n",
            "   3.095e+07  1.108e+07  0.000e+00]\n",
            " [ 2.558e+06  5.288e+04  0.000e+00  2.663e+06  5.903e+05  2.697e+05\n",
            "   8.104e+05  4.371e+04  0.000e+00]\n",
            " [ 1.992e+07  1.454e+07  0.000e+00  1.928e+07  1.120e+07  2.264e+08\n",
            "   7.388e+06  6.960e+06  0.000e+00]\n",
            " [ 1.098e+07  2.334e+06  0.000e+00  1.938e+08  7.650e+07  2.590e+07\n",
            "   4.905e+06  1.221e+06  0.000e+00]\n",
            " [ 3.334e+06  7.310e+04  0.000e+00  1.128e+06  6.231e+04  0.000e+00\n",
            "   2.182e+06  7.134e+05  3.375e+05]\n",
            " [ 1.491e+07  8.830e+06  0.000e+00  6.780e+06  3.720e+06  0.000e+00\n",
            "   1.529e+07  4.848e+06  1.676e+08]\n",
            " [ 1.489e+07  3.562e+06  0.000e+00  5.371e+06  5.790e+05  0.000e+00\n",
            "   1.459e+08  7.102e+07  1.236e+07]\n",
            " [ 1.457e+06  9.226e+03  0.000e+00  7.629e+05 -1.711e+04  0.000e+00\n",
            "   6.396e+05 -9.832e+03  0.000e+00]\n",
            " [ 2.704e+07  2.885e+07  1.771e+06  1.470e+07  1.154e+07  1.068e+05\n",
            "   1.140e+07  1.301e+07  2.481e+05]\n",
            " [ 1.460e+07  5.010e+06  0.000e+00  6.885e+06  8.505e+05  0.000e+00\n",
            "   7.014e+06  8.923e+05  0.000e+00]\n",
            " [ 5.272e+08  2.483e+08  2.837e+08  2.937e+08  1.238e+08  2.527e+08\n",
            "   2.340e+08  1.175e+08  1.805e+08]\n",
            " [ 0.000e+00  0.000e+00  0.000e+00  0.000e+00  0.000e+00  0.000e+00\n",
            "   0.000e+00  0.000e+00  0.000e+00]\n",
            " [ 0.000e+00  0.000e+00  0.000e+00  0.000e+00  0.000e+00  0.000e+00\n",
            "   0.000e+00  0.000e+00  0.000e+00]\n",
            " [ 0.000e+00  0.000e+00  0.000e+00  0.000e+00  0.000e+00  0.000e+00\n",
            "   0.000e+00  0.000e+00  0.000e+00]\n",
            " [ 0.000e+00  0.000e+00  0.000e+00  0.000e+00  0.000e+00  0.000e+00\n",
            "   0.000e+00  0.000e+00  0.000e+00]\n",
            " [ 0.000e+00  0.000e+00  0.000e+00  0.000e+00  0.000e+00  0.000e+00\n",
            "   0.000e+00  0.000e+00  0.000e+00]\n",
            " [ 0.000e+00  0.000e+00  0.000e+00  0.000e+00  0.000e+00  0.000e+00\n",
            "   0.000e+00  0.000e+00  0.000e+00]]\n"
          ]
        }
      ]
    },
    {
      "cell_type": "code",
      "source": [
        "fd_tot_sm = fd_each.sum(axis=1).reshape([19,1])"
      ],
      "metadata": {
        "id": "ZUO77SYW35BX"
      },
      "execution_count": null,
      "outputs": []
    },
    {
      "cell_type": "markdown",
      "source": [
        "##부가가치 통합하기"
      ],
      "metadata": {
        "id": "PJT4t1cPs2lc"
      }
    },
    {
      "cell_type": "code",
      "source": [
        "vact = RI_33[596:,:561]  # 부가가치 및 산출액\n",
        "vact"
      ],
      "metadata": {
        "colab": {
          "base_uri": "https://localhost:8080/"
        },
        "id": "AXi5YhsZtKZv",
        "outputId": "04337e69-96bd-4d84-d58c-8c70a29d47c2"
      },
      "execution_count": null,
      "outputs": [
        {
          "output_type": "execute_result",
          "data": {
            "text/plain": [
              "array([[  28585.,    3634., 1695333., ...,  612973.,  310224.,   46129.],\n",
              "       [  11062.,    1168.,  286576., ...,  277510.,  186723.,       0.],\n",
              "       [  41299.,    1902.,   84735., ...,  169252.,   57232.,       0.],\n",
              "       ...,\n",
              "       [   1913.,      41.,  103553., ...,  135051.,   27509.,       0.],\n",
              "       [  59846.,    3768.,  594194., ...,  736637.,  296313.,       0.],\n",
              "       [  88431.,    7402., 2289527., ..., 1349610.,  606537.,   46129.]])"
            ]
          },
          "metadata": {},
          "execution_count": 30
        }
      ]
    },
    {
      "cell_type": "code",
      "source": [
        "vact_3 = vact@code_9.T  # 3부문 부가가치\n",
        "vact_3.sum()"
      ],
      "metadata": {
        "colab": {
          "base_uri": "https://localhost:8080/"
        },
        "id": "GhNDg2XKW76V",
        "outputId": "82c36084-278c-45a3-d60b-29bb74f2472d"
      },
      "execution_count": null,
      "outputs": [
        {
          "output_type": "execute_result",
          "data": {
            "text/plain": [
              "9304574828.0"
            ]
          },
          "metadata": {},
          "execution_count": 31
        }
      ]
    },
    {
      "cell_type": "code",
      "source": [
        "dom_tot.shape"
      ],
      "metadata": {
        "id": "qlM__ZLGPhFV",
        "outputId": "cd2e2f8d-c75d-4bb7-8626-2de2e01ff276",
        "colab": {
          "base_uri": "https://localhost:8080/"
        }
      },
      "execution_count": null,
      "outputs": [
        {
          "output_type": "execute_result",
          "data": {
            "text/plain": [
              "(9, 9)"
            ]
          },
          "metadata": {},
          "execution_count": 32
        }
      ]
    },
    {
      "cell_type": "code",
      "source": [
        "imp_row.shape"
      ],
      "metadata": {
        "id": "MmBDa_xkPk66",
        "outputId": "9ae9ece5-4878-4566-a69f-07c2ffcef16d",
        "colab": {
          "base_uri": "https://localhost:8080/"
        }
      },
      "execution_count": null,
      "outputs": [
        {
          "output_type": "execute_result",
          "data": {
            "text/plain": [
              "(3, 9)"
            ]
          },
          "metadata": {},
          "execution_count": 33
        }
      ]
    },
    {
      "cell_type": "code",
      "source": [
        "nae_tot = np.concatenate((dom_tot, imp_row, vact_3)) # 중간투입(수요)와 부가가치 및 산출액 합치기\n",
        "nae_tot.shape"
      ],
      "metadata": {
        "colab": {
          "base_uri": "https://localhost:8080/"
        },
        "id": "I28cWl3PW7_g",
        "outputId": "8f63c736-ad0c-46cf-8a2b-c8fb6c053230"
      },
      "execution_count": null,
      "outputs": [
        {
          "output_type": "execute_result",
          "data": {
            "text/plain": [
              "(19, 9)"
            ]
          },
          "metadata": {},
          "execution_count": 34
        }
      ]
    },
    {
      "cell_type": "code",
      "source": [
        "nae_tot.shape"
      ],
      "metadata": {
        "id": "fxjAwM7uR-uY",
        "outputId": "b9a10bc6-036a-460f-a8ad-27fc8f548bc6",
        "colab": {
          "base_uri": "https://localhost:8080/"
        }
      },
      "execution_count": null,
      "outputs": [
        {
          "output_type": "execute_result",
          "data": {
            "text/plain": [
              "(19, 9)"
            ]
          },
          "metadata": {},
          "execution_count": 35
        }
      ]
    },
    {
      "cell_type": "code",
      "source": [
        "tot_row_sm= nae_tot.sum(axis=1).reshape([19,1])\n",
        "tot_row_sm.sum()"
      ],
      "metadata": {
        "colab": {
          "base_uri": "https://localhost:8080/"
        },
        "id": "Q6mjOFXPW8DS",
        "outputId": "cafaa970-cf4e-4c33-9884-e60d327bb82a"
      },
      "execution_count": null,
      "outputs": [
        {
          "output_type": "execute_result",
          "data": {
            "text/plain": [
              "11500686239.99995"
            ]
          },
          "metadata": {},
          "execution_count": 36
        }
      ]
    },
    {
      "cell_type": "code",
      "source": [
        "tot_dm = tot_row_sm + fd_tot_sm  # 총수요 = 중간수요계+최종수요계"
      ],
      "metadata": {
        "id": "ZjGjbdmU0rQN"
      },
      "execution_count": null,
      "outputs": []
    },
    {
      "cell_type": "code",
      "source": [
        "Tot_rg = np.concatenate((nae_tot,tot_row_sm,fd_each, fd_tot_sm,tot_dm), axis=1)"
      ],
      "metadata": {
        "id": "3llcCme007jv"
      },
      "execution_count": null,
      "outputs": []
    },
    {
      "cell_type": "code",
      "source": [
        "Mt = (Tot_rg/1000000).round(0)\n",
        "Mt.shape"
      ],
      "metadata": {
        "colab": {
          "base_uri": "https://localhost:8080/"
        },
        "id": "NEKwUstZW8IQ",
        "outputId": "9cf6c915-5e12-4626-b16b-575834a9e7a0"
      },
      "execution_count": null,
      "outputs": [
        {
          "output_type": "execute_result",
          "data": {
            "text/plain": [
              "(19, 21)"
            ]
          },
          "metadata": {},
          "execution_count": 39
        }
      ]
    },
    {
      "cell_type": "code",
      "source": [
        "# total_rg = pd.DataFrame(Mt, columns = ['수도권_농림수산품', '수도권_공산품', '수도권_서비스', '서부권권_농림수산품', '충청권_공산품', '충청권_서비스',\n",
        "#                                            '서남권_농림수산품', '서남권_공산품', '서남권_서비스', '동남권_농림수산품', '동남권_공산품', '동남권_서비스',\n",
        "#                                            '강원권_농림수산품', '강원권_공산품', '강원권_서비스', '제주권_농림수산품', '제주권_공산품', '제주권_서비스',\n",
        "#                                            '중간수요계',\n",
        "#                                            '수도권_소비', '수도권_투자', '수도권_수출', '충청권_소비', '충청권_투자', '충청권_수출',\n",
        "#                                            '서남권_소비', '서남권_투자', '서남권_수출', '동남권_소비', '동남권_투자', '동남권_수출',\n",
        "#                                            '강원권_소비', '강원권_투자', '강원권_수출', '제주권_소비', '제주권_투자', '제주권_수출',\n",
        "#                                            '최종수요계', '총수요계'],\n",
        "#                                     index=['수도권_농림수산품', '수도권_공산품', '수도권_서비스', '충청권_농림수산품', '충청권_공산품', '충청권_서비스',\n",
        "#                                            '서남권_농림수산품', '서남권_공산품', '서남권_서비스', '동남권_농림수산품', '동남권_공산품', '동남권_서비스',\n",
        "#                                            '강원권_농림수산품', '강원권공산품', '강원권_서비스', '제주권_농림수산품', '제주권_공산품', '제주권_서비스',\n",
        "#                                            '수입_농림수산품', '수입_공산품', '수입_서비스','중간투입계',\n",
        "#                                            '피용자보수', '영업잉여', '고정자본소모', '생산세', '부가가치계', '총투입액'])"
      ],
      "metadata": {
        "id": "khqaa4tJW8Nk"
      },
      "execution_count": null,
      "outputs": []
    },
    {
      "cell_type": "code",
      "source": [
        "Mt_df = pd.DataFrame(Mt, columns = [['수도권', '수도권', '수도권', '동부권', '동부권', '동부권','서부권', '서부권', '서부권','지역중간수요계',\n",
        "                                     '수도권', '수도권', '수도권', '동부권', '동부권', '동부권','서부권', '서부권', '서부권','지역최종수요계','지역총수요계'],\n",
        "\n",
        "                                      ['농산품', '공산품', '서비스', '농산품', '공산품', '서비스','농산품', '공산품', '서비스', '제품중간수요계',\n",
        "                                       '소비', '투자', '수출', '소비', '투자', '수출', '소비', '투자', '수출','제품최종수요계','제품총수요계']],\n",
        "\n",
        "                                    index=[['수도권', '수도권', '수도권', '동부권', '동부권', '동부권','서부권', '서부권', '서부권', '수입','수입', '수입', '중간투입계',\n",
        "                                            '피보', '영잉', '고소', '생산세f', '부가가치계f', '총투입액f'],\n",
        "                                           ['농산품', '공산품', '서비스', '농산품', '공산품', '서비스','농산품', '공산품',  '서비스','농산품', '공산품','서비스','중간수요계',\n",
        "                                            '피용자보수', '영업잉여', '고정자본소모', '생산세', '부가가치계', '총투입액']])\n",
        "Mt_df.index.names=['지역', '상품']"
      ],
      "metadata": {
        "id": "DTAOoUvAtl7I"
      },
      "execution_count": null,
      "outputs": []
    },
    {
      "cell_type": "code",
      "source": [
        "Mt_df.to_csv('지역산업연관표_3부문_3지역.csv', encoding=\"utf-8-sig\")"
      ],
      "metadata": {
        "id": "vRFoEDGP76Bz"
      },
      "execution_count": null,
      "outputs": []
    },
    {
      "cell_type": "code",
      "source": [
        "Mt_df.index.names=['지역', '상품']\n",
        "# df_pivot = df_pivot.pivot(index='date', columns='country', values='Population')\n",
        "# # df_pivot.head\n",
        "Mt_df\n"
      ],
      "metadata": {
        "id": "8TQao69e0jzg",
        "outputId": "1c25d6dc-affd-444a-89b2-c138b13d3fe4",
        "colab": {
          "base_uri": "https://localhost:8080/",
          "height": 1000
        }
      },
      "execution_count": null,
      "outputs": [
        {
          "output_type": "execute_result",
          "data": {
            "text/plain": [
              "               수도권                  동부권                 서부권                \\\n",
              "               농산품    공산품     서비스   농산품    공산품    서비스   농산품    공산품    서비스   \n",
              "지역     상품                                                                   \n",
              "수도권    농산품     0.0    3.0     1.0   0.0    0.0    0.0   0.0    1.0    0.0   \n",
              "       공산품     2.0  112.0    71.0   1.0   36.0   14.0   1.0   37.0   13.0   \n",
              "       서비스     1.0   79.0   302.0   1.0   27.0   31.0   1.0   28.0   28.0   \n",
              "동부권    농산품     0.0    1.0     2.0   1.0    7.0    2.0   0.0    2.0    0.0   \n",
              "       공산품     0.0   43.0    38.0   4.0  158.0   40.0   1.0   36.0   13.0   \n",
              "       서비스     0.0    4.0    15.0   2.0   59.0   76.0   0.0    3.0    4.0   \n",
              "서부권    농산품     0.0    2.0     3.0   0.0    1.0    1.0   1.0   12.0    2.0   \n",
              "       공산품     0.0   46.0    40.0   1.0   41.0   15.0   6.0   88.0   31.0   \n",
              "       서비스     0.0    3.0    17.0   0.0    3.0    3.0   2.0   41.0   56.0   \n",
              "수입     농산품     0.0    3.0     0.0   0.0    2.0    0.0   0.0    3.0    0.0   \n",
              "       공산품     0.0  100.0    41.0   0.0  130.0   18.0   1.0   98.0   17.0   \n",
              "       서비스     0.0    6.0    25.0   0.0    6.0   13.0   0.0    4.0    8.0   \n",
              "중간투입계  중간수요계   4.0  403.0   556.0  10.0  470.0  214.0  14.0  354.0  172.0   \n",
              "피보     피용자보수   0.0   71.0   324.0   2.0   63.0  135.0   3.0   43.0  109.0   \n",
              "영잉     영업잉여    3.0   52.0   170.0   9.0   45.0   64.0  11.0   43.0   45.0   \n",
              "고소     고정자본소모  1.0   45.0   104.0   2.0   37.0   48.0   2.0   32.0   38.0   \n",
              "생산세f   생산세     0.0   11.0    51.0   0.0   23.0   18.0   0.0   19.0   14.0   \n",
              "부가가치계f 부가가치계   4.0  179.0   648.0  13.0  169.0  265.0  16.0  137.0  206.0   \n",
              "총투입액f  총투입액    8.0  582.0  1204.0  23.0  639.0  479.0  30.0  491.0  378.0   \n",
              "\n",
              "              지역중간수요계  ...    수도권           동부권                  서부권         \\\n",
              "              제품중간수요계  ...     투자     수출     소비     투자     수출     소비     투자   \n",
              "지역     상품              ...                                                    \n",
              "수도권    농산품        6.0  ...    0.0    0.0    0.0    0.0    0.0    0.0    0.0   \n",
              "       공산품      287.0  ...   21.0  215.0    9.0    6.0    0.0    7.0    8.0   \n",
              "       서비스      497.0  ...  164.0   67.0   33.0   13.0    0.0   31.0   11.0   \n",
              "동부권    농산품       16.0  ...    0.0    0.0    3.0    1.0    0.0    1.0    0.0   \n",
              "       공산품      333.0  ...   15.0    0.0   19.0   11.0  226.0    7.0    7.0   \n",
              "       서비스      164.0  ...    2.0    0.0  194.0   77.0   26.0    5.0    1.0   \n",
              "서부권    농산품       22.0  ...    0.0    0.0    1.0    0.0    0.0    2.0    1.0   \n",
              "       공산품      269.0  ...    9.0    0.0    7.0    4.0    0.0   15.0    5.0   \n",
              "       서비스      124.0  ...    4.0    0.0    5.0    1.0    0.0  146.0   71.0   \n",
              "수입     농산품        9.0  ...    0.0    0.0    1.0   -0.0    0.0    1.0   -0.0   \n",
              "       공산품      405.0  ...   29.0    2.0   15.0   12.0    0.0   11.0   13.0   \n",
              "       서비스       63.0  ...    5.0    0.0    7.0    1.0    0.0    7.0    1.0   \n",
              "중간투입계  중간수요계   2196.0  ...  248.0  284.0  294.0  124.0  253.0  234.0  118.0   \n",
              "피보     피용자보수    750.0  ...    0.0    0.0    0.0    0.0    0.0    0.0    0.0   \n",
              "영잉     영업잉여     441.0  ...    0.0    0.0    0.0    0.0    0.0    0.0    0.0   \n",
              "고소     고정자본소모   310.0  ...    0.0    0.0    0.0    0.0    0.0    0.0    0.0   \n",
              "생산세f   생산세      136.0  ...    0.0    0.0    0.0    0.0    0.0    0.0    0.0   \n",
              "부가가치계f 부가가치계   1637.0  ...    0.0    0.0    0.0    0.0    0.0    0.0    0.0   \n",
              "총투입액f  총투입액    3834.0  ...    0.0    0.0    0.0    0.0    0.0    0.0    0.0   \n",
              "\n",
              "                     지역최종수요계  지역총수요계  \n",
              "                  수출 제품최종수요계  제품총수요계  \n",
              "지역     상품                             \n",
              "수도권    농산품       0.0     2.0     8.0  \n",
              "       공산품       0.0   295.0   582.0  \n",
              "       서비스       0.0   706.0  1204.0  \n",
              "동부권    농산품       0.0     7.0    23.0  \n",
              "       공산품       0.0   306.0   639.0  \n",
              "       서비스       0.0   316.0   479.0  \n",
              "서부권    농산품       0.0     8.0    30.0  \n",
              "       공산품     168.0   222.0   491.0  \n",
              "       서비스      12.0   254.0   378.0  \n",
              "수입     농산품       0.0     3.0    12.0  \n",
              "       공산품       0.0   109.0   514.0  \n",
              "       서비스       0.0    35.0    98.0  \n",
              "중간투입계  중간수요계   181.0  2261.0  4458.0  \n",
              "피보     피용자보수     0.0     0.0   750.0  \n",
              "영잉     영업잉여      0.0     0.0   441.0  \n",
              "고소     고정자본소모    0.0     0.0   310.0  \n",
              "생산세f   생산세       0.0     0.0   136.0  \n",
              "부가가치계f 부가가치계     0.0     0.0  1637.0  \n",
              "총투입액f  총투입액      0.0     0.0  3834.0  \n",
              "\n",
              "[19 rows x 21 columns]"
            ],
            "text/html": [
              "\n",
              "\n",
              "  <div id=\"df-9f684f77-3738-4a91-aa9f-2f3ae4b59887\">\n",
              "    <div class=\"colab-df-container\">\n",
              "      <div>\n",
              "<style scoped>\n",
              "    .dataframe tbody tr th:only-of-type {\n",
              "        vertical-align: middle;\n",
              "    }\n",
              "\n",
              "    .dataframe tbody tr th {\n",
              "        vertical-align: top;\n",
              "    }\n",
              "\n",
              "    .dataframe thead tr th {\n",
              "        text-align: left;\n",
              "    }\n",
              "\n",
              "    .dataframe thead tr:last-of-type th {\n",
              "        text-align: right;\n",
              "    }\n",
              "</style>\n",
              "<table border=\"1\" class=\"dataframe\">\n",
              "  <thead>\n",
              "    <tr>\n",
              "      <th></th>\n",
              "      <th></th>\n",
              "      <th colspan=\"3\" halign=\"left\">수도권</th>\n",
              "      <th colspan=\"3\" halign=\"left\">동부권</th>\n",
              "      <th colspan=\"3\" halign=\"left\">서부권</th>\n",
              "      <th>지역중간수요계</th>\n",
              "      <th>...</th>\n",
              "      <th colspan=\"2\" halign=\"left\">수도권</th>\n",
              "      <th colspan=\"3\" halign=\"left\">동부권</th>\n",
              "      <th colspan=\"3\" halign=\"left\">서부권</th>\n",
              "      <th>지역최종수요계</th>\n",
              "      <th>지역총수요계</th>\n",
              "    </tr>\n",
              "    <tr>\n",
              "      <th></th>\n",
              "      <th></th>\n",
              "      <th>농산품</th>\n",
              "      <th>공산품</th>\n",
              "      <th>서비스</th>\n",
              "      <th>농산품</th>\n",
              "      <th>공산품</th>\n",
              "      <th>서비스</th>\n",
              "      <th>농산품</th>\n",
              "      <th>공산품</th>\n",
              "      <th>서비스</th>\n",
              "      <th>제품중간수요계</th>\n",
              "      <th>...</th>\n",
              "      <th>투자</th>\n",
              "      <th>수출</th>\n",
              "      <th>소비</th>\n",
              "      <th>투자</th>\n",
              "      <th>수출</th>\n",
              "      <th>소비</th>\n",
              "      <th>투자</th>\n",
              "      <th>수출</th>\n",
              "      <th>제품최종수요계</th>\n",
              "      <th>제품총수요계</th>\n",
              "    </tr>\n",
              "    <tr>\n",
              "      <th>지역</th>\n",
              "      <th>상품</th>\n",
              "      <th></th>\n",
              "      <th></th>\n",
              "      <th></th>\n",
              "      <th></th>\n",
              "      <th></th>\n",
              "      <th></th>\n",
              "      <th></th>\n",
              "      <th></th>\n",
              "      <th></th>\n",
              "      <th></th>\n",
              "      <th></th>\n",
              "      <th></th>\n",
              "      <th></th>\n",
              "      <th></th>\n",
              "      <th></th>\n",
              "      <th></th>\n",
              "      <th></th>\n",
              "      <th></th>\n",
              "      <th></th>\n",
              "      <th></th>\n",
              "      <th></th>\n",
              "    </tr>\n",
              "  </thead>\n",
              "  <tbody>\n",
              "    <tr>\n",
              "      <th rowspan=\"3\" valign=\"top\">수도권</th>\n",
              "      <th>농산품</th>\n",
              "      <td>0.0</td>\n",
              "      <td>3.0</td>\n",
              "      <td>1.0</td>\n",
              "      <td>0.0</td>\n",
              "      <td>0.0</td>\n",
              "      <td>0.0</td>\n",
              "      <td>0.0</td>\n",
              "      <td>1.0</td>\n",
              "      <td>0.0</td>\n",
              "      <td>6.0</td>\n",
              "      <td>...</td>\n",
              "      <td>0.0</td>\n",
              "      <td>0.0</td>\n",
              "      <td>0.0</td>\n",
              "      <td>0.0</td>\n",
              "      <td>0.0</td>\n",
              "      <td>0.0</td>\n",
              "      <td>0.0</td>\n",
              "      <td>0.0</td>\n",
              "      <td>2.0</td>\n",
              "      <td>8.0</td>\n",
              "    </tr>\n",
              "    <tr>\n",
              "      <th>공산품</th>\n",
              "      <td>2.0</td>\n",
              "      <td>112.0</td>\n",
              "      <td>71.0</td>\n",
              "      <td>1.0</td>\n",
              "      <td>36.0</td>\n",
              "      <td>14.0</td>\n",
              "      <td>1.0</td>\n",
              "      <td>37.0</td>\n",
              "      <td>13.0</td>\n",
              "      <td>287.0</td>\n",
              "      <td>...</td>\n",
              "      <td>21.0</td>\n",
              "      <td>215.0</td>\n",
              "      <td>9.0</td>\n",
              "      <td>6.0</td>\n",
              "      <td>0.0</td>\n",
              "      <td>7.0</td>\n",
              "      <td>8.0</td>\n",
              "      <td>0.0</td>\n",
              "      <td>295.0</td>\n",
              "      <td>582.0</td>\n",
              "    </tr>\n",
              "    <tr>\n",
              "      <th>서비스</th>\n",
              "      <td>1.0</td>\n",
              "      <td>79.0</td>\n",
              "      <td>302.0</td>\n",
              "      <td>1.0</td>\n",
              "      <td>27.0</td>\n",
              "      <td>31.0</td>\n",
              "      <td>1.0</td>\n",
              "      <td>28.0</td>\n",
              "      <td>28.0</td>\n",
              "      <td>497.0</td>\n",
              "      <td>...</td>\n",
              "      <td>164.0</td>\n",
              "      <td>67.0</td>\n",
              "      <td>33.0</td>\n",
              "      <td>13.0</td>\n",
              "      <td>0.0</td>\n",
              "      <td>31.0</td>\n",
              "      <td>11.0</td>\n",
              "      <td>0.0</td>\n",
              "      <td>706.0</td>\n",
              "      <td>1204.0</td>\n",
              "    </tr>\n",
              "    <tr>\n",
              "      <th rowspan=\"3\" valign=\"top\">동부권</th>\n",
              "      <th>농산품</th>\n",
              "      <td>0.0</td>\n",
              "      <td>1.0</td>\n",
              "      <td>2.0</td>\n",
              "      <td>1.0</td>\n",
              "      <td>7.0</td>\n",
              "      <td>2.0</td>\n",
              "      <td>0.0</td>\n",
              "      <td>2.0</td>\n",
              "      <td>0.0</td>\n",
              "      <td>16.0</td>\n",
              "      <td>...</td>\n",
              "      <td>0.0</td>\n",
              "      <td>0.0</td>\n",
              "      <td>3.0</td>\n",
              "      <td>1.0</td>\n",
              "      <td>0.0</td>\n",
              "      <td>1.0</td>\n",
              "      <td>0.0</td>\n",
              "      <td>0.0</td>\n",
              "      <td>7.0</td>\n",
              "      <td>23.0</td>\n",
              "    </tr>\n",
              "    <tr>\n",
              "      <th>공산품</th>\n",
              "      <td>0.0</td>\n",
              "      <td>43.0</td>\n",
              "      <td>38.0</td>\n",
              "      <td>4.0</td>\n",
              "      <td>158.0</td>\n",
              "      <td>40.0</td>\n",
              "      <td>1.0</td>\n",
              "      <td>36.0</td>\n",
              "      <td>13.0</td>\n",
              "      <td>333.0</td>\n",
              "      <td>...</td>\n",
              "      <td>15.0</td>\n",
              "      <td>0.0</td>\n",
              "      <td>19.0</td>\n",
              "      <td>11.0</td>\n",
              "      <td>226.0</td>\n",
              "      <td>7.0</td>\n",
              "      <td>7.0</td>\n",
              "      <td>0.0</td>\n",
              "      <td>306.0</td>\n",
              "      <td>639.0</td>\n",
              "    </tr>\n",
              "    <tr>\n",
              "      <th>서비스</th>\n",
              "      <td>0.0</td>\n",
              "      <td>4.0</td>\n",
              "      <td>15.0</td>\n",
              "      <td>2.0</td>\n",
              "      <td>59.0</td>\n",
              "      <td>76.0</td>\n",
              "      <td>0.0</td>\n",
              "      <td>3.0</td>\n",
              "      <td>4.0</td>\n",
              "      <td>164.0</td>\n",
              "      <td>...</td>\n",
              "      <td>2.0</td>\n",
              "      <td>0.0</td>\n",
              "      <td>194.0</td>\n",
              "      <td>77.0</td>\n",
              "      <td>26.0</td>\n",
              "      <td>5.0</td>\n",
              "      <td>1.0</td>\n",
              "      <td>0.0</td>\n",
              "      <td>316.0</td>\n",
              "      <td>479.0</td>\n",
              "    </tr>\n",
              "    <tr>\n",
              "      <th rowspan=\"3\" valign=\"top\">서부권</th>\n",
              "      <th>농산품</th>\n",
              "      <td>0.0</td>\n",
              "      <td>2.0</td>\n",
              "      <td>3.0</td>\n",
              "      <td>0.0</td>\n",
              "      <td>1.0</td>\n",
              "      <td>1.0</td>\n",
              "      <td>1.0</td>\n",
              "      <td>12.0</td>\n",
              "      <td>2.0</td>\n",
              "      <td>22.0</td>\n",
              "      <td>...</td>\n",
              "      <td>0.0</td>\n",
              "      <td>0.0</td>\n",
              "      <td>1.0</td>\n",
              "      <td>0.0</td>\n",
              "      <td>0.0</td>\n",
              "      <td>2.0</td>\n",
              "      <td>1.0</td>\n",
              "      <td>0.0</td>\n",
              "      <td>8.0</td>\n",
              "      <td>30.0</td>\n",
              "    </tr>\n",
              "    <tr>\n",
              "      <th>공산품</th>\n",
              "      <td>0.0</td>\n",
              "      <td>46.0</td>\n",
              "      <td>40.0</td>\n",
              "      <td>1.0</td>\n",
              "      <td>41.0</td>\n",
              "      <td>15.0</td>\n",
              "      <td>6.0</td>\n",
              "      <td>88.0</td>\n",
              "      <td>31.0</td>\n",
              "      <td>269.0</td>\n",
              "      <td>...</td>\n",
              "      <td>9.0</td>\n",
              "      <td>0.0</td>\n",
              "      <td>7.0</td>\n",
              "      <td>4.0</td>\n",
              "      <td>0.0</td>\n",
              "      <td>15.0</td>\n",
              "      <td>5.0</td>\n",
              "      <td>168.0</td>\n",
              "      <td>222.0</td>\n",
              "      <td>491.0</td>\n",
              "    </tr>\n",
              "    <tr>\n",
              "      <th>서비스</th>\n",
              "      <td>0.0</td>\n",
              "      <td>3.0</td>\n",
              "      <td>17.0</td>\n",
              "      <td>0.0</td>\n",
              "      <td>3.0</td>\n",
              "      <td>3.0</td>\n",
              "      <td>2.0</td>\n",
              "      <td>41.0</td>\n",
              "      <td>56.0</td>\n",
              "      <td>124.0</td>\n",
              "      <td>...</td>\n",
              "      <td>4.0</td>\n",
              "      <td>0.0</td>\n",
              "      <td>5.0</td>\n",
              "      <td>1.0</td>\n",
              "      <td>0.0</td>\n",
              "      <td>146.0</td>\n",
              "      <td>71.0</td>\n",
              "      <td>12.0</td>\n",
              "      <td>254.0</td>\n",
              "      <td>378.0</td>\n",
              "    </tr>\n",
              "    <tr>\n",
              "      <th rowspan=\"3\" valign=\"top\">수입</th>\n",
              "      <th>농산품</th>\n",
              "      <td>0.0</td>\n",
              "      <td>3.0</td>\n",
              "      <td>0.0</td>\n",
              "      <td>0.0</td>\n",
              "      <td>2.0</td>\n",
              "      <td>0.0</td>\n",
              "      <td>0.0</td>\n",
              "      <td>3.0</td>\n",
              "      <td>0.0</td>\n",
              "      <td>9.0</td>\n",
              "      <td>...</td>\n",
              "      <td>0.0</td>\n",
              "      <td>0.0</td>\n",
              "      <td>1.0</td>\n",
              "      <td>-0.0</td>\n",
              "      <td>0.0</td>\n",
              "      <td>1.0</td>\n",
              "      <td>-0.0</td>\n",
              "      <td>0.0</td>\n",
              "      <td>3.0</td>\n",
              "      <td>12.0</td>\n",
              "    </tr>\n",
              "    <tr>\n",
              "      <th>공산품</th>\n",
              "      <td>0.0</td>\n",
              "      <td>100.0</td>\n",
              "      <td>41.0</td>\n",
              "      <td>0.0</td>\n",
              "      <td>130.0</td>\n",
              "      <td>18.0</td>\n",
              "      <td>1.0</td>\n",
              "      <td>98.0</td>\n",
              "      <td>17.0</td>\n",
              "      <td>405.0</td>\n",
              "      <td>...</td>\n",
              "      <td>29.0</td>\n",
              "      <td>2.0</td>\n",
              "      <td>15.0</td>\n",
              "      <td>12.0</td>\n",
              "      <td>0.0</td>\n",
              "      <td>11.0</td>\n",
              "      <td>13.0</td>\n",
              "      <td>0.0</td>\n",
              "      <td>109.0</td>\n",
              "      <td>514.0</td>\n",
              "    </tr>\n",
              "    <tr>\n",
              "      <th>서비스</th>\n",
              "      <td>0.0</td>\n",
              "      <td>6.0</td>\n",
              "      <td>25.0</td>\n",
              "      <td>0.0</td>\n",
              "      <td>6.0</td>\n",
              "      <td>13.0</td>\n",
              "      <td>0.0</td>\n",
              "      <td>4.0</td>\n",
              "      <td>8.0</td>\n",
              "      <td>63.0</td>\n",
              "      <td>...</td>\n",
              "      <td>5.0</td>\n",
              "      <td>0.0</td>\n",
              "      <td>7.0</td>\n",
              "      <td>1.0</td>\n",
              "      <td>0.0</td>\n",
              "      <td>7.0</td>\n",
              "      <td>1.0</td>\n",
              "      <td>0.0</td>\n",
              "      <td>35.0</td>\n",
              "      <td>98.0</td>\n",
              "    </tr>\n",
              "    <tr>\n",
              "      <th>중간투입계</th>\n",
              "      <th>중간수요계</th>\n",
              "      <td>4.0</td>\n",
              "      <td>403.0</td>\n",
              "      <td>556.0</td>\n",
              "      <td>10.0</td>\n",
              "      <td>470.0</td>\n",
              "      <td>214.0</td>\n",
              "      <td>14.0</td>\n",
              "      <td>354.0</td>\n",
              "      <td>172.0</td>\n",
              "      <td>2196.0</td>\n",
              "      <td>...</td>\n",
              "      <td>248.0</td>\n",
              "      <td>284.0</td>\n",
              "      <td>294.0</td>\n",
              "      <td>124.0</td>\n",
              "      <td>253.0</td>\n",
              "      <td>234.0</td>\n",
              "      <td>118.0</td>\n",
              "      <td>181.0</td>\n",
              "      <td>2261.0</td>\n",
              "      <td>4458.0</td>\n",
              "    </tr>\n",
              "    <tr>\n",
              "      <th>피보</th>\n",
              "      <th>피용자보수</th>\n",
              "      <td>0.0</td>\n",
              "      <td>71.0</td>\n",
              "      <td>324.0</td>\n",
              "      <td>2.0</td>\n",
              "      <td>63.0</td>\n",
              "      <td>135.0</td>\n",
              "      <td>3.0</td>\n",
              "      <td>43.0</td>\n",
              "      <td>109.0</td>\n",
              "      <td>750.0</td>\n",
              "      <td>...</td>\n",
              "      <td>0.0</td>\n",
              "      <td>0.0</td>\n",
              "      <td>0.0</td>\n",
              "      <td>0.0</td>\n",
              "      <td>0.0</td>\n",
              "      <td>0.0</td>\n",
              "      <td>0.0</td>\n",
              "      <td>0.0</td>\n",
              "      <td>0.0</td>\n",
              "      <td>750.0</td>\n",
              "    </tr>\n",
              "    <tr>\n",
              "      <th>영잉</th>\n",
              "      <th>영업잉여</th>\n",
              "      <td>3.0</td>\n",
              "      <td>52.0</td>\n",
              "      <td>170.0</td>\n",
              "      <td>9.0</td>\n",
              "      <td>45.0</td>\n",
              "      <td>64.0</td>\n",
              "      <td>11.0</td>\n",
              "      <td>43.0</td>\n",
              "      <td>45.0</td>\n",
              "      <td>441.0</td>\n",
              "      <td>...</td>\n",
              "      <td>0.0</td>\n",
              "      <td>0.0</td>\n",
              "      <td>0.0</td>\n",
              "      <td>0.0</td>\n",
              "      <td>0.0</td>\n",
              "      <td>0.0</td>\n",
              "      <td>0.0</td>\n",
              "      <td>0.0</td>\n",
              "      <td>0.0</td>\n",
              "      <td>441.0</td>\n",
              "    </tr>\n",
              "    <tr>\n",
              "      <th>고소</th>\n",
              "      <th>고정자본소모</th>\n",
              "      <td>1.0</td>\n",
              "      <td>45.0</td>\n",
              "      <td>104.0</td>\n",
              "      <td>2.0</td>\n",
              "      <td>37.0</td>\n",
              "      <td>48.0</td>\n",
              "      <td>2.0</td>\n",
              "      <td>32.0</td>\n",
              "      <td>38.0</td>\n",
              "      <td>310.0</td>\n",
              "      <td>...</td>\n",
              "      <td>0.0</td>\n",
              "      <td>0.0</td>\n",
              "      <td>0.0</td>\n",
              "      <td>0.0</td>\n",
              "      <td>0.0</td>\n",
              "      <td>0.0</td>\n",
              "      <td>0.0</td>\n",
              "      <td>0.0</td>\n",
              "      <td>0.0</td>\n",
              "      <td>310.0</td>\n",
              "    </tr>\n",
              "    <tr>\n",
              "      <th>생산세f</th>\n",
              "      <th>생산세</th>\n",
              "      <td>0.0</td>\n",
              "      <td>11.0</td>\n",
              "      <td>51.0</td>\n",
              "      <td>0.0</td>\n",
              "      <td>23.0</td>\n",
              "      <td>18.0</td>\n",
              "      <td>0.0</td>\n",
              "      <td>19.0</td>\n",
              "      <td>14.0</td>\n",
              "      <td>136.0</td>\n",
              "      <td>...</td>\n",
              "      <td>0.0</td>\n",
              "      <td>0.0</td>\n",
              "      <td>0.0</td>\n",
              "      <td>0.0</td>\n",
              "      <td>0.0</td>\n",
              "      <td>0.0</td>\n",
              "      <td>0.0</td>\n",
              "      <td>0.0</td>\n",
              "      <td>0.0</td>\n",
              "      <td>136.0</td>\n",
              "    </tr>\n",
              "    <tr>\n",
              "      <th>부가가치계f</th>\n",
              "      <th>부가가치계</th>\n",
              "      <td>4.0</td>\n",
              "      <td>179.0</td>\n",
              "      <td>648.0</td>\n",
              "      <td>13.0</td>\n",
              "      <td>169.0</td>\n",
              "      <td>265.0</td>\n",
              "      <td>16.0</td>\n",
              "      <td>137.0</td>\n",
              "      <td>206.0</td>\n",
              "      <td>1637.0</td>\n",
              "      <td>...</td>\n",
              "      <td>0.0</td>\n",
              "      <td>0.0</td>\n",
              "      <td>0.0</td>\n",
              "      <td>0.0</td>\n",
              "      <td>0.0</td>\n",
              "      <td>0.0</td>\n",
              "      <td>0.0</td>\n",
              "      <td>0.0</td>\n",
              "      <td>0.0</td>\n",
              "      <td>1637.0</td>\n",
              "    </tr>\n",
              "    <tr>\n",
              "      <th>총투입액f</th>\n",
              "      <th>총투입액</th>\n",
              "      <td>8.0</td>\n",
              "      <td>582.0</td>\n",
              "      <td>1204.0</td>\n",
              "      <td>23.0</td>\n",
              "      <td>639.0</td>\n",
              "      <td>479.0</td>\n",
              "      <td>30.0</td>\n",
              "      <td>491.0</td>\n",
              "      <td>378.0</td>\n",
              "      <td>3834.0</td>\n",
              "      <td>...</td>\n",
              "      <td>0.0</td>\n",
              "      <td>0.0</td>\n",
              "      <td>0.0</td>\n",
              "      <td>0.0</td>\n",
              "      <td>0.0</td>\n",
              "      <td>0.0</td>\n",
              "      <td>0.0</td>\n",
              "      <td>0.0</td>\n",
              "      <td>0.0</td>\n",
              "      <td>3834.0</td>\n",
              "    </tr>\n",
              "  </tbody>\n",
              "</table>\n",
              "<p>19 rows × 21 columns</p>\n",
              "</div>\n",
              "      <button class=\"colab-df-convert\" onclick=\"convertToInteractive('df-9f684f77-3738-4a91-aa9f-2f3ae4b59887')\"\n",
              "              title=\"Convert this dataframe to an interactive table.\"\n",
              "              style=\"display:none;\">\n",
              "\n",
              "  <svg xmlns=\"http://www.w3.org/2000/svg\" height=\"24px\"viewBox=\"0 0 24 24\"\n",
              "       width=\"24px\">\n",
              "    <path d=\"M0 0h24v24H0V0z\" fill=\"none\"/>\n",
              "    <path d=\"M18.56 5.44l.94 2.06.94-2.06 2.06-.94-2.06-.94-.94-2.06-.94 2.06-2.06.94zm-11 1L8.5 8.5l.94-2.06 2.06-.94-2.06-.94L8.5 2.5l-.94 2.06-2.06.94zm10 10l.94 2.06.94-2.06 2.06-.94-2.06-.94-.94-2.06-.94 2.06-2.06.94z\"/><path d=\"M17.41 7.96l-1.37-1.37c-.4-.4-.92-.59-1.43-.59-.52 0-1.04.2-1.43.59L10.3 9.45l-7.72 7.72c-.78.78-.78 2.05 0 2.83L4 21.41c.39.39.9.59 1.41.59.51 0 1.02-.2 1.41-.59l7.78-7.78 2.81-2.81c.8-.78.8-2.07 0-2.86zM5.41 20L4 18.59l7.72-7.72 1.47 1.35L5.41 20z\"/>\n",
              "  </svg>\n",
              "      </button>\n",
              "\n",
              "\n",
              "\n",
              "    <div id=\"df-ad87e35e-e2c4-4b31-bab1-6516c98de2cc\">\n",
              "      <button class=\"colab-df-quickchart\" onclick=\"quickchart('df-ad87e35e-e2c4-4b31-bab1-6516c98de2cc')\"\n",
              "              title=\"Suggest charts.\"\n",
              "              style=\"display:none;\">\n",
              "\n",
              "<svg xmlns=\"http://www.w3.org/2000/svg\" height=\"24px\"viewBox=\"0 0 24 24\"\n",
              "     width=\"24px\">\n",
              "    <g>\n",
              "        <path d=\"M19 3H5c-1.1 0-2 .9-2 2v14c0 1.1.9 2 2 2h14c1.1 0 2-.9 2-2V5c0-1.1-.9-2-2-2zM9 17H7v-7h2v7zm4 0h-2V7h2v10zm4 0h-2v-4h2v4z\"/>\n",
              "    </g>\n",
              "</svg>\n",
              "      </button>\n",
              "    </div>\n",
              "\n",
              "<style>\n",
              "  .colab-df-quickchart {\n",
              "    background-color: #E8F0FE;\n",
              "    border: none;\n",
              "    border-radius: 50%;\n",
              "    cursor: pointer;\n",
              "    display: none;\n",
              "    fill: #1967D2;\n",
              "    height: 32px;\n",
              "    padding: 0 0 0 0;\n",
              "    width: 32px;\n",
              "  }\n",
              "\n",
              "  .colab-df-quickchart:hover {\n",
              "    background-color: #E2EBFA;\n",
              "    box-shadow: 0px 1px 2px rgba(60, 64, 67, 0.3), 0px 1px 3px 1px rgba(60, 64, 67, 0.15);\n",
              "    fill: #174EA6;\n",
              "  }\n",
              "\n",
              "  [theme=dark] .colab-df-quickchart {\n",
              "    background-color: #3B4455;\n",
              "    fill: #D2E3FC;\n",
              "  }\n",
              "\n",
              "  [theme=dark] .colab-df-quickchart:hover {\n",
              "    background-color: #434B5C;\n",
              "    box-shadow: 0px 1px 3px 1px rgba(0, 0, 0, 0.15);\n",
              "    filter: drop-shadow(0px 1px 2px rgba(0, 0, 0, 0.3));\n",
              "    fill: #FFFFFF;\n",
              "  }\n",
              "</style>\n",
              "\n",
              "    <script>\n",
              "      async function quickchart(key) {\n",
              "        const containerElement = document.querySelector('#' + key);\n",
              "        const charts = await google.colab.kernel.invokeFunction(\n",
              "            'suggestCharts', [key], {});\n",
              "      }\n",
              "    </script>\n",
              "\n",
              "      <script>\n",
              "\n",
              "function displayQuickchartButton(domScope) {\n",
              "  let quickchartButtonEl =\n",
              "    domScope.querySelector('#df-ad87e35e-e2c4-4b31-bab1-6516c98de2cc button.colab-df-quickchart');\n",
              "  quickchartButtonEl.style.display =\n",
              "    google.colab.kernel.accessAllowed ? 'block' : 'none';\n",
              "}\n",
              "\n",
              "        displayQuickchartButton(document);\n",
              "      </script>\n",
              "      <style>\n",
              "    .colab-df-container {\n",
              "      display:flex;\n",
              "      flex-wrap:wrap;\n",
              "      gap: 12px;\n",
              "    }\n",
              "\n",
              "    .colab-df-convert {\n",
              "      background-color: #E8F0FE;\n",
              "      border: none;\n",
              "      border-radius: 50%;\n",
              "      cursor: pointer;\n",
              "      display: none;\n",
              "      fill: #1967D2;\n",
              "      height: 32px;\n",
              "      padding: 0 0 0 0;\n",
              "      width: 32px;\n",
              "    }\n",
              "\n",
              "    .colab-df-convert:hover {\n",
              "      background-color: #E2EBFA;\n",
              "      box-shadow: 0px 1px 2px rgba(60, 64, 67, 0.3), 0px 1px 3px 1px rgba(60, 64, 67, 0.15);\n",
              "      fill: #174EA6;\n",
              "    }\n",
              "\n",
              "    [theme=dark] .colab-df-convert {\n",
              "      background-color: #3B4455;\n",
              "      fill: #D2E3FC;\n",
              "    }\n",
              "\n",
              "    [theme=dark] .colab-df-convert:hover {\n",
              "      background-color: #434B5C;\n",
              "      box-shadow: 0px 1px 3px 1px rgba(0, 0, 0, 0.15);\n",
              "      filter: drop-shadow(0px 1px 2px rgba(0, 0, 0, 0.3));\n",
              "      fill: #FFFFFF;\n",
              "    }\n",
              "  </style>\n",
              "\n",
              "      <script>\n",
              "        const buttonEl =\n",
              "          document.querySelector('#df-9f684f77-3738-4a91-aa9f-2f3ae4b59887 button.colab-df-convert');\n",
              "        buttonEl.style.display =\n",
              "          google.colab.kernel.accessAllowed ? 'block' : 'none';\n",
              "\n",
              "        async function convertToInteractive(key) {\n",
              "          const element = document.querySelector('#df-9f684f77-3738-4a91-aa9f-2f3ae4b59887');\n",
              "          const dataTable =\n",
              "            await google.colab.kernel.invokeFunction('convertToInteractive',\n",
              "                                                     [key], {});\n",
              "          if (!dataTable) return;\n",
              "\n",
              "          const docLinkHtml = 'Like what you see? Visit the ' +\n",
              "            '<a target=\"_blank\" href=https://colab.research.google.com/notebooks/data_table.ipynb>data table notebook</a>'\n",
              "            + ' to learn more about interactive tables.';\n",
              "          element.innerHTML = '';\n",
              "          dataTable['output_type'] = 'display_data';\n",
              "          await google.colab.output.renderOutput(dataTable, element);\n",
              "          const docLink = document.createElement('div');\n",
              "          docLink.innerHTML = docLinkHtml;\n",
              "          element.appendChild(docLink);\n",
              "        }\n",
              "      </script>\n",
              "    </div>\n",
              "  </div>\n"
            ]
          },
          "metadata": {},
          "execution_count": 43
        }
      ]
    },
    {
      "cell_type": "markdown",
      "source": [
        "### 취업자수 통합하기"
      ],
      "metadata": {
        "id": "mCHzgBwbX8zE"
      }
    },
    {
      "cell_type": "code",
      "source": [
        "code_rg_emp = np.array([[1,1,1,0,0,0,0,0,0,0,0,0,0,0,0,0,0],\n",
        "                        [0,0,0,0,0,0,0,0,0,0,1,1,1,1,1,1,0],\n",
        "                        [0,0,0,1,1,1,1,1,1,1,0,0,0,0,0,0,1]])\n",
        "code_rg_emp"
      ],
      "metadata": {
        "id": "FZeTGkfQ5SAu",
        "outputId": "950566d8-cd60-4f15-d99b-d0955ed7b40d",
        "colab": {
          "base_uri": "https://localhost:8080/"
        }
      },
      "execution_count": null,
      "outputs": [
        {
          "output_type": "execute_result",
          "data": {
            "text/plain": [
              "array([[1, 1, 1, 0, 0, 0, 0, 0, 0, 0, 0, 0, 0, 0, 0, 0, 0],\n",
              "       [0, 0, 0, 0, 0, 0, 0, 0, 0, 0, 1, 1, 1, 1, 1, 1, 0],\n",
              "       [0, 0, 0, 1, 1, 1, 1, 1, 1, 1, 0, 0, 0, 0, 0, 0, 1]])"
            ]
          },
          "metadata": {},
          "execution_count": 44
        }
      ]
    },
    {
      "cell_type": "code",
      "source": [
        "url_rg_emp = \"https://raw.githubusercontent.com/Tom-Jung/legendary-funicular/main/Regional_emp.csv\"  # 33부문의 지역IO  취업자수\n",
        "emp_33 = pd.read_csv(url_rg_emp)\n",
        "emp = emp_33.to_numpy()\n",
        "emp_f = emp[0:33,2:19].astype(float)\n",
        "emp_f"
      ],
      "metadata": {
        "id": "Padf2xSA3ppm",
        "outputId": "ca7df38b-a1c2-4515-f363-358095eb3968",
        "colab": {
          "base_uri": "https://localhost:8080/"
        }
      },
      "execution_count": null,
      "outputs": [
        {
          "output_type": "execute_result",
          "data": {
            "text/plain": [
              "array([[   2887.,   12953.,  119703.,    5816.,    4735.,   83061.,\n",
              "         140240.,    8753.,  121499.,  192577.,   13996.,  208981.,\n",
              "          17708.,    9851.,  144639.,   90467.,   49656.],\n",
              "       [     78.,     401.,     920.,      13.,      93.,     887.,\n",
              "            463.,      27.,     744.,     929.,       9.,     885.,\n",
              "             80.,     439.,     488.,    5210.,     293.],\n",
              "       [  11372.,   16046.,   89673.,    5102.,    1185.,   22604.,\n",
              "          21421.,    3643.,   24910.,   17887.,    7801.,   18990.,\n",
              "          14684.,    2685.,   30000.,   14586.,    5888.],\n",
              "       [ 134289.,    6393.,   74197.,    1770.,     152.,    4652.,\n",
              "           4758.,    2332.,    4101.,    1549.,   29466.,   23736.,\n",
              "          29323.,    5081.,   10397.,     522.,     311.],\n",
              "       [  36720.,   14447.,   67315.,    4033.,    1473.,    8942.,\n",
              "           5519.,    2181.,    5360.,    1795.,    8871.,    7419.,\n",
              "           6278.,    4785.,    8656.,    1080.,     564.],\n",
              "       [     54.,     964.,     172.,      11.,       5.,     100.,\n",
              "            917.,      10.,      21.,    1635.,      14.,     205.,\n",
              "             91.,    7383.,     128.,      56.,       1.],\n",
              "       [   6879.,   21247.,  137290.,    9080.,    2889.,   32497.,\n",
              "          30539.,    8359.,   13910.,   33240.,   11136.,   28008.,\n",
              "          14055.,   25689.,   31556.,    4081.,     709.],\n",
              "       [   1050.,    3084.,   27184.,     869.,    1766.,   10762.,\n",
              "          12247.,     698.,    5555.,    7170.,    1431.,   13784.,\n",
              "           2125.,    2225.,    8854.,    9310.,    1507.],\n",
              "       [    844.,   13048.,   21834.,     630.,     145.,    2717.,\n",
              "          14433.,    1466.,    4546.,   14611.,    2281.,   29033.,\n",
              "          11639.,   12004.,   17815.,    1001.,       1.],\n",
              "       [   8280.,   26651.,  110112.,    3723.,     283.,   11396.,\n",
              "          13913.,    5802.,    6049.,    7306.,   29634.,   33518.,\n",
              "          30427.,   14196.,   67965.,    1873.,     451.],\n",
              "       [  19568.,   19332.,  197194.,    6840.,    3796.,   22669.,\n",
              "          38411.,    5248.,    2170.,     839.,    8667.,   62409.,\n",
              "          13606.,    2657.,   10887.,    4236.,     166.],\n",
              "       [   7596.,   12964.,   71655.,    3354.,    1563.,   18805.,\n",
              "          18150.,   13379.,    2814.,    1659.,    6665.,   19585.,\n",
              "           9131.,   18952.,   30909.,    1929.,     135.],\n",
              "       [  10744.,   36949.,  130074.,    7222.,     194.,    8023.,\n",
              "          21242.,   11062.,    7237.,    3803.,   20173.,   20728.,\n",
              "          25961.,   19609.,   66149.,    1732.,     163.],\n",
              "       [    499.,   25662.,  120384.,    1622.,     720.,    8092.,\n",
              "          26879.,   22375.,   29207.,    7829.,   10579.,   23428.,\n",
              "          21501.,   75214.,  109378.,    3270.,       1.],\n",
              "       [  15111.,   13877.,   83226.,    3028.,     212.,    4795.,\n",
              "           2374.,    2196.,    3196.,    2123.,    4831.,    5286.,\n",
              "           8150.,    2599.,    6899.,    2462.,    1109.],\n",
              "       [  61097.,   31524.,  130636.,    2564.,    1612.,   20027.,\n",
              "          37343.,   13934.,   10351.,   15527.,   21493.,   38307.,\n",
              "          27162.,   25453.,   67008.,    4107.,    1170.],\n",
              "       [   3529.,    9860.,   10611.,     577.,     429.,     966.,\n",
              "           8837.,     431.,    2385.,    6669.,     794.,    8307.,\n",
              "           5196.,    3106.,    6606.,    2678.,    1110.],\n",
              "       [  10328.,    8133.,   28104.,    2272.,     607.,    5725.,\n",
              "           8038.,    3236.,    5294.,    6291.,    4804.,    9410.,\n",
              "           7260.,    2986.,   10190.,    3879.,    1006.],\n",
              "       [ 227582.,   84133.,  444865.,   30007.,   25444.,   53307.,\n",
              "         100511.,   39678.,   63747.,   86791.,   62490.,  108974.,\n",
              "          86773.,   47542.,  107369.,   63550.,   28295.],\n",
              "       [1209824.,  140262.,  681530.,   91253.,    5780.,   84355.,\n",
              "         101827.,  102725.,   91882.,   94946.,  175424.,  139952.,\n",
              "         254466.,   57659.,  167432.,   75601.,   45470.],\n",
              "       [ 326718.,  116187.,  307469.,   42171.,    4269.,   35255.,\n",
              "          49682.,   32132.,   40466.,   50083.,   55884.,   68019.,\n",
              "         129111.,   35954.,   75793.,   30719.,   18396.],\n",
              "       [ 500010.,   86293.,  410472.,   46384.,    6611.,   56624.,\n",
              "          74069.,   46911.,   60776.,   58222.,   74614.,   98067.,\n",
              "         133469.,   43317.,  118222.,   71978.,   42808.],\n",
              "       [ 400211.,    5238.,  125227.,   14752.,     829.,    4658.,\n",
              "           6119.,    6829.,    4787.,    5125.,   13243.,   10001.,\n",
              "          15980.,    3912.,   10246.,    7016.,    5614.],\n",
              "       [ 293275.,   21404.,   86908.,   19156.,    1486.,   17098.,\n",
              "          15932.,   23001.,   19543.,   18533.,   30730.,   21827.,\n",
              "          48725.,   11557.,   31739.,   12171.,    8190.],\n",
              "       [ 194927.,   19035.,   96742.,   13947.,    3099.,   12958.,\n",
              "          13968.,   13817.,   11974.,    8562.,   20600.,   13951.,\n",
              "          30308.,    6911.,   21023.,    9867.,    3268.],\n",
              "       [ 551459.,   45543.,  369795.,   53339.,    4302.,   21528.,\n",
              "          40113.,   23185.,   19312.,   17316.,   31900.,   40899.,\n",
              "          51436.,   22832.,   44704.,   16112.,    6726.],\n",
              "       [ 443600.,   48821.,  207178.,   45789.,    3431.,   33362.,\n",
              "          41379.,   25044.,   18848.,   25043.,   42524.,   40548.,\n",
              "          84611.,   30193.,   48562.,   27129.,   14749.],\n",
              "       [ 173747.,   45658.,  223410.,   29166.,    5129.,   35628.,\n",
              "          53891.,   25148.,   53542.,   67134.,   46052.,   66722.,\n",
              "          61757.,   17077.,   75990.,   57980.,   18166.],\n",
              "       [ 343436.,   75644.,  336621.,   46373.,    7119.,   43362.,\n",
              "          65531.,   44039.,   59077.,   50975.,   71551.,   82762.,\n",
              "          90902.,   32249.,   86271.,   49978.,   16362.],\n",
              "       [ 342979.,   69141.,  304817.,   57419.,    4006.,   43442.,\n",
              "          64038.,   55802.,   69155.,   65675.,   82968.,   80674.,\n",
              "         105196.,   30271.,   95868.,   52888.,   22365.],\n",
              "       [ 131889.,   15160.,   99861.,   11612.,    1218.,   10185.,\n",
              "          16716.,    8791.,   14221.,   11034.,   12194.,   16326.,\n",
              "          23504.,    6744.,   20915.,   19814.,   10849.],\n",
              "       [ 293405.,   56972.,  274978.,   39161.,    2741.,   32037.,\n",
              "          48505.,   35573.,   40715.,   36619.,   58937.,   56736.,\n",
              "          77160.,   20970.,   61457.,   33892.,   15559.],\n",
              "       [      0.,       0.,       0.,       0.,       0.,       0.,\n",
              "              0.,       0.,       0.,       0.,       0.,       0.,\n",
              "              0.,       0.,       0.,       0.,       0.]])"
            ]
          },
          "metadata": {},
          "execution_count": 48
        }
      ]
    },
    {
      "cell_type": "code",
      "source": [
        "emp_3 = code_3@emp_f@code_rg_emp.T\n",
        "emp_3"
      ],
      "metadata": {
        "colab": {
          "base_uri": "https://localhost:8080/"
        },
        "id": "3sxYL2Jc5e4O",
        "outputId": "71b03a85-411a-461d-f9a0-12e65f301880"
      },
      "execution_count": null,
      "outputs": [
        {
          "output_type": "execute_result",
          "data": {
            "text/plain": [
              "array([[  135543.,   485642.,   606337.],\n",
              "       [ 1818636.,  1444100.,   834780.],\n",
              "       [10302991.,  4744657.,  3749541.]])"
            ]
          },
          "metadata": {},
          "execution_count": 52
        }
      ]
    },
    {
      "cell_type": "code",
      "source": [
        "emp_df = pd.DataFrame(emp_3, columns = ['수도권', '동부권', '서부권'],\n",
        "\n",
        "                                     index=['농산품', '공산품', '서비스'])\n",
        "emp_df"
      ],
      "metadata": {
        "id": "3-MPyRht3aip",
        "outputId": "6bc1d51a-907f-407a-e848-99f7c991e472",
        "colab": {
          "base_uri": "https://localhost:8080/",
          "height": 143
        }
      },
      "execution_count": null,
      "outputs": [
        {
          "output_type": "execute_result",
          "data": {
            "text/plain": [
              "            수도권        동부권        서부권\n",
              "농산품    135543.0   485642.0   606337.0\n",
              "공산품   1818636.0  1444100.0   834780.0\n",
              "서비스  10302991.0  4744657.0  3749541.0"
            ],
            "text/html": [
              "\n",
              "\n",
              "  <div id=\"df-f8205ea6-b0b6-4a22-addc-089732913f87\">\n",
              "    <div class=\"colab-df-container\">\n",
              "      <div>\n",
              "<style scoped>\n",
              "    .dataframe tbody tr th:only-of-type {\n",
              "        vertical-align: middle;\n",
              "    }\n",
              "\n",
              "    .dataframe tbody tr th {\n",
              "        vertical-align: top;\n",
              "    }\n",
              "\n",
              "    .dataframe thead th {\n",
              "        text-align: right;\n",
              "    }\n",
              "</style>\n",
              "<table border=\"1\" class=\"dataframe\">\n",
              "  <thead>\n",
              "    <tr style=\"text-align: right;\">\n",
              "      <th></th>\n",
              "      <th>수도권</th>\n",
              "      <th>동부권</th>\n",
              "      <th>서부권</th>\n",
              "    </tr>\n",
              "  </thead>\n",
              "  <tbody>\n",
              "    <tr>\n",
              "      <th>농산품</th>\n",
              "      <td>135543.0</td>\n",
              "      <td>485642.0</td>\n",
              "      <td>606337.0</td>\n",
              "    </tr>\n",
              "    <tr>\n",
              "      <th>공산품</th>\n",
              "      <td>1818636.0</td>\n",
              "      <td>1444100.0</td>\n",
              "      <td>834780.0</td>\n",
              "    </tr>\n",
              "    <tr>\n",
              "      <th>서비스</th>\n",
              "      <td>10302991.0</td>\n",
              "      <td>4744657.0</td>\n",
              "      <td>3749541.0</td>\n",
              "    </tr>\n",
              "  </tbody>\n",
              "</table>\n",
              "</div>\n",
              "      <button class=\"colab-df-convert\" onclick=\"convertToInteractive('df-f8205ea6-b0b6-4a22-addc-089732913f87')\"\n",
              "              title=\"Convert this dataframe to an interactive table.\"\n",
              "              style=\"display:none;\">\n",
              "\n",
              "  <svg xmlns=\"http://www.w3.org/2000/svg\" height=\"24px\"viewBox=\"0 0 24 24\"\n",
              "       width=\"24px\">\n",
              "    <path d=\"M0 0h24v24H0V0z\" fill=\"none\"/>\n",
              "    <path d=\"M18.56 5.44l.94 2.06.94-2.06 2.06-.94-2.06-.94-.94-2.06-.94 2.06-2.06.94zm-11 1L8.5 8.5l.94-2.06 2.06-.94-2.06-.94L8.5 2.5l-.94 2.06-2.06.94zm10 10l.94 2.06.94-2.06 2.06-.94-2.06-.94-.94-2.06-.94 2.06-2.06.94z\"/><path d=\"M17.41 7.96l-1.37-1.37c-.4-.4-.92-.59-1.43-.59-.52 0-1.04.2-1.43.59L10.3 9.45l-7.72 7.72c-.78.78-.78 2.05 0 2.83L4 21.41c.39.39.9.59 1.41.59.51 0 1.02-.2 1.41-.59l7.78-7.78 2.81-2.81c.8-.78.8-2.07 0-2.86zM5.41 20L4 18.59l7.72-7.72 1.47 1.35L5.41 20z\"/>\n",
              "  </svg>\n",
              "      </button>\n",
              "\n",
              "\n",
              "\n",
              "    <div id=\"df-904ec398-7dde-4864-a60c-dad1ee3de991\">\n",
              "      <button class=\"colab-df-quickchart\" onclick=\"quickchart('df-904ec398-7dde-4864-a60c-dad1ee3de991')\"\n",
              "              title=\"Suggest charts.\"\n",
              "              style=\"display:none;\">\n",
              "\n",
              "<svg xmlns=\"http://www.w3.org/2000/svg\" height=\"24px\"viewBox=\"0 0 24 24\"\n",
              "     width=\"24px\">\n",
              "    <g>\n",
              "        <path d=\"M19 3H5c-1.1 0-2 .9-2 2v14c0 1.1.9 2 2 2h14c1.1 0 2-.9 2-2V5c0-1.1-.9-2-2-2zM9 17H7v-7h2v7zm4 0h-2V7h2v10zm4 0h-2v-4h2v4z\"/>\n",
              "    </g>\n",
              "</svg>\n",
              "      </button>\n",
              "    </div>\n",
              "\n",
              "<style>\n",
              "  .colab-df-quickchart {\n",
              "    background-color: #E8F0FE;\n",
              "    border: none;\n",
              "    border-radius: 50%;\n",
              "    cursor: pointer;\n",
              "    display: none;\n",
              "    fill: #1967D2;\n",
              "    height: 32px;\n",
              "    padding: 0 0 0 0;\n",
              "    width: 32px;\n",
              "  }\n",
              "\n",
              "  .colab-df-quickchart:hover {\n",
              "    background-color: #E2EBFA;\n",
              "    box-shadow: 0px 1px 2px rgba(60, 64, 67, 0.3), 0px 1px 3px 1px rgba(60, 64, 67, 0.15);\n",
              "    fill: #174EA6;\n",
              "  }\n",
              "\n",
              "  [theme=dark] .colab-df-quickchart {\n",
              "    background-color: #3B4455;\n",
              "    fill: #D2E3FC;\n",
              "  }\n",
              "\n",
              "  [theme=dark] .colab-df-quickchart:hover {\n",
              "    background-color: #434B5C;\n",
              "    box-shadow: 0px 1px 3px 1px rgba(0, 0, 0, 0.15);\n",
              "    filter: drop-shadow(0px 1px 2px rgba(0, 0, 0, 0.3));\n",
              "    fill: #FFFFFF;\n",
              "  }\n",
              "</style>\n",
              "\n",
              "    <script>\n",
              "      async function quickchart(key) {\n",
              "        const containerElement = document.querySelector('#' + key);\n",
              "        const charts = await google.colab.kernel.invokeFunction(\n",
              "            'suggestCharts', [key], {});\n",
              "      }\n",
              "    </script>\n",
              "\n",
              "      <script>\n",
              "\n",
              "function displayQuickchartButton(domScope) {\n",
              "  let quickchartButtonEl =\n",
              "    domScope.querySelector('#df-904ec398-7dde-4864-a60c-dad1ee3de991 button.colab-df-quickchart');\n",
              "  quickchartButtonEl.style.display =\n",
              "    google.colab.kernel.accessAllowed ? 'block' : 'none';\n",
              "}\n",
              "\n",
              "        displayQuickchartButton(document);\n",
              "      </script>\n",
              "      <style>\n",
              "    .colab-df-container {\n",
              "      display:flex;\n",
              "      flex-wrap:wrap;\n",
              "      gap: 12px;\n",
              "    }\n",
              "\n",
              "    .colab-df-convert {\n",
              "      background-color: #E8F0FE;\n",
              "      border: none;\n",
              "      border-radius: 50%;\n",
              "      cursor: pointer;\n",
              "      display: none;\n",
              "      fill: #1967D2;\n",
              "      height: 32px;\n",
              "      padding: 0 0 0 0;\n",
              "      width: 32px;\n",
              "    }\n",
              "\n",
              "    .colab-df-convert:hover {\n",
              "      background-color: #E2EBFA;\n",
              "      box-shadow: 0px 1px 2px rgba(60, 64, 67, 0.3), 0px 1px 3px 1px rgba(60, 64, 67, 0.15);\n",
              "      fill: #174EA6;\n",
              "    }\n",
              "\n",
              "    [theme=dark] .colab-df-convert {\n",
              "      background-color: #3B4455;\n",
              "      fill: #D2E3FC;\n",
              "    }\n",
              "\n",
              "    [theme=dark] .colab-df-convert:hover {\n",
              "      background-color: #434B5C;\n",
              "      box-shadow: 0px 1px 3px 1px rgba(0, 0, 0, 0.15);\n",
              "      filter: drop-shadow(0px 1px 2px rgba(0, 0, 0, 0.3));\n",
              "      fill: #FFFFFF;\n",
              "    }\n",
              "  </style>\n",
              "\n",
              "      <script>\n",
              "        const buttonEl =\n",
              "          document.querySelector('#df-f8205ea6-b0b6-4a22-addc-089732913f87 button.colab-df-convert');\n",
              "        buttonEl.style.display =\n",
              "          google.colab.kernel.accessAllowed ? 'block' : 'none';\n",
              "\n",
              "        async function convertToInteractive(key) {\n",
              "          const element = document.querySelector('#df-f8205ea6-b0b6-4a22-addc-089732913f87');\n",
              "          const dataTable =\n",
              "            await google.colab.kernel.invokeFunction('convertToInteractive',\n",
              "                                                     [key], {});\n",
              "          if (!dataTable) return;\n",
              "\n",
              "          const docLinkHtml = 'Like what you see? Visit the ' +\n",
              "            '<a target=\"_blank\" href=https://colab.research.google.com/notebooks/data_table.ipynb>data table notebook</a>'\n",
              "            + ' to learn more about interactive tables.';\n",
              "          element.innerHTML = '';\n",
              "          dataTable['output_type'] = 'display_data';\n",
              "          await google.colab.output.renderOutput(dataTable, element);\n",
              "          const docLink = document.createElement('div');\n",
              "          docLink.innerHTML = docLinkHtml;\n",
              "          element.appendChild(docLink);\n",
              "        }\n",
              "      </script>\n",
              "    </div>\n",
              "  </div>\n"
            ]
          },
          "metadata": {},
          "execution_count": 53
        }
      ]
    },
    {
      "cell_type": "code",
      "source": [
        "emp_df.to_csv('지역산업연관표_3부문_3지역_취업자수.csv', encoding=\"utf-8-sig\")"
      ],
      "metadata": {
        "id": "wMhm3gaK3amM"
      },
      "execution_count": null,
      "outputs": []
    },
    {
      "cell_type": "code",
      "source": [],
      "metadata": {
        "id": "2q1KOipcEkeU"
      },
      "execution_count": null,
      "outputs": []
    }
  ]
}